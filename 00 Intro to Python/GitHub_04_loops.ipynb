{
  "cells": [
    {
      "cell_type": "markdown",
      "metadata": {
        "id": "QULY5UK0RNyg"
      },
      "source": [
        "\n",
        "------\n",
        "\n",
        "# Loops\n",
        "\n",
        "\n",
        "\n",
        "\n",
        "\n",
        "### Table of Contents\n",
        "\n",
        "1 - [For Loops](#section1) <br>\n",
        "\n",
        "2 - [While Loops](#section2)<br>\n",
        "\n",
        "3 - [Nested Loops](#section3)<br>\n",
        "\n",
        "4 - [Bonus! List Comprehensions](#section4)<br>\n",
        "\n"
      ]
    },
    {
      "cell_type": "markdown",
      "metadata": {
        "id": "n8xwC58-Zik0"
      },
      "source": [
        "Before we start this notebook, similar to previous notebooks, we will have to run some code at the beginning to make sure everything is set up correctly. Please run the cells below."
      ]
    },
    {
      "cell_type": "code",
      "execution_count": null,
      "metadata": {
        "id": "CUf-ma0hZik2"
      },
      "outputs": [],
      "source": [
        "# RUN THIS CELL;\n",
        "\n",
        "###DO NOT MODIFY###\n",
        "\n",
        "import math\n",
        "from matplotlib import pyplot as plt\n",
        "\n",
        "# Initialize Otter\n",
        "import otter\n",
        "grader = otter.Notebook(tests_dir=\"tests/04_intro_to_python\")"
      ]
    },
    {
      "cell_type": "markdown",
      "metadata": {
        "id": "Ifx4P63qRNyt"
      },
      "source": [
        "What are loops useful for?\n",
        "- Sometimes we want to perform some operation on a list but doing it on each element individually can be very tedious!\n",
        "- A loop goes through a collection of data types and **executes** some state statement **for each value** in that collection of data.\n",
        "- Examples of data types are: list, array, characters string, dictionary, and other collections"
      ]
    },
    {
      "cell_type": "markdown",
      "metadata": {
        "id": "Tf8bisbsRNyt"
      },
      "source": [
        "---\n",
        "## For  Loops <a name='section1'></a>"
      ]
    },
    {
      "cell_type": "markdown",
      "metadata": {
        "id": "gsLwtD8BRNyu"
      },
      "source": [
        "Syntax:\n",
        "\n",
        "```python\n",
        "for var in iterable:\n",
        "    statement\n",
        "    statement\n",
        "```\n",
        "\n",
        "    \n",
        "* `var` - it takes items from iterable one by one.\n",
        "* `iterable` - it's a collection of objects.\n",
        "* indentation - loop body MUST be indented.\n",
        "* loop body - first two statements\n"
      ]
    },
    {
      "cell_type": "code",
      "execution_count": null,
      "metadata": {
        "id": "hZB-q1-kRNyu"
      },
      "outputs": [],
      "source": [
        "# EXAMPLE\n",
        "\n",
        "greeting = 'Hello'\n",
        "\n",
        "# to print each letter in greeting without using loop\n",
        "\n",
        "print(greeting[0])\n",
        "print(greeting[1])\n",
        "print(greeting[2])\n",
        "print(greeting[3])\n",
        "print(greeting[4])"
      ]
    },
    {
      "cell_type": "code",
      "execution_count": null,
      "metadata": {
        "id": "_8NoHYUWZik4"
      },
      "outputs": [],
      "source": [
        "# EXAMPLE\n",
        "\n",
        "greeting = 'Hello'\n",
        "\n",
        "# here we are using the for loop\n",
        "\n",
        "for letter in greeting:\n",
        "    print(letter)"
      ]
    },
    {
      "cell_type": "markdown",
      "metadata": {
        "id": "QgVlxCSWZik4"
      },
      "source": [
        "The for loop helps us write the code in a simpler way with less code we can iterate over. This minimizes confusion, reduces lines of code, and runs faster."
      ]
    },
    {
      "cell_type": "code",
      "execution_count": null,
      "metadata": {
        "id": "kYgFdoADZik4"
      },
      "outputs": [],
      "source": [
        "# EXAMPLE\n",
        "\n",
        "# square each value in the list\n",
        "\n",
        "for x in [1,2,3]:\n",
        "    print(\"x is \", x)\n",
        "    print(\"x**2 is \", x**2)\n"
      ]
    },
    {
      "cell_type": "markdown",
      "metadata": {
        "id": "gF-MZhFAWlPz"
      },
      "source": [
        "Using a for loop, print each item in the list. You should see the following if you do it right:\n",
        "```\n",
        "1\n",
        "2.0\n",
        "hi!\n",
        "```"
      ]
    },
    {
      "cell_type": "code",
      "execution_count": null,
      "metadata": {
        "id": "Ooy2XzM-RNyu"
      },
      "outputs": [],
      "source": [
        "# EXCERCISE\n",
        "\n",
        "# print each item in the list.\n",
        "# recall that the elements in the list do not have to have the same type\n",
        "\n",
        "for ... in [1, 2.0, \"hi!\"]:\n",
        "    print(...)"
      ]
    },
    {
      "cell_type": "markdown",
      "metadata": {
        "id": "S74nDZMJRNyu"
      },
      "source": [
        "Create a for-loop that multiplies every number in the `numbers` by 3, and puts it into `output_list`."
      ]
    },
    {
      "cell_type": "code",
      "execution_count": null,
      "metadata": {
        "deletable": false,
        "editable": false,
        "id": "ECWZ6WCKRNyu"
      },
      "outputs": [],
      "source": [
        "# EXERCISE\n",
        "\n",
        "numbers = [1, 5, 7, 0]"
      ]
    },
    {
      "cell_type": "code",
      "execution_count": null,
      "metadata": {
        "id": "y55IcyGBh0K8",
        "tags": [
          "otter_answer_cell"
        ]
      },
      "outputs": [],
      "source": [
        "output_list = []\n",
        "...\n",
        "    # Put 3x each number into output_list\n",
        "    ..."
      ]
    },
    {
      "cell_type": "code",
      "execution_count": null,
      "metadata": {
        "deletable": false,
        "editable": false,
        "id": "9QO8imKFh0K8"
      },
      "outputs": [],
      "source": [
        "grader.check(\"q1\")"
      ]
    },
    {
      "cell_type": "markdown",
      "metadata": {
        "id": "rPfvDn35Zik5"
      },
      "source": [
        "For loops can use range functions instead of a pre-defined list:"
      ]
    },
    {
      "cell_type": "code",
      "execution_count": null,
      "metadata": {
        "id": "H01a7AbiZik5"
      },
      "outputs": [],
      "source": [
        "# EXAMPLE\n",
        "print(list(range(5)))"
      ]
    },
    {
      "cell_type": "code",
      "execution_count": null,
      "metadata": {
        "id": "aneieb1xRNyu"
      },
      "outputs": [],
      "source": [
        "# EXAMPLE\n",
        "for i in range(5):\n",
        "    print(i)"
      ]
    },
    {
      "cell_type": "code",
      "execution_count": null,
      "metadata": {
        "id": "8t5y98lbZik5"
      },
      "outputs": [],
      "source": [
        "# EXAMPLE\n",
        "# Let's look at the difference between using range and a list\n",
        "\n",
        "numbers = [1, 5, 7, 0]\n",
        "\n",
        "for i in range(len(numbers)):\n",
        "    print (i)\n",
        "\n",
        "# This version loops the numbers 0 - m\n",
        "# where m is the length of the list numbers.\n",
        "\n",
        "# This can be helpful when you need to know which index you are at\n",
        "# in the loop"
      ]
    },
    {
      "cell_type": "markdown",
      "metadata": {
        "id": "cKLfhY5Eh0K-"
      },
      "source": [
        "Can you use a for loop and `range()` to print the numbers 2 through 8?"
      ]
    },
    {
      "cell_type": "code",
      "execution_count": null,
      "metadata": {
        "id": "pntDjzPlh0K-"
      },
      "outputs": [],
      "source": [
        "# EXERCISE\n",
        "\n",
        "for ...:\n",
        "    print(...)"
      ]
    },
    {
      "cell_type": "markdown",
      "metadata": {
        "id": "ngk86eTbh0K-"
      },
      "source": [
        "The `enumerate` function takes something like a `list` or `range` and provides an index number together with each value."
      ]
    },
    {
      "cell_type": "code",
      "execution_count": null,
      "metadata": {
        "id": "tCnJ1OthZik6"
      },
      "outputs": [],
      "source": [
        "# EXAMPLE\n",
        "\n",
        "for i, j in enumerate(numbers):\n",
        "    print( 'i is ', i, ' and j is ', j)"
      ]
    },
    {
      "cell_type": "markdown",
      "metadata": {
        "id": "IYscthU2h0K-"
      },
      "source": [
        "Can you print the even numbers from 2 through 8, using a for loop? If you do it right, you should see:\n",
        "\n",
        "```\n",
        "2\n",
        "4\n",
        "6\n",
        "8\n",
        "```"
      ]
    },
    {
      "cell_type": "code",
      "execution_count": null,
      "metadata": {
        "id": "swYhSWrbZik6"
      },
      "outputs": [],
      "source": [
        "# EXERCISE\n",
        "\n",
        "for ...:\n",
        "    print(...)"
      ]
    },
    {
      "cell_type": "code",
      "execution_count": null,
      "metadata": {
        "id": "IVAztdsGRNyu"
      },
      "outputs": [],
      "source": [
        "# EXAMPLE\n",
        "\n",
        "# calculate the area for circles with different radius\n",
        "\n",
        "radiuses = [1, 3, 5, 7, 9]\n",
        "\n",
        "for radius in radiuses:\n",
        "    area = math.pi*radius**2\n",
        "    print(area)"
      ]
    },
    {
      "cell_type": "markdown",
      "metadata": {
        "id": "iTk0Cnr5h0K_"
      },
      "source": [
        "Can you use a for loop, and what you know about lists, to fill out list of volumes for spheres of each radius? Create a for loop that calculates the volume for a sphere of each radius in `radiuses`, and puts it into the list `volumes`."
      ]
    },
    {
      "cell_type": "code",
      "execution_count": null,
      "metadata": {
        "deletable": false,
        "editable": false,
        "id": "JNwQZ1heZik6"
      },
      "outputs": [],
      "source": [
        "# EXERCISE\n",
        "radiuses = [1, 3, 5, 7, 9]"
      ]
    },
    {
      "cell_type": "code",
      "execution_count": null,
      "metadata": {
        "id": "d6S7lqFQh0LA",
        "tags": [
          "otter_answer_cell"
        ]
      },
      "outputs": [],
      "source": [
        "volumes = []\n",
        "\n",
        "...\n",
        "    # Use math.pi as π in your equations\n",
        "    volume = ...\n",
        "    # Add your volume to the list of volumes\n",
        "    ..."
      ]
    },
    {
      "cell_type": "code",
      "execution_count": null,
      "metadata": {
        "deletable": false,
        "editable": false,
        "id": "QW8OVqF0h0LA"
      },
      "outputs": [],
      "source": [
        "grader.check(\"q2\")"
      ]
    },
    {
      "cell_type": "code",
      "execution_count": null,
      "metadata": {
        "id": "kuQIFF8kZik6"
      },
      "outputs": [],
      "source": [
        "# EXAMPLE\n",
        "# Let us see an example that uses our knowledge of lists, conditional statements, and loops\n",
        "\n",
        "# print the colors stored in an array\n",
        "color = [\"green\", \"pink\", \"red\"]\n",
        "for c in color:\n",
        "    if c == \"pink\":\n",
        "        print (c + \" is my favorite color\")"
      ]
    },
    {
      "cell_type": "markdown",
      "metadata": {
        "id": "yvMivTpsZik7"
      },
      "source": [
        "Why did the colors **red** and **green** not print?\n",
        "\n",
        "In the next cell, can you use the same loop from above, but only print a color if it contains the letter \"e\"? You should see:\n",
        "\n",
        "```\n",
        "green\n",
        "red\n",
        "```"
      ]
    },
    {
      "cell_type": "code",
      "execution_count": null,
      "metadata": {
        "id": "z9lvPz9dRNyv"
      },
      "outputs": [],
      "source": [
        "# EXERCISE (HINT: you can check for a letter in a string using the command in (\"g\" in green) = True )\n",
        "\n",
        "#Print only colors that have the letter 'e'\n",
        "color = [\"green\", \"pink\", \"red\"]\n",
        "for ...:\n",
        "    if ...:\n",
        "        print(...)"
      ]
    },
    {
      "cell_type": "code",
      "execution_count": null,
      "metadata": {
        "id": "1Ez2ixPSZik8"
      },
      "outputs": [],
      "source": [
        "# EXAMPLE\n",
        "# Say you want to model the path of a projectile shot into the air,\n",
        "# You can figure that out using the formula x_n = x_0 + v*t + a/2 *t^2.\n",
        "\n",
        "#First we create a list for the times:\n",
        "ts = list(range(22)) # t has the values 0 - 21.\n",
        "\n",
        "# We need to initialize a list so that we have somewhere to store the values.\n",
        "xs = []\n",
        "\n",
        "x_0 = 0 # initial position\n",
        "v = 200 # velocity\n",
        "\n",
        "a = -9.8 # gravitational acceleration\n",
        "\n",
        "for t in ts:\n",
        "    xs += [x_0 + v*t + a/2*t**2]\n",
        "\n",
        "#print(ts)\n",
        "print(xs)"
      ]
    },
    {
      "cell_type": "code",
      "execution_count": null,
      "metadata": {
        "id": "OXNDfH_LZik8"
      },
      "outputs": [],
      "source": [
        "# you haven't learned how to plot things yet, but here is what a plot would look like\n",
        "\n",
        "plt.plot(ts, xs)\n",
        "plt.ylabel('x (m)')\n",
        "plt.xlabel('t (s)')"
      ]
    },
    {
      "cell_type": "markdown",
      "metadata": {
        "id": "FbWv0f-MZik8"
      },
      "source": [
        "#### Using for loops to find averages"
      ]
    },
    {
      "cell_type": "markdown",
      "metadata": {
        "id": "1uMY5eR9Zik8"
      },
      "source": [
        "Many built in functions implement for loops behind the scences. For example,\n",
        "the sum and len functions are actually implementing a for loop."
      ]
    },
    {
      "cell_type": "code",
      "execution_count": null,
      "metadata": {
        "id": "WlsP4EbXZik8"
      },
      "outputs": [],
      "source": [
        "# EXAMPLE - using built in functions\n",
        "\n",
        "numbers = [0,1,3,4,7,4,0,3,5,1]\n",
        "\n",
        "mean1 = sum(numbers)/len(numbers)\n",
        "print(mean1)\n"
      ]
    },
    {
      "cell_type": "code",
      "execution_count": null,
      "metadata": {
        "id": "X5oj9NSXZik8"
      },
      "outputs": [],
      "source": [
        "# Using for loops\n",
        "\n",
        "sum2 = 0 # You have to initialize the value as zero, we will add stuff to it in the loop\n",
        "for i in numbers:\n",
        "    sum2 += i\n",
        "    print('cumulative sum: ', sum2)\n",
        "\n",
        "mean2 =sum2/len(numbers)\n",
        "print('mean is ', mean2)\n",
        "\n",
        "# Using this method you only need to save one value, sum2 and you update it on every iteration"
      ]
    },
    {
      "cell_type": "markdown",
      "metadata": {
        "id": "PvTQ8Ld8RNyv"
      },
      "source": [
        "---\n",
        "## While Loops  <a name='section2'></a>"
      ]
    },
    {
      "cell_type": "markdown",
      "metadata": {
        "id": "qZgpDrTmRNyv"
      },
      "source": [
        "Syntax:\n",
        "\n",
        "```python\n",
        "while condition:\n",
        "    statement\n",
        "    statement\n",
        "\n",
        "else:\n",
        "    statement\n",
        "```\n",
        "\n",
        "    \n",
        "* `condition` - any expression that evaluates to true or false (so, our conditionals!)\n",
        "* loop body - first and second statements. They are executed as long as (`while`) the condition is true.\n",
        "* `else` clause - it is executed if the condition becomes false\n",
        "* indentation - loop body must be indented."
      ]
    },
    {
      "cell_type": "code",
      "execution_count": null,
      "metadata": {
        "id": "9hKmvAfKRNyw"
      },
      "outputs": [],
      "source": [
        "# EXAMPLE\n",
        "\n",
        "# Iterate until x becomes 0\n",
        "\n",
        "x = 10\n",
        "while x > 0:\n",
        "    print(x)\n",
        "    x = x-2"
      ]
    },
    {
      "cell_type": "code",
      "execution_count": null,
      "metadata": {
        "id": "zeKFGPDrRNyw"
      },
      "outputs": [],
      "source": [
        "# EXAMPLE\n",
        "\n",
        "x = 10\n",
        "while x > 0:\n",
        "    print(x)\n",
        "    x = x - 1\n",
        "else:\n",
        "    print('Done with my countdown!')"
      ]
    },
    {
      "cell_type": "code",
      "execution_count": null,
      "metadata": {
        "id": "4AbFHb5ZRNyw"
      },
      "outputs": [],
      "source": [
        "#EXAMPLE\n",
        "\n",
        "#Add the first 5 natural numbers using the while loop.\n",
        "\n",
        "n = 5  # upper limit\n",
        "sum_of_natural_numbers = 0 #initialize the variable for sum\n",
        "i = 1\n",
        "while i <= n:\n",
        "    sum_of_natural_numbers = sum_of_natural_numbers + i\n",
        "    i += 1     #increment the counter\n",
        "# print the sum\n",
        "print(\"the sum :\",  sum_of_natural_numbers)"
      ]
    },
    {
      "cell_type": "markdown",
      "metadata": {
        "id": "I8Q-f00Jh0LS"
      },
      "source": [
        "In the next cell, we use a `while` loop to keep adding values to a list, and only stop when it's gotten to a certain size."
      ]
    },
    {
      "cell_type": "code",
      "execution_count": null,
      "metadata": {
        "id": "mYZIkFWlZik9"
      },
      "outputs": [],
      "source": [
        "my_list = []\n",
        "stop_size = 3\n",
        "\n",
        "i = 1\n",
        "while len(my_list) <= stop_size:\n",
        "    my_list.append(i)\n",
        "    i += 1\n",
        "\n",
        "print(my_list)"
      ]
    },
    {
      "cell_type": "markdown",
      "metadata": {
        "id": "kJSz7l_Qh0LS"
      },
      "source": [
        "`stop_size` is 3, but the list has 4 entries - why is this?"
      ]
    },
    {
      "cell_type": "markdown",
      "metadata": {
        "deletable": false,
        "editable": false,
        "id": "vbOcAg2LZilC"
      },
      "source": [
        "Let's get more practice with while loops. Can you use a while loop to fill out a list of the squares of the first 4 even numbers (starting with 2)? (Hint: you can use the modulus (%) operator to see if it's even)."
      ]
    },
    {
      "cell_type": "code",
      "execution_count": null,
      "metadata": {
        "id": "j11vWFxoh0LT",
        "tags": [
          "otter_answer_cell"
        ]
      },
      "outputs": [],
      "source": [
        "squares = []\n",
        "stop_size = ...\n",
        "\n",
        "i = 1\n",
        "# While each number is less than the stop size...\n",
        "...\n",
        "  # If it's even...\n",
        "  ...\n",
        "    # Add the squared even number to your list of squares\n",
        "    ...\n",
        "\n",
        "  i += 1\n"
      ]
    },
    {
      "cell_type": "code",
      "execution_count": null,
      "metadata": {
        "deletable": false,
        "editable": false,
        "id": "L8DvAvZPh0LT"
      },
      "outputs": [],
      "source": [
        "grader.check(\"q3\")"
      ]
    },
    {
      "cell_type": "markdown",
      "metadata": {
        "id": "BduogspbZilC"
      },
      "source": [
        "For the below exercise, print each letter of a word of your choice.\n",
        "\n",
        "*Hint: Remember that each letter of a string can be accessed with an index (similar to a list):*"
      ]
    },
    {
      "cell_type": "code",
      "execution_count": null,
      "metadata": {
        "id": "3Il2oQ9hZilC"
      },
      "outputs": [],
      "source": [
        "example_word = \"cat\"\n",
        "\n",
        "print(example_word[0])\n",
        "print(example_word[1])\n",
        "print(example_word[2])"
      ]
    },
    {
      "cell_type": "code",
      "execution_count": null,
      "metadata": {
        "id": "Lx0n46xDZilC"
      },
      "outputs": [],
      "source": [
        "#EXERCISE\n",
        "\n",
        "#Print each letter of a word of your choice\n",
        "\n",
        "word = \"your_choice\"\n",
        "\n",
        "x = 0\n",
        "while x < ...: #Hint: What built-in Python function gives you the length of a string?\n",
        "    print(...)\n",
        "\n",
        "    ... #Don't forget to update x!"
      ]
    },
    {
      "cell_type": "markdown",
      "metadata": {
        "id": "sIlVn-4jUUBc"
      },
      "source": [
        "---\n",
        "## 3. Nested Loops  <a name='section3'></a>"
      ]
    },
    {
      "cell_type": "markdown",
      "metadata": {
        "id": "2cSiDncRHifx"
      },
      "source": [
        "Nested loops are used when you want to repeat code multiple times and get all combinations of two iterables. Note that the inside loop iterates completely for each variable in your outside loop."
      ]
    },
    {
      "cell_type": "code",
      "execution_count": null,
      "metadata": {
        "id": "f5wXqLq6UUBd"
      },
      "outputs": [],
      "source": [
        "# EXAMPLE\n",
        "\n",
        "# Let's say I wanted all combinations of the range of numbers from 0 through 5 (inclusive)\n",
        "#and the range of numbers from 0 through 10 (inclusive)\n",
        "\n",
        "for i in range(6): #this is my outer loop\n",
        "  for j in range(11): #this is my inner loop\n",
        "    print(i,j)"
      ]
    },
    {
      "cell_type": "markdown",
      "metadata": {
        "id": "cjAWHvaBUUBd"
      },
      "source": [
        "Use a **nested loop** to complete this exercise:\n",
        "\n",
        "Using the ice cream flavors and toppings given below, create a list called `icecream_options` containing all possible combinations of a single flavor and single topping. **Make each entry in the list a list of the form `[<flavor>, <topping>]`**."
      ]
    },
    {
      "cell_type": "code",
      "execution_count": null,
      "metadata": {
        "deletable": false,
        "editable": false,
        "id": "9WUm9V2Zh0LX"
      },
      "outputs": [],
      "source": [
        "flavors = [\"chocolate crunch\", \"vanilla\", \"strawberry\", \"caramel swirl\", \"honey lavender\"]\n",
        "\n",
        "toppings = [\"sprinkles\", \"oreo crumbles\", \"cookie dough\", \"caramel\", \"chocolate syrup\"]"
      ]
    },
    {
      "cell_type": "code",
      "execution_count": null,
      "metadata": {
        "id": "KkKBIoiYUUBd",
        "tags": [
          "otter_answer_cell"
        ]
      },
      "outputs": [],
      "source": [
        "icecream_options = []\n",
        "\n",
        "...\n",
        "  ...\n",
        "    ..."
      ]
    },
    {
      "cell_type": "code",
      "execution_count": null,
      "metadata": {
        "deletable": false,
        "editable": false,
        "id": "jS3y8PZ3h0LX"
      },
      "outputs": [],
      "source": [
        "grader.check(\"q4\")"
      ]
    },
    {
      "cell_type": "markdown",
      "metadata": {
        "id": "vdFOvaFrUUBd"
      },
      "source": [
        "**Challenge Question:** In this question, use a nested loop to get an average of all of the grades in all classes."
      ]
    },
    {
      "cell_type": "code",
      "execution_count": null,
      "metadata": {
        "deletable": false,
        "editable": false,
        "id": "yt3SA1dgUUBd"
      },
      "outputs": [],
      "source": [
        "\n",
        "classes=[\n",
        "    {\"course_title\": \"AP Art History\",\n",
        "     \"grades\": [80, 86, 92, 99, 100]},\n",
        "    {\"course_title\": \"Calculus\",\n",
        "     \"grades\": [82, 87, 89, 95, 96]},\n",
        "    {\"course_title\": \"Biology\",\n",
        "     \"grades\": [78, 81, 88, 94, 99]},\n",
        "    {\"course_title\": \"Chemistry\",\n",
        "     \"grades\":[77, 80, 81, 87, 96]}\n",
        "]"
      ]
    },
    {
      "cell_type": "code",
      "execution_count": null,
      "metadata": {
        "id": "3qzTDwK6h0LX",
        "tags": [
          "otter_answer_cell"
        ]
      },
      "outputs": [],
      "source": [
        "sum_of_grades=0\n",
        "number_of_grades=0\n",
        "\n",
        "...\n",
        "  ...\n",
        "    ...\n",
        "    ...\n",
        "\n",
        "average_of_all_grades = ...\n",
        "average_of_all_grades"
      ]
    },
    {
      "cell_type": "code",
      "execution_count": null,
      "metadata": {
        "deletable": false,
        "editable": false,
        "id": "DpfcYGFsh0LY"
      },
      "outputs": [],
      "source": [
        "grader.check(\"q5\")"
      ]
    },
    {
      "cell_type": "markdown",
      "metadata": {
        "id": "X5suFgafbFRp"
      },
      "source": [
        "---\n",
        "## 4. Bonus! List Comprehensions  <a name='section4'></a>"
      ]
    },
    {
      "cell_type": "markdown",
      "metadata": {
        "id": "tgA2tsAkbNMq"
      },
      "source": [
        "If you have finished the notebook early, try out these questions on list comprehensions. List comprehensions can be very useful as they accomplish the same goals as a for loop in just one line of code. There are extra slides in the loops powerpoint presentation to assist you in answering these questions if you need help or want to see more practice problems."
      ]
    },
    {
      "cell_type": "markdown",
      "metadata": {
        "id": "MBFDlDDpbFRq"
      },
      "source": [
        "Syntax:\n",
        "```python\n",
        "my_list=[expression for item in iterable if condition == True]\n",
        "```\n",
        "    \n",
        "* Your expression could be something like x or x**3   \n",
        "* Your \"for\" statement could be something along the lines of for x in range(10)\n",
        "* Your conditional statement will involve comparison operators such as >, <, ==, !=, >=, <=\n"
      ]
    },
    {
      "cell_type": "code",
      "execution_count": null,
      "metadata": {
        "id": "rogUE450bFRr"
      },
      "outputs": [],
      "source": [
        "# EXAMPLE\n",
        "\n",
        "# Let's say I want a list of only the even numbers from 0-10 (inclusive)\n",
        "\n",
        "even_list=[x for x in range(11) if x%2 == 0]\n",
        "\n",
        "print(even_list)\n"
      ]
    },
    {
      "cell_type": "markdown",
      "metadata": {
        "deletable": false,
        "editable": false,
        "id": "Fz0W5uuJbFRs"
      },
      "source": [
        "Use **list comprehensions** to create a list of the names of the instructors that have the letter A in their name (upper or lower case). **Remember** that python treats \"A\" and \"a\" differently! We want names with either."
      ]
    },
    {
      "cell_type": "code",
      "execution_count": null,
      "metadata": {
        "deletable": false,
        "editable": false,
        "id": "Gn9GNw1oh0LZ"
      },
      "outputs": [],
      "source": [
        "instructors = [\"Ernesto\", \"Kirk\", \"Sage\", \"Samantha\", \"Ashley\", \"David\", \"Jamie\"]"
      ]
    },
    {
      "cell_type": "code",
      "execution_count": null,
      "metadata": {
        "id": "0n_khX_JbFRs",
        "tags": [
          "otter_answer_cell"
        ]
      },
      "outputs": [],
      "source": [
        "a_names = ...\n",
        "\n",
        "print(a_names)"
      ]
    },
    {
      "cell_type": "code",
      "execution_count": null,
      "metadata": {
        "deletable": false,
        "editable": false,
        "id": "9jkP5OCuh0La"
      },
      "outputs": [],
      "source": [
        "grader.check(\"q6\")"
      ]
    },
    {
      "cell_type": "markdown",
      "metadata": {
        "id": "Rsr4q4jjbFRs"
      },
      "source": [
        "In the next question, use **list comprehensions** to create a list of the squares of the odd integers in the range 0-25. **Hint:** Is the range function inclusive or exclusive?"
      ]
    },
    {
      "cell_type": "code",
      "execution_count": null,
      "metadata": {
        "id": "90rVcQrsbFRs",
        "tags": [
          "otter_answer_cell"
        ]
      },
      "outputs": [],
      "source": [
        "odd_squared_values = ...\n",
        "\n",
        "print(odd_squared_values)\n"
      ]
    },
    {
      "cell_type": "code",
      "execution_count": null,
      "metadata": {
        "deletable": false,
        "editable": false,
        "id": "BMDI1WFzh0Lb"
      },
      "outputs": [],
      "source": [
        "grader.check(\"q7\")"
      ]
    },
    {
      "cell_type": "markdown",
      "metadata": {
        "id": "OykYDUumh26M"
      },
      "source": [
        "---\n",
        "Notebook developed by: Kseniya Usovich, Rachel McCarty, Baishakhi Bose, Alisa Bettale, Laurel Hales, Arianna Formenti, Sage Miller, Evan Neill"
      ]
    }
  ],
  "metadata": {
    "anaconda-cloud": {},
    "colab": {
      "provenance": []
    },
    "kernelspec": {
      "display_name": ".venv",
      "language": "python",
      "name": "python3"
    },
    "language_info": {
      "codemirror_mode": {
        "name": "ipython",
        "version": 3
      },
      "file_extension": ".py",
      "mimetype": "text/x-python",
      "name": "python",
      "nbconvert_exporter": "python",
      "pygments_lexer": "ipython3",
      "version": "3.11.1"
    },
    "vscode": {
      "interpreter": {
        "hash": "1de2c9b99b67c74942ae62ba9f4273989cfcd06b191aeb61677ac908252bed7d"
      }
    }
  },
  "nbformat": 4,
  "nbformat_minor": 0
}
