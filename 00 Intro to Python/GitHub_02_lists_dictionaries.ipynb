{
  "cells": [
    {
      "cell_type": "markdown",
      "id": "e030dffa",
      "metadata": {
        "id": "e030dffa"
      },
      "source": [
        "\n",
        "------\n",
        "\n",
        "# Lists, Dictionaries\n",
        "\n",
        "\n",
        "### Table of Contents\n",
        "\n",
        "\n",
        "1 - [Lists](#section1)<br>\n",
        "\n",
        "&nbsp;&nbsp;&nbsp;&nbsp;&nbsp;&nbsp; 1.1 - [List Iteration and Slicing `[ : ]`](#subsection1)<br>\n",
        "\n",
        "&nbsp;&nbsp;&nbsp;&nbsp;&nbsp;&nbsp; 1.2 - [Adding Elements](#subsection2)<br>\n",
        "\n",
        "&nbsp;&nbsp;&nbsp;&nbsp;&nbsp;&nbsp; 1.3 - [Deleting Elements](#subsection3)<br>\n",
        "\n",
        "&nbsp;&nbsp;&nbsp;&nbsp;&nbsp;&nbsp; 1.4 - [Length of a list](#subsection4)<br>\n",
        "\n",
        "&nbsp;&nbsp;&nbsp;&nbsp;&nbsp;&nbsp; 1.5 - [Operations on a list](#subsection5)<br>\n",
        "\n",
        "2 - [Dictionaries](#section2)<br>\n",
        "\n"
      ]
    },
    {
      "cell_type": "markdown",
      "id": "2de1a7a1",
      "metadata": {
        "id": "2de1a7a1"
      },
      "source": [
        "Before we start this notebook, similar to our previous notebook, we will have to run some code at the beginning to make sure everything is set up correctly. Please run the cells below."
      ]
    },
    {
      "cell_type": "code",
      "execution_count": null,
      "id": "1787f370",
      "metadata": {
        "id": "1787f370"
      },
      "outputs": [],
      "source": [
        "# RUN THIS CELL;\n",
        "\n",
        "###DO NOT MODIFY###\n",
        "\n",
        "# Initialize Otter\n",
        "import otter\n",
        "grader = otter.Notebook(tests_dir=\"tests/02_intro_to_python\")"
      ]
    },
    {
      "cell_type": "markdown",
      "id": "0d4b1b16",
      "metadata": {
        "id": "0d4b1b16"
      },
      "source": [
        "---\n",
        "## Lists<a name='section1'></a>"
      ]
    },
    {
      "cell_type": "markdown",
      "id": "e5ffb0b8",
      "metadata": {
        "id": "e5ffb0b8"
      },
      "source": [
        "List is a data structure that allows you to save multiple objects. In comparison with strings, lists can contain different data types/objects. Strings can only store textual data."
      ]
    },
    {
      "cell_type": "code",
      "execution_count": null,
      "id": "61eeea21",
      "metadata": {
        "id": "61eeea21"
      },
      "outputs": [],
      "source": [
        "# EXAMPLE\n",
        "\n",
        "new_lst = [2, \"name\", 3, \"berkeley\"]\n",
        "new_lst"
      ]
    },
    {
      "cell_type": "code",
      "execution_count": null,
      "id": "dbd8d502",
      "metadata": {
        "id": "dbd8d502"
      },
      "outputs": [],
      "source": [
        "# here's how you can create an empty list\n",
        "\n",
        "empty_lst = []\n",
        "empty_lst"
      ]
    },
    {
      "cell_type": "markdown",
      "id": "55bf26b0",
      "metadata": {
        "id": "55bf26b0"
      },
      "source": [
        "Discussion: Why would you want to have an empty list?"
      ]
    },
    {
      "cell_type": "markdown",
      "id": "6a769c69",
      "metadata": {
        "id": "6a769c69"
      },
      "source": [
        "Don't ever call your list \"list\". This is a reserved name for a function in Python."
      ]
    },
    {
      "cell_type": "code",
      "execution_count": null,
      "id": "39c992e3",
      "metadata": {
        "id": "39c992e3",
        "scrolled": true
      },
      "outputs": [],
      "source": [
        "list"
      ]
    },
    {
      "cell_type": "markdown",
      "id": "f0c39875",
      "metadata": {
        "id": "f0c39875"
      },
      "source": [
        "Let's see how we can use this function on a string. Save your name in the variable \"name\" first."
      ]
    },
    {
      "cell_type": "code",
      "execution_count": null,
      "id": "0a428afe",
      "metadata": {
        "id": "0a428afe"
      },
      "outputs": [],
      "source": [
        "# EXERCISE\n",
        "\n",
        "name = \"My Name\"\n",
        "\n",
        "list(name)"
      ]
    },
    {
      "cell_type": "markdown",
      "id": "87cfd973",
      "metadata": {
        "id": "87cfd973"
      },
      "source": [
        "Discuss: Looking at the above example, what do you think the `list` function is doing?"
      ]
    },
    {
      "cell_type": "markdown",
      "id": "9d029661",
      "metadata": {
        "id": "9d029661"
      },
      "source": [
        "Every value that is stored in the list has its \"address\", also known as its index position. By using the index position, we can get any particular value from the list.\n",
        "\n",
        "All index values start from 0. Python reads the list from left to right in default. If we want to call a value stored in a specific index position, we have to specify the index position with the variable name."
      ]
    },
    {
      "cell_type": "code",
      "execution_count": null,
      "id": "77b6fb3c",
      "metadata": {
        "id": "77b6fb3c"
      },
      "outputs": [],
      "source": [
        "# EXAMPLE\n",
        "\n",
        "teamColors = [\"Purple\", \"Blue\", \"Green\", \"Yellow\"]\n",
        "teamColors"
      ]
    },
    {
      "cell_type": "code",
      "execution_count": null,
      "id": "e9beb806",
      "metadata": {
        "id": "e9beb806"
      },
      "outputs": [],
      "source": [
        "teamColors[0]"
      ]
    },
    {
      "cell_type": "code",
      "execution_count": null,
      "id": "0787d6fb",
      "metadata": {
        "id": "0787d6fb",
        "tags": [
          "otter_answer_cell"
        ]
      },
      "outputs": [],
      "source": [
        "# EXERCISE\n",
        "\n",
        "#Grab \"Green\" from the teamColors list\n",
        "\n",
        "green_string = ...\n",
        "green_string"
      ]
    },
    {
      "cell_type": "code",
      "execution_count": null,
      "id": "ed49c181",
      "metadata": {
        "deletable": false,
        "editable": false,
        "id": "ed49c181"
      },
      "outputs": [],
      "source": [
        "grader.check(\"q1\")"
      ]
    },
    {
      "cell_type": "code",
      "execution_count": null,
      "id": "9faaee37",
      "metadata": {
        "id": "9faaee37",
        "tags": [
          "otter_answer_cell"
        ]
      },
      "outputs": [],
      "source": [
        "# EXERCISE\n",
        "\n",
        "#Grab \"Yellow\" from the teamColors list\n",
        "\n",
        "yellow_string = ...\n",
        "yellow_string"
      ]
    },
    {
      "cell_type": "code",
      "execution_count": null,
      "id": "091ffa96",
      "metadata": {
        "deletable": false,
        "editable": false,
        "id": "091ffa96"
      },
      "outputs": [],
      "source": [
        "grader.check(\"q2\")"
      ]
    },
    {
      "cell_type": "markdown",
      "id": "2344eefe",
      "metadata": {
        "id": "2344eefe"
      },
      "source": [
        "Another way we can use lists, is to store data that belong together. For example instead of having a variable `pos_x` and another `pos_y`, we can save them in a single list `position = [pos_y, pos_x]`"
      ]
    },
    {
      "cell_type": "code",
      "execution_count": null,
      "id": "1c9e0fd4",
      "metadata": {
        "id": "1c9e0fd4"
      },
      "outputs": [],
      "source": [
        "# EXAMPLE\n",
        "\n",
        "pos_x = 0\n",
        "pos_y = 1\n",
        "\n",
        "position = [pos_x, pos_y]\n",
        "position"
      ]
    },
    {
      "cell_type": "markdown",
      "id": "70b97fce",
      "metadata": {
        "id": "70b97fce"
      },
      "source": [
        "### 1.1 List Iteration and Slicing `[ : ]`<a name='subsection1'></a>"
      ]
    },
    {
      "cell_type": "code",
      "execution_count": null,
      "id": "2cdb1fec",
      "metadata": {
        "id": "2cdb1fec"
      },
      "outputs": [],
      "source": [
        "# Here we created a list of all of previous BLDAP apprentices.\n",
        "\n",
        "apprentices = ['Alejandro', 'Ananda', 'Angela', 'Christopher', 'Eric', \\\n",
        "               'Eric', 'Evelynn', 'Fernando', 'Gregory', 'Jason', 'Katherine', \\\n",
        "               'Klade', 'Naod', 'Pawandeep', 'Riley', 'Ryan', 'Sophie',\\\n",
        "              'Tammy', 'Timothy', 'Vivian', 'Vivian', 'Zena']\n",
        "print(apprentices)"
      ]
    },
    {
      "cell_type": "markdown",
      "id": "e56fe901",
      "metadata": {
        "id": "e56fe901"
      },
      "source": [
        "To iterate through the list, you can use square brackets with an index of an object you are interested in. Like so:"
      ]
    },
    {
      "cell_type": "code",
      "execution_count": null,
      "id": "61db5b36",
      "metadata": {
        "id": "61db5b36"
      },
      "outputs": [],
      "source": [
        "# remember that Python, like many programming languages, starts counting from 0.\n",
        "\n",
        "apprentices[3]"
      ]
    },
    {
      "cell_type": "markdown",
      "id": "483ee228",
      "metadata": {
        "id": "483ee228"
      },
      "source": [
        "Notice also that each component of the list separated by a comma is a single object, which is also a list. So the list inside of the list (meaning each single name) will be a single object. If you want to iterate through a list inside of the list, you will need to use the square brackets twice. Like we did here:"
      ]
    },
    {
      "cell_type": "code",
      "execution_count": null,
      "id": "bfac9c09",
      "metadata": {
        "id": "bfac9c09"
      },
      "outputs": [],
      "source": [
        "# EXAMPLE\n",
        "\n",
        "apprentices[3][0]"
      ]
    },
    {
      "cell_type": "markdown",
      "id": "01d1f0e9",
      "metadata": {
        "id": "01d1f0e9"
      },
      "source": [
        "You can also replace the objects in the list for example, if we want to replace people's full names with their nicknames:"
      ]
    },
    {
      "cell_type": "code",
      "execution_count": null,
      "id": "9a544b02",
      "metadata": {
        "id": "9a544b02"
      },
      "outputs": [],
      "source": [
        "# EXAMPLE\n",
        "\n",
        "apprentices[0] = \"Alejo\"\n",
        "\n",
        "apprentices"
      ]
    },
    {
      "cell_type": "code",
      "execution_count": null,
      "id": "22c759e2",
      "metadata": {
        "id": "22c759e2"
      },
      "outputs": [],
      "source": [
        "# EXAMPLE\n",
        "\n",
        "apprentices[3] = \"Chris\"\n",
        "\n",
        "apprentices"
      ]
    },
    {
      "cell_type": "code",
      "execution_count": null,
      "id": "5aaceee4",
      "metadata": {
        "id": "5aaceee4",
        "tags": [
          "otter_answer_cell"
        ]
      },
      "outputs": [],
      "source": [
        "# EXERCISE\n",
        "# Replace \"Riley\" with his nickname \"Nicho\"\n",
        "apprentices[14] = ...\n",
        "apprentices"
      ]
    },
    {
      "cell_type": "code",
      "execution_count": null,
      "id": "84efda85",
      "metadata": {
        "deletable": false,
        "editable": false,
        "id": "84efda85"
      },
      "outputs": [],
      "source": [
        "grader.check(\"q3\")"
      ]
    },
    {
      "cell_type": "markdown",
      "id": "1afd55f1",
      "metadata": {
        "id": "1afd55f1"
      },
      "source": [
        "To get more than one element from you list, use the syntax: `list[start:stop]`\n",
        "\n",
        "Remember that you will get elements up to index stop-1\n",
        "\n",
        "\n",
        "To demonstrate this it is helpful to use a list of numbers."
      ]
    },
    {
      "cell_type": "code",
      "execution_count": null,
      "id": "576d394f",
      "metadata": {
        "id": "576d394f"
      },
      "outputs": [],
      "source": [
        "# EXAMPLE\n",
        "\n",
        "myList = [0,1,2,3,4,5,6,7,8,9,10]\n",
        "print(myList)\n",
        "\n",
        "myList[0:2]"
      ]
    },
    {
      "cell_type": "markdown",
      "id": "abba37da",
      "metadata": {
        "id": "abba37da"
      },
      "source": [
        "It works the same with a list a strings."
      ]
    },
    {
      "cell_type": "code",
      "execution_count": null,
      "id": "fc5744d4",
      "metadata": {
        "id": "fc5744d4"
      },
      "outputs": [],
      "source": [
        "# EXAMPLE\n",
        "\n",
        "apprentices[0:2]"
      ]
    },
    {
      "cell_type": "markdown",
      "id": "92191394",
      "metadata": {
        "id": "92191394"
      },
      "source": [
        "You can also slice with steps - list[start:stop:step]\n",
        "\n",
        "Again, you will get elements up to index stop-1"
      ]
    },
    {
      "cell_type": "code",
      "execution_count": null,
      "id": "f4dbbbe8",
      "metadata": {
        "id": "f4dbbbe8"
      },
      "outputs": [],
      "source": [
        "# EXAMPLE\n",
        "print(myList)\n",
        "myList[0:8:2]"
      ]
    },
    {
      "cell_type": "code",
      "execution_count": null,
      "id": "8da33d26",
      "metadata": {
        "id": "8da33d26"
      },
      "outputs": [],
      "source": [
        "# EXAMPLE\n",
        "\n",
        "myList[0:7:2]"
      ]
    },
    {
      "cell_type": "markdown",
      "id": "14f3b997",
      "metadata": {
        "id": "14f3b997"
      },
      "source": [
        "Why do the two examples above produce produce the same result? Enter your thoughts here in this cell.\n",
        "\n",
        "\n",
        "..."
      ]
    },
    {
      "cell_type": "markdown",
      "id": "1ccbaf49",
      "metadata": {
        "id": "1ccbaf49"
      },
      "source": [
        "Think about what you expect the following example to produce before you run the next cell."
      ]
    },
    {
      "cell_type": "code",
      "execution_count": null,
      "id": "c5100a70",
      "metadata": {
        "id": "c5100a70"
      },
      "outputs": [],
      "source": [
        "# EXAMPLE\n",
        "\n",
        "myList[2:11:4]"
      ]
    },
    {
      "cell_type": "markdown",
      "id": "8ccc31a2",
      "metadata": {
        "id": "8ccc31a2"
      },
      "source": [
        "Before you run the next cell, predict it's result and write it here.\n",
        "\n",
        "..."
      ]
    },
    {
      "cell_type": "code",
      "execution_count": null,
      "id": "14d6e19f",
      "metadata": {
        "id": "14d6e19f"
      },
      "outputs": [],
      "source": [
        "apprentices[3:10:3]"
      ]
    },
    {
      "cell_type": "code",
      "execution_count": null,
      "id": "b86e8904",
      "metadata": {
        "id": "b86e8904",
        "tags": [
          "otter_answer_cell"
        ]
      },
      "outputs": [],
      "source": [
        "# EXERCISE\n",
        "# Use slicing to output all the even values in myList\n",
        "\n",
        "even_list = ...\n",
        "even_list"
      ]
    },
    {
      "cell_type": "code",
      "execution_count": null,
      "id": "3ab380f7",
      "metadata": {
        "deletable": false,
        "editable": false,
        "id": "3ab380f7"
      },
      "outputs": [],
      "source": [
        "grader.check(\"q4\")"
      ]
    },
    {
      "cell_type": "code",
      "execution_count": null,
      "id": "15843b04",
      "metadata": {
        "id": "15843b04",
        "tags": [
          "otter_answer_cell"
        ]
      },
      "outputs": [],
      "source": [
        "# EXERCISE\n",
        "# Use slicing to output the following values: [1, 5, 9]\n",
        "\n",
        "new_list = ...\n",
        "new_list"
      ]
    },
    {
      "cell_type": "code",
      "execution_count": null,
      "id": "4ff32003",
      "metadata": {
        "deletable": false,
        "editable": false,
        "id": "4ff32003"
      },
      "outputs": [],
      "source": [
        "grader.check(\"q5\")"
      ]
    },
    {
      "cell_type": "code",
      "execution_count": null,
      "id": "14096bca",
      "metadata": {
        "id": "14096bca",
        "tags": [
          "otter_answer_cell"
        ]
      },
      "outputs": [],
      "source": [
        "# EXERCISE\n",
        "# Use slicing to output only the Apprentices who's names start with E.\n",
        "\n",
        "e_names_list = ...\n",
        "e_names_list"
      ]
    },
    {
      "cell_type": "code",
      "execution_count": null,
      "id": "32595e49",
      "metadata": {
        "deletable": false,
        "editable": false,
        "id": "32595e49"
      },
      "outputs": [],
      "source": [
        "grader.check(\"q6\")"
      ]
    },
    {
      "cell_type": "markdown",
      "id": "827cfbe8",
      "metadata": {
        "deletable": false,
        "editable": false,
        "id": "827cfbe8"
      },
      "source": [
        "**Challenge:**\n",
        "\n",
        "Use slicing to divide everyone into 4 teams, as if they had been counted off: The first person in the first team, the second person in the second team, and so forth.\n"
      ]
    },
    {
      "cell_type": "code",
      "execution_count": null,
      "id": "fff246a6",
      "metadata": {
        "id": "fff246a6",
        "tags": [
          "otter_answer_cell"
        ]
      },
      "outputs": [],
      "source": [
        "#Challenge Exercise\n",
        "\n",
        "team1 = ...\n",
        "team2 = ...\n",
        "team3 = ...\n",
        "team4 = ...\n",
        "\n",
        "print(\"Team 1:\", team1)\n",
        "print(\"Team 2:\", team2)\n",
        "print(\"Team 3:\", team3)\n",
        "print(\"Team 4:\", team4)"
      ]
    },
    {
      "cell_type": "code",
      "execution_count": null,
      "id": "fd256c36",
      "metadata": {
        "deletable": false,
        "editable": false,
        "id": "fd256c36"
      },
      "outputs": [],
      "source": [
        "grader.check(\"q7\")"
      ]
    },
    {
      "cell_type": "markdown",
      "id": "177ec22d",
      "metadata": {
        "id": "177ec22d"
      },
      "source": [
        "### 1.2 Adding Elements<a name='subsection2'></a>"
      ]
    },
    {
      "cell_type": "markdown",
      "id": "22f10292",
      "metadata": {
        "id": "22f10292"
      },
      "source": [
        "To add elements to a list, we can use a few functions. The ones we will show you today are built-in functions **insert** and **append**.\n",
        "\n",
        "The **append** function is used to add a value to an existing list. Just use the append keyword and add the name. The new value will be added at the **end** of the list."
      ]
    },
    {
      "cell_type": "code",
      "execution_count": null,
      "id": "b75028b3",
      "metadata": {
        "id": "b75028b3"
      },
      "outputs": [],
      "source": [
        "# EXAMPLE\n",
        "\n",
        "# to add an element to the end of the list, we can use \"append\",\n",
        "# for example, we can add our new student, Noemi\n",
        "\n",
        "apprentices.append(\"Noemi\")\n",
        "apprentices"
      ]
    },
    {
      "cell_type": "markdown",
      "id": "de394594",
      "metadata": {
        "id": "de394594"
      },
      "source": [
        "We use the **insert** function to insert the value **into** the list. The insert function allows us to insert the value at a **specific index position**. Be careful when using insert function, you actually need to specify the position at which you are inserting an element.\n",
        "\n",
        "The element that exists at the specified index will shift to the next index. All the elements after that index will increment by 1 as well.\n",
        "\n",
        "In the below example, let's add Noemi to our class roster. She should be at index 13 (in alphabetical order)"
      ]
    },
    {
      "cell_type": "code",
      "execution_count": null,
      "id": "6da9a426",
      "metadata": {
        "id": "6da9a426"
      },
      "outputs": [],
      "source": [
        "# EXAMPLE\n",
        "\n",
        "apprentices.insert(13, \"Noemi\")\n",
        "apprentices"
      ]
    },
    {
      "cell_type": "markdown",
      "id": "0991f1b4",
      "metadata": {
        "id": "0991f1b4"
      },
      "source": [
        "In the cell below, add the imaginary student, Casper, to index 4."
      ]
    },
    {
      "cell_type": "code",
      "execution_count": null,
      "id": "2c6dc634",
      "metadata": {
        "id": "2c6dc634",
        "tags": [
          "otter_answer_cell"
        ]
      },
      "outputs": [],
      "source": [
        "# EXERCISE\n",
        "...\n",
        "apprentices"
      ]
    },
    {
      "cell_type": "code",
      "execution_count": null,
      "id": "f414768d",
      "metadata": {
        "deletable": false,
        "editable": false,
        "id": "f414768d"
      },
      "outputs": [],
      "source": [
        "grader.check(\"q8\")"
      ]
    },
    {
      "cell_type": "markdown",
      "id": "c53aa226",
      "metadata": {
        "id": "c53aa226"
      },
      "source": [
        "Methods **insert** and **append** are not the only ways to add elements to a list. Another way to add elements to lists is using **+=** signs. The way you can think about it is **+** adds an element and **=** reassigns the variable."
      ]
    },
    {
      "cell_type": "code",
      "execution_count": null,
      "id": "ff2307fa",
      "metadata": {
        "id": "ff2307fa"
      },
      "outputs": [],
      "source": [
        "# EXAMPLE\n",
        "\n",
        "veg = [\"zucchini\", \"cucumber\"]\n",
        "\n",
        "veg += [\"potato\"]\n",
        "veg"
      ]
    },
    {
      "cell_type": "markdown",
      "id": "52e1f352",
      "metadata": {
        "id": "52e1f352"
      },
      "source": [
        "### <center>  * * * Good Coding Practice Moment * * * <center>\n",
        "#### What is += ?\n",
        "\n",
        "When you want to write an equation that modifies a variable but doesn't change it's name you can combine operators as follows\n",
        "    \n",
        "          a = a+2          is the same as             a += 2\n",
        "          b = b-2          is the same as             b -= 3\n",
        "          c = c*4          is the same as             c *= 4\n",
        "          d = d/5          is the same as             d /= 5\n",
        "    \n",
        "\n",
        "### <center> * * * * * * * * * * * * * * * * * * * * * * * * * * * * <center>"
      ]
    },
    {
      "cell_type": "markdown",
      "id": "fd2f6b42",
      "metadata": {
        "id": "fd2f6b42"
      },
      "source": [
        "The important thing to remember is that **+=** can only work with elements of the same type. If you want to add somthing to a list, the element must be in the form of a list as well. Let's see what would happen if we will try to add a non-list element to a list."
      ]
    },
    {
      "cell_type": "code",
      "execution_count": null,
      "id": "0845f856",
      "metadata": {
        "id": "0845f856"
      },
      "outputs": [],
      "source": [
        "veg += \"bell pepper\"\n",
        "veg"
      ]
    },
    {
      "cell_type": "markdown",
      "id": "65b63b9d-0411-4dc0-9f81-aaf1825bacf0",
      "metadata": {
        "id": "65b63b9d-0411-4dc0-9f81-aaf1825bacf0"
      },
      "source": [
        "Python knows that the string \"bell pepper\" is not a list, but it **does** understand that the string can be turned into a list. So it's coded to turn the string into a list of characters, and add the result to our list.\n",
        "\n",
        "What happens if you re-run the previous cell?"
      ]
    },
    {
      "cell_type": "markdown",
      "id": "7d0a3f7a",
      "metadata": {
        "id": "7d0a3f7a"
      },
      "source": [
        "Now practice adding Spongebob to the list of `apprentices` using += signs. Remember that Spongebob must be added as a form of a list!"
      ]
    },
    {
      "cell_type": "code",
      "execution_count": null,
      "id": "6045b6fa",
      "metadata": {
        "id": "6045b6fa",
        "tags": [
          "otter_answer_cell"
        ]
      },
      "outputs": [],
      "source": [
        "# EXERCISE\n",
        "\n",
        "...\n",
        "apprentices"
      ]
    },
    {
      "cell_type": "code",
      "execution_count": null,
      "id": "23b8bc76",
      "metadata": {
        "deletable": false,
        "editable": false,
        "id": "23b8bc76"
      },
      "outputs": [],
      "source": [
        "grader.check(\"q9\")"
      ]
    },
    {
      "cell_type": "markdown",
      "id": "574e748e",
      "metadata": {
        "id": "574e748e"
      },
      "source": [
        "### 1.3 Deleting Elements<a name='subsection3'></a>"
      ]
    },
    {
      "cell_type": "markdown",
      "id": "38d6b4d5",
      "metadata": {
        "id": "38d6b4d5"
      },
      "source": [
        "Python has three built-in functions and methods for deleting elements from a list."
      ]
    },
    {
      "cell_type": "markdown",
      "id": "2c3909d0",
      "metadata": {
        "id": "2c3909d0"
      },
      "source": [
        "Method **del** works with indices and allows for the deletion of parts of the list through slicing."
      ]
    },
    {
      "cell_type": "code",
      "execution_count": null,
      "id": "ddfa917f",
      "metadata": {
        "id": "ddfa917f"
      },
      "outputs": [],
      "source": [
        "# EXAMPLE\n",
        "\n",
        "random_list = ['Zoom', 1, 7, 9, \"Python\", \"Berkeley\",\"Python\"]\n",
        "print(random_list)\n",
        "\n",
        "del random_list[0:2]\n",
        "\n",
        "random_list"
      ]
    },
    {
      "cell_type": "markdown",
      "id": "962f5e94",
      "metadata": {
        "id": "962f5e94"
      },
      "source": [
        "Make sure that you specify which elements you want to delete or it will delete the entire list."
      ]
    },
    {
      "cell_type": "code",
      "execution_count": null,
      "id": "2b530a81",
      "metadata": {
        "id": "2b530a81"
      },
      "outputs": [],
      "source": [
        "del random_list\n",
        "random_list"
      ]
    },
    {
      "cell_type": "markdown",
      "id": "08345dd7",
      "metadata": {
        "id": "08345dd7"
      },
      "source": [
        "Method **.pop(  )** works with indices. It is the last symbol/character/object by default, but you can add a specific index."
      ]
    },
    {
      "cell_type": "code",
      "execution_count": null,
      "id": "26c5a2ac",
      "metadata": {
        "id": "26c5a2ac"
      },
      "outputs": [],
      "source": [
        "# EXAMPLE\n",
        "random_list = ['Zoom', 1, 7, 9, \"Python\", \"Berkeley\",\"Python\"]\n",
        "\n",
        "random_list.pop()"
      ]
    },
    {
      "cell_type": "code",
      "execution_count": null,
      "id": "4dc30e6c",
      "metadata": {
        "id": "4dc30e6c"
      },
      "outputs": [],
      "source": [
        "# EXAMPLE\n",
        "\n",
        "random_list.pop(0)"
      ]
    },
    {
      "cell_type": "markdown",
      "id": "4aa96b0a",
      "metadata": {
        "id": "4aa96b0a"
      },
      "source": [
        "Notice that **.pop(  )** outputs the thing it removed from the list. Can you think of a reason why this would be useful?"
      ]
    },
    {
      "cell_type": "code",
      "execution_count": null,
      "id": "ec3bae5d",
      "metadata": {
        "id": "ec3bae5d"
      },
      "outputs": [],
      "source": [
        "# EXAMPLE\n",
        "\n",
        "state = [\"California\", \"is\", \"on the\", \"West Coast\"]\n",
        "print(state)\n",
        "last = state.pop()\n",
        "print(state)\n",
        "print(last)"
      ]
    },
    {
      "cell_type": "markdown",
      "id": "2ac8b2f0",
      "metadata": {
        "id": "2ac8b2f0"
      },
      "source": [
        "Another method you can use for lists is **.remove()**. This method uses the exact values (case matters too)."
      ]
    },
    {
      "cell_type": "code",
      "execution_count": null,
      "id": "dfd024b8",
      "metadata": {
        "id": "dfd024b8"
      },
      "outputs": [],
      "source": [
        "# EXAMPLE\n",
        "\n",
        "random_list.remove(\"Python\")\n",
        "random_list"
      ]
    },
    {
      "cell_type": "markdown",
      "id": "e2e18979",
      "metadata": {
        "id": "e2e18979"
      },
      "source": [
        "(Note that this method removes all the instances of \"Python\")"
      ]
    },
    {
      "cell_type": "markdown",
      "id": "f1f1a257",
      "metadata": {
        "id": "f1f1a257"
      },
      "source": [
        "Now we will go back to our `apprentices` list and practice removing elements using the methods we just learned above!"
      ]
    },
    {
      "cell_type": "markdown",
      "id": "5ce0074c",
      "metadata": {
        "id": "5ce0074c"
      },
      "source": [
        "1. Use the **delete** function to remove Noemi and Spongebob from the end of the list\n",
        "\n",
        "*Hint: If you want to specify the last item in the list, you can use [-1].\n",
        "Similarly the second to last element is specified by [-2]*"
      ]
    },
    {
      "cell_type": "code",
      "execution_count": null,
      "id": "aa1a67b2",
      "metadata": {
        "id": "aa1a67b2",
        "tags": [
          "otter_answer_cell"
        ]
      },
      "outputs": [],
      "source": [
        "# EXERCISE\n",
        "apprentices = ['Alejo','Ananda','Angela','Chris','Casper','Eric','Eric','Evelyn','Fernando','Gregory','Jason','Katherine','Klade','Naod','Noemi','Pawandeep','Nicho','Ryan','Sophie','Tammy','TJ','Vivian','Vivian','Zena','Noemi','SpongeBob']\n",
        "\n",
        "# use the del function\n",
        "...\n",
        "...\n",
        "\n",
        "print(apprentices)"
      ]
    },
    {
      "cell_type": "code",
      "execution_count": null,
      "id": "bc260f56",
      "metadata": {
        "deletable": false,
        "editable": false,
        "id": "bc260f56"
      },
      "outputs": [],
      "source": [
        "grader.check(\"q10\")"
      ]
    },
    {
      "cell_type": "markdown",
      "id": "f6c1b1e5",
      "metadata": {
        "id": "f6c1b1e5"
      },
      "source": [
        "2. Use the pop method to remove Casper from spot 4"
      ]
    },
    {
      "cell_type": "code",
      "execution_count": null,
      "id": "8d93b3b5",
      "metadata": {
        "id": "8d93b3b5",
        "tags": [
          "otter_answer_cell"
        ]
      },
      "outputs": [],
      "source": [
        "# EXERCISE\n",
        "\n",
        "#pop method\n",
        "popped_item = ...\n",
        "print(popped_item)\n",
        "print(apprentices)"
      ]
    },
    {
      "cell_type": "code",
      "execution_count": null,
      "id": "96154eb4",
      "metadata": {
        "deletable": false,
        "editable": false,
        "id": "96154eb4"
      },
      "outputs": [],
      "source": [
        "grader.check(\"q11\")"
      ]
    },
    {
      "cell_type": "markdown",
      "id": "5e0fb798",
      "metadata": {
        "id": "5e0fb798"
      },
      "source": [
        "3. Use the remove method to remove Nicho and then use the method of your choice to add Nicho back in to Spot 13"
      ]
    },
    {
      "cell_type": "code",
      "execution_count": null,
      "id": "5c1026f5",
      "metadata": {
        "id": "5c1026f5",
        "tags": [
          "otter_answer_cell"
        ]
      },
      "outputs": [],
      "source": [
        "# EXERCISE\n",
        "\n",
        "#remove method\n",
        "...\n",
        "...\n",
        "print(apprentices)"
      ]
    },
    {
      "cell_type": "code",
      "execution_count": null,
      "id": "2668235f",
      "metadata": {
        "deletable": false,
        "editable": false,
        "id": "2668235f"
      },
      "outputs": [],
      "source": [
        "grader.check(\"q12\")"
      ]
    },
    {
      "cell_type": "code",
      "execution_count": null,
      "id": "c3522d93",
      "metadata": {
        "id": "c3522d93",
        "tags": [
          "otter_answer_cell"
        ]
      },
      "outputs": [],
      "source": [
        "# Challenge Exercise\n",
        "# Remember your teams from an earlier chalange?\n",
        "team1 = ['Alejo', 'Eric', 'Gregory', 'Naod', 'Sophie', 'Vivian']\n",
        "team2 = ['Ananda', 'Eric', 'Jason', 'Pawandeep', 'Tammy', 'Zena']\n",
        "team3 = ['Angela', 'Evelyn', 'Katherine', 'Nicho', 'TJ']\n",
        "team4 = ['Chris', 'Fernando', 'Klade', 'Ryan', 'Vivian','Noemi']\n",
        "\n",
        "\n",
        "# Lets say that Angela can't make it one day.\n",
        "# Remove Angela from Team 3, then remove Sophie from Team 1 and add her to Team 3.\n",
        "# Optional: See if you can do all of that in one line of code.\n",
        "\n",
        "team3[0]= ...\n",
        "\n",
        "print('Team 1:', team1)\n",
        "print('Team 2:', team2)\n",
        "print('Team 3:', team3)\n",
        "print('Team 4:', team4)"
      ]
    },
    {
      "cell_type": "code",
      "execution_count": null,
      "id": "aa626c97",
      "metadata": {
        "deletable": false,
        "editable": false,
        "id": "aa626c97"
      },
      "outputs": [],
      "source": [
        "grader.check(\"q13\")"
      ]
    },
    {
      "cell_type": "markdown",
      "id": "3be28d24",
      "metadata": {
        "id": "3be28d24"
      },
      "source": [
        "### 1.4 Length of a list<a name='subsection4'></a>"
      ]
    },
    {
      "cell_type": "markdown",
      "id": "f97ff254",
      "metadata": {
        "id": "f97ff254"
      },
      "source": [
        "Built-in function **len(   )** can also be used to figure out the length of a list - in other words, the total count of elements in a list."
      ]
    },
    {
      "cell_type": "code",
      "execution_count": null,
      "id": "186bc995",
      "metadata": {
        "id": "186bc995"
      },
      "outputs": [],
      "source": [
        "# EXAMPLE\n",
        "# Before running this cell, think what the output will be.\n",
        "\n",
        "teamColors = [\"Red\", \"Blue\", \"Yellow\", \"Green\"]\n",
        "len(teamColors)"
      ]
    },
    {
      "cell_type": "markdown",
      "id": "805f95ab",
      "metadata": {
        "id": "805f95ab"
      },
      "source": [
        "When used with lists, it counts only the \"outer\" objects. Meaning, if there are lists inside of your list, no matter however many objects each of them has, the len(  ) will count the whole list as a single object."
      ]
    },
    {
      "cell_type": "code",
      "execution_count": null,
      "id": "df0f012c",
      "metadata": {
        "id": "df0f012c"
      },
      "outputs": [],
      "source": [
        "listOfLists = [[1,2,3,4],[4,5,6]]\n",
        "\n",
        "# Before running this cell, can you guess the output it will give you?\n",
        "\n",
        "len(listOfLists)"
      ]
    },
    {
      "cell_type": "code",
      "execution_count": null,
      "id": "785b279b",
      "metadata": {
        "id": "785b279b"
      },
      "outputs": [],
      "source": [
        "len(listOfLists[0])"
      ]
    },
    {
      "cell_type": "markdown",
      "id": "80124332",
      "metadata": {
        "id": "80124332"
      },
      "source": [
        "### 1.5 Operations on a list<a name='subsection5'></a>"
      ]
    },
    {
      "cell_type": "code",
      "execution_count": null,
      "id": "53fb64d7",
      "metadata": {
        "id": "53fb64d7"
      },
      "outputs": [],
      "source": [
        "# EXAMPLE\n",
        "\n",
        "my_numbers = [1, 2, 3, 4, 5]\n",
        "\n",
        "my_numbers + 2"
      ]
    },
    {
      "cell_type": "markdown",
      "id": "9d479d0a",
      "metadata": {
        "id": "9d479d0a"
      },
      "source": [
        "As you can see above, Lists do not support \"+\" as a addition, rather the \"+\" operator combines, or **concatenates** multiple lists. In order to concatenate, or glue elements together, they must the same data type or data structure."
      ]
    },
    {
      "cell_type": "code",
      "execution_count": null,
      "id": "03bf29d6",
      "metadata": {
        "id": "03bf29d6"
      },
      "outputs": [],
      "source": [
        "my_numbers + [2]"
      ]
    },
    {
      "cell_type": "code",
      "execution_count": null,
      "id": "43ff18e6",
      "metadata": {
        "id": "43ff18e6"
      },
      "outputs": [],
      "source": [
        "list_one = [1, 2, 3]\n",
        "list_two = [4, 5, 6]\n",
        "list_three = list_one + list_two\n",
        "list_three"
      ]
    },
    {
      "cell_type": "markdown",
      "id": "d95793f3",
      "metadata": {
        "id": "d95793f3"
      },
      "source": [
        "Can you guess the output of the next cell?"
      ]
    },
    {
      "cell_type": "code",
      "execution_count": null,
      "id": "7cd67c29",
      "metadata": {
        "id": "7cd67c29"
      },
      "outputs": [],
      "source": [
        "# EXAMPLE\n",
        "\n",
        "my_numbers * 2"
      ]
    },
    {
      "cell_type": "markdown",
      "id": "cace9461",
      "metadata": {
        "id": "cace9461"
      },
      "source": [
        "---\n",
        "## Dictionaries <a name='section2'></a>"
      ]
    },
    {
      "cell_type": "markdown",
      "id": "1de9d074",
      "metadata": {
        "id": "1de9d074"
      },
      "source": [
        "Dictionaries are used to store data values in **key:value** pairs. A dictionary is a collection which is ordered, changeable, and does not allow duplicates. Dictionaries are very useful when you are working with a lot of data with similar categories."
      ]
    },
    {
      "cell_type": "code",
      "execution_count": null,
      "id": "60fc314b",
      "metadata": {
        "id": "60fc314b"
      },
      "outputs": [],
      "source": [
        "# EXAMPLE\n",
        "\n",
        "# A dictionary with various attributes for player 1\n",
        "\n",
        "player1 = {\n",
        "    \"name\": \"myName\",\n",
        "    \"position\" : [0,1],\n",
        "    \"direc\" : [1,0],\n",
        "    \"placeInLine\" : 3,\n",
        "    \"team\" : \"Red\"\n",
        "}\n",
        "\n",
        "player1"
      ]
    },
    {
      "cell_type": "markdown",
      "id": "74aba7c2",
      "metadata": {
        "id": "74aba7c2"
      },
      "source": [
        "You can use the key name to retrieve values:"
      ]
    },
    {
      "cell_type": "code",
      "execution_count": null,
      "id": "fce3b620",
      "metadata": {
        "id": "fce3b620"
      },
      "outputs": [],
      "source": [
        "# Use square brackets [] instead of parentheses (), like with a list\n",
        "print(player1[\"team\"])\n",
        "\n",
        "# You can also use the \"get\" method of any dictionary to retrieve values\n",
        "print(player1.get(\"position\"))"
      ]
    },
    {
      "cell_type": "markdown",
      "id": "4fb6ce1f",
      "metadata": {
        "id": "4fb6ce1f"
      },
      "source": [
        "The get() method won't break when you ask it for a key that isn't there. Instead, it'll return `None` by default. You can also tell it what to give back when the key isn't there."
      ]
    },
    {
      "cell_type": "code",
      "execution_count": null,
      "id": "ec69d6fd",
      "metadata": {
        "id": "ec69d6fd"
      },
      "outputs": [],
      "source": [
        "# This key isn't in the dictionary - it will raise an error\n",
        "player1[\"key not in dictionary\"]"
      ]
    },
    {
      "cell_type": "code",
      "execution_count": null,
      "id": "d8a7386a",
      "metadata": {
        "id": "d8a7386a"
      },
      "outputs": [],
      "source": [
        "# This key isn't in the dictionary - but it will return None\n",
        "player1.get(\"key not in dictionary\")"
      ]
    },
    {
      "cell_type": "code",
      "execution_count": null,
      "id": "538b5bbb",
      "metadata": {
        "id": "538b5bbb"
      },
      "outputs": [],
      "source": [
        "# This key isn't in the dictionary, but we can specify what to return if it's missing\n",
        "player1.get(\"key not in dictionary\",\"this key wasn't in the dictionary!\")"
      ]
    },
    {
      "cell_type": "markdown",
      "id": "dd61e8c2",
      "metadata": {
        "id": "dd61e8c2"
      },
      "source": [
        "Duplicates are **not** allowed in dictionaries. This means that if you have a duplicate key, the value will be overwritten:"
      ]
    },
    {
      "cell_type": "code",
      "execution_count": null,
      "id": "962e2931",
      "metadata": {
        "id": "962e2931"
      },
      "outputs": [],
      "source": [
        "player1 = {\n",
        "    \"name\": \"myName\",\n",
        "    \"position\" : [0,1],\n",
        "    \"direc\" : [1,0],\n",
        "    \"num_balls_moved\" : 3,\n",
        "    \"team\" : \"Red\",\n",
        "    \"team\" : \"Blue\"\n",
        "}\n",
        "\n",
        "player1"
      ]
    },
    {
      "cell_type": "markdown",
      "id": "a643aa2a",
      "metadata": {
        "id": "a643aa2a"
      },
      "source": [
        "Values in a dictionary can be of any type! (You can also use integers and floats for keys instead of strings)"
      ]
    },
    {
      "cell_type": "markdown",
      "id": "8f6c8091",
      "metadata": {
        "id": "8f6c8091"
      },
      "source": [
        "Do you have to rewrite the whole dictionary each time to update it? No! You can change, add, and delete values:"
      ]
    },
    {
      "cell_type": "code",
      "execution_count": null,
      "id": "4dc51492",
      "metadata": {
        "id": "4dc51492"
      },
      "outputs": [],
      "source": [
        "# the player completes a round and adds a ball to their team's bucket.\n",
        "# We'd better update the `num_balls_moved` variable for that player\n",
        "player1[\"num_balls_moved\"] += 1\n",
        "\n",
        "player1"
      ]
    },
    {
      "cell_type": "code",
      "execution_count": null,
      "id": "0e073989",
      "metadata": {
        "id": "0e073989"
      },
      "outputs": [],
      "source": [
        "#Similarly we can add a key:value pair\n",
        "\n",
        "player1[\"place_in_line\"] = 3\n",
        "\n",
        "player1"
      ]
    },
    {
      "cell_type": "code",
      "execution_count": null,
      "id": "61335f90",
      "metadata": {
        "id": "61335f90"
      },
      "outputs": [],
      "source": [
        "#Deleting is similar to lists - use pop() or del\n",
        "\n",
        "player1.pop(\"place_in_line\")\n",
        "del player1[\"name\"]\n",
        "\n",
        "player1"
      ]
    },
    {
      "cell_type": "code",
      "execution_count": null,
      "id": "e8f2ca82",
      "metadata": {
        "id": "e8f2ca82"
      },
      "outputs": [],
      "source": [
        "#And we can empty the whole dictionary using clear!\n",
        "\n",
        "player1.clear()\n",
        "player1"
      ]
    },
    {
      "cell_type": "markdown",
      "id": "5aQZ8wvFhUAZ",
      "metadata": {
        "id": "5aQZ8wvFhUAZ"
      },
      "source": [
        "---\n",
        "Notebook developed by: Kseniya Usovich, Rachel McCarty, Baishakhi Bose, Alisa Bettale, Laurel Hales, Lawrence Chen, Arianna Formenti, Sage Miller, Evan Neill"
      ]
    }
  ],
  "metadata": {
    "colab": {
      "provenance": []
    },
    "kernelspec": {
      "display_name": ".venv",
      "language": "python",
      "name": "python3"
    },
    "language_info": {
      "codemirror_mode": {
        "name": "ipython",
        "version": 3
      },
      "file_extension": ".py",
      "mimetype": "text/x-python",
      "name": "python",
      "nbconvert_exporter": "python",
      "pygments_lexer": "ipython3",
      "version": "3.11.1"
    },
    "vscode": {
      "interpreter": {
        "hash": "1de2c9b99b67c74942ae62ba9f4273989cfcd06b191aeb61677ac908252bed7d"
      }
    }
  },
  "nbformat": 4,
  "nbformat_minor": 5
}
