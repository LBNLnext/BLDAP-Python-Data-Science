{
 "cells": [
  {
   "cell_type": "markdown",
   "metadata": {},
   "source": [
    "# Introduction to Pandas\n",
    "\n",
    "\n",
    "\n",
    "---\n",
    "\n",
    "### Table of Contents\n",
    "\n",
    "\n",
    "1 - [Pandas and Dataframes](#section1)<br>\n",
    "\n",
    "\n",
    "&nbsp;&nbsp;&nbsp;&nbsp;&nbsp;&nbsp; 1.1 - [Importing Data](#subsection1)<br>\n",
    "\n",
    "&nbsp;&nbsp;&nbsp;&nbsp;&nbsp;&nbsp; 1.2 - [Statistics](#subsection2)<br>\n",
    "\n",
    "&nbsp;&nbsp;&nbsp;&nbsp;&nbsp;&nbsp; 1.3 - [Histograms and Standard Deviation](#subsection3)<br>\n",
    "\n",
    "2 - [Exit Ticket](#section2)<br>\n"
   ]
  },
  {
   "cell_type": "markdown",
   "metadata": {},
   "source": [
    "---\n",
    "## 1. Pandas and Data Frames <a id='section1'></a>"
   ]
  },
  {
   "cell_type": "markdown",
   "metadata": {},
   "source": [
    "First, let's make sure to import our libraries. Similar to how `np` is used as an alias for `numpy`, most people often use `pd` for `pandas`:"
   ]
  },
  {
   "cell_type": "code",
   "execution_count": null,
   "metadata": {},
   "outputs": [],
   "source": [
    "import numpy as np\n",
    "import pandas as pd"
   ]
  },
  {
   "cell_type": "markdown",
   "metadata": {},
   "source": [
    "### 1.1 Importing Data  <a id='subsection1'></a>"
   ]
  },
  {
   "cell_type": "markdown",
   "metadata": {},
   "source": [
    "We will use the function `read_csv()` in the **Pandas** library to import and read our data. \n",
    "The _csv_ at the end of the function tells the program to read a \"comma-delimited file\" - a file where data is separated by commas. There are many types of delimiters such as tab, semicolon, pipe, etc. \n",
    "\n",
    "Let's revisit the data from our survey! We will read in _BLDAP2022DataSurvey.csv_ as a **DataFrame** and store it in a variable called bldap_data. When we read in the data file, we must include the fact that the file is saved in the folder _data_, so the computer knows where to look for the data file! We add the foldername before the filename and add a slash (/) between."
   ]
  },
  {
   "cell_type": "code",
   "execution_count": null,
   "metadata": {},
   "outputs": [],
   "source": [
    "# EXAMPLE\n",
    "# Read in results from survey and store it in a variable called bldap_data.\n",
    "\n",
    "bldap_data = pd.read_csv('data/BLDAP2022DataSurvey.csv')"
   ]
  },
  {
   "cell_type": "markdown",
   "metadata": {},
   "source": [
    "Great! Now let's explore our data set. \n",
    "\n",
    "We will begin by using the method (or function)  `.head()`. By default, it will show the first 5 rows of or data set, but you can tell it to display the first n results by _passing n as an argument to `.head()`."
   ]
  },
  {
   "cell_type": "code",
   "execution_count": null,
   "metadata": {
    "scrolled": true
   },
   "outputs": [],
   "source": [
    "# EXAMPLE\n",
    "\n",
    "bldap_data.head()"
   ]
  },
  {
   "cell_type": "markdown",
   "metadata": {},
   "source": [
    "You can also see the last _n_ rows of our data using the method `.tail()`."
   ]
  },
  {
   "cell_type": "code",
   "execution_count": null,
   "metadata": {
    "scrolled": true
   },
   "outputs": [],
   "source": [
    "# EXAMPLE\n",
    "\n",
    "bldap_data.tail()"
   ]
  },
  {
   "cell_type": "markdown",
   "metadata": {},
   "source": [
    "`DataFrames` contain rows and columns. You can think of them as Google or Excel sheets. If you want to understand the structure of your DataFrame, there a few functions and attributes that might come handy. \n",
    "\n",
    "These include\n",
    "* `shape`: outputs n rows and n columns\n",
    "* `columns`: outputs names of columns\n",
    "* `index`: outputs the indices in a format of (start, stop, step)\n",
    "* `info()`: outputs info per each column, very useful for retrieving an index of each column, checking the format of data in each column (sometimes numbers can be in a form of a string and prevent you from running your calculations properly), it also shows you the number of Null (or missing) values per each columm.\n",
    "* `len()`: just like with other data structures, we can use len( ) with DataFrames. \n",
    "* `describe()`: outputs basic statistics per each column like mean/median/mode, etc."
   ]
  },
  {
   "cell_type": "code",
   "execution_count": null,
   "metadata": {},
   "outputs": [],
   "source": [
    "# EXAMPLE\n",
    "\n",
    "bldap_data.shape"
   ]
  },
  {
   "cell_type": "markdown",
   "metadata": {},
   "source": [
    "This DataFrame contains 92 rows and 4 columns."
   ]
  },
  {
   "cell_type": "code",
   "execution_count": null,
   "metadata": {},
   "outputs": [],
   "source": [
    "# EXAMPLE\n",
    "\n",
    "bldap_data.columns"
   ]
  },
  {
   "cell_type": "code",
   "execution_count": null,
   "metadata": {},
   "outputs": [],
   "source": [
    "# EXAMPLE\n",
    "\n",
    "bldap_data.index"
   ]
  },
  {
   "cell_type": "code",
   "execution_count": null,
   "metadata": {},
   "outputs": [],
   "source": [
    "# EXAMPLE\n",
    "\n",
    "bldap_data.info()"
   ]
  },
  {
   "cell_type": "markdown",
   "metadata": {},
   "source": [
    "As with lists and arrays, you can also use the function `len()` to see how many elements (in this case rows) our data set contains."
   ]
  },
  {
   "cell_type": "code",
   "execution_count": null,
   "metadata": {
    "scrolled": true
   },
   "outputs": [],
   "source": [
    "# EXAMPLE\n",
    "\n",
    "len(bldap_data)"
   ]
  },
  {
   "cell_type": "markdown",
   "metadata": {},
   "source": [
    "### 1.2 Statistics  <a id='subsection2'></a>"
   ]
  },
  {
   "cell_type": "markdown",
   "metadata": {},
   "source": [
    "A useful method is `.describe()`. Describe provides you with some basic statistics about each of the variables in your DataFrame including measures for tendency, dispersion and shape of a dataset's distribution, excluding **NaN** values (NaN \"Not a Number\" values represent missing data. In a later lesson we'll explore how to deal with missing data).\n",
    "\n",
    "By default, it will return the summary statistics of the numeric columns. If you use the argument `include='all'`, it will also work with mixed data. For example, if the column is not numeric, it will return measures such as count, number of unique values, and the most frequent value (`top` is the value of the most frequent value, while `freq` tells you its frequency).\n",
    "\n",
    "_Extra note: What if there are multiple top values with the same frequency (as is the case with our 'Birth Month and Day' column)? It turns out that pandas arbitrarily chooses a top value. If you restart the kernel of the whole notebook, you might get another value for top._"
   ]
  },
  {
   "cell_type": "code",
   "execution_count": null,
   "metadata": {
    "scrolled": true
   },
   "outputs": [],
   "source": [
    "# EXAMPLE\n",
    "\n",
    "bldap_data.describe(include='all')"
   ]
  },
  {
   "cell_type": "markdown",
   "metadata": {},
   "source": [
    "Pandas also has methods to calculate the mean, median, and mode separately. If you run the methods on the entire dataframe it will automatically figure out which columns are numerical and compute the means.\n",
    "\n",
    "In the cells below, see if you can find the mean, median, and mode using `.mean()`, `.median()`, `.mode()`. The first one has been done for you."
   ]
  },
  {
   "cell_type": "code",
   "execution_count": null,
   "metadata": {},
   "outputs": [],
   "source": [
    "#Find the mean\n",
    "\n",
    "bldap_data.mean()"
   ]
  },
  {
   "cell_type": "code",
   "execution_count": null,
   "metadata": {},
   "outputs": [],
   "source": [
    "#Find the median\n",
    "\n",
    "bldap_data...."
   ]
  },
  {
   "cell_type": "code",
   "execution_count": null,
   "metadata": {
    "scrolled": true
   },
   "outputs": [],
   "source": [
    "#Find the mode\n",
    "\n",
    "bldap_data...."
   ]
  },
  {
   "cell_type": "markdown",
   "metadata": {},
   "source": [
    "When finding the mode, you can see that it returns a dataframe! If a column of data has more than one mode, you will see them all."
   ]
  },
  {
   "cell_type": "markdown",
   "metadata": {},
   "source": [
    "### 1.3 Histograms and Standard Deviation  <a id='subsection3'></a>"
   ]
  },
  {
   "cell_type": "markdown",
   "metadata": {},
   "source": [
    "As you may imagine, pandas has a method that easily returns the standard deviation:"
   ]
  },
  {
   "cell_type": "code",
   "execution_count": null,
   "metadata": {},
   "outputs": [],
   "source": [
    "#Find the standard deviation\n",
    "\n",
    "bldap_data.std()"
   ]
  },
  {
   "cell_type": "markdown",
   "metadata": {},
   "source": [
    "Aside from looking at various statistical data for our dataset, a histogram is the best way to quickly inspect your data and get a feel for what you are dealing with. You can create a histogram by calling `dataframe.hist()`. Pandas will automatically decide how many boxes to create in your histogram."
   ]
  },
  {
   "cell_type": "markdown",
   "metadata": {},
   "source": [
    "The example below just looks at the column of 'Hours Slept'. (We will learn how to grab columns later!)\n",
    "\n",
    "_Quick note: Use a semicolon ; at the end of the last line in a Jupyter notebook cell to suppress the notebooks from printing the return value of the last line. You can try removing the semicolon in the below cell and see how the output changes._"
   ]
  },
  {
   "cell_type": "code",
   "execution_count": null,
   "metadata": {},
   "outputs": [],
   "source": [
    "bldap_data_hours = bldap_data['Hours Slept']\n",
    "bldap_data_hours.hist();"
   ]
  },
  {
   "cell_type": "markdown",
   "metadata": {},
   "source": [
    "You can change the number of bins by using the argument `bins=` within the parentheses of `hist()`. Below try different bins and see how your histogram changes."
   ]
  },
  {
   "cell_type": "code",
   "execution_count": null,
   "metadata": {},
   "outputs": [],
   "source": [
    "bldap_data_hours.hist(bins=...);"
   ]
  },
  {
   "cell_type": "markdown",
   "metadata": {},
   "source": [
    "---\n",
    "## 2. Exit Ticket <a id='section2'></a>"
   ]
  },
  {
   "cell_type": "markdown",
   "metadata": {},
   "source": [
    "Use the following link to access the Exit Ticket for this notebook: https://forms.gle/tZvPQp4uG5iNgYTV6"
   ]
  },
  {
   "cell_type": "markdown",
   "metadata": {},
   "source": [
    "---\n",
    "Notebook developed by: Kseniya Usovich, Baishakhi Bose, Alisa Bettale"
   ]
  }
 ],
 "metadata": {
  "anaconda-cloud": {},
  "kernelspec": {
   "display_name": "Python 3",
   "language": "python",
   "name": "python3"
  },
  "language_info": {
   "codemirror_mode": {
    "name": "ipython",
    "version": 3
   },
   "file_extension": ".py",
   "mimetype": "text/x-python",
   "name": "python",
   "nbconvert_exporter": "python",
   "pygments_lexer": "ipython3",
   "version": "3.8.8"
  }
 },
 "nbformat": 4,
 "nbformat_minor": 1
}
