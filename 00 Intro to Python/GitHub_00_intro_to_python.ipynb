{
  "cells": [
    {
      "cell_type": "markdown",
      "id": "desperate-intranet",
      "metadata": {
        "id": "desperate-intranet"
      },
      "source": [
        "\n",
        "--------\n",
        "# Intro to Python: Data Types & Variables\n",
        "\n",
        "\n",
        "\n",
        "### Table of Contents\n",
        "\n",
        "1 - [Jupyter Notebook](#section1)<br>\n",
        "\n",
        "2 - [Basics](#section2)<br>\n",
        "\n",
        "&nbsp;&nbsp;&nbsp;&nbsp;&nbsp;&nbsp; 2.1 - [Comments](#subsection1)<br>\n",
        "\n",
        "&nbsp;&nbsp;&nbsp;&nbsp;&nbsp;&nbsp; 2.2 - [Python for simple arithmetic](#subsection2)<br>\n",
        "\n",
        "&nbsp;&nbsp;&nbsp;&nbsp;&nbsp;&nbsp; 2.3 - [Python for textual data ](#subsection3)<br>\n",
        "\n",
        "&nbsp;&nbsp;&nbsp;&nbsp;&nbsp;&nbsp; 2.4 - [Variables](#subsection4)<br>\n",
        "\n",
        "\n"
      ]
    },
    {
      "cell_type": "markdown",
      "id": "obvious-vermont",
      "metadata": {
        "id": "obvious-vermont"
      },
      "source": [
        "---\n",
        "## 1. The Jupyter Notebook <a name='section1'></a>"
      ]
    },
    {
      "cell_type": "markdown",
      "id": "aaa66f19",
      "metadata": {
        "id": "aaa66f19"
      },
      "source": [
        "![](https://drive.google.com/uc?export=view&id=1wR8Yf-xJ_0D6dvyqGTaNVbHrgmazj7a3)"
      ]
    },
    {
      "cell_type": "markdown",
      "id": "radical-triple",
      "metadata": {
        "id": "radical-triple"
      },
      "source": [
        "We will be using **Jupyter notebooks** as a platform to run Python code.\n",
        "\n",
        "Jupyter notebooks is a web-based interactive programming platform. It combines Python code, text, visualizations, and more.\n",
        "\n",
        "*(Why the name Jupyter? Ju-pyte-r is an acronym for Julia, Python, and R programming languages, which the notebooks support.)*\n",
        "\n",
        "A notebook is composed of rectangular sections called cells. Cells are used to break things up into bits of text, and bits of code. There are 2 kinds of cells: **markdown** (in Colab also called **text**) and **code**. You can select any cell by clicking on it once.\n",
        "\n",
        "__1)__ A markdown cell, such as this one, contains text. Markdown cells contains plain text and you can format this text in many different ways! *(Markdown will not be covered during our course, but if you are interested, [this guide](https://www.markdownguide.org/basic-syntax/) is a good place to start)*\n",
        "  \n",
        "  * To edit Markdown cells:\n",
        "       * Left click twice on the markdown cell, make your changes, and run your cell again!\n",
        "\n",
        "When you select a cell, on the top right you should see some icons appear:\n",
        "\n",
        "![](https://drive.google.com/uc?export=view&id=1LiYo4Mds6nmUblDvbao1Aub_GS46t6N9)\n",
        "\n",
        "You can hover your mouse over the icons to see the description of what each icon does. The ones that you most likely will use are:\n",
        "\n",
        "*   Up arrow: moves the cell up one block\n",
        "*   Down arrow: moves the cell down one block\n",
        "*   Trash can: deletes the cell\n",
        "*   Three vertical dots: contains commands for copying and cutting the cell\n",
        "\n",
        "\n",
        "__2)__ A code cell contains code in Python, a programming language that we will be using for the remainder of this workshop.\n",
        "A code cell will show you an input mark, like this:\n",
        "\n",
        "```python\n",
        "In [ ]:\n",
        "```\n",
        "Once you execute the code, it will add a number id to the input cell, and produce an output marked like this:\n",
        "\n",
        "```python\n",
        "Out [1]:\n",
        "```\n",
        "\n",
        "* To run code,\n",
        "    * Press shift + enter, OR\n",
        "    * Click the \"play\" button on the left of the code cell.\n",
        "\n",
        "If a code cell is running, you will see a dotted circle move around the play button. Once the cell has finished running, a number will replace the asterisk and any output from the code will appear under the cell. If the code had no errors, you will see a green check mark appear to the left of the cell. If there was an error, you will see a red exclamation point to the left of the cell and the play button will appear red as well."
      ]
    },
    {
      "cell_type": "code",
      "execution_count": null,
      "id": "toxic-district",
      "metadata": {
        "id": "toxic-district",
        "scrolled": true
      },
      "outputs": [],
      "source": [
        "# THIS IS A COMMENT: RUN THIS CELL BY SELECTING IT AND PRESSING SHIFT+ENTER\n",
        "\n",
        "print(\"Hello World!\")  # The print function displays the contents within the quotation marks \"\"on the screen"
      ]
    },
    {
      "cell_type": "markdown",
      "id": "yWpd_OBWgtfu",
      "metadata": {
        "id": "yWpd_OBWgtfu"
      },
      "source": [
        "In this course, we'll be using a system called **OtterGrader** to check your work. This will allow you to see if your code is working as you work through notebooks.\n",
        "\n",
        "At the beginning of each notebook that uses Otter Grader we will run code to initialize it. Run the cells below to initilize it for this notebook:"
      ]
    },
    {
      "cell_type": "code",
      "execution_count": null,
      "id": "VKJv30vzh7De",
      "metadata": {
        "id": "VKJv30vzh7De"
      },
      "outputs": [],
      "source": [
        "!pip install otter-grader\n",
        "\n",
        "# Initialize Otter\n",
        "import otter\n",
        "grader = otter.Notebook(\"tests/00_intro_to_python\")"
      ]
    },
    {
      "cell_type": "markdown",
      "id": "cE1hllAkjQEy",
      "metadata": {
        "id": "cE1hllAkjQEy"
      },
      "source": [
        "In the cell below, replace the ellipses (...) with a word surrounded by quotes (\"\" or '') that describes how you are feeling about starting BLDAP! Afterwards, run the next cell, which should then output a message indicating if you've passed or not."
      ]
    },
    {
      "cell_type": "code",
      "execution_count": null,
      "id": "3bbee085",
      "metadata": {
        "id": "3bbee085",
        "tags": [
          "otter_answer_cell"
        ]
      },
      "outputs": [],
      "source": [
        "bldap = ..."
      ]
    },
    {
      "cell_type": "code",
      "execution_count": null,
      "id": "8dcec720",
      "metadata": {
        "deletable": false,
        "editable": false,
        "id": "8dcec720"
      },
      "outputs": [],
      "source": [
        "grader.check(\"q0\")"
      ]
    },
    {
      "cell_type": "markdown",
      "id": "negative-component",
      "metadata": {
        "id": "negative-component"
      },
      "source": [
        "---\n",
        "## 2. Basics  <a name='section2'></a>"
      ]
    },
    {
      "cell_type": "markdown",
      "id": "eaff221c",
      "metadata": {
        "id": "eaff221c"
      },
      "source": [
        "### 2.1 Comments <a name='subsection1'></a>"
      ]
    },
    {
      "cell_type": "markdown",
      "id": "c071a036",
      "metadata": {
        "id": "c071a036"
      },
      "source": [
        "In the cells so far, you will notice that some text is followed by the hashtag (#). This is called a **comment**.\n",
        "\n",
        "Comments are ignored by the computer. They are not executed with the rest of your code.\n",
        "\n",
        "Comments are used to document or add notes about what your code cell is doing. This helps in tracking bugs and code maintenance. Also, it lets other users (and your future self) to know the purpose of the code cell."
      ]
    },
    {
      "cell_type": "markdown",
      "id": "selective-commodity",
      "metadata": {
        "id": "selective-commodity"
      },
      "source": [
        "### 2.2 Python for simple arithmetic  <a name='subsection2'></a>"
      ]
    },
    {
      "cell_type": "markdown",
      "id": "edff038a",
      "metadata": {
        "id": "edff038a"
      },
      "source": [
        "* Data Types or Object: You can group data into two main types, __numerical__ and __textual__. In this section you will learn about the two different types of numerical information that it is there, namely, float and integer data.  \n",
        "\n",
        "* Arithmetic Operations: You can test-drive a code cell by writing some arithmetic operations; Python operators are:\n",
        "\n",
        "*  \\+     -    *     /     **     %     //\n",
        "\n",
        "The ‘+’ operator is used to perform addition. Two operands can be added using the ‘+’ operator.\n",
        "\n",
        "Similarly, there's subtraction (-), multiplication ('*') and division ('/'). The last three operators are exponent (raise to the power of), modulo which divides and returns remainder of ('%') and floor division ('//')."
      ]
    },
    {
      "cell_type": "code",
      "execution_count": null,
      "id": "retired-brunswick",
      "metadata": {
        "id": "retired-brunswick"
      },
      "outputs": [],
      "source": [
        "# EXAMPLE\n",
        "\n",
        "5+2"
      ]
    },
    {
      "cell_type": "code",
      "execution_count": null,
      "id": "excited-confusion",
      "metadata": {
        "id": "excited-confusion"
      },
      "outputs": [],
      "source": [
        "5 + 2.0"
      ]
    },
    {
      "cell_type": "markdown",
      "id": "918f0cd0",
      "metadata": {
        "id": "918f0cd0"
      },
      "source": [
        "Discuss: Why were the above two outputs are different?"
      ]
    },
    {
      "cell_type": "code",
      "execution_count": null,
      "id": "compatible-skirt",
      "metadata": {
        "id": "compatible-skirt"
      },
      "outputs": [],
      "source": [
        "4-2"
      ]
    },
    {
      "cell_type": "code",
      "execution_count": null,
      "id": "informative-florida",
      "metadata": {
        "id": "informative-florida"
      },
      "outputs": [],
      "source": [
        "4/2"
      ]
    },
    {
      "cell_type": "code",
      "execution_count": null,
      "id": "4614e163",
      "metadata": {
        "id": "4614e163"
      },
      "outputs": [],
      "source": [
        "4*2"
      ]
    },
    {
      "cell_type": "code",
      "execution_count": null,
      "id": "d6a2153e",
      "metadata": {
        "id": "d6a2153e"
      },
      "outputs": [],
      "source": [
        "4/3"
      ]
    },
    {
      "cell_type": "markdown",
      "id": "occasional-trail",
      "metadata": {
        "id": "occasional-trail"
      },
      "source": [
        "Two slashes (**//**) are used for floor division. The result is the one you would obtain with an ordinary division, rounded down to the nearest whole number or integer (aka there won't be a floating, or Decimal, point)."
      ]
    },
    {
      "cell_type": "code",
      "execution_count": null,
      "id": "passive-mauritius",
      "metadata": {
        "id": "passive-mauritius"
      },
      "outputs": [],
      "source": [
        "4//3"
      ]
    },
    {
      "cell_type": "markdown",
      "id": "fd496ede",
      "metadata": {
        "id": "fd496ede"
      },
      "source": [
        "Notice how the use of // rounds the output to 1 (integer!) and how using the division operator ('/') returns a floating value with decimal points)"
      ]
    },
    {
      "cell_type": "code",
      "execution_count": null,
      "id": "subjective-spectrum",
      "metadata": {
        "id": "subjective-spectrum"
      },
      "outputs": [],
      "source": [
        "5*3"
      ]
    },
    {
      "cell_type": "markdown",
      "id": "loaded-westminster",
      "metadata": {
        "id": "loaded-westminster"
      },
      "source": [
        "When using two stars, we exponentiate the numbers. Meaning, we take the number on the left to the power of the number to the right."
      ]
    },
    {
      "cell_type": "code",
      "execution_count": null,
      "id": "blank-discipline",
      "metadata": {
        "id": "blank-discipline"
      },
      "outputs": [],
      "source": [
        "5**3"
      ]
    },
    {
      "cell_type": "code",
      "execution_count": null,
      "id": "elegant-infection",
      "metadata": {
        "id": "elegant-infection"
      },
      "outputs": [],
      "source": [
        "(1+2) * 2"
      ]
    },
    {
      "cell_type": "code",
      "execution_count": null,
      "id": "10029234",
      "metadata": {
        "id": "10029234"
      },
      "outputs": [],
      "source": [
        "(1+2) ** 2"
      ]
    },
    {
      "cell_type": "markdown",
      "id": "1f27e5e1",
      "metadata": {
        "id": "1f27e5e1"
      },
      "source": [
        "The modulus operator ‘%’  is used to find out the remainder of the division when the left operand is divided by the right operand."
      ]
    },
    {
      "cell_type": "code",
      "execution_count": null,
      "id": "96a2111e",
      "metadata": {
        "id": "96a2111e"
      },
      "outputs": [],
      "source": [
        "4 % 2"
      ]
    },
    {
      "cell_type": "markdown",
      "id": "other-canyon",
      "metadata": {
        "id": "other-canyon"
      },
      "source": [
        "#### Challenge"
      ]
    },
    {
      "cell_type": "markdown",
      "id": "55a865a5",
      "metadata": {
        "id": "55a865a5"
      },
      "source": [
        "Find the volume of a few different spheres, with radii being: 16, 103, and 1931. Use the cells below to compute the volumes, and put your answer in place of the ellipses (\"...\") titled \"Answer Here!\".\n",
        "\n",
        "NOTE: For pi, use 3.14 as an approximation. Also, put your exact answer, with no rounding. (Copy/paste will be helpful)"
      ]
    },
    {
      "cell_type": "code",
      "execution_count": null,
      "id": "ea8bf1c6",
      "metadata": {
        "id": "ea8bf1c6",
        "tags": [
          "otter_answer_cell"
        ]
      },
      "outputs": [],
      "source": [
        "# radius = 16\n",
        "...\n",
        "\n",
        "# Answer Here!\n",
        "answer1 = ..."
      ]
    },
    {
      "cell_type": "code",
      "execution_count": null,
      "id": "02445376",
      "metadata": {
        "deletable": false,
        "editable": false,
        "id": "02445376"
      },
      "outputs": [],
      "source": [
        "grader.check(\"q1\")"
      ]
    },
    {
      "cell_type": "code",
      "execution_count": null,
      "id": "a186e7d0",
      "metadata": {
        "id": "a186e7d0",
        "tags": [
          "otter_answer_cell"
        ]
      },
      "outputs": [],
      "source": [
        "# radius = 103\n",
        "...\n",
        "\n",
        "# Answer Here!\n",
        "answer2 = ..."
      ]
    },
    {
      "cell_type": "code",
      "execution_count": null,
      "id": "18bc7c97",
      "metadata": {
        "deletable": false,
        "editable": false,
        "id": "18bc7c97"
      },
      "outputs": [],
      "source": [
        "grader.check(\"q2\")"
      ]
    },
    {
      "cell_type": "code",
      "execution_count": null,
      "id": "1e558c7c",
      "metadata": {
        "id": "1e558c7c",
        "tags": [
          "otter_answer_cell"
        ]
      },
      "outputs": [],
      "source": [
        "# radius = 1931\n",
        "...\n",
        "\n",
        "# Answer Here!\n",
        "answer3 = ..."
      ]
    },
    {
      "cell_type": "code",
      "execution_count": null,
      "id": "dfc3a70b",
      "metadata": {
        "deletable": false,
        "editable": false,
        "id": "dfc3a70b"
      },
      "outputs": [],
      "source": [
        "grader.check(\"q3\")"
      ]
    },
    {
      "cell_type": "markdown",
      "id": "8795d0eb",
      "metadata": {
        "id": "8795d0eb"
      },
      "source": [
        "Puzzle (if you're curious) : What relationship do the numbers 16, 103, and 1931 have with the Berkeley Lab?"
      ]
    },
    {
      "cell_type": "markdown",
      "id": "accurate-tension",
      "metadata": {
        "id": "accurate-tension"
      },
      "source": [
        "### 2.3 Python for textual data <a name='subsection3'></a>\n",
        "\n",
        "* Textual data are called strings\n",
        "* Strings are defined by the quotation marks (either \"double\"  or 'single').\n",
        "\n",
        "\n"
      ]
    },
    {
      "cell_type": "code",
      "execution_count": null,
      "id": "facial-childhood",
      "metadata": {
        "id": "facial-childhood"
      },
      "outputs": [],
      "source": [
        "# EXAMPLE\n",
        "\n",
        "'Berkeley Lab'"
      ]
    },
    {
      "cell_type": "code",
      "execution_count": null,
      "id": "excited-point",
      "metadata": {
        "id": "excited-point"
      },
      "outputs": [],
      "source": [
        "\"Berkeley Lab\""
      ]
    },
    {
      "cell_type": "markdown",
      "id": "dirty-interpretation",
      "metadata": {
        "id": "dirty-interpretation"
      },
      "source": [
        "Be careful, because some of the textual information might already contain the single (more common) or double (less common) quotation marks inside. Like so:"
      ]
    },
    {
      "cell_type": "code",
      "execution_count": null,
      "id": "rolled-recipient",
      "metadata": {
        "id": "rolled-recipient"
      },
      "outputs": [],
      "source": [
        "# EXAMPLE\n",
        "\n",
        "'Zachary's'"
      ]
    },
    {
      "cell_type": "markdown",
      "id": "according-sacrifice",
      "metadata": {
        "id": "according-sacrifice"
      },
      "source": [
        "If we were to use single quotation marks on the outside, it would give us an error like the one above. To fix this, we want to use double quotations outside, or simply put a backslash before the quotation mark, so the computer will read it as part of the string instead of a part of the code itself (this is called \"character escape\")."
      ]
    },
    {
      "cell_type": "code",
      "execution_count": null,
      "id": "better-powder",
      "metadata": {
        "id": "better-powder"
      },
      "outputs": [],
      "source": [
        "# EXAMPLE\n",
        "\n",
        "\"Zachary's\""
      ]
    },
    {
      "cell_type": "code",
      "execution_count": null,
      "id": "typical-measure",
      "metadata": {
        "id": "typical-measure"
      },
      "outputs": [],
      "source": [
        "# EXAMPLE\n",
        "\n",
        "'Zachary\\'s'"
      ]
    },
    {
      "cell_type": "markdown",
      "id": "jewish-senior",
      "metadata": {
        "id": "jewish-senior"
      },
      "source": [
        "Everything inside that quotation marks will be read as a textual information. Compare the outputs in the cell below."
      ]
    },
    {
      "cell_type": "code",
      "execution_count": null,
      "id": "tracked-klein",
      "metadata": {
        "id": "tracked-klein"
      },
      "outputs": [],
      "source": [
        "# EXAMPLE\n",
        "\"2+3\""
      ]
    },
    {
      "cell_type": "code",
      "execution_count": null,
      "id": "d1f2c68e",
      "metadata": {
        "id": "d1f2c68e"
      },
      "outputs": [],
      "source": [
        "# EXAMPLE\n",
        "2+3"
      ]
    },
    {
      "cell_type": "code",
      "execution_count": null,
      "id": "273de8d9",
      "metadata": {
        "id": "273de8d9"
      },
      "outputs": [],
      "source": [
        "# EXAMPLE\n",
        "\"2\"+\"3\""
      ]
    },
    {
      "cell_type": "markdown",
      "id": "south-particle",
      "metadata": {
        "id": "south-particle"
      },
      "source": [
        "Add 2 strings together (with a **+**) to see what happens!"
      ]
    },
    {
      "cell_type": "code",
      "execution_count": null,
      "id": "nearby-frost",
      "metadata": {
        "id": "nearby-frost"
      },
      "outputs": [],
      "source": [
        "# EXERCISE\n",
        "\n",
        "'hello' + 'world'"
      ]
    },
    {
      "cell_type": "markdown",
      "id": "working-bloom",
      "metadata": {
        "id": "working-bloom"
      },
      "source": [
        "Multiply a string by a number to see what happens!"
      ]
    },
    {
      "cell_type": "code",
      "execution_count": null,
      "id": "fancy-green",
      "metadata": {
        "id": "fancy-green"
      },
      "outputs": [],
      "source": [
        "# EXERCISE\n",
        "'hello' * 3\n"
      ]
    },
    {
      "cell_type": "markdown",
      "id": "handled-quebec",
      "metadata": {
        "id": "handled-quebec"
      },
      "source": [
        "In Python, there is something called \"casting.\" Casting is the process of converting a variable from one type to the other. For achieving this in Python, the casting functions are in place. The casting functions take responsibility for the conversion of the variables from their actual type to the other format.\n",
        "\n",
        "For example: To convert to an integer to a string, write \"str()\", and inside the parenthesis, write the variable you want to cast as a string. To convert a float to an integer, do the same thing but write \"int()\""
      ]
    },
    {
      "cell_type": "code",
      "execution_count": null,
      "id": "distant-luxembourg",
      "metadata": {
        "id": "distant-luxembourg"
      },
      "outputs": [],
      "source": [
        "# EXAMPLE\n",
        "\n",
        "str(5)"
      ]
    },
    {
      "cell_type": "code",
      "execution_count": null,
      "id": "9ef1db2a",
      "metadata": {
        "id": "9ef1db2a"
      },
      "outputs": [],
      "source": [
        "# EXAMPLE\n",
        "\n",
        "int(5.00)"
      ]
    },
    {
      "cell_type": "markdown",
      "id": "c6291755",
      "metadata": {
        "id": "c6291755"
      },
      "source": [
        "Try converting the string \"12\" to an integer below:"
      ]
    },
    {
      "cell_type": "code",
      "execution_count": null,
      "id": "7fcd31e6",
      "metadata": {
        "id": "7fcd31e6"
      },
      "outputs": [],
      "source": [
        "# EXERCISE\n",
        "\n"
      ]
    },
    {
      "cell_type": "markdown",
      "id": "a61b64a7",
      "metadata": {
        "id": "a61b64a7"
      },
      "source": [
        "What do you think might happen is you tried converting the string \"hello\" to an integer? let's try it!"
      ]
    },
    {
      "cell_type": "code",
      "execution_count": null,
      "id": "432d12c0",
      "metadata": {
        "id": "432d12c0"
      },
      "outputs": [],
      "source": [
        "#EXERCISE\n"
      ]
    },
    {
      "cell_type": "markdown",
      "id": "beautiful-progressive",
      "metadata": {
        "id": "beautiful-progressive"
      },
      "source": [
        "### 2.4 Variables <a name='subsection4'></a>"
      ]
    },
    {
      "cell_type": "markdown",
      "id": "0118393e",
      "metadata": {
        "id": "0118393e"
      },
      "source": [
        "We can think of a variable as a container or a storage box that allows us to save various types of information/objects we plan to use later. Defining a variable consists of two components: a name it will be called by and information/object you store under that name. One variable can hold one type of information.\n",
        "\n",
        "Python variables are of four different types: Integer, Long Integer, Float, and String.\n",
        "Integers are used to define numeric values;\n",
        "Long Integers are used for defining integers with bigger lengths than a normal Integer.\n",
        "Floats are used for defining decimal values.\n",
        "Strings are used for defining characters.\n",
        "\n",
        "* We assign a variable using **=**\n",
        "\n",
        "Python has the ability to determine the type of the variable just based on the type of value being stored in it."
      ]
    },
    {
      "cell_type": "code",
      "execution_count": null,
      "id": "harmful-observer",
      "metadata": {
        "id": "harmful-observer"
      },
      "outputs": [],
      "source": [
        "# EXAMPLE\n",
        "\n",
        "var = \"whatever\"\n",
        "var"
      ]
    },
    {
      "cell_type": "markdown",
      "id": "9f1e61e7",
      "metadata": {
        "id": "9f1e61e7"
      },
      "source": [
        "Question: What type of variable is used in the above example? Let us check."
      ]
    },
    {
      "cell_type": "code",
      "execution_count": null,
      "id": "c74874cf",
      "metadata": {
        "id": "c74874cf"
      },
      "outputs": [],
      "source": [
        "# EXAMPLE\n",
        "type(var)"
      ]
    },
    {
      "cell_type": "markdown",
      "id": "binding-station",
      "metadata": {
        "id": "binding-station"
      },
      "source": [
        "In the cell below create a variable \"name\" that will save your full name in it."
      ]
    },
    {
      "cell_type": "code",
      "execution_count": null,
      "id": "casual-complex",
      "metadata": {
        "id": "casual-complex"
      },
      "outputs": [],
      "source": [
        "# EXERCISE\n",
        "\n",
        "name  = ...\n",
        "name"
      ]
    },
    {
      "cell_type": "code",
      "execution_count": null,
      "id": "47071b46",
      "metadata": {
        "id": "47071b46"
      },
      "outputs": [],
      "source": [
        "# EXAMPLE\n",
        "\n",
        "V1 = 10\n",
        "print(V1)\n",
        "V2 = int(\"111111111111111111111\")\n",
        "print(V2)\n",
        "V3 = 3.14\n",
        "print(V3)\n",
        "V4 = \"Numbers\"\n",
        "print(V4)"
      ]
    },
    {
      "cell_type": "markdown",
      "id": "7d3a0e82",
      "metadata": {
        "id": "7d3a0e82"
      },
      "source": [
        "The above code consists of four variables named V1, V2, V3 and V4; one holds an integer value, the other holds a long integer value, the next one holds a float value, and the last one holds a string value. The print statements print the value stored in each variable used in the code block."
      ]
    },
    {
      "cell_type": "code",
      "execution_count": null,
      "id": "ef8baa19",
      "metadata": {
        "id": "ef8baa19"
      },
      "outputs": [],
      "source": [
        "# EXAMPLE\n",
        "\n",
        "V1 = 10\n",
        "print(v1)\n"
      ]
    },
    {
      "cell_type": "markdown",
      "id": "c2b2b1e4",
      "metadata": {
        "id": "c2b2b1e4"
      },
      "source": [
        "Why did the above example code not work? What did you learn about variable name assigning from the previous example?"
      ]
    },
    {
      "cell_type": "markdown",
      "id": "50e5edb2",
      "metadata": {
        "id": "50e5edb2"
      },
      "source": [
        "### <center>  * * * Good Coding Practice Moment * * * <center>\n",
        "#### Choosing a good name for your variables\n",
        "\n",
        "It is important to give variables names that describe what they do.\n",
        "`var` is not a good name for a variable because it doesn't tell you anything about what the variable is, but `name` is a much better name for a variable.\n",
        "\n",
        "* Variable names usually start with a lowercase letter\n",
        "* If you want to use a multi-word variable name, use an underscore ( \\_) between the words, or capitalize the first letter of the _second word_ (and the third, fourth...). The first is called \"snake case\", the second \"camel case\".\n",
        "* For example: `first_name` and `last_name` or `firstName` and `lastName` (It doesn't matter which you choose, as long as you are consistant)\n",
        "\n",
        "### <center> * * * * * * * * * * * * * * * * * * * * * * * * * * * * <center>"
      ]
    },
    {
      "cell_type": "code",
      "execution_count": null,
      "id": "19abc4bf",
      "metadata": {
        "id": "19abc4bf"
      },
      "outputs": [],
      "source": [
        "# Did you read the text above? If not, take a minute to read it\n",
        "..."
      ]
    },
    {
      "cell_type": "markdown",
      "id": "listed-combining",
      "metadata": {
        "id": "listed-combining"
      },
      "source": [
        "Variables can be used for any Data Type or Data Structure (which we will learn about tomorrow). Numbers that you plan to reuse can be saved under a variable as well."
      ]
    },
    {
      "cell_type": "code",
      "execution_count": null,
      "id": "martial-magic",
      "metadata": {
        "id": "martial-magic"
      },
      "outputs": [],
      "source": [
        "# EXAMPLE\n",
        "\n",
        "g = 9.8 # acceleration due to gravity (m/s/s)\n",
        "g"
      ]
    },
    {
      "cell_type": "markdown",
      "id": "f108858f",
      "metadata": {
        "id": "f108858f"
      },
      "source": [
        "### <center> * * * Good Coding Practice Moment * * * <center>\n",
        "#### Describe your variables the first time you use them\n",
        "Even if you choose good names for your variables, sometimes you still forget what they mean, for that reason it is often a good idea when you first define a variable to include a comment describing the variable. Like in the example above I like to also specify units if applicable.\n",
        "\n",
        "### <center> * * * * * * * * * * * * * * * * * * * * * * * * * * * * <center>"
      ]
    },
    {
      "cell_type": "code",
      "execution_count": null,
      "id": "be81fdf4",
      "metadata": {
        "id": "be81fdf4"
      },
      "outputs": [],
      "source": [
        "# Did you read the text above? If not, take a minute to read it"
      ]
    },
    {
      "cell_type": "markdown",
      "id": "eefbe5fd",
      "metadata": {
        "id": "eefbe5fd"
      },
      "source": [
        "You can do arithmetic with variables:"
      ]
    },
    {
      "cell_type": "code",
      "execution_count": null,
      "id": "c7ba7d00",
      "metadata": {
        "id": "c7ba7d00"
      },
      "outputs": [],
      "source": [
        "# EXAMPLE\n",
        "\n",
        "mass = 77 # mass in kg\n",
        "\n",
        "force = g * mass\n",
        "\n",
        "print(force)"
      ]
    },
    {
      "cell_type": "markdown",
      "id": "030724af",
      "metadata": {
        "id": "030724af"
      },
      "source": [
        "Given the following values for area and width of a rectangle below, what is the value of the length?"
      ]
    },
    {
      "cell_type": "code",
      "execution_count": null,
      "id": "c5426fa0",
      "metadata": {
        "deletable": false,
        "editable": false,
        "id": "c5426fa0"
      },
      "outputs": [],
      "source": [
        "# EXERCISE\n",
        "area = 15\n",
        "width = 3"
      ]
    },
    {
      "cell_type": "code",
      "execution_count": null,
      "id": "d3eaafe6",
      "metadata": {
        "id": "d3eaafe6",
        "tags": [
          "otter_answer_cell"
        ]
      },
      "outputs": [],
      "source": [
        "length = ...\n",
        "\n",
        "print(length)"
      ]
    },
    {
      "cell_type": "code",
      "execution_count": null,
      "id": "d7fcfeee",
      "metadata": {
        "deletable": false,
        "editable": false,
        "id": "d7fcfeee"
      },
      "outputs": [],
      "source": [
        "grader.check(\"q4\")"
      ]
    },
    {
      "cell_type": "markdown",
      "id": "db5392c8",
      "metadata": {
        "id": "db5392c8"
      },
      "source": [
        "Given the values of velocity and time below, what is the distance traveled? *(Hint: Remember that velocity = distance / time)*"
      ]
    },
    {
      "cell_type": "code",
      "execution_count": null,
      "id": "a7453eaa",
      "metadata": {
        "deletable": false,
        "editable": false,
        "id": "a7453eaa"
      },
      "outputs": [],
      "source": [
        "# EXERCISE\n",
        "velocity = 65 # miles per hour\n",
        "time = 45 # time in minutes"
      ]
    },
    {
      "cell_type": "code",
      "execution_count": null,
      "id": "d3c6974e",
      "metadata": {
        "id": "d3c6974e",
        "tags": [
          "otter_answer_cell"
        ]
      },
      "outputs": [],
      "source": [
        "# distance in miles\n",
        "distance = ...\n",
        "\n",
        "print(distance)"
      ]
    },
    {
      "cell_type": "code",
      "execution_count": null,
      "id": "128cf3ad",
      "metadata": {
        "deletable": false,
        "editable": false,
        "id": "128cf3ad"
      },
      "outputs": [],
      "source": [
        "grader.check(\"q5\")"
      ]
    },
    {
      "cell_type": "markdown",
      "id": "HVdU_tqvgZJT",
      "metadata": {
        "id": "HVdU_tqvgZJT"
      },
      "source": [
        "---\n",
        "\n",
        "Notebook developed by: Kseniya Usovich, Rachel McCarty, Baishakhi Bose, Alisa Bettale, Laurel Hales, Lawrence Chen, Arianna Formenti, Evan Neill"
      ]
    }
  ],
  "metadata": {
    "colab": {
      "provenance": []
    },
    "kernelspec": {
      "display_name": "k12_notebooks",
      "language": "python",
      "name": "python3"
    },
    "language_info": {
      "codemirror_mode": {
        "name": "ipython",
        "version": 3
      },
      "file_extension": ".py",
      "mimetype": "text/x-python",
      "name": "python",
      "nbconvert_exporter": "python",
      "pygments_lexer": "ipython3",
      "version": "3.12.5"
    }
  },
  "nbformat": 4,
  "nbformat_minor": 5
}
