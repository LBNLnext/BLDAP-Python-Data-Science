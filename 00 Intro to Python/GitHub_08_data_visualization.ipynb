{
  "cells": [
    {
      "cell_type": "markdown",
      "metadata": {
        "id": "LWoqf6HRTkna"
      },
      "source": [
        "----\n",
        "\n",
        "# Data Visualization\n",
        "\n",
        "----\n",
        "\n",
        "### Table of Contents\n",
        "\n",
        "1 - [Matplotlib](#section1)<br>\n",
        "\n",
        "&nbsp;&nbsp;&nbsp;&nbsp;&nbsp;&nbsp; 1.1 - [Line Plots](#subsection1)<br>\n",
        "\n",
        "&nbsp;&nbsp;&nbsp;&nbsp;&nbsp;&nbsp; 1.2 - [Scatter Plots](#subsection2)<br>\n",
        "\n",
        "&nbsp;&nbsp;&nbsp;&nbsp;&nbsp;&nbsp; 1.3 - [Bar Plots](#subsection3)<br>\n",
        "\n",
        "&nbsp;&nbsp;&nbsp;&nbsp;&nbsp;&nbsp; 1.4 - [Histograms](#subsection4)<br>\n",
        "\n",
        "2 - [Working with Data: Energy](#section2)<br>\n",
        "\n",
        "&nbsp;&nbsp;&nbsp;&nbsp;&nbsp;&nbsp; 2.1 - [Pie Charts](#subsection5)<br>\n",
        "\n",
        "&nbsp;&nbsp;&nbsp;&nbsp;&nbsp;&nbsp; 2.2 - [Bar Charts](#subsection6)<br>\n",
        "\n",
        "&nbsp;&nbsp;&nbsp;&nbsp;&nbsp;&nbsp; 2.3 - [Line Charts](#subsection7)<br>\n",
        "\n",
        "&nbsp;&nbsp;&nbsp;&nbsp;&nbsp;&nbsp; 2.4 - [Stacked Bar Charts](#subsection8)<br>\n",
        "\n",
        "&nbsp;&nbsp;&nbsp;&nbsp;&nbsp;&nbsp; 2.5 - [Stacked Area Charts](#subsection9)<br>\n",
        "\n",
        "3 - [What is a mathematical function?](#section3)<br>\n",
        "\n",
        "4 - [Linear functions and simple models](#section4)<br>\n",
        "\n",
        "5 - [BONUS: Gaussian functions and probability distributions](#section5)<br>\n",
        "\n",
        "6 - [Exploring Python data visualization further...](#section6)<br>\n",
        "\n",
        "\n"
      ]
    },
    {
      "cell_type": "markdown",
      "metadata": {
        "id": "E4K8bBR1Tknb"
      },
      "source": [
        "Before we start this notebook, similar to our previous notebook, we will have to run some code at the beginning to make sure everything is set up correctly. Please run the cells below."
      ]
    },
    {
      "cell_type": "markdown",
      "metadata": {
        "id": "vkYQizbWTknc"
      },
      "source": [
        "## 1. Matplotlib <a name='section1'></a>"
      ]
    },
    {
      "cell_type": "markdown",
      "metadata": {
        "id": "oUWs1LslTknd"
      },
      "source": [
        "We'll create visualizations in Python using a popular Python package called matplotlib. Let's import matplotlib along with several other Python libraries that we will be using:"
      ]
    },
    {
      "cell_type": "code",
      "execution_count": null,
      "metadata": {
        "id": "AjM4s47bTknd"
      },
      "outputs": [],
      "source": [
        "import math\n",
        "import numpy as np\n",
        "import pandas as pd\n",
        "import matplotlib as mpl\n",
        "import matplotlib.pyplot as plt"
      ]
    },
    {
      "cell_type": "markdown",
      "metadata": {
        "id": "gURfkZGpTknd"
      },
      "source": [
        "To plot something, we need data! To begin, we will use very simple arrays. Let's try plotting just two points, `(x1, y1) = (1,1)`; `(x2, y2) = (5,5)`"
      ]
    },
    {
      "cell_type": "code",
      "execution_count": null,
      "metadata": {
        "id": "ngQGM8wKTknd"
      },
      "outputs": [],
      "source": [
        "# EXAMPLE\n",
        "\n",
        "xpoints = np.array([1,5])\n",
        "ypoints = np.array([1,5])\n",
        "\n",
        "plt.plot(xpoints, ypoints);"
      ]
    },
    {
      "cell_type": "markdown",
      "metadata": {
        "id": "nS3OpvUWTkne"
      },
      "source": [
        "**Quick note**: Use a semicolon `;` at the end of the last line in a Jupyter notebook cell to suppress the notebooks from printing the return value of the last line. Try removing the semicolon in the above cell and see how the output changes."
      ]
    },
    {
      "cell_type": "markdown",
      "metadata": {
        "id": "V_DZHL51Tkne"
      },
      "source": [
        "You can use the keyword argument `marker` to specify each point:"
      ]
    },
    {
      "cell_type": "code",
      "execution_count": null,
      "metadata": {
        "id": "ikW52u4xTkne"
      },
      "outputs": [],
      "source": [
        "# EXAMPLE\n",
        "\n",
        "plt.plot(xpoints, ypoints, marker='o');"
      ]
    },
    {
      "cell_type": "markdown",
      "metadata": {
        "id": "GUB04i2sTknf"
      },
      "source": [
        "There are other markers that you can find in [matplotlib's documentation page](https://matplotlib.org/stable/api/markers_api.html).\n",
        "\n",
        "Choose a marker from the documentation page and try it out below!"
      ]
    },
    {
      "cell_type": "code",
      "execution_count": null,
      "metadata": {
        "id": "2ZCJX3PuTknf"
      },
      "outputs": [],
      "source": [
        "# EXERCISE - Try plotting with a marker of your choice:\n",
        "\n",
        "plt.plot(xpoints, ypoints, marker=...);"
      ]
    },
    {
      "cell_type": "markdown",
      "metadata": {
        "id": "WGUmTRcBTknf"
      },
      "source": [
        "Without the marker keyword, you can plot without a connecting line:"
      ]
    },
    {
      "cell_type": "code",
      "execution_count": null,
      "metadata": {
        "id": "PS3ohr78Tknf"
      },
      "outputs": [],
      "source": [
        "# EXAMPLE\n",
        "\n",
        "plt.plot(xpoints, ypoints, '^');"
      ]
    },
    {
      "cell_type": "markdown",
      "metadata": {
        "id": "eXsLUsdmTknf"
      },
      "source": [
        "### 1.1 Line Plots <a id='subsection1'></a>"
      ]
    },
    {
      "cell_type": "markdown",
      "metadata": {
        "id": "hwnPbrFlTknf"
      },
      "source": [
        "We've actually created line plots above, but let's go further. Any good plot needs to have a title, x and y axis labels:"
      ]
    },
    {
      "cell_type": "code",
      "execution_count": null,
      "metadata": {
        "id": "U8oTinfSTknf"
      },
      "outputs": [],
      "source": [
        "# EXAMPLE\n",
        "\n",
        "time = np.array([0, 5, 10, 15, 20])\n",
        "distance = np.array([0, 12.5, 50, 112.5, 200])\n",
        "\n",
        "plt.title('Distance over Time')\n",
        "plt.xlabel('Time (s)')\n",
        "plt.ylabel('Distance (m)')\n",
        "plt.plot(time, distance);"
      ]
    },
    {
      "cell_type": "code",
      "execution_count": null,
      "metadata": {
        "id": "StT09KHITknf"
      },
      "outputs": [],
      "source": [
        "# EXAMPLE - even more customization with colors, linewidth and linestyle\n",
        "\n",
        "time = np.array([0, 5, 10, 15, 20])\n",
        "distance = np.array([0, 12.5, 50, 112.5, 200])\n",
        "\n",
        "plt.title('Distance over Time')\n",
        "plt.xlabel('Time (s)')\n",
        "plt.ylabel('Distance (m)')\n",
        "plt.plot(time, distance, linewidth='5', color='darkmagenta', linestyle='dashed');"
      ]
    },
    {
      "cell_type": "markdown",
      "metadata": {
        "id": "EGqtq5KiTknf"
      },
      "source": [
        "You can find a table of colors [here](https://www.w3schools.com/colors/colors_names.asp). Note that you can use either the color names like above or the hexadecimal value (for example the hexadecimal value for Dark Magenta is #8B008B)."
      ]
    },
    {
      "cell_type": "markdown",
      "metadata": {
        "id": "zbgkO4VaTkng"
      },
      "source": [
        "### 1.2 Scatter Plots <a name='subsection2'></a>"
      ]
    },
    {
      "cell_type": "markdown",
      "metadata": {
        "id": "kf93ypdmTkng"
      },
      "source": [
        "Scatter plots are useful when you are looking for a relationship between two variables.\n",
        "\n",
        "We can use the `scatter()` function to draw a scatter plot:"
      ]
    },
    {
      "cell_type": "code",
      "execution_count": null,
      "metadata": {
        "id": "yqv1PiMCTkng"
      },
      "outputs": [],
      "source": [
        "# EXAMPLE\n",
        "\n",
        "plt.title('Distance over Time')\n",
        "plt.xlabel('Time (s)')\n",
        "plt.ylabel('Distance (m)')\n",
        "plt.scatter(time, distance);"
      ]
    },
    {
      "cell_type": "code",
      "execution_count": null,
      "metadata": {
        "id": "rxf5l-RTTkng"
      },
      "outputs": [],
      "source": [
        "# EXAMPLE - Two data sets\n",
        "\n",
        "time2 = np.array([0, 5, 10, 15, 20])\n",
        "distance2 = np.array([0, 50, 100, 150, 200])\n",
        "\n",
        "plt.title('Distance over Time')\n",
        "plt.xlabel('Time (s)')\n",
        "plt.ylabel('Distance (m)')\n",
        "plt.scatter(time, distance, color='red'); #Similar to before you can change the color\n",
        "plt.scatter(time2, distance2, color='blue');"
      ]
    },
    {
      "cell_type": "markdown",
      "metadata": {
        "id": "FwHCIWYLTkng"
      },
      "source": [
        "For the exercise below, you are given data points for average temperature (in Fahrenheit) and average humidity (in %) for Berkeley over 12 months (data from [Climate-Data.org](https://en.climate-data.org/north-america/united-states-of-america/california/berkeley-1266/)).  \n",
        "Make two scatter plots - one for each data set. Don't forget the plot title and axes labels."
      ]
    },
    {
      "cell_type": "code",
      "execution_count": null,
      "metadata": {
        "id": "7QY4XBO7Tknh"
      },
      "outputs": [],
      "source": [
        "# Data sets for the exercise\n",
        "\n",
        "months = np.array([\"Jan\", \"Feb\", \"Mar\", \"Apr\", \"May\", \"Jun\", \"Jul\", \"Aug\", \"Sep\", \"Oct\", \"Nov\", \"Dec\"])\n",
        "temperature = np.array([48.1, 49.9, 52.7, 55.3, 59.5, 63.9, 64.6, 64.9, 65, 61.3, 54, 48.6])\n",
        "humidity = np.array([77, 78, 74, 66, 62, 60, 65, 66, 62, 63, 72, 76])"
      ]
    },
    {
      "cell_type": "code",
      "execution_count": null,
      "metadata": {
        "id": "y2_dcEIWTknh"
      },
      "outputs": [],
      "source": [
        "# EXERCISE - Create a scatter plot for Berkeley's average temperature data\n",
        "\n",
        "plt.title('Berkeley\\'s Average Temperature Over a Year')\n",
        "plt.xlabel(...)\n",
        "plt.ylabel('Temperature (Fahrenheit)')\n",
        "plt.scatter(...);"
      ]
    },
    {
      "cell_type": "code",
      "execution_count": null,
      "metadata": {
        "id": "3O9xteVGTknh"
      },
      "outputs": [],
      "source": [
        "# EXERCISE - Create a scatter plot for Berkeley's average humidity data\n",
        "\n",
        "plt.title(...)\n",
        "plt.xlabel(...)\n",
        "plt.ylabel(...)\n",
        "plt.scatter(...);"
      ]
    },
    {
      "cell_type": "markdown",
      "metadata": {
        "id": "xhpnqy19Tknh"
      },
      "source": [
        "For the next exercises we will look at some data from the data survey taken earlier in BLDAP. Let's first read in the data.\n",
        "\n",
        "In the cell below we will read in the survey data and also be running code to clean up the column names so they are easier to use. You do not need to modify the code, but we are keeping it here in case anyone would like to see how easy it is to do this with Python - just 3 lines!"
      ]
    },
    {
      "cell_type": "code",
      "execution_count": null,
      "metadata": {
        "id": "D3eO0UYqTknh"
      },
      "outputs": [],
      "source": [
        "### READING IN DATA - DO NOT MODIFY\n",
        "\n",
        "# Survey as is saved from the system\n",
        "survey_data = pd.read_csv('data/BLDAP2025DataSurvey.csv') #MODIFY AS NEEDED FOR THE YEAR\n",
        "\n",
        "# Cleaning up the column names\n",
        "old_columns = survey_data.columns\n",
        "survey_data.rename(columns={old_columns[0]: 'Hours Slept', old_columns[1]:'Number of Siblings', old_columns[2]: 'Height', old_columns[3]: 'Home-LBNL Distance', old_columns[4]: 'Commute Time', old_columns[5]: 'Pineapple Pizza Rating'}, inplace=True)\n",
        "survey_data.drop(columns=old_columns[0], inplace=True)\n",
        "\n",
        "# Let's take a look at our dataframe\n",
        "survey_data.head()"
      ]
    },
    {
      "cell_type": "markdown",
      "metadata": {
        "id": "qsTYhO78Tknh"
      },
      "source": [
        "**EXERCISE**\n",
        "Produce a scatter plot looking at participants' distances from home to the Lab and their commute time.\n",
        "Is there a correlation or a trend?\n",
        "\n",
        "*Hint: Check back to notebook 06 to see how to get just a column of data.*"
      ]
    },
    {
      "cell_type": "code",
      "execution_count": null,
      "metadata": {
        "id": "ynfC_j1hTknh"
      },
      "outputs": [],
      "source": [
        "#Grab relevant data from the dataframe (see notebook 06)\n",
        "x_data = ... # Home-LBNL Distance data\n",
        "y_data = ... # Commute Time data\n",
        "\n",
        "#Create axes labels with units\n",
        "plt.xlabel('...')\n",
        "plt.ylabel('...')\n",
        "\n",
        "#Plot data\n",
        "plt.scatter(x_data, y_data);"
      ]
    },
    {
      "cell_type": "markdown",
      "metadata": {
        "id": "pbHMLjDzTknm"
      },
      "source": [
        "**EXERCISE**\n",
        "\n",
        "Try creating scatter plots for other data columns. What about the number of siblings and the pineapple pizza rating?"
      ]
    },
    {
      "cell_type": "code",
      "execution_count": null,
      "metadata": {
        "id": "axVsIDqcTknm"
      },
      "outputs": [],
      "source": [
        "#Grab relevant data from the dataframe\n",
        "x_data = ...\n",
        "y_data = ...\n",
        "\n",
        "#Create axes labels with units if relevant\n",
        "plt.xlabel('...')\n",
        "plt.ylabel('...')\n",
        "\n",
        "#Plot data\n",
        "plt.scatter(...);"
      ]
    },
    {
      "cell_type": "markdown",
      "metadata": {
        "id": "CEYig3SUTknm"
      },
      "source": [
        "### 1.3 Bar Plots <a name='subsection3'></a>"
      ]
    },
    {
      "cell_type": "markdown",
      "metadata": {
        "id": "XeKWiebNTknm"
      },
      "source": [
        "Bar plots represent categorical data with rectangular bars (vertical or horizontal) that are proportional to the values they represent."
      ]
    },
    {
      "cell_type": "code",
      "execution_count": null,
      "metadata": {
        "id": "yBXc3BXWTknm"
      },
      "outputs": [],
      "source": [
        "# EXAMPLE\n",
        "\n",
        "courses = np.array([\"C\", \"C++\", \"Fortran\", \"Java\", \"MATLAB\", \"Python\"])\n",
        "students = np.array([10, 20, 5, 30, 30, 50])\n",
        "\n",
        "plt.title('Number of students enrolled in coding classes')\n",
        "plt.xlabel('Coding Courses')\n",
        "plt.ylabel('Number of Students')\n",
        "plt.bar(courses, students);"
      ]
    },
    {
      "cell_type": "code",
      "execution_count": null,
      "metadata": {
        "id": "DrqkjzasTknm"
      },
      "outputs": [],
      "source": [
        "#EXAMPLE - same data but horizontal\n",
        "\n",
        "plt.title('Number of students enrolled in coding classes')\n",
        "plt.xlabel('Number of Students')\n",
        "plt.ylabel('Coding Courses')\n",
        "plt.barh(courses, students);"
      ]
    },
    {
      "cell_type": "markdown",
      "metadata": {
        "id": "MGTq7oCETknm"
      },
      "source": [
        "### 1.4 Histograms <a name='subsection4'></a>"
      ]
    },
    {
      "cell_type": "markdown",
      "metadata": {
        "id": "uaXR1V4DTknm"
      },
      "source": [
        "A histogram is a common data distribution chart that is used to show the frequency with which specific values, or values within ranges, occur in a set of data.\n",
        "\n",
        "The horizontal axis of a histogram displays the number range and the vertical axis represents the amount of data (frequency) that is present in each range."
      ]
    },
    {
      "cell_type": "code",
      "execution_count": null,
      "metadata": {
        "id": "LOM1qGVyTknm"
      },
      "outputs": [],
      "source": [
        "# EXAMPLE\n",
        "\n",
        "hoursSlept = np.array([3, 4, 5, 5, 5, 6, 6, 7, 7, 7, 7, 7, 8, 8, 8, 8, 9, 10, 10, 11, 12])\n",
        "\n",
        "plt.title('Number of Hours Slept for A Class of 11th Graders')\n",
        "plt.xlabel('Number of Hours')\n",
        "plt.ylabel('Frequency')\n",
        "plt.hist(hoursSlept);"
      ]
    },
    {
      "cell_type": "markdown",
      "metadata": {
        "id": "Ck1g1pIJTknn"
      },
      "source": [
        "Make the histogram again, but this time with a bin size of 5. We can do this by adding `bins = 5` inside of the histogram command after the dataset.\n",
        "\n",
        "Make sure to include the title and axis labels."
      ]
    },
    {
      "cell_type": "code",
      "execution_count": null,
      "metadata": {
        "id": "HwLTJr-4Tknn"
      },
      "outputs": [],
      "source": [
        "#EXERCISE\n",
        "\n",
        "plt.title('Number of Hours Slept for A Class of 11th Graders')\n",
        "plt.xlabel('Number of Hours')\n",
        "plt.ylabel('Frequency')\n",
        "plt.hist(hoursSlept, bins=...);"
      ]
    },
    {
      "cell_type": "markdown",
      "metadata": {
        "id": "1Rb0BBcATknn"
      },
      "source": [
        "What do you notice when we reduce the number of bins to 5?\n",
        "\n",
        "There is no \"right\" way to display a histogram, but it's important to keep in mind that some bin counts convey more information than others.  \n",
        "For example, reducing the bin size even further to 2, we can see that we don't get a good grasp on the distribution of hours slept. Fill out the code below to have a bin size of 2:"
      ]
    },
    {
      "cell_type": "code",
      "execution_count": null,
      "metadata": {
        "id": "FsxRiS_yTknn"
      },
      "outputs": [],
      "source": [
        "#EXERCISE\n",
        "\n",
        "plt.title...\n",
        "plt.xlabel...\n",
        "plt.ylabel...\n",
        "plt.hist(hoursSlept, ...);"
      ]
    },
    {
      "cell_type": "markdown",
      "metadata": {
        "id": "d2PL84Q4Tknn"
      },
      "source": [
        "Lets play around with this a little more. In order to do this, we need to generate some data. We can do this using the command `np.random.normal()` (this will generate normally distributed data).  \n",
        "\n",
        "Look up online to figure out how to use this command."
      ]
    },
    {
      "cell_type": "code",
      "execution_count": null,
      "metadata": {
        "id": "zEBnStXETknn"
      },
      "outputs": [],
      "source": [
        "# EXERCISE -\n",
        "# Use np.random.normal to generate a normally distributed dataset with 100000 values.\n",
        "\n",
        "x = ...\n",
        "plt.hist(x);"
      ]
    },
    {
      "cell_type": "code",
      "execution_count": null,
      "metadata": {
        "id": "VJbNxUhMTknn"
      },
      "outputs": [],
      "source": [
        "# play around with the bin size for this histogram with random numbers.\n",
        "# Which bin size do you prefer?\n",
        "\n",
        "plt.hist(x, ...);"
      ]
    },
    {
      "cell_type": "markdown",
      "metadata": {
        "id": "Hoi6VwD2Tknn"
      },
      "source": [
        "**EXERCISE**\n",
        "\n",
        "Go back to the data survey data and create a histogram of the heights. Recall that the survey data was read into a dataframe called `survey_data`. Look at your previous exercises under scatter plots to see how you grabbed columns of data.\n",
        "\n",
        "Does your histogram look like a bell? Play around with the bin size."
      ]
    },
    {
      "cell_type": "code",
      "execution_count": null,
      "metadata": {
        "id": "7BFtp72iTknn"
      },
      "outputs": [],
      "source": [
        "height = ...\n",
        "\n",
        "plt.hist(...);"
      ]
    },
    {
      "cell_type": "markdown",
      "metadata": {
        "id": "TUsgiXiFTknn"
      },
      "source": [
        "**Discussion Question:** What is the difference between a bar plot and a histogram?"
      ]
    },
    {
      "cell_type": "markdown",
      "metadata": {
        "id": "a_cCOzUsTkno"
      },
      "source": [
        "## 2. Working with Data: Energy <a name='section2'></a>"
      ]
    },
    {
      "cell_type": "markdown",
      "metadata": {
        "id": "mOCvrUt8Tknp"
      },
      "source": [
        "We will learn to plot some interesting energy sector related data. Most of this data is from US Energy Information Administration (EIA). EIA was established in 1977 driven by the energy crisis of the 1970s. But they have energy related data from much before that period. They have formalized data collection efforts for energy sector and we use that data extensively in our research."
      ]
    },
    {
      "cell_type": "markdown",
      "metadata": {
        "id": "TZhP2dWFTknp"
      },
      "source": [
        "### 2.1 Pie charts <a name='subsection5'></a>"
      ]
    },
    {
      "cell_type": "markdown",
      "metadata": {
        "id": "0M4nhV5nTknp"
      },
      "source": [
        "Let's say you want to visualize how much of energy was consumed in each sector last year. The EIA summarizes this data using British thermal units (Btu). 1 Btu is approximately equal to 1055 Joules. In 2020, the total energy consumed in the United States was about 93 Quadrillion Btu (Quad Btu, in short).\n",
        "\n",
        "Quick fact: 1 Quadrillion = 10^15. That's 1 followed by 15 zeros!"
      ]
    },
    {
      "cell_type": "code",
      "execution_count": null,
      "metadata": {
        "id": "sJB_zbQZTknp"
      },
      "outputs": [],
      "source": [
        "# EXAMPLE\n",
        "tot_energy=pd.read_csv('data/total_consumption_2020.csv')\n",
        "tot_energy"
      ]
    },
    {
      "cell_type": "markdown",
      "metadata": {
        "id": "AlzypHc7Tknp"
      },
      "source": [
        "To create a pie chart, we will use the `pie()` function from matplotlib. We will pass in the Consumption column from our data set and use the Sector column as our labels. The `startangle` keyword allows us to place the start of the pie chart 90 degrees counterclockwise from the x-axis (you can experiment by changing the `startangle` back to its default value of 0 degrees and seeing how different the pie chart will look)."
      ]
    },
    {
      "cell_type": "code",
      "execution_count": null,
      "metadata": {
        "id": "esSd1xAkTknp"
      },
      "outputs": [],
      "source": [
        "plt.pie(tot_energy['Consumption'], labels=tot_energy['Sector'], startangle=90);"
      ]
    },
    {
      "cell_type": "markdown",
      "metadata": {
        "id": "RQoT_Y5LTknp"
      },
      "source": [
        "What are some things you notice? Which type of energy consumption makes up the most of total energy consumption? The least?"
      ]
    },
    {
      "cell_type": "markdown",
      "metadata": {
        "id": "p-a_8uPATknp"
      },
      "source": [
        "*Write your answers here by editing this textbox.*\n",
        "\n"
      ]
    },
    {
      "cell_type": "markdown",
      "metadata": {
        "id": "F0YTDnWQTknp"
      },
      "source": [
        "**Exercise:** Create the same pie chart for the California data and compare the fractions. Data is present in a csv file called `total_consumption_ca_2020.csv` located in the `data` folder."
      ]
    },
    {
      "cell_type": "code",
      "execution_count": null,
      "metadata": {
        "id": "1XQlmUYxTknp"
      },
      "outputs": [],
      "source": [
        "#First read in the data file using pandas\n",
        "ca_energy = pd.read_csv('...')\n",
        "ca_energy"
      ]
    },
    {
      "cell_type": "code",
      "execution_count": null,
      "metadata": {
        "id": "1DklOt1HTknp"
      },
      "outputs": [],
      "source": [
        "#Create your pie chart below\n",
        "#Remember to use the Consumption column for the data and the Sector column for the labels\n",
        "\n",
        "plt.pie(ca_energy[...], labels=ca_energy[...], startangle=90);"
      ]
    },
    {
      "cell_type": "markdown",
      "metadata": {
        "id": "NRkaD_guTknp"
      },
      "source": [
        "How does California's energy consumption compare to the total energy consumption?"
      ]
    },
    {
      "cell_type": "markdown",
      "metadata": {
        "id": "UwuinPb-Tknp"
      },
      "source": [
        "*Write your observations here by editing this textbox.*"
      ]
    },
    {
      "cell_type": "markdown",
      "metadata": {
        "id": "YbTZUKTITknp"
      },
      "source": [
        "### 2.2 Bar Charts <a name='subsection6'></a>"
      ]
    },
    {
      "cell_type": "markdown",
      "metadata": {
        "id": "lfCeBq3wTknp"
      },
      "source": [
        "Let us try to plot the US total consumption data using bar charts."
      ]
    },
    {
      "cell_type": "code",
      "execution_count": null,
      "metadata": {
        "id": "oBK7tnrmTknp"
      },
      "outputs": [],
      "source": [
        "# EXAMPLE\n",
        "plt.ylabel('Energy consumption in Trillion Btu')\n",
        "plt.bar(tot_energy['Sector'], tot_energy['Consumption']);"
      ]
    },
    {
      "cell_type": "markdown",
      "metadata": {
        "id": "JdG7aYh6Tknp"
      },
      "source": [
        "If we sort this data in ascending or descending order, it is easier to compare. Go back to Notebook 07 (Pandas Dataframes) and use your good friend Google to see how to sort by values, then create a bar chart that shows the sector with highest consumption on the left - in other words, the data is presented in descending order.\n",
        "\n",
        "If you did it correctly, your bar chart should look like this:\n",
        "\n",
        "![](https://drive.google.com/uc?export=view&id=1YiH0eyWq9zuNMfxBzq3OdsmR-ZZ_I9Ez)"
      ]
    },
    {
      "cell_type": "code",
      "execution_count": null,
      "metadata": {
        "scrolled": true,
        "id": "c7ThFaViTknp"
      },
      "outputs": [],
      "source": [
        "#First sort the values by Consumption\n",
        "tot_energy_sort = tot_energy....\n",
        "tot_energy_sort"
      ]
    },
    {
      "cell_type": "code",
      "execution_count": null,
      "metadata": {
        "id": "qEQWGdSXTknq"
      },
      "outputs": [],
      "source": [
        "#Now create a bar chart with the sorted values\n",
        "\n",
        "plt.ylabel('...') #Don't forget to label your y-axis\n",
        "plt.bar(...,...);"
      ]
    },
    {
      "cell_type": "code",
      "execution_count": null,
      "metadata": {
        "id": "W4xKM92_Tknq"
      },
      "outputs": [],
      "source": [
        "#Bonus - use the same sorted data but make it horizontal\n",
        "#Hint - look at the earlier section on Bar charts in this notebook\n",
        "\n",
        "plt.ylabel('...') #Don't forget to label your y-axis\n",
        "plt...."
      ]
    },
    {
      "cell_type": "markdown",
      "metadata": {
        "id": "zigYlVQuTknq"
      },
      "source": [
        "### 2.3 Line Charts <a name='subsection7'></a>"
      ]
    },
    {
      "cell_type": "markdown",
      "metadata": {
        "id": "kW4OZKgZTknq"
      },
      "source": [
        "Line charts are generally useful to depict continuous data (e.g., time series data). As an example, if we want to plot the total energy consumption from 2000 to 2021, then line chart would be a good option as it helps us understand how a value changes from one year to the next. Let us plot this data and see."
      ]
    },
    {
      "cell_type": "code",
      "execution_count": null,
      "metadata": {
        "id": "yEtRQdW7Tknq"
      },
      "outputs": [],
      "source": [
        "#First read in the data\n",
        "energy_00_21 = pd.read_csv('data/consumption_2000_2021.csv')\n",
        "energy_00_21.head()"
      ]
    },
    {
      "cell_type": "code",
      "execution_count": null,
      "metadata": {
        "id": "lBqRKNsmTknq"
      },
      "outputs": [],
      "source": [
        "#Now time to plot - don't forget labelled axes!\n",
        "plt.xlabel('Year')\n",
        "plt.ylabel('Energy consumption in Trillion Btu')\n",
        "plt.plot(energy_00_21['Year'], energy_00_21['Consumption'], linewidth=2, color='blue');"
      ]
    },
    {
      "cell_type": "markdown",
      "metadata": {
        "id": "hXVUCNYNTknq"
      },
      "source": [
        "What are some things you notice? When did total energy consumption decrease? Can you think why?"
      ]
    },
    {
      "cell_type": "markdown",
      "metadata": {
        "id": "a9lq2uUwTknq"
      },
      "source": [
        "*Write your answers here by editing this textbox.*"
      ]
    },
    {
      "cell_type": "markdown",
      "metadata": {
        "id": "JaGR5KqqTknq"
      },
      "source": [
        "**Exercise:** Let's plot the data again but this time make it so that the y-axis spans a range of 30,000 trillion Btu to 105,000 trillion Btu. We will use the `ylim` function to do this."
      ]
    },
    {
      "cell_type": "code",
      "execution_count": null,
      "metadata": {
        "scrolled": true,
        "id": "oYa37_rZTknq"
      },
      "outputs": [],
      "source": [
        "#EXERCISE\n",
        "\n",
        "#First use plt.ylim() to set the y-axis to go from 30000 to 105000 trillion Btu\n",
        "plt.ylim(...)\n",
        "\n",
        "#Now create the line plot - don't forget labelled axes!\n",
        "plt.xlabel('...')\n",
        "plt.ylabel('...')\n",
        "plt.plot(..., ..., linewidth=2, color='blue');"
      ]
    },
    {
      "cell_type": "markdown",
      "metadata": {
        "id": "9UkTLeqiTknq"
      },
      "source": [
        "In the first plot, it appeared as if there are huge spikes (up and down) from one year to the next. But notice that the lower limit on y-axis is set to about 93,000 and upper limit is a little over 100,000 Trillion Btu and so, the yearly variation is amplified.\n",
        "\n",
        "In the second plot, we see a more muted effect of the same data by setting the bottom value to a much smaller number.\n",
        "\n",
        "Which plot gives a more accurate picture in the trend in energy consumption? Why? Discuss with your group and write what your group came up in the textbox below:"
      ]
    },
    {
      "cell_type": "markdown",
      "metadata": {
        "id": "LBDS08KsTknq"
      },
      "source": [
        "*Write your answers here by editing this textbox.*"
      ]
    },
    {
      "cell_type": "markdown",
      "metadata": {
        "id": "bOTfaTh3Tknq"
      },
      "source": [
        "**Exercise:** Let's visualize data over a larger range of years, from 1950 to 2021. The data file is called `consumption_1950_2021.csv` (located in the data folder). Try to figure out on your own the best values to set the y-axis range (you can look back to notebooks 06 and 07 to see if any pandas functions can help you out...)"
      ]
    },
    {
      "cell_type": "code",
      "execution_count": null,
      "metadata": {
        "id": "8FbZS_CnTknq"
      },
      "outputs": [],
      "source": [
        "#Use pandas to read in the data\n",
        "energy_50_21 = pd....\n",
        "energy_50_21.head()"
      ]
    },
    {
      "cell_type": "code",
      "execution_count": null,
      "metadata": {
        "id": "cxfl01yUTknq"
      },
      "outputs": [],
      "source": [
        "#How will you figure out what values to use the y-axis range?\n",
        "\n"
      ]
    },
    {
      "cell_type": "code",
      "execution_count": null,
      "metadata": {
        "id": "pYmRWoqaTknq"
      },
      "outputs": [],
      "source": [
        "#Now let's plot the data! Let's add a title and axis labels\n",
        "\n",
        "#Use plt.ylim() to set the y-axis range\n",
        "plt.ylim(30000, 105000)\n",
        "\n",
        "plt.title('...')\n",
        "plt.xlabel('...')\n",
        "plt.ylabel('...')\n",
        "plt.plot(..., ..., linewidth=2, color='red');"
      ]
    },
    {
      "cell_type": "markdown",
      "metadata": {
        "id": "QpbVSst5Tknr"
      },
      "source": [
        "If you did it correctly, your graph should look similar to the below (note that you don't have to choose red as your line color):\n",
        "\n",
        "![](https://drive.google.com/uc?export=view&id=1DwFySSArqPndai3l5Z_HrsMk9knQclM5)"
      ]
    },
    {
      "cell_type": "markdown",
      "metadata": {
        "id": "r6kBfHT8Tknr"
      },
      "source": [
        "What are some things you notice? What are some things you wonder?"
      ]
    },
    {
      "cell_type": "markdown",
      "metadata": {
        "id": "2E-1hN9ZTknr"
      },
      "source": [
        "*Write your answers here by editing this textbox.*"
      ]
    },
    {
      "cell_type": "markdown",
      "metadata": {
        "id": "rq9SThk3Tknr"
      },
      "source": [
        "### 2.4 Stacked Bar Charts <a name='subsection8'></a>"
      ]
    },
    {
      "cell_type": "markdown",
      "metadata": {
        "id": "xfnPWi_-Tknr"
      },
      "source": [
        "The next type of visualization is called stacked bar charts. If each datapoint comprises of several components that make up the total, this type of graph is useful to visualize those components as fractions of the total. We will use EIA's Residential Energy Consumption Survey (RECS) data from 2015 to create this graph. RECS is a periodic survey conducted by the EIA which provides several details about household energy consumption. Similarly, EIA also conducts surveys for commercial buildings (Commercial Building Energy Consumption Survey or CBECS) and for manufacturing sector (Manufacturing Energy Consumption Survey or MECS) as well.\n",
        "\n",
        "Among other things, RECS contains information regarding the average values of end-use consumption across the various regions within the United States (North-east, South, Midwest and West). RECS considers space heating, water heating, air conditioners and refrigerators as the main end-uses in a household and the remaining are combined together in category called \"other\"."
      ]
    },
    {
      "cell_type": "code",
      "execution_count": null,
      "metadata": {
        "id": "ci4CbwUTTknr"
      },
      "outputs": [],
      "source": [
        "#EXAMPLE - Read in RECS data from 2015\n",
        "\n",
        "recs_15 = pd.read_csv('data/recs_enduse_2015.csv')\n",
        "recs_15"
      ]
    },
    {
      "cell_type": "code",
      "execution_count": null,
      "metadata": {
        "id": "RtQL4hCITknr"
      },
      "outputs": [],
      "source": [
        "#First let's get the data by grabbing columns\n",
        "x = recs_15['Region']\n",
        "y1 = recs_15['Space heating']\n",
        "y2 = recs_15['Water heating']\n",
        "y3 = recs_15['Air Conditioning']\n",
        "y4 = recs_15['Refrigerators']\n",
        "y5 = recs_15['Others']"
      ]
    },
    {
      "cell_type": "code",
      "execution_count": null,
      "metadata": {
        "id": "mdKNUAo5Tknr"
      },
      "outputs": [],
      "source": [
        "#Let's make our stacked bar chart\n",
        "#The keyword bottom allows us to stack each data\n",
        "\n",
        "#Plotting Space heating consumption data at the bottom\n",
        "plt.bar(x, y1, label=recs_15.columns[1]) #recs_15.columns[1] outputs 'Space heating'\n",
        "\n",
        "#Stacking Water heating consumption data on top\n",
        "plt.bar(x, y2, bottom=y1,label=recs_15.columns[2])\n",
        "\n",
        "#Stacking Air conditioning consumption data on top\n",
        "plt.bar(x, y3, bottom=y1+y2, label=recs_15.columns[3])\n",
        "\n",
        "#Stacking Refrigerators consumption data on top\n",
        "plt.bar(x, y4, bottom=y1+y2+y3, label=recs_15.columns[4])\n",
        "\n",
        "#Stacking Others consumption data on the very top\n",
        "plt.bar(x, y5, bottom=y1+y2+y3+y4, label=recs_15.columns[5])\n",
        "\n",
        "#Adding the y-axis label and a legend\n",
        "plt.ylabel('Energy consumption in Million Btu')\n",
        "plt.legend();"
      ]
    },
    {
      "cell_type": "markdown",
      "metadata": {
        "id": "kZh0QGBMTknr"
      },
      "source": [
        "As we can see, stacking the components one above the other gives us an idea about how much each end-use contributes to the total energy consumption. From the above plot, we see that space heating is pretty much the biggest fraction of the total energy consumption, at least in the North-east and Midwest regions."
      ]
    },
    {
      "cell_type": "markdown",
      "metadata": {
        "id": "V-7f3sxNTknr"
      },
      "source": [
        "**Exercise:** Let's go back to the California total consumption data from 2020 (see section 3.1) and make a stacked bar chart."
      ]
    },
    {
      "cell_type": "code",
      "execution_count": null,
      "metadata": {
        "id": "46pvPnx3Tknr"
      },
      "outputs": [],
      "source": [
        "ca_energy"
      ]
    },
    {
      "cell_type": "code",
      "execution_count": null,
      "metadata": {
        "id": "Y_AkxiBETknr"
      },
      "outputs": [],
      "source": [
        "#EXERCISE - First we will get the data\n",
        "#Hint - All data is in the column 'Consumption'. First grab that column then grab each sector's value using its index\n",
        "x = 'California'\n",
        "y1 = ca_energy['...'][...] #Residential\n",
        "y2 = ca_energy['...'][...] #Commercial\n",
        "y3 = ca_energy['...'][...] #Industrial\n",
        "y4 = ca_energy['...'][...] #Transportation"
      ]
    },
    {
      "cell_type": "code",
      "execution_count": null,
      "metadata": {
        "scrolled": true,
        "id": "tqPhFYFSTknr"
      },
      "outputs": [],
      "source": [
        "#EXERCISE - Create a stacked bar chart similar to the example above\n",
        "plt.bar(..., ..., label='Residential')\n",
        "plt.bar(..., ..., bottom=..., label='Commercial')\n",
        "plt.bar(..., ..., bottom=..., label='Industrial')\n",
        "plt.bar(..., ..., bottom=..., label='Transportation')\n",
        "\n",
        "plt.ylabel('...')\n",
        "plt.legend();"
      ]
    },
    {
      "cell_type": "markdown",
      "metadata": {
        "id": "qo0jaIG6Tknr"
      },
      "source": [
        "If you did it correctly, your graph should look similar to the below:\n",
        "\n",
        "![](https://drive.google.com/uc?export=view&id=1MxARJ5r-PRYQcp1fp8CazOgq5Zfz6-sU)"
      ]
    },
    {
      "cell_type": "markdown",
      "metadata": {
        "id": "WkkmQRHoTknr"
      },
      "source": [
        "### 2.5 Stacked Area Charts <a name='subsection9'></a>"
      ]
    },
    {
      "cell_type": "markdown",
      "metadata": {
        "id": "vcHi3UEVTknr"
      },
      "source": [
        "Stacked area charts are similar to stacked bar charts. In the above example, while stacked bar charts are a good option to visualize a single year's data, stacked area charts are useful to see the trends in these components over several years. As an example, let us take a look at how the sector-wise energy consumption has evolved in the state of California from 1970 to 2020."
      ]
    },
    {
      "cell_type": "code",
      "execution_count": null,
      "metadata": {
        "id": "rc8-agkITknr"
      },
      "outputs": [],
      "source": [
        "# EXAMPLE - Read in the data\n",
        "ca_00_20 = pd.read_csv('data/ca_consumption_1970_2020.csv')\n",
        "ca_00_20.head()"
      ]
    },
    {
      "cell_type": "code",
      "execution_count": null,
      "metadata": {
        "id": "bspX4d7GTkns"
      },
      "outputs": [],
      "source": [
        "#Grab columns of data\n",
        "x = ca_00_20['Year']\n",
        "y1 = ca_00_20['Residential']\n",
        "y2 = ca_00_20['Commercial']\n",
        "y3 = ca_00_20['Industrial']\n",
        "y4 = ca_00_20['Transportation']"
      ]
    },
    {
      "cell_type": "code",
      "execution_count": null,
      "metadata": {
        "id": "iiPpnfNaTkns"
      },
      "outputs": [],
      "source": [
        "# We will make this plot slightly bigger than default to notice the yearly variations\n",
        "plt.figure(figsize=(12,6))\n",
        "\n",
        "#Plot the data using the stackplot function\n",
        "plt.stackplot(x , y1, y2, y3, y4, labels=['Residential', 'Commercial', 'Industrial', 'Transportation'])\n",
        "\n",
        "#Axis labels and legend\n",
        "plt.ylabel('Energy consumption in Billion Btu')\n",
        "plt.xlabel('Year')\n",
        "plt.legend(loc='upper left'); #Specify the location so that the trend is shown clearly"
      ]
    },
    {
      "cell_type": "markdown",
      "metadata": {
        "id": "h10TsCA3Tkns"
      },
      "source": [
        "In this, we can clearly see that the energy consumption in the transportation sector has steadily increased over the years. If you observe closely, you will also notice an increase in the commercial sector as well."
      ]
    },
    {
      "cell_type": "markdown",
      "metadata": {
        "id": "ZIXQMCeRTkns"
      },
      "source": [
        "**Exercise:** Try to create a similar graph for the renewable generation capacity projection data. Every year, EIA releases Annual Energy Outlook (AEO) where they assess long-term energy trends based on certain assumptions and methodologies. This is meant to give us an idea of what may happen in the future given these assumptions. One of the datasets released as a part of this study is the growth of renewable generation of electricity. Think of this as the growth in the electricity generation (in units of Billion kWh) contributed by the renewables.\n",
        "\n",
        "The data is available in the file named `ren_generation_2020_2050.csv` located in the data folder."
      ]
    },
    {
      "cell_type": "code",
      "execution_count": null,
      "metadata": {
        "id": "yeTAa-XFTkns"
      },
      "outputs": [],
      "source": [
        "#Read in the data using pandas\n",
        "ren_20_50 = pd....\n",
        "ren_20_50.head()"
      ]
    },
    {
      "cell_type": "code",
      "execution_count": null,
      "metadata": {
        "id": "41e9xXSjTkns"
      },
      "outputs": [],
      "source": [
        "#Grab columns of data\n",
        "x = ren_20_50['Year']\n",
        "y1 = ren_20_50['Hydropower']\n",
        "y2 = ren_20_50['...']\n",
        "y3 = ren_20_50['...']\n",
        "y4 = ren_20_50['...']\n",
        "y5 = ...\n",
        "y6 = ...\n",
        "y7 = ...\n",
        "y8 = ..."
      ]
    },
    {
      "cell_type": "code",
      "execution_count": null,
      "metadata": {
        "id": "P-TnQHQITkns"
      },
      "outputs": [],
      "source": [
        "#We will again make the figure size slightly bigger to better see trends\n",
        "plt.figure(figsize=(15,8))\n",
        "\n",
        "#Use the stackplot function to plot data\n",
        "plt.stackplot(......,\n",
        "labels = ['Hydropower', ......])\n",
        "\n",
        "#Don't forget axis labels and the legend.\n",
        "#You may need to specify the location of the legend using the loc keyword\n",
        "plt.ylabel('...')\n",
        "plt.xlabel('...')\n",
        "plt.legend(...);"
      ]
    },
    {
      "cell_type": "markdown",
      "metadata": {
        "id": "IXj9nuIeTkns"
      },
      "source": [
        "What are some largest contributors of renewables?\n",
        "Looking into the future, which type of renewable energy source is going to grow the largest?\n",
        "What are some other renewable energy sources showing a growing trend? How about those that appear flat?"
      ]
    },
    {
      "cell_type": "markdown",
      "metadata": {
        "id": "Q28zMNsnTkns"
      },
      "source": [
        "*Write your answers here by editing this textbox.*"
      ]
    },
    {
      "cell_type": "markdown",
      "source": [
        "## 3. What is a mathematical function? <a name='section3'></a>\n",
        "\n",
        "You have seen the concept of functions in computer science during a previous class (see notebook `01_functions.ipynb`).  \n",
        "Here, we will look at the concept of functions from a mathematical point of view.\n",
        "We will learn what different functions may mean, how they could be useful in real life and in research, and how to make cool visualizations that help us understand them.  \n",
        "\n",
        "A **function is a relationship that given one or many input values performs an operation using them and produces one or many output values** (technically, in computer science, the output can also be nothing).  \n",
        "\n",
        "If a function that we call $f$ takes one input and gives one output, we write:\n",
        "$$\n",
        "y = f(x)\n",
        "$$\n",
        "and we can visualize it as a curve in the Cartesian plane $(x,y)$.  \n",
        "We call $x$ the *independent variable* (because we can choose it arbitrarily, independently of anything else) and $y$ the *dependent variable* (because its value depends on $x$)."
      ],
      "metadata": {
        "id": "d6r_kVKLUu11"
      }
    },
    {
      "cell_type": "markdown",
      "source": [
        "### EXAMPLE: Let's plot some functions"
      ],
      "metadata": {
        "id": "bU_CGXMcVIQ_"
      }
    },
    {
      "cell_type": "code",
      "source": [
        "# First, we need to define the x axis\n",
        "x = np.linspace(-10,10,200) # Try changing 200 to 20 and see what happens!\n",
        "\n",
        "# Let's prepare our canvas - this is optional, but makes the figure prettier\n",
        "plt.figure(figsize=(4,3), dpi=150)\n",
        "\n",
        "# Let's say we want to plot the identity function y = x\n",
        "y = x\n",
        "plt.plot(x, y, label='identity', color='dodgerblue', lw=2)\n",
        "\n",
        "# We can also use the functions provided by the libraries like numpy\n",
        "plt.plot(x, np.sin(x), label='sinusoidal', color='crimson', lw=4, linestyle='dashdot')\n",
        "\n",
        "# And we can control the color, width and style of the lines\n",
        "plt.plot(x, np.log(x*x+1), label='logarithmic', color='lime', linewidth=3, linestyle='dashed')\n",
        "\n",
        "plt.legend()\n",
        "plt.xlabel('x')\n",
        "plt.ylabel('y')\n",
        "plt.grid()\n",
        "plt.show()"
      ],
      "metadata": {
        "id": "jqC9YCfJVLMp"
      },
      "execution_count": null,
      "outputs": []
    },
    {
      "cell_type": "markdown",
      "source": [
        "We can also define more complicated functions!  \n",
        "For example: $y = \\sin(2 \\sin(2  \\sin(2 \\sin(x))))$ or try your own!"
      ],
      "metadata": {
        "id": "lL19R9cbhqSm"
      }
    },
    {
      "cell_type": "code",
      "source": [
        "# EXERCISE\n",
        "\n",
        "def my_function(x):\n",
        "    y = ... # define your function here\n",
        "    return y\n",
        "\n",
        "x = np.linspace(-10,10,200) # define the x axis here\n",
        "\n",
        "plt.xlabel('x')\n",
        "plt.ylabel('y')\n",
        "plt.plot(x, my_function(x)); # plot the function in your favorite style here"
      ],
      "metadata": {
        "id": "jnhzJJbIhtTD"
      },
      "execution_count": null,
      "outputs": []
    },
    {
      "cell_type": "markdown",
      "source": [
        "We can even combine functions with for loops to plot many lines at once!"
      ],
      "metadata": {
        "id": "HkZMxuWZhyXL"
      }
    },
    {
      "cell_type": "code",
      "source": [
        "# EXAMPLE\n",
        "\n",
        "def line(x, m, b):\n",
        "    return m * x + b\n",
        "\n",
        "x = np.linspace(-10,10,200)\n",
        "\n",
        "for m in np.linspace(-10,10,8):\n",
        "    for b in np.linspace(-10,10,8):\n",
        "        plt.plot(x, line(x,m,b))\n",
        "\n",
        "# Set the y limit if you want the plot to have the same scale along x and y\n",
        "#plt.ylim(-10,10) # Try commenting in and out this line and see what happens\n",
        "\n",
        "plt.xlabel('x')\n",
        "plt.ylabel('y = m x + b');"
      ],
      "metadata": {
        "id": "_xvoV6wGh1z4"
      },
      "execution_count": null,
      "outputs": []
    },
    {
      "cell_type": "markdown",
      "source": [
        "### EXERCISE: Write your own `python` function and take a look at it\n",
        "\n",
        "Make it as complex as you can.  \n",
        "You can use and combine for example `np.sin`, `np.cos`, `np.log`, `np.exp`, `np.abs`, etc.\\\n",
        "[Here](https://numpy.org/doc/stable/reference/routines.math.html#) is a list of mathematical functions in numpy.\n",
        "\n",
        "Choose your favorite color, type of line and width.  \n",
        "[Here](https://matplotlib.org/stable/gallery/color/named_colors.html#css-colors) is a list of color names you can use.  \n",
        "[Here](https://matplotlib.org/stable/gallery/lines_bars_and_markers/linestyles.html) is a list of line styles you can use.\n",
        "\n",
        "**Note that if you randomly define a function, it may not be well-defined for all possible $x$-values!!!**  \n",
        "Some examples:\n",
        "\n",
        "* $\\dfrac{1}{x}$ is undefined for $x=0$\n",
        "  \n",
        "* $\\sqrt{x}$ is undefined for $x<0$\n",
        "  \n",
        "* $\\log{x}$ is undefined for $x \\leq 0$"
      ],
      "metadata": {
        "id": "HsIn2-BBVe6y"
      }
    },
    {
      "cell_type": "code",
      "source": [
        "# Define your function here\n",
        "def my_weird_function(x):\n",
        "    # do some magic\n",
        "    y = ...\n",
        "    return ...\n",
        "\n",
        "# Plot your function here\n",
        "plt.plot(..., ..., color='...', lw=...);"
      ],
      "metadata": {
        "id": "6ZOvXXEzVgWb"
      },
      "execution_count": null,
      "outputs": []
    },
    {
      "cell_type": "markdown",
      "source": [
        "## 4. Linear functions and simple models <a name='section4'></a>\n",
        "\n",
        "What are linear functions? When graphed, they look like straight lines.  \n",
        "In fancy mathematical terms, a linear function is a polynomial of degree one or less.  \n",
        "\n",
        "**They represent a quantity $y$ that increases or decreases at a constant rate when changing another quantity $x$.**\n",
        "\n",
        "A general mathematical formula is:\n",
        "$$\n",
        "y = m x + b\n",
        "$$\n",
        "\n",
        "Technically, this is not the most general formula because is does not include vertical lines, which instead are described by:\n",
        "$$\n",
        "x = a\n",
        "$$\n",
        "\n",
        "Linear functions are useful for example to model the money you earn as the BLDAP weeks go on, or the distance you travel in time when moving at a constant speed."
      ],
      "metadata": {
        "id": "gbCz4VEJWHpe"
      }
    },
    {
      "cell_type": "markdown",
      "source": [
        "### EXERCISE: BLDAP savings\n",
        "\n",
        "Let's build a simple model for your savings during your experience at BLDAP.   \n",
        "You started with a certain amount of savings. Each week, you earn and spend a certain amount of dollars.  \n",
        "Can you write a simple equation that lets you predict how much money you will have at the end of BLDAP?\n"
      ],
      "metadata": {
        "id": "laOZyZPVWRhZ"
      }
    },
    {
      "cell_type": "code",
      "source": [
        "def my_savings(w): # w is the week number\n",
        "    my_stipend = 500  # dollars per week\n",
        "    my_expenses = 100 # dollars per week\n",
        "    initial_savings = 0 # dollars you had on day 1 of BLDAP\n",
        "    return ... # equation here\n",
        "\n",
        "w = np.linspace(0,6,7)\n",
        "plt.figure(figsize=(4,3), dpi=150)\n",
        "plt.plot(w, my_savings(w), marker='o', markersize=5, color='blue')\n",
        "plt.xlabel('week')\n",
        "plt.ylabel('dollars')\n",
        "plt.show()"
      ],
      "metadata": {
        "id": "CQ4DfAiAWVKe"
      },
      "execution_count": null,
      "outputs": []
    },
    {
      "cell_type": "markdown",
      "source": [
        "### EXERCISE: Linear model with survey data\n",
        "\n",
        "We can use some real life data from the survey taken by high school summer interns at the Lab. For this exercise, we will use the data from 2024.  \n",
        "The data we have is:\n",
        "* Hours Slept\n",
        "* Number of Siblings\n",
        "* Height (cm)\n",
        "* Home-LBNL Distance (miles)\n",
        "* Commute Time (minutes)\n",
        "* Pineapple Pizza Rating\n",
        "\n",
        "Do you think we can find a linear relationship between any of these quantities?  \n",
        "For example, do you think that the number of siblings could be a linear function of height?  \n",
        "Any other ideas?\n",
        "\n"
      ],
      "metadata": {
        "id": "UtWn-61_WhGw"
      }
    },
    {
      "cell_type": "code",
      "source": [
        "### READING IN DATA - DO NOT MODIFY\n",
        "\n",
        "# Survey as is saved from the system\n",
        "survey2024_data = pd.read_csv('data/BLDAP2024DataSurvey.csv') # We are using the 2024 survey results for this exercise\n",
        "\n",
        "# Let's take a look at a summary of our dataframe\n",
        "survey2024_data.describe()"
      ],
      "metadata": {
        "id": "eWHbJ970WjVW"
      },
      "execution_count": null,
      "outputs": []
    },
    {
      "cell_type": "code",
      "source": [
        "distance = survey2024_data['Home-LBNL Distance (miles)']\n",
        "time = survey2024_data['Commute Time (minutes)']\n",
        "plt.scatter(time, distance, marker='*', s=100, color='red')\n",
        "plt.xlabel('time [minutes]')\n",
        "plt.ylabel('distance [miles]');"
      ],
      "metadata": {
        "id": "jFrLYm7MW4QE"
      },
      "execution_count": null,
      "outputs": []
    },
    {
      "cell_type": "markdown",
      "source": [
        "<font color='red'>**Something is very weird! ⚠**</font>  \n",
        "**Can you spot the issue?**"
      ],
      "metadata": {
        "id": "oqwhvlEnajg7"
      }
    },
    {
      "cell_type": "code",
      "source": [
        "# If we do this it makes more sense...\n",
        "survey2024_data.replace({'Home-LBNL Distance (miles)':230},{'Home-LBNL Distance (miles)':23.0}, inplace=True)\n",
        "\n",
        "# Grab again distance and time\n",
        "distance = survey2024_data['Home-LBNL Distance (miles)']\n",
        "time = survey2024_data['Commute Time (minutes)']\n",
        "\n",
        "# Plot data after fix\n",
        "plt.scatter(time, distance, marker='*', s=100, color='green')\n",
        "plt.xlabel('time [minutes]')\n",
        "plt.ylabel('distance [miles]');"
      ],
      "metadata": {
        "id": "L-NtLoT7an70"
      },
      "execution_count": null,
      "outputs": []
    },
    {
      "cell_type": "markdown",
      "source": [
        "Can we model the commute time as a linear function of the distance from the lab?  \n",
        "Let's **fit** our data with a straight line using `numpy` as:\n",
        "\n",
        "$\n",
        "distance = m \\times time + b\n",
        "$"
      ],
      "metadata": {
        "id": "L0xfO8BSaqkk"
      }
    },
    {
      "cell_type": "code",
      "source": [
        "# EXERCISE\n",
        "\n",
        "# Let's compute the line that best approximates our data using numpy\n",
        "# m and b are the 2 coefficients that define such a line!\n",
        "m, b = np.polyfit(time, distance, 1)\n",
        "print(f\"m = {m} miles/minutes, b = {b} miles\")\n",
        "\n",
        "# Plot the raw data from the survey\n",
        "plt.scatter(..., ...)\n",
        "\n",
        "# Plot the regression (or fitting) line\n",
        "plt.plot(..., ... * time + ... , color='red');\n",
        "plt.xlabel('time [minutes]')\n",
        "plt.ylabel('distance [miles]');"
      ],
      "metadata": {
        "id": "GDQ-lB9qargd"
      },
      "execution_count": null,
      "outputs": []
    },
    {
      "cell_type": "markdown",
      "source": [
        "Not too bad, but not great! There are different **outliers**.  \n",
        "We have obtained:  \n",
        "$ distance \\approx 0.16 \\ miles/minute \\times  time+ 9.20 \\ miles$\n",
        "\n",
        "**Does it makes sense?**\n",
        "\n",
        "We might expect that if one lives at the lab ($distance = 0$) then it takes them a $time=0$ to commute.  \n",
        "However, if we set the $distance = 0$, we obtain a negative $time$!  \n",
        "Our model makes sense only if $time > 0$, which implies $distance > 9.20 \\ miles$.  \n",
        "Nonetheless the minimum $distance$ in our dataset is $2.5 \\ miles$!\n",
        "\n",
        "We can also estimate the average speed of your commute using the coefficient $m$.  \n",
        "$m$ represents the speed in miles per minute.  \n",
        "If we multiply by $60$ we can get the speed in miles per hour.   \n",
        "\n",
        "Let's look at the value and compare it to the average speed from the raw data."
      ],
      "metadata": {
        "id": "03FfwJNGavv7"
      }
    },
    {
      "cell_type": "code",
      "source": [
        "print(f'Average commuting speed from linear regression [miles/hour] = {60 * m}')\n",
        "# Note: miles / minute = miles / (1/60 hour) = 60 miles/hour\n",
        "\n",
        "print(f'Average commuting speed from raw data [miles/hour] = {np.average(distance/time)*60}')"
      ],
      "metadata": {
        "id": "RTAKEGUtayxC"
      },
      "execution_count": null,
      "outputs": []
    },
    {
      "cell_type": "markdown",
      "source": [
        "**Weird!**  \n",
        "**We can conclude that there are different inconsistencies in this model!**  \n",
        "**Maybe we can figure out why.**\n",
        "\n",
        "How do you guys commute?\n",
        "1. shuttle\n",
        "2. car + shuttle\n",
        "3. walk + shuttle\n",
        "4. bus + shuttle\n",
        "5. bike + shuttle\n",
        "6. others\n",
        "\n",
        "There are 2 main outliers: commute time of 105 and 120 minutes.   \n",
        "What if we remove them?"
      ],
      "metadata": {
        "id": "YayfOXryazLj"
      }
    },
    {
      "cell_type": "code",
      "source": [
        "#EXERCISE\n",
        "\n",
        "# Fix the data: remove the 2 outliers\n",
        "mask = (survey2024_data['Commute Time (minutes)']==105) | (survey2024_data['Commute Time (minutes)']==120)\n",
        "survey2024_data = survey2024_data[~mask]\n",
        "\n",
        "# Grab distance and time after fix\n",
        "distance = survey2024_data['Home-LBNL Distance (miles)']\n",
        "time = survey2024_data['Commute Time (minutes)']\n",
        "\n",
        "# Fit the data with a straight line after fix\n",
        "m, b = np.polyfit(time, distance, 1)\n",
        "print(f\"m = {m} miles/minutes, b = {b} miles\")\n",
        "\n",
        "# Plot data + regression line\n",
        "plt.scatter(..., ...,color='red', label='survey data')\n",
        "plt.plot(..., ..., color='blue', label='regression line');\n",
        "plt.xlabel('time [minutes]')\n",
        "plt.ylabel('distance [miles]')\n",
        "plt.legend()\n",
        "\n",
        "print(f'Average commuting speed from linear regression [miles/hour] = {60 * m}')\n",
        "# Note: miles / minute = miles / (1/60 hour) = 60 miles/hour\n",
        "\n",
        "print(f'Average commuting speed from raw data [miles/hour] = {np.average(distance/time)*60}')"
      ],
      "metadata": {
        "id": "xa4PW4J5a9eg"
      },
      "execution_count": null,
      "outputs": []
    },
    {
      "cell_type": "markdown",
      "source": [
        "If everything went alright, these last results should look much better!\n",
        "* $b$ now is close to zero!\n",
        "* The average speed from the linear model is consistent with the data!\n",
        "* The average speed is $25 \\ miles/hour$, which makes sense since it is the speed limit in many nearby areas!\n",
        "\n",
        "**Conclusion:\n",
        "When building a model, one should carefully consider its consistency and meaningfulness!**\n"
      ],
      "metadata": {
        "id": "JdGLBP2gbBtz"
      }
    },
    {
      "cell_type": "markdown",
      "source": [
        "## 5. BONUS: Gaussian functions and probability distributions <a name='section5'></a>\n",
        "\n",
        "Gaussian functions look like bells 🔔🔔🔔  \n",
        "They are routinely used in science as **probability distributions**.  \n",
        "This is useful when a quantity is random 🎲  \n",
        "\n",
        "Take for example the height of the world population.  \n",
        "There will be an **avarage** height, [which we know from data is around 160 - 170 cm](https://en.wikipedia.org/wiki/Human_height#Average_around_the_world).  \n",
        "However, not everyone is 170 cm tall: there are shorter and taller people than average!  \n",
        "In other words, we can define the deviation from the average, which tells us about the height spread. This is called **standard deviation**.\n",
        "\n",
        "The probability distribution of height is approximately a Gaussian function (even though it's not fully consistent, [there can't be people of negative height](https://doi.org/10.1111/j.1740-9713.2013.00642.x)!)\n",
        "\n",
        "The formula looks like this:\n",
        "$$\n",
        "f(x) = \\frac{1}{\\sqrt{2\\pi} \\sigma} \\exp \\left[ {-\\frac{1}{2}\\left(\\frac{x - \\mu}{\\sigma}\\right)^2} \\right]\n",
        "$$\n",
        "\n",
        "Here are some Greek letters: $\\mu$ is pronounced mu and represents the average, $\\sigma$ is pronounced sigma and represents the standard deviation, meaning the varibility or fluctuations from the average."
      ],
      "metadata": {
        "id": "LPhCVaHgbkgl"
      }
    },
    {
      "cell_type": "markdown",
      "source": [
        "### EXERCISE: plot a Gaussian function"
      ],
      "metadata": {
        "id": "zez1uXktcnvH"
      }
    },
    {
      "cell_type": "code",
      "source": [
        "## Define here the formula\n",
        "def gauss(x, mu, sigma):\n",
        "    return 1/(np.sqrt(...)*...)*np.exp(...)\n",
        "\n",
        "# Define the x axis\n",
        "x = np.linspace(-10,10,200)\n",
        "\n",
        "# Plot different Gauss functions with different sigmas\n",
        "plt.figure()\n",
        "plt.plot(x, gauss(x,0,1))\n",
        "plt.plot(x, gauss(x,0,2))\n",
        "plt.plot(x, gauss(x,0,3))\n",
        "\n",
        "plt.xlabel('x')\n",
        "plt.ylabel('y');\n",
        "\n",
        "# Plot different Gauss functions with different mus\n",
        "plt.figure()\n",
        "plt.plot(x, gauss(x,1,1))\n",
        "plt.plot(x, gauss(x,2,1))\n",
        "plt.plot(x, gauss(x,3,1))\n",
        "\n",
        "plt.xlabel('x')\n",
        "plt.ylabel('y');"
      ],
      "metadata": {
        "id": "uDzamyTXcotc"
      },
      "execution_count": null,
      "outputs": []
    },
    {
      "cell_type": "markdown",
      "source": [
        "If you did the above exercise correct, you should get the following plots:\n",
        "\n",
        "\n",
        "<img src=\"https://drive.google.com/uc?export=view&id=1tKv5Imm2IoG-6ZVHo1JkgAgtmGdK0j7f\" width=\"50%\" height=\"50%\">"
      ],
      "metadata": {
        "id": "kB48ylRt3AGe"
      }
    },
    {
      "cell_type": "markdown",
      "source": [
        "### EXAMPLE: heights and Gaussians\n",
        "From the survey we have your height data.  \n",
        "Let's see what it looks like."
      ],
      "metadata": {
        "id": "Ak1VwyqIcxJy"
      }
    },
    {
      "cell_type": "code",
      "source": [
        "heights = survey_data['Height']\n",
        "plt.plot(heights, 'o', color='violet')\n",
        "plt.xlabel('Array Index [-]')\n",
        "plt.ylabel('Height [cm]');"
      ],
      "metadata": {
        "id": "rLcsxgmIcyVE"
      },
      "execution_count": null,
      "outputs": []
    },
    {
      "cell_type": "markdown",
      "source": [
        "Let's plot a histogram of the heights and compare it to a Gaussian function.  \n",
        "* For the histogram use `plt.hist` with the option `density=True` (info [here](\n",
        "https://matplotlib.org/stable/api/_as_gen/matplotlib.pyplot.hist.html))\n",
        "* For the Gaussian function use `gaussian(x,mu,sigma)` as defined above\n",
        "* Calculate the average and standard deviation from the data. You can use the `np.average` and `np.std`.\n",
        "\n",
        "**Note:**  \n",
        "We need to use the option `density=1` to **normalize** the histogram and get a probability distribution.  \n",
        "What does this mean?  \n",
        "\n",
        "* Raw histogram: each bin will display the number of samples $N$ that fall in each bin $B$.\n",
        "* Probability distribution: each bin will display the bin's raw count divided by the total number of counts and the bin width.\n",
        "\n",
        "In other words, a probability distribution is obtained from rescaling (_normalizing_) a raw histogram."
      ],
      "metadata": {
        "id": "FjyS0-tAc_8k"
      }
    },
    {
      "cell_type": "code",
      "source": [
        "# Make a histogram of your heights\n",
        "plt.hist(heights, density=1, color='blue', alpha=0.2)\n",
        "\n",
        "# Calculate the average and standard deviation of your heights\n",
        "mean  = np.average(heights)\n",
        "std = np.std(heights)\n",
        "\n",
        "# Prepare the x axis = height values\n",
        "x = np.linspace(145,190,200)\n",
        "\n",
        "# Plot the Gaussian\n",
        "plt.plot(x,gauss(x,mean,std), label='Gaussian', color='blue', lw=3)\n",
        "plt.xlabel('Heights [cm]')\n",
        "plt.ylabel('Probability distribution')\n",
        "plt.legend();"
      ],
      "metadata": {
        "id": "il-AutWbdCoM"
      },
      "execution_count": null,
      "outputs": []
    },
    {
      "cell_type": "markdown",
      "source": [
        "It's not great. Why?  \n",
        "Maybe because we have a limited data set from our survey. We might have some outliers too.\n",
        "\n",
        "We can use a larger dataset from [this study](http://socr.ucla.edu/docs/resources/SOCR_Data/SOCR_Data_Dinov_020108_HeightsWeights.html).\n",
        "\n",
        "\n"
      ],
      "metadata": {
        "id": "f3ZccJjidGxp"
      }
    },
    {
      "cell_type": "code",
      "source": [
        "# Read the data from the large dataset\n",
        "data = pd.read_csv('./data/SOCR-HeightWeight.csv')\n",
        "\n",
        "# Convert inches to cm\n",
        "heights_new = data['Height(Inches)']*2.54\n",
        "\n",
        "# Make the new histogram\n",
        "plt.hist(heights_new, density=1, color='red', alpha=0.2, label='big dataset')\n",
        "\n",
        "# Plot the new Gaussian function\n",
        "mean_new  = np.average(heights_new)\n",
        "std_new = np.std(heights_new)\n",
        "plt.plot(x, gauss(x,mean_new, std_new), label='Gauss', color='red', lw=3)\n",
        "\n",
        "# Re-plot survey data\n",
        "plt.hist(heights, density=1, color='blue', alpha=0.2, label='survey data')\n",
        "plt.plot(x, gauss(x,mean,std), label='Gauss', color='blue', lw=3)\n",
        "\n",
        "plt.xlabel('Heights [cm]')\n",
        "plt.ylabel('Frequency')\n",
        "plt.legend();"
      ],
      "metadata": {
        "id": "Dy06gMjWdORy"
      },
      "execution_count": null,
      "outputs": []
    },
    {
      "cell_type": "markdown",
      "source": [
        "Interesting! The average of our data and the one from the large dataset are similar.   \n",
        "The fluctuations around the average are larger in our data, probably again because of the limited number of samples."
      ],
      "metadata": {
        "id": "QCLI9VP_dS3p"
      }
    },
    {
      "cell_type": "markdown",
      "metadata": {
        "id": "TmEM0ViaTkns"
      },
      "source": [
        "## 6. Exploring Python data visualization further...<a name='section6'></a>"
      ]
    },
    {
      "cell_type": "markdown",
      "metadata": {
        "id": "749e04nBTkns"
      },
      "source": [
        "We've only looked at matplotlib (and not even fully explored all its features!) Another popular data visualization library is [seaborn](https://seaborn.pydata.org/). There is also [Plotly](https://plot.ly/python/) and [Bokeh](http://bokeh.pydata.org/en/latest/) which can create interactive visualizations."
      ]
    },
    {
      "cell_type": "markdown",
      "metadata": {
        "id": "KATKzbVqTkns"
      },
      "source": [
        "---\n",
        "Notebook developed by: Alisa Bettale, Laurel Hales, Samanvitha Murthy, Arianna Formenti"
      ]
    }
  ],
  "metadata": {
    "hide_input": false,
    "kernelspec": {
      "display_name": "Python 3",
      "language": "python",
      "name": "python3"
    },
    "language_info": {
      "codemirror_mode": {
        "name": "ipython",
        "version": 3
      },
      "file_extension": ".py",
      "mimetype": "text/x-python",
      "name": "python",
      "nbconvert_exporter": "python",
      "pygments_lexer": "ipython3",
      "version": "3.8.8"
    },
    "toc": {
      "base_numbering": 1,
      "nav_menu": {},
      "number_sections": false,
      "sideBar": true,
      "skip_h1_title": false,
      "title_cell": "Table of Contents",
      "title_sidebar": "Contents",
      "toc_cell": false,
      "toc_position": {
        "height": "calc(100% - 180px)",
        "left": "10px",
        "top": "150px",
        "width": "384px"
      },
      "toc_section_display": true,
      "toc_window_display": false
    },
    "varInspector": {
      "cols": {
        "lenName": 16,
        "lenType": 16,
        "lenVar": 40
      },
      "kernels_config": {
        "python": {
          "delete_cmd_postfix": "",
          "delete_cmd_prefix": "del ",
          "library": "var_list.py",
          "varRefreshCmd": "print(var_dic_list())"
        },
        "r": {
          "delete_cmd_postfix": ") ",
          "delete_cmd_prefix": "rm(",
          "library": "var_list.r",
          "varRefreshCmd": "cat(var_dic_list()) "
        }
      },
      "types_to_exclude": [
        "module",
        "function",
        "builtin_function_or_method",
        "instance",
        "_Feature"
      ],
      "window_display": false
    },
    "colab": {
      "provenance": []
    }
  },
  "nbformat": 4,
  "nbformat_minor": 0
}