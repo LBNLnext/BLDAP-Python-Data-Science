{
 "cells": [
  {
   "cell_type": "markdown",
   "metadata": {},
   "source": [
    "\n",
    "----\n",
    "\n",
    "# NumPy Arrays\n",
    "\n",
    "\n",
    "\n",
    "---\n",
    "\n",
    "### Table of Contents\n",
    "\n",
    "\n",
    "1 - [Creating NumPy Arrays](#section1)<br>\n",
    "\n",
    "2 - [Basic Operations with NumPy Arrays](#section2)<br>\n",
    "\n",
    "3 - [Indexing & Slicing NumPy Arrays](#section3)<br>\n",
    "\n",
    "4 - [NumPy Arrays Applications](#section4)<br>\n",
    "\n",
    "&nbsp;&nbsp;&nbsp;&nbsp;&nbsp;&nbsp; 4.1 - [Finding the Average Hours of Daylight](#subsection1)<br>\n",
    "\n",
    "&nbsp;&nbsp;&nbsp;&nbsp;&nbsp;&nbsp; 4.2 - [Finding the Elevation of a Hiking Path](#subsection2)<br>\n",
    "\n",
    "---"
   ]
  },
  {
   "cell_type": "markdown",
   "metadata": {},
   "source": [
    "NumPy (short for \"Numerical Python\") is a Python library that allows us to work with arrays and easily process large amounts of numerical data. This means we must import the library in order to use it! \n",
    "\n",
    "In order to save us some typing time we can give our libraries a shorter alias, like <b>np</b> for NumPy."
   ]
  },
  {
   "cell_type": "code",
   "execution_count": 1,
   "metadata": {},
   "outputs": [],
   "source": [
    "import numpy as np\n",
    "from matplotlib import pyplot as plt\n",
    "%matplotlib inline\n",
    "from jupyter_utils import *"
   ]
  },
  {
   "cell_type": "markdown",
   "metadata": {},
   "source": [
    "## Creating Numpy Arrays  <a id='section1'></a>\n"
   ]
  },
  {
   "cell_type": "markdown",
   "metadata": {},
   "source": [
    "A NumPy array is just a table of data of the same type. From [NumPy.org](https://numpy.org/doc/stable/user/absolute_beginners.html): NumPy arrays can be used to perform a wide variety of mathematical operations on arrays. It adds powerful data structures to Python that guarantee efficient calculations with arrays and matrices and it supplies an enormous library of high-level mathematical functions that operate on these arrays and matrices.\n",
    "\n",
    "\n",
    "In order to use NumPy you can either convert data you already have into a NumPy array or create a blank array from scratch. NumPy arrays and Python lists are similar, yet they react differently to various operations."
   ]
  },
  {
   "cell_type": "code",
   "execution_count": 2,
   "metadata": {},
   "outputs": [
    {
     "data": {
      "text/plain": [
       "(array([1, 2, 3, 4]), [1, 2, 3, 4])"
      ]
     },
     "execution_count": 2,
     "metadata": {},
     "output_type": "execute_result"
    }
   ],
   "source": [
    "#Create an array\n",
    "array1 = np.array([1,2,3,4])\n",
    "\n",
    "#Create a list\n",
    "list1 = [1,2,3,4]\n",
    "\n",
    "array1, list1"
   ]
  },
  {
   "cell_type": "markdown",
   "metadata": {},
   "source": [
    "Try doing the following operations and see if you notice any differences!\n",
    "\n",
    "array1 + array1\n",
    "\n",
    "list1 + list1\n",
    "\n",
    "array1 * array1\n",
    "\n",
    "list1 * list1"
   ]
  },
  {
   "cell_type": "code",
   "execution_count": 3,
   "metadata": {},
   "outputs": [
    {
     "name": "stdout",
     "output_type": "stream",
     "text": [
      "[2 4 6 8]\n",
      "[1, 2, 3, 4, 1, 2, 3, 4]\n"
     ]
    }
   ],
   "source": [
    "# EXERCISE\n",
    "\n",
    "# add two arrays\n",
    "# add two lists\n",
    "\n",
    "print(array1 + array1)\n",
    "print(list1 + list1)"
   ]
  },
  {
   "cell_type": "code",
   "execution_count": 4,
   "metadata": {},
   "outputs": [
    {
     "name": "stdout",
     "output_type": "stream",
     "text": [
      "[ 1  4  9 16]\n"
     ]
    },
    {
     "ename": "TypeError",
     "evalue": "can't multiply sequence by non-int of type 'list'",
     "output_type": "error",
     "traceback": [
      "\u001b[0;31m---------------------------------------------------------------------------\u001b[0m",
      "\u001b[0;31mTypeError\u001b[0m                                 Traceback (most recent call last)",
      "\u001b[0;32m<ipython-input-4-8282ac0ac037>\u001b[0m in \u001b[0;36m<module>\u001b[0;34m\u001b[0m\n\u001b[1;32m      5\u001b[0m \u001b[0;34m\u001b[0m\u001b[0m\n\u001b[1;32m      6\u001b[0m \u001b[0mprint\u001b[0m\u001b[0;34m(\u001b[0m\u001b[0marray1\u001b[0m\u001b[0;34m*\u001b[0m\u001b[0marray1\u001b[0m\u001b[0;34m)\u001b[0m\u001b[0;34m\u001b[0m\u001b[0;34m\u001b[0m\u001b[0m\n\u001b[0;32m----> 7\u001b[0;31m \u001b[0mprint\u001b[0m\u001b[0;34m(\u001b[0m\u001b[0mlist1\u001b[0m\u001b[0;34m*\u001b[0m\u001b[0mlist1\u001b[0m\u001b[0;34m)\u001b[0m\u001b[0;34m\u001b[0m\u001b[0;34m\u001b[0m\u001b[0m\n\u001b[0m",
      "\u001b[0;31mTypeError\u001b[0m: can't multiply sequence by non-int of type 'list'"
     ]
    }
   ],
   "source": [
    "# EXERCISE\n",
    "\n",
    "# multiply two arrays\n",
    "# multiply two lists\n",
    "\n",
    "print(array1*array1)\n",
    "print(list1*list1)"
   ]
  },
  {
   "cell_type": "code",
   "execution_count": 5,
   "metadata": {},
   "outputs": [
    {
     "data": {
      "text/plain": [
       "[0, 1, 2, 3, 4, 5]"
      ]
     },
     "execution_count": 5,
     "metadata": {},
     "output_type": "execute_result"
    }
   ],
   "source": [
    "# EXAMPLE\n",
    "\n",
    "# Create a new list\n",
    "\n",
    "list_of_numbers = [0, 1, 2, 3, 4, 5]\n",
    "list_of_numbers"
   ]
  },
  {
   "cell_type": "code",
   "execution_count": 6,
   "metadata": {},
   "outputs": [
    {
     "data": {
      "text/plain": [
       "list"
      ]
     },
     "execution_count": 6,
     "metadata": {},
     "output_type": "execute_result"
    }
   ],
   "source": [
    "# Example\n",
    "\n",
    "# Verify that it is indeed a regular Python list\n",
    "\n",
    "type(list_of_numbers)"
   ]
  },
  {
   "cell_type": "code",
   "execution_count": 7,
   "metadata": {},
   "outputs": [
    {
     "data": {
      "text/plain": [
       "array([0, 1, 2, 3, 4, 5])"
      ]
     },
     "execution_count": 7,
     "metadata": {},
     "output_type": "execute_result"
    }
   ],
   "source": [
    "# EXAMPLE\n",
    "\n",
    "#Create a new Numpy array from our list and display it\n",
    "\n",
    "array_from_list = np.array(list_of_numbers)\n",
    "array_from_list"
   ]
  },
  {
   "cell_type": "code",
   "execution_count": 8,
   "metadata": {},
   "outputs": [
    {
     "data": {
      "text/plain": [
       "numpy.ndarray"
      ]
     },
     "execution_count": 8,
     "metadata": {},
     "output_type": "execute_result"
    }
   ],
   "source": [
    "# EXERCISE\n",
    "\n",
    "# Verify that it's an array and not a list\n",
    "\n",
    "type(array_from_list)"
   ]
  },
  {
   "cell_type": "markdown",
   "metadata": {},
   "source": [
    "Usually, we get arrays from our data. If we don't yet have any data or just want a placeholder for our data, we can create a NumPy array filled with ones by calling np.ones() and specifying the size of the array in a tuple, (3, 4).\n",
    "\n",
    "*A tuple is another data type in Python. It's similar to a list, but uses parentheses instead of square brackets, and unlike lists, are unchangeable*"
   ]
  },
  {
   "cell_type": "code",
   "execution_count": 9,
   "metadata": {},
   "outputs": [
    {
     "data": {
      "text/plain": [
       "array([[1., 1., 1., 1.],\n",
       "       [1., 1., 1., 1.],\n",
       "       [1., 1., 1., 1.]])"
      ]
     },
     "execution_count": 9,
     "metadata": {},
     "output_type": "execute_result"
    }
   ],
   "source": [
    "# EXAMPLE\n",
    "\n",
    "#Create an array of size 3x4 and fill it with ones\n",
    "\n",
    "ones_array = np.ones((3, 4))\n",
    "ones_array"
   ]
  },
  {
   "cell_type": "markdown",
   "metadata": {},
   "source": [
    "We can also create arrays filled with zeros."
   ]
  },
  {
   "cell_type": "code",
   "execution_count": 10,
   "metadata": {},
   "outputs": [
    {
     "data": {
      "text/plain": [
       "array([[0., 0., 0., 0.],\n",
       "       [0., 0., 0., 0.],\n",
       "       [0., 0., 0., 0.]])"
      ]
     },
     "execution_count": 10,
     "metadata": {},
     "output_type": "execute_result"
    }
   ],
   "source": [
    "# EXERCISE\n",
    "\n",
    "# Create a 3x4 array of zeroes\n",
    "# It will have a similar syntax, but instead we need to call \n",
    "# a function \"zeros\", not \"ones\" from our NumPy library\n",
    "\n",
    "zeros_array = np.zeros((3,4))\n",
    "zeros_array"
   ]
  },
  {
   "cell_type": "code",
   "execution_count": 11,
   "metadata": {},
   "outputs": [
    {
     "name": "stdout",
     "output_type": "stream",
     "text": [
      "[[1 2 3]\n",
      " [4 5 6]\n",
      " [7 8 9]]\n"
     ]
    }
   ],
   "source": [
    "x = np.array([[1,2,3],[4,5,6],[7,8,9]])\n",
    "print(x)"
   ]
  },
  {
   "cell_type": "markdown",
   "metadata": {},
   "source": [
    "Similarly we can create NumPy arrays filled with any other value. To accomplish this we use `np.full` and specify both the size of the array and the value we would like to fill that array with."
   ]
  },
  {
   "cell_type": "code",
   "execution_count": 12,
   "metadata": {},
   "outputs": [
    {
     "data": {
      "text/plain": [
       "array([[2, 2, 2, 2],\n",
       "       [2, 2, 2, 2],\n",
       "       [2, 2, 2, 2]])"
      ]
     },
     "execution_count": 12,
     "metadata": {},
     "output_type": "execute_result"
    }
   ],
   "source": [
    "# EXAMPLE\n",
    "\n",
    "array_of_twos = np.full((3, 4), 2)\n",
    "array_of_twos"
   ]
  },
  {
   "cell_type": "code",
   "execution_count": 13,
   "metadata": {},
   "outputs": [
    {
     "data": {
      "text/plain": [
       "array([[0.5, 0.5, 0.5, 0.5, 0.5],\n",
       "       [0.5, 0.5, 0.5, 0.5, 0.5]])"
      ]
     },
     "execution_count": 13,
     "metadata": {},
     "output_type": "execute_result"
    }
   ],
   "source": [
    "# EXERCISE\n",
    "\n",
    "# Create a 2x5 array of halves: \"0.5\" or \"1/2\"\n",
    "\n",
    "array_of_halves = np.full((2, 5), 0.5)\n",
    "array_of_halves"
   ]
  },
  {
   "cell_type": "code",
   "execution_count": 14,
   "metadata": {},
   "outputs": [
    {
     "data": {
      "text/plain": [
       "array([5, 7, 9])"
      ]
     },
     "execution_count": 14,
     "metadata": {},
     "output_type": "execute_result"
    }
   ],
   "source": [
    "# EXAMPLE\n",
    "\n",
    "x = np.array ( [1,2,3] )\n",
    "y = np.array ( [4,5,6] )\n",
    "# add array x to array y and store it in an array caled result\n",
    "result = np.add(x,y)\n",
    "result"
   ]
  },
  {
   "cell_type": "code",
   "execution_count": 15,
   "metadata": {},
   "outputs": [
    {
     "data": {
      "text/plain": [
       "array([3, 3, 3])"
      ]
     },
     "execution_count": 15,
     "metadata": {},
     "output_type": "execute_result"
    }
   ],
   "source": [
    "# EXERCISE\n",
    "\n",
    "# Modify the above code to subtract array x from array y\n",
    "\n",
    "x = np.array ( [1,2,3] )\n",
    "y = np.array ( [4,5,6] )\n",
    "\n",
    "result = y-x\n",
    "result"
   ]
  },
  {
   "cell_type": "markdown",
   "metadata": {},
   "source": [
    "In the cell below, create a 4x3 array filled with Pi.\n",
    "\n",
    "**Hint:** Similar to the math library, you can use the the numpy library to import the value of pi."
   ]
  },
  {
   "cell_type": "code",
   "execution_count": 16,
   "metadata": {},
   "outputs": [
    {
     "data": {
      "text/plain": [
       "array([[3.14159265, 3.14159265, 3.14159265],\n",
       "       [3.14159265, 3.14159265, 3.14159265],\n",
       "       [3.14159265, 3.14159265, 3.14159265],\n",
       "       [3.14159265, 3.14159265, 3.14159265]])"
      ]
     },
     "execution_count": 16,
     "metadata": {},
     "output_type": "execute_result"
    }
   ],
   "source": [
    "# EXERCISE\n",
    "\n",
    "array_of_pies = np.full((4,3), np.pi)\n",
    "array_of_pies"
   ]
  },
  {
   "cell_type": "markdown",
   "metadata": {},
   "source": [
    "If we want NumPy to fill the array with random numbers between zero and one, we can use `np.random.rand()`.\n",
    "Although counterintuitive, for this function we do not need to put the size of the array in a tuple. Instead we just give NumPy the dimensions of the array directly.  "
   ]
  },
  {
   "cell_type": "code",
   "execution_count": 17,
   "metadata": {},
   "outputs": [
    {
     "data": {
      "text/plain": [
       "array([[0.60198508, 0.45786261, 0.24879798],\n",
       "       [0.6482543 , 0.3102845 , 0.81491706]])"
      ]
     },
     "execution_count": 17,
     "metadata": {},
     "output_type": "execute_result"
    }
   ],
   "source": [
    "# EXAMPLE\n",
    "\n",
    "np.random.rand(2,3)"
   ]
  },
  {
   "cell_type": "markdown",
   "metadata": {},
   "source": [
    "## Basic Operations with Numpy Arrays  <a id='section2'></a>\n"
   ]
  },
  {
   "cell_type": "markdown",
   "metadata": {},
   "source": [
    "NumPy is much more than just an array creator. It allows us to do blazingly fast operations with arrays. Operations performed with NumPy on arrays can be computed significantly faster than with other Python functions on lists.\n",
    "For example, let's say that we have an array of one million random probabilities of it raining on a particular day."
   ]
  },
  {
   "cell_type": "code",
   "execution_count": 18,
   "metadata": {},
   "outputs": [
    {
     "data": {
      "text/plain": [
       "array([[0.17353909],\n",
       "       [0.6433225 ],\n",
       "       [0.52903821],\n",
       "       ...,\n",
       "       [0.80092638],\n",
       "       [0.83902302],\n",
       "       [0.06433493]])"
      ]
     },
     "execution_count": 18,
     "metadata": {},
     "output_type": "execute_result"
    }
   ],
   "source": [
    "# EXAMPLE\n",
    "\n",
    "random_million = np.random.rand(1000000, 1)\n",
    "random_million"
   ]
  },
  {
   "cell_type": "markdown",
   "metadata": {},
   "source": [
    "Let's check that the array is actully one million numbers long. \n",
    "\n",
    "**Hint:** Just like with most other data structures (lists) and some data types (strings), you can use the traditional Python len( ) function to check the *length* of your object."
   ]
  },
  {
   "cell_type": "code",
   "execution_count": 19,
   "metadata": {},
   "outputs": [
    {
     "data": {
      "text/plain": [
       "1000000"
      ]
     },
     "execution_count": 19,
     "metadata": {},
     "output_type": "execute_result"
    }
   ],
   "source": [
    "# EXERCISE\n",
    "len(random_million)"
   ]
  },
  {
   "cell_type": "markdown",
   "metadata": {},
   "source": [
    "Yep, that checks out.<br> <br>Now let's say that we want these probabilities to be in percentages (out of 100 rather) than proportions (from zero to one). We can just multiply the whole array by 100!"
   ]
  },
  {
   "cell_type": "code",
   "execution_count": 20,
   "metadata": {},
   "outputs": [
    {
     "data": {
      "text/plain": [
       "array([[17.3539089 ],\n",
       "       [64.33225032],\n",
       "       [52.90382139],\n",
       "       ...,\n",
       "       [80.0926382 ],\n",
       "       [83.90230203],\n",
       "       [ 6.43349346]])"
      ]
     },
     "execution_count": 20,
     "metadata": {},
     "output_type": "execute_result"
    }
   ],
   "source": [
    "# EXAMPLE\n",
    "\n",
    "percentages = random_million * 100\n",
    "percentages"
   ]
  },
  {
   "cell_type": "markdown",
   "metadata": {},
   "source": [
    "Notice that NumPy accomplishes that multiplication in a fraction of a second when we use it with arrays. That's a million multiplications! In the cell below you can see how much longer the code is for doing the same operations on a list. \n",
    "\n",
    "**Note:** We cut our list to have 10,000 values only, because it can take it a long time to run a for-loop over 1 million values. "
   ]
  },
  {
   "cell_type": "code",
   "execution_count": 21,
   "metadata": {},
   "outputs": [
    {
     "name": "stdout",
     "output_type": "stream",
     "text": [
      "[array([17.3539089]), array([64.33225032]), array([52.90382139]), array([49.15802824]), array([81.68478926]), array([34.79161619]), array([7.49249924]), array([37.19176726]), array([78.68794985]), array([72.46263657]), array([42.21670867]), array([5.0662988]), array([53.80909049]), array([76.28119193]), array([17.1630844]), array([56.80840032]), array([35.73857157]), array([62.05484935]), array([33.68285794]), array([15.13988741]), array([1.98548091]), array([34.18016004]), array([20.03421546]), array([11.35350932]), array([89.77015263]), array([23.77593298]), array([84.36017401]), array([75.20978992]), array([31.03740404]), array([27.19143175]), array([93.22414268]), array([13.57870033]), array([79.82165508]), array([19.99639192]), array([0.37026716]), array([62.58656379]), array([76.58018595]), array([16.95363826]), array([81.59478587]), array([78.37088611]), array([67.56834196]), array([43.30671746]), array([16.79140886]), array([14.38729703]), array([69.74433568]), array([16.0189976]), array([8.70328367]), array([24.75420995]), array([46.00281715]), array([87.3170062]), array([78.48493457]), array([51.57605817]), array([2.07792409]), array([75.22096678]), array([67.85891029]), array([47.8437444]), array([19.99398137]), array([90.49042706]), array([47.77225642]), array([59.91388129]), array([41.8516105]), array([13.82615128]), array([54.1554603]), array([19.70233957]), array([49.19668968]), array([21.03926135]), array([85.47091366]), array([44.79023517]), array([94.37036442]), array([43.68601171]), array([38.88115301]), array([20.76414612]), array([50.25053134]), array([44.49521937]), array([49.45490665]), array([80.14640625]), array([43.80776204]), array([15.70839279]), array([1.9135971]), array([88.90743706]), array([64.74270288]), array([10.70677353]), array([46.67123568]), array([62.87866197]), array([49.33405258]), array([73.18394547]), array([71.97059672]), array([79.6021074]), array([45.30805306]), array([2.29582743]), array([25.54744939]), array([13.54612536]), array([16.46619362]), array([79.96347004]), array([84.68169318]), array([84.10916916]), array([2.53501494]), array([10.40765137]), array([21.2901815]), array([27.35851187]), array([79.36263537]), array([82.42506196]), array([13.55314264]), array([27.9307494]), array([8.97918773]), array([81.20309935]), array([7.89700315]), array([84.68995831]), array([8.85091708]), array([97.74545225]), array([21.83754578]), array([59.9025304]), array([74.76231718]), array([59.56380462]), array([46.04506257]), array([41.92168654]), array([73.54420458]), array([4.86757507]), array([33.1435529]), array([4.80386644]), array([53.50155202]), array([1.96893602]), array([46.56293141]), array([75.42789127]), array([71.83001819]), array([25.74190809]), array([24.69240826]), array([80.48754715]), array([15.93753332]), array([18.35043919]), array([37.51455517]), array([28.46218724]), array([44.36364522]), array([42.87437688]), array([44.77359904]), array([55.7496025]), array([94.69788466]), array([90.70585335]), array([92.65583144]), array([13.63125861]), array([34.4416585]), array([17.67795763]), array([38.72361258]), array([35.05148353]), array([53.30855824]), array([91.3719184]), array([17.56185751]), array([71.59670987]), array([44.31756069]), array([40.82754143]), array([80.07219303]), array([33.22804555]), array([98.52507511]), array([5.99799916]), array([57.77262554]), array([17.10295044]), array([8.71527222]), array([9.35736424]), array([96.49101808]), array([29.31757861]), array([39.39067548]), array([95.63463932]), array([51.47090381]), array([83.82670035]), array([15.07371353]), array([8.78689062]), array([9.46795018]), array([51.52729093]), array([20.93067539]), array([10.81811274]), array([80.19957082]), array([44.56221154]), array([72.32173631]), array([93.93167206]), array([78.02479743]), array([19.75990114]), array([11.86085692]), array([41.19683459]), array([75.69236532]), array([32.65749825]), array([71.10864553]), array([50.60332955]), array([96.09003245]), array([56.83247979]), array([90.75187655]), array([3.50437736]), array([10.70636295]), array([32.78048065]), array([94.1037476]), array([51.77712104]), array([38.86507104]), array([41.53020884]), array([29.22960494]), array([50.59232189]), array([56.45563858]), array([17.15268229]), array([94.88951226]), array([74.52840641]), array([32.20817967]), array([95.69731065]), array([83.18315773]), array([74.38060915]), array([66.97615811]), array([98.85523295]), array([15.74011458]), array([21.71820883]), array([66.03334277]), array([80.48832243]), array([84.58194493]), array([56.77593357]), array([17.81379655]), array([15.92947711]), array([77.8031145]), array([66.37632429]), array([62.88808273]), array([64.494731]), array([53.43400004]), array([34.18354004]), array([16.63957214]), array([46.10661249]), array([52.03182034]), array([18.52687688]), array([61.75301744]), array([91.65838274]), array([32.59579972]), array([22.58971526]), array([2.85475377]), array([19.50576112]), array([19.09424086]), array([94.8577168]), array([87.3545098]), array([44.41328658]), array([27.81109262]), array([24.37436145]), array([72.54166393]), array([68.98806524]), array([46.03292144]), array([20.15254989]), array([35.09179009]), array([37.929842]), array([86.56068974]), array([93.52177356]), array([59.27212156]), array([98.58436549]), array([56.87896974]), array([44.3294815]), array([44.51183218]), array([61.75589895]), array([24.37830233]), array([65.38620824]), array([19.41197878]), array([96.97639325]), array([81.60456173]), array([80.12358255]), array([33.07474955]), array([48.49779686]), array([52.99041921]), array([23.76626421]), array([91.17342262]), array([89.14442768]), array([36.61864388]), array([37.10248519]), array([73.95915678]), array([67.29768058]), array([4.99569243]), array([17.42633659]), array([80.06442025]), array([94.357834]), array([62.20895102]), array([59.70328992]), array([19.56456059]), array([90.16290038]), array([2.87980087]), array([35.75459423]), array([88.05532649]), array([75.71643264]), array([19.43986864]), array([64.48763927]), array([70.65598465]), array([46.29828289]), array([50.13452035]), array([85.24335304]), array([51.74993441]), array([10.11305999]), array([24.93563905]), array([97.7910689]), array([99.20428612]), array([49.65022475]), array([59.21211819]), array([31.03318343]), array([76.93326103]), array([43.00716195]), array([9.60726017]), array([84.71737908]), array([69.77716879]), array([97.87857879]), array([9.59307207]), array([11.14505828]), array([85.22734079]), array([89.88054011]), array([75.3800488]), array([69.84157151]), array([30.91990195]), array([74.50780825]), array([22.39335989]), array([91.8967734]), array([17.11967937]), array([53.64318459]), array([46.61467849]), array([68.94748466]), array([57.10812765]), array([17.12423891]), array([85.47282159]), array([73.36192708]), array([46.21054223]), array([14.61847195]), array([28.52620908]), array([74.65708978]), array([65.36027688]), array([68.5438772]), array([72.32167755]), array([13.08310911]), array([2.0631785]), array([46.70654891]), array([11.67693867]), array([6.7599924]), array([82.20414235]), array([42.64948267]), array([82.52579725]), array([59.67035297]), array([46.90752097]), array([69.08476783]), array([66.37732283]), array([33.37959899]), array([76.87875934]), array([79.75759806]), array([13.94334295]), array([23.92516221]), array([33.62543279]), array([70.21327573]), array([46.115128]), array([29.40367418]), array([31.09923469]), array([86.60935774]), array([58.98927718]), array([22.85550333]), array([29.09853612]), array([90.37081939]), array([15.92055778]), array([96.66718229]), array([75.74463298]), array([38.04428998]), array([44.94961954]), array([18.54859122]), array([19.29329086]), array([1.20697703]), array([18.59392994]), array([59.73944126]), array([61.05417428]), array([58.75086734]), array([71.86200159]), array([21.74564786]), array([17.61569659]), array([97.18020828]), array([56.11550862]), array([94.81719632]), array([59.68925608]), array([42.24598867]), array([22.79962908]), array([26.90320225]), array([23.1511725]), array([34.24914911]), array([23.67784096]), array([67.8853579]), array([44.7860058]), array([44.86456505]), array([67.16639711]), array([84.11555242]), array([60.25138169]), array([82.11583852]), array([61.39653531]), array([51.98005745]), array([32.42287169]), array([21.31469869]), array([32.89921618]), array([86.6232105]), array([53.66931325]), array([3.48924199]), array([61.87040137]), array([71.31654337]), array([77.09487343]), array([91.10238847]), array([16.86798404]), array([77.77417454]), array([66.15454035]), array([76.97110925]), array([21.56027686]), array([97.51124245]), array([76.75812614]), array([91.60894823]), array([24.68979285]), array([94.44426161]), array([87.98784995]), array([44.97228262]), array([24.2610887]), array([96.27467103]), array([32.41343096]), array([33.78670504]), array([25.95869112]), array([82.59396724]), array([42.18740271]), array([63.00655023]), array([8.14759654]), array([20.27981881]), array([44.07087668]), array([47.81040277]), array([56.20671139]), array([34.80644759]), array([61.77021553]), array([71.26330884]), array([3.14877704]), array([19.28120934]), array([15.42694086]), array([3.63990625]), array([89.1475055]), array([34.38974501]), array([64.22759151]), array([78.99176008]), array([92.56022208]), array([48.03311722]), array([78.27370855]), array([48.75500056]), array([94.36614214]), array([43.81378857]), array([56.44707651]), array([70.48892167]), array([73.73863538]), array([99.35174234]), array([71.0566404]), array([84.08252333]), array([75.16087483]), array([23.33354215]), array([47.26015636]), array([21.7760489]), array([3.4020306]), array([17.74044802]), array([67.8174475]), array([48.19407785]), array([82.16854592]), array([39.08150118]), array([13.49028108]), array([65.27081309]), array([74.12956327]), array([65.33123012]), array([25.1686082]), array([40.5422112]), array([62.95618994]), array([81.59497456]), array([25.23083227]), array([93.29735612]), array([70.18399535]), array([55.92308392]), array([22.10526633]), array([81.69872584]), array([79.00825053]), array([95.31292985]), array([20.63946785]), array([42.37931141]), array([62.22116027]), array([23.87058129]), array([61.32582293]), array([91.07691873]), array([21.34992654]), array([6.90432361]), array([51.38491689]), array([42.1963043]), array([60.17712233]), array([40.22059354]), array([29.02056784]), array([25.25920715]), array([23.68536678]), array([23.11897877]), array([46.10870763]), array([33.71830885]), array([74.85345954]), array([46.96135998]), array([44.07058612]), array([7.37220488]), array([26.75181809]), array([20.68629758]), array([59.1195752]), array([94.4904365]), array([50.17618223]), array([57.11118402]), array([80.56127833]), array([32.24719556]), array([0.4805569]), array([75.56731842]), array([71.8499368]), array([63.0257602]), array([23.42379429]), array([19.93944438]), array([68.73718991]), array([24.79514554]), array([55.93989883]), array([51.93410742]), array([71.28736078]), array([83.70263091]), array([70.52520651]), array([46.06113119]), array([40.41517573]), array([33.24619844]), array([31.13974317]), array([30.20509101]), array([92.10044388]), array([92.2642042]), array([50.97319392]), array([56.01949637]), array([85.54883335]), array([43.8127719]), array([35.56552017]), array([23.44305462]), array([9.67657384]), array([91.80057222]), array([33.68549192]), array([90.51229033]), array([75.02630865]), array([29.30873717]), array([94.84400255]), array([85.73886971]), array([67.10535172]), array([11.26396591]), array([60.13929054]), array([20.45649046]), array([88.29279193]), array([59.68840527]), array([97.33348899]), array([22.20340693]), array([19.53096224]), array([51.8883617]), array([8.17574572]), array([93.20426334]), array([21.01312792]), array([89.70798412]), array([44.7144236]), array([19.57668195]), array([81.53823189]), array([7.91199993]), array([93.20068629]), array([80.49939037]), array([28.61373239]), array([38.82812624]), array([6.50978917]), array([44.58694755]), array([99.02981516]), array([27.57007464]), array([64.93360839]), array([79.88094427]), array([18.88234196]), array([43.5015681]), array([82.37594989]), array([96.09492485]), array([82.9987066]), array([75.44059981]), array([60.50709366]), array([59.03674838]), array([38.81247415]), array([61.66716275]), array([39.9275126]), array([7.3650959]), array([85.92664832]), array([77.35783795]), array([27.53122169]), array([23.25401576]), array([0.24452337]), array([11.60112688]), array([14.00172886]), array([70.86183485]), array([20.81718917]), array([66.46214932]), array([30.9277695]), array([69.1329234]), array([37.5562547]), array([90.52073328]), array([73.08782309]), array([35.75403077]), array([85.49689908]), array([41.31700312]), array([47.80240788]), array([82.17983124]), array([16.78909329]), array([9.2101788]), array([47.62739884]), array([80.61436164]), array([57.50018441]), array([0.10451737]), array([13.75559431]), array([58.03514521]), array([45.94586865]), array([39.40192295]), array([5.03537821]), array([27.49759234]), array([33.7720012]), array([8.09451449]), array([14.77816148]), array([10.90343332]), array([24.57954404]), array([60.04734387]), array([87.00138231]), array([20.13090574]), array([21.70920931]), array([24.8290917]), array([66.999975]), array([89.97383062]), array([69.53094121]), array([63.21077669]), array([7.74666828]), array([24.96368597]), array([60.40358548]), array([39.40782635]), array([31.46036608]), array([98.02804888]), array([57.73778634]), array([30.46438035]), array([81.56209183]), array([68.49814288]), array([45.22359082]), array([35.20439671]), array([5.01002654]), array([87.79167528]), array([24.78062573]), array([98.92071842]), array([73.56920156]), array([2.00228718]), array([34.69037774]), array([28.68436001]), array([3.24523981]), array([61.43521905]), array([36.11517208]), array([37.73752527]), array([83.94616648]), array([52.51531759]), array([68.74454456]), array([22.32324198]), array([16.59602982]), array([39.60031893]), array([12.61447589]), array([40.79847603]), array([88.83652755]), array([73.44829079]), array([62.64696305]), array([5.83104757]), array([2.03803726]), array([56.77591024]), array([62.0250654]), array([74.85114929]), array([93.36737696]), array([6.77947506]), array([4.44517382]), array([18.71873872]), array([22.61679404]), array([78.03505532]), array([10.36095785]), array([0.36330463]), array([47.75555058]), array([85.60009035]), array([13.45490891]), array([48.94314101]), array([40.73452215]), array([69.24773687]), array([95.70942406]), array([39.19797339]), array([64.53493408]), array([84.45917347]), array([8.98024999]), array([60.84570043]), array([17.82202218]), array([17.88555367]), array([80.85384018]), array([15.66730069]), array([98.95900202]), array([90.64807472]), array([64.89412482]), array([66.32123648]), array([94.56112949]), array([5.18702294]), array([39.45185933]), array([76.80609574]), array([57.13822678]), array([22.58719883]), array([96.8630304]), array([4.92670955]), array([75.09439612]), array([12.04529969]), array([86.18773477]), array([57.95714364]), array([21.43149693]), array([20.97873963]), array([15.62381372]), array([42.20743907]), array([97.71017946]), array([56.9020464]), array([65.0915237]), array([31.0954471]), array([9.73526457]), array([47.94490302]), array([89.38886398]), array([20.46665269]), array([45.67701789]), array([6.07711154]), array([50.5235286]), array([28.37263392]), array([90.48703979]), array([6.07589092]), array([89.55649583]), array([68.24627937]), array([18.38041118]), array([50.52788628]), array([5.56030312]), array([38.16993237]), array([49.13889324]), array([72.09170942]), array([63.5277512]), array([28.61708333]), array([4.22016274]), array([86.81955946]), array([82.07883085]), array([29.4432279]), array([29.22833957]), array([83.79598774]), array([51.96094224]), array([22.3423334]), array([46.40723628]), array([10.8827073]), array([99.14737262]), array([97.71258517]), array([21.58544126]), array([32.9271752]), array([72.84848492]), array([3.42143522]), array([34.13541595]), array([30.86193785]), array([73.81643975]), array([11.10550111]), array([3.48638253]), array([24.99693927]), array([11.71870477]), array([92.21832392]), array([41.07992956]), array([99.26498452]), array([61.67251295]), array([20.66904229]), array([86.31621679]), array([67.17842764]), array([2.09904988]), array([6.83480421]), array([87.36158896]), array([34.23982673]), array([36.85669834]), array([44.71448562]), array([18.10912368]), array([17.3511529]), array([74.20380532]), array([56.07616144]), array([22.967121]), array([81.90738825]), array([67.04294293]), array([62.19249149]), array([38.6655361]), array([73.92581979]), array([60.6962405]), array([10.08439409]), array([87.03894678]), array([86.98193614]), array([64.40752997]), array([41.41266756]), array([12.85032144]), array([8.8359151]), array([12.8689451]), array([66.83317671]), array([27.01115793]), array([91.43560121]), array([27.7328414]), array([13.97946639]), array([12.31915719]), array([51.4605414]), array([53.17334642]), array([20.73279486]), array([46.64695547]), array([47.70515356]), array([71.26216977]), array([64.94559548]), array([27.1144987]), array([90.96821729]), array([79.56377126]), array([49.73802509]), array([84.44850758]), array([69.97903758]), array([17.09629413]), array([5.48403377]), array([13.44749803]), array([52.21382073]), array([15.52831915]), array([5.17431533]), array([98.82447111]), array([92.5499483]), array([67.35613407]), array([25.69696479]), array([69.23066318]), array([4.22463199]), array([48.88856501]), array([97.57982502]), array([75.67188582]), array([36.44522217]), array([40.01063614]), array([82.23269057]), array([44.77875877]), array([31.0315959]), array([99.60025844]), array([63.13555766]), array([3.5841788]), array([95.24153721]), array([12.54330879]), array([94.96966308]), array([75.45203178]), array([20.56515141]), array([89.32063926]), array([49.94643674]), array([57.06670848]), array([76.92413577]), array([42.59563543]), array([91.57122674]), array([5.52829051]), array([98.86594258]), array([83.86469747]), array([12.44524851]), array([6.42660842]), array([32.81877215]), array([10.91978341]), array([10.98979309]), array([81.02499031]), array([60.03440867]), array([64.84657075]), array([27.86515926]), array([19.25483193]), array([91.21492362]), array([56.63868152]), array([44.45682361]), array([97.9033668]), array([16.00539586]), array([74.66089241]), array([80.77772954]), array([32.94028436]), array([5.79618125]), array([44.07642749]), array([16.1549945]), array([52.16002333]), array([80.86002292]), array([6.92912984]), array([13.41842181]), array([36.92281926]), array([94.26600258]), array([13.10754582]), array([10.9017071]), array([54.62492375]), array([49.70444407]), array([2.3193289]), array([2.40221677]), array([59.15077641]), array([95.05673408]), array([92.83897633]), array([99.62172564]), array([1.54273006]), array([55.29149972]), array([95.01347331]), array([28.8472443]), array([35.36722025]), array([89.52585582]), array([69.28734461]), array([45.00210298]), array([0.16866961]), array([57.72690641]), array([80.63827745]), array([5.27504469]), array([39.64345417]), array([89.3127153]), array([83.99307738]), array([9.62390827]), array([63.07178465]), array([56.63653255]), array([45.7336814]), array([92.89197532]), array([85.46812239]), array([24.15426366]), array([4.03195061]), array([1.83564265]), array([86.01976865]), array([58.49425786]), array([33.34945455]), array([13.39787767]), array([87.40389832]), array([74.0123387]), array([72.14903244]), array([43.16310333]), array([85.50530915]), array([24.97989726]), array([14.70452099]), array([22.81888878]), array([88.28555143]), array([46.71759922]), array([7.73662582]), array([67.05445987]), array([38.45400556]), array([98.25896569]), array([23.37419876]), array([20.32234497]), array([95.95730467]), array([1.18180923]), array([31.63210044]), array([59.5306259]), array([41.84118223]), array([15.56918558]), array([3.29772325]), array([27.28781675]), array([26.4181946]), array([81.9590674]), array([20.38124791]), array([3.98690767]), array([20.79338571]), array([34.01945877]), array([76.62800189]), array([1.43295728]), array([98.87779529]), array([46.56575591]), array([33.18314142]), array([69.34331422]), array([61.01265795]), array([61.50431916]), array([66.87037369]), array([38.59423688]), array([6.6619382]), array([10.12380734]), array([89.93125093]), array([93.68482074]), array([44.98521856]), array([45.75393856]), array([56.13792286]), array([7.20228648]), array([86.43350695]), array([11.06336815]), array([81.22816472]), array([58.38892307]), array([31.54225211]), array([95.56409098]), array([19.4669984]), array([94.46516831]), array([9.74553175]), array([52.31605653]), array([75.94229899]), array([48.80151822]), array([7.17574317]), array([7.67810388]), array([95.82308921]), array([37.54178666]), array([82.93176778]), array([98.27381715]), array([16.27399892]), array([18.40513019]), array([26.19226797]), array([91.34844358]), array([56.55856238]), array([56.05254782]), array([51.54058849]), array([76.28301792]), array([52.0813002]), array([53.39969499]), array([7.17348029]), array([92.60511368]), array([4.47447528]), array([57.83856498]), array([4.48997558]), array([4.95549113]), array([54.78979874]), array([64.36058148]), array([65.93446085]), array([73.78113734]), array([14.55548463]), array([43.24841092]), array([34.10537148]), array([38.92202122]), array([32.47662309]), array([21.67971962]), array([80.64171124]), array([88.1974943]), array([83.16932925]), array([90.71478734]), array([93.20840341]), array([2.98027704]), array([23.34425341]), array([50.23857737]), array([82.02829898]), array([67.32841807]), array([44.8615085]), array([54.8795153]), array([65.17095044]), array([51.40434462]), array([5.13125042]), array([37.51052081]), array([10.48051177]), array([68.83795619]), array([55.85344108]), array([60.41988813]), array([8.90090476]), array([22.39133166]), array([78.04089608]), array([0.04377025]), array([74.29106183]), array([32.80303323]), array([88.57428432]), array([90.12111553]), array([70.41706745]), array([20.06118595]), array([89.92173821]), array([50.62339319]), array([27.23569171]), array([13.6773033]), array([44.78548802]), array([19.67139733]), array([26.4066287]), array([31.74538015]), array([41.64168557]), array([59.2316427]), array([70.6511332]), array([9.33203744]), array([24.82030971]), array([57.15479534]), array([44.75535687]), array([48.32277881]), array([44.34320098]), array([13.70020165]), array([93.78758326]), array([66.29148916]), array([50.56653034]), array([8.42143748]), array([40.99023721]), array([16.91656176]), array([12.25453737]), array([41.97738773]), array([28.61555922]), array([55.07787399]), array([4.11741597]), array([83.04326625]), array([83.147111]), array([66.49503621]), array([44.92171921]), array([38.30442812]), array([31.10847879]), array([35.16232583]), array([98.38253597]), array([53.65711158]), array([41.41005136]), array([27.53920296]), array([21.30902631]), array([34.12846296]), array([77.63100526]), array([33.96180894]), array([8.95437464]), array([44.4119481]), array([89.28440898]), array([40.1772318]), array([6.89334961]), array([46.30947725]), array([40.06072228]), array([70.13208204]), array([13.42700904]), array([14.1844694]), array([63.55461848]), array([99.22148394]), array([97.53655955]), array([33.02279534]), array([92.26938241]), array([59.4384659]), array([96.97744042]), array([49.27043728]), array([95.24315031]), array([38.5774619]), array([83.42799693]), array([43.07651425]), array([1.38743942]), array([86.29004336]), array([90.43582643]), array([50.99708491]), array([77.18521803]), array([18.43364479]), array([78.22326889]), array([7.31749094]), array([36.59202999]), array([62.58743558]), array([32.88272314]), array([99.86879565]), array([23.08289787]), array([37.63216882]), array([77.21331422]), array([99.34727484]), array([78.87443716]), array([20.49433562]), array([1.50596696]), array([76.06203121]), array([28.48090583]), array([2.65640114]), array([19.866352]), array([29.55996024]), array([26.5920696]), array([14.01396202]), array([78.94015815]), array([66.523629]), array([46.37446633]), array([18.06660317]), array([78.48473394]), array([71.42649188]), array([57.09788214]), array([0.87789498]), array([5.76164127]), array([92.43681918]), array([52.74945017]), array([1.77998446]), array([51.93517919]), array([79.51275911]), array([67.41158429]), array([79.79688484]), array([14.11795981]), array([67.42493707]), array([80.87127726]), array([87.45521027]), array([5.77664228]), array([8.66259261]), array([58.15146228]), array([45.24746499]), array([81.89583708]), array([38.57002701]), array([14.25726311]), array([16.28509741]), array([11.14573163]), array([69.04792877]), array([4.36018598]), array([26.36164746]), array([80.94634344]), array([15.54764701]), array([79.32968376]), array([52.60250504]), array([91.55356319]), array([8.0064593]), array([64.09583012]), array([92.5849308]), array([81.75941953]), array([91.47709757]), array([72.19591606]), array([36.83464896]), array([6.60216932]), array([89.32583597]), array([25.29450766]), array([82.98184308]), array([88.30520166]), array([65.4042793]), array([75.0834875]), array([92.92281142]), array([60.61467511]), array([1.99620532]), array([4.57012637]), array([77.08892456]), array([23.52317058]), array([63.5080338]), array([17.1325995]), array([42.6061832]), array([50.89066263]), array([86.1829508]), array([25.81382284]), array([71.17523438]), array([72.47443082]), array([41.6774331]), array([87.49368088]), array([90.66725568]), array([27.80471841]), array([74.16655048]), array([22.86608595]), array([8.69164169]), array([2.56385275]), array([7.26136329]), array([23.86767957]), array([50.97212011]), array([47.08249504]), array([66.08737229]), array([1.03206708]), array([5.22680067]), array([63.00594695]), array([63.39318065]), array([45.77753944]), array([88.14233832]), array([35.83195402]), array([72.06916665]), array([49.17447641]), array([5.02744782]), array([24.76623021]), array([89.104279]), array([28.32244656]), array([39.25743959]), array([35.52742917]), array([48.8924208]), array([50.76504038]), array([40.35757179]), array([37.02355192]), array([93.00498328]), array([8.15027274]), array([69.90450457]), array([30.40681464]), array([21.70503867]), array([49.36446805]), array([59.41208265]), array([31.55830476]), array([14.63861058]), array([78.98863053]), array([96.26476497]), array([97.63148548]), array([43.99770199]), array([55.11266933]), array([31.765427]), array([84.15776699]), array([91.09775434]), array([9.94274311]), array([96.34605286]), array([62.28940519]), array([21.97817148]), array([61.94707106]), array([73.51630593]), array([46.18854397]), array([38.12687292]), array([86.36691112]), array([92.49213394]), array([80.69439905]), array([1.91139907]), array([93.02421731]), array([11.596832]), array([56.30418594]), array([57.46474737]), array([41.10096344]), array([13.57980135]), array([42.20237553]), array([28.90256022]), array([66.89304242]), array([51.48038121]), array([33.19896158]), array([48.01709507]), array([12.41581077]), array([10.56528406]), array([38.34978676]), array([19.44053048]), array([85.93538671]), array([53.65580444]), array([79.97379502]), array([39.00133011]), array([60.03987521]), array([83.91384246]), array([82.52619495]), array([16.85138141]), array([3.26247447]), array([70.82767651]), array([45.52829517]), array([35.39287562]), array([22.07820587]), array([25.79987058]), array([68.71034218]), array([0.49696539]), array([44.20920728]), array([49.965649]), array([98.81622742]), array([53.14471125]), array([23.82597415]), array([32.70954355]), array([89.89739704]), array([38.25289561]), array([85.81583475]), array([94.47027878]), array([78.66421174]), array([90.19155487]), array([32.70750027]), array([37.81517248]), array([69.05467017]), array([53.1708185]), array([32.77536518]), array([84.82859498]), array([41.98218973]), array([3.20299329]), array([20.02974892]), array([71.80591784]), array([93.54301387]), array([38.23388948]), array([58.57920829]), array([57.81421249]), array([34.40794094]), array([70.39106418]), array([46.75541434]), array([63.51799187]), array([83.37973278]), array([31.85912102]), array([29.53373067]), array([47.17925022]), array([34.25761622]), array([75.9751378]), array([65.06971072]), array([7.76832215]), array([18.32828739]), array([6.34563194]), array([32.06368277]), array([21.44336971]), array([46.80314941]), array([70.76155973]), array([48.35505365]), array([37.05341989]), array([9.80291043]), array([0.89707324]), array([18.46318602]), array([79.61723572]), array([7.23764746]), array([28.69258514]), array([2.24401444]), array([9.31904297]), array([67.94381782]), array([47.74376587]), array([53.04473095]), array([66.65487487]), array([76.30648257]), array([68.34343355]), array([8.5759792]), array([44.41027831]), array([75.22176433]), array([7.27928215]), array([66.30351978]), array([68.75006474]), array([38.72423751]), array([96.39000341]), array([58.36477806]), array([84.08341174]), array([48.23848095]), array([42.0284629]), array([55.25870878]), array([71.74168092]), array([16.99468963]), array([40.65662802]), array([30.92132773]), array([60.05675004]), array([17.01110167]), array([51.80887234]), array([56.13002457]), array([57.50997006]), array([27.11734353]), array([33.18670873]), array([92.94162071]), array([23.50581066]), array([52.33108462]), array([94.74653022]), array([97.32617206]), array([7.86891905]), array([81.30987682]), array([14.33478136]), array([56.34226633]), array([69.85218452]), array([22.66673809]), array([28.81357575]), array([95.68563739]), array([75.18804404]), array([32.65904549]), array([38.38028719]), array([83.22210682]), array([9.64845839]), array([44.31874936]), array([8.90879319]), array([53.02177246]), array([10.74573403]), array([51.39686289]), array([10.40862235]), array([44.81201477]), array([17.70130559]), array([34.24957335]), array([59.58503888]), array([46.797904]), array([34.77401944]), array([22.15113928]), array([37.69523578]), array([82.8701189]), array([12.88581281]), array([4.86474373]), array([94.74918657]), array([62.48232007]), array([11.0950307]), array([75.17921581]), array([31.79999043]), array([4.35045261]), array([53.10222754]), array([61.35391205]), array([8.47225603]), array([74.93282312]), array([94.61339296]), array([7.68221931]), array([1.41385813]), array([52.54695053]), array([71.76163946]), array([8.98375751]), array([17.96185601]), array([7.08020164]), array([40.4956102]), array([89.43609886]), array([53.03129715]), array([90.63967219]), array([37.64707848]), array([53.80721679]), array([35.47680619]), array([33.51758388]), array([76.847354]), array([27.35198929]), array([73.41582138]), array([59.0946844]), array([25.43818604]), array([63.77386915]), array([45.42155943]), array([23.43321653]), array([77.1287376]), array([57.68872543]), array([7.82517207]), array([73.49070528]), array([90.3442407]), array([29.8544314]), array([2.3085694]), array([64.98463188]), array([62.01839346]), array([18.53830027]), array([98.09898781]), array([50.6770435]), array([62.20164927]), array([90.28579971]), array([10.82055561]), array([87.82456006]), array([55.91789246]), array([79.82181551]), array([90.33726018]), array([34.08196427]), array([64.09834724]), array([20.51868311]), array([12.89489172]), array([21.39796474]), array([3.19846142]), array([87.62520446]), array([6.5160068]), array([67.79653947]), array([77.07097695]), array([64.38984163]), array([70.22930568]), array([65.4601153]), array([23.33628226]), array([90.03125442]), array([40.33455004]), array([84.55375352]), array([62.82004429]), array([9.77026316]), array([94.63815355]), array([51.15610842]), array([12.64024719]), array([55.61093106]), array([32.57447318]), array([91.9964642]), array([61.16396236]), array([40.38265137]), array([94.08673156]), array([6.96942628]), array([50.10901118]), array([99.87970131]), array([15.54718824]), array([79.39126072]), array([94.92466427]), array([10.93740082]), array([71.61002058]), array([38.70253495]), array([25.07246763]), array([40.97657408]), array([74.80235479]), array([7.59490017]), array([2.32062537]), array([20.15888042]), array([7.7303074]), array([92.08911393]), array([48.51206322]), array([84.67196102]), array([39.51611657]), array([94.83373872]), array([64.05665588]), array([97.18346996]), array([39.63727788]), array([20.38091889]), array([0.741572]), array([17.95989701]), array([8.90882487]), array([63.92849089]), array([78.12879716]), array([68.53577973]), array([24.93931578]), array([80.78128349]), array([61.55927209]), array([73.4292854]), array([30.61959432]), array([67.71763635]), array([94.52941892]), array([3.35704093]), array([72.34789059]), array([68.69158928]), array([32.65617369]), array([60.46508262]), array([96.79427879]), array([87.40105221]), array([99.75022287]), array([29.9726214]), array([85.10613827]), array([11.19485207]), array([18.67730142]), array([38.17204592]), array([45.49561353]), array([71.1416493]), array([63.28013889]), array([92.32745664]), array([63.16519222]), array([56.50526555]), array([73.62525727]), array([32.85294006]), array([20.19861171]), array([17.90822679]), array([13.36443589]), array([47.44990151]), array([48.37073181]), array([94.60723299]), array([39.51573181]), array([54.13072074]), array([76.62850122]), array([86.71749464]), array([75.62157955]), array([46.09998743]), array([90.69876965]), array([32.50046981]), array([91.67752801]), array([52.30111744]), array([87.67158641]), array([90.81459557]), array([8.8262169]), array([94.30027208]), array([3.99543477]), array([7.16727912]), array([58.93305223]), array([52.65271016]), array([28.537328]), array([11.46325837]), array([11.04797012]), array([87.92141956]), array([21.08164314]), array([33.76800497]), array([57.91793639]), array([11.83028042]), array([75.01535879]), array([69.09280247]), array([52.33909505]), array([27.53881124]), array([26.65996728]), array([79.36510199]), array([6.0308919]), array([0.84733232]), array([2.35163023]), array([64.50260699]), array([88.3750041]), array([60.6391856]), array([39.24777584]), array([42.92962169]), array([78.55820045]), array([51.54013017]), array([66.84324679]), array([3.12756697]), array([26.08985861]), array([16.24038727]), array([11.13356411]), array([16.60875521]), array([1.27514033]), array([74.32417315]), array([32.74315108]), array([82.1237899]), array([7.65624123]), array([23.03559921]), array([61.5245609]), array([81.30463452]), array([85.01352753]), array([53.06135192]), array([43.37853244]), array([84.20991469]), array([92.93563049]), array([67.27262386]), array([41.39904539]), array([40.36346098]), array([94.27240593]), array([57.29726378]), array([24.70710985]), array([78.05344382]), array([33.33062146]), array([88.93017427]), array([40.24607881]), array([75.82568252]), array([55.09020142]), array([15.18679003]), array([41.45117012]), array([91.88654588]), array([37.91242003]), array([29.10111608]), array([4.27356632]), array([2.02271928]), array([37.85144533]), array([15.16878611]), array([23.39791557]), array([58.72855675]), array([94.92396254]), array([33.11458584]), array([67.82515388]), array([57.52111169]), array([7.75646676]), array([53.91649383]), array([12.93080043]), array([81.16500256]), array([9.94559625]), array([85.24148529]), array([1.42388373]), array([48.42020261]), array([57.39892542]), array([55.02608972]), array([58.80035058]), array([10.1267049]), array([99.03242606]), array([2.21879571]), array([11.51527573]), array([41.72605795]), array([18.61062503]), array([38.90901418]), array([82.12443914]), array([6.84144886]), array([25.04642917]), array([38.73192958]), array([96.49631218]), array([72.11904139]), array([69.80467525]), array([89.93936543]), array([94.26070187]), array([11.8871377]), array([80.71843448]), array([68.35578287]), array([62.10693031]), array([28.74996128]), array([22.36119887]), array([51.09810558]), array([65.44825704]), array([61.32694266]), array([89.48948304]), array([59.33464983]), array([38.10194844]), array([78.19077551]), array([53.5529268]), array([83.79658162]), array([56.18589147]), array([35.77918817]), array([63.88512103]), array([41.51573909]), array([70.0055798]), array([13.1827965]), array([69.73022834]), array([34.13099192]), array([58.95232777]), array([92.09334386]), array([86.22766107]), array([55.09107027]), array([85.71076786]), array([62.00948963]), array([5.7945738]), array([96.4909879]), array([95.03432252]), array([25.54890426]), array([66.05221855]), array([90.05897455]), array([28.21247173]), array([17.79304536]), array([16.56970106]), array([78.66502596]), array([15.23515658]), array([9.50673667]), array([56.55416201]), array([44.70724936]), array([86.18015625]), array([16.80818829]), array([38.55439343]), array([39.77000184]), array([61.80244494]), array([99.33481706]), array([19.66317354]), array([60.73001469]), array([20.73072247]), array([47.54756579]), array([75.12491766]), array([51.07826696]), array([20.1875815]), array([17.93928548]), array([68.57201426]), array([27.42339728]), array([65.64300061]), array([65.88240764]), array([48.42269933]), array([12.65552168]), array([93.29569158]), array([61.04364081]), array([93.37657754]), array([52.19970566]), array([21.75274598]), array([76.32713159]), array([42.87306055]), array([43.20050776]), array([22.04123462]), array([34.58637808]), array([38.24242889]), array([96.61424234]), array([13.04479561]), array([28.5943576]), array([63.29981666]), array([60.73733926]), array([54.51321583]), array([83.84339628]), array([97.56766347]), array([63.22667972]), array([27.88860228]), array([50.21189201]), array([35.10708777]), array([81.38702275]), array([8.97747345]), array([76.28929707]), array([70.88480942]), array([31.91512305]), array([54.96448964]), array([43.70070935]), array([14.3295197]), array([94.28708502]), array([98.20926738]), array([51.19444926]), array([76.9348939]), array([5.58097793]), array([50.64201661]), array([53.01199409]), array([9.88278407]), array([84.34118922]), array([51.38650906]), array([89.85632225]), array([99.82125412]), array([7.5981703]), array([39.95059966]), array([89.56861693]), array([32.1035176]), array([33.43144991]), array([83.84117455]), array([16.70378514]), array([97.39153261]), array([6.21261316]), array([41.62791691]), array([99.61209046]), array([99.20627907]), array([86.97058986]), array([27.14409531]), array([30.9536761]), array([64.34844612]), array([4.73990718]), array([87.08062194]), array([24.93718177]), array([1.32891429]), array([88.66735592]), array([96.05992356]), array([20.15853862]), array([19.49913159]), array([37.80799597]), array([31.08145489]), array([18.56279323]), array([62.19409759]), array([50.79644516]), array([52.95472361]), array([50.72540914]), array([52.72129878]), array([30.6068417]), array([56.51242873]), array([83.33259925]), array([6.13296101]), array([3.09339352]), array([47.38972965]), array([53.53636729]), array([16.09487325]), array([36.07271009]), array([71.15384046]), array([11.49996168]), array([41.03376929]), array([59.80053667]), array([19.36672671]), array([29.35510337]), array([5.39013064]), array([52.00099059]), array([61.56386808]), array([70.42634917]), array([54.72511958]), array([26.98796575]), array([59.70528569]), array([78.25284399]), array([38.77653198]), array([94.88926574]), array([41.90721962]), array([68.08071657]), array([46.42558238]), array([98.92078003]), array([98.73526171]), array([14.36191691]), array([61.82387308]), array([3.90452905]), array([56.0821056]), array([69.91712824]), array([14.34409731]), array([16.02681877]), array([98.41222549]), array([3.54630189]), array([8.02300302]), array([11.99154242]), array([59.82211565]), array([52.7508348]), array([18.67875627]), array([24.37288924]), array([49.66080046]), array([1.61348982]), array([57.2336277]), array([46.85902223]), array([57.37153324]), array([56.94994035]), array([68.64824711]), array([52.92047941]), array([22.60627085]), array([20.15774958]), array([99.54682202]), array([48.66182151]), array([93.52683623]), array([72.20631602]), array([73.67888197]), array([33.55351023]), array([41.43434637]), array([57.37823634]), array([56.33817]), array([47.55808158]), array([80.52055788]), array([98.40568683]), array([50.42354181]), array([27.33771466]), array([8.56272472]), array([85.83767561]), array([40.48599707]), array([9.2845314]), array([1.24396714]), array([10.74956442]), array([60.10219236]), array([89.80181209]), array([69.75839746]), array([8.16589248]), array([75.74145098]), array([89.93376606]), array([91.5763805]), array([84.88170244]), array([30.16971852]), array([24.52230387]), array([22.73135684]), array([30.87465938]), array([93.76275575]), array([9.35462335]), array([98.0698795]), array([92.58653344]), array([4.38604439]), array([57.94312377]), array([78.93959321]), array([69.79812022]), array([56.04169784]), array([28.10618113]), array([31.98555968]), array([48.85635861]), array([41.91883898]), array([73.62448004]), array([33.88927373]), array([18.43394145]), array([29.44344144]), array([50.45665857]), array([78.83103398]), array([70.99017401]), array([38.33924624]), array([42.25595397]), array([37.05000725]), array([62.23377816]), array([92.92131989]), array([73.05404147]), array([99.9047421]), array([80.43049929]), array([12.02250285]), array([83.44884442]), array([67.31534163]), array([18.4690848]), array([52.57941629]), array([2.55946778]), array([58.81265542]), array([20.23101816]), array([21.48039131]), array([25.99121647]), array([6.88687524]), array([92.32564667]), array([68.14382965]), array([53.42463178]), array([46.60468815]), array([96.00846664]), array([35.41815987]), array([80.63438425]), array([85.37667153]), array([52.34827316]), array([11.0126622]), array([21.90235352]), array([96.03437977]), array([75.99336489]), array([47.73855608]), array([30.46928776]), array([36.13447486]), array([93.56080368]), array([63.56631953]), array([73.28629205]), array([46.9297816]), array([1.09044427]), array([38.53498105]), array([40.65880488]), array([29.13848181]), array([17.17731297]), array([41.59951967]), array([84.9104045]), array([18.90556691]), array([47.13290784]), array([64.80918106]), array([92.94758288]), array([75.35256744]), array([17.39326287]), array([94.96718018]), array([0.25667829]), array([69.56593164]), array([63.90730056]), array([55.82479122]), array([67.29943544]), array([5.90403485]), array([34.37903316]), array([12.70660281]), array([44.02663916]), array([46.27920866]), array([88.64317816]), array([99.11213737]), array([5.58017953]), array([85.87404746]), array([43.38593895]), array([89.859286]), array([47.16265188]), array([5.07781669]), array([34.2511898]), array([93.80021482]), array([35.5202608]), array([32.37544916]), array([8.95693475]), array([65.71383924]), array([75.52586738]), array([24.391007]), array([76.07141875]), array([97.12985662]), array([10.03796351]), array([29.62997364]), array([48.240092]), array([85.1046299]), array([48.50475393]), array([17.89008053]), array([71.88587736]), array([37.63594784]), array([73.73383167]), array([37.39172909]), array([8.23827205]), array([12.6691693]), array([49.74946795]), array([32.62573432]), array([19.15282801]), array([94.56263658]), array([75.32861397]), array([5.23412245]), array([24.49031597]), array([24.11933702]), array([8.10045334]), array([95.5310694]), array([93.07782636]), array([26.60419028]), array([20.97406901]), array([91.80857726]), array([61.58666343]), array([34.6744923]), array([24.9870676]), array([35.44579888]), array([42.9074624]), array([17.93321347]), array([40.42772498]), array([28.13986865]), array([83.53787383]), array([71.49340559]), array([95.47424811]), array([90.61924357]), array([71.21732152]), array([73.41440259]), array([59.54704085]), array([71.62188151]), array([65.49757718]), array([86.62071239]), array([84.08759557]), array([42.86995337]), array([39.54517587]), array([65.08989459]), array([61.25535187]), array([50.46307899]), array([95.47144117]), array([92.01737056]), array([36.79718285]), array([95.78528317]), array([99.4458848]), array([82.52207814]), array([98.7595683]), array([52.62013093]), array([25.31787543]), array([36.13490209]), array([65.3395918]), array([39.46071903]), array([69.73352612]), array([88.15716062]), array([31.24499935]), array([83.97354621]), array([56.8246239]), array([9.97847334]), array([42.95059055]), array([4.70336606]), array([26.11015559]), array([51.96503343]), array([2.05655801]), array([21.99973048]), array([4.71998633]), array([9.73403159]), array([27.19065164]), array([15.97610599]), array([33.3125559]), array([44.5241585]), array([64.5593266]), array([8.30775182]), array([27.39464813]), array([40.86135058]), array([64.78923711]), array([20.31077466]), array([69.3412198]), array([76.58798513]), array([81.34961138]), array([13.68351223]), array([31.32512308]), array([3.49620036]), array([26.49133895]), array([46.59621266]), array([92.82127793]), array([7.602831]), array([58.77789764]), array([83.49564932]), array([6.44929059]), array([45.73791952]), array([32.51329016]), array([69.96849137]), array([93.28643896]), array([34.59054135]), array([37.1997439]), array([24.27339633]), array([8.15561336]), array([23.89618722]), array([36.14725758]), array([42.08879416]), array([57.42027949]), array([84.55243596]), array([71.00946659]), array([31.41270453]), array([22.15299757]), array([88.12802632]), array([10.47953508]), array([21.291817]), array([72.53742597]), array([86.15833844]), array([84.28294434]), array([23.0985456]), array([45.44740754]), array([20.53429873]), array([73.50733746]), array([23.38079881]), array([62.5642041]), array([30.6129028]), array([45.67099705]), array([90.22804777]), array([93.53585915]), array([6.70377904]), array([1.718458]), array([49.47071825]), array([56.38355247]), array([47.66503304]), array([48.78626722]), array([73.35494318]), array([91.2453555]), array([57.17547033]), array([52.43298787]), array([43.36354041]), array([67.54039212]), array([32.54806854]), array([72.91218493]), array([93.00579401]), array([48.0953322]), array([24.16213084]), array([98.14750964]), array([86.07739697]), array([84.35209628]), array([66.99182036]), array([36.25455893]), array([51.37388673]), array([0.74258253]), array([74.41153842]), array([29.94018492]), array([58.64399418]), array([67.09103593]), array([90.96177246]), array([64.18708493]), array([23.38617163]), array([89.41196063]), array([96.60547449]), array([4.37348852]), array([29.83262898]), array([67.39578064]), array([91.43562451]), array([13.15966427]), array([98.84050959]), array([70.56748963]), array([94.98006944]), array([15.62491927]), array([9.00351506]), array([78.18487736]), array([38.35084974]), array([31.51839112]), array([51.7510629]), array([19.66369817]), array([68.1446875]), array([4.62268307]), array([32.8309246]), array([7.57542637]), array([75.25959294]), array([42.64167752]), array([93.14769092]), array([27.51096644]), array([40.78926087]), array([70.16042928]), array([87.56922681]), array([92.4960729]), array([14.80306601]), array([78.57485289]), array([37.19562226]), array([99.54429057]), array([21.18362257]), array([50.34829423]), array([3.62328335]), array([1.5877485]), array([69.93332397]), array([80.67915351]), array([46.57404499]), array([92.84032404]), array([84.34997815]), array([25.41591167]), array([81.71846749]), array([5.26258544]), array([52.28901174]), array([81.37420905]), array([69.12160684]), array([28.74364074]), array([52.27401746]), array([83.88901453]), array([83.75230667]), array([33.06019645]), array([27.64402964]), array([95.66190054]), array([17.84175547]), array([80.00025986]), array([9.43301767]), array([79.36552335]), array([81.87469051]), array([48.12692761]), array([13.16534266]), array([72.61485983]), array([71.87556461]), array([24.77441841]), array([58.86248853]), array([53.7500402]), array([41.66377001]), array([52.44599239]), array([59.29360197]), array([16.61390039]), array([93.09011628]), array([93.88932135]), array([19.45367476]), array([32.37416009]), array([44.16841744]), array([55.37024512]), array([64.6544982]), array([98.02133834]), array([20.32102284]), array([20.72204351]), array([98.97072008]), array([23.72206429]), array([29.05894753]), array([74.33873931]), array([6.62867319]), array([89.50107907]), array([20.35387387]), array([98.01522392]), array([14.50816869]), array([50.9488856]), array([17.0563782]), array([24.48457664]), array([93.88436359]), array([79.25780011]), array([3.68410926]), array([23.91493792]), array([19.80443103]), array([65.18096749]), array([46.77387467]), array([89.43020218]), array([47.85558121]), array([91.88530875]), array([92.19727973]), array([68.32482743]), array([66.0000534]), array([25.20796715]), array([66.25438741]), array([0.0517374]), array([25.26320639]), array([15.51936275]), array([33.04647017]), array([12.05446138]), array([18.80626211]), array([73.8147528]), array([54.10436501]), array([81.13585062]), array([86.79574416]), array([35.41903723]), array([74.84124645]), array([63.74716704]), array([59.65132559]), array([23.78831165]), array([54.38735972]), array([90.28702652]), array([53.92979346]), array([71.59786084]), array([87.18294958]), array([41.72374565]), array([30.47133976]), array([81.10314788]), array([59.32946552]), array([75.4495329]), array([52.58311827]), array([95.65616622]), array([22.03029911]), array([6.09369764]), array([69.96279025]), array([10.44416465]), array([40.81603888]), array([55.46536401]), array([11.2507296]), array([59.40470367]), array([10.57732844]), array([15.91450753]), array([94.14823465]), array([76.35598903]), array([75.02160932]), array([34.05409083]), array([13.79832215]), array([48.89901567]), array([87.03871274]), array([5.41034878]), array([44.14002571]), array([73.19859791]), array([83.35046825]), array([28.88071948]), array([72.53258258]), array([82.13355638]), array([80.28885956]), array([71.03152081]), array([73.65556079]), array([18.47055168]), array([53.41423028]), array([24.96783569]), array([24.01770412]), array([65.40023334]), array([69.29527156]), array([41.92761287]), array([63.42703402]), array([77.07815878]), array([92.34748479]), array([0.69353994]), array([38.71696784]), array([62.06217473]), array([96.991249]), array([47.20228675]), array([65.78537022]), array([91.40450805]), array([36.97305333]), array([25.60000248]), array([70.99316568]), array([48.96234995]), array([63.17427111]), array([52.86318027]), array([70.46497962]), array([24.40847629]), array([44.00371741]), array([53.07129722]), array([57.80330066]), array([95.98270945]), array([39.299028]), array([60.45855407]), array([53.36695537]), array([61.06069246]), array([78.11136655]), array([3.95698265]), array([66.70333579]), array([64.46169599]), array([32.98499076]), array([40.40425536]), array([98.79015263]), array([73.32232414]), array([55.60971558]), array([13.92698579]), array([59.40793157]), array([87.18298294]), array([6.07234315]), array([31.30074108]), array([58.26755362]), array([82.31287875]), array([45.56569017]), array([18.65304529]), array([40.16444644]), array([8.22360086]), array([84.980558]), array([0.17280985]), array([86.20639366]), array([21.73851331]), array([74.19734506]), array([35.35125397]), array([95.35996955]), array([92.08546129]), array([56.92517264]), array([63.79881048]), array([76.3990075]), array([1.92522869]), array([45.01576353]), array([31.63112216]), array([57.99161]), array([2.03335842]), array([62.13077415]), array([89.47003563]), array([56.34085324]), array([95.74545636]), array([13.92796861]), array([71.10604142]), array([46.66002391]), array([97.65338582]), array([98.77878551]), array([70.83559746]), array([78.59644876]), array([40.80346574]), array([34.51826329]), array([45.13193516]), array([73.08508751]), array([86.90106845]), array([11.67072621]), array([47.18228098]), array([9.37446336]), array([45.01943077]), array([40.97361574]), array([70.57596024]), array([79.60672752]), array([46.77957901]), array([12.7340767]), array([67.49102254]), array([0.17963585]), array([95.18760793]), array([41.65965146]), array([56.58030884]), array([16.22650316]), array([12.76092047]), array([80.80276146]), array([65.31088259]), array([44.11263714]), array([82.6920547]), array([57.5206805]), array([62.28086015]), array([70.06196306]), array([85.84332966]), array([26.37271921]), array([13.91563999]), array([34.31821153]), array([18.51091299]), array([55.45035696]), array([4.89562585]), array([9.46683356]), array([90.63793235]), array([89.12048741]), array([98.79847058]), array([30.31229451]), array([60.82986577]), array([44.36903996]), array([28.64336978]), array([69.33192972]), array([67.91481223]), array([68.4341549]), array([66.26316887]), array([97.4611255]), array([41.17620499]), array([69.78758816]), array([94.0291408]), array([92.031931]), array([86.78878504]), array([73.46227742]), array([17.1909131]), array([98.5799032]), array([97.39245012]), array([48.48237445]), array([41.47895946]), array([63.31617907]), array([85.08923437]), array([83.42958469]), array([33.20958367]), array([23.44747704]), array([94.30318749]), array([13.55633783]), array([11.54554655]), array([53.19678473]), array([98.72657339]), array([66.37563431]), array([17.43890235]), array([68.93091537]), array([6.20308819]), array([51.44522575]), array([11.62732881]), array([86.1923931]), array([51.58625618]), array([84.92736829]), array([17.2523558]), array([68.28778592]), array([87.73092423]), array([52.80248798]), array([10.58328538]), array([31.21626976]), array([91.68444046]), array([8.80274828]), array([95.12910201]), array([76.59328171]), array([40.20868114]), array([23.48543271]), array([67.04636491]), array([14.17907232]), array([50.72016506]), array([86.07191715]), array([69.67869963]), array([26.82174808]), array([94.91700671]), array([63.91142084]), array([93.24701334]), array([30.2490888]), array([48.30971769]), array([92.31991036]), array([68.07721766]), array([67.35176078]), array([34.7985718]), array([19.2379397]), array([49.16077725]), array([99.84342086]), array([52.48297017]), array([92.08930914]), array([87.73854079]), array([75.14521548]), array([4.51601807]), array([86.46386369]), array([13.80151301]), array([41.31017459]), array([60.35750726]), array([4.52336369]), array([24.50361597]), array([7.62086762]), array([83.61005176]), array([50.95568486]), array([36.96658784]), array([12.29526036]), array([52.17237632]), array([1.50772632]), array([25.0905753]), array([78.45536495]), array([28.89892012]), array([10.01897559]), array([25.07778762]), array([63.72720951]), array([9.04946178]), array([96.41979517]), array([55.03454496]), array([94.26889353]), array([41.01026648]), array([45.49813145]), array([13.09215613]), array([57.52374819]), array([40.28918718]), array([97.48232072]), array([44.77874464]), array([26.63625655]), array([72.25451559]), array([28.53188822]), array([81.37760385]), array([65.92558816]), array([54.70991031]), array([30.71174769]), array([7.03998703]), array([62.49185737]), array([2.84723909]), array([60.76655036]), array([78.94380538]), array([41.45769396]), array([62.93116186]), array([12.027714]), array([48.0814813]), array([1.12288155]), array([93.58453609]), array([29.31168264]), array([76.00965414]), array([3.88643143]), array([35.4028717]), array([24.26385948]), array([60.80413018]), array([6.5900298]), array([15.43933895]), array([14.94078612]), array([97.22535935]), array([83.22562873]), array([54.18760572]), array([81.80893768]), array([65.35358055]), array([96.34723439]), array([36.4225734]), array([0.03412745]), array([97.55875073]), array([61.39555854]), array([42.09930105]), array([77.11418305]), array([7.08532573]), array([79.00184107]), array([40.33770356]), array([93.92422341]), array([47.35751459]), array([1.30762208]), array([20.02311564]), array([54.85186434]), array([79.75915962]), array([22.99167602]), array([5.61009369]), array([50.17543979]), array([6.00524394]), array([99.06429366]), array([60.53020537]), array([1.9318113]), array([35.72562894]), array([12.47199326]), array([31.7394869]), array([86.11820481]), array([91.7537533]), array([30.2521738]), array([13.87994894]), array([70.19640553]), array([59.79362934]), array([69.21808804]), array([16.01737641]), array([94.03969763]), array([72.15651744]), array([2.19821362]), array([55.44102274]), array([8.27687194]), array([68.10287358]), array([78.66829699]), array([66.74490132]), array([79.43497211]), array([72.113199]), array([78.1379088]), array([18.86301203]), array([35.27085579]), array([78.113881]), array([88.32627779]), array([69.12833426]), array([70.06923617]), array([24.6808267]), array([96.08765505]), array([31.80731645]), array([7.14781567]), array([53.14786915]), array([77.28174563]), array([50.82409512]), array([93.55386853]), array([55.21798269]), array([13.32006393]), array([32.60480121]), array([66.90196187]), array([26.53010606]), array([3.63926521]), array([60.34092739]), array([99.87821205]), array([40.62033808]), array([50.14398136]), array([97.5865121]), array([18.60559334]), array([47.13424001]), array([9.980882]), array([5.21158259]), array([74.78687929]), array([76.79479537]), array([14.27120965]), array([48.51275766]), array([26.53707985]), array([85.00734737]), array([46.34388013]), array([1.44919435]), array([93.34532354]), array([59.08220501]), array([18.93139944]), array([67.15157394]), array([79.61853739]), array([10.09266184]), array([60.46570922]), array([43.97230406]), array([82.82970699]), array([30.23821982]), array([49.88148639]), array([42.62767216]), array([45.50463944]), array([31.26118112]), array([5.45315843]), array([42.78989419]), array([99.30077855]), array([71.32909757]), array([22.35827649]), array([4.86805293]), array([65.98050129]), array([58.56249441]), array([4.76174748]), array([87.57868512]), array([46.21168211]), array([45.59219407]), array([53.35570877]), array([96.00746601]), array([92.6440294]), array([29.311884]), array([84.77792082]), array([27.27090373]), array([91.18827945]), array([24.85909077]), array([84.09674559]), array([58.95166986]), array([91.02335588]), array([81.2818199]), array([2.07209395]), array([89.95610694]), array([0.03720986]), array([16.15090917]), array([71.60606686]), array([87.82437368]), array([27.24429163]), array([42.02970443]), array([36.2952399]), array([62.75275539]), array([46.00617221]), array([50.65293165]), array([10.06267197]), array([94.76369764]), array([18.49488039]), array([97.5125607]), array([40.09463986]), array([31.71525036]), array([43.07809508]), array([51.26778132]), array([65.85652303]), array([46.00762698]), array([50.17354039]), array([88.41840096]), array([23.60373567]), array([63.70603887]), array([14.53367918]), array([39.41759356]), array([4.06361458]), array([88.15727645]), array([50.15625036]), array([33.585209]), array([23.63635126]), array([4.17059894]), array([94.76048522]), array([97.38726248]), array([44.51277939]), array([46.56557953]), array([49.7215408]), array([93.56994931]), array([15.07093547]), array([62.02742373]), array([31.65722847]), array([19.9184076]), array([5.03762243]), array([22.04274925]), array([97.14855341]), array([51.57500856]), array([13.48443006]), array([96.1210567]), array([30.88169753]), array([63.03754613]), array([80.67098327]), array([78.88242337]), array([3.51498093]), array([30.65050813]), array([82.38623868]), array([72.99183755]), array([26.70613495]), array([71.52771994]), array([89.25317629]), array([89.03559253]), array([2.36751029]), array([44.04833682]), array([95.41636111]), array([46.58761617]), array([39.17636473]), array([68.57362063]), array([65.31319678]), array([27.94895189]), array([22.47564582]), array([93.03855447]), array([95.60317023]), array([84.06773144]), array([38.14485446]), array([76.46577358]), array([8.30598082]), array([59.3156557]), array([94.07097543]), array([26.37113318]), array([87.91543533]), array([23.4252429]), array([90.07826906]), array([97.80550166]), array([73.79719935]), array([43.64185208]), array([13.51915935]), array([28.70661459]), array([69.22812583]), array([98.00774194]), array([32.32025996]), array([53.7534157]), array([48.11697056]), array([9.47180875]), array([33.17041573]), array([80.24243098]), array([73.04139187]), array([97.30047669]), array([18.26892752]), array([22.20289895]), array([87.51302685]), array([8.53609243]), array([7.142391]), array([51.50259109]), array([32.29816276]), array([10.48689987]), array([18.38424741]), array([42.66350262]), array([88.40482644]), array([51.48038486]), array([40.73963076]), array([11.90436772]), array([66.78664112]), array([59.76907967]), array([38.42388735]), array([56.02871699]), array([92.31023784]), array([30.5201627]), array([45.19298272]), array([2.16878685]), array([45.32069991]), array([59.21712457]), array([7.64920644]), array([9.57715572]), array([61.47451573]), array([3.26039048]), array([86.20233048]), array([97.30868151]), array([89.85119097]), array([43.12991108]), array([99.10718919]), array([70.9908352]), array([76.23630995]), array([81.5354106]), array([53.10551597]), array([58.0606996]), array([79.97669865]), array([15.98620306]), array([37.09025035]), array([2.46860803]), array([41.88930188]), array([78.50518866]), array([80.11721349]), array([86.74417811]), array([80.24593876]), array([54.59770124]), array([94.60861545]), array([6.40438993]), array([95.54879482]), array([3.34081182]), array([76.69312946]), array([30.82810143]), array([70.65969217]), array([23.28832086]), array([65.36352946]), array([55.73346604]), array([76.70974423]), array([83.2832152]), array([15.99588464]), array([66.83737587]), array([4.82979941]), array([89.28271768]), array([83.14626496]), array([6.90516358]), array([8.16792716]), array([10.37433667]), array([44.76371214]), array([19.92436306]), array([72.30197036]), array([13.45588155]), array([87.97314775]), array([0.15349943]), array([39.29318243]), array([17.9775861]), array([20.9083293]), array([16.89284077]), array([75.59758569]), array([55.0772766]), array([26.85991898]), array([69.33842163]), array([43.87198698]), array([61.64797622]), array([87.4963093]), array([21.67106608]), array([49.4666871]), array([88.3279554]), array([85.16709385]), array([0.24051346]), array([5.5512751]), array([17.44301933]), array([77.12869231]), array([8.69639197]), array([97.67559088]), array([70.38884313]), array([46.68807696]), array([95.25578389]), array([65.6995966]), array([10.88392844]), array([1.00697233]), array([20.11515842]), array([14.50723162]), array([39.54852641]), array([61.85902457]), array([33.35845781]), array([65.60888802]), array([34.02713682]), array([17.8659389]), array([68.94658432]), array([12.59640833]), array([92.92628186]), array([69.41204144]), array([24.29498923]), array([23.2818062]), array([99.15084256]), array([16.48076048]), array([66.19128667]), array([72.24978146]), array([0.47538111]), array([97.72807752]), array([3.72740617]), array([32.32547535]), array([3.68633893]), array([32.85454022]), array([62.92690661]), array([10.39447445]), array([58.7448779]), array([81.91869243]), array([38.14077465]), array([53.59784545]), array([78.19474205]), array([20.44310705]), array([15.82183968]), array([69.91943769]), array([74.37424497]), array([66.2549545]), array([59.42227716]), array([87.72869398]), array([60.04526093]), array([89.12821548]), array([87.61671334]), array([93.30109087]), array([53.25090391]), array([88.01734423]), array([8.92421425]), array([89.64283331]), array([28.12910966]), array([47.04686506]), array([49.31867416]), array([39.29512393]), array([58.91433792]), array([74.4985239]), array([28.60980836]), array([79.00065277]), array([30.73822501]), array([80.18676968]), array([31.36500326]), array([55.83640648]), array([98.35053336]), array([18.8297603]), array([93.04748492]), array([73.60818671]), array([79.47715569]), array([49.90197795]), array([20.7625253]), array([23.13630999]), array([73.15074441]), array([34.26041218]), array([76.77054178]), array([62.20313089]), array([51.20467052]), array([63.75327384]), array([18.05421609]), array([41.00908083]), array([53.05381758]), array([21.3455091]), array([94.69743557]), array([44.82581108]), array([1.18634377]), array([91.30302041]), array([64.29049413]), array([13.00695777]), array([67.86688767]), array([35.96467267]), array([16.46375999]), array([66.69939099]), array([76.64652003]), array([6.6484218]), array([90.53787429]), array([66.75681843]), array([71.69337005]), array([64.84091973]), array([80.61203374]), array([30.98320538]), array([24.74854626]), array([19.94821195]), array([2.420088]), array([28.45655451]), array([45.5212949]), array([59.65637456]), array([84.08924412]), array([84.36261204]), array([43.06244331]), array([72.69226985]), array([9.05211385]), array([96.74282459]), array([96.48724922]), array([21.96071069]), array([95.60600546]), array([42.44720772]), array([89.29504602]), array([93.29647545]), array([81.76543762]), array([69.44929629]), array([27.41027355]), array([16.93920084]), array([95.21066818]), array([45.82918428]), array([45.05455324]), array([16.61487131]), array([74.85832016]), array([60.03134377]), array([74.92300665]), array([15.48395229]), array([65.32704451]), array([84.08180031]), array([57.86842064]), array([82.84220178]), array([48.67252822]), array([96.78492794]), array([24.11641105]), array([79.72462664]), array([22.67837316]), array([15.14582063]), array([47.50934923]), array([26.99615056]), array([30.38215278]), array([29.66030312]), array([6.35808063]), array([96.43514938]), array([10.74100475]), array([45.47154033]), array([0.49764143]), array([79.09746013]), array([70.62951841]), array([9.64650568]), array([44.73285913]), array([3.35205666]), array([86.98370273]), array([54.17924938]), array([54.16246095]), array([67.22606311]), array([46.18973865]), array([79.42352317]), array([0.31868098]), array([3.70041045]), array([95.68574695]), array([26.79526505]), array([14.76994747]), array([10.77735797]), array([51.58503182]), array([71.84808138]), array([87.02674608]), array([81.56274675]), array([61.31439658]), array([33.17025673]), array([61.81646708]), array([21.58718355]), array([56.09955975]), array([3.36311358]), array([33.33643084]), array([32.71899822]), array([66.28901318]), array([54.85883056]), array([73.03457579]), array([77.42160631]), array([65.25118378]), array([19.59634531]), array([85.5291682]), array([20.62671541]), array([67.49322226]), array([51.27171756]), array([15.76279425]), array([15.00560373]), array([43.47054333]), array([13.38275868]), array([21.51989134]), array([75.04562038]), array([48.34163866]), array([26.93664352]), array([60.27699815]), array([32.23767747]), array([38.95427322]), array([95.6641103]), array([87.09177348]), array([23.42898028]), array([4.42385281]), array([10.38806448]), array([49.44725364]), array([37.78022461]), array([60.18142504]), array([55.56968213]), array([11.11297288]), array([39.13452498]), array([41.64662238]), array([30.8055603]), array([12.71387515]), array([83.62695619]), array([15.78017028]), array([51.58818212]), array([75.8917506]), array([39.87002622]), array([79.93726029]), array([44.28970143]), array([48.97957684]), array([73.71113411]), array([3.90250183]), array([2.3036147]), array([52.20925906]), array([25.38296678]), array([91.34773255]), array([9.62845149]), array([33.21633522]), array([16.14273177]), array([39.76314404]), array([4.21187767]), array([81.49636384]), array([5.99198091]), array([13.1437786]), array([10.23720846]), array([61.19464958]), array([21.67473619]), array([60.25281935]), array([4.51154869]), array([63.27859808]), array([23.97909512]), array([43.0467889]), array([70.54776597]), array([22.98342842]), array([1.4593844]), array([93.20880868]), array([17.57222963]), array([0.99976392]), array([7.01486973]), array([43.23113729]), array([88.12116992]), array([36.28796128]), array([29.48261596]), array([37.95325057]), array([72.32580891]), array([15.33021066]), array([60.22882449]), array([50.58799688]), array([61.56612023]), array([18.67258507]), array([92.96043839]), array([81.24477476]), array([24.4366517]), array([17.93949085]), array([38.50731892]), array([31.03729059]), array([33.13251797]), array([17.82238154]), array([55.21073273]), array([20.60864014]), array([79.56316248]), array([69.0241105]), array([15.74216942]), array([70.61261191]), array([11.96601613]), array([20.27116345]), array([86.93878504]), array([22.0256375]), array([15.70861804]), array([69.74624984]), array([83.2426565]), array([72.11301618]), array([94.71119121]), array([48.82726984]), array([33.95352085]), array([9.94456953]), array([63.14974132]), array([5.32362303]), array([42.08748703]), array([99.72126228]), array([53.55445699]), array([6.54237972]), array([95.01519658]), array([89.25346186]), array([82.56468658]), array([18.96703182]), array([54.97805874]), array([66.78121032]), array([85.4010112]), array([84.34316901]), array([6.34994879]), array([67.75900045]), array([40.85864947]), array([98.85279705]), array([80.82279572]), array([90.74734624]), array([73.78965377]), array([18.73915755]), array([74.92283793]), array([27.19308687]), array([44.20212052]), array([28.35226979]), array([49.07090601]), array([40.52835917]), array([17.97422549]), array([6.19998989]), array([27.57219518]), array([64.69185609]), array([50.5930589]), array([51.9805012]), array([92.38507527]), array([43.98296146]), array([67.10813737]), array([59.10806483]), array([76.22452568]), array([32.35214157]), array([86.66488678]), array([29.40430251]), array([6.66986101]), array([20.2947897]), array([93.05941144]), array([28.45668236]), array([52.06102812]), array([58.59238224]), array([47.24388343]), array([86.06492539]), array([76.2083359]), array([28.34985154]), array([44.76482921]), array([7.46122771]), array([95.75862601]), array([16.13897336]), array([66.23749946]), array([87.45902155]), array([89.41778227]), array([18.73033074]), array([34.50413133]), array([30.80754266]), array([76.86797067]), array([94.0265528]), array([38.24813424]), array([38.80388799]), array([92.33313334]), array([55.3900042]), array([49.73447645]), array([42.2254233]), array([70.00394439]), array([56.95365871]), array([17.01315804]), array([15.09122907]), array([99.02537521]), array([79.65229864]), array([63.14750935]), array([59.13098268]), array([86.7812903]), array([5.02798909]), array([53.35900898]), array([89.35857603]), array([26.64036186]), array([7.82580958]), array([18.75641802]), array([1.95426105]), array([85.67946034]), array([44.84438191]), array([1.08449896]), array([54.36403303]), array([71.94698868]), array([67.86696381]), array([58.13684957]), array([51.31322841]), array([4.13281989]), array([86.35885482]), array([32.1679623]), array([8.13817369]), array([3.13062117]), array([6.53581658]), array([94.65084894]), array([75.9448318]), array([33.34522355]), array([7.28372283]), array([30.56611659]), array([25.0376844]), array([52.12184634]), array([13.94085887]), array([92.80066905]), array([25.94242595]), array([77.93090883]), array([87.30386888]), array([89.51399387]), array([25.68811354]), array([64.28010831]), array([56.34100356]), array([28.15484463]), array([23.97859155]), array([62.00657268]), array([19.44211038]), array([73.99599934]), array([28.46234635]), array([42.2365803]), array([94.18904772]), array([49.83445334]), array([15.60597392]), array([94.37597547]), array([6.51429595]), array([42.40474709]), array([67.40333599]), array([76.29305254]), array([39.40448438]), array([35.58013527]), array([47.40350926]), array([94.22530283]), array([73.25492464]), array([39.72178654]), array([54.1147235]), array([26.63412904]), array([20.23233932]), array([59.75626294]), array([70.99344654]), array([42.72054088]), array([31.74333473]), array([1.07366754]), array([56.91084525]), array([59.42741644]), array([8.41510554]), array([98.74148997]), array([63.04168123]), array([39.49113249]), array([72.65094557]), array([11.24706195]), array([10.4359334]), array([92.14591313]), array([68.51190884]), array([99.67370208]), array([19.43598626]), array([48.12237375]), array([74.61215702]), array([10.79315521]), array([78.88093775]), array([82.29446597]), array([1.25710384]), array([65.72524741]), array([29.21070291]), array([65.01846979]), array([34.89871896]), array([6.07637072]), array([17.01568562]), array([90.97021734]), array([9.44765977]), array([10.85499709]), array([97.21086385]), array([43.29208947]), array([67.78443961]), array([73.73588801]), array([74.31481849]), array([7.07552691]), array([16.14207319]), array([74.79375502]), array([48.46808327]), array([17.06265846]), array([44.83947089]), array([55.88536901]), array([77.14183588]), array([60.55711316]), array([78.93489425]), array([78.42825926]), array([69.44911622]), array([80.32391588]), array([78.85521778]), array([50.26799457]), array([64.22336388]), array([81.2175132]), array([97.46681419]), array([77.9588915]), array([68.98415343]), array([36.36087764]), array([84.50479489]), array([10.13938649]), array([73.08701776]), array([60.07130467]), array([70.07069692]), array([36.4190483]), array([20.73295939]), array([45.0953503]), array([12.34698047]), array([73.60855581]), array([29.88466729]), array([57.17725411]), array([79.97953423]), array([76.49397924]), array([37.33046955]), array([19.80923401]), array([49.46219347]), array([36.85228001]), array([91.41354096]), array([30.77622791]), array([44.38782299]), array([19.63672091]), array([98.17716881]), array([22.59635011]), array([40.95619885]), array([57.06425451]), array([79.80475947]), array([32.27337946]), array([81.86553857]), array([1.87678459]), array([50.27040146]), array([82.94578047]), array([23.49103023]), array([46.1072784]), array([39.59322338]), array([59.02943822]), array([4.48693779]), array([96.68503841]), array([75.54908238]), array([92.4145693]), array([86.60387388]), array([31.43343143]), array([86.92057324]), array([32.79266585]), array([49.08936586]), array([75.2554194]), array([64.59488181]), array([88.9267547]), array([32.75963772]), array([21.80151862]), array([63.43379586]), array([76.82433487]), array([5.09328548]), array([94.83953431]), array([28.2409706]), array([55.10401606]), array([39.02759365]), array([80.60015444]), array([45.42576912]), array([8.203096]), array([52.47141892]), array([15.60546632]), array([85.58325931]), array([19.18058998]), array([37.81482577]), array([63.27621157]), array([94.09628066]), array([64.4503566]), array([69.05687989]), array([37.21816691]), array([34.47456828]), array([55.31404667]), array([50.63106793]), array([40.79548043]), array([51.39970324]), array([57.38932211]), array([64.26037065]), array([61.01194536]), array([19.37921778]), array([31.74438372]), array([28.00320089]), array([42.31753838]), array([44.09279107]), array([46.25542204]), array([0.13943913]), array([34.58570032]), array([92.36815678]), array([84.094282]), array([46.90559295]), array([59.59540825]), array([87.68892283]), array([14.04006492]), array([29.95330878]), array([98.24784862]), array([29.43293894]), array([37.68114379]), array([75.47868299]), array([62.81988671]), array([80.79700816]), array([61.01569263]), array([67.2940818]), array([7.1380145]), array([70.13971959]), array([40.96355712]), array([99.89291846]), array([95.15396322]), array([8.48186698]), array([88.98792091]), array([48.6787433]), array([90.58408885]), array([68.59616574]), array([93.60906411]), array([20.94655834]), array([54.51586069]), array([42.97798646]), array([98.66203704]), array([73.58530677]), array([34.19768691]), array([30.0557603]), array([15.2635546]), array([37.54697097]), array([32.64465764]), array([43.9507127]), array([11.04957415]), array([69.74832956]), array([8.83569566]), array([62.63727634]), array([96.53928762]), array([4.99308203]), array([34.81998817]), array([60.89058626]), array([48.18782322]), array([38.64137998]), array([37.18979225]), array([77.00387642]), array([15.72279392]), array([13.46142309]), array([73.60771791]), array([6.38002045]), array([96.70535805]), array([8.72343175]), array([99.58604816]), array([45.22710383]), array([78.79764894]), array([78.3805074]), array([85.63042107]), array([11.90100183]), array([88.08873025]), array([12.13603912]), array([76.27398217]), array([27.11999905]), array([70.22629039]), array([46.8896112]), array([11.93901209]), array([24.44419692]), array([97.21938966]), array([22.79338728]), array([65.95669055]), array([50.48104291]), array([56.44215434]), array([27.86024814]), array([46.20817904]), array([81.25406894]), array([80.97645933]), array([13.62213374]), array([14.62503539]), array([52.59206913]), array([0.91871943]), array([56.89407851]), array([33.38267652]), array([21.35941229]), array([34.0652101]), array([30.18049695]), array([35.32351721]), array([97.70124041]), array([20.54319857]), array([8.74524503]), array([53.14875868]), array([73.32262346]), array([33.02922363]), array([73.61915986]), array([14.66109622]), array([3.45969397]), array([92.13251902]), array([67.1795059]), array([86.15928652]), array([93.98583377]), array([74.37588925]), array([26.96638746]), array([89.6343603]), array([17.58440846]), array([67.32245077]), array([30.93272352]), array([45.35273173]), array([26.27356093]), array([80.31039029]), array([13.89635317]), array([9.59108867]), array([51.83664202]), array([51.60052667]), array([75.81355743]), array([15.12359254]), array([77.57808401]), array([10.23200146]), array([60.6283246]), array([81.0840073]), array([48.0456065]), array([15.56502899]), array([34.73948827]), array([80.38481603]), array([79.1628322]), array([24.70162535]), array([55.49852856]), array([18.99309681]), array([2.69027076]), array([92.49497581]), array([22.05039037]), array([96.00594277]), array([38.784863]), array([81.21404366]), array([77.67126098]), array([97.4573543]), array([94.40831562]), array([34.61030399]), array([70.11820218]), array([36.66736866]), array([73.43668779]), array([21.99185946]), array([53.92509475]), array([15.3044588]), array([76.45998226]), array([70.00234698]), array([54.11494311]), array([49.16793222]), array([76.67101974]), array([74.84998928]), array([19.94267617]), array([77.0507932]), array([15.23913813]), array([26.52664469]), array([5.42436278]), array([7.02487508]), array([78.91694799]), array([41.59841466]), array([25.41151877]), array([24.94233079]), array([70.36569293]), array([14.22016675]), array([32.9853458]), array([95.40383262]), array([44.96141148]), array([61.03578902]), array([68.38441964]), array([85.38557011]), array([18.30341988]), array([98.15260326]), array([79.51563475]), array([53.96539731]), array([65.54160543]), array([83.06501335]), array([54.16228899]), array([29.9579111]), array([50.83955985]), array([92.72488414]), array([52.29586188]), array([95.00717869]), array([34.43454878]), array([41.65686812]), array([85.75162575]), array([34.63102753]), array([25.67720191]), array([6.75913648]), array([42.87590161]), array([75.78594108]), array([18.09178607]), array([8.75663981]), array([88.16921271]), array([62.92781061]), array([48.53468517]), array([78.06218403]), array([23.26948199]), array([61.35179899]), array([17.34420766]), array([25.21489954]), array([86.43016013]), array([65.44313709]), array([25.87836718]), array([85.34205926]), array([44.71287165]), array([24.29035446]), array([96.771239]), array([70.27947877]), array([18.16547551]), array([95.33476719]), array([25.41015371]), array([2.78141836]), array([20.39307023]), array([6.02145567]), array([65.2086174]), array([63.48373362]), array([74.36629067]), array([79.09269071]), array([51.52158404]), array([75.35104388]), array([40.96938701]), array([0.82308218]), array([19.62905039]), array([65.22792553]), array([71.4891176]), array([63.87686907]), array([43.57100121]), array([46.33771668]), array([27.12642184]), array([28.80527283]), array([41.01417343]), array([3.13845117]), array([39.57299697]), array([1.81771072]), array([69.81230266]), array([23.56490973]), array([50.15232671]), array([62.84300235]), array([2.44599184]), array([49.70682747]), array([17.49427476]), array([95.50010882]), array([8.82385154]), array([12.85073994]), array([68.89518719]), array([44.67536537]), array([78.44606307]), array([50.71831267]), array([49.87776444]), array([90.74633843]), array([34.46565865]), array([53.4255208]), array([59.15715631]), array([8.95924576]), array([89.74940813]), array([48.25212344]), array([75.92645516]), array([97.31075264]), array([1.60328651]), array([28.51899816]), array([97.39553789]), array([41.84482544]), array([92.27859822]), array([53.70382243]), array([48.65673741]), array([30.08665519]), array([83.83315841]), array([55.68651223]), array([2.49018881]), array([38.50177136]), array([17.97799076]), array([88.61543596]), array([19.01099427]), array([46.77770109]), array([83.82979887]), array([0.74800745]), array([98.91963153]), array([3.98103946]), array([59.43801602]), array([28.66081201]), array([29.298718]), array([85.32141731]), array([99.39194964]), array([30.56167094]), array([81.26405697]), array([63.04913025]), array([68.8566999]), array([38.13612063]), array([50.40474722]), array([87.60564824]), array([47.66083643]), array([43.49517531]), array([16.10220501]), array([3.02176323]), array([85.08033092]), array([43.59748968]), array([75.37029239]), array([3.81467535]), array([25.95996103]), array([24.38486911]), array([98.14555383]), array([81.91581185]), array([9.20694571]), array([93.20256486]), array([9.02730365]), array([90.14174061]), array([30.63689567]), array([90.75944674]), array([50.05493897]), array([80.34061697]), array([37.53645654]), array([50.98775988]), array([17.39770871]), array([76.99726584]), array([81.08702526]), array([40.1740574]), array([31.84268919]), array([15.21097612]), array([94.63284391]), array([44.73481687]), array([36.19592027]), array([37.22895757]), array([62.33424843]), array([98.79965847]), array([47.5008361]), array([36.3425753]), array([48.19864143]), array([99.87405087]), array([80.2128509]), array([20.42827377]), array([98.29169644]), array([24.51973778]), array([94.00054117]), array([48.03838273]), array([0.05132592]), array([2.43905237]), array([31.65736049]), array([49.2770225]), array([29.53446995]), array([29.88281451]), array([9.85942583]), array([93.46701245]), array([4.97447441]), array([68.34522569]), array([71.09009377]), array([4.217209]), array([99.8544163]), array([61.0926089]), array([8.06229086]), array([11.82159854]), array([23.06745861]), array([7.44284497]), array([1.44097279]), array([77.72123152]), array([69.00287456]), array([84.16578308]), array([38.0044884]), array([64.62726737]), array([91.95488186]), array([7.37220402]), array([38.17977019]), array([46.37019189]), array([27.30488557]), array([77.58670111]), array([80.67994198]), array([11.47110556]), array([9.86960537]), array([62.0629627]), array([32.2612167]), array([25.98018472]), array([61.83290069]), array([0.31041721]), array([95.94872356]), array([65.63895946]), array([80.74821707]), array([83.05816309]), array([22.3266761]), array([30.88597083]), array([52.94539325]), array([38.74086494]), array([1.52591367]), array([76.72649423]), array([55.35870264]), array([0.75338215]), array([56.59317637]), array([21.71814577]), array([92.57505366]), array([75.89039581]), array([43.27557942]), array([96.459906]), array([87.56030245]), array([29.99165018]), array([4.7812606]), array([3.23123178]), array([69.64292185]), array([60.56148911]), array([38.99300869]), array([93.4367455]), array([98.1272359]), array([38.82017206]), array([58.52493984]), array([6.90483637]), array([13.29130181]), array([48.6284795]), array([45.01058579]), array([7.60747646]), array([47.1093712]), array([40.19654138]), array([86.41168886]), array([60.30130521]), array([54.18121344]), array([52.36966397]), array([89.81532614]), array([37.80985679]), array([48.40576739]), array([72.9021519]), array([49.77933673]), array([70.21494428]), array([74.63768512]), array([26.59141284]), array([20.60279055]), array([73.88852435]), array([95.69185045]), array([21.7900569]), array([38.49547728]), array([47.82337424]), array([25.58919076]), array([47.11341433]), array([8.17797734]), array([97.08597295]), array([33.73744408]), array([33.25883461]), array([71.37177683]), array([44.16884486]), array([56.84982277]), array([59.27028427]), array([37.09277197]), array([46.95136893]), array([64.38000276]), array([98.89257217]), array([74.06668204]), array([20.1308843]), array([67.62426198]), array([24.72657048]), array([77.80382123]), array([63.10705352]), array([0.24914941]), array([62.65543189]), array([65.35512246]), array([88.00934764]), array([2.66614131]), array([25.39539949]), array([2.19164434]), array([7.07862922]), array([51.13855199]), array([31.11295733]), array([9.95960544]), array([95.40482282]), array([88.94809534]), array([42.53760341]), array([14.44060853]), array([83.29566929]), array([28.52041297]), array([57.37176857]), array([49.13026149]), array([10.71344021]), array([26.98828458]), array([98.19890649]), array([54.19188652]), array([92.94470271]), array([83.46088823]), array([56.54328476]), array([62.42201663]), array([28.28917909]), array([32.62937667]), array([63.23675261]), array([4.42222402]), array([4.97065664]), array([28.47576622]), array([89.23220307]), array([95.52398979]), array([67.48109145]), array([79.47653689]), array([63.94537149]), array([43.19842968]), array([36.19950711]), array([33.59089727]), array([83.69792828]), array([9.35895888]), array([84.31453645]), array([89.42907995]), array([84.66710411]), array([18.62789737]), array([73.15133699]), array([11.45920997]), array([10.7261947]), array([12.8048591]), array([1.81650512]), array([10.5264962]), array([74.2684679]), array([10.59367963]), array([70.29444991]), array([77.69263107]), array([82.68016241]), array([8.34140935]), array([52.67176105]), array([69.8645752]), array([27.38914266]), array([96.51020744]), array([78.52600937]), array([6.17024053]), array([48.86734924]), array([61.26533833]), array([38.37664845]), array([36.18899653]), array([4.89836243]), array([25.91475833]), array([51.22423924]), array([74.99294218]), array([2.43657297]), array([67.37646792]), array([61.74659332]), array([53.5673394]), array([94.43933352]), array([60.64852341]), array([78.11440114]), array([74.13191797]), array([83.19137049]), array([68.93528303]), array([63.97081474]), array([93.19380383]), array([44.02658716]), array([84.41343903]), array([12.38969671]), array([5.30782447]), array([90.02719311]), array([54.25006474]), array([10.5845362]), array([20.55728885]), array([17.20054348]), array([26.74552752]), array([88.56959884]), array([94.12041512]), array([21.86551876]), array([46.12391531]), array([67.72520215]), array([63.55458869]), array([61.20074214]), array([20.52157897]), array([59.79626259]), array([99.86415548]), array([77.83513798]), array([60.75823276]), array([18.03326102]), array([5.65809769]), array([26.50086669]), array([69.82429683]), array([53.74956619]), array([51.20129509]), array([6.62092665]), array([59.73895795]), array([85.84182965]), array([97.60695435]), array([21.18261912]), array([8.49500397]), array([38.78867418]), array([98.02209374]), array([74.79708341]), array([71.28125751]), array([38.93751564]), array([28.70422328]), array([2.99407838]), array([24.1950691]), array([89.36764207]), array([46.80699548]), array([30.74461622]), array([40.19592852]), array([85.5170973]), array([98.54272296]), array([56.68345376]), array([41.81871224]), array([56.31749564]), array([83.37578498]), array([78.38465495]), array([87.87254843]), array([61.99712199]), array([67.18075015]), array([7.59759086]), array([82.57973625]), array([66.7709758]), array([79.35648241]), array([5.6288983]), array([59.35873055]), array([95.63988196]), array([72.1739194]), array([3.0334025]), array([9.84014451]), array([81.95343212]), array([81.05237478]), array([52.63717093]), array([6.83905626]), array([77.64033353]), array([32.99882848]), array([31.40955976]), array([49.56180862]), array([54.84035221]), array([14.87876263]), array([33.58584479]), array([72.00393039]), array([2.30652825]), array([25.64216243]), array([18.24606612]), array([30.36820597]), array([51.08679447]), array([68.6469868]), array([0.88260325]), array([6.9891034]), array([81.47250386]), array([11.28333143]), array([45.41275528]), array([87.81079922]), array([29.1591576]), array([48.90650841]), array([32.05785178]), array([29.38581115]), array([31.15698223]), array([91.30482867]), array([26.91924886]), array([39.81584645]), array([15.5050545]), array([9.77621028]), array([93.18328505]), array([40.38935713]), array([31.50522984]), array([44.90937214]), array([27.70618866]), array([22.03980917]), array([79.76976618]), array([60.57125642]), array([94.86144918]), array([16.44163959]), array([39.76495733]), array([29.14655292]), array([57.48820571]), array([79.95202892]), array([77.35092822]), array([29.24073381]), array([30.94890916]), array([10.19427501]), array([3.03605013]), array([22.38451815]), array([34.30727325]), array([41.31531983]), array([10.89882893]), array([91.76837453]), array([6.16097056]), array([21.31967551]), array([82.66235953]), array([61.72364259]), array([88.87002448]), array([28.56922619]), array([30.18881195]), array([49.76224673]), array([19.7252194]), array([99.44160894]), array([40.43856325]), array([48.04225872]), array([94.78500336]), array([40.57973145]), array([8.3214282]), array([5.27157545]), array([94.86896561]), array([25.2523372]), array([28.24723985]), array([7.15784357]), array([55.03418578]), array([87.37398606]), array([82.88827134]), array([57.94636595]), array([28.9064679]), array([87.48552849]), array([84.78839905]), array([13.56936171]), array([81.90201792]), array([18.18814005]), array([73.40325673]), array([60.13330153]), array([84.12014902]), array([98.79699185]), array([57.50280034]), array([88.23595545]), array([9.8544411]), array([68.71648029]), array([40.96363612]), array([12.80163253]), array([4.20988448]), array([98.53583359]), array([33.06695959]), array([66.87590124]), array([38.84557611]), array([56.70174846]), array([12.70456421]), array([89.86623691]), array([39.94012044]), array([84.37127569]), array([99.28725819]), array([62.34425561]), array([14.50711969]), array([16.89757564]), array([27.92298529]), array([63.2721289]), array([57.82337497]), array([44.95829688]), array([47.98420302]), array([95.87441415]), array([83.19937279]), array([37.32774537]), array([46.45607331]), array([42.62445085]), array([55.69550038]), array([5.60389669]), array([2.25177926]), array([64.82060931]), array([0.51290635]), array([30.01692623]), array([39.64202798]), array([5.40669774]), array([86.95901]), array([77.31105219]), array([51.40288326]), array([93.3143928]), array([12.64522376]), array([7.83577404]), array([59.2210163]), array([44.18639538]), array([17.16925993]), array([83.87134191]), array([94.89771375]), array([65.20295243]), array([63.68718859]), array([9.85337417]), array([50.72303331]), array([11.1894449]), array([65.02928375]), array([32.9707191]), array([34.47683576]), array([18.64265188]), array([49.9489928]), array([45.56682376]), array([40.97871395]), array([42.05048294]), array([16.2213259]), array([83.2039271]), array([16.42526521]), array([18.73376185]), array([90.14522097]), array([32.07172734]), array([45.01879433]), array([50.27946306]), array([33.56344368]), array([78.37473437]), array([93.83870074]), array([53.43269909]), array([29.58122203]), array([49.89036049]), array([18.22996476]), array([63.34348374]), array([3.14432542]), array([10.97975428]), array([94.27785564]), array([42.81255621]), array([18.35959969]), array([83.9070938]), array([52.61441635]), array([20.2743774]), array([11.44622992]), array([17.02763412]), array([72.79766749]), array([34.05613938]), array([30.53375067]), array([24.27388899]), array([88.2876695]), array([3.65314608]), array([63.39817314]), array([71.33677336]), array([43.18900225]), array([64.70020491]), array([72.71934332]), array([93.20900732]), array([45.69492979]), array([58.92955025]), array([24.21274597]), array([9.0904728]), array([57.10156186]), array([25.46576469]), array([50.04228343]), array([42.85004158]), array([82.81200427]), array([48.0268841]), array([83.69503931]), array([76.9569052]), array([30.18599616]), array([41.21402561]), array([22.19526228]), array([62.90330876]), array([59.96193062]), array([76.67276658]), array([81.67404136]), array([76.04537854]), array([87.68321678]), array([86.38552977]), array([49.24323978]), array([53.60558258]), array([23.53558781]), array([16.2250622]), array([26.56011102]), array([3.8935753]), array([25.5963784]), array([84.93061226]), array([86.66559909]), array([41.72225515]), array([80.70273314]), array([46.68586362]), array([43.10866446]), array([75.76237258]), array([3.03025848]), array([87.66309622]), array([52.22761923]), array([17.15212556]), array([96.0453993]), array([18.22247297]), array([72.09678115]), array([45.02671167]), array([86.35090304]), array([57.64860205]), array([97.19015125]), array([10.39363836]), array([85.71775064]), array([10.5103913]), array([94.94786487]), array([16.77294697]), array([68.34585692]), array([12.25342017]), array([58.1415427]), array([36.72934315]), array([19.28811453]), array([84.02008277]), array([33.78272671]), array([48.33901089]), array([30.27377003]), array([25.79742964]), array([3.9523374]), array([42.62999318]), array([57.16799238]), array([99.94171297]), array([75.37609628]), array([21.52277564]), array([2.36009211]), array([11.12012142]), array([72.89786927]), array([68.06653816]), array([92.58116407]), array([81.28969927]), array([11.95035684]), array([72.41947317]), array([67.83732521]), array([42.21211649]), array([19.70730824]), array([44.55643116]), array([4.72668416]), array([81.35081887]), array([28.95165577]), array([31.53023083]), array([34.51497005]), array([54.38459168]), array([94.1159527]), array([3.25790383]), array([58.758222]), array([59.23175353]), array([30.92497745]), array([11.50183399]), array([85.61895143]), array([27.00026605]), array([35.77355206]), array([56.41175299]), array([76.90901183]), array([8.20727343]), array([87.7165478]), array([95.34497846]), array([6.28485836]), array([71.52875766]), array([88.74011759]), array([25.52528269]), array([57.70081329]), array([7.50383113]), array([27.96457374]), array([16.52000552]), array([72.05676002]), array([28.00513308]), array([90.21883702]), array([40.44228531]), array([41.99941555]), array([53.92140077]), array([5.97206474]), array([22.6158587]), array([91.00123253]), array([95.73766901]), array([18.69616836]), array([12.94880364]), array([36.11857645]), array([84.58963106]), array([88.11298821]), array([73.48304653]), array([23.26051178]), array([91.28762523]), array([64.89629368]), array([47.70990794]), array([73.77331119]), array([34.8373148]), array([23.58408814]), array([15.20400342]), array([62.37832818]), array([85.68640299]), array([93.76504001]), array([39.55537787]), array([52.30516131]), array([58.15963452]), array([58.46105648]), array([6.63072955]), array([1.5817079]), array([17.62693373]), array([48.4492947]), array([52.28680818]), array([18.72544921]), array([18.09608375]), array([73.38180245]), array([45.11065436]), array([8.97253568]), array([83.08968129]), array([62.46487253]), array([24.61319363]), array([83.35897082]), array([61.57131187]), array([8.44478497]), array([13.82366081]), array([74.06876222]), array([98.75338598]), array([24.86692419]), array([52.34606186]), array([10.33551465]), array([2.7484138]), array([79.14741803]), array([98.47315702]), array([29.46562619]), array([0.57950812]), array([16.82113658]), array([60.19475921]), array([33.29403562]), array([6.47952496]), array([83.79519183]), array([77.45556749]), array([19.1215832]), array([74.0645486]), array([60.0821467]), array([49.31017569]), array([13.49310126]), array([10.74715548]), array([35.03409972]), array([75.87033478]), array([55.85523391]), array([39.19770926]), array([76.43879586]), array([12.27372781]), array([88.85859402]), array([23.56092773]), array([87.10756925]), array([82.22493445]), array([78.50831958]), array([41.55837541]), array([37.98567317]), array([88.87983859]), array([82.84656641]), array([90.35354778]), array([54.03059217]), array([44.33719334]), array([93.84082173]), array([45.61460044]), array([30.17702364]), array([59.98010507]), array([67.30905777]), array([91.04007704]), array([37.19106121]), array([25.08685953]), array([68.31054525]), array([52.18892178]), array([84.63006357]), array([22.74835437]), array([1.22744863]), array([35.90474859]), array([92.05451997]), array([81.73253842]), array([46.19840544]), array([49.4928578]), array([13.44815619]), array([80.80897356]), array([17.47962946]), array([8.38045396]), array([34.48184839]), array([1.90292056]), array([2.23818984]), array([39.31838094]), array([84.83889805]), array([41.86427354]), array([13.70305713]), array([34.68615463]), array([76.67115786]), array([14.89116992]), array([16.73774185]), array([13.0038698]), array([32.55896165]), array([95.82669275]), array([39.81029051]), array([48.47312057]), array([66.48815593]), array([78.57846158]), array([31.63622884]), array([9.73287143]), array([34.63938772]), array([78.82531143]), array([11.4532214]), array([28.86193465]), array([40.89446217]), array([75.97644054]), array([78.79924336]), array([1.09922896]), array([52.57345495]), array([20.60568837]), array([45.12695121]), array([77.86892658]), array([83.53035188]), array([19.82885208]), array([68.59493242]), array([13.86681356]), array([80.57225032]), array([99.85707142]), array([51.66103221]), array([84.97809491]), array([97.93202516]), array([17.60150787]), array([94.26224562]), array([53.62905323]), array([82.95519879]), array([47.23350091]), array([37.13891263]), array([27.68309822]), array([98.90781319]), array([34.52980927]), array([23.99369869]), array([17.13125622]), array([47.1110913]), array([19.69087918]), array([29.52495503]), array([79.77802272]), array([61.00270684]), array([38.34369271]), array([56.25137826]), array([36.50980361]), array([63.3813693]), array([56.02541417]), array([8.17408904]), array([79.3271658]), array([63.64569104]), array([18.2313704]), array([18.47689226]), array([57.56759555]), array([94.30733714]), array([69.32696429]), array([25.98853168]), array([68.34961388]), array([19.66928347]), array([63.59621193]), array([9.86515883]), array([91.87266278]), array([60.27906612]), array([80.84442863]), array([39.65484161]), array([93.73680174]), array([72.29664709]), array([24.28031041]), array([27.0479817]), array([26.25569752]), array([15.13519169]), array([52.25462441]), array([88.43060803]), array([12.9691562]), array([96.2835299]), array([83.12333904]), array([84.64380952]), array([74.09337123]), array([56.58954991]), array([58.1710246]), array([11.35289968]), array([87.81977382]), array([35.76079549]), array([18.45890823]), array([82.72617]), array([57.57637364]), array([49.43235269]), array([42.49402201]), array([56.57358308]), array([60.91633966]), array([39.25888909]), array([81.74188526]), array([24.82589923]), array([7.67412092]), array([17.08757447]), array([97.00198177]), array([62.78746497]), array([74.68885345]), array([16.06381814]), array([12.83523208]), array([99.03742758]), array([81.94325466]), array([35.86193178]), array([24.47890106]), array([31.77508651]), array([39.72188964]), array([94.98764631]), array([82.65405611]), array([97.1449307]), array([40.83472313]), array([4.92278761]), array([66.83600146]), array([8.37461106]), array([37.59468236]), array([40.09949685]), array([20.97869573]), array([62.25901536]), array([30.86031816]), array([59.59629029]), array([88.47109376]), array([89.04960152]), array([88.54921605]), array([59.85813206]), array([46.04835191]), array([45.98320504]), array([52.00997994]), array([92.33362675]), array([30.80552291]), array([77.5332338]), array([20.02590795]), array([28.47418037]), array([5.53613278]), array([71.89902632]), array([59.83058146]), array([15.87079523]), array([85.1071619]), array([41.18927129]), array([50.6058233]), array([64.47896318]), array([62.68457492]), array([69.03077593]), array([5.87843587]), array([87.97937393]), array([58.90040965]), array([19.98273724]), array([91.7417195]), array([39.52175696]), array([58.77971816]), array([51.51040439]), array([8.29578449]), array([19.61821976]), array([3.08587331]), array([54.61683449]), array([91.82000981]), array([70.46927733]), array([11.33681356]), array([65.2881898]), array([48.2278212]), array([5.78536271]), array([83.63490026]), array([5.28124651]), array([72.81122547]), array([4.38331946]), array([2.43990742]), array([35.96727711]), array([0.8681469]), array([92.0788944]), array([36.75259501]), array([1.30940626]), array([60.79093556]), array([90.368524]), array([42.88188129]), array([6.77483243]), array([11.1365787]), array([32.17775265]), array([70.44658799]), array([3.80258309]), array([77.6508453]), array([80.88564851]), array([13.08195957]), array([89.18829815]), array([57.68013314]), array([27.89430839]), array([58.40399837]), array([23.99479644]), array([31.53771594]), array([68.37126693]), array([67.19249228]), array([32.2559423]), array([42.41041153]), array([84.33264667]), array([26.53408489]), array([7.88035977]), array([79.07036123]), array([85.36088004]), array([30.30654649]), array([5.96283595]), array([57.91216732]), array([33.52283937]), array([38.33900381]), array([35.12835456]), array([25.7717884]), array([24.80371135]), array([44.99272972]), array([88.94602622]), array([60.36819529]), array([34.75246671]), array([94.74140551]), array([23.89500367]), array([55.71126611]), array([9.57306587]), array([88.20418797]), array([94.62386764]), array([7.88365848]), array([30.3830188]), array([78.13071059]), array([29.55877417]), array([72.50537765]), array([85.69531087]), array([70.20859289]), array([8.32523025]), array([70.58997995]), array([64.02065901]), array([53.04970887]), array([2.17464668]), array([97.23620742]), array([97.1793498]), array([78.9008239]), array([14.2337524]), array([8.56586473]), array([11.96006106]), array([67.77071887]), array([59.16030156]), array([94.11206798]), array([28.59299726]), array([74.10182519]), array([92.3637304]), array([88.72878165]), array([87.71739547]), array([12.18921465]), array([46.02635044]), array([17.52080184]), array([85.61419456]), array([5.8276293]), array([18.07411307]), array([23.49145886]), array([29.97102246]), array([57.52245404]), array([41.37739897]), array([73.50984697]), array([60.76121303]), array([2.69132518]), array([38.98039435]), array([67.26884169]), array([66.7956157]), array([32.03571468]), array([53.07668745]), array([45.21273308]), array([89.36059806]), array([53.51122619]), array([79.6502008]), array([55.76903237]), array([49.08256438]), array([11.38174226]), array([49.04056451]), array([11.86697781]), array([50.36651433]), array([24.57627576]), array([29.89246392]), array([68.40551181]), array([55.83476882]), array([87.62130938]), array([17.57467241]), array([59.52840727]), array([88.26191458]), array([4.83230284]), array([81.44818326]), array([21.15169363]), array([19.06938315]), array([48.60562326]), array([4.56304933]), array([59.95599906]), array([83.05579905]), array([58.80403496]), array([84.88451314]), array([55.03585177]), array([21.7245755]), array([24.78448422]), array([62.8633158]), array([76.42453502]), array([87.77893666]), array([25.60332611]), array([1.55735859]), array([6.56042912]), array([18.39461457]), array([17.85023979]), array([50.25057852]), array([67.04895515]), array([1.59598327]), array([7.5239888]), array([8.36807805]), array([63.67596583]), array([22.15670571]), array([85.81373492]), array([87.23866511]), array([59.08743589]), array([60.97768108]), array([42.7864096]), array([40.13532109]), array([93.29418124]), array([86.17725901]), array([75.83445634]), array([72.57019102]), array([77.91640392]), array([84.79187272]), array([96.95996733]), array([64.43777827]), array([33.05702862]), array([43.2437043]), array([26.6784165]), array([0.77641648]), array([69.62901726]), array([26.77260354]), array([12.01464291]), array([81.72860777]), array([80.15737996]), array([50.08108788]), array([11.42335513]), array([82.64136108]), array([6.63861371]), array([45.14291581]), array([88.76111308]), array([26.72315452]), array([2.66300198]), array([30.87480647]), array([81.75724242]), array([43.90198146]), array([29.69648241]), array([72.82831217]), array([87.08542644]), array([83.74251392]), array([94.90155398]), array([99.13150717]), array([0.87527266]), array([9.49142755]), array([22.57888976]), array([46.33634649]), array([65.41021207]), array([4.65935369]), array([31.62070041]), array([47.26988575]), array([7.42740905]), array([63.66135597]), array([80.73080024]), array([46.30820795]), array([77.15555441]), array([76.55314247]), array([62.85951561]), array([84.22044248]), array([50.44938178]), array([81.82958461]), array([86.83730812]), array([5.8086728]), array([56.63029263]), array([24.78108169]), array([58.59018514]), array([57.63759926]), array([64.52296039]), array([3.98755027]), array([28.82598059]), array([27.9483372]), array([73.05866228]), array([45.09436431]), array([93.8722193]), array([53.12141291]), array([92.69644906]), array([90.65722313]), array([99.97292377]), array([14.62904971]), array([69.41496987]), array([39.9750486]), array([0.46179577]), array([96.92086579]), array([9.67330033]), array([3.59548196]), array([96.11150553]), array([27.40344403]), array([2.55523552]), array([21.59020305]), array([15.5624247]), array([9.00279408]), array([95.54028805]), array([52.87902222]), array([51.11822649]), array([39.31586888]), array([31.73249933]), array([41.16152123]), array([91.22932879]), array([56.81114079]), array([45.63883234]), array([25.44114964]), array([82.92842607]), array([6.58455566]), array([80.50621788]), array([21.26949021]), array([72.86536106]), array([56.59568272]), array([17.98740755]), array([14.90812511]), array([14.11385427]), array([19.73310563]), array([85.05151418]), array([5.58725418]), array([50.78561592]), array([78.0031468]), array([47.9756678]), array([43.46675021]), array([50.31689769]), array([4.87261495]), array([96.99885815]), array([56.92423021]), array([30.82043762]), array([45.98913758]), array([28.90971032]), array([25.71811837]), array([71.05993415]), array([56.70320758]), array([89.01318246]), array([8.55821736]), array([71.50817649]), array([82.5633835]), array([55.41404271]), array([10.78658958]), array([44.67618335]), array([95.06465351]), array([28.12758711]), array([24.5887436]), array([33.85416441]), array([59.50183785]), array([43.98823138]), array([46.16355633]), array([14.57182195]), array([29.81420081]), array([15.45253187]), array([76.90941034]), array([2.18441293]), array([76.54088501]), array([17.81484982]), array([57.74515078]), array([23.33802988]), array([23.4589227]), array([69.3281076]), array([66.85424222]), array([70.78695456]), array([17.5447821]), array([93.37003974]), array([8.61973998]), array([56.55907098]), array([59.22610347]), array([65.32731976]), array([41.59023369]), array([43.78149601]), array([88.99767708]), array([71.03316876]), array([79.58502858]), array([30.31483299]), array([72.26641209]), array([51.29097768]), array([51.49211844]), array([78.20436218]), array([50.74647679]), array([31.33883215]), array([82.25232568]), array([77.78939819]), array([69.68079284]), array([55.78390678]), array([57.93679581]), array([63.87674785]), array([79.72861302]), array([89.65514279]), array([41.98911914]), array([83.30769666]), array([0.9316394]), array([22.30870353]), array([80.39520499]), array([38.35076896]), array([23.86890058]), array([46.8912596]), array([28.76946849]), array([53.41446402]), array([10.73111108]), array([4.22297484]), array([34.101037]), array([7.96765298]), array([13.75206111]), array([72.23435525]), array([53.60527922]), array([58.6229629]), array([18.31294348]), array([67.34585832]), array([49.96972449]), array([38.10768442]), array([64.15230521]), array([54.26273123]), array([94.16447724]), array([21.27783125]), array([41.63098681]), array([18.19768537]), array([48.04768293]), array([24.74813804]), array([71.13082934]), array([47.37195416]), array([5.49252167]), array([32.1943137]), array([27.56977417]), array([80.42495631]), array([80.83279065]), array([64.31549983]), array([21.38437342]), array([27.07429285]), array([19.35051613]), array([41.37242343]), array([50.76404324]), array([23.4220194]), array([40.91874439]), array([26.03200363]), array([9.58883251]), array([81.26725527]), array([28.21244925]), array([77.11626908]), array([28.6364073]), array([33.89380071]), array([55.38009738]), array([41.65665786]), array([0.38636539]), array([44.65164861]), array([15.17515515]), array([21.94794206]), array([69.42354882]), array([34.81861217]), array([55.628454]), array([14.91034009]), array([66.31210418]), array([89.48348563]), array([3.90057836]), array([43.39171786]), array([73.84771484]), array([40.53495057]), array([57.42113081]), array([54.29903382]), array([54.44626448]), array([71.71231784]), array([35.8811363]), array([36.03899759]), array([81.16156214]), array([92.227381]), array([52.32190943]), array([51.57204496]), array([60.03102168]), array([29.86982661]), array([33.68908671]), array([4.98821784]), array([66.19175422]), array([71.99458095]), array([36.79623341]), array([73.70839187]), array([64.93634808]), array([1.99800884]), array([13.89634904]), array([11.62380137]), array([62.72565459]), array([34.07140099]), array([41.69268983]), array([94.62005742]), array([52.41826136]), array([56.80457832]), array([53.54674162]), array([3.43546143]), array([2.78949419]), array([79.11010873]), array([74.83118614]), array([20.25050893]), array([16.01918028]), array([68.52271535]), array([20.55308378]), array([61.48374966]), array([41.7576195]), array([57.9624137]), array([60.92507138]), array([95.47620322]), array([79.01705827]), array([36.14220537]), array([28.90368571]), array([77.78898223]), array([30.75524993]), array([69.23757354]), array([38.26948991]), array([17.28400856]), array([17.84709222]), array([89.93558641]), array([67.48540598]), array([66.29460128]), array([15.93427347]), array([18.52774897]), array([40.57967319]), array([9.00311506]), array([44.11931621]), array([62.04404432]), array([92.3696415]), array([86.15812881]), array([36.09146976]), array([77.88434938]), array([86.09589233]), array([14.8674621]), array([96.66671217]), array([88.02442267]), array([96.32831274]), array([53.00018893]), array([12.50565302]), array([95.82380457]), array([92.51641339]), array([66.05873207]), array([30.21057157]), array([76.40592143]), array([26.829808]), array([10.06911947]), array([65.17671994]), array([32.82406914]), array([17.56163702]), array([74.90918931]), array([77.88150154]), array([1.56216014]), array([80.93014378]), array([40.88790803]), array([5.54166078]), array([86.69888562]), array([82.3291978]), array([71.15906246]), array([5.4869597]), array([31.70847649]), array([37.69717669]), array([39.30032921]), array([20.25163505]), array([30.25987365]), array([18.67439762]), array([51.57816611]), array([36.48884794]), array([17.15365007]), array([50.13247818]), array([54.04988435]), array([3.08807516]), array([57.47587525]), array([12.28695051]), array([11.46547473]), array([81.40235563]), array([62.95749708]), array([68.69286126]), array([41.59438161]), array([11.89591235]), array([55.97620963]), array([28.85695072]), array([20.13594327]), array([1.86937162]), array([52.45751401]), array([49.00200513]), array([88.38255635]), array([57.91457141]), array([84.0837782]), array([89.27265756]), array([89.15228481]), array([95.13397106]), array([91.84285269]), array([19.07333759]), array([27.29510429]), array([79.56088372]), array([94.8407319]), array([52.067465]), array([32.8626078]), array([38.25370998]), array([79.88775287]), array([78.50357648]), array([38.57488769]), array([44.0975496]), array([96.13711495]), array([50.27726298]), array([73.99465721]), array([46.21623147]), array([45.04436367]), array([18.19151272]), array([59.91030792]), array([99.19717753]), array([55.35638697]), array([91.35548733]), array([34.34639102]), array([41.48750433]), array([81.89378216]), array([46.23286353]), array([17.23681408]), array([0.86791796]), array([0.09463144]), array([31.20363375]), array([92.52685649]), array([55.13602552]), array([16.32621402]), array([97.90636121]), array([26.71217181]), array([53.73099359]), array([44.11008101]), array([36.2242784]), array([3.28016073]), array([1.34511879]), array([3.63081539]), array([82.97494897]), array([40.32141847]), array([96.1907621]), array([57.03863662]), array([78.70777421]), array([20.4431212]), array([87.19505278]), array([26.93386351]), array([85.3748667]), array([20.71020079]), array([65.66719982]), array([38.85000275]), array([7.27198644]), array([69.32895311]), array([81.56283472]), array([17.8245462]), array([6.96657681]), array([52.85232528]), array([98.80259255]), array([60.16542193]), array([22.9803987]), array([36.02681142]), array([75.13368994]), array([54.78626784]), array([6.17097269]), array([14.90222607]), array([17.31387851]), array([69.76261676]), array([94.53736386]), array([3.18293397]), array([32.67516255]), array([30.46000637]), array([26.84254524]), array([73.87715989]), array([12.07334716]), array([97.22303229]), array([33.23608635]), array([68.73795481]), array([94.04805298]), array([55.77339327]), array([65.64247547]), array([69.37518032]), array([51.43290141]), array([86.93742232]), array([16.49574514]), array([3.98093916]), array([79.48055952]), array([15.0931724]), array([64.69143037]), array([76.34113225]), array([53.71159304]), array([86.5974897]), array([62.42352856]), array([17.2611659]), array([99.82171496]), array([82.63058169]), array([25.56851675]), array([35.04492164]), array([2.81824181]), array([42.70703661]), array([68.00113356]), array([76.91747167]), array([2.2517962]), array([21.46348721]), array([40.70671156]), array([39.86545066]), array([21.23395867]), array([97.60963245]), array([94.92952777]), array([87.30678148]), array([41.50300731]), array([97.26887246]), array([58.88124886]), array([44.89771558]), array([77.30490046]), array([99.56654997]), array([0.71218319]), array([32.50997208]), array([31.87973258]), array([50.01140488]), array([13.64335877]), array([2.84194568]), array([8.10695844]), array([98.98847893]), array([11.44421695]), array([87.02233091]), array([91.48827117]), array([52.65479725]), array([14.99000493]), array([42.599073]), array([62.11725636]), array([52.13543217]), array([23.60798807]), array([32.76425545]), array([78.56853107]), array([38.06685047]), array([46.12182878]), array([98.38716405]), array([67.80636305]), array([41.51792802]), array([75.50193576]), array([48.00379144]), array([63.3373004]), array([15.48376925]), array([34.56092676]), array([29.25791917]), array([68.65844038]), array([96.24569686]), array([31.79930837]), array([4.17767368]), array([50.20550882]), array([65.27415612]), array([75.54419915]), array([81.34755299]), array([34.79316109]), array([66.39418045]), array([91.83762523]), array([37.404211]), array([25.40158565]), array([41.28301203]), array([97.8856654]), array([81.32991037]), array([56.62256113]), array([11.69409662]), array([48.86597494]), array([35.27729924]), array([89.16836056]), array([20.11146912]), array([34.49452165]), array([58.53825871]), array([42.21716355]), array([56.02748284]), array([78.5802457]), array([90.73020019]), array([99.68410063]), array([39.40835106]), array([20.11379658]), array([75.53129502]), array([9.1293735]), array([99.12873287]), array([22.13570708]), array([74.33072609]), array([84.42904432]), array([98.95369087]), array([65.66803404]), array([7.83534887]), array([63.103473]), array([11.51477492]), array([71.30152878]), array([95.61111637]), array([67.80844354]), array([31.07430813]), array([12.52784084]), array([18.2788452]), array([95.96064313]), array([40.89311173]), array([71.50380745]), array([48.98218233]), array([15.09205519]), array([30.99577359]), array([63.51055311]), array([76.94158987]), array([69.32994154]), array([48.32372979]), array([97.82294804]), array([28.2841272]), array([43.6469748]), array([27.21403334]), array([82.55091756]), array([71.13923808]), array([11.55535998]), array([61.51766647]), array([16.19296814]), array([67.20178358]), array([96.67139565]), array([75.86748176]), array([79.73097348]), array([66.29546376]), array([49.5211986]), array([63.19163013]), array([82.0590463]), array([39.81691771]), array([78.83071999]), array([72.02951476]), array([79.45888457]), array([55.88215966]), array([10.81618415]), array([22.28705267]), array([66.51847471]), array([62.89376078]), array([43.56682753]), array([54.8198659]), array([59.89970271]), array([62.66955525]), array([32.39965101]), array([84.90218339]), array([44.33741099]), array([47.91186279]), array([60.37841351]), array([19.24032437]), array([29.02126756]), array([79.08265107]), array([24.1842128]), array([51.46966577]), array([44.20808937]), array([45.29064133]), array([93.87563032]), array([86.02516194]), array([25.7698242]), array([17.07401757]), array([15.53838078]), array([90.5743604]), array([47.21105653]), array([83.36573958]), array([77.95693811]), array([83.5278869]), array([99.29431965]), array([15.78526363]), array([59.8469281]), array([18.25871919]), array([65.41441544]), array([66.71507545]), array([20.37058523]), array([73.44924168]), array([1.83943263]), array([80.56850856]), array([4.17952242]), array([54.94537965]), array([97.28689006]), array([99.55612068]), array([7.73786483]), array([44.78448531]), array([70.66448264]), array([74.06897838]), array([49.76241645]), array([7.59829504]), array([42.47644776]), array([43.44609513]), array([64.29941499]), array([15.72303251]), array([5.08650528]), array([51.25600107]), array([38.43864465]), array([58.88518222]), array([88.34127785]), array([99.47680173]), array([57.11797847]), array([50.09644855]), array([15.29525194]), array([53.61246702]), array([9.6238783]), array([58.43214051]), array([30.54180454]), array([99.37495774]), array([7.25424203]), array([9.29434645]), array([44.48466096]), array([15.07124354]), array([50.27412456]), array([13.22389893]), array([28.3839342]), array([34.51480834]), array([89.40425614]), array([14.7207104]), array([28.85171389]), array([43.79665021]), array([45.50581205]), array([75.71184788]), array([13.38601892]), array([44.24027389]), array([71.62079667]), array([75.20621909]), array([68.25473829]), array([63.88478653]), array([32.86349817]), array([7.87617395]), array([14.56021019]), array([86.53092963]), array([43.89276045]), array([41.71379319]), array([16.35101313]), array([20.8887095]), array([40.16471504]), array([54.86133842]), array([27.4881258]), array([67.01341925]), array([68.42826284]), array([67.29162343]), array([58.2029778]), array([40.36931079]), array([21.69017993]), array([1.34780163]), array([58.75732938]), array([37.8561956]), array([59.83487181]), array([57.97515888]), array([40.20317893]), array([31.70614989]), array([56.81247663]), array([62.80310894]), array([41.93004164]), array([76.04715073]), array([24.5068426]), array([62.62623213]), array([64.59868327]), array([66.34070163]), array([69.48801345]), array([92.25125822]), array([33.24760215]), array([69.00777791]), array([93.39443206]), array([85.16832299]), array([44.90651122]), array([74.94938136]), array([61.99524058]), array([72.15794044]), array([19.40183844]), array([29.49403351]), array([19.87306145]), array([84.32656606]), array([98.7361299]), array([50.60724367]), array([52.02654635]), array([70.10712832]), array([72.0686153]), array([17.55405937]), array([16.01394628]), array([85.01198192]), array([85.84263196]), array([79.0412371]), array([81.77531484]), array([68.00934449]), array([19.66997524]), array([78.03449708]), array([60.33067485]), array([20.62929066]), array([58.87205201]), array([65.30437494]), array([64.22150496]), array([56.36332064]), array([99.31263151]), array([96.06451374]), array([34.75944543]), array([59.52015811]), array([83.9598994]), array([55.58841511]), array([30.73276329]), array([35.81154628]), array([11.33133641]), array([87.57778408]), array([86.80793521]), array([41.51105871]), array([37.70407269]), array([52.00600177]), array([81.65976322]), array([98.54339023]), array([14.6732144]), array([11.46332676]), array([62.42789647]), array([63.37088548]), array([44.23888126]), array([74.22407715]), array([33.87846983]), array([7.77081387]), array([41.54503872]), array([19.64498748]), array([74.59673959]), array([22.42972946]), array([69.17742301]), array([48.98813554]), array([88.80423899]), array([68.46064868]), array([60.6448561]), array([42.58607342]), array([26.68772394]), array([56.41563017]), array([69.44149885]), array([71.41360916]), array([56.16436777]), array([2.14366417]), array([67.19818534]), array([96.26325576]), array([48.53923965]), array([57.23313845]), array([60.45654611]), array([39.58735058]), array([4.17989068]), array([57.16447947]), array([67.85804653]), array([40.61851745]), array([68.33392782]), array([77.34576151]), array([44.2324746]), array([83.21782373]), array([97.32098328]), array([59.17463716]), array([23.67875921]), array([35.31395951]), array([43.8960357]), array([17.71263963]), array([30.03516809]), array([99.2716228]), array([61.13882079]), array([98.28971471]), array([11.90867035]), array([24.39467181]), array([35.17386739]), array([21.38666859]), array([80.55244327]), array([7.03626468]), array([72.68467482]), array([9.70123063]), array([93.01487862]), array([76.40477445]), array([26.06426097]), array([2.15811692]), array([55.19176604]), array([86.17913624]), array([2.13435297]), array([59.91810378]), array([72.71676917]), array([17.91444979]), array([91.42472758]), array([12.00991868]), array([28.02679218]), array([71.54857176]), array([0.888992]), array([44.2287884]), array([3.28997364]), array([59.13913104]), array([10.98140459]), array([10.90965752]), array([80.25732994]), array([58.24086688]), array([88.42089818]), array([55.40963562]), array([79.72416848]), array([64.60157978]), array([73.15178682]), array([33.07796322]), array([59.61751373]), array([75.31865425]), array([20.78453051]), array([58.80733966]), array([36.86105492]), array([83.70488138]), array([26.88175325]), array([12.99067159]), array([5.45257692]), array([84.43326867]), array([38.65306816]), array([63.02869284]), array([17.91190788]), array([19.04235752]), array([45.55706764]), array([76.99458585]), array([89.401643]), array([81.1245526]), array([60.46703158]), array([47.65086637]), array([33.66157216]), array([13.32343058]), array([19.06016687]), array([91.77850567]), array([80.61340952]), array([47.87135953]), array([42.37276479]), array([44.32801583]), array([11.39609716]), array([12.95055494]), array([30.53251074]), array([87.25332586]), array([68.71071964]), array([44.40560861]), array([97.64309166]), array([71.95799349]), array([19.41248397]), array([45.3291892]), array([84.44111031]), array([88.50023236]), array([64.49619495]), array([95.52827459]), array([68.53944254]), array([9.20454356]), array([24.79861233]), array([36.4284043]), array([99.38830787]), array([87.37308916]), array([20.56096475]), array([65.64588337]), array([39.84893194]), array([54.64954834]), array([28.60545786]), array([72.88024843]), array([63.53086043]), array([21.12056949]), array([6.268198]), array([51.18170602]), array([28.69507023]), array([34.50605826]), array([45.93423643]), array([37.24650785]), array([64.7023579]), array([93.8069558]), array([52.4861199]), array([30.5185541]), array([99.7430223]), array([15.17486817]), array([11.18064851]), array([39.45393074]), array([21.62760881]), array([62.99855605]), array([35.98427055]), array([60.04982419]), array([78.17191115]), array([38.52577746]), array([60.51408326]), array([72.14129365]), array([65.82555102]), array([40.89206177]), array([54.32801289]), array([87.31855709]), array([91.34102508]), array([63.25316839]), array([45.64057069]), array([31.04611703]), array([24.72860904]), array([34.39775354]), array([56.7032296]), array([76.36456128]), array([19.79881983]), array([79.81878785]), array([76.69453683]), array([72.70246976]), array([0.95352393]), array([67.59803435]), array([59.50060888]), array([93.18764161]), array([34.48028026]), array([6.56352037]), array([30.92225117]), array([34.55888068]), array([3.89999889]), array([54.66466746]), array([33.75463542]), array([85.00644301]), array([4.09945574]), array([3.82776041]), array([11.6339361]), array([64.43691763]), array([48.39417]), array([51.45522881]), array([28.66787505]), array([73.14761008]), array([4.35192515]), array([68.74789943]), array([50.1200872]), array([71.65655807]), array([66.23144037]), array([84.0631501]), array([99.7435045]), array([77.02597482]), array([10.82806736]), array([23.53786398]), array([93.73579028]), array([89.91553242]), array([23.64206765]), array([35.32236107]), array([86.23896856]), array([23.22598112]), array([73.66725626]), array([2.35282112]), array([67.57679599]), array([91.51255741]), array([74.72327118]), array([19.603576]), array([77.63963473]), array([49.92968925]), array([64.25752063]), array([72.97041666]), array([31.38106053]), array([27.86757203]), array([29.22823279]), array([15.79944]), array([82.66967501]), array([25.69902856]), array([87.18681503]), array([46.59309936]), array([98.85187277]), array([1.7169647]), array([30.41072049]), array([33.32442484]), array([62.54422608]), array([51.61069334]), array([58.10927932]), array([78.01573476]), array([50.35999861]), array([27.24892367]), array([5.64335984]), array([73.33465182]), array([15.98373676]), array([20.13812365]), array([98.56273588]), array([31.37467686]), array([63.32791411]), array([0.07287456]), array([98.6962646]), array([46.20190416]), array([41.60943788]), array([11.14131414]), array([13.67638958]), array([40.93027911]), array([73.86372154]), array([33.70623984]), array([45.37554896]), array([25.92162625]), array([88.57341421]), array([94.16674413]), array([93.93797731]), array([14.48978525]), array([5.29810315]), array([87.62615363]), array([50.68194737]), array([18.53197709]), array([19.8323468]), array([10.3841687]), array([75.10410873]), array([92.15670403]), array([56.54603308]), array([54.64499459]), array([47.78187975]), array([41.38401533]), array([97.12338216]), array([64.27804375]), array([6.34850735]), array([90.65394506]), array([3.92619949]), array([52.3051127]), array([49.72543736]), array([15.59710801]), array([25.48612633]), array([5.54615401]), array([51.28783769]), array([74.78772193]), array([80.78640142]), array([23.15173196]), array([78.72891743]), array([21.62639367]), array([33.23208622]), array([60.98017846]), array([95.78367596]), array([17.07601413]), array([11.52270815]), array([67.33336688]), array([63.95669442]), array([46.67572799]), array([35.89337519]), array([65.04312551]), array([9.55591743]), array([97.50791046]), array([94.99167794]), array([18.68543293]), array([78.31214677]), array([86.93554516]), array([45.09697068]), array([68.23513487]), array([48.22566822]), array([35.54898846]), array([68.22165457]), array([67.01239719]), array([78.67835852]), array([88.21099383]), array([25.1492192]), array([19.41676671]), array([73.80730774]), array([88.05296018]), array([91.68533694]), array([84.51083819]), array([34.07243629]), array([20.08414666]), array([56.34226474]), array([69.54580453]), array([86.02092489]), array([76.87085036]), array([39.87254642]), array([56.63542701]), array([54.65859287]), array([92.59290511]), array([93.689384]), array([68.56309058]), array([75.17308366]), array([85.99439992]), array([4.29942283]), array([21.8058579]), array([77.74923468]), array([41.37699178]), array([13.76392537]), array([52.48040164]), array([75.71777967]), array([34.01607103]), array([99.51093127]), array([15.96442741]), array([82.73793449]), array([29.22698375]), array([5.99858699]), array([59.93179066]), array([69.57975677]), array([91.26964435]), array([57.19429522]), array([97.11975227]), array([95.29547647]), array([82.55746788]), array([90.15083156]), array([35.59665927]), array([39.77194123]), array([65.47525291]), array([44.36840256]), array([0.15565516]), array([75.43970419]), array([86.10635016]), array([11.53204863]), array([85.95682775]), array([95.083231]), array([94.21271215]), array([98.25719441]), array([73.24651348]), array([94.72595328]), array([53.82801806]), array([47.19481294]), array([32.22507896]), array([54.88317738]), array([52.42800241]), array([28.57525465]), array([67.43001648]), array([18.76268923]), array([12.96034231]), array([70.96109946]), array([74.36595872]), array([39.20178326]), array([69.07004309]), array([39.80810298]), array([20.37667488]), array([80.0493419]), array([10.13858448]), array([22.28613425]), array([34.59094695]), array([54.26947572]), array([20.21132362]), array([87.07476442]), array([82.75422803]), array([24.0419397]), array([18.84353273]), array([91.43218333]), array([35.24474105]), array([46.19022752]), array([63.14294989]), array([27.55892013]), array([79.65134096]), array([69.60481456]), array([93.9975407]), array([59.00473195]), array([40.2308069]), array([0.8418182]), array([27.58761866]), array([91.68652993]), array([97.90701911]), array([66.65316977]), array([75.7512902]), array([58.7617454]), array([92.6308847]), array([27.0545531]), array([26.56162458]), array([88.26315879]), array([97.17943577]), array([47.76645139]), array([99.73963915]), array([37.10337839]), array([32.64001489]), array([74.51072837]), array([45.02255198]), array([73.12455495]), array([41.30087978]), array([91.14496925]), array([35.89570547]), array([25.71659422]), array([54.41919529]), array([61.95556148]), array([5.63519902]), array([31.60325896]), array([12.0213535]), array([57.30477324]), array([31.56503228]), array([39.92860978]), array([66.84739204]), array([14.59891008]), array([42.89918824]), array([52.32591898]), array([5.83318727]), array([10.0518749]), array([93.63016024]), array([98.82645834]), array([47.79211741]), array([61.23444123]), array([71.39354596]), array([30.96499508]), array([0.02459832]), array([15.99999952]), array([4.02710609]), array([27.2296609]), array([37.23222714]), array([16.72141135]), array([30.3332509]), array([90.73179634]), array([81.42376332]), array([6.55352661]), array([66.11616008]), array([71.76984036]), array([77.11191764]), array([39.55493803]), array([32.27987996]), array([72.88511147]), array([31.94638875]), array([44.48520406]), array([2.05882924]), array([31.14890207]), array([43.89494821]), array([49.74314903]), array([25.94050956]), array([35.42251856]), array([0.37328688]), array([87.57788093]), array([65.96933867]), array([8.93459833]), array([32.52029218]), array([11.14580461]), array([28.04098979]), array([39.15771611]), array([19.20214595]), array([72.61514933]), array([69.67342483]), array([94.95661842]), array([66.78000262]), array([41.72510987]), array([83.41942406]), array([94.0137605]), array([9.51399621]), array([9.13495841]), array([21.38783838]), array([45.97292613]), array([10.41759741]), array([98.96160366]), array([12.88258254]), array([58.77828091]), array([68.74872631]), array([40.10326053]), array([80.29130241]), array([34.05526258]), array([67.01617359]), array([39.26982362]), array([44.0184956]), array([1.69389088]), array([23.55809949]), array([13.11536817]), array([12.21240478]), array([68.59573537]), array([9.41930267]), array([63.97724793]), array([35.72062475]), array([51.60490832]), array([70.96419182]), array([45.28199782]), array([14.10924862]), array([68.97330826]), array([21.22375586]), array([94.16531058]), array([90.41166592]), array([38.32033271]), array([82.1675353]), array([15.06217708]), array([37.53739724]), array([50.23729025]), array([50.26972011]), array([51.81594566]), array([81.86931217]), array([53.35896116]), array([43.72060411]), array([64.4524771]), array([37.79807925]), array([71.12845123]), array([22.85949533]), array([73.29477134]), array([61.94010495]), array([39.41989109]), array([47.1847472]), array([52.8264094]), array([61.55122578]), array([99.05408839]), array([3.72058545]), array([30.13522017]), array([34.21789726]), array([49.66640318]), array([4.40373802]), array([31.82052505]), array([27.77275511]), array([61.10710033]), array([12.90074057]), array([45.42187893]), array([51.01672423]), array([7.02292323]), array([89.82570214]), array([73.83171365]), array([21.57167353]), array([62.61415728]), array([0.05724419]), array([21.51648391]), array([72.92756883]), array([21.24400889]), array([12.54088157]), array([67.34768891]), array([61.27876607]), array([90.23151989]), array([25.65490885]), array([76.07434573]), array([14.85537962]), array([27.68094066]), array([5.12046227]), array([14.21264443]), array([24.47099053]), array([54.0253145]), array([5.3945756]), array([10.95252254]), array([94.78991552]), array([70.1260748]), array([76.92017954]), array([50.02534078]), array([7.21752398]), array([90.09294865]), array([56.62898695]), array([54.73110771]), array([86.72981107]), array([55.12850831]), array([98.66037058]), array([66.0210885]), array([94.29213147]), array([57.29183516]), array([21.69892346]), array([96.60520949]), array([49.05942822]), array([73.86893392]), array([16.11809027]), array([93.94602977]), array([69.03150707]), array([97.95426276]), array([88.55293412]), array([14.8162756]), array([61.62757877]), array([65.77614941]), array([54.26704703]), array([74.75412528]), array([15.69147992]), array([82.35066627]), array([92.21074247]), array([92.65725461]), array([65.93456882]), array([67.855566]), array([5.27800357]), array([7.26129706]), array([11.32590834]), array([15.45120467]), array([66.3172466]), array([96.68288222]), array([90.08727495]), array([84.09780009]), array([30.66964426]), array([49.54466851]), array([52.12040228]), array([34.83010608]), array([94.45874989]), array([40.01439166]), array([57.3566131]), array([52.35970952]), array([3.1788662]), array([67.74206119]), array([22.9553374]), array([24.29567572]), array([13.6188435]), array([56.46902278]), array([71.85209475]), array([53.08024106]), array([64.33784011]), array([8.12377761]), array([61.05460997]), array([38.34701656]), array([34.28231626]), array([71.8742831]), array([15.15272497]), array([25.31341387]), array([47.90033144]), array([51.88594686]), array([6.66237182]), array([90.80985075]), array([2.43965163]), array([26.5854358]), array([32.60124419]), array([49.92594171]), array([84.57521937]), array([99.31045571]), array([17.72031228]), array([80.63962142]), array([74.59765787]), array([72.27397877]), array([84.85533199]), array([35.84806921]), array([35.11789302]), array([3.8601036]), array([45.16526893]), array([7.99442252]), array([4.08776555]), array([39.71334017]), array([98.95469317]), array([67.25775469]), array([8.54564757]), array([73.21182077]), array([0.48535176]), array([56.08904994]), array([31.00011162]), array([17.28796058]), array([38.87423911]), array([81.52693827]), array([81.2178797]), array([38.86222322]), array([13.71590322]), array([72.4284712]), array([29.201447]), array([76.29579675]), array([95.70930566]), array([60.76714414]), array([79.64819784]), array([70.53351909]), array([31.02471791]), array([61.05906102]), array([21.06608547]), array([43.83875104]), array([6.83749712]), array([13.45403239]), array([67.33443839]), array([32.13047123]), array([62.89724662]), array([61.92141831]), array([74.98218452]), array([74.90482001]), array([23.8120931]), array([24.1794508]), array([63.87509799]), array([53.75218247]), array([66.46150427]), array([61.14723709]), array([87.79359273]), array([10.45194189]), array([70.39802003]), array([29.25716623]), array([33.85798896]), array([42.52675073]), array([66.55914327]), array([89.60004866]), array([61.80889772]), array([82.88777918]), array([0.47323463]), array([84.09856751]), array([32.23212686]), array([5.71727697]), array([94.21097319]), array([92.86572904]), array([24.28226192]), array([57.34984717]), array([3.95464028]), array([12.62157104]), array([98.44468328]), array([37.82650391]), array([53.51250985]), array([95.76568789]), array([12.39734383]), array([0.30596276]), array([96.48441168]), array([68.90311167]), array([74.66915123]), array([46.26589412]), array([65.77352263]), array([99.70070678]), array([12.1441674]), array([93.4555093]), array([8.06953043]), array([47.51358092]), array([57.34648353]), array([70.03097062]), array([34.34737098]), array([14.19527547]), array([66.0246804]), array([45.72563137]), array([82.92811367]), array([19.5946995]), array([16.36246706]), array([86.01855521]), array([98.21807868]), array([89.95716221]), array([37.9290809]), array([79.54923505]), array([93.20767774]), array([75.48054112]), array([10.30834588]), array([86.1475558]), array([25.09319285]), array([20.08990686]), array([81.5140464]), array([23.23392033]), array([47.23534862]), array([67.95077861]), array([11.40745459]), array([37.81978982]), array([61.94983207]), array([77.27374525]), array([67.69555271]), array([90.71052586]), array([84.38268462]), array([67.87464254]), array([14.41263999]), array([46.5396977]), array([6.10594209]), array([20.01249923]), array([44.74988653]), array([3.40341736]), array([87.46750454]), array([21.36926542]), array([91.22682438]), array([56.09120354]), array([7.79939684]), array([73.5988209]), array([25.86446676]), array([62.79613866]), array([2.94501458]), array([27.42291159]), array([76.85987976]), array([94.85100566]), array([89.42267301]), array([17.40235207]), array([50.98149208]), array([4.55685012]), array([98.18065194]), array([98.07333945]), array([26.06492536]), array([67.11548086]), array([29.70144774]), array([56.41071153]), array([22.18235392]), array([42.82776083]), array([56.16438437]), array([92.62506162]), array([35.07332093]), array([40.62987242]), array([60.00868012]), array([54.20410544]), array([12.53970058]), array([59.01782633]), array([99.25699782]), array([11.04279585]), array([31.64673939]), array([10.36470902]), array([44.56929423]), array([63.00717622]), array([94.32752896]), array([59.90485158]), array([20.95215592]), array([1.35471485]), array([71.7130059]), array([50.36317969]), array([86.57154215]), array([66.87519623]), array([47.43886134]), array([43.3978294]), array([92.18923986]), array([55.66062291]), array([38.31136931]), array([71.92517347]), array([99.60843691]), array([10.5551536]), array([90.25383263]), array([31.46888961]), array([97.88894015]), array([26.24135902]), array([20.58143247]), array([89.86854698]), array([50.90247074]), array([68.53066057]), array([35.97016929]), array([15.81062671]), array([46.4703976]), array([17.61318884]), array([80.52243643]), array([9.64684998]), array([23.9018894]), array([35.83112263]), array([30.13179463]), array([83.58356074]), array([82.26642566]), array([76.88170876]), array([97.88393751]), array([30.21476544]), array([67.2659385]), array([1.31608926]), array([20.7374045]), array([97.89299243]), array([1.73348492]), array([92.20593549]), array([34.74809612]), array([46.66035689]), array([74.91915331]), array([26.63713566]), array([82.67333939]), array([65.45813376]), array([53.31781821]), array([67.76939098]), array([4.25059474]), array([66.57097245]), array([4.79223937]), array([42.25284568]), array([56.26442596]), array([92.18072056]), array([19.66270037]), array([20.1160402]), array([27.0486865]), array([23.12037477]), array([71.60151259]), array([83.10322284]), array([99.86570739]), array([87.88118461]), array([42.26891572]), array([35.97000996]), array([21.7405218]), array([58.1114618]), array([8.95643453]), array([88.33255999]), array([43.40097792]), array([60.23549136]), array([5.76703453]), array([88.71572125]), array([47.75008471]), array([25.97626293]), array([55.05455081]), array([33.75077994]), array([79.17406955]), array([43.6400185]), array([67.66863624]), array([45.56497878]), array([10.34105066]), array([49.33147033]), array([58.7955992]), array([9.64747468]), array([83.97667309]), array([56.30231735]), array([89.8428419]), array([81.7243901]), array([82.52906715]), array([82.35457496]), array([77.8974606]), array([11.38788742]), array([56.68242234]), array([73.41436962]), array([11.68640533]), array([93.72446896]), array([19.52600732]), array([27.41936639]), array([86.14689858]), array([40.68570594]), array([54.89362591]), array([90.45587989]), array([55.72426723]), array([50.58426283]), array([94.14933343]), array([69.33144457]), array([56.72431565]), array([82.01945383]), array([23.7065609]), array([52.00700718]), array([16.93262443]), array([58.77888044]), array([20.25702998]), array([82.98652413]), array([12.28722237]), array([60.05968509]), array([86.18844379]), array([13.56926883]), array([7.20869282]), array([76.85017577]), array([25.4806751]), array([99.94845346]), array([53.49140426]), array([56.02641553]), array([61.81027974]), array([8.5421837]), array([28.62661177]), array([98.25282614]), array([67.87899553]), array([94.51495859]), array([28.69294267]), array([80.94996321]), array([43.45753109]), array([27.59643747]), array([67.53723548]), array([17.65876076]), array([32.05392185]), array([55.53041197]), array([69.8532556]), array([20.97152969]), array([98.11351102]), array([81.00750014]), array([8.54574534]), array([51.00793529]), array([2.40746143]), array([59.30516592]), array([16.88897333]), array([79.43648439]), array([91.1939956]), array([45.85892055]), array([71.30150757]), array([97.54736462]), array([58.95893712]), array([95.90015034]), array([88.00884842]), array([79.15094865]), array([58.14877266]), array([12.69506947]), array([17.81201532]), array([84.70042412]), array([96.35009868]), array([87.28816869]), array([0.16649702]), array([83.23465568]), array([64.22273772]), array([61.9516126]), array([81.20596261]), array([93.10193157]), array([44.1052909]), array([97.32572627]), array([32.48666088]), array([63.33873418]), array([38.98108391]), array([61.40006836]), array([58.17283911]), array([34.14982371]), array([36.88779611]), array([36.97938895]), array([24.64042327]), array([15.49063099]), array([36.76428893]), array([39.25219577]), array([85.80829539]), array([66.12130642]), array([67.390545]), array([82.9644584]), array([90.95631514]), array([70.43189967]), array([41.60164091]), array([79.46881349]), array([21.2413468]), array([79.95779849]), array([95.18968739]), array([99.43993341]), array([39.21155891]), array([54.32172997]), array([4.21170602]), array([71.46287104]), array([54.41321371]), array([7.15129622]), array([98.32154054]), array([68.17574475]), array([5.27581575]), array([17.09792426]), array([82.06719668]), array([62.28120188]), array([66.58258284]), array([52.76507895]), array([31.84717163]), array([39.94220047]), array([85.83949677]), array([71.99730165]), array([3.17896601]), array([28.49288134]), array([70.32826351]), array([13.48421744]), array([43.01373403]), array([80.75656452]), array([63.1647206]), array([92.29059744]), array([75.77994668]), array([52.18252982]), array([19.18762098]), array([25.15708091]), array([20.79477553]), array([29.20531792]), array([6.72889271]), array([28.27166177]), array([88.96228947]), array([15.11625443]), array([21.67093506]), array([9.4278844]), array([58.20157782]), array([35.71233567]), array([21.91261379]), array([0.43588679]), array([56.63521929]), array([29.56699728]), array([8.88524932]), array([37.49954804]), array([54.71773436]), array([54.24801447]), array([72.77147403]), array([77.44459082]), array([8.85669291]), array([63.45772634]), array([38.00347329]), array([45.95734122]), array([47.8780353]), array([49.09675005]), array([96.71963826]), array([49.40623612]), array([72.35523854]), array([87.87829908]), array([63.59549034]), array([89.01343645]), array([56.41815002]), array([69.36655235]), array([36.24730548]), array([77.31715307]), array([41.08835172]), array([83.17512712]), array([31.05342586]), array([42.59124734]), array([88.49656051]), array([99.34617295]), array([60.7366552]), array([25.94873607]), array([33.76152906]), array([45.30347971]), array([20.03258538]), array([3.17030395]), array([87.2383641]), array([58.5034595]), array([55.4137726]), array([79.88226053]), array([18.94558677]), array([7.51785659]), array([16.18448195]), array([19.29394885]), array([8.47990688]), array([69.06035088]), array([98.54595747]), array([92.55301944]), array([41.87403708]), array([51.04208732]), array([59.19575737]), array([18.80430829]), array([53.89988213]), array([16.50664794]), array([92.88603217]), array([83.33414571]), array([7.90471936]), array([14.70687584]), array([65.30882656]), array([75.44537594]), array([73.72567115]), array([8.55830904]), array([73.46649791]), array([71.2128718]), array([86.16861061]), array([1.36695768]), array([75.30807073]), array([88.82879852]), array([30.08485965]), array([76.56769202]), array([6.35102734]), array([51.44734885]), array([0.93218157]), array([43.99242287]), array([51.67235454]), array([94.0639136]), array([83.73761558]), array([35.56086206]), array([29.73047252]), array([47.94896313]), array([99.40560058]), array([40.40243605]), array([41.380852]), array([89.42784899]), array([99.72268288]), array([2.74579343]), array([48.82721029]), array([25.64056775]), array([87.65255363]), array([57.38550139]), array([40.16024144]), array([57.17745716]), array([14.11378404]), array([87.90790526]), array([30.53969316]), array([69.01599908]), array([75.33930223]), array([54.73734648]), array([23.21123234]), array([7.80978089]), array([98.6982963]), array([72.97301413]), array([84.34288256]), array([92.90292309]), array([47.30018557]), array([15.53472101]), array([69.5493743]), array([75.90300994]), array([4.30262049]), array([5.34037988]), array([61.02500375]), array([37.62899621]), array([79.53902983]), array([23.42922461]), array([91.93596241]), array([16.83443482]), array([24.21927473]), array([54.99084607]), array([64.39694991]), array([35.54294313]), array([82.73425819]), array([42.33392745]), array([91.38362907]), array([65.18883856]), array([47.08409984]), array([85.43569747]), array([10.01383283]), array([47.68973246]), array([81.00121103]), array([94.1515007]), array([48.98593311]), array([55.30527983]), array([88.3502511]), array([1.58452538]), array([57.91329512]), array([70.22385401]), array([86.63323818]), array([2.33379698]), array([98.62676188]), array([77.99119656]), array([24.57980872]), array([22.07345306]), array([61.31092752]), array([87.39706351]), array([33.95477383]), array([47.61111321]), array([37.14984088]), array([23.29607747]), array([48.83838181]), array([96.30452189]), array([72.81886103]), array([13.67934409]), array([35.28804808]), array([33.65564887]), array([18.31630538]), array([32.80791113]), array([90.69543345]), array([67.31635209]), array([33.16580265]), array([55.62707363]), array([76.42131379]), array([37.58558295]), array([53.05290289]), array([78.22284442]), array([20.41606481]), array([60.69518567]), array([2.42225263]), array([80.16569406]), array([76.47374462]), array([93.92001022]), array([7.44954259]), array([18.55105528]), array([71.95182473]), array([33.12157382]), array([51.79042215]), array([53.49739802]), array([29.15043425]), array([26.99155572]), array([85.90592867]), array([13.40441244]), array([69.25789068]), array([41.88889951]), array([46.07709705]), array([90.79246065]), array([33.72735458]), array([94.08333797]), array([44.97941176]), array([88.21737743]), array([99.59946282]), array([65.42939416]), array([49.56049372]), array([46.07913086]), array([77.1023021]), array([96.18519384]), array([5.67755079]), array([60.5095122]), array([94.42107439]), array([46.99207032]), array([45.80562761]), array([90.07491854]), array([52.2148249]), array([5.68057254]), array([39.26878682]), array([63.69242742]), array([96.34456266]), array([63.34865656]), array([79.4158726]), array([27.1627998]), array([28.53134825]), array([11.02224655]), array([89.49325693]), array([32.82109358]), array([30.56727859]), array([14.97391488]), array([23.58961426]), array([24.09163844]), array([53.33369823]), array([21.87649176]), array([26.0284864]), array([16.81778584]), array([62.809278]), array([79.77863523]), array([14.83283275]), array([15.01327666]), array([29.78132768]), array([65.04962024]), array([40.02679601]), array([36.49174226]), array([26.476862]), array([17.85375506]), array([98.81254553]), array([7.42991424]), array([68.28511816]), array([40.39616265]), array([30.9317117]), array([99.07133554]), array([15.55002365]), array([58.20670434]), array([97.05472747]), array([78.08249547]), array([64.79037464]), array([3.51103674]), array([56.49599359]), array([78.94148415]), array([26.95690895]), array([71.89103935]), array([1.66682191]), array([44.05941662]), array([55.54025217]), array([27.59220676]), array([46.29848568]), array([43.93674304]), array([77.87594705]), array([43.20332793]), array([91.85905785]), array([35.22912753]), array([13.42080738]), array([91.06268447]), array([19.65374358]), array([50.61393775]), array([68.93413933]), array([83.78669697]), array([8.89020144]), array([21.94745147]), array([89.25312793]), array([4.84546015]), array([48.89845269]), array([31.87053992]), array([64.82133566]), array([30.6544573]), array([8.7436658]), array([76.41873641]), array([64.80386527]), array([48.13216775]), array([25.96399342]), array([16.79429081]), array([25.18275394]), array([30.22838199]), array([66.02051735]), array([43.14796212]), array([20.92903174]), array([66.18007956]), array([24.37865032]), array([7.01118223]), array([48.56448926]), array([35.28389905]), array([98.39087466]), array([63.9493949]), array([45.31541949]), array([7.23959356]), array([51.16913508]), array([19.90312978]), array([5.59147006]), array([15.38581223]), array([93.70169733]), array([75.46981748]), array([44.82445188]), array([32.89857749]), array([10.39267993]), array([10.06959617]), array([15.38883146]), array([85.22099911]), array([78.37345873]), array([33.14865202]), array([44.60291134]), array([10.6276277]), array([87.27925598]), array([29.18046477]), array([75.2739473]), array([98.06034848]), array([7.20264071]), array([43.24432808]), array([2.52386721]), array([33.70188935]), array([10.55936961]), array([96.60867111]), array([63.20020344]), array([18.57777633]), array([91.92479075]), array([28.11515959]), array([77.56164528]), array([50.29325533]), array([34.66694224]), array([26.34780764]), array([58.72964935]), array([90.35652198]), array([20.57297487]), array([14.4322062]), array([56.98544312]), array([45.68146015]), array([97.76692581]), array([32.56991002]), array([7.0597917]), array([80.99581605]), array([94.84788653]), array([84.59816922]), array([59.4554245]), array([10.52660905]), array([17.77010556]), array([17.55195303]), array([88.76753223]), array([76.73159231]), array([21.76449395]), array([19.00879556]), array([33.32975287]), array([59.43841487]), array([93.47070381]), array([19.6617295]), array([91.59996393]), array([98.81665877]), array([31.68631201]), array([13.99976772]), array([9.11486738]), array([87.06372805]), array([8.56794489]), array([46.92187785]), array([79.49678121]), array([72.35497048]), array([21.36778884]), array([58.41782831]), array([7.77044487]), array([59.57212911]), array([64.77306555]), array([68.71003528]), array([90.10760974]), array([88.23828205]), array([35.08969513]), array([61.27729388]), array([94.38487125]), array([45.47690728]), array([6.15960646]), array([11.89262211]), array([92.52555025]), array([17.60644884]), array([83.09357374]), array([62.48528719]), array([61.70207173]), array([17.81302713]), array([0.36342946]), array([21.64266178]), array([52.15697969]), array([23.12570626]), array([58.60256648]), array([79.14076488]), array([89.47638453]), array([63.32616085]), array([17.83540423]), array([7.07320665]), array([15.64839633]), array([6.963386]), array([30.367108]), array([81.11888984]), array([73.67042285]), array([20.90946001]), array([1.91644759]), array([7.89386142]), array([3.27555278]), array([64.02411889]), array([7.78469167]), array([82.2112292]), array([96.388919]), array([67.9573517]), array([4.57706401]), array([41.63602333]), array([27.83763245]), array([6.47758875]), array([32.22910204]), array([11.55880789]), array([28.23063563]), array([84.23280342]), array([19.74050114]), array([20.25468917]), array([82.22447985]), array([32.44658075]), array([11.86693904]), array([26.23475082]), array([95.68230544]), array([82.09626268]), array([19.12073783]), array([36.15020425]), array([55.48448408]), array([54.68314037]), array([78.01396055]), array([49.64664154]), array([56.5483404]), array([73.51727944]), array([75.20355]), array([33.99522725]), array([94.54943425]), array([57.01229504]), array([96.25872901]), array([47.55103656]), array([46.07769537]), array([10.66521701]), array([38.26674314]), array([35.51922628]), array([27.32961442]), array([81.00879441]), array([14.82469495]), array([93.22690604]), array([19.5532277]), array([5.79523106]), array([91.55207262]), array([42.60080135]), array([19.63117742]), array([4.3013534]), array([13.32716382]), array([33.96058075]), array([35.21255496]), array([97.01651408]), array([36.66819227]), array([63.37507024]), array([68.15835076]), array([54.93306141]), array([52.79716411]), array([23.3965604]), array([6.50751972]), array([35.96908757]), array([66.7614234]), array([58.69194387]), array([77.45603915]), array([64.14326036]), array([27.41050445]), array([43.72586059]), array([6.06887593]), array([93.60827564]), array([4.74128954]), array([87.45389135]), array([40.32294847]), array([45.52964151]), array([67.50830658]), array([27.06760094]), array([15.67686529]), array([67.14131226]), array([39.85432541]), array([64.87897501]), array([72.43975392]), array([42.71017601]), array([77.48851406]), array([62.69233283]), array([21.56682218]), array([35.35887736]), array([44.58747867]), array([10.52900378]), array([30.25602808]), array([54.30792647]), array([73.81775469]), array([91.3760832]), array([97.84423367]), array([57.92755428]), array([80.37357671]), array([97.55787879]), array([80.65512595]), array([47.46879079]), array([8.91873483]), array([24.31208043]), array([46.91498825]), array([65.18204971]), array([7.37407863]), array([96.81265175]), array([6.61493416]), array([73.09970001]), array([54.4911691]), array([10.99060229]), array([32.08245214]), array([28.58702408]), array([94.49672961]), array([2.07758777]), array([57.15121893]), array([48.84117179]), array([66.46862628]), array([80.95579144]), array([77.84247736]), array([32.84213075]), array([72.31153936]), array([80.7735793]), array([98.98977581]), array([78.76850035]), array([14.33638741]), array([61.57990818]), array([82.13840299]), array([45.62741009]), array([3.36819845]), array([10.09140388]), array([63.17111825]), array([59.83826174]), array([71.64680946]), array([72.09072185]), array([15.93032781]), array([43.97126722]), array([68.46635297]), array([8.05674162]), array([47.83706263]), array([1.38925445]), array([5.0586434]), array([51.37630657]), array([85.77923429]), array([81.74584892]), array([17.35287192]), array([38.60634565]), array([38.01698555]), array([22.39631145]), array([25.72328582]), array([47.97609179]), array([16.34764638]), array([34.83161121]), array([47.66748872]), array([3.13590975]), array([78.74625683]), array([80.4656253]), array([92.77970073]), array([42.31059374]), array([52.96268491]), array([39.32449287]), array([46.59051886]), array([23.79856995]), array([26.87013065]), array([66.18625866]), array([35.10881688]), array([74.01451539]), array([26.19417931]), array([91.29110256]), array([51.91508681]), array([73.22279659]), array([3.40022791]), array([46.18725159]), array([58.56219513]), array([10.59836395]), array([49.56349884]), array([59.35693923]), array([9.37129634]), array([31.75986599]), array([88.0239503]), array([22.97761753]), array([89.0787467]), array([61.08652693]), array([13.48095092]), array([45.81613058]), array([85.37331285]), array([80.40704814]), array([51.86004264]), array([9.48215291]), array([59.23738207]), array([32.402618]), array([88.32384948]), array([94.48082461]), array([60.53706696]), array([90.50752939]), array([5.44811578]), array([84.62579773]), array([95.12232037]), array([12.4323604]), array([23.6596567]), array([52.75942942]), array([7.489934]), array([48.61624213]), array([0.96942858]), array([93.32317084]), array([67.8311066]), array([78.34893318]), array([99.93388993]), array([2.06698994]), array([95.40417222]), array([55.34338397]), array([95.57026916]), array([96.72728148]), array([19.72353369]), array([89.26818112]), array([72.69058338]), array([37.01372348]), array([99.69448485]), array([50.62932144]), array([25.27836078]), array([32.31114978]), array([92.16169039]), array([35.93602506]), array([16.99059499]), array([33.23093291]), array([93.23715511]), array([25.93302003]), array([49.31025463]), array([18.08373041]), array([14.67358279]), array([1.20720855]), array([38.78815327]), array([79.72323661]), array([71.56349458]), array([28.89966775]), array([25.35024833]), array([75.37425386]), array([66.83801294]), array([4.52909074]), array([80.36192082]), array([49.37722185]), array([94.22863787]), array([22.21287856]), array([42.83854545]), array([67.3513065]), array([48.72652318]), array([14.94810146]), array([26.85968374]), array([39.67167461]), array([80.812036]), array([19.18786238]), array([92.82379939]), array([38.47197811]), array([53.13359536]), array([2.74519578]), array([33.21705183]), array([1.45954733]), array([99.19046573]), array([74.52551673]), array([87.0287934]), array([34.51695221]), array([39.02090003]), array([83.5523057]), array([3.31569062]), array([4.65776443]), array([37.3819624]), array([71.23594925]), array([49.26897633]), array([38.5190749]), array([7.1125838]), array([74.04791682]), array([38.02374705]), array([86.22757282]), array([22.99236957]), array([78.99336342]), array([87.42190705]), array([9.17268326]), array([59.24770937]), array([68.97117406]), array([66.02386708]), array([1.60886456]), array([99.69315776]), array([32.93770467]), array([64.59206615]), array([49.51200921]), array([11.74201458]), array([14.56050918]), array([14.37043399]), array([7.22193285]), array([98.85045347]), array([97.17560799]), array([9.4609301]), array([97.34320632]), array([52.29304771]), array([31.13630292]), array([15.03902992]), array([0.84153502]), array([53.42289988]), array([8.48321624]), array([97.96379969]), array([73.8390105]), array([48.73052646]), array([94.60459334]), array([7.61259581]), array([95.02493808]), array([33.63675985]), array([48.44723099]), array([51.40558816]), array([88.10627679]), array([2.64868038]), array([45.356735]), array([76.00476318]), array([7.28525501]), array([26.86802354]), array([51.66685462]), array([37.2628507]), array([95.45736387]), array([88.18868603]), array([3.66925801]), array([13.45452042]), array([24.82202824]), array([18.2623667]), array([66.03249537]), array([65.42129102]), array([76.11485087]), array([5.7243132]), array([93.86621519]), array([91.26122987]), array([37.5576547]), array([68.76772413]), array([57.65606351]), array([3.59864693]), array([91.49013379]), array([53.3188412]), array([65.03066432]), array([23.42349588]), array([96.18513298]), array([62.53321244]), array([66.64093579]), array([7.93976269]), array([79.92997788]), array([27.16661508]), array([65.33876017]), array([69.79307999]), array([89.5723497]), array([46.032243]), array([43.41077818]), array([35.40391935]), array([66.86102037]), array([20.54281603]), array([26.25146527]), array([22.35525286]), array([42.86143371]), array([55.54439398]), array([19.90023801]), array([0.6358757]), array([81.24728807]), array([3.22530975]), array([66.52291794]), array([5.27325632]), array([58.8298076]), array([17.3011382]), array([52.35481106]), array([18.28169834]), array([73.25524561]), array([37.01766669]), array([86.9608422]), array([33.65540976]), array([39.73840408]), array([1.37498688]), array([15.02881338]), array([38.91144843]), array([84.7700299]), array([66.91256161]), array([53.01019674]), array([18.12652938]), array([44.91181355]), array([1.46333238]), array([97.77385011]), array([29.09117845]), array([11.16668111]), array([65.91180037]), array([13.98787446]), array([97.59347805]), array([17.90518172]), array([26.57370395]), array([91.88720693]), array([79.90658465]), array([52.25883737]), array([50.38510148]), array([1.66679516]), array([53.69918585]), array([67.00699405]), array([72.7923366]), array([78.48489953]), array([19.49991497]), array([78.59388391]), array([11.27644792]), array([66.24878436]), array([45.8038677]), array([64.8637191]), array([52.01709141]), array([39.9581291]), array([1.10079432]), array([13.40993342]), array([9.05482512]), array([48.16018693]), array([12.19529566]), array([92.51892758]), array([9.00748075]), array([31.54271796]), array([8.13537732]), array([92.36954107]), array([61.78817406]), array([97.35195008]), array([57.63675818]), array([65.61379989]), array([58.59810286]), array([27.06294117]), array([7.49501317]), array([86.09838209]), array([24.64484869]), array([67.31214465]), array([69.58032592]), array([77.31475329]), array([26.62710175]), array([37.18138677]), array([20.75985704]), array([13.86223801]), array([9.26003805]), array([83.14209032]), array([41.02258998]), array([60.78073614]), array([55.43293663]), array([49.58012873]), array([91.38181651]), array([91.07884364]), array([13.08231982]), array([89.21576275]), array([7.59382526]), array([53.69672816]), array([92.65235616]), array([5.41088847]), array([2.00928817]), array([45.60172067]), array([10.72882144]), array([10.80322342]), array([30.26517933]), array([44.65855189]), array([71.26972562]), array([41.47506511]), array([61.05337353]), array([89.96332968]), array([61.10808776]), array([26.17780623]), array([95.9076965]), array([85.53718558]), array([3.44113881]), array([28.25940845]), array([48.19903455]), array([55.30013145]), array([5.41868059]), array([94.61856356]), array([10.14970356]), array([36.75767887]), array([6.53450035]), array([75.66691567]), array([78.00590342]), array([0.34397019]), array([75.49222461]), array([74.35233838]), array([12.67566638]), array([23.18450149]), array([29.37457274]), array([71.73033563]), array([92.63610311]), array([3.80904449]), array([68.19183509]), array([86.101528]), array([44.32886841]), array([56.70118826]), array([79.50734256]), array([12.70496891]), array([22.78209246]), array([46.4045525]), array([48.94764903]), array([57.08685686]), array([52.28396311]), array([85.02860192]), array([87.90898949]), array([43.88133694]), array([99.07596182]), array([0.55230973]), array([29.7615714]), array([33.99544636]), array([1.50284825]), array([20.12984361]), array([38.24290073]), array([71.65151689]), array([11.94695147]), array([21.69272513]), array([21.72940044]), array([66.92529111]), array([31.04057948]), array([89.21088112]), array([42.79908214]), array([53.56572986]), array([65.12844481]), array([72.23342048]), array([6.4583105]), array([27.34407777]), array([12.86294597]), array([98.86540393]), array([14.36767828]), array([8.3386645]), array([6.11285132]), array([95.36231014]), array([24.49661949]), array([86.14063032]), array([69.20317721]), array([71.65763381]), array([19.21437068]), array([59.72037844]), array([58.93202513]), array([46.20608152]), array([90.93181516]), array([52.44884335]), array([93.52218012]), array([18.22732358]), array([21.03947947]), array([51.62673514]), array([15.23688395]), array([13.02271046]), array([29.30676346]), array([66.88120261]), array([34.89532932]), array([93.53428092]), array([17.97646686]), array([84.86719479]), array([5.52539327]), array([18.95966324]), array([87.1158602]), array([75.65943194]), array([21.66924053]), array([5.51015226]), array([3.84509049]), array([58.30462519]), array([87.24666573]), array([42.16426255]), array([62.32094031]), array([15.11364196]), array([36.77255458]), array([53.71491156]), array([93.49462833]), array([73.19401776]), array([50.9653563]), array([45.05743643]), array([31.98815544]), array([17.95706397]), array([47.22201109]), array([78.10891521]), array([84.27198239]), array([94.59320515]), array([63.46127007]), array([41.99042198]), array([21.64066941]), array([96.67161071]), array([67.07316771]), array([4.74294346]), array([99.81387205]), array([84.82540301]), array([79.0916769]), array([1.53546419]), array([4.10050628]), array([82.61492637]), array([67.3547768]), array([96.09595376]), array([56.1922904]), array([92.64775819]), array([99.14438967]), array([76.27939842]), array([9.05029783]), array([80.55292154]), array([85.42704844]), array([92.34620844]), array([18.19264896]), array([4.34067765]), array([95.23445213]), array([99.94841353]), array([52.41218629]), array([39.44551312]), array([62.36276529]), array([73.61778436]), array([69.40967139]), array([46.17361175]), array([72.69696325]), array([7.32464282]), array([86.05310155]), array([83.61800214]), array([51.76943248]), array([2.52918756]), array([17.98828818]), array([0.1691288]), array([10.0911244]), array([68.23423605]), array([90.57285609]), array([97.88099866]), array([1.80636404]), array([39.75385875]), array([58.38066123]), array([52.8529779]), array([62.62645557]), array([90.50075718]), array([78.08151894]), array([51.96689952]), array([93.8962542]), array([14.55288762]), array([22.69712497]), array([28.18029848]), array([26.80233337]), array([49.73527673]), array([34.92124615]), array([6.47714279]), array([4.55839214]), array([7.39065488]), array([36.89649897]), array([15.38564284]), array([63.60808913]), array([53.6399882]), array([29.24057988]), array([5.84621666]), array([16.58591276]), array([51.18699666]), array([16.29367054]), array([46.19785997]), array([43.81875389]), array([93.76815375]), array([80.4915394]), array([86.03886035]), array([31.08606024]), array([2.36364606]), array([4.05836615]), array([1.32388754]), array([16.56888024]), array([51.17848545]), array([18.00559321]), array([30.52281068]), array([35.80042179]), array([40.8741864]), array([27.93278993]), array([68.44883387]), array([36.02272844]), array([28.3971324]), array([77.30067]), array([82.67623994]), array([41.10377589]), array([59.21290397]), array([4.06261835]), array([74.36160062]), array([78.20583234]), array([30.35644112]), array([28.60610133]), array([25.0690681]), array([24.48064359]), array([9.74421722]), array([73.66532534]), array([46.88201094]), array([24.98383778]), array([19.47402227]), array([54.36541458]), array([43.48122871]), array([10.84285255]), array([60.3663768]), array([87.29943241]), array([44.21542259]), array([86.33026956]), array([22.87809425]), array([0.36890823]), array([96.51654705]), array([23.80182857]), array([57.5034567]), array([47.85189582]), array([19.52800876]), array([45.08882888]), array([94.07169534]), array([36.47507763]), array([94.56086419]), array([89.36241749]), array([76.20390859]), array([84.77130307]), array([52.071957]), array([74.97524531]), array([93.32948652]), array([2.40360042]), array([80.23181201]), array([11.7391611]), array([21.7895262]), array([73.48314476]), array([9.99679906]), array([22.52261055]), array([20.38939882]), array([72.49623325]), array([93.28666296]), array([68.76044007]), array([64.77394667]), array([8.89168256]), array([9.04201795]), array([75.03357507]), array([28.42438719]), array([1.10143207]), array([4.94569623]), array([36.41218168]), array([12.23288494]), array([64.07415571]), array([91.02921776]), array([53.72218073]), array([74.58198915]), array([85.25271479]), array([74.26095987]), array([95.32624665]), array([5.74821005]), array([41.8468126]), array([70.93438456]), array([85.40102091]), array([36.55048524]), array([59.58027243]), array([45.64596201]), array([90.41533443]), array([90.00439821]), array([70.05538038]), array([56.79998558]), array([24.96589872]), array([99.10001328]), array([85.40793349]), array([41.89951486]), array([91.1797637]), array([58.37807661]), array([14.01919687]), array([99.99739945]), array([19.36563969]), array([73.60458936]), array([74.4269586]), array([54.89092793]), array([52.64609357]), array([52.86174877]), array([73.83221396]), array([80.47988041]), array([44.16751515]), array([92.9556848]), array([10.17485875]), array([28.57334536]), array([58.83543455]), array([49.76764569]), array([25.88662521]), array([32.2409476]), array([90.32920988]), array([32.8784511]), array([76.84601559]), array([34.36384604]), array([70.42449089]), array([84.09847898]), array([84.41748479]), array([79.20067171]), array([32.67180466]), array([36.96788734]), array([82.26382494]), array([67.73832426]), array([77.0166971]), array([27.10112493]), array([3.51269199]), array([32.63072237]), array([96.98773113]), array([79.71502521]), array([38.16528767]), array([23.78798415]), array([7.002688]), array([18.10882237]), array([99.41870589]), array([1.5092093]), array([22.38277041]), array([48.97625892]), array([91.00267835]), array([11.67522392]), array([8.46087264]), array([18.08614113]), array([55.81406342]), array([79.94484495]), array([21.35258443]), array([33.77827047]), array([84.16720044]), array([82.0248801]), array([52.7134149]), array([1.9702671]), array([78.30493772]), array([13.8877782]), array([72.53528845]), array([78.96049284]), array([76.55351379]), array([79.45888196]), array([36.5002112]), array([66.96939435]), array([25.41689891]), array([24.46072019]), array([57.39982204]), array([43.9376452]), array([5.93106319]), array([27.80459349]), array([67.30725967]), array([82.09504961]), array([15.55096002]), array([92.70529358]), array([90.63735225]), array([56.66311415]), array([0.84760597]), array([12.08053044]), array([66.1312954]), array([11.02795214]), array([54.61721006]), array([80.05304934]), array([9.09474373]), array([89.2242701]), array([0.56565475]), array([49.97006091]), array([97.64208569]), array([99.9110917]), array([6.52206668]), array([32.47627816]), array([27.11420511]), array([89.5744754]), array([95.23826618]), array([10.99308695]), array([46.77150773]), array([92.36275051]), array([84.45991246]), array([33.5974141]), array([75.03920398]), array([97.53425636]), array([71.56110319]), array([43.53833964]), array([45.65619483]), array([74.1713479]), array([64.3628339]), array([75.87444339]), array([89.45962792]), array([91.37680883]), array([1.80502491]), array([54.00302954]), array([69.78524996]), array([90.79959009]), array([84.35918746]), array([71.91868905]), array([98.04979411]), array([2.37231309]), array([6.49779243]), array([12.85298808]), array([81.84219881]), array([41.06631139]), array([56.65244822]), array([5.54700431]), array([27.70931513]), array([35.2224161]), array([23.03120709]), array([85.34050923]), array([24.56382058]), array([89.52028286]), array([87.49806393]), array([31.97745792]), array([56.52528415]), array([32.68644323]), array([53.97667138]), array([84.35330274]), array([71.61147007]), array([19.45158177]), array([26.85861663]), array([6.40596929]), array([41.57862413]), array([41.96848218]), array([88.63477439]), array([20.55710858]), array([57.63334025]), array([35.76004342]), array([95.49623763]), array([9.34601336]), array([44.65557843]), array([25.06836339]), array([87.43171576]), array([27.74073915]), array([73.37055554]), array([91.38382393]), array([19.42685444]), array([14.46167106]), array([79.29901134]), array([43.38861797]), array([36.61041772]), array([69.9613076]), array([35.61612084]), array([42.06658231]), array([34.73368055]), array([52.91543628]), array([77.34051495]), array([85.13444619]), array([34.03341244]), array([75.19605786]), array([24.50054153]), array([83.56531149]), array([87.53408396]), array([41.99119352]), array([49.88528199]), array([4.26513298]), array([13.18891336]), array([32.01426219]), array([90.91819508]), array([14.85628611]), array([19.83963907]), array([34.24488961]), array([65.89742652]), array([72.77603549]), array([81.79348322]), array([36.27907164]), array([46.4205624]), array([17.65812899]), array([47.2693939]), array([50.68651236]), array([21.80775897]), array([28.42235506]), array([11.30030391]), array([92.48613894]), array([96.69260906]), array([79.03397027]), array([84.17604062]), array([65.49879914]), array([17.51858946]), array([69.34404625]), array([72.58195615]), array([74.67398098]), array([48.49227297]), array([24.76468589]), array([28.71731547]), array([86.22757947]), array([71.56180467]), array([85.76345891]), array([2.37791086]), array([4.00278578]), array([57.08697144]), array([90.26624071]), array([4.64226354]), array([50.17779099]), array([54.61802292]), array([86.96940641]), array([65.19256263]), array([77.9439125]), array([27.56693708]), array([23.97041815]), array([68.92682731]), array([32.95124831]), array([40.82994118]), array([43.93851711]), array([89.19060354]), array([46.50843142]), array([95.20875009]), array([38.20556717]), array([17.27978806]), array([48.64955829]), array([35.25768011]), array([60.92575115]), array([94.08310214]), array([78.65713915]), array([30.84251925]), array([6.4951975]), array([14.46879669]), array([78.36569608]), array([22.1176459]), array([45.66907596]), array([60.74390289]), array([2.51078723]), array([67.09786703]), array([35.56718252]), array([26.56774829]), array([69.70218102]), array([10.41256959]), array([92.90013408]), array([64.72780989]), array([55.37197537]), array([21.53681077]), array([47.54510964]), array([53.87772389]), array([60.2076084]), array([13.37741284]), array([84.99068784]), array([90.56376511]), array([20.27792082]), array([15.86744139]), array([59.62440152]), array([96.09548189]), array([12.13088192]), array([80.2564896]), array([47.90673937]), array([47.31325634]), array([83.31320578]), array([0.43131681]), array([0.03523749]), array([34.54808506]), array([86.01943014]), array([43.21185505]), array([36.60356035]), array([48.71919175]), array([87.39024349]), array([53.36379884]), array([81.78942654]), array([97.0963981]), array([65.70759319]), array([51.01409011]), array([97.81583517]), array([94.72604808]), array([1.81104213]), array([54.38257935]), array([63.28443858]), array([50.36956886]), array([49.55707893]), array([71.30030826]), array([49.83485089]), array([53.77407288]), array([22.65711078]), array([0.05248963]), array([10.69718667]), array([6.95790294]), array([23.8114593]), array([6.96595923]), array([37.63768016]), array([84.31726553]), array([75.08905509]), array([24.94543058]), array([64.82706026]), array([71.33868949]), array([83.15211674]), array([3.05999522]), array([82.43617217]), array([71.27402559]), array([6.87805398]), array([38.70756005]), array([42.17644332]), array([11.6870312]), array([61.29681768]), array([16.67674863]), array([44.52177596]), array([16.59588246]), array([31.53735523]), array([73.76042732]), array([14.29355536]), array([21.86653614]), array([50.33450637]), array([51.23483249]), array([50.9677943]), array([69.89521415]), array([13.50508517]), array([78.68664548]), array([18.74896187]), array([59.4508225]), array([3.85605699]), array([90.7357841]), array([0.33333961]), array([97.43358484]), array([67.54004271]), array([75.75553938]), array([3.56340073]), array([74.01341493]), array([15.58697676]), array([38.34874794]), array([10.08520849]), array([84.82789255]), array([91.49202036]), array([41.7477781]), array([86.3228692]), array([40.72540035]), array([22.6545407]), array([76.88824833]), array([52.24470646]), array([37.79742196]), array([46.69511005]), array([70.01597659]), array([26.72914463]), array([86.89064557]), array([11.8717326]), array([14.44270073]), array([10.24148366]), array([70.63889096]), array([78.30286297]), array([82.1576643]), array([86.0668652]), array([77.20158661]), array([26.40666917]), array([44.20088037]), array([70.91081443]), array([59.80401017]), array([83.41170661]), array([84.86419954]), array([51.75604706]), array([34.8456682]), array([98.57588425]), array([44.69500528]), array([43.47506417]), array([68.35069761]), array([9.5760021]), array([28.70039283]), array([43.48252032]), array([91.22646406]), array([83.87415324]), array([4.97641857]), array([22.84059832]), array([81.2431055]), array([63.35699937]), array([97.26135975]), array([28.73017537]), array([52.56928807]), array([61.77321459]), array([93.39087502]), array([91.57648544]), array([2.59790649]), array([96.82444838]), array([31.97879866]), array([71.13512033]), array([86.11059212]), array([24.72038861]), array([44.41209414]), array([55.01647714]), array([36.52159255]), array([12.93444303]), array([34.53763356]), array([35.55993157]), array([96.40549189]), array([68.27193047]), array([74.7729077]), array([8.73111709]), array([8.44917806]), array([48.15099995]), array([0.93497121]), array([13.26011361]), array([35.9606249]), array([96.93132168]), array([28.62743802]), array([74.56688634]), array([2.88993337]), array([74.18362088]), array([19.34629798]), array([61.88341812]), array([31.03600893]), array([16.47808255]), array([94.32026467]), array([83.02397665]), array([63.67421619]), array([32.29561224]), array([22.97496704]), array([4.71662427]), array([53.96113283]), array([62.53221743]), array([14.00294815]), array([47.09462912]), array([37.22719313]), array([86.35955189]), array([34.36827918]), array([59.70432672]), array([22.07301612]), array([92.58472506]), array([38.23438323]), array([98.494404]), array([24.63477917]), array([77.98142272]), array([15.42260717]), array([62.12905031]), array([19.29883448]), array([36.79217597]), array([44.0185521]), array([61.32853435]), array([53.75052654]), array([19.94377703]), array([17.05833553]), array([36.24696164]), array([7.46672035]), array([83.87119861]), array([75.92710922]), array([68.16714491]), array([26.75881385]), array([75.80486512]), array([59.02669302]), array([44.6176119]), array([82.41439378]), array([28.78763299]), array([28.92542295]), array([33.88240057]), array([83.20615756]), array([83.20581636]), array([43.95710416]), array([69.43859277]), array([53.99277099]), array([49.87959072]), array([60.47528126]), array([71.10898503]), array([64.95786644]), array([48.35199792]), array([53.78319729]), array([22.18890222]), array([31.02889239]), array([61.26943145]), array([75.18262528]), array([11.42417374]), array([86.2988948]), array([67.82695335]), array([65.35843647]), array([54.53136355]), array([23.93962354]), array([96.56460978]), array([95.44225487]), array([86.57325652]), array([14.60623944]), array([6.43020285]), array([85.70582237]), array([1.38276419]), array([34.53564244]), array([69.31495235]), array([90.42842365]), array([64.21137261]), array([21.03758443]), array([37.84466901]), array([78.34038208]), array([48.7915652]), array([61.2163598]), array([85.46146986]), array([2.63806536]), array([45.35952716]), array([8.37763429]), array([14.22718899]), array([14.52792462]), array([64.08383639]), array([97.68776655]), array([78.11672674]), array([21.60721261]), array([42.38173174]), array([58.15604468]), array([6.24664858]), array([73.08330314]), array([85.43555445]), array([94.09309071]), array([71.29195947]), array([28.22383444]), array([77.56972486]), array([86.02050323]), array([14.02390544]), array([62.18380293]), array([26.11430034]), array([58.1072291]), array([4.78738887]), array([18.16962246]), array([87.25329638]), array([88.92088123]), array([46.34603055]), array([82.98743246]), array([93.81558878]), array([48.07271124]), array([43.98710774]), array([33.5180065]), array([1.27040048]), array([93.41746868]), array([87.21607218]), array([43.95390135]), array([3.4307849]), array([83.15093757]), array([68.44784615]), array([82.71819766]), array([88.53659242]), array([6.83066169]), array([74.64786878]), array([9.34718904]), array([86.99835694]), array([1.43151616]), array([85.57528196]), array([76.70268412]), array([51.69592387]), array([94.61445918]), array([85.20909055]), array([16.60426141]), array([56.70483101]), array([58.54604487]), array([88.7706298]), array([27.80006373]), array([9.51366047]), array([12.80216899]), array([27.00890932]), array([91.06584865]), array([84.52035758]), array([86.26553335]), array([94.57535241]), array([57.21964264]), array([40.70267549]), array([24.28082891]), array([69.9708988]), array([76.0959266]), array([19.57978674]), array([73.88914712]), array([56.25440201]), array([76.06295509]), array([33.05153343]), array([39.92751333]), array([5.02269865]), array([25.48240973]), array([24.72832645]), array([43.67476848]), array([20.31784361]), array([93.08852462]), array([96.91425896]), array([58.9925894]), array([34.61129164]), array([70.96749304]), array([75.72759499]), array([78.59173044]), array([52.2078956]), array([61.78627493]), array([78.55966026]), array([76.5122574]), array([70.32142408]), array([81.05836488]), array([57.61109991]), array([98.66502229]), array([44.74436465]), array([81.35542499]), array([84.83361751]), array([19.76134819]), array([46.56976416]), array([86.85409521]), array([84.84812501]), array([9.96291053]), array([82.42934756]), array([78.49859649]), array([19.72454467]), array([70.39306713]), array([46.39402114]), array([22.10408496]), array([37.21961233]), array([20.04315841]), array([80.56054058]), array([57.13384219]), array([25.32797848]), array([84.56201064]), array([97.22730123]), array([89.59859645]), array([37.73990385]), array([39.07896407]), array([2.56520049]), array([79.06257902]), array([42.76234978]), array([72.78142577]), array([94.53655667]), array([75.63185116]), array([46.22244261]), array([16.08310658]), array([68.6456383]), array([17.86155949]), array([65.14127874]), array([96.00588512]), array([39.32716311]), array([65.36410312]), array([91.52768306]), array([35.44526171]), array([17.93280766]), array([6.93748989]), array([73.87011248]), array([88.80831393]), array([2.08295854]), array([55.48694087]), array([7.26663003]), array([90.60921758]), array([44.26755671]), array([58.4689501]), array([39.60536019]), array([30.77081688]), array([72.02333128]), array([39.59865416]), array([74.14796927]), array([31.25425645]), array([42.09824189]), array([10.33987553]), array([21.32139358]), array([45.4995146]), array([76.76929882]), array([63.50242389]), array([13.64791064]), array([9.33534849]), array([10.503233]), array([13.28346127]), array([81.27515345]), array([49.1509206]), array([58.6086722]), array([64.39077877]), array([39.75048974]), array([3.40867261]), array([19.44765271]), array([77.61328749]), array([9.15714088]), array([59.38164604]), array([44.53869291]), array([78.94281039]), array([20.45864918]), array([95.41352667]), array([74.92958463]), array([53.6543724]), array([2.02272157]), array([47.91368792]), array([60.65098475]), array([15.8451502]), array([25.25087678]), array([93.48617914]), array([3.69526103]), array([83.34058528]), array([81.72374261]), array([97.05748724]), array([13.75011856]), array([85.66784437]), array([56.69533228]), array([66.26334732]), array([88.71911304]), array([73.12457343]), array([92.41505552]), array([66.38968966]), array([95.1282196]), array([52.4324516]), array([91.58557022]), array([57.19858635]), array([79.39868189]), array([52.79873321]), array([95.50558153]), array([85.05839009]), array([59.10443813]), array([80.20992562]), array([55.94951158]), array([14.0360202]), array([90.57709106]), array([42.11680361]), array([59.66873031]), array([84.58343213]), array([27.45898507]), array([97.092816]), array([93.69667706]), array([81.97754208]), array([96.9896496]), array([18.35963666]), array([78.27341361]), array([74.34941579]), array([83.31151383]), array([46.57251987]), array([16.32186059]), array([52.75151407]), array([98.70272705]), array([85.04956552]), array([80.13814769]), array([92.97985823]), array([85.01664821]), array([64.71193308]), array([94.56681762]), array([88.24402249]), array([83.72460653]), array([12.73202208]), array([1.93903086]), array([99.49465884]), array([84.56177578]), array([93.08714929]), array([15.46232215]), array([2.01725814]), array([13.36859815]), array([62.5960257]), array([54.24175333]), array([15.76518771]), array([11.03062072]), array([59.41442914]), array([43.90065867]), array([23.79817573]), array([49.36692826]), array([3.67007297]), array([7.48335105]), array([86.79695744]), array([30.90851367]), array([73.84492102]), array([56.54567434]), array([23.563161]), array([17.44876099]), array([59.45167438]), array([51.11564607]), array([84.35387248]), array([46.08541434]), array([50.57783419]), array([76.99191745]), array([66.46588333]), array([69.97200072]), array([44.12329767]), array([15.73241992]), array([94.30972808]), array([97.07523028]), array([60.66052519]), array([21.3864685]), array([15.43469544]), array([14.8837276]), array([41.51660054]), array([26.54841966]), array([38.22320013]), array([18.46713556]), array([36.24745711]), array([5.64373338]), array([91.28056277]), array([53.08361903]), array([99.63824325]), array([15.58002036]), array([17.33370078]), array([84.05907104]), array([12.13119585]), array([50.77075935]), array([55.92588213]), array([45.10155604]), array([63.7153935]), array([49.41063482]), array([63.33084909]), array([83.29081599]), array([71.81573721]), array([63.95434476]), array([1.61999495]), array([14.90322648]), array([92.39590655]), array([12.53061194]), array([89.2775402]), array([24.64685589]), array([64.5278937]), array([88.34845881]), array([64.48491569]), array([23.91024005]), array([25.47378419]), array([13.04311879]), array([78.60070535]), array([29.39052482]), array([99.04015285]), array([74.32965406]), array([2.26249145]), array([97.81864876]), array([92.86457395]), array([76.72385323]), array([83.60446397]), array([64.32380997]), array([16.55453591]), array([86.25764181]), array([75.15977849]), array([96.91240862]), array([6.97027211]), array([52.34594007]), array([26.93195273]), array([1.20542985]), array([0.33571105]), array([85.36307259]), array([15.58377328]), array([84.06723292]), array([61.81764757]), array([4.76876123]), array([33.040395]), array([61.09648996]), array([91.43393054]), array([29.84380918]), array([57.14093378]), array([67.48913095]), array([30.42537093]), array([98.67639856]), array([72.14645306]), array([38.54781339]), array([17.60264434]), array([23.90508041]), array([88.95120409]), array([54.85002988]), array([18.62711562]), array([83.76902232]), array([84.16908704]), array([97.37464725]), array([31.88170163]), array([64.39231624]), array([8.98580701]), array([50.73718898]), array([53.2204904]), array([72.89804754]), array([73.70398628]), array([21.80262385]), array([94.47131657]), array([65.18205543]), array([12.74345987]), array([37.87868594]), array([96.86285816]), array([67.44238096]), array([12.12131235]), array([8.51892451]), array([8.81092941]), array([42.0795528]), array([44.52543676]), array([63.30258757]), array([6.18997722]), array([10.79610488]), array([50.37396185]), array([66.90708697]), array([96.00521925]), array([51.39940666]), array([63.3960248]), array([26.70730377]), array([44.72192909]), array([87.07537703]), array([96.17976511]), array([35.41270154]), array([22.16249892]), array([66.89525136]), array([80.21684455]), array([94.11238402]), array([28.17506307]), array([99.09073202]), array([16.73262334]), array([77.71444868]), array([83.08394372]), array([81.05726331]), array([33.70436978]), array([91.86338945]), array([44.61547429]), array([87.73385221]), array([89.99644742]), array([59.97163239]), array([94.9090162]), array([28.29580964]), array([76.75839669]), array([39.63142145]), array([16.67086875]), array([63.55446887]), array([26.86291709]), array([1.76865444]), array([1.90531484]), array([71.49633681]), array([74.88657231]), array([84.85032963]), array([41.07287576]), array([11.43342736]), array([26.48332772]), array([18.66950277]), array([77.61176151]), array([67.37879471]), array([67.06900352]), array([44.84315043]), array([48.64249097]), array([99.96088704]), array([68.34076889]), array([13.19823309]), array([89.52187104]), array([14.61599485]), array([83.28396571]), array([63.9136011]), array([81.02008913]), array([15.29128979]), array([91.47284445]), array([65.03357999]), array([19.11415087]), array([15.92571544]), array([48.8700755]), array([8.06824939]), array([75.35794154]), array([30.27862449]), array([90.14536922]), array([6.5351991]), array([32.32798161]), array([3.38854314]), array([91.78652475]), array([16.382234]), array([29.51319837]), array([44.84782435]), array([98.06962971]), array([51.66540144]), array([79.00200875]), array([95.64235766]), array([76.04914664]), array([58.92624088]), array([27.3715024]), array([61.76803799]), array([18.63942161]), array([14.64992844]), array([26.43616976]), array([7.75875751]), array([45.3997926]), array([76.55247132]), array([52.72562265]), array([24.81040396]), array([11.06664677]), array([54.89750171]), array([43.52396555]), array([17.0107675]), array([27.47698018]), array([51.910437]), array([94.12172628]), array([19.1428747]), array([82.81796959]), array([6.70768746]), array([1.32859323]), array([81.15316062]), array([46.57469003]), array([35.29848503]), array([47.20571872]), array([88.48281927]), array([87.51667386]), array([86.65524385]), array([97.74700611]), array([99.93584475]), array([25.81321892]), array([19.16501577]), array([19.34219516]), array([63.08404283]), array([49.46680179]), array([32.13337987]), array([76.0628804]), array([85.17306788]), array([30.33176018]), array([17.9630403]), array([86.8434104]), array([9.35130645]), array([79.73162044]), array([75.43361827]), array([12.98382571]), array([16.54612148]), array([77.60101912]), array([50.40051801]), array([3.08401799]), array([81.8208984]), array([80.43325077]), array([85.35368739]), array([60.19835522]), array([61.36819699]), array([64.9659499]), array([64.93242472]), array([0.71920572]), array([83.87399759]), array([9.81938922]), array([50.57179823]), array([17.65692496]), array([63.44577375]), array([0.33628667]), array([84.70854391]), array([26.5352084]), array([65.77748521]), array([4.62746756]), array([63.46344815]), array([24.66856091]), array([28.98965327]), array([19.74631671]), array([10.52732808]), array([95.87776004]), array([59.96041192]), array([82.3179491]), array([30.23306778]), array([23.79705461]), array([0.08208046]), array([5.8703673]), array([11.94758289]), array([56.83913114]), array([33.97434613]), array([59.30282384]), array([68.65295429]), array([45.87513312]), array([32.47482344]), array([66.45601881]), array([46.23642446]), array([17.86237001]), array([39.32611618]), array([91.20576596]), array([60.21705195]), array([69.20703556]), array([99.20610515]), array([87.45209668]), array([12.38029268]), array([98.26909445]), array([48.89476293]), array([52.65175562]), array([47.84646407]), array([16.14278349]), array([24.08010793]), array([89.95456558]), array([52.41412773]), array([26.38873214]), array([78.60342567]), array([58.2984548]), array([13.30920758]), array([75.83428728]), array([61.15850853]), array([1.43594067]), array([75.52331227]), array([4.03046185]), array([46.33279677]), array([59.86836978]), array([30.35631241]), array([72.74658653]), array([97.52252684]), array([38.98078678]), array([21.71461156]), array([27.35124177]), array([51.94042468]), array([36.95249113]), array([60.63119841]), array([71.2726374]), array([37.16718555]), array([34.0175383]), array([23.92670755]), array([4.7745838]), array([32.81860663]), array([61.94804249]), array([10.82657674]), array([95.14433979]), array([79.85481937]), array([36.2862602]), array([53.36995488]), array([26.98861019]), array([63.52353929]), array([15.98601732]), array([6.80017177]), array([69.35548773]), array([50.14438545]), array([67.35130709]), array([57.00563955]), array([42.14929471]), array([49.39059704]), array([94.60869291]), array([32.1440594]), array([11.32008862]), array([23.55226295]), array([14.54031735]), array([79.37018678]), array([23.89121505]), array([29.39175481]), array([93.68950313]), array([32.19289841]), array([62.78277332]), array([62.7175735]), array([1.4361878]), array([56.21273166]), array([19.86303176]), array([51.44687814]), array([66.79605211]), array([57.36031121]), array([16.85251349]), array([89.12980151]), array([81.26516757]), array([76.42706042]), array([13.63599893]), array([65.36712922]), array([40.43547641]), array([23.16352823]), array([67.91574689]), array([2.20035389]), array([70.87598216]), array([25.47271187]), array([33.50530743]), array([84.75301611]), array([25.36263906]), array([37.23736244]), array([80.16308213]), array([74.18514899]), array([60.87692602]), array([0.8141168]), array([87.78588629]), array([10.04194069]), array([43.25490675]), array([50.19851318]), array([83.81567459]), array([27.43186825]), array([36.84736221]), array([16.8430151]), array([42.52915529]), array([3.65927927]), array([78.42620115]), array([84.58230703]), array([81.49375948]), array([67.45886872]), array([83.99693864]), array([10.66529008]), array([62.37986866]), array([66.59269568]), array([20.57734462]), array([36.2038317]), array([3.1335884]), array([63.74250586]), array([29.72996982]), array([78.20707036]), array([62.57795036]), array([32.74748455]), array([81.71315405]), array([29.40268479]), array([42.33455761]), array([84.30073761]), array([23.92019784]), array([77.17264725]), array([61.60518713]), array([63.92145222]), array([38.3065754]), array([74.80975515]), array([69.25015016]), array([94.03032702]), array([4.61450503]), array([40.29124604]), array([52.38174926]), array([1.65222422]), array([46.85085086]), array([83.86179273]), array([63.55566411]), array([30.40805646]), array([29.74602976]), array([13.67903835]), array([99.67086312]), array([61.32629911]), array([60.94447175]), array([78.41551328]), array([80.6203679]), array([76.19163945]), array([36.99781348]), array([38.6709]), array([62.38936973]), array([54.4351479]), array([82.16455654]), array([5.04894895]), array([96.21884521]), array([47.41534131]), array([7.19578363]), array([63.68542963]), array([38.36495665]), array([79.34407555]), array([84.14939685]), array([65.33205577]), array([25.52194358]), array([29.1537661]), array([72.32171294]), array([40.56715966]), array([73.10527396]), array([1.60353443]), array([19.10260806]), array([87.93901069]), array([51.98272958]), array([35.20692155]), array([90.69998132]), array([81.15366935]), array([0.91447955]), array([26.29572246]), array([6.16131907]), array([94.87743846]), array([10.11497867]), array([95.06793449]), array([47.35292415]), array([90.93277595]), array([61.32264353]), array([85.55791173]), array([30.81122644]), array([15.05826704]), array([5.68359872]), array([57.90171452]), array([55.72130774]), array([80.21337363]), array([66.12002256]), array([38.04185465]), array([60.20224137]), array([2.59557963]), array([2.97776984]), array([28.73675946]), array([83.37808122]), array([94.83721159]), array([98.38744463]), array([59.72163555]), array([81.67674896]), array([24.76395726]), array([42.47414569]), array([19.9196972]), array([65.42508479]), array([94.16606002]), array([47.33672184]), array([41.91659959]), array([18.78280583]), array([76.00734305]), array([36.38126315]), array([97.73854171]), array([28.36913859]), array([61.76365832]), array([28.63834278]), array([58.65572863]), array([28.86918305]), array([40.46269723]), array([42.60494471]), array([89.52787101]), array([44.10676451]), array([24.26927627]), array([35.65597822]), array([84.41060145]), array([33.67311206]), array([38.1575094]), array([47.90013116]), array([77.53664947]), array([43.14497409]), array([41.53171945]), array([48.21428752]), array([22.11954161]), array([12.93314619]), array([60.37391585]), array([13.04290178]), array([40.52862652]), array([57.60442621]), array([36.22073366]), array([97.93704648]), array([16.01605795]), array([7.638641]), array([3.68000585]), array([14.88454036]), array([67.60056637]), array([18.13815351]), array([93.61198062]), array([83.06175862]), array([61.24206618]), array([91.7149234]), array([17.8446587]), array([4.33397776]), array([15.5541775]), array([41.65535588]), array([53.08693378]), array([61.83325122]), array([93.40058598]), array([35.78456922]), array([9.13405238]), array([49.94183448]), array([78.92653595]), array([96.89361992]), array([16.31049624]), array([47.66400421]), array([44.70147977]), array([40.7925114]), array([49.56822825]), array([93.70001721]), array([28.78297492]), array([85.53058328]), array([51.01558157]), array([84.37224201]), array([9.94674118]), array([76.6834603]), array([1.31729563]), array([21.33337297]), array([35.24742297]), array([60.01941784]), array([23.58493666]), array([3.65712125]), array([75.64711686]), array([86.68768918]), array([29.88762386]), array([87.86942104]), array([97.03625011]), array([81.05109389]), array([98.80678383]), array([59.08271039]), array([91.12766703]), array([38.08944261]), array([41.96294625]), array([92.76407164]), array([33.92617922]), array([88.26236941]), array([3.40051563]), array([39.96343689]), array([76.56741494]), array([91.56793942]), array([40.08841159]), array([88.83541978]), array([27.01179534]), array([6.32186219]), array([74.74949993]), array([38.52753412]), array([90.51372769]), array([72.50883206]), array([68.42649995]), array([51.4403052]), array([30.64656198]), array([70.04201912]), array([9.9502483]), array([64.03077123]), array([32.92042457]), array([75.32206681]), array([89.18733676]), array([10.35962135]), array([80.53163869]), array([96.45153697]), array([89.54074029]), array([69.8124886]), array([13.84903706]), array([26.20175932]), array([74.99030763]), array([45.3603407]), array([89.99429663]), array([8.03487835]), array([46.6869316]), array([72.33300195]), array([78.76753524]), array([58.27258105]), array([67.61536049]), array([90.82292594]), array([77.10213201]), array([17.51245795]), array([49.76028484]), array([47.15789953]), array([43.44069556]), array([93.98450926]), array([3.11989459]), array([62.19004753]), array([22.70551773]), array([94.97941067]), array([70.40830555]), array([81.99895024]), array([4.17939574]), array([82.0639177]), array([14.10997729]), array([69.46836564]), array([50.66431911]), array([97.34279744]), array([70.26540709]), array([4.54934405]), array([68.28579157]), array([72.82448138]), array([29.18002046]), array([67.10960647]), array([27.36680194]), array([59.4060265]), array([33.78552992]), array([87.62557368]), array([16.7558059]), array([64.93380887]), array([84.57588637]), array([16.42210312]), array([9.84693693]), array([80.21893829]), array([88.83315601]), array([54.83652448]), array([46.7036191]), array([87.13975021]), array([33.68415713]), array([73.31781615]), array([54.70838396]), array([29.84756327]), array([78.15927658]), array([20.203613]), array([36.87639539]), array([37.83352543]), array([76.95032157]), array([29.15675772]), array([90.69704921]), array([46.64200955]), array([91.74385599]), array([68.77362682]), array([36.24442717]), array([65.18533976]), array([65.2919106]), array([65.3596992]), array([12.6875217]), array([34.92166922]), array([45.53770761]), array([10.47837956]), array([77.76788563]), array([78.01091509]), array([91.77965179]), array([9.64978609]), array([60.96660126]), array([34.74975263]), array([67.72322234]), array([8.24666538]), array([23.67568554]), array([29.63218008]), array([96.73034046]), array([25.91255863]), array([85.99392205]), array([72.70563411]), array([99.37445182]), array([88.26366603]), array([73.22177048]), array([21.07955584]), array([8.30515547]), array([31.47801158]), array([60.14170624]), array([63.28580799]), array([8.67672093]), array([95.87997585]), array([60.01250641]), array([46.49974603]), array([14.02857028]), array([58.40939713]), array([92.95238903]), array([74.43014507]), array([29.69689757]), array([70.06482016]), array([34.57028656]), array([52.00024882]), array([76.75356722]), array([55.01664054]), array([91.68423202]), array([5.27754282]), array([35.64996799]), array([26.45398219]), array([22.23670452]), array([19.48450349]), array([46.17077344]), array([93.25905647]), array([60.95115821]), array([38.75508717]), array([60.45609688]), array([36.20469779]), array([51.90119816]), array([41.60802362]), array([4.84663554]), array([58.86262732]), array([0.06680806]), array([92.7064259]), array([39.18767801]), array([17.81621265]), array([9.3009678]), array([89.91825632]), array([47.92216771]), array([80.28085661]), array([73.68155756]), array([5.33261969]), array([5.34929291]), array([14.15920062]), array([6.31246437]), array([97.8741532]), array([68.49389254]), array([15.67424309]), array([34.24844754]), array([85.36837201]), array([11.00259644]), array([86.76695283]), array([22.25881209]), array([76.22372221]), array([77.47928489]), array([67.16674256]), array([89.76413027]), array([30.51288995]), array([58.42434306]), array([55.07541102]), array([2.5969778]), array([62.02190267]), array([36.84510787]), array([91.26044208]), array([34.53356557]), array([50.50526409]), array([47.22407822]), array([43.34115715]), array([61.06128785]), array([7.8178087]), array([96.16121723]), array([54.44102098]), array([18.439992]), array([8.05129831]), array([32.84936018]), array([53.9804366]), array([92.21087152]), array([87.06293306]), array([68.28236631]), array([87.72789249]), array([49.49983265]), array([70.48493676]), array([30.93069264]), array([35.79207766]), array([18.40090355]), array([23.28642532]), array([15.73486145]), array([70.84278459]), array([69.91011232]), array([81.88543535]), array([95.95857199]), array([52.9073908]), array([37.50355467]), array([26.37850384]), array([10.12602513]), array([58.23971562]), array([48.93021784]), array([8.64391991]), array([32.40349839]), array([73.18363341]), array([99.77609041]), array([3.01927295]), array([80.12748757]), array([11.27715241]), array([53.32440144]), array([71.97270858]), array([73.82351884]), array([85.21455167]), array([9.99317291]), array([55.83999533]), array([69.82477886]), array([92.96160441]), array([50.59924752]), array([73.34814183]), array([15.81375362]), array([7.10855058]), array([94.13542776]), array([74.40876245]), array([32.56958079]), array([73.53210496]), array([88.87606303]), array([56.53931788]), array([55.36037709]), array([49.98324786]), array([27.6273815]), array([74.42192452]), array([47.6994151]), array([29.32252013]), array([74.54547664]), array([7.10713817]), array([99.71792859]), array([7.78194554]), array([66.9742936]), array([71.62721834]), array([5.49331219]), array([47.93636345]), array([51.60477996]), array([46.2059416]), array([82.54356478]), array([25.76262055]), array([89.9885581]), array([42.36952627]), array([85.30352903]), array([97.91553622]), array([46.51058876]), array([42.76509118]), array([7.73919833]), array([77.37103244]), array([6.73417961]), array([79.79704887]), array([3.7722658]), array([79.64026628]), array([18.72136677]), array([25.40645345]), array([74.47824864]), array([42.86445208]), array([31.62307717]), array([71.97940852]), array([28.2055647]), array([28.69508533]), array([40.83032557]), array([89.65300548]), array([9.17061908]), array([94.21431691]), array([32.43461744]), array([56.0339442]), array([87.91319014]), array([74.43915781]), array([22.91531752]), array([34.25274737]), array([54.22083335]), array([68.94781552]), array([28.40316351]), array([85.12207356]), array([60.01887374]), array([78.82595303]), array([86.81604311]), array([14.79889082]), array([21.99279421]), array([79.56748297]), array([30.6983714]), array([63.04186548]), array([49.84351216]), array([36.4327826]), array([39.94527396]), array([51.68942634]), array([31.84302571]), array([79.88220948]), array([57.35730743]), array([14.69540784]), array([32.76727822]), array([12.26261554]), array([99.65593536]), array([13.64980207]), array([26.91864745]), array([94.61367976]), array([42.4587152]), array([87.50075461]), array([17.33737268]), array([36.05744751]), array([77.81985685]), array([90.57938384]), array([18.22102972]), array([23.8779599]), array([51.07126763]), array([61.79832047]), array([45.29950427]), array([87.74047837]), array([40.66390758]), array([24.02570333]), array([31.53203533]), array([72.82635639]), array([38.61191105]), array([37.64732452]), array([80.95375147]), array([45.49739137]), array([48.82102646]), array([70.62352474]), array([82.33880375]), array([89.5508593]), array([76.06376643]), array([99.4116236]), array([36.12481508]), array([40.93547785]), array([6.74215439]), array([34.80683817]), array([45.9457264]), array([5.55221269]), array([19.59953317]), array([2.80250049]), array([61.23902516]), array([84.86655293]), array([34.45942488]), array([51.17387483]), array([14.76227558]), array([39.79129345]), array([15.68515095]), array([11.54316126]), array([45.53002676]), array([62.64577742]), array([2.01126062]), array([47.21558733]), array([60.9818761]), array([25.06889765]), array([49.72221883]), array([13.41755479]), array([22.5050065]), array([32.79412364]), array([15.85792012]), array([60.20228729]), array([37.18438379]), array([31.78003239]), array([1.49090061]), array([60.12247553]), array([39.40832044]), array([90.07281318]), array([60.42467132]), array([47.1320248]), array([50.28646278]), array([41.22947003]), array([48.54408617]), array([12.36668888]), array([85.95666746]), array([16.53264341]), array([41.4373693]), array([33.96198537]), array([79.9223509]), array([6.52258352]), array([36.31089454]), array([3.7049297]), array([63.0775936]), array([9.5709632]), array([87.29248345]), array([93.26050452]), array([74.75001986]), array([70.6645054]), array([76.03226035]), array([10.94637741]), array([31.52453772]), array([75.97363884]), array([47.68066524]), array([24.42487922]), array([7.22177297]), array([27.35289642]), array([56.90972281]), array([11.23498718]), array([48.63829081]), array([89.68511383]), array([32.50302052]), array([1.42036281]), array([22.4935132]), array([1.19122693]), array([20.44178218]), array([88.53094879]), array([7.35903533]), array([73.86957245]), array([41.70570075]), array([17.26221672]), array([81.26323165]), array([22.70036549]), array([85.85236161]), array([69.91102596]), array([81.25758769]), array([92.41701863]), array([73.06294582]), array([66.82112376]), array([82.3819061]), array([81.5610398]), array([74.73588489]), array([21.37255393]), array([3.53540076]), array([32.73360928]), array([84.46673759]), array([51.12426589]), array([31.85020658]), array([68.0360587]), array([5.56035367]), array([21.90656456]), array([18.32830315]), array([1.0736907]), array([69.8380735]), array([72.04009235]), array([17.69838023]), array([54.68653997]), array([92.63980762]), array([99.96216908]), array([27.22085992]), array([13.62718837]), array([63.80490266]), array([28.12090303]), array([54.00803023]), array([31.87992078]), array([97.62566412]), array([80.25455725]), array([39.8492033]), array([48.13875392]), array([23.60592734]), array([29.58680006]), array([57.22760231]), array([62.27892046]), array([94.001533]), array([53.92994527]), array([55.10670207]), array([64.71958302]), array([39.12687176]), array([38.56934603]), array([2.9510899]), array([41.67793937]), array([16.77967628]), array([25.49503327]), array([44.70361741]), array([66.67181953]), array([2.23847756]), array([66.13749129]), array([54.35131255]), array([99.26709995]), array([42.25280282]), array([77.12847595]), array([10.77837354]), array([99.25863382]), array([6.27978678]), array([10.51216898]), array([88.91965368]), array([69.08392519]), array([4.63155364]), array([65.29953387]), array([4.44323698]), array([96.06204514]), array([84.70661601]), array([79.32229931]), array([39.76627038]), array([83.76488852]), array([30.07709341]), array([43.28533881]), array([87.97786915]), array([48.06841173]), array([70.46467612]), array([57.14119905]), array([95.46130707]), array([46.67490612]), array([55.22867891]), array([53.40117407]), array([17.26218023]), array([60.76030269]), array([23.52229645]), array([4.04470888]), array([68.74528079]), array([35.56074085]), array([55.79965766]), array([65.25051913]), array([52.66447772]), array([94.41156542]), array([80.42975578]), array([57.8070534]), array([57.29132517]), array([48.89083383]), array([39.2230387]), array([40.18739127]), array([66.24809862]), array([36.21299179]), array([65.31710392]), array([21.51317947]), array([1.82278761]), array([83.58200961]), array([3.64043436]), array([68.1691781]), array([77.59623215]), array([11.90198994]), array([91.1024522]), array([49.87682497]), array([5.93727636]), array([48.41973511]), array([79.05556631]), array([98.73969109]), array([19.08387649]), array([20.47367921]), array([66.23921783]), array([80.32878944]), array([71.00066318]), array([49.48534657]), array([30.59541974]), array([91.82668553]), array([19.32108791]), array([84.37448786]), array([90.76975709]), array([67.15488221]), array([57.7497536]), array([21.08931948]), array([58.61010699]), array([7.19296831]), array([97.01230286]), array([63.7908729]), array([49.41582973]), array([17.42391863]), array([14.9292797]), array([69.11592591]), array([26.6092902]), array([58.20504396]), array([81.99732955]), array([79.07409983]), array([88.37239367]), array([28.5681091]), array([29.04180631]), array([34.07518619]), array([16.13588412]), array([38.29736305]), array([59.11629889]), array([62.7456903]), array([28.03253386]), array([30.89552334]), array([31.13622745]), array([42.83339322]), array([41.44608447]), array([75.95976107]), array([22.46214176]), array([78.39218417]), array([28.7337764]), array([75.34745948]), array([85.89883407]), array([85.57321237]), array([75.47913879]), array([67.92887808]), array([77.18641053]), array([29.56669516]), array([41.49725447]), array([28.50313332]), array([66.31214633]), array([39.59401355]), array([49.29435962]), array([95.43157011]), array([51.44384016]), array([43.23712351]), array([89.07775339]), array([50.23620807]), array([32.48250437]), array([24.03378019]), array([52.09136759]), array([7.59801878]), array([53.2714085]), array([88.5691901]), array([6.81861998]), array([94.25071174]), array([50.04556899]), array([72.18323792]), array([59.10989051]), array([50.18231468]), array([3.98137573]), array([68.13706404]), array([72.52363464]), array([35.00575879]), array([34.8452663]), array([20.95097529]), array([82.93583986]), array([30.64020879]), array([76.91471486]), array([93.37029409]), array([5.41376227]), array([3.68913994]), array([53.96129566]), array([66.81903568]), array([46.93608546]), array([57.84162646]), array([69.60964013]), array([2.05842948]), array([30.89924865]), array([19.86025371]), array([83.15852313]), array([67.6084744]), array([90.58726241]), array([54.91598974]), array([97.66243046]), array([49.65886722]), array([47.48298942]), array([89.56083197]), array([63.44156875]), array([40.38503803]), array([81.62604225]), array([84.61915175]), array([1.62016648]), array([13.57092217]), array([82.70425775]), array([35.9591105]), array([59.17916714]), array([98.3435223]), array([26.80879644]), array([85.94210727]), array([0.35160534]), array([34.52155762]), array([75.89830025]), array([92.96947593]), array([0.47851062]), array([34.84561962]), array([11.38677777]), array([30.32397233]), array([60.64695073]), array([24.72486449]), array([30.03442678]), array([63.97586159]), array([88.27611616]), array([98.96779845]), array([80.500681]), array([64.9805213]), array([20.91371733]), array([63.30378147]), array([87.59306178]), array([55.5640871]), array([36.60617362]), array([86.14476595]), array([90.06174641]), array([58.57791118]), array([67.06878117]), array([5.16287018]), array([42.5662844]), array([58.9182048]), array([78.50147428]), array([52.04836912]), array([55.58149634]), array([13.24251356]), array([21.05902938]), array([83.05387495]), array([43.93081404]), array([83.09732571]), array([69.05991753]), array([58.02673265]), array([92.89195252]), array([6.99543671]), array([15.99390897]), array([8.79128185]), array([26.60583062]), array([58.05706306]), array([29.65106101]), array([26.11828821]), array([37.14770348]), array([62.10338454]), array([95.54205593]), array([34.29592782]), array([49.69622969]), array([73.23987733]), array([64.79179502]), array([6.17963478]), array([18.88016091]), array([76.10913272]), array([98.11875804]), array([17.67681118]), array([36.91588408]), array([47.59966593]), array([87.73736468]), array([49.57326038]), array([7.77082159]), array([62.39426597]), array([36.91594426]), array([28.32567945]), array([47.28792987]), array([29.05387562]), array([48.15636953]), array([37.18704264]), array([23.24751699]), array([17.92730478]), array([81.61264601]), array([78.63696848]), array([53.81554164]), array([66.11106316]), array([68.5225851]), array([43.33877321]), array([94.4832677]), array([70.10532552]), array([20.00012401]), array([97.6222615]), array([37.55454652]), array([45.01745711]), array([18.32125946]), array([63.90607816]), array([96.20728798]), array([89.34091042]), array([94.37428941]), array([1.29281057]), array([20.9730922]), array([83.64790774]), array([4.19080829]), array([86.61056148]), array([78.83727997]), array([15.35102665]), array([72.52346907]), array([89.76113313]), array([50.7578788]), array([8.76453]), array([85.11204766]), array([9.81747285]), array([39.36077395]), array([56.16809293]), array([22.03626042]), array([65.91871968]), array([25.9778935]), array([59.18537135]), array([50.67640594]), array([51.48855612]), array([88.52275253]), array([99.02140673]), array([93.91870508]), array([95.27713457]), array([59.92652464]), array([91.03407489]), array([46.31016461]), array([14.88447757]), array([65.67044572]), array([84.07934847]), array([47.88157861]), array([38.40014879]), array([89.08871201]), array([28.90725911]), array([50.61835938]), array([32.58747291]), array([91.74504983]), array([37.27430596]), array([14.14382614]), array([20.71712812]), array([34.78269027]), array([67.01113193]), array([43.02801366]), array([30.62000281]), array([73.05864813]), array([75.9478997]), array([37.51536291]), array([89.95510636]), array([32.57637516]), array([85.87606282]), array([71.44282265]), array([93.6752424]), array([75.40730299]), array([30.43901793]), array([25.11000411]), array([29.54616273]), array([66.1578304]), array([23.30357543]), array([45.03180557]), array([70.65113771]), array([42.01976583]), array([42.03008717]), array([62.85005438]), array([43.32945344]), array([43.98022722]), array([31.05680022]), array([20.11141428]), array([25.96070929]), array([51.77733521]), array([38.1605575]), array([12.42058395]), array([74.07483197]), array([44.23356571]), array([55.95377941]), array([79.50889169]), array([58.90197791]), array([3.94870031]), array([97.64304445]), array([9.57835254]), array([93.66993386]), array([79.37408561]), array([50.02776828]), array([44.61484889]), array([27.09007504]), array([85.99265593]), array([16.27935444]), array([46.31318686]), array([83.61289321]), array([74.25554405]), array([27.69079572]), array([98.50465802]), array([68.5933135]), array([57.54750061]), array([4.0776909]), array([21.43833124]), array([73.28546648]), array([60.46520295]), array([38.27170864]), array([42.68445404]), array([51.90816329]), array([65.28846798]), array([66.29079031]), array([64.11920007]), array([73.9635397]), array([17.65658036]), array([38.1589291]), array([44.87629597]), array([10.05971204]), array([93.30617204]), array([4.51072105]), array([40.88915785]), array([25.22077669]), array([38.09617198]), array([45.17060635]), array([20.57815696]), array([35.77716407]), array([73.10507329]), array([16.94975398]), array([57.59311478]), array([59.09103268]), array([78.19512543]), array([8.90632014]), array([58.9224917]), array([18.9184171]), array([87.91985304]), array([68.63121087]), array([39.38505271]), array([32.00636864]), array([93.78043001]), array([41.93178988]), array([44.48863213]), array([55.37566353]), array([33.37272016]), array([63.23622062]), array([61.98442934]), array([29.25324773]), array([74.57682169]), array([95.50171028]), array([10.6970629]), array([69.82261023]), array([29.17963588]), array([5.7812309]), array([97.22135089]), array([58.05608318]), array([99.1600887]), array([63.12282074]), array([75.47721386]), array([24.29492532]), array([56.62334768]), array([32.54834978]), array([24.96574655]), array([29.10890346]), array([19.43658479]), array([95.52390866]), array([28.85448387]), array([99.7633578]), array([26.61465252]), array([73.13774078]), array([82.00883353]), array([21.42092451]), array([65.27302654]), array([35.30438898]), array([63.79739262]), array([62.3394056]), array([9.74355115]), array([62.71408565]), array([58.72894723]), array([71.58564896]), array([71.41230476]), array([94.11202526]), array([51.81953011]), array([93.18179513]), array([61.52869748]), array([25.22889413]), array([20.88280077]), array([93.44637052]), array([16.09453343]), array([74.31217938]), array([84.93263163]), array([50.43044423]), array([41.72866116]), array([3.19706676]), array([17.3899563]), array([82.19261905]), array([53.42772626]), array([49.44194133]), array([87.44633415]), array([86.66777064]), array([96.87947256]), array([65.79963192]), array([27.39413918]), array([47.69967241]), array([3.92536603]), array([99.61652388]), array([86.4329852]), array([70.3037221]), array([22.21951108]), array([31.68060258]), array([72.33619395]), array([24.72887195]), array([13.41049691]), array([2.04885297]), array([78.95462147]), array([83.06558772]), array([60.38399975]), array([9.18976931]), array([89.99442683]), array([89.30133575]), array([63.72706668]), array([44.47952871]), array([30.79885791]), array([0.0452775]), array([21.74259863]), array([72.0583975]), array([59.31396362]), array([19.08072914]), array([47.59800755]), array([48.75327039]), array([26.23940957]), array([2.91604653]), array([36.85923645]), array([68.31134079]), array([84.89831127]), array([3.14035978]), array([49.31141366]), array([41.22493245]), array([44.61217628]), array([48.04784711]), array([92.49754315]), array([82.28819523]), array([36.49623835]), array([82.3787654]), array([53.58967913])]\n"
     ]
    }
   ],
   "source": [
    "# EXAMPLE\n",
    "\n",
    "random_mln_lst = list(random_million[:10000])\n",
    "percentages_lst = [] \n",
    "\n",
    "for i in random_mln_lst:\n",
    "    percentages_lst += [i*100] \n",
    "    \n",
    "print(percentages_lst)    "
   ]
  },
  {
   "cell_type": "markdown",
   "metadata": {},
   "source": [
    " Let's see if we can get NumPy to at least break a sweat doing multiplications."
   ]
  },
  {
   "cell_type": "code",
   "execution_count": 22,
   "metadata": {},
   "outputs": [
    {
     "data": {
      "text/plain": [
       "array([24.18962235, 23.50805507, 86.11658085, ..., 80.89022842,\n",
       "       58.01068629,  3.12123934])"
      ]
     },
     "execution_count": 22,
     "metadata": {},
     "output_type": "execute_result"
    }
   ],
   "source": [
    "# EXAMPLE\n",
    "\n",
    "# 100 million multiplications\n",
    "np.random.rand(100000000) * 100"
   ]
  },
  {
   "cell_type": "markdown",
   "metadata": {},
   "source": [
    "NumPy is relly fast! Not to mention that it first needs to come up with the random numbers in the array, and only then can it do the multiplications we are asking it to do. That's pretty useful if you want to analyze a huge amount of data!"
   ]
  },
  {
   "cell_type": "markdown",
   "metadata": {},
   "source": [
    "Let's see what other operations we can do with NumPy arrays.\n",
    "\n",
    "Can it add the same number to all the elements of our array? How about subtracting it? Even dividing by it?"
   ]
  },
  {
   "cell_type": "code",
   "execution_count": 23,
   "metadata": {},
   "outputs": [
    {
     "data": {
      "text/plain": [
       "array([[50.17353909],\n",
       "       [50.6433225 ],\n",
       "       [50.52903821],\n",
       "       ...,\n",
       "       [50.80092638],\n",
       "       [50.83902302],\n",
       "       [50.06433493]])"
      ]
     },
     "execution_count": 23,
     "metadata": {},
     "output_type": "execute_result"
    }
   ],
   "source": [
    "# EXAMPLE\n",
    "\n",
    "plus_fifty = random_million + 50\n",
    "plus_fifty"
   ]
  },
  {
   "cell_type": "markdown",
   "metadata": {},
   "source": [
    "How about if we want to divide each value by 2?"
   ]
  },
  {
   "cell_type": "code",
   "execution_count": 24,
   "metadata": {},
   "outputs": [
    {
     "data": {
      "text/plain": [
       "array([[0.08676954],\n",
       "       [0.32166125],\n",
       "       [0.26451911],\n",
       "       ...,\n",
       "       [0.40046319],\n",
       "       [0.41951151],\n",
       "       [0.03216747]])"
      ]
     },
     "execution_count": 24,
     "metadata": {},
     "output_type": "execute_result"
    }
   ],
   "source": [
    "# EXERCISE\n",
    "\n",
    "divided_by_two = random_million/2\n",
    "divided_by_two"
   ]
  },
  {
   "cell_type": "markdown",
   "metadata": {},
   "source": [
    "We can even do those arithmetic operations between two arrays if they are of the same size!"
   ]
  },
  {
   "cell_type": "code",
   "execution_count": 25,
   "metadata": {},
   "outputs": [
    {
     "data": {
      "text/plain": [
       "array([[50.26030863],\n",
       "       [50.96498375],\n",
       "       [50.79355732],\n",
       "       ...,\n",
       "       [51.20138957],\n",
       "       [51.25853453],\n",
       "       [50.0965024 ]])"
      ]
     },
     "execution_count": 25,
     "metadata": {},
     "output_type": "execute_result"
    }
   ],
   "source": [
    "# EXAMPLE\n",
    "\n",
    "sum_of_arrays = divided_by_two + plus_fifty\n",
    "sum_of_arrays"
   ]
  },
  {
   "cell_type": "code",
   "execution_count": 26,
   "metadata": {},
   "outputs": [
    {
     "data": {
      "text/plain": [
       "array([ 7.3890561 , 20.08553692, 54.59815003])"
      ]
     },
     "execution_count": 26,
     "metadata": {},
     "output_type": "execute_result"
    }
   ],
   "source": [
    "# EXAMPLE\n",
    "# we can do exponentials too!\n",
    "\n",
    "x = np.array ([2,3,4])\n",
    "np.exp(x)"
   ]
  },
  {
   "cell_type": "code",
   "execution_count": 28,
   "metadata": {},
   "outputs": [
    {
     "data": {
      "text/plain": [
       "array([1.41421356, 1.73205081, 2.        ])"
      ]
     },
     "execution_count": 28,
     "metadata": {},
     "output_type": "execute_result"
    }
   ],
   "source": [
    "# EXERCISE\n",
    "\n",
    "#Modify the above code to calculate the square root of x.\n",
    "x = np.array ([2,3,4])\n",
    "np.sqrt(x)"
   ]
  },
  {
   "cell_type": "markdown",
   "metadata": {},
   "source": [
    "## Indexing & Slicing Numpy Arrays  <a id='section3'></a>\n"
   ]
  },
  {
   "cell_type": "markdown",
   "metadata": {},
   "source": [
    "Just like we did with Python lists, if we ever need to retreive a value at a particular index in a NumPy array, we can use [num:num] to get it."
   ]
  },
  {
   "cell_type": "code",
   "execution_count": 29,
   "metadata": {},
   "outputs": [
    {
     "name": "stdout",
     "output_type": "stream",
     "text": [
      "[0 1 2 3 4 5]\n",
      "Value at index 0 is: 0\n"
     ]
    }
   ],
   "source": [
    "# EXAMPLE\n",
    "\n",
    "print(array_from_list)\n",
    "print(\"Value at index 0 is:\", array_from_list[0])"
   ]
  },
  {
   "cell_type": "markdown",
   "metadata": {},
   "source": [
    "Try to retrieve a value at index **3** of our array."
   ]
  },
  {
   "cell_type": "code",
   "execution_count": 30,
   "metadata": {},
   "outputs": [
    {
     "name": "stdout",
     "output_type": "stream",
     "text": [
      "Value at index 3 is: 3\n"
     ]
    }
   ],
   "source": [
    "# EXERCISE\n",
    "\n",
    "print(\"Value at index 3 is:\", array_from_list[3]) "
   ]
  },
  {
   "cell_type": "markdown",
   "metadata": {},
   "source": [
    "We can also get a \"slice\" of numbers just like we would from a list. Remember that we slice up to the stopindex - 1!"
   ]
  },
  {
   "cell_type": "code",
   "execution_count": 31,
   "metadata": {},
   "outputs": [
    {
     "data": {
      "text/plain": [
       "array([2, 3, 4])"
      ]
     },
     "execution_count": 31,
     "metadata": {},
     "output_type": "execute_result"
    }
   ],
   "source": [
    "# EXAMPLE\n",
    "\n",
    "array_from_list[2:5]"
   ]
  },
  {
   "cell_type": "markdown",
   "metadata": {},
   "source": [
    "Now how would you return all the values starting with index 2 (skipping values at indices 0 and 1)?"
   ]
  },
  {
   "cell_type": "code",
   "execution_count": 32,
   "metadata": {},
   "outputs": [
    {
     "data": {
      "text/plain": [
       "array([2, 3, 4, 5])"
      ]
     },
     "execution_count": 32,
     "metadata": {},
     "output_type": "execute_result"
    }
   ],
   "source": [
    "# EXERCISE\n",
    "\n",
    "array_from_list[2:]"
   ]
  },
  {
   "cell_type": "markdown",
   "metadata": {},
   "source": [
    "You can think of arrays as tables. If your array has more than one column per row, we just use a comma between the index of the first dimension (row) and the index of the second dimension (column). The indexing and slicing works exactly the same as before, but we can do it separately for rows and columns."
   ]
  },
  {
   "cell_type": "code",
   "execution_count": 33,
   "metadata": {},
   "outputs": [
    {
     "data": {
      "text/plain": [
       "array([[0.6820145 , 0.8418726 , 0.79394176],\n",
       "       [0.51726761, 0.30583104, 0.38491419],\n",
       "       [0.40996444, 0.37746851, 0.07052395],\n",
       "       [0.87508574, 0.77381366, 0.29390069],\n",
       "       [0.34257391, 0.20654601, 0.64979988]])"
      ]
     },
     "execution_count": 33,
     "metadata": {},
     "output_type": "execute_result"
    }
   ],
   "source": [
    "# EXAMPLE\n",
    "\n",
    "three_by_five = np.random.rand(5, 3)\n",
    "three_by_five"
   ]
  },
  {
   "cell_type": "code",
   "execution_count": 34,
   "metadata": {},
   "outputs": [
    {
     "data": {
      "text/plain": [
       "0.682014504311191"
      ]
     },
     "execution_count": 34,
     "metadata": {},
     "output_type": "execute_result"
    }
   ],
   "source": [
    "# EXAMPLE\n",
    "\n",
    "three_by_five[0, 0]"
   ]
  },
  {
   "cell_type": "markdown",
   "metadata": {},
   "source": [
    "Now let's try to retrieve the value from the bottom right. \n",
    "\n",
    "**Hint:** Remember, first we input rows, then columns. Also, don't forget that Python starts counting from *zero*."
   ]
  },
  {
   "cell_type": "code",
   "execution_count": 35,
   "metadata": {},
   "outputs": [
    {
     "data": {
      "text/plain": [
       "0.6497998786495652"
      ]
     },
     "execution_count": 35,
     "metadata": {},
     "output_type": "execute_result"
    }
   ],
   "source": [
    "# EXERCISE\n",
    "\n",
    "three_by_five[4,2]"
   ]
  },
  {
   "cell_type": "markdown",
   "metadata": {},
   "source": [
    "Just like with regular arrays and lists, we can slice arrays that have multiple columns. The same rules apply: first we input the desired rows, then the desired columns. In the cell below, we are asking for our array to output values on row 0, columns 1 through 3 (our array has only 2 columns, but it won't error). "
   ]
  },
  {
   "cell_type": "code",
   "execution_count": 36,
   "metadata": {},
   "outputs": [
    {
     "data": {
      "text/plain": [
       "array([0.8418726 , 0.79394176])"
      ]
     },
     "execution_count": 36,
     "metadata": {},
     "output_type": "execute_result"
    }
   ],
   "source": [
    "# EXAMPLE\n",
    "\n",
    "three_by_five[0, 1:4]"
   ]
  },
  {
   "cell_type": "code",
   "execution_count": 37,
   "metadata": {},
   "outputs": [
    {
     "data": {
      "text/plain": [
       "array([[0.51726761],\n",
       "       [0.40996444],\n",
       "       [0.87508574],\n",
       "       [0.34257391]])"
      ]
     },
     "execution_count": 37,
     "metadata": {},
     "output_type": "execute_result"
    }
   ],
   "source": [
    "# EXAMPLE - output rows 1 through 4, column 0\n",
    "\n",
    "three_by_five[1:, :1]"
   ]
  },
  {
   "cell_type": "markdown",
   "metadata": {},
   "source": [
    "Now how would we output only the last values of all rows?"
   ]
  },
  {
   "cell_type": "code",
   "execution_count": 38,
   "metadata": {},
   "outputs": [
    {
     "data": {
      "text/plain": [
       "array([0.79394176, 0.38491419, 0.07052395, 0.29390069, 0.64979988])"
      ]
     },
     "execution_count": 38,
     "metadata": {},
     "output_type": "execute_result"
    }
   ],
   "source": [
    "# EXERCISE\n",
    "\n",
    "three_by_five[:,-1]"
   ]
  },
  {
   "cell_type": "markdown",
   "metadata": {},
   "source": [
    "## NumPy Arrays Applications <a id='section4'></a>"
   ]
  },
  {
   "cell_type": "markdown",
   "metadata": {},
   "source": [
    "### Finding the Average Hours of Daylight <a id='subsection1'></a>"
   ]
  },
  {
   "cell_type": "markdown",
   "metadata": {},
   "source": [
    "We have already loaded some data for you about the sunrise and sunset times Washington DC.\n",
    "\n",
    "The following arrays give the average time of sunrise for each month, and the average time of sunset for each month.\n",
    "\n",
    "The first row of each array gives the hour, and the second row, gives the minutes. "
   ]
  },
  {
   "cell_type": "code",
   "execution_count": 39,
   "metadata": {},
   "outputs": [
    {
     "name": "stdout",
     "output_type": "stream",
     "text": [
      "[[ 7  6  7  6  5  5  5  6  6  7  6  7]\n",
      " [23 57 17 29 53 40 53 20 48 16 49 18]]\n",
      "[[ 5  5  7  7  8  8  8  8  7  6  4  4]\n",
      " [11 46 16 46 15 36 34  4 18 31 55 48]]\n"
     ]
    }
   ],
   "source": [
    "print(dc_sunrise)\n",
    "print(dc_sunset)"
   ]
  },
  {
   "cell_type": "markdown",
   "metadata": {},
   "source": [
    "So you can see that in January in DC, the average time for sunrise was 7:23. Let's say that we want to figure out the average number of hours of sunlight in DC for each month. How would we do that? "
   ]
  },
  {
   "cell_type": "code",
   "execution_count": 40,
   "metadata": {},
   "outputs": [
    {
     "name": "stdout",
     "output_type": "stream",
     "text": [
      "[[7 6 7 6 5 5 5 6 6 7 6 7]\n",
      " [0 0 0 0 0 0 0 0 0 0 0 0]]\n",
      "[[5 5 7 7 8 8 8 8 7 6 4 4]\n",
      " [0 0 0 0 0 0 0 0 0 0 0 0]]\n"
     ]
    }
   ],
   "source": [
    "# Example\n",
    "\n",
    "# We have both hours and minutes - let's write both rows in terms of hours.\n",
    "\n",
    "dc_sunrise [1,:] = dc_sunrise[1,:] / 60\n",
    "dc_sunset [1,:] = dc_sunset[1,:] / 60\n",
    "\n",
    "print(dc_sunrise)\n",
    "print(dc_sunset)"
   ]
  },
  {
   "cell_type": "markdown",
   "metadata": {},
   "source": [
    "Wait, what just happened here, why did all the minutes go to zeros?\n",
    "It's because we'e been using arrays of integers so it did integer division and rounded all the values down. Fortunately we can just reload the data and try that again. This time we will load the values as floats. We can check that using the dtype function:"
   ]
  },
  {
   "cell_type": "code",
   "execution_count": 41,
   "metadata": {},
   "outputs": [
    {
     "name": "stdout",
     "output_type": "stream",
     "text": [
      "int64\n",
      "int64\n"
     ]
    }
   ],
   "source": [
    "print(dc_sunrise.dtype)\n",
    "print(dc_sunset.dtype)"
   ]
  },
  {
   "cell_type": "code",
   "execution_count": 45,
   "metadata": {},
   "outputs": [
    {
     "name": "stdout",
     "output_type": "stream",
     "text": [
      "float32\n",
      "float32\n"
     ]
    }
   ],
   "source": [
    "#Loading the values as floats\n",
    "\n",
    "dc_sunrise = np.float32(dc_sunrise_orig)\n",
    "dc_sunset = np.float32(dc_sunset_orig)\n",
    "\n",
    "print(dc_sunrise.dtype)\n",
    "print(dc_sunset.dtype)"
   ]
  },
  {
   "cell_type": "markdown",
   "metadata": {},
   "source": [
    "Now that we have arrays of floats we can do the division without a problem:"
   ]
  },
  {
   "cell_type": "code",
   "execution_count": 46,
   "metadata": {},
   "outputs": [
    {
     "name": "stdout",
     "output_type": "stream",
     "text": [
      "[[7.         6.         7.         6.         5.         5.\n",
      "  5.         6.         6.         7.         6.         7.        ]\n",
      " [0.38333333 0.95       0.28333333 0.48333332 0.8833333  0.6666667\n",
      "  0.8833333  0.33333334 0.8        0.26666668 0.81666666 0.3       ]]\n",
      "[[5.         5.         7.         7.         8.         8.\n",
      "  8.         8.         7.         6.         4.         4.        ]\n",
      " [0.18333334 0.76666665 0.26666668 0.76666665 0.25       0.6\n",
      "  0.56666666 0.06666667 0.3        0.51666665 0.9166667  0.8       ]]\n"
     ]
    }
   ],
   "source": [
    "dc_sunrise[1,:] = dc_sunrise[1,:] / 60\n",
    "dc_sunset[1,:] = dc_sunset[1,:] / 60.\n",
    "\n",
    "print(dc_sunrise)\n",
    "print(dc_sunset)"
   ]
  },
  {
   "cell_type": "code",
   "execution_count": 47,
   "metadata": {},
   "outputs": [
    {
     "name": "stdout",
     "output_type": "stream",
     "text": [
      "[[17.         17.         19.         19.         20.         20.\n",
      "  20.         20.         19.         18.         16.         16.        ]\n",
      " [ 0.18333334  0.76666665  0.26666668  0.76666665  0.25        0.6\n",
      "   0.56666666  0.06666667  0.3         0.51666665  0.9166667   0.8       ]]\n"
     ]
    }
   ],
   "source": [
    "# Example\n",
    "\n",
    "# let's make the sunset hours in military time. \n",
    "\n",
    "dc_sunset[0,:]+=12\n",
    "\n",
    "print(dc_sunset)"
   ]
  },
  {
   "cell_type": "code",
   "execution_count": 48,
   "metadata": {},
   "outputs": [
    {
     "name": "stdout",
     "output_type": "stream",
     "text": [
      "[7.383333  6.95      7.2833333 6.483333  5.883333  5.6666665 5.883333\n",
      " 6.3333335 6.8       7.266667  6.8166666 7.3      ]\n",
      "[17.183332 17.766666 19.266666 19.766666 20.25     20.6      20.566668\n",
      " 20.066668 19.3      18.516666 16.916666 16.8     ]\n"
     ]
    }
   ],
   "source": [
    "# Example\n",
    "# Now we can calculate the total number of hours after midnight it is \n",
    "# for sunrise and the sunset using the sum function. \n",
    "\n",
    "\n",
    "dc_sunrise_hrs = np.sum(dc_sunrise,0)\n",
    "dc_sunset_hrs = np.sum(dc_sunset,0)\n",
    "\n",
    "print(dc_sunrise_hrs)\n",
    "print(dc_sunset_hrs)\n"
   ]
  },
  {
   "cell_type": "markdown",
   "metadata": {},
   "source": [
    "The `np.sum ` command has multiple possible inputs. Here we inputed:\n",
    "* The array we wanted to sum\n",
    "* The direction we wanted to sum across (in this case, we wanted to add the rows so we put 0)"
   ]
  },
  {
   "cell_type": "code",
   "execution_count": 49,
   "metadata": {},
   "outputs": [
    {
     "data": {
      "text/plain": [
       "array([ 9.799999, 10.816667, 11.983334, 13.283333, 14.366667, 14.933334,\n",
       "       14.683334, 13.733334, 12.499999, 11.25    , 10.099999,  9.499999],\n",
       "      dtype=float32)"
      ]
     },
     "execution_count": 49,
     "metadata": {},
     "output_type": "execute_result"
    }
   ],
   "source": [
    "# Example\n",
    "# Find the number of minutes of daylight\n",
    "\n",
    "dc_daylight = dc_sunset_hrs - dc_sunrise_hrs \n",
    "dc_daylight"
   ]
  },
  {
   "cell_type": "code",
   "execution_count": 52,
   "metadata": {},
   "outputs": [
    {
     "name": "stdout",
     "output_type": "stream",
     "text": [
      "mean:  12.245833 hours\n",
      "range:  5.4333353 hours\n"
     ]
    }
   ],
   "source": [
    "# Example \n",
    "#Let's find the average (mean) number of hours of daylight per month for DC\n",
    "\n",
    "dc_mean_daylight = np.mean(dc_daylight)\n",
    "print('mean: ', dc_mean_daylight, 'hours')\n",
    "\n",
    "\n",
    "#Let's also find the range of hours of daylight for DC\n",
    "dc_range = np.max(dc_daylight) - np.min(dc_daylight)\n",
    "print('range: ', dc_range, 'hours')"
   ]
  },
  {
   "cell_type": "markdown",
   "metadata": {},
   "source": [
    "We also have sunrise and sunset data for 5 other cities:   Berlin, Germany; Canberra, Australia; Beijing, China; Helsinki, Finland; and Manilla, Philippines. The other arrays are named `berlin_sunrise, berlin_sunset, canberra_sunrise, canberra_sunset, beijing_sunrise, beijing_sunset, helsinki_sunrise, helsinki_sunset, manila_sunrise, manila_sunset`\n",
    "\n",
    "(Note that all arrays already contain float values so you do not need to convert the types)\n",
    "\n",
    "Have each person at your table pick a different city and use the cells below to figure out the average number of hours of daylight in each city so you can compare. "
   ]
  },
  {
   "cell_type": "code",
   "execution_count": 53,
   "metadata": {},
   "outputs": [
    {
     "name": "stdout",
     "output_type": "stream",
     "text": [
      "12.345833\n",
      "9.116667\n"
     ]
    }
   ],
   "source": [
    "#BERLIN\n",
    "\n",
    "berlin_sunset[1,:]/=60\n",
    "berlin_sunrise[1,:]/=60\n",
    "berlin_sunset[0,:]+=12\n",
    "berlin_mean = np.mean(np.sum(berlin_sunset,0)-np.sum(berlin_sunrise,0))\n",
    "berlin_max = np.max(np.sum(berlin_sunset,0)-np.sum(berlin_sunrise,0))\n",
    "berlin_min = np.min(np.sum(berlin_sunset,0)-np.sum(berlin_sunrise,0))\n",
    "berlin_range = berlin_max - berlin_min\n",
    "\n",
    "print(berlin_mean)\n",
    "print(berlin_range)"
   ]
  },
  {
   "cell_type": "code",
   "execution_count": 54,
   "metadata": {},
   "outputs": [
    {
     "name": "stdout",
     "output_type": "stream",
     "text": [
      "12.158333\n",
      "4.716666\n"
     ]
    }
   ],
   "source": [
    "#CANBERRA\n",
    "\n",
    "canberra_sunset[1,:]/=60\n",
    "canberra_sunrise[1,:]/=60\n",
    "canberra_sunset[0,:]+=12\n",
    "canberra_mean = np.mean(np.sum(canberra_sunset,0)-np.sum(canberra_sunrise,0))\n",
    "canberra_max = np.max((np.sum(canberra_sunset,0)-np.sum(canberra_sunrise,0)))\n",
    "canberra_min = np.min((np.sum(canberra_sunset,0)-np.sum(canberra_sunrise,0)))\n",
    "canberra_range = canberra_max - canberra_min\n",
    "\n",
    "print(canberra_mean)\n",
    "print(canberra_range)\n",
    "\n"
   ]
  },
  {
   "cell_type": "code",
   "execution_count": 55,
   "metadata": {},
   "outputs": [
    {
     "name": "stdout",
     "output_type": "stream",
     "text": [
      "12.2513895\n",
      "5.6333323\n"
     ]
    }
   ],
   "source": [
    "#BEIJING\n",
    "\n",
    "beijing_sunset[1,:]/=60\n",
    "beijing_sunrise[1,:]/=60\n",
    "beijing_sunset[0,:]+=12\n",
    "beijing_daylight = np.sum(beijing_sunset,0)-np.sum(beijing_sunrise,0)\n",
    "beijing_mean = np.mean(beijing_daylight)\n",
    "beijing_range = np.max(beijing_daylight)-np.min(beijing_daylight)\n",
    "print(beijing_mean)\n",
    "print(beijing_range)\n"
   ]
  },
  {
   "cell_type": "code",
   "execution_count": 56,
   "metadata": {},
   "outputs": [
    {
     "name": "stdout",
     "output_type": "stream",
     "text": [
      "12.47639\n",
      "13.0\n"
     ]
    }
   ],
   "source": [
    "#HELSINKI\n",
    "\n",
    "helsinki_sunset[1,:]/=60\n",
    "helsinki_sunrise[1,:]/=60\n",
    "helsinki_sunset[0,:]+=12\n",
    "helsinki_daylight = np.sum(helsinki_sunset,0)-np.sum(helsinki_sunrise,0)\n",
    "helsinki_mean = np.mean(np.sum(helsinki_sunset,0)-np.sum(helsinki_sunrise,0))\n",
    "helsinki_range = np.max(helsinki_daylight)- np.min(helsinki_daylight)\n",
    "print(helsinki_mean)\n",
    "print(helsinki_range)\n"
   ]
  },
  {
   "cell_type": "code",
   "execution_count": 57,
   "metadata": {},
   "outputs": [
    {
     "name": "stdout",
     "output_type": "stream",
     "text": [
      "12.176388\n",
      "1.7166681\n"
     ]
    }
   ],
   "source": [
    "#MANILA\n",
    "\n",
    "manila_sunset[1,:]/=60\n",
    "manila_sunrise[1,:]/=60\n",
    "manila_sunset[0,:]+=12\n",
    "manila_daylight = np.sum(manila_sunset,0)-np.sum(manila_sunrise,0)\n",
    "manila_mean = np.mean(np.sum(manila_sunset,0)-np.sum(manila_sunrise,0))\n",
    "manila_range = np.max(manila_daylight) - np.min(manila_daylight)\n",
    "print(manila_mean)\n",
    "print(manila_range)"
   ]
  },
  {
   "cell_type": "markdown",
   "metadata": {},
   "source": [
    "Which city had the most hours of daylight? \n",
    "type your answer here:\n",
    "...\n",
    "\n",
    "Which city has the biggest range in hours of daylight? \n",
    "type your answer here:\n",
    "...\n",
    "\n",
    "What conclusions can you draw from this?\n",
    "..."
   ]
  },
  {
   "cell_type": "markdown",
   "metadata": {},
   "source": [
    "### Finding the Elevation of a Hiking Path<a id='subsection2'></a>"
   ]
  },
  {
   "cell_type": "markdown",
   "metadata": {},
   "source": [
    "You and your friends have decided to go on a hike. We have already imported the an array called `contour`, which contains the information for a contour map giving the elevations of the area, and a list called `hiking_path`, which contains the pixels representing the path you and your friends will take. See the plot below:"
   ]
  },
  {
   "cell_type": "code",
   "execution_count": 64,
   "metadata": {},
   "outputs": [
    {
     "data": {
      "image/png": "[encoded data removed]",
      "text/plain": [
       "<Figure size 432x288 with 2 Axes>"
      ]
     },
     "metadata": {
      "needs_background": "light"
     },
     "output_type": "display_data"
    },
    {
     "data": {
      "image/png": "[encoded data removed]",
      "text/plain": [
       "<Figure size 432x288 with 1 Axes>"
      ]
     },
     "metadata": {
      "needs_background": "light"
     },
     "output_type": "display_data"
    }
   ],
   "source": [
    "# You haven't learned how to plot yet, so we did it for you. \n",
    "\n",
    "plot_path = np.zeros(contour.shape)\n",
    "for ii in range(len(hiking_path)):\n",
    "    plot_path[hiking_path[ii]] = 1\n",
    "\n",
    "fig = plt.figure(frameon=False)\n",
    "#im2 = plt.imshow(contour,cmap=plt.cm.viridis, alpha=.9, vmin = 1400, interpolation='bilinear')\n",
    "im1 = plt.imshow(plot_path, cmap=plt.cm.gray, interpolation='nearest')\n",
    "im2 = plt.imshow(contour,cmap=plt.cm.viridis, alpha=.9, vmin = 1400, interpolation='bilinear')\n",
    "plt.colorbar()\n",
    "plt.show()\n",
    "plt.axis('off');"
   ]
  },
  {
   "cell_type": "markdown",
   "metadata": {},
   "source": [
    "Looking at the plot, what color represents high elevation areas? How do you know?"
   ]
  },
  {
   "cell_type": "markdown",
   "metadata": {},
   "source": [
    "We can use `contour` and `hiking_path` to find the elevation for each step of the path. For example, if we wanted to find the elevation (in feet) of the first part, we would use the code in the next cell. "
   ]
  },
  {
   "cell_type": "code",
   "execution_count": 65,
   "metadata": {},
   "outputs": [
    {
     "data": {
      "text/plain": [
       "1650.6500094679448"
      ]
     },
     "execution_count": 65,
     "metadata": {},
     "output_type": "execute_result"
    }
   ],
   "source": [
    "# EXAMPLE\n",
    "contour[hiking_path[0]]"
   ]
  },
  {
   "cell_type": "code",
   "execution_count": 75,
   "metadata": {},
   "outputs": [
    {
     "name": "stdout",
     "output_type": "stream",
     "text": [
      "798.7935458897609\n"
     ]
    }
   ],
   "source": [
    "# EXERCISE\n",
    "# Use what you know about numpy arrays and loops to figure out \n",
    "# the maximum change in altitude on the hike\n",
    "\n",
    "elevations = np.zeros((len(hiking_path),1))\n",
    "\n",
    "for x in range(len(hiking_path)):\n",
    "    elevations[x]=contour[hiking_path[x]]\n",
    "\n",
    "#Another way:\n",
    "#i = 0\n",
    "#for x in hiking_path:\n",
    "#    elevations[i] = contour[x]\n",
    "#    i += 1\n",
    "    \n",
    "max_change = np.max(elevations) - np.min(elevations)\n",
    "print(max_change)"
   ]
  },
  {
   "cell_type": "markdown",
   "metadata": {},
   "source": [
    "---\n",
    "Notebook developed by: Kseniya Usovich, Baishakhi Bose, Alisa Bettale, Laurel Hales"
   ]
  }
 ],
 "metadata": {
  "anaconda-cloud": {},
  "kernelspec": {
   "display_name": "Python 3",
   "language": "python",
   "name": "python3"
  },
  "language_info": {
   "codemirror_mode": {
    "name": "ipython",
    "version": 3
   },
   "file_extension": ".py",
   "mimetype": "text/x-python",
   "name": "python",
   "nbconvert_exporter": "python",
   "pygments_lexer": "ipython3",
   "version": "3.8.8"
  }
 },
 "nbformat": 4,
 "nbformat_minor": 1
}
