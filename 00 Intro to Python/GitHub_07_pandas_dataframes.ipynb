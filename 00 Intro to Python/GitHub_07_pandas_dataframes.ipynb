{
  "cells": [
    {
      "cell_type": "markdown",
      "metadata": {
        "id": "2I4OLw_u2lDK"
      },
      "source": [
        "# Pandas DataFrames\n",
        "\n",
        "\n",
        "\n",
        "---\n",
        "\n",
        "### Table of Contents\n",
        "\n",
        "1 - [Manipulating Columns ](#section1)<br>\n",
        "\n",
        "&nbsp;&nbsp;&nbsp;&nbsp;&nbsp;&nbsp; 1.1 - [Indexing &  Slicing in Pandas](#subsection1)<br>\n",
        "\n",
        "&nbsp;&nbsp;&nbsp;&nbsp;&nbsp;&nbsp; 1.2 - [Uniqueness](#subsection2)<br>\n",
        "\n",
        "&nbsp;&nbsp;&nbsp;&nbsp;&nbsp;&nbsp; 1.3 - [Frequencies](#subsection3)<br>\n",
        "\n",
        "&nbsp;&nbsp;&nbsp;&nbsp;&nbsp;&nbsp; 1.4 - [Sorting](#subsection4)<br>\n",
        "\n",
        "&nbsp;&nbsp;&nbsp;&nbsp;&nbsp;&nbsp; 1.5 - [Min, Max, Range](#subsection5)<br>\n",
        "\n",
        "&nbsp;&nbsp;&nbsp;&nbsp;&nbsp;&nbsp; 1.6 - [Missing Values](#subsection6)<br>\n",
        "\n",
        "&nbsp;&nbsp;&nbsp;&nbsp;&nbsp;&nbsp; 1.7 - [GroupBy](#subsection7)<br>\n",
        "\n",
        "2 - [Booleans & Boolean Indexing](#section2)<br>\n",
        "\n",
        "\n",
        "---"
      ]
    },
    {
      "cell_type": "markdown",
      "metadata": {
        "id": "-blLlEyX2lDM"
      },
      "source": [
        "Before we start this notebook, similar to our previous notebook, we will have to run some code at the beginning to make sure everything is set up correctly. Please run the cells below."
      ]
    },
    {
      "cell_type": "code",
      "execution_count": null,
      "metadata": {
        "id": "F5S6Yi112lDN"
      },
      "outputs": [],
      "source": [
        "# RUN THIS CELL;\n",
        "\n",
        "###DO NOT MODIFY###\n",
        "\n",
        "import otter\n",
        "grader = otter.Notebook(tests_dir=\"data/07_intro_to_python\")"
      ]
    },
    {
      "cell_type": "code",
      "execution_count": null,
      "metadata": {
        "id": "ITEiH3P_2lDN"
      },
      "outputs": [],
      "source": [
        "import numpy as np\n",
        "import pandas as pd"
      ]
    },
    {
      "cell_type": "markdown",
      "metadata": {
        "id": "CpcXnjN32lDN"
      },
      "source": [
        "Let's begin by reading a new data set from the file `internet_world_data.csv`. We will use `pd.read_csv` just as we did before. We will use the keyword `index_col` to set the column 'Country' as our index. In addition, we will drop the column 'S.NO' and make sure the columns 'Internet users' and 'Population' will be in float data types so they are easier to work with in this notebook.\n",
        "\n",
        "You can learn more about the data [here](https://www.kaggle.com/datasets/ramjasmaurya/1-gb-internet-price)."
      ]
    },
    {
      "cell_type": "code",
      "execution_count": null,
      "metadata": {
        "id": "QeOjxbfV2lDN"
      },
      "outputs": [],
      "source": [
        "internet = pd.read_csv('data/internet_world_data.csv')\n",
        "internet.head()"
      ]
    },
    {
      "cell_type": "code",
      "execution_count": null,
      "metadata": {
        "id": "j7umGOwy2lDN"
      },
      "outputs": [],
      "source": [
        "internet = pd.read_csv('data/internet_world_data.csv', index_col='Country')\n",
        "\n",
        "internet = internet.drop('S.NO', axis=1)\n",
        "internet['Internet users'] = internet['Internet users'].str.replace(',','')\n",
        "internet['Internet users'] = internet['Internet users'].astype(float)\n",
        "internet['Population'] = internet['Population'].str.replace(',','')\n",
        "internet['Population'] = internet['Population'].astype(float)\n",
        "internet.head()"
      ]
    },
    {
      "cell_type": "markdown",
      "metadata": {
        "id": "acLpaiuG2lDN"
      },
      "source": [
        "In the five cells below, use some functions on the dataframe `internet` to do some **Exploratory Data Analysis** to explore the data!\n",
        "\n",
        "_You can always look back in Notebook 06 for ideas._"
      ]
    },
    {
      "cell_type": "code",
      "execution_count": null,
      "metadata": {
        "id": "3nz8o52A2lDN"
      },
      "outputs": [],
      "source": [
        "#Exploratory Data Analysis 1\n",
        "\n"
      ]
    },
    {
      "cell_type": "code",
      "execution_count": null,
      "metadata": {
        "id": "CgnsaCKn2lDN"
      },
      "outputs": [],
      "source": [
        "#Exploratory Data Analysis 2\n",
        "\n"
      ]
    },
    {
      "cell_type": "code",
      "execution_count": null,
      "metadata": {
        "id": "TikYk5eU2lDN"
      },
      "outputs": [],
      "source": [
        "#Exploratory Data Analysis 3\n",
        "\n"
      ]
    },
    {
      "cell_type": "code",
      "execution_count": null,
      "metadata": {
        "id": "n4nBKwNE2lDN"
      },
      "outputs": [],
      "source": [
        "#Exploratory Data Analysis 4\n",
        "\n"
      ]
    },
    {
      "cell_type": "code",
      "execution_count": null,
      "metadata": {
        "id": "qq0C-WEK2lDO"
      },
      "outputs": [],
      "source": [
        "#Exploratory Data Analysis 5\n",
        "\n"
      ]
    },
    {
      "cell_type": "markdown",
      "metadata": {
        "id": "KjYr1ZOX2lDO"
      },
      "source": [
        "## 1. Manipulating Columns\n",
        " <a name='Section1'></a>"
      ]
    },
    {
      "cell_type": "markdown",
      "metadata": {
        "id": "KukhcWAv2lDO"
      },
      "source": [
        "### 1.1 Indexing &  Slicing  <a name='subsection1'></a>"
      ]
    },
    {
      "cell_type": "markdown",
      "metadata": {
        "id": "BQO_fHnh2lDO"
      },
      "source": [
        "There are two main ways of indexing through DataFrames. We can still use our old friend, the square brackets `[:]`, or we can use it with the help of two functions: **`loc`** and **`iloc`**.\n",
        "\n",
        "**`loc`**: uses names or labels of rows and columns.  \n",
        "**`iloc`**: uses indices of rows and columns. You can think of *iloc* as *index-loc*.\n",
        "\n",
        "\n",
        "Let's start with loc:\n",
        "\n",
        "#### `.loc[rows-label(s), columns-label(s)]`\n",
        "`.loc` Helps us view and index our DataFrame, i.e. locating the data that we want.\n",
        "* It works with string labels. Notice that most of the times you will have specific column names, but our row names often come as a number. Hence the label of the rows will be a number.   \n",
        "* It can take\n",
        "    * one label __(`df.loc[row-label, 'col-label-1']`)__\n",
        "    * a list of labels __(`df.loc[[row-label 1, row-label-2, row-label-4],['col-label-1',  'col-label-2', 'col-label-4']]`)__\n",
        "    * or a _slice_ of labels __(`df.loc[row label-50 : row-label-100,'col-label-1': 'col-label-8']`)__\n",
        "\n",
        "\n",
        "**Remember!** `loc` is **inclusive**, `iloc` is **exclusive** for its stop index."
      ]
    },
    {
      "cell_type": "markdown",
      "metadata": {
        "id": "iqpFqbiz2lDO"
      },
      "source": [
        "We can still iterate through our DataFrame (aka table) with square brackets, by identifying the column name."
      ]
    },
    {
      "cell_type": "code",
      "execution_count": null,
      "metadata": {
        "id": "-tI6A-rq2lDO"
      },
      "outputs": [],
      "source": [
        "# EXAMPLE\n",
        "\n",
        "internet[\"Average price of 1GB (USD)\"]"
      ]
    },
    {
      "cell_type": "markdown",
      "metadata": {
        "id": "YeWJUJpL2lDO"
      },
      "source": [
        "So why would we want to opt out of this option and switch to `loc` and `iloc`? There are a few reasons for that, and the main being compute time. With the examples we use in this notebook, it will be impossible to notice the difference, but once we get to DataFrames with hundreds of thousands or millions of values, this will become important!\n",
        "\n",
        "On a climate care note, increased compute time leads to increased electricity and data server use, which contributes to climate change! And that's part of the reason we need to consider compute time. So let's dive into learning how to use our helpers `loc` and `iloc` to be more climate conscious."
      ]
    },
    {
      "cell_type": "markdown",
      "metadata": {
        "id": "m2YkLLIW2lDO"
      },
      "source": [
        "#### Rows"
      ]
    },
    {
      "cell_type": "markdown",
      "metadata": {
        "id": "qlTZQN9u2lDO"
      },
      "source": [
        "Let's use loc to see what are the values in the row on 'Japan' in our DataFrame."
      ]
    },
    {
      "cell_type": "code",
      "execution_count": null,
      "metadata": {
        "id": "ykWLBma62lDO"
      },
      "outputs": [],
      "source": [
        "# EXAMPLE\n",
        "\n",
        "internet.loc['Japan']"
      ]
    },
    {
      "cell_type": "code",
      "execution_count": null,
      "metadata": {
        "id": "SA8kn43T2lDO"
      },
      "outputs": [],
      "source": [
        "#Try using loc to find data on the United States\n",
        "# internet.loc['...']"
      ]
    },
    {
      "cell_type": "code",
      "execution_count": null,
      "metadata": {
        "id": "8j_uYIWD2lDO"
      },
      "outputs": [],
      "source": [
        "#Use loc to find data on the country of your choice!\n",
        "..."
      ]
    },
    {
      "cell_type": "markdown",
      "metadata": {
        "id": "wfh-n6uF2lDO"
      },
      "source": [
        "`iloc` uses **indices** instead of labels. Try running the cell below:"
      ]
    },
    {
      "cell_type": "code",
      "execution_count": null,
      "metadata": {
        "id": "qtnUBwCL2lDO"
      },
      "outputs": [],
      "source": [
        "internet.iloc[10]"
      ]
    },
    {
      "cell_type": "markdown",
      "metadata": {
        "id": "cgonf6mv2lDO"
      },
      "source": [
        "You can pass in indices as a list to return a dataframe instead of a series, as you can see in the cell below:"
      ]
    },
    {
      "cell_type": "code",
      "execution_count": null,
      "metadata": {
        "id": "fqjWIZBY2lDO"
      },
      "outputs": [],
      "source": [
        "internet.iloc[[10]]"
      ]
    },
    {
      "cell_type": "code",
      "execution_count": null,
      "metadata": {
        "id": "XnLQgVUP2lDP"
      },
      "outputs": [],
      "source": [
        "#EXERCISE - Use iloc to grab information on the country found at index 50\n",
        "\n",
        "# internet.iloc[...]"
      ]
    },
    {
      "cell_type": "markdown",
      "metadata": {
        "id": "aGiHDLzl2lDP"
      },
      "source": [
        "You can also grab specific rows by passing a list of indices:"
      ]
    },
    {
      "cell_type": "code",
      "execution_count": null,
      "metadata": {
        "id": "ge1xOsWw2lDP",
        "scrolled": true
      },
      "outputs": [],
      "source": [
        "internet.iloc[[1,3,6,8,9]]"
      ]
    },
    {
      "cell_type": "markdown",
      "metadata": {
        "id": "UlJglDWm2lDP"
      },
      "source": [
        "Recall __start:stop:step__ from lists? We can also select a range of rows with a specified step value in our data DataFrame. Below we will take every 2nd element from the row 0 to row 10.\n",
        "\n",
        "**Remember `iloc` is exclusive for the stop index! In other words, it only goes until stopIndex-1**"
      ]
    },
    {
      "cell_type": "code",
      "execution_count": null,
      "metadata": {
        "id": "dETjqd2s2lDP",
        "scrolled": true
      },
      "outputs": [],
      "source": [
        "internet.iloc[0:11:2]"
      ]
    },
    {
      "cell_type": "code",
      "execution_count": null,
      "metadata": {
        "id": "NjuXMP4e2lDP",
        "scrolled": true
      },
      "outputs": [],
      "source": [
        "#EXERCISE - use iloc to get every 5th element from row 0 to row 150\n",
        "\n",
        "internet.iloc[...]"
      ]
    },
    {
      "cell_type": "markdown",
      "metadata": {
        "id": "GOWvSp1B2lDP"
      },
      "source": [
        "We can also use `loc` to grab columns. Don't forget that we are still using `loc`, so we will have to use column labels."
      ]
    },
    {
      "cell_type": "code",
      "execution_count": null,
      "metadata": {
        "id": "XPJyu8a42lDP",
        "scrolled": true
      },
      "outputs": [],
      "source": [
        "# EXAMPLE\n",
        "\n",
        "internet.loc[:,'Most expensive 1GB (USD)']"
      ]
    },
    {
      "cell_type": "markdown",
      "metadata": {
        "id": "ewPmWHYU2lDP"
      },
      "source": [
        "Another way to index by only one column is by adding the column label in a list. It will return a a one-column DataFrame because we passed a list."
      ]
    },
    {
      "cell_type": "code",
      "execution_count": null,
      "metadata": {
        "id": "TTULiZmF2lDP"
      },
      "outputs": [],
      "source": [
        "# EXAMPLE\n",
        "\n",
        "internet.loc[:,['Most expensive 1GB (USD)']]"
      ]
    },
    {
      "cell_type": "markdown",
      "metadata": {
        "id": "duGAM97Y2lDQ"
      },
      "source": [
        "Notice that here we had to specify the range of rows that we want to index that column by. We used `:` in order to return all values in the column."
      ]
    },
    {
      "cell_type": "markdown",
      "metadata": {
        "id": "M0DM8gY-2lDQ"
      },
      "source": [
        "`iloc` works just as `loc`, but instead of using labels we use the index. How would you use iloc to get the 'Most expensive 1GB (USD)' column?\n",
        "\n",
        "_Hint: If you don't remember the order of columns, create a new cell and use `.columns` on your dataframe. Remember we start counting from 0!_\n",
        "\n"
      ]
    },
    {
      "cell_type": "code",
      "execution_count": null,
      "metadata": {
        "id": "gCsWPS1D2lDQ",
        "scrolled": true
      },
      "outputs": [],
      "source": [
        "# EXERCISE\n",
        "\n",
        "# internet.iloc[...]"
      ]
    },
    {
      "cell_type": "markdown",
      "metadata": {
        "id": "qayPf-d22lDQ"
      },
      "source": [
        "Just as we sliced rows, we can do the same with columns. In the cell below, use `loc` and return all rows for columns *Country code* through *NO. OF Internet Plans* (inclusive of the last column).\n",
        "\n"
      ]
    },
    {
      "cell_type": "code",
      "execution_count": null,
      "metadata": {
        "id": "vjTB04Xk2lDQ",
        "scrolled": true
      },
      "outputs": [],
      "source": [
        "# EXERCISE\n",
        "\n",
        "# internet.loc[...]"
      ]
    },
    {
      "cell_type": "markdown",
      "metadata": {
        "id": "CIjBLBJ12lDQ"
      },
      "source": [
        "Now do the same thing, but with `iloc`.\n",
        "\n",
        "_Remember that iloc is exclusive!_"
      ]
    },
    {
      "cell_type": "code",
      "execution_count": null,
      "metadata": {
        "id": "9jO18bqi2lDQ",
        "scrolled": true
      },
      "outputs": [],
      "source": [
        "#EXERCISE\n",
        "\n",
        "internet.iloc[...]"
      ]
    },
    {
      "cell_type": "markdown",
      "metadata": {
        "id": "R4YdC_Gy2lDQ"
      },
      "source": [
        "### 1.2 Uniqueness  <a name='subsection2'></a>"
      ]
    },
    {
      "cell_type": "markdown",
      "metadata": {
        "id": "vWtpYkgI2lDQ"
      },
      "source": [
        "Suppose that we want to find out the number of unique continental regions in our data. The `.unique()` method allows us to check this.\n",
        "\n",
        "There are two ways to accomplish this, one is using the \"dot\" notation, and the other using brackets. For the most part, we will stick to the second method as it can be easy to run into errors.\n",
        "\n",
        "Method 1: **`df.column_label.unique( )`**\n",
        "\n",
        "Method 2: **`df['column_label'].unique( )`**\n"
      ]
    },
    {
      "cell_type": "code",
      "execution_count": null,
      "metadata": {
        "id": "-h4ivOui2lDQ"
      },
      "outputs": [],
      "source": [
        "internet['Continental region'].unique()"
      ]
    },
    {
      "cell_type": "markdown",
      "metadata": {
        "id": "MO9E4aQ02lDQ"
      },
      "source": [
        "We can also use the method `.nunique()` to tell us how _many_ unique items we have rather which items, though this doesn't include missing or null values. An alternative way to compute this is __`len(df['column_label'].unique())`__, which **will** include missing values as a unique value."
      ]
    },
    {
      "cell_type": "code",
      "execution_count": null,
      "metadata": {
        "id": "99X2IKYf2lDQ"
      },
      "outputs": [],
      "source": [
        "# EXAMPLE\n",
        "\n",
        "internet['Continental region'].nunique()"
      ]
    },
    {
      "cell_type": "markdown",
      "metadata": {
        "deletable": false,
        "editable": false,
        "id": "EKZLeQCt2lDQ"
      },
      "source": [
        "In the cell below, use pandas to find how many unique values there are in the \"NO. OF Internet Plans\" column, and assign it to `n_unique`. (For this exercise, assume that `nan` values count as their own unique value)."
      ]
    },
    {
      "cell_type": "code",
      "execution_count": null,
      "metadata": {
        "id": "1DPTozcQ2lDQ",
        "tags": [
          "otter_answer_cell"
        ]
      },
      "outputs": [],
      "source": [
        "n_unique = ..."
      ]
    },
    {
      "cell_type": "code",
      "execution_count": null,
      "metadata": {
        "deletable": false,
        "editable": false,
        "id": "urmRlpK82ov0"
      },
      "outputs": [],
      "source": [
        "grader.check(\"q1\")"
      ]
    },
    {
      "cell_type": "markdown",
      "metadata": {
        "id": "mZdpr4Sf2lDR"
      },
      "source": [
        "### 1.3 Frequencies  <a name='subsection3'></a>"
      ]
    },
    {
      "cell_type": "markdown",
      "metadata": {
        "id": "uRvnElz12lDR"
      },
      "source": [
        "Say we want to find out how many instances of each continental region exists. In this case, we would use the `.value_counts()` method. This method returns the counts for the unique values in our column."
      ]
    },
    {
      "cell_type": "code",
      "execution_count": null,
      "metadata": {
        "id": "LvMyDa6l2lDR"
      },
      "outputs": [],
      "source": [
        "# EXAMPLE\n",
        "\n",
        "internet['Continental region'].value_counts()"
      ]
    },
    {
      "cell_type": "markdown",
      "metadata": {
        "id": "29z5Mgq62lDR"
      },
      "source": [
        "Now let's try to find out the counts for the number of internet plans."
      ]
    },
    {
      "cell_type": "code",
      "execution_count": null,
      "metadata": {
        "id": "Yq7Kb8YQ2lDR"
      },
      "outputs": [],
      "source": [
        "# EXERCISE\n",
        "\n",
        "# internet['...']...."
      ]
    },
    {
      "cell_type": "markdown",
      "metadata": {
        "id": "7UpWZ4pe2lDR"
      },
      "source": [
        "### 1.4 Sorting  <a name='subsection4'></a>"
      ]
    },
    {
      "cell_type": "markdown",
      "metadata": {
        "id": "QCdqp6v02lDR"
      },
      "source": [
        "Notice that this method sorts our values in decreasing order. What if you had an alternative sorting that you wanted to use? Maybe you want to sort by index, that is, by alphabetical order. In this case you would want to use the `sort_index()` method as seen below."
      ]
    },
    {
      "cell_type": "code",
      "execution_count": null,
      "metadata": {
        "id": "2PRLI1Rs2lDR",
        "scrolled": true
      },
      "outputs": [],
      "source": [
        "# EXAMPLE\n",
        "\n",
        "internet['Continental region'].value_counts().sort_index()"
      ]
    },
    {
      "cell_type": "markdown",
      "metadata": {
        "id": "RTZpoQvi2lDR"
      },
      "source": [
        "If instead you wanted to sort by counts, but in ascending (from smallest to largest) order, you can use the `.sort_values()` method instead with the argument __ascending = True__."
      ]
    },
    {
      "cell_type": "code",
      "execution_count": null,
      "metadata": {
        "id": "soUmnLwc2lDR"
      },
      "outputs": [],
      "source": [
        "# EXAMPLE\n",
        "\n",
        "internet['Continental region'].value_counts().sort_values(ascending=True)"
      ]
    },
    {
      "cell_type": "markdown",
      "metadata": {
        "id": "oaHHDHIV2lDR"
      },
      "source": [
        "We can also use `sort_values()` without calling `value_counts()` first. In the cell below, try using `sort_values()` for the column 'Most expensive 1GB (USD)'. Have it so that it sorts in decreasing order (highest to lowest):"
      ]
    },
    {
      "cell_type": "code",
      "execution_count": null,
      "metadata": {
        "id": "boRk25mJ2lDR"
      },
      "outputs": [],
      "source": [
        "# EXERCISE\n",
        "\n",
        "# internet['...']...."
      ]
    },
    {
      "cell_type": "markdown",
      "metadata": {
        "id": "9WFLjTq52lDS"
      },
      "source": [
        "You might notice that we are getting some **NaN** values! This will be revisited in section 1.6."
      ]
    },
    {
      "cell_type": "markdown",
      "metadata": {
        "id": "g357GNNx2lDS"
      },
      "source": [
        "### 1.5 Min, Max, Range  <a name='subsection5'></a>"
      ]
    },
    {
      "cell_type": "markdown",
      "metadata": {
        "id": "xWVZ5zGT2lDS"
      },
      "source": [
        "Say that for our analysis we want to find out which country has the highest number of internet users and which country has the lowest number of internet users.\n",
        "\n",
        "A good starting point might be to see what the __min__ and the __max__ are for our data. We can do this by using the functions `.min()` and `.max()` respectably."
      ]
    },
    {
      "cell_type": "code",
      "execution_count": null,
      "metadata": {
        "deletable": false,
        "editable": false,
        "id": "U6mJVdBw2lDS",
        "scrolled": true
      },
      "outputs": [],
      "source": [
        "# EXAMPLE\n",
        "\n",
        "print('Min number of users is :',internet['Internet users'].min())\n",
        "print('Max number of users is :',internet['Internet users'].max())"
      ]
    },
    {
      "cell_type": "markdown",
      "metadata": {
        "deletable": false,
        "editable": false,
        "id": "xwTCMwji2lDS"
      },
      "source": [
        "To get the range, all you need to do is subtract the min from the max! In the cell below, find the min, max and range of the number of internet users:"
      ]
    },
    {
      "cell_type": "code",
      "execution_count": null,
      "metadata": {
        "id": "kX_u6VkA2lDS",
        "tags": [
          "otter_answer_cell"
        ]
      },
      "outputs": [],
      "source": [
        "internet_users_max = ...\n",
        "internet_users_min = ...\n",
        "internet_users_range = ...\n",
        "\n",
        "print(\"The range is \", internet_users_range)"
      ]
    },
    {
      "cell_type": "code",
      "execution_count": null,
      "metadata": {
        "deletable": false,
        "editable": false,
        "id": "Pmr5fhZg2ov2"
      },
      "outputs": [],
      "source": [
        "grader.check(\"q2\")"
      ]
    },
    {
      "cell_type": "markdown",
      "metadata": {
        "id": "kThVaLl12lDS"
      },
      "source": [
        "Now try to find the range for *Most expensive 1GB (USD)*"
      ]
    },
    {
      "cell_type": "code",
      "execution_count": null,
      "metadata": {
        "id": "cSKCU92e2lDS"
      },
      "outputs": [],
      "source": [
        "#EXERCISE\n",
        "\n",
        "#YOUR CODE HERE\n"
      ]
    },
    {
      "cell_type": "markdown",
      "metadata": {
        "id": "ukvhQkEC2lDS"
      },
      "source": [
        "### 1.6 Missing Values  <a name='subsection6'></a>"
      ]
    },
    {
      "cell_type": "markdown",
      "metadata": {
        "id": "wN36-yHD2lDS"
      },
      "source": [
        "A common problem that you will come across when analyzing data is **missing** data. You can check if your data set contains missing data by using the function `.isnull()`. This function returns **True** whenever a values is missing (`Null`, `NaN`) and **False** whenever it is not. We can combine this function with `.sum()` to add up all the values that are True  & False.\n",
        "\n",
        "*In Python (as in most programming languages), True is represented by 1, and False by 0. So using the `.sum()` function allows us to treat these True/False as numerical values.*"
      ]
    },
    {
      "cell_type": "code",
      "execution_count": null,
      "metadata": {
        "id": "P4KLhs012lDS",
        "scrolled": true
      },
      "outputs": [],
      "source": [
        "# EXAMPLE\n",
        "\n",
        "internet.isnull().sum()"
      ]
    },
    {
      "cell_type": "markdown",
      "metadata": {
        "id": "n7ud3EWt2lDS"
      },
      "source": [
        "Notice that for the example above we checked for the number of missing values in each of the columns? What if you only wanted to do it for one? You can use the same methods we discuss prior, that is bracket and dot notation."
      ]
    },
    {
      "cell_type": "markdown",
      "metadata": {
        "deletable": false,
        "editable": false,
        "id": "GsH5itCK2lDT"
      },
      "source": [
        "In the cell below, find the number of null values in the columns *Population* and *NO. OF Internet Plans*."
      ]
    },
    {
      "cell_type": "code",
      "execution_count": null,
      "metadata": {
        "id": "FtssvE6i2lDT",
        "tags": [
          "otter_answer_cell"
        ]
      },
      "outputs": [],
      "source": [
        "n_null_pop = ...\n",
        "n_null_num_plans = ..."
      ]
    },
    {
      "cell_type": "code",
      "execution_count": null,
      "metadata": {
        "deletable": false,
        "editable": false,
        "id": "xba2MWMK2ov3"
      },
      "outputs": [],
      "source": [
        "grader.check(\"q3\")"
      ]
    },
    {
      "cell_type": "markdown",
      "metadata": {
        "id": "Ehau2j3_2lDT"
      },
      "source": [
        "However, **`Null`** and **`NaN`** are not the only ways to represent missing value. Sometimes, the data providers may choose special numerical values to represent missing data. For example, a missing value could appear as `999` (commonly used in census or other data involving humans) or even `-1`. This can help many more types of code to read the data as the correct data type (like `int`), but also requires that users understand what these strange values mean.\n",
        "\n",
        "In this data set, you might notice that instead of numerical values there are some notes - for example, if you look at the column *Average price of 1GB (USD)*, you will notice some countries with 'NO PROVIDERS' among other things.\n",
        "\n",
        "**Discuss:** Would these count as null values / missing data? Why or why not?"
      ]
    },
    {
      "cell_type": "markdown",
      "metadata": {
        "id": "QMpPbOhTMcjq"
      },
      "source": [
        "### 1.7 GroupBy  <a name='subsection7'></a>"
      ]
    },
    {
      "cell_type": "markdown",
      "metadata": {
        "id": "q5tjVEwENVjk"
      },
      "source": [
        "Dataframes can oftentimes be overwhelming due to the sheer quantity of data presented before you. Groupby is a function that helps you break down your dataframe and see patterns in your data.\n",
        "\n",
        "**Note:** When you use the groupby function, you also have to select a function in order to indicate what you would like to be done to the grouped data."
      ]
    },
    {
      "cell_type": "code",
      "execution_count": null,
      "metadata": {
        "id": "VbleGlTzMS0Z"
      },
      "outputs": [],
      "source": [
        "# EXAMPLE\n",
        "internet.groupby(\"Continental region\").count()"
      ]
    },
    {
      "cell_type": "markdown",
      "metadata": {
        "id": "K7-dy69fNmJP"
      },
      "source": [
        "Notice that in the example above we not only had to refer to the column that we wanted to group by, but we also applied the count function so that we would get an output.\n",
        "\n",
        "In the example below, take a look at how you can group by multiple columns in your internet dataframe."
      ]
    },
    {
      "cell_type": "code",
      "execution_count": null,
      "metadata": {
        "id": "W7tZGceFNrkW"
      },
      "outputs": [],
      "source": [
        "# EXAMPLE\n",
        "\n",
        "internet.groupby([\"Continental region\", \"Country\"])[[\"NO. OF Internet Plans\"]].min()"
      ]
    },
    {
      "cell_type": "markdown",
      "metadata": {
        "id": "cgEjsoklOb6j"
      },
      "source": [
        "In the cell below, find the highest number of internet plans for each Continental region."
      ]
    },
    {
      "cell_type": "code",
      "execution_count": null,
      "metadata": {
        "id": "t8DJ0W98Oo_A"
      },
      "outputs": [],
      "source": [
        "# EXERCISE\n",
        "\n",
        "# internet...(\"...\")[\"...\"]..."
      ]
    },
    {
      "cell_type": "markdown",
      "metadata": {
        "id": "_-Ofdg-H2lDT"
      },
      "source": [
        "## Booleans & Boolean Indexing <a name='section2'></a>"
      ]
    },
    {
      "cell_type": "markdown",
      "metadata": {
        "id": "gSN5kR6z2lDT"
      },
      "source": [
        "Suppose we only want to look at the countries that have less than 10 internet plans. We will use **boolean indexing** to create a DataFrame that meets this criteria.\n",
        "\n",
        "Boolean indexing allows us to define what kind of data we want to output. For example, we can only select rows that correspond to a specific continental region or choose the rows that are below a selected number of internet plans.\n",
        "\n",
        "We will use **comparison operators** in boolean indexing - below is the table from notebook 03:\n",
        "\n",
        "|Operator| Meaning|\n",
        "|--------|---------|\n",
        "|< | less than |\n",
        "|<= | less than or equal to|\n",
        "|> | greater than |\n",
        "|>= | greater than or equal to|\n",
        "|!= | not equal to|\n",
        "|== | equal to|\n",
        "\n",
        "Often people use the term **filtering data** when using boolean indexing. It's easier to break-up boolean indexing in steps by first creating a filter that specifies your criteria, then passing that filter to your dataframe."
      ]
    },
    {
      "cell_type": "markdown",
      "metadata": {
        "id": "fOzBD6gQ2lDT"
      },
      "source": [
        "For example, let's say we only wanted to look at countries that have **less than 10 internet plans.**\n",
        "\n",
        "First, let's create a filter using the appropriate comparison operator:"
      ]
    },
    {
      "cell_type": "code",
      "execution_count": null,
      "metadata": {
        "id": "g5oNXZwA2lDT"
      },
      "outputs": [],
      "source": [
        "# EXAMPLE\n",
        "\n",
        "internet_plan_filter = internet['NO. OF Internet Plans'] < 10\n",
        "internet_plan_filter"
      ]
    },
    {
      "cell_type": "markdown",
      "metadata": {
        "id": "aDVgkk2P2lDT"
      },
      "source": [
        "Next, we will pass this filter into our original dataframe:"
      ]
    },
    {
      "cell_type": "code",
      "execution_count": null,
      "metadata": {
        "id": "0pLURbDr2lDT"
      },
      "outputs": [],
      "source": [
        "#EXAMPLE\n",
        "\n",
        "internet[internet_plan_filter]"
      ]
    },
    {
      "cell_type": "markdown",
      "metadata": {
        "id": "SwSnbyQr2lDT"
      },
      "source": [
        "You can see that with the filter applied, we are only looking at data of the countries that fulfill the condition of having less than 10 internet plans."
      ]
    },
    {
      "cell_type": "markdown",
      "metadata": {
        "deletable": false,
        "editable": false,
        "id": "lRJwbSJT2lDT"
      },
      "source": [
        "In the cell below, create a filter to represent the rows in which there are at least 50 `NO. OF Internet Plans`. How many countries have 50 or more internet plans?\n",
        "\n",
        "**Hint:** you can use our old friend `len()`."
      ]
    },
    {
      "cell_type": "code",
      "execution_count": null,
      "metadata": {
        "id": "mkLb_9Ai2lDT",
        "tags": [
          "otter_answer_cell"
        ]
      },
      "outputs": [],
      "source": [
        "internet_plan_filter = ...\n",
        "\n",
        "n_at_least_50 = ..."
      ]
    },
    {
      "cell_type": "code",
      "execution_count": null,
      "metadata": {
        "deletable": false,
        "editable": false,
        "id": "nT4KyjDj2ov5"
      },
      "outputs": [],
      "source": [
        "grader.check(\"q4\")"
      ]
    },
    {
      "cell_type": "markdown",
      "metadata": {
        "id": "7O6iXP9o2lDT"
      },
      "source": [
        "We can also see if rows of data fulfill multiple conditions. We can use `&` to unite them in our filter.\n",
        "\n",
        "**Note**: if we want to use two or more specifications, we need to pass each of them in a separate set of parentheses. The structure should look like this:\n",
        "\n",
        "`(argument 1) & (argument 2)`"
      ]
    },
    {
      "cell_type": "markdown",
      "metadata": {
        "id": "N2s6R0PD2lDT"
      },
      "source": [
        "In the example below, let's find countries that have 50 or more internet plans located in the continental region of Sub-Saharan Africa:"
      ]
    },
    {
      "cell_type": "code",
      "execution_count": null,
      "metadata": {
        "id": "l2UT49vH2lDT"
      },
      "outputs": [],
      "source": [
        "# EXAMPLE\n",
        "\n",
        "internet_plan_filter = (internet['NO. OF Internet Plans'] >= 50) & (internet['Continental region'] == 'SUB-SAHARAN AFRICA')\n",
        "\n",
        "internet[internet_plan_filter]"
      ]
    },
    {
      "cell_type": "markdown",
      "metadata": {
        "id": "BubbjMmo2lDT"
      },
      "source": [
        "In the cell below, find countries in the continental region Western Europe that have a value less than 0.5 USD for the cheapest 1GB of internet for 30 days:"
      ]
    },
    {
      "cell_type": "code",
      "execution_count": null,
      "metadata": {
        "id": "ABwBR8hr2lDU"
      },
      "outputs": [],
      "source": [
        "# EXERCISE\n",
        "\n",
        "# internet_price_filter = (internet['...'] ...) & (internet['...'] ...)\n",
        "\n",
        "# internet[...]"
      ]
    },
    {
      "cell_type": "markdown",
      "metadata": {
        "id": "1g8nZrM32lDU"
      },
      "source": [
        "In the cell below, find countries in the region South America that has a population greater than 10 million (10000000) and have less than 50 internet plans."
      ]
    },
    {
      "cell_type": "code",
      "execution_count": null,
      "metadata": {
        "id": "akvLstFQ2lDU"
      },
      "outputs": [],
      "source": [
        "# EXERCISE\n",
        "\n",
        "internet_filter = ...\n",
        "\n",
        "# internet[...]"
      ]
    },
    {
      "cell_type": "markdown",
      "metadata": {
        "id": "rXvpURa_2lDU"
      },
      "source": [
        "---\n",
        "Notebook developed by: Kseniya Usovich, Karla Palos, Alisa Bettale, Arianna Formenti, Sage Miller, Evan Neill"
      ]
    }
  ],
  "metadata": {
    "anaconda-cloud": {},
    "colab": {
      "provenance": []
    },
    "kernelspec": {
      "display_name": ".venv",
      "language": "python",
      "name": "python3"
    },
    "language_info": {
      "codemirror_mode": {
        "name": "ipython",
        "version": 3
      },
      "file_extension": ".py",
      "mimetype": "text/x-python",
      "name": "python",
      "nbconvert_exporter": "python",
      "pygments_lexer": "ipython3",
      "version": "3.11.1"
    },
    "vscode": {
      "interpreter": {
        "hash": "1de2c9b99b67c74942ae62ba9f4273989cfcd06b191aeb61677ac908252bed7d"
      }
    }
  },
  "nbformat": 4,
  "nbformat_minor": 0
}
