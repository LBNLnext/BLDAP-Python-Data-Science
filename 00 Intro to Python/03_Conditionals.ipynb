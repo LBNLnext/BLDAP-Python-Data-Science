{
 "cells": [
  {
   "cell_type": "markdown",
   "metadata": {
    "id": "QULY5UK0RNyg"
   },
   "source": [
    "\n",
    "------\n",
    "\n",
    "# Conditionals\n",
    "\n",
    "\n",
    "\n",
    "\n",
    "\n",
    "### Table of Contents\n",
    "\n",
    "\n",
    "1 - [Booleans and Comparison Operators](#section1)<br> \n",
    "\n",
    "2 - [Conditional Statements](#section2)<br>\n",
    "\n",
    "3 - [Challenge: Using Conditionals to See If The Player Can Move](#section3)<br>\n",
    "\n",
    "4 - [Exit Ticket](#section4)<br>\n",
    "\n"
   ]
  },
  {
   "cell_type": "code",
   "execution_count": null,
   "metadata": {},
   "outputs": [],
   "source": [
    "# RUN THIS CELL;\n",
    "\n",
    "import math\n",
    "\n",
    "###DO NOT MODIFY###\n",
    "import numpy as np\n",
    "from matplotlib import pyplot as plt\n",
    "from jupyter_utils import *\n",
    "%matplotlib inline"
   ]
  },
  {
   "cell_type": "markdown",
   "metadata": {
    "id": "0hXQSpRPRNym"
   },
   "source": [
    "Instead of a sequential execution, we often need to execute a specific code based on a condition. It also helps in decision-making, preferably when we prefer to execute a piece of code only if certain conditionals are met."
   ]
  },
  {
   "cell_type": "markdown",
   "metadata": {},
   "source": [
    "# Booleans and Comparison Operators <a id='section1'></a>"
   ]
  },
  {
   "cell_type": "markdown",
   "metadata": {},
   "source": [
    "Booleans can only take **True** or **False** values. They represent the \"truth\" values in a logical expression, and can help us answer questions that require a binary responses (either yes or no) whenever a given condition is or is not met."
   ]
  },
  {
   "cell_type": "code",
   "execution_count": null,
   "metadata": {
    "id": "kQbZoU5SRNym"
   },
   "outputs": [],
   "source": [
    "# EXAMPLE \n",
    "\n",
    "test1 = test_var < -1\n",
    "\n",
    "print(test1)"
   ]
  },
  {
   "cell_type": "code",
   "execution_count": null,
   "metadata": {
    "id": "6xhQO34CRNyn"
   },
   "outputs": [],
   "source": [
    "# EXAMPLE \n",
    "\n",
    "test2 = test_var > 5\n",
    "\n",
    "print(test2)"
   ]
  },
  {
   "cell_type": "markdown",
   "metadata": {},
   "source": [
    "Sometimes we want more than one expression then we can use `and` and `or`\n"
   ]
  },
  {
   "cell_type": "code",
   "execution_count": null,
   "metadata": {},
   "outputs": [],
   "source": [
    "# Example\n",
    "# Based on what we know, is -1< test_var <5 ?\n",
    "\n",
    "# Here's how to test that in one line\n",
    "\n",
    "test3 = -1<test_var and test_var<5\n",
    "print(test3)"
   ]
  },
  {
   "cell_type": "code",
   "execution_count": null,
   "metadata": {},
   "outputs": [],
   "source": [
    "# Example\n",
    "# It's time we found out what value test_var has. \n",
    "\n",
    "test_var == 0"
   ]
  },
  {
   "cell_type": "markdown",
   "metadata": {},
   "source": [
    "Use `and` if you want both conditions to be true.\n",
    "\n",
    "\n",
    "Use `or` if you want at least condition to be true. "
   ]
  },
  {
   "cell_type": "code",
   "execution_count": null,
   "metadata": {},
   "outputs": [],
   "source": [
    "# Example\n",
    "\n",
    "x <- 5 or x < 5"
   ]
  },
  {
   "cell_type": "code",
   "execution_count": null,
   "metadata": {},
   "outputs": [],
   "source": [
    "# Example\n",
    "x <- 5 and x < 5"
   ]
  },
  {
   "cell_type": "markdown",
   "metadata": {},
   "source": [
    "Why do the two cells above give different results? What is the difference in the questions we are asking?"
   ]
  },
  {
   "cell_type": "markdown",
   "metadata": {
    "id": "o-YgKBgwRNyp"
   },
   "source": [
    "Here is a list of **comparison operators**\n",
    "\n",
    "|Operator| Meaning|\n",
    "|--------|---------|\n",
    "|< | less than |\n",
    "|<= | less than or equal to|\n",
    "|> | greater than |\n",
    "|>= | greater than or equal to|\n",
    "|!= | not equal to|\n",
    "|== | equal to|\n",
    "\n",
    "Be careful when using the equal to operator **==**. \n",
    "\n",
    "Recall that **=** is used to assign a value to a variable."
   ]
  },
  {
   "cell_type": "markdown",
   "metadata": {
    "id": "zAdrV2V-RNyp"
   },
   "source": [
    "Let us try some exercises:\n",
    "\n",
    "For these exercises you will be using comparison operators to find the value of `mystery_number`"
   ]
  },
  {
   "cell_type": "markdown",
   "metadata": {
    "id": "cmMJbjzCRNyq"
   },
   "source": [
    "**Exercise 1:**  Is `mystery_number` less than 8?"
   ]
  },
  {
   "cell_type": "code",
   "execution_count": null,
   "metadata": {
    "id": "2FCcGQVuRNyq"
   },
   "outputs": [],
   "source": [
    "# EXAMPLE\n",
    "mystery_number < 8"
   ]
  },
  {
   "cell_type": "markdown",
   "metadata": {
    "id": "hAAi1rSURNyq"
   },
   "source": [
    "**Exercise 2:**  Is `mystery_number` greater than or equal to two?"
   ]
  },
  {
   "cell_type": "code",
   "execution_count": null,
   "metadata": {
    "id": "kqrlVFe-RNyq"
   },
   "outputs": [],
   "source": [
    "# YOUR CODE \n",
    "..."
   ]
  },
  {
   "cell_type": "markdown",
   "metadata": {
    "id": "5FsxzPtURNyr"
   },
   "source": [
    "**Exercise 3:**  Is `mystery_number` plus two equal to eight?"
   ]
  },
  {
   "cell_type": "code",
   "execution_count": null,
   "metadata": {
    "id": "oJXKCZS7RNyr"
   },
   "outputs": [],
   "source": [
    "# YOUR CODE\n",
    "..."
   ]
  },
  {
   "cell_type": "markdown",
   "metadata": {
    "id": "5FsxzPtURNyr"
   },
   "source": [
    "**Exercise 4:**  Is `mystery_number` even?\n",
    "\n",
    "*Hint: if a number, n, is even, then it is divisible by 2, so `n%2 == 0`*"
   ]
  },
  {
   "cell_type": "code",
   "execution_count": null,
   "metadata": {
    "id": "oJXKCZS7RNyr"
   },
   "outputs": [],
   "source": [
    "# YOUR CODE\n",
    "..."
   ]
  },
  {
   "cell_type": "markdown",
   "metadata": {
    "id": "5FsxzPtURNyr"
   },
   "source": [
    "**Exercise 4:**  Make and check a guess for the value of `mystery_number`?"
   ]
  },
  {
   "cell_type": "code",
   "execution_count": null,
   "metadata": {},
   "outputs": [],
   "source": [
    "..."
   ]
  },
  {
   "cell_type": "markdown",
   "metadata": {},
   "source": [
    "In the cells below come up with your own tests to identify `mystery_number_b`. See if you can do it in 5 guesses or less."
   ]
  },
  {
   "cell_type": "code",
   "execution_count": null,
   "metadata": {},
   "outputs": [],
   "source": []
  },
  {
   "cell_type": "code",
   "execution_count": null,
   "metadata": {},
   "outputs": [],
   "source": []
  },
  {
   "cell_type": "code",
   "execution_count": null,
   "metadata": {},
   "outputs": [],
   "source": []
  },
  {
   "cell_type": "code",
   "execution_count": null,
   "metadata": {},
   "outputs": [],
   "source": []
  },
  {
   "cell_type": "code",
   "execution_count": null,
   "metadata": {},
   "outputs": [],
   "source": []
  },
  {
   "cell_type": "markdown",
   "metadata": {},
   "source": [
    "# Conditional Statements <a id='section2'></a>"
   ]
  },
  {
   "cell_type": "markdown",
   "metadata": {},
   "source": [
    "A conditional statement is where what the code does depends on some condition. Think of them like giant flow charts, where what you do next depends on the answer to a question.\n",
    "<img src=\"images/flow_chart.jpeg\">\n",
    "Image from https://welldonestuff.com/inconsequential-dilemmas-funny-flow-charts"
   ]
  },
  {
   "cell_type": "markdown",
   "metadata": {
    "id": "g2gr7esVRNys"
   },
   "source": [
    "A conditional statement has the following form:\n",
    "\n",
    "`if <condition>:\n",
    "    <do_something> \n",
    "elif <condition>:\n",
    "    <do_something>\n",
    "else:\n",
    "     <do_something>`\n",
    "        "
   ]
  },
  {
   "cell_type": "code",
   "execution_count": null,
   "metadata": {
    "id": "oeTD90nuRNys"
   },
   "outputs": [],
   "source": [
    "# EXAMPLE\n",
    "\n",
    "if 5 < 6:\n",
    "    print(\"True. 5 is less than 6!\")\n",
    "else:\n",
    "    print(\"False. What is math?\")"
   ]
  },
  {
   "cell_type": "markdown",
   "metadata": {
    "id": "ZPBpXU_lRNys"
   },
   "source": [
    "**How do conditional statements work?**\n",
    "* First, it evaluated the header expression (which is the `if` statement). If the statement is True, then it executes the first suite otherwise, it checks the condition of the `elif`, and so on. \n",
    "* It will only execute the suite (do_something) of the `else` clause, if the conditions of the `if` and `elif` are false (not met). \n",
    "\n",
    "\n",
    "**Some notes about conditional statements:**\n",
    "* You can have as many `elif` expressions as you want, but you can only have one `if` and one `else` statement. \n",
    "* `else` always comes at the end.\n",
    "* You do not always need an `else`.\n",
    "* When you execute a conditional statement, you must ALWAYS consider the order of you statements."
   ]
  },
  {
   "cell_type": "markdown",
   "metadata": {},
   "source": [
    "Let's say I want to write code that outputs sentence for how many bananas I want to buy. "
   ]
  },
  {
   "cell_type": "code",
   "execution_count": null,
   "metadata": {},
   "outputs": [],
   "source": [
    "# Example \n",
    "n_bananas = 5\n",
    "\n",
    "statement = \"I want to buy \" + str(n_bananas) + ' banana.'\n",
    "print(statement)\n",
    "\n",
    "\n",
    "# Does it still sound right if I have 5 bananas?"
   ]
  },
  {
   "cell_type": "code",
   "execution_count": null,
   "metadata": {},
   "outputs": [],
   "source": [
    "n_banana = -2\n",
    "statement = \"I want to buy \" + str(n_banana) + ' banana'\n",
    "\n",
    "if n_banana == 1:\n",
    "    statement +='.'\n",
    "else:\n",
    "    statement += 's.'\n",
    "    \n",
    "print(statement)\n",
    "\n",
    "# what if some joker puts in a negative number of bananas?"
   ]
  },
  {
   "cell_type": "code",
   "execution_count": null,
   "metadata": {},
   "outputs": [],
   "source": [
    "n_banana = 0\n",
    "\n",
    "statement = \"I want to buy \" + str(n_banana) + ' banana'\n",
    "if n_banana == 1:\n",
    "    statement +='.'\n",
    "elif n_banana < 0:\n",
    "    statement = \"That's silly, I can't buy \" + str(n_banana) + ' bananas.'\n",
    "else:\n",
    "    statement += 's.'\n",
    "    \n",
    "print(statement)\n",
    "\n"
   ]
  },
  {
   "cell_type": "markdown",
   "metadata": {},
   "source": [
    "Nested conditional statements are when you have conditional statements inside other conditional statements. "
   ]
  },
  {
   "cell_type": "code",
   "execution_count": null,
   "metadata": {},
   "outputs": [],
   "source": [
    "#what if the store only has 10 bananas?\n",
    "n_banana = 15\n",
    "max_bananas = 10\n",
    "\n",
    "statement = \"I want to buy \" + str(n_banana) + ' banana'\n",
    "\n",
    "if n_banana == 1:\n",
    "    statement +='.'\n",
    "elif n_banana < 0:\n",
    "    statement = \"That's silly. I can't buy \" + str(n_banana) + ' bananas.'\n",
    "else:\n",
    "    if n_banana<max_bananas:\n",
    "        statement += 's.'\n",
    "    else: \n",
    "        statement += 's, but the store only has '+str(max_bananas)+'.'\n",
    "    \n",
    "print(statement)\n",
    "\n"
   ]
  },
  {
   "cell_type": "code",
   "execution_count": null,
   "metadata": {
    "id": "oeTD90nuRNys"
   },
   "outputs": [],
   "source": [
    "# EXAMPLE\n",
    "\n",
    "var1 = 200\n",
    "var2 = 200\n",
    "\n",
    "if var2 > var1:\n",
    "    print(\"var2 is greater than var1\")\n",
    "else: \n",
    "    print(\"var2 is less than var1\")"
   ]
  },
  {
   "cell_type": "markdown",
   "metadata": {
    "id": "ZPBpXU_lRNys"
   },
   "source": [
    "Note in the above example, since the condition in the if statement was not met, the else statement is executed. How will you modify the above code to print \"var 1 is equal to var 2\"?"
   ]
  },
  {
   "cell_type": "code",
   "execution_count": null,
   "metadata": {
    "id": "oeTD90nuRNys"
   },
   "outputs": [],
   "source": [
    "# EXERCISE\n",
    "\n",
    "var1 = 200\n",
    "var2 = 200\n",
    "\n",
    "if var2 > var1:\n",
    "    print(\"var2 is greater than var1\")\n",
    "elif ...:\n",
    "    ...\n",
    "else: \n",
    "    print(\"var2 is less than var1\")"
   ]
  },
  {
   "cell_type": "markdown",
   "metadata": {},
   "source": [
    "Before running the example below, guess what the output will be.\n",
    "\n",
    "What might the output be if you change the value of fizzbuzz to 9? 20? 32? Try it out!"
   ]
  },
  {
   "cell_type": "code",
   "execution_count": null,
   "metadata": {
    "id": "VcbbTX_sRNyt",
    "outputId": "c107bd5c-93b5-47c6-dc54-d83ccc12c63a"
   },
   "outputs": [],
   "source": [
    "# EXAMPLE \n",
    "\n",
    "fizzbuzz = 15\n",
    "if fizzbuzz % 3 == 0 and fizzbuzz % 5 == 0:\n",
    "    print(\"fizzbuzz\")\n",
    "elif fizzbuzz % 3 == 0:\n",
    "    print(\"fizz\")\n",
    "elif fizzbuzz % 5 == 0:\n",
    "    print(\"buzz\")"
   ]
  },
  {
   "cell_type": "markdown",
   "metadata": {},
   "source": [
    "If you tried fizzbuzz = 32, you should have seen that the code did not provide any output. This is because all conditionals were evaluated to be false and all print statements were skipped. \n",
    "\n",
    "Edit the above code so that it prints \"fizzbuzz-dud\" if fizzbuzz is not divisible by 3 or 5."
   ]
  },
  {
   "cell_type": "code",
   "execution_count": null,
   "metadata": {
    "id": "VcbbTX_sRNyt",
    "outputId": "c107bd5c-93b5-47c6-dc54-d83ccc12c63a"
   },
   "outputs": [],
   "source": [
    "# EXERCISE \n",
    "\n",
    "fizzbuzz = 32\n",
    "if fizzbuzz % 3 == 0 and fizzbuzz % 5 == 0:\n",
    "    print(\"fizzbuzz\")\n",
    "elif fizzbuzz % 3 == 0:\n",
    "    print(\"fizz\")\n",
    "elif fizzbuzz % 5 == 0:\n",
    "    print(\"buzz\")\n",
    "...:\n",
    "    ..."
   ]
  },
  {
   "cell_type": "markdown",
   "metadata": {},
   "source": [
    "#### Pay Attention to the indents\n",
    "Anything that doesn't have an indent isn't part of the conditional statement."
   ]
  },
  {
   "cell_type": "code",
   "execution_count": null,
   "metadata": {
    "id": "ODN-DQmNRNyt",
    "outputId": "bcd5f813-730b-479a-bcfc-cf46ff57d5fd"
   },
   "outputs": [],
   "source": [
    "# EXAMPLE \n",
    "\n",
    "var1 = 1\n",
    "var2 = 2\n",
    "if var2 > var1:\n",
    "    var2 = 0\n",
    "print(\"var1 is \"+str(var1)) \n",
    "print(\"var2 is \"+str(var2)) \n",
    "print(\"var2 is equal to var1\")\n"
   ]
  },
  {
   "cell_type": "markdown",
   "metadata": {
    "id": "ZPBpXU_lRNys"
   },
   "source": [
    "The print statements in the above example are not within the scope of the conditional statement (they aren't indented). As such, it gets executed regardless of whether the condition is met or not.\n",
    "\n",
    "What is the final value of var2 after running the entire code?"
   ]
  },
  {
   "cell_type": "markdown",
   "metadata": {},
   "source": [
    "In the cell below, the variable `team` specifies a string that specifies a team."
   ]
  },
  {
   "cell_type": "code",
   "execution_count": null,
   "metadata": {
    "id": "ODN-DQmNRNyt",
    "outputId": "bcd5f813-730b-479a-bcfc-cf46ff57d5fd"
   },
   "outputs": [],
   "source": [
    "# EXERCISE\n",
    "\n",
    "\n",
    "# if team is equal to \"49ers\", print \"Go Niners\", if not print \"Not my team\".\n",
    "if ...:\n",
    "    ...\n",
    "else:\n",
    "    ...\n",
    "\n",
    "print(team)"
   ]
  },
  {
   "cell_type": "markdown",
   "metadata": {},
   "source": [
    "Try it again with the string `team2`"
   ]
  },
  {
   "cell_type": "code",
   "execution_count": null,
   "metadata": {
    "id": "ODN-DQmNRNyt",
    "outputId": "bcd5f813-730b-479a-bcfc-cf46ff57d5fd"
   },
   "outputs": [],
   "source": [
    "# EXERCISE\n",
    "\n",
    "\n",
    "# if team is equal to \"49ers\", print \"Go Niners\", if not print \"Not my team\". \n",
    "if ...:\n",
    "    ...\n",
    "else:\n",
    "    ...\n",
    "\n",
    "\n",
    "print(team2)"
   ]
  },
  {
   "cell_type": "markdown",
   "metadata": {},
   "source": [
    "Did you get the responses you expected?"
   ]
  },
  {
   "cell_type": "markdown",
   "metadata": {
    "id": "0ejo7ZSERNy0"
   },
   "source": [
    "**Conditional Statements in Functions**\n",
    "\n",
    "In the cell below, we are going to define a function that will multiply the two numbers you give it only if they are not equal to each other."
   ]
  },
  {
   "cell_type": "code",
   "execution_count": null,
   "metadata": {
    "id": "Gp--59GLRNy0"
   },
   "outputs": [],
   "source": [
    "# EXAMPLE\n",
    "\n",
    "def mult_not_eq(x, y):\n",
    "    \n",
    "    # If the first number is not equal to the second\n",
    "    if x!=y:\n",
    "    # I will multiply them\n",
    "        return x*y\n",
    "    else:\n",
    "        print(\"Use the square function instead\")\n",
    "        \n",
    "        \n"
   ]
  },
  {
   "cell_type": "markdown",
   "metadata": {},
   "source": [
    "Now that we have written the function, we can use the function. "
   ]
  },
  {
   "cell_type": "code",
   "execution_count": null,
   "metadata": {},
   "outputs": [],
   "source": [
    "mult_not_eq(5, 5)"
   ]
  },
  {
   "cell_type": "markdown",
   "metadata": {
    "id": "1qQ_NdoRRNy0"
   },
   "source": [
    "Now it's time for you to define a function. Create a function that will add up two numbers, but only if they are not equals."
   ]
  },
  {
   "cell_type": "code",
   "execution_count": null,
   "metadata": {
    "id": "VEawaOJgRNy0"
   },
   "outputs": [],
   "source": [
    "# EXERCISE\n",
    "\n",
    "def sum_not_equals(x, y):\n",
    "    if ...:\n",
    "        ...\n",
    "    else:\n",
    "        print('x and y are equal use multiplication')\n",
    "    \n",
    "    \n"
   ]
  },
  {
   "cell_type": "code",
   "execution_count": null,
   "metadata": {},
   "outputs": [],
   "source": [
    "sum_not_equals(1, 5)"
   ]
  },
  {
   "cell_type": "markdown",
   "metadata": {},
   "source": [
    "You can also have functions that return a boolean, and then use that function in a conditional statement, we'll see that in a little bit"
   ]
  },
  {
   "cell_type": "markdown",
   "metadata": {},
   "source": [
    "# Challenge: Using Conditionals to See If The Player Can Move <a id='section3'></a>"
   ]
  },
  {
   "cell_type": "code",
   "execution_count": null,
   "metadata": {},
   "outputs": [],
   "source": [
    "pos_x = 4\n",
    "pos_y = 2\n",
    "dir_x = 1\n",
    "dir_y = 0"
   ]
  },
  {
   "cell_type": "markdown",
   "metadata": {},
   "source": [
    "Our player is starting at the beginning (4,2) \n",
    "<img src = \"images/show_direc.png\">\n",
    "\n",
    "You can use the following functions: \n",
    "* `checkMove(pos_x_test, pos_y_test)` - returns True if (pos_x_test, pos_y_test) is a possible location. \n",
    "* `steps(n, pos_x, pos_y, dir_x, dir_y)` - returns a pos_x_new and pos_y_new after taking n steps forward.\n",
    "* `turnRight(dir_x, dir_y)` - returns a direc_x_new and direc_y_new giving the new direction after turning right.\n",
    "* `turnLeft(dir_x, dir_y)` - returns a direc_x_new and direc_y_new giving the new direction after turning left.\n",
    "* `jump(pos_x, pos_y, dir_x, dir_y)` - returns a pos_x_new and pos_y_new after jumping forward. "
   ]
  },
  {
   "cell_type": "markdown",
   "metadata": {},
   "source": [
    "Let's practice using the `checkMove` function:"
   ]
  },
  {
   "cell_type": "code",
   "execution_count": null,
   "metadata": {},
   "outputs": [],
   "source": [
    "# Example\n",
    "\n",
    "# Let's see if it is possible to move 2 steps forward.\n",
    "# First we need to calcuate where that would put us, so we are going to find a test x_pos and y_pos\n",
    "\n",
    "test_x, test_y = steps(2, pos_x, pos_y, dir_x, dir_y)\n",
    "\n",
    "# Now we are going to see if that move will work\n",
    "checkMove(test_x, test_y)"
   ]
  },
  {
   "cell_type": "markdown",
   "metadata": {},
   "source": [
    "The function returned a False? What do you think that means? Look at the image above, would the player stay on the path if they moved 2 steps forward? What about one step forward?"
   ]
  },
  {
   "cell_type": "code",
   "execution_count": null,
   "metadata": {},
   "outputs": [],
   "source": [
    "#Exercise\n",
    "#calculate where the player will be after 1 step forward\n",
    "test_x, test_y = steps(...)\n",
    "\n",
    "# Now check to see if that move will work. \n",
    "checkMove(...)"
   ]
  },
  {
   "cell_type": "code",
   "execution_count": null,
   "metadata": {},
   "outputs": [],
   "source": [
    "print('x position:', pos_x)\n",
    "print('y position:', pos_y)\n",
    "\n",
    "# Do not modify the code below\n",
    "show_player(path,[pos_y,pos_x], direc=[dir_y, dir_x], show_direc=True) #Display current position"
   ]
  },
  {
   "cell_type": "markdown",
   "metadata": {},
   "source": [
    "Notice that the player hasn't actually moved. The `checkMove` function doesn't change the value of pos_x and pos_y - it just checks to see if a new position is still on the path. \n",
    "\n",
    "\n",
    "Because the `checkMove` function returns a boolean, we can use it in a conditional statement:"
   ]
  },
  {
   "cell_type": "code",
   "execution_count": null,
   "metadata": {},
   "outputs": [],
   "source": [
    "# Example\n",
    "\n",
    "#make a forward step if possible. \n",
    "\n",
    "# Find out what the position would be after one step forward\n",
    "test_x, test_y = steps(1, pos_x, pos_y, dir_x, dir_y)\n",
    "\n",
    "# Use the test position to check if the player can make the move. \n",
    "# Make the move if it can, if not print out \"don't make that move\"\n",
    "if checkMove(test_x, test_y):\n",
    "    pos_x, pos_y= steps(1, pos_x, pos_y, dir_x, dir_y)\n",
    "    \n",
    "else: \n",
    "    print(\"don't make that move\")\n",
    "    \n",
    "\n",
    "    # Do not modify the code below\n",
    "show_player(path,[pos_y,pos_x], direc=[dir_y, dir_x], show_direc=True) #Display current position"
   ]
  },
  {
   "cell_type": "code",
   "execution_count": null,
   "metadata": {},
   "outputs": [],
   "source": [
    "#Example\n",
    "# We can see from the picture that we need to make a left turn next\n",
    "# Let's write a conditional statement to do that. \n",
    "\n",
    "# Find the new direction after turning left\n",
    "dir_x_test, dir_y_test = turnLeft(dir_x, dir_y)\n",
    "\n",
    "# Find the position after turning left and making one step\n",
    "pos_x_test, pos_y_test = steps(1, pos_x, pos_y, dir_x_test, dir_y_test)\n",
    "\n",
    "if checkMove(pos_x_test, pos_y_test):\n",
    "    # if it's okay, make the move\n",
    "    pos_x = pos_x_test\n",
    "    pos_y = pos_y_test\n",
    "    dir_x = dir_x_test\n",
    "    dir_y = dir_y_test\n",
    "else: \n",
    "    print(\"don't make that move\")\n",
    "\n",
    "    \n",
    "    \n",
    "# Do not modify the code below\n",
    "show_player(path,[pos_y,pos_x], direc=[dir_y, dir_x] ) #Display current position"
   ]
  },
  {
   "cell_type": "markdown",
   "metadata": {},
   "source": [
    "As a group write conditional statements that check the following:\n",
    "* If it is possible to turn right and if so, make that step\n",
    "* If it is possible to turn left and if so, make that step\n",
    "* If it is possible to jump"
   ]
  },
  {
   "cell_type": "code",
   "execution_count": null,
   "metadata": {},
   "outputs": [],
   "source": [
    "#Exercise - Check to see if a right turn is possible, if it is, make that step\n",
    "\n",
    "#Find the new direction after turning right\n",
    "dir_x_test, dir_y_test = turnRight(...)\n",
    "\n",
    "#Find the position after turning right and taking 1 step\n",
    "pos_x_test, pos_y_test = steps(...)\n",
    "\n",
    "#Use a conditional statement to check if the player can make the move\n",
    "#If the player can make the move, update its direction and position\n",
    "if checkMove(...):\n",
    "    dir_x, dir_y = turnRight(dir_x, dir_y)\n",
    "    pos_x, pos_y = steps(1, pos_x, pos_y, dir_x, dir_y)\n",
    "    \n",
    "else:\n",
    "    print('don\\'t make that move')\n",
    "    \n",
    "show_player(path,[pos_y,pos_x], direc=[dir_y, dir_x], show_direc=True) #Display current position"
   ]
  },
  {
   "cell_type": "code",
   "execution_count": null,
   "metadata": {},
   "outputs": [],
   "source": [
    "#Exercise - Check to see if a LEFT turn is possible, if it is, make that step\n",
    "\n",
    "#Find the new direction after turning left\n",
    "dir_x_test, dir_y_test = turnLeft(...)\n",
    "\n",
    "#Find the position after turning left and taking 1 step\n",
    "pos_x_test, pos_y_test = ...\n",
    "\n",
    "#Use conditional statements to check if the player can make the move\n",
    "#If the player can make the move, update its direction and position\n",
    "if ...:\n",
    "    dir_x, dir_y = ...\n",
    "    pos_x, pos_y = ...\n",
    "    \n",
    "else:\n",
    "    print('don\\'t make that move')\n",
    "    \n",
    "show_player(path,[pos_y,pos_x], direc=[dir_y, dir_x], show_direc=True) #Display current position"
   ]
  },
  {
   "cell_type": "code",
   "execution_count": null,
   "metadata": {},
   "outputs": [],
   "source": [
    "#Exercise - Check to see if a jump is possible, if it is, make that move\n",
    "\n",
    "pos_x_test, pos_y_test = jump(...)\n",
    "\n",
    "if ...:\n",
    "    pos_x, pos_y = ...\n",
    "    \n",
    "else:\n",
    "    print('don\\'t make that move')\n",
    "    \n",
    "show_player(path,[pos_y,pos_x], direc=[dir_y, dir_x], show_direc=True) #Display current position"
   ]
  },
  {
   "cell_type": "markdown",
   "metadata": {},
   "source": [
    "Let's make some functions that use these conditional statements. \n",
    "\n",
    "First let's make a function that checks if it is possible to make one step."
   ]
  },
  {
   "cell_type": "code",
   "execution_count": null,
   "metadata": {},
   "outputs": [],
   "source": [
    "# Example\n",
    "def checkSteps(n, pos_x, pos_y, dir_x, dir_y):\n",
    "    \n",
    "    pos_x_test, pos_y_test = steps(n, pos_x, pos_y, dir_x, dir_y)\n",
    "\n",
    "    if checkMove(pos_x_test, pos_y_test):\n",
    "        return True\n",
    "    else: \n",
    "        return False"
   ]
  },
  {
   "cell_type": "code",
   "execution_count": null,
   "metadata": {},
   "outputs": [],
   "source": [
    "show_player(path,[pos_y,pos_x], direc=[dir_y, dir_x], show_direc=True) #Display current position\n",
    "\n",
    "checkSteps(1, pos_x, pos_y, dir_x, dir_y)"
   ]
  },
  {
   "cell_type": "markdown",
   "metadata": {},
   "source": [
    "Example: Do the same thing but checking if turning right is a good idea."
   ]
  },
  {
   "cell_type": "code",
   "execution_count": null,
   "metadata": {},
   "outputs": [],
   "source": [
    "def checkTurnR(pos_x, pos_y, dir_x, dir_y):\n",
    "    \n",
    "    dir_x_test, dir_y_test = turnRight(dir_x, dir_y)\n",
    "    pos_x_test, pos_y_test = steps(1, pos_x, pos_y, dir_x_test, dir_y_test)\n",
    "\n",
    "    if checkMove(pos_x_test, pos_y_test):\n",
    "        return True\n",
    "    else: \n",
    "        return False\n"
   ]
  },
  {
   "cell_type": "code",
   "execution_count": null,
   "metadata": {},
   "outputs": [],
   "source": [
    "show_player(path,[pos_y,pos_x], direc=[dir_y, dir_x], show_direc=True) #Display current position\n",
    "\n",
    "checkTurnR(pos_x, pos_y, dir_x, dir_y)"
   ]
  },
  {
   "cell_type": "markdown",
   "metadata": {},
   "source": [
    "Now do the same thing with `checkTurnL` and `checkJump`"
   ]
  },
  {
   "cell_type": "code",
   "execution_count": null,
   "metadata": {},
   "outputs": [],
   "source": [
    "def checkTurnL(pos_x, pos_y, dir_x, dir_y):\n",
    "    \n",
    "    dir_x_test, dir_y_test = ...\n",
    "    pos_x_test, pos_y_test = ...\n",
    "\n",
    "    if ...:\n",
    "        return True\n",
    "    else: \n",
    "        return False\n",
    "    "
   ]
  },
  {
   "cell_type": "code",
   "execution_count": null,
   "metadata": {},
   "outputs": [],
   "source": [
    "show_player(path,[pos_y,pos_x], direc=[dir_y, dir_x], show_direc=True) #Display current position\n",
    "\n",
    "checkTurnL(pos_x, pos_y, dir_x, dir_y)"
   ]
  },
  {
   "cell_type": "code",
   "execution_count": null,
   "metadata": {},
   "outputs": [],
   "source": [
    "def checkJump(pos_x, pos_y, dir_x, dir_y):\n",
    "    pos_x_test, pos_y_test = ...\n",
    "    \n",
    "    if ...:\n",
    "        return ...\n",
    "    else: \n",
    "        return ..."
   ]
  },
  {
   "cell_type": "code",
   "execution_count": null,
   "metadata": {},
   "outputs": [],
   "source": [
    "show_player(path,[pos_y,pos_x], direc=[dir_y, dir_x], show_direc=True) #Display current position\n",
    "\n",
    "checkTurnL(pos_x, pos_y, dir_x, dir_y)"
   ]
  },
  {
   "cell_type": "markdown",
   "metadata": {},
   "source": [
    "**EXTRA CHALLLENGE:** Write a function `move`, that has inputs pos_x, pos_y, dir_x, dir_y and then outputs pos_x_new, pos_y_new, dir_x_new, dir_y_new of the player after the best move.\n"
   ]
  },
  {
   "cell_type": "code",
   "execution_count": null,
   "metadata": {},
   "outputs": [],
   "source": [
    "def move(pos_x, pos_y, dir_x, dir_y):\n",
    "     \n",
    "    if checkSteps(1, pos_x,pos_y, dir_x, dir_y): # check to see if the player can move one step forward       \n",
    "        pos_x_new, pos_y_new = steps(1, pos_x,pos_y, dir_x, dir_y) # what would the new position be\n",
    "        dir_x_new = dir_x # the direction doesn't change so the new direction values are the same \n",
    "        dir_y_new = dir_y\n",
    "    \n",
    "    elif checkTurnR(pos_x, pos_y, dir_x, dir_y): # the player turns right and takes a step. \n",
    "        ... #find new direction\n",
    "        ... #find new position\n",
    "    \n",
    "    elif checkTurnL(pos_x, pos_y, dir_x, dir_y): # The player turns left and takes a step\n",
    "        ...\n",
    "        ...\n",
    "    \n",
    "    else:\n",
    "        ... #find the new position if the player jumps forward.\n",
    "        dir_x_new = dir_x # the direction doesn't change so the new direction values are the same\n",
    "        dir_y_new = dir_y \n",
    "        \n",
    "    return pos_x_new, pos_y_new, dir_x_new, dir_y_new # return the new position and direction values\n",
    "    \n"
   ]
  },
  {
   "cell_type": "code",
   "execution_count": null,
   "metadata": {},
   "outputs": [],
   "source": [
    "# Let's test it out\n",
    "\n",
    "pos_x, pos_y, dir_x, dir_y = move(pos_x, pos_y, dir_x, dir_y)\n",
    "\n",
    "print(pos_x, pos_y, dir_x, dir_y)\n",
    "\n",
    "show_player(path,[pos_y,pos_x], direc=[dir_y, dir_x], show_direc=True) #Display current position"
   ]
  },
  {
   "cell_type": "markdown",
   "metadata": {},
   "source": [
    "---\n",
    "## Exit Ticket <a id='section4'></a>"
   ]
  },
  {
   "cell_type": "markdown",
   "metadata": {},
   "source": [
    "Use the following link to access the Exit Ticket for this notebook:\n",
    "https://forms.gle/4mRN4Ps9N2Dp1hGi7"
   ]
  },
  {
   "cell_type": "markdown",
   "metadata": {},
   "source": [
    "---\n",
    "Notebook developed by: Kseniya Usovich, Rachel McCarty, Baishakhi Bose, Alisa Bettale, Laurel Hales"
   ]
  }
 ],
 "metadata": {
  "anaconda-cloud": {},
  "colab": {
   "name": "Day-3.ipynb",
   "provenance": []
  },
  "kernelspec": {
   "display_name": "Python 3",
   "language": "python",
   "name": "python3"
  },
  "language_info": {
   "codemirror_mode": {
    "name": "ipython",
    "version": 3
   },
   "file_extension": ".py",
   "mimetype": "text/x-python",
   "name": "python",
   "nbconvert_exporter": "python",
   "pygments_lexer": "ipython3",
   "version": "3.8.8"
  }
 },
 "nbformat": 4,
 "nbformat_minor": 1
}
