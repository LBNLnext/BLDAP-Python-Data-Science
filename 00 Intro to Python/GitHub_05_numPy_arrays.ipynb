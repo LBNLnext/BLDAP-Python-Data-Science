{
  "cells": [
    {
      "cell_type": "markdown",
      "metadata": {
        "id": "3OZgzRQxiDyB"
      },
      "source": [
        "\n",
        "----\n",
        "\n",
        "# NumPy Arrays\n",
        "\n",
        "\n",
        "\n",
        "---\n",
        "\n",
        "### Table of Contents\n",
        "\n",
        "\n",
        "1 - [Creating NumPy Arrays](#section1)<br>\n",
        "\n",
        "2 - [Basic Operations with NumPy Arrays](#section2)<br>\n",
        "\n",
        "3 - [Indexing & Slicing NumPy Arrays](#section3)<br>\n",
        "\n",
        "4 - [NumPy Arrays Applications](#section4)<br>\n",
        "\n",
        "&nbsp;&nbsp;&nbsp;&nbsp;&nbsp;&nbsp; 4.1 - [Finding the Average Hours of Daylight](#subsection1)<br>\n",
        "\n",
        "&nbsp;&nbsp;&nbsp;&nbsp;&nbsp;&nbsp; 4.2 - [Finding the Elevation of a Hiking Path](#subsection2)<br>\n",
        "\n",
        "---"
      ]
    },
    {
      "cell_type": "markdown",
      "metadata": {
        "id": "Ylbz9Wq8iDyE"
      },
      "source": [
        "Before we start this notebook, similar to previous notebooks, we will have to run some code at the beginning to make sure everything is set up correctly. Please run the cells below."
      ]
    },
    {
      "cell_type": "code",
      "execution_count": null,
      "metadata": {
        "id": "7U3Ono48iDyG"
      },
      "outputs": [],
      "source": [
        "from matplotlib import pyplot as plt\n",
        "from jupyter_utils import *\n",
        "%matplotlib inline\n",
        "\n",
        "# Initialize Otter\n",
        "import otter\n",
        "grader = otter.Notebook(tests_dir=\"tests/05_intro_to_python\")"
      ]
    },
    {
      "cell_type": "markdown",
      "metadata": {
        "id": "UStobHpniDyG"
      },
      "source": [
        "NumPy (short for \"Numerical Python\") is a Python library that allows us to work with arrays and easily process large amounts of numerical data. This means we must import the library in order to use it!\n",
        "\n",
        "In order to save us some typing time we can give our libraries a shorter alias, like <b>np</b> for NumPy."
      ]
    },
    {
      "cell_type": "code",
      "execution_count": null,
      "metadata": {
        "id": "bJtgn5JSiDyH"
      },
      "outputs": [],
      "source": [
        "import numpy as np"
      ]
    },
    {
      "cell_type": "markdown",
      "metadata": {
        "id": "72DRBpzBiDyH"
      },
      "source": [
        "## Creating Numpy Arrays  <a name='section1'></a>\n"
      ]
    },
    {
      "cell_type": "markdown",
      "metadata": {
        "id": "kJtJP9eWiDyH"
      },
      "source": [
        "A NumPy array is just a table of data of the same type. From [NumPy.org](https://numpy.org/doc/stable/user/absolute_beginners.html): NumPy arrays can be used to perform a wide variety of mathematical operations on arrays. It adds powerful data structures to Python that guarantee efficient calculations with arrays and matrices and it supplies an enormous library of high-level mathematical functions that operate on these arrays and matrices.\n",
        "\n",
        "\n",
        "In order to use NumPy you can either convert data you already have into a NumPy array or create a blank array from scratch. NumPy arrays and Python lists are similar, yet they react differently to various operations."
      ]
    },
    {
      "cell_type": "code",
      "execution_count": null,
      "metadata": {
        "id": "hvg19Bp0iDyH"
      },
      "outputs": [],
      "source": [
        "#Create an array\n",
        "array1 = np.array([1,2,3,4])\n",
        "\n",
        "#Create a list\n",
        "list1 = [1,2,3,4]\n",
        "\n",
        "array1, list1"
      ]
    },
    {
      "cell_type": "markdown",
      "metadata": {
        "id": "LPkumOmriDyI"
      },
      "source": [
        "Try doing the following operations and see if you notice any differences!\n",
        "\n",
        "array1 + array1\n",
        "\n",
        "list1 + list1\n",
        "\n",
        "array1 * array1\n",
        "\n",
        "list1 * list1"
      ]
    },
    {
      "cell_type": "code",
      "execution_count": null,
      "metadata": {
        "id": "vPn49laLiDyI"
      },
      "outputs": [],
      "source": [
        "# What happens when you add different object types?\n",
        "\n",
        "print(... + ...) # add two arrays\n",
        "print(... + ...) # add two lists"
      ]
    },
    {
      "cell_type": "code",
      "execution_count": null,
      "metadata": {
        "id": "8xutF5K2iDyI"
      },
      "outputs": [],
      "source": [
        "# What happens when you multiply different object types?\n",
        "\n",
        "print(... * ...) # multiply two arrays\n",
        "print(... * ...) # multiply two lists"
      ]
    },
    {
      "cell_type": "code",
      "execution_count": null,
      "metadata": {
        "id": "-saAbClwiDyI"
      },
      "outputs": [],
      "source": [
        "# EXAMPLE\n",
        "\n",
        "# Create a new list\n",
        "\n",
        "list_of_numbers = [0, 1, 2, 3, 4, 5]\n",
        "list_of_numbers"
      ]
    },
    {
      "cell_type": "code",
      "execution_count": null,
      "metadata": {
        "id": "yYIIhq0TiDyI"
      },
      "outputs": [],
      "source": [
        "# Example\n",
        "\n",
        "# Verify that it is indeed a regular Python list\n",
        "\n",
        "type(list_of_numbers)"
      ]
    },
    {
      "cell_type": "code",
      "execution_count": null,
      "metadata": {
        "id": "4jJ85yIJiDyJ"
      },
      "outputs": [],
      "source": [
        "# EXAMPLE\n",
        "\n",
        "# Create a new Numpy array from our list and display it\n",
        "\n",
        "array_from_list = np.array(list_of_numbers)\n",
        "array_from_list"
      ]
    },
    {
      "cell_type": "code",
      "execution_count": null,
      "metadata": {
        "id": "Swxfysg9iDyJ"
      },
      "outputs": [],
      "source": [
        "# EXERCISE\n",
        "\n",
        "# Verify that it's an array and not a list\n",
        "\n",
        "..."
      ]
    },
    {
      "cell_type": "markdown",
      "metadata": {
        "id": "lMRUu-9ZiDyJ"
      },
      "source": [
        "Usually, we get arrays from our data. If we don't yet have any data or just want a placeholder for our data, we can create a NumPy array filled with ones by calling `np.ones()` and specifying the size of the array in a tuple, (3, 4).\n",
        "\n",
        "*A tuple is another data type in Python. It's similar to a list, but uses parentheses instead of square brackets, and unlike lists, are unchangeable*"
      ]
    },
    {
      "cell_type": "code",
      "execution_count": null,
      "metadata": {
        "id": "VWcdVxdRiDyJ"
      },
      "outputs": [],
      "source": [
        "# EXAMPLE\n",
        "\n",
        "# Create an array of size 3x4 and fill it with ones\n",
        "\n",
        "ones_array = np.ones((3, 4))\n",
        "ones_array"
      ]
    },
    {
      "cell_type": "markdown",
      "metadata": {
        "id": "WaY5Kh5SiDyJ"
      },
      "source": [
        "We can also create arrays filled with zeros.\n",
        "\n",
        "**EXERCISE:** In the cell below, create a 3x4 array of zeroes. It will have similar syntax to creating an array filled with ones like the cell above. Use the function `zeros` instead of `ones` from the numPy library.\n",
        "\n",
        "If you did it correctly, you should see:\n",
        "\n",
        "![](https://drive.google.com/uc?export=view&id=1okjPZLNj1ndcuR2ljPkZOt5PPREqvYSt)"
      ]
    },
    {
      "cell_type": "code",
      "execution_count": null,
      "metadata": {
        "id": "qBX2ZxROiDyJ",
        "tags": [
          "otter_answer_cell"
        ]
      },
      "outputs": [],
      "source": [
        "# Refer to the syntax above and use the function `np.zeros` to make a 3x4 array\n",
        "zeros_array = ...\n",
        "zeros_array"
      ]
    },
    {
      "cell_type": "code",
      "execution_count": null,
      "metadata": {
        "deletable": false,
        "editable": false,
        "id": "l3oozZuFiDyJ"
      },
      "outputs": [],
      "source": [
        "grader.check(\"q1\")"
      ]
    },
    {
      "cell_type": "markdown",
      "metadata": {
        "id": "D5xgFylFiDyJ"
      },
      "source": [
        "Similarly we can create NumPy arrays filled with any other value. To accomplish this we use `np.full` and specify both the size of the array and the value we would like to fill that array with."
      ]
    },
    {
      "cell_type": "code",
      "execution_count": null,
      "metadata": {
        "id": "V2tU9XNUiDyJ"
      },
      "outputs": [],
      "source": [
        "# EXAMPLE\n",
        "\n",
        "array_of_twos = np.full((3, 4), 2)\n",
        "array_of_twos"
      ]
    },
    {
      "cell_type": "markdown",
      "metadata": {
        "id": "4OoL9vtJiDyJ"
      },
      "source": [
        "**EXERCISE:** In the cell below, create a 2x5 array of halves (0.5 or 1/2).\n",
        "\n",
        "If you did it correctly, you should see:\n",
        "\n",
        "![](https://drive.google.com/uc?export=view&id=1cOIUFIQ7kesqJ4ScKQ3f73ksIHncxR5F)"
      ]
    },
    {
      "cell_type": "code",
      "execution_count": null,
      "metadata": {
        "id": "Ow7dBxptiDyJ"
      },
      "outputs": [],
      "source": [
        "# EXERCISE\n",
        "\n",
        "array_of_halves = ...\n",
        "array_of_halves"
      ]
    },
    {
      "cell_type": "markdown",
      "metadata": {
        "id": "L7Tx2_APiDyJ"
      },
      "source": [
        "**EXERCISE:** In the cell below, create a 4x3 array filled with Pi.\n",
        "\n",
        "*Hint: Similar to the math library, you can use the the numpy library to import the value of pi. Look it up online!*\n",
        "\n",
        "If you did it correctly, you should see:\n",
        "\n",
        "![](https://drive.google.com/uc?export=view&id=1GAnPphNm3URIxIaOYtey18kWx5tDYMZI)"
      ]
    },
    {
      "cell_type": "code",
      "execution_count": null,
      "metadata": {
        "id": "4wG6YJxHiDyK"
      },
      "outputs": [],
      "source": [
        "# EXERCISE\n",
        "\n",
        "array_of_pies = ...\n",
        "array_of_pies"
      ]
    },
    {
      "cell_type": "markdown",
      "metadata": {
        "id": "FoxL4F5NiDyK"
      },
      "source": [
        "We can use the function `linspace` to create NumPy arrays with N evenly spaced numbers over a specified interval."
      ]
    },
    {
      "cell_type": "code",
      "execution_count": null,
      "metadata": {
        "id": "6hv_Xn-4iDyK"
      },
      "outputs": [],
      "source": [
        "# EXAMPLE\n",
        "xmin = 0\n",
        "xmax = 10\n",
        "N = 11\n",
        "x = np.linspace(xmin, xmax, N)\n",
        "print(x)"
      ]
    },
    {
      "cell_type": "markdown",
      "metadata": {
        "id": "hiUMf4zqiDyK"
      },
      "source": [
        "Why was `N = 11` instead of `N = 10`? Think about this before moving on to the next exercise."
      ]
    },
    {
      "cell_type": "markdown",
      "metadata": {
        "id": "JKd7rxvViDyK"
      },
      "source": [
        "**EXERCISE:** In the cell below, use `np.linspace()` create a numPy array of numbers 10 to 20 that go up by 0.5 (10, 10.5, 11, 11.5, etc.). If you do it right, x should look like:\n",
        "\n",
        "![](https://drive.google.com/uc?export=view&id=19Jch9mvuY-_jhEciCW6MWZA30DRSycSm)"
      ]
    },
    {
      "cell_type": "code",
      "execution_count": null,
      "metadata": {
        "id": "8peIxZ10iDyK"
      },
      "outputs": [],
      "source": [
        "# EXERCISE\n",
        "\n",
        "xmin = ...\n",
        "xmax = ...\n",
        "N = ...\n",
        "x = ...\n",
        "print(x)"
      ]
    },
    {
      "cell_type": "markdown",
      "metadata": {
        "id": "0X7-1Jl5iDyK"
      },
      "source": [
        "If we want NumPy to fill the array with random numbers between A and B, we can use `np.random.uniform()`.  \n",
        "We need to feed this function with the minimum and maximum number (A and B) and the size of the array as a tuple."
      ]
    },
    {
      "cell_type": "code",
      "execution_count": null,
      "metadata": {
        "id": "CAnT_vrliDyK"
      },
      "outputs": [],
      "source": [
        "# EXAMPLE - Creating a 2x3 array with random numbers between 0 and 1\n",
        "np.random.uniform(low=0, high=1, size=(2,3))"
      ]
    },
    {
      "cell_type": "markdown",
      "metadata": {
        "id": "Me9ZYLheiDyK"
      },
      "source": [
        "## Basic Operations with Numpy Arrays  <a name='section2'></a>\n"
      ]
    },
    {
      "cell_type": "markdown",
      "metadata": {
        "id": "sRB46zveiDyK"
      },
      "source": [
        "NumPy is much more than just an array creator.  \n",
        "It allows us to do blazingly fast operations with arrays.  \n",
        "Operations performed with NumPy on arrays can be computed significantly faster than with other Python functions on lists.  \n",
        "For example, let's say that we have an array of one million random probabilities of it raining on a particular day."
      ]
    },
    {
      "cell_type": "code",
      "execution_count": null,
      "metadata": {
        "id": "Wz55X1ojiDyK"
      },
      "outputs": [],
      "source": [
        "# EXAMPLE\n",
        "\n",
        "random_million = np.random.uniform(low=0, high=1, size=1000000)\n",
        "random_million"
      ]
    },
    {
      "cell_type": "markdown",
      "metadata": {
        "id": "_g45t8ZgiDyK"
      },
      "source": [
        "Let's check that the array is actully one million numbers long.\n",
        "\n",
        "**Hint:** Just like with most other data structures (lists) and some data types (strings), you can use the traditional Python len( ) function to check the *length* of your object."
      ]
    },
    {
      "cell_type": "code",
      "execution_count": null,
      "metadata": {
        "id": "jpAaH1SWiDyK"
      },
      "outputs": [],
      "source": [
        "# EXERCISE\n"
      ]
    },
    {
      "cell_type": "markdown",
      "metadata": {
        "id": "voiQ3qGRiDyQ"
      },
      "source": [
        "Yep, that checks out.<br> <br>Now let's say that we want these probabilities to be in percentages (out of 100 rather) than proportions (from zero to one). We can just multiply the whole array by 100!"
      ]
    },
    {
      "cell_type": "code",
      "execution_count": null,
      "metadata": {
        "id": "E1RP90ZTiDyQ"
      },
      "outputs": [],
      "source": [
        "# EXAMPLE\n",
        "\n",
        "percentages = random_million * 100\n",
        "percentages"
      ]
    },
    {
      "cell_type": "markdown",
      "metadata": {
        "id": "1pm1gBWoiDyQ"
      },
      "source": [
        "Notice that NumPy accomplishes that multiplication in a fraction of a second when we use it with arrays. That's a million multiplications! In the cell below you can see how much longer the code is for doing the same operations on a list.\n",
        "\n",
        "**Note:** We cut our list to have 10,000 values only, because it can take it a long time to run a for-loop over 1 million values."
      ]
    },
    {
      "cell_type": "code",
      "execution_count": null,
      "metadata": {
        "id": "4ivvStI9iDyQ"
      },
      "outputs": [],
      "source": [
        "# EXAMPLE\n",
        "\n",
        "random_mln_lst = list(random_million[:10000])\n",
        "percentages_lst = []\n",
        "\n",
        "for i in random_mln_lst:\n",
        "    percentages_lst += [i*100]\n",
        "\n",
        "print(percentages_lst)"
      ]
    },
    {
      "cell_type": "markdown",
      "metadata": {
        "id": "gsT0QegeiDyQ"
      },
      "source": [
        " Let's see if we can get NumPy to at least break a sweat doing multiplications."
      ]
    },
    {
      "cell_type": "code",
      "execution_count": null,
      "metadata": {
        "id": "yVCoVh4jiDyQ"
      },
      "outputs": [],
      "source": [
        "# EXAMPLE\n",
        "\n",
        "# 100 million multiplications\n",
        "np.random.uniform(low=0, high=1, size=100000000) * 100"
      ]
    },
    {
      "cell_type": "markdown",
      "metadata": {
        "id": "7GoEYYJ_iDyQ"
      },
      "source": [
        "NumPy is really fast! Not to mention that it first needs to come up with the random numbers in the array, and only then can it do the multiplications we are asking it to do. That's pretty useful if you want to analyze a huge amount of data!"
      ]
    },
    {
      "cell_type": "markdown",
      "metadata": {
        "id": "0YLAsgEPiDyQ"
      },
      "source": [
        "Let's see what other operations we can do with NumPy arrays.\n",
        "\n",
        "Can it add the same number to all the elements of our array? How about subtracting it? Even dividing by it?"
      ]
    },
    {
      "cell_type": "code",
      "execution_count": null,
      "metadata": {
        "id": "j6k7awxNiDyQ"
      },
      "outputs": [],
      "source": [
        "# EXAMPLE\n",
        "\n",
        "plus_fifty = random_million + 50\n",
        "plus_fifty"
      ]
    },
    {
      "cell_type": "markdown",
      "metadata": {
        "id": "f2I3ZOj_iDyQ"
      },
      "source": [
        "How about if we want to divide each value by 2?"
      ]
    },
    {
      "cell_type": "code",
      "execution_count": null,
      "metadata": {
        "id": "8nZOzyBniDyQ"
      },
      "outputs": [],
      "source": [
        "# EXERCISE\n",
        "\n",
        "divided_by_two = ...\n",
        "divided_by_two"
      ]
    },
    {
      "cell_type": "markdown",
      "metadata": {
        "id": "Yi9PbW7RiDyQ"
      },
      "source": [
        "We can even do those arithmetic operations between two arrays if they are of the same size!"
      ]
    },
    {
      "cell_type": "code",
      "execution_count": null,
      "metadata": {
        "id": "9n_mCJCCiDyR"
      },
      "outputs": [],
      "source": [
        "# EXAMPLE\n",
        "\n",
        "sum_of_arrays = divided_by_two + plus_fifty\n",
        "sum_of_arrays"
      ]
    },
    {
      "cell_type": "markdown",
      "metadata": {
        "id": "DSUBwoo4iDyR"
      },
      "source": [
        "We can also sort the array"
      ]
    },
    {
      "cell_type": "code",
      "execution_count": null,
      "metadata": {
        "id": "Khdh4bNWiDyR"
      },
      "outputs": [],
      "source": [
        "# EXAMPLE\n",
        "sorted_random_million = np.sort(random_million)\n",
        "sorted_random_million"
      ]
    },
    {
      "cell_type": "markdown",
      "metadata": {
        "id": "nUlgg99NiDyR"
      },
      "source": [
        "Or flip it!"
      ]
    },
    {
      "cell_type": "code",
      "execution_count": null,
      "metadata": {
        "id": "QxTPznLHiDyR"
      },
      "outputs": [],
      "source": [
        "# EXAMPLE\n",
        "flipped_random_million = np.flip(random_million)\n",
        "flipped_random_million"
      ]
    },
    {
      "cell_type": "markdown",
      "metadata": {
        "id": "Err7vlALiDyR"
      },
      "source": [
        "We can sum all of its elements!  \n",
        "Quiz: what do you expect the value of the sum to be?"
      ]
    },
    {
      "cell_type": "code",
      "execution_count": null,
      "metadata": {
        "id": "hDQMNoeTiDyR"
      },
      "outputs": [],
      "source": [
        "# EXAMPLE\n",
        "sum = np.sum(random_million)\n",
        "sum"
      ]
    },
    {
      "cell_type": "markdown",
      "metadata": {
        "id": "P0gD-05TiDyR"
      },
      "source": [
        "And we can reshape it in rectangular form, as long as it's compatible! We'll use our `linspace` to make a new array to reshape. Take note of how the values are reorganized!"
      ]
    },
    {
      "cell_type": "code",
      "execution_count": null,
      "metadata": {
        "deletable": false,
        "editable": false,
        "id": "aPn7IC2BiDyR"
      },
      "outputs": [],
      "source": [
        "# Array of length 40 (with numbers 1...40)\n",
        "len_40_array = np.linspace(1,40,num=40)\n",
        "\n",
        "# EXAMPLE\n",
        "reshaped_2x20 = np.reshape(len_40_array, (2, 20))\n",
        "reshaped_2x20\n"
      ]
    },
    {
      "cell_type": "code",
      "execution_count": null,
      "metadata": {
        "id": "7zENvZNaiDyR",
        "tags": [
          "otter_answer_cell"
        ]
      },
      "outputs": [],
      "source": [
        "# Use np.reshape to turn len_40_array into an array with 4 rows and 10 columns\n",
        "reshaped_4row = ...\n",
        "reshaped_4row"
      ]
    },
    {
      "cell_type": "code",
      "execution_count": null,
      "metadata": {
        "deletable": false,
        "editable": false,
        "id": "YFppDdHriDyR"
      },
      "outputs": [],
      "source": [
        "grader.check(\"q2\")"
      ]
    },
    {
      "cell_type": "markdown",
      "metadata": {
        "id": "VZ3O1K07iDyR"
      },
      "source": [
        "**EXERCISE:** Calculate the exponential of the array x. Assign it to the variable `y`.\n",
        "\n",
        "*Hint: Look up on Google the numPy function to calculate the exponential!*"
      ]
    },
    {
      "cell_type": "code",
      "execution_count": null,
      "metadata": {
        "deletable": false,
        "editable": false,
        "id": "IceY780viDyR"
      },
      "outputs": [],
      "source": [
        "x = np.array([2,3,4])"
      ]
    },
    {
      "cell_type": "code",
      "execution_count": null,
      "metadata": {
        "id": "2roAu2BUiDyR",
        "tags": [
          "otter_answer_cell"
        ]
      },
      "outputs": [],
      "source": [
        "y = ..."
      ]
    },
    {
      "cell_type": "code",
      "execution_count": null,
      "metadata": {
        "deletable": false,
        "editable": false,
        "id": "e62IeVwLiDyR"
      },
      "outputs": [],
      "source": [
        "grader.check(\"q3\")"
      ]
    },
    {
      "cell_type": "markdown",
      "metadata": {
        "id": "oNl_8ntJiDyR"
      },
      "source": [
        "How can we go back from y to x?\n",
        "Logarithms are the inverse of exponents.\n",
        "\n",
        "See how we obtain x back from y in the cell below:"
      ]
    },
    {
      "cell_type": "code",
      "execution_count": null,
      "metadata": {
        "id": "JAuG9zpBiDyS"
      },
      "outputs": [],
      "source": [
        "# EXAMPLE\n",
        "\n",
        "z = np.log(y)\n",
        "z"
      ]
    },
    {
      "cell_type": "markdown",
      "metadata": {
        "id": "88JVyyBfiDyS"
      },
      "source": [
        "**EXERCISE:** Find the square root of x\n",
        "\n",
        "*Hint: Look up on Google the numPy function to calculate the square root!*"
      ]
    },
    {
      "cell_type": "code",
      "execution_count": null,
      "metadata": {
        "id": "SLt-ky3xiDyS"
      },
      "outputs": [],
      "source": [
        "# EXERCISE\n",
        "\n",
        "x = np.array([2,3,4])\n",
        "sqrt_x = ..."
      ]
    },
    {
      "cell_type": "markdown",
      "metadata": {
        "id": "20KIJlxciDyS"
      },
      "source": [
        "## Indexing & Slicing NumPy Arrays  <a name='section4'></a>\n"
      ]
    },
    {
      "cell_type": "markdown",
      "metadata": {
        "id": "u4Lla5kIiDyS"
      },
      "source": [
        "Just like we did with Python lists, if we ever need to retreive a value at a particular index in a NumPy array, we can use `[start:stop:step]` to get it."
      ]
    },
    {
      "cell_type": "code",
      "execution_count": null,
      "metadata": {
        "deletable": false,
        "editable": false,
        "id": "yBW9b9w5iDyS"
      },
      "outputs": [],
      "source": [
        "# EXAMPLE\n",
        "\n",
        "print(array_from_list)\n",
        "print(\"Value at index 0 is:\", array_from_list[0])\n",
        "print(\"Value at last index is:\", array_from_list[-1])\n",
        "print(\"Value of slice from indices 1 up to 3:\", array_from_list[1:3])"
      ]
    },
    {
      "cell_type": "markdown",
      "metadata": {
        "deletable": false,
        "editable": false,
        "id": "IedNHhWZiDyS"
      },
      "source": [
        "Now how would you return all the values starting with index 2 (skipping values at indices 0 and 1)?"
      ]
    },
    {
      "cell_type": "code",
      "execution_count": null,
      "metadata": {
        "id": "whkmm0c1iDyS",
        "tags": [
          "otter_answer_cell"
        ]
      },
      "outputs": [],
      "source": [
        "array_2_onwards = ..."
      ]
    },
    {
      "cell_type": "code",
      "execution_count": null,
      "metadata": {
        "deletable": false,
        "editable": false,
        "id": "ytGLrXBciDyS"
      },
      "outputs": [],
      "source": [
        "grader.check(\"q4\")"
      ]
    },
    {
      "cell_type": "markdown",
      "metadata": {
        "id": "fpCNEPVSiDyS"
      },
      "source": [
        "You can think of arrays as tables. If your array has more than one column per row, we just use a comma between the index of the first dimension (row) and the index of the second dimension (column). The indexing and slicing works exactly the same as before, but we can do it separately for rows and columns."
      ]
    },
    {
      "cell_type": "code",
      "execution_count": null,
      "metadata": {
        "id": "wprYbEtkiDyS"
      },
      "outputs": [],
      "source": [
        "# EXAMPLE\n",
        "\n",
        "five_by_three = np.random.rand(5, 3)\n",
        "five_by_three"
      ]
    },
    {
      "cell_type": "code",
      "execution_count": null,
      "metadata": {
        "id": "JnMtVkdIiDyS"
      },
      "outputs": [],
      "source": [
        "# EXAMPLE\n",
        "\n",
        "five_by_three[0, 0]"
      ]
    },
    {
      "cell_type": "markdown",
      "metadata": {
        "id": "zlgdAaUgiDyS"
      },
      "source": [
        "Now let's try to retrieve the value from the bottom right from the `five_by_three` array.\n",
        "\n",
        "**Hint:** Remember, first we input rows, then columns. Also, don't forget that Python starts counting from *zero*."
      ]
    },
    {
      "cell_type": "code",
      "execution_count": null,
      "metadata": {
        "id": "2lA1hZnTiDyS",
        "tags": [
          "otter_answer_cell"
        ]
      },
      "outputs": [],
      "source": [
        "value_in_bottom_right = ...\n",
        "value_in_bottom_right"
      ]
    },
    {
      "cell_type": "code",
      "execution_count": null,
      "metadata": {
        "deletable": false,
        "editable": false,
        "id": "cFJaif1RiDyS"
      },
      "outputs": [],
      "source": [
        "grader.check(\"q5\")"
      ]
    },
    {
      "cell_type": "markdown",
      "metadata": {
        "id": "jUiWasbDiDyS"
      },
      "source": [
        "Just like with regular arrays and lists, we can slice arrays that have multiple columns. The same rules apply: first we input the desired rows, then the desired columns. In the cell below, we are asking for our array to output values on row 0, columns 1 through 3 (our array has only 2 columns, but it won't error)."
      ]
    },
    {
      "cell_type": "code",
      "execution_count": null,
      "metadata": {
        "id": "tYw_iYZ0iDyT"
      },
      "outputs": [],
      "source": [
        "# EXAMPLE - row 0, column indices 1 through 4\n",
        "five_by_three[0, 1:4]"
      ]
    },
    {
      "cell_type": "code",
      "execution_count": null,
      "metadata": {
        "id": "ulU81KLUiDyT"
      },
      "outputs": [],
      "source": [
        "# EXAMPLE - output row indices 1 through 4, column 0\n",
        "\n",
        "five_by_three[1:, 0]"
      ]
    },
    {
      "cell_type": "markdown",
      "metadata": {
        "deletable": false,
        "editable": false,
        "id": "Ep8u6D1ViDyT"
      },
      "source": [
        "How can you get an array of all the values in the **second column** in the **second row onwards** of the `five_by_three` array? (Remember that arrays are 0-indexed - i.e. the first row is index 0.)"
      ]
    },
    {
      "cell_type": "code",
      "execution_count": null,
      "metadata": {
        "id": "D2yn_OX4iDyT",
        "tags": [
          "otter_answer_cell"
        ]
      },
      "outputs": [],
      "source": [
        "second_col_values = ..."
      ]
    },
    {
      "cell_type": "code",
      "execution_count": null,
      "metadata": {
        "deletable": false,
        "editable": false,
        "id": "-hKEAiqiiDyT"
      },
      "outputs": [],
      "source": [
        "grader.check(\"q6\")"
      ]
    },
    {
      "cell_type": "markdown",
      "metadata": {
        "id": "GYH1iWxHiDyT"
      },
      "source": [
        "Now how would we output only the last values of all rows of the `five_by_three`?"
      ]
    },
    {
      "cell_type": "code",
      "execution_count": null,
      "metadata": {
        "id": "qRbdW5BtiDyT",
        "tags": [
          "otter_answer_cell"
        ]
      },
      "outputs": [],
      "source": [
        "last_row_values = ..."
      ]
    },
    {
      "cell_type": "code",
      "execution_count": null,
      "metadata": {
        "deletable": false,
        "editable": false,
        "id": "eoGLUGytiDyT"
      },
      "outputs": [],
      "source": [
        "grader.check(\"q7\")"
      ]
    },
    {
      "cell_type": "markdown",
      "metadata": {
        "id": "oa27GN1WiDyT"
      },
      "source": [
        "To check the shape of your array you can also use `np.shape`."
      ]
    },
    {
      "cell_type": "code",
      "execution_count": null,
      "metadata": {
        "id": "weunzcYXiDyT"
      },
      "outputs": [],
      "source": [
        "# EXAMPLE\n",
        "\n",
        "np.shape(five_by_three)"
      ]
    },
    {
      "cell_type": "markdown",
      "metadata": {
        "id": "w9TwxJIDiDyT"
      },
      "source": [
        "## Bonus: NumPy Arrays Applications <a name='section5'></a>"
      ]
    },
    {
      "cell_type": "markdown",
      "metadata": {
        "id": "r8gjvV_jiDyT"
      },
      "source": [
        "### Finding the Average Hours of Daylight <a name='subsection1'></a>"
      ]
    },
    {
      "cell_type": "markdown",
      "metadata": {
        "id": "16-7AudniDyT"
      },
      "source": [
        "We have already loaded some data for you about the sunrise and sunset times in Washington DC.\n",
        "\n",
        "The following arrays give the average time of sunrise for each month, and the average time of sunset for each month.\n",
        "\n",
        "The first row of each array gives the hour, and the second row, gives the minutes."
      ]
    },
    {
      "cell_type": "code",
      "execution_count": null,
      "metadata": {
        "id": "-ROgdbe3iDyT"
      },
      "outputs": [],
      "source": [
        "print(dc_sunrise)\n",
        "print(dc_sunset)"
      ]
    },
    {
      "cell_type": "markdown",
      "metadata": {
        "id": "_vRTAd2DiDyT"
      },
      "source": [
        "So you can see that in January in DC, the average time for a sunrise was 7:23. Let's say that we want to figure out the average number of hours of sunlight in DC for each month. How would we do that?"
      ]
    },
    {
      "cell_type": "code",
      "execution_count": null,
      "metadata": {
        "id": "41fsbSVxiDyT"
      },
      "outputs": [],
      "source": [
        "# Example\n",
        "\n",
        "# We have both hours and minutes - let's write both rows in terms of hours.\n",
        "\n",
        "dc_sunrise [1,:] = dc_sunrise[1,:] / 60\n",
        "dc_sunset [1,:] = dc_sunset[1,:] / 60\n",
        "\n",
        "print(dc_sunrise)\n",
        "print(dc_sunset)"
      ]
    },
    {
      "cell_type": "markdown",
      "metadata": {
        "id": "ezdDC928iDyT"
      },
      "source": [
        "Wait, what just happened here, why did all the minutes go to zeros?\n",
        "It's because we've been using arrays of integers so it did integer division and rounded all the values down. Fortunately we can just reload the data and try that again. This time we will load the values as floats. We can check that using the dtype function:"
      ]
    },
    {
      "cell_type": "code",
      "execution_count": null,
      "metadata": {
        "id": "DoRtgnFIiDyT"
      },
      "outputs": [],
      "source": [
        "print(dc_sunrise.dtype)\n",
        "print(dc_sunset.dtype)"
      ]
    },
    {
      "cell_type": "code",
      "execution_count": null,
      "metadata": {
        "id": "f_Pgcq6miDyU"
      },
      "outputs": [],
      "source": [
        "#Loading the values as floats\n",
        "\n",
        "dc_sunrise = np.float32(dc_sunrise_orig)\n",
        "dc_sunset = np.float32(dc_sunset_orig)\n",
        "\n",
        "print(dc_sunrise.dtype)\n",
        "print(dc_sunset.dtype)"
      ]
    },
    {
      "cell_type": "markdown",
      "metadata": {
        "id": "417S21UeiDyU"
      },
      "source": [
        "Now that we have arrays of floats we can do the division without a problem:"
      ]
    },
    {
      "cell_type": "code",
      "execution_count": null,
      "metadata": {
        "id": "eTl5navfiDyU"
      },
      "outputs": [],
      "source": [
        "dc_sunrise[1,:] = dc_sunrise[1,:] / 60\n",
        "dc_sunset[1,:] = dc_sunset[1,:] / 60.\n",
        "\n",
        "print(dc_sunrise)\n",
        "print(dc_sunset)"
      ]
    },
    {
      "cell_type": "code",
      "execution_count": null,
      "metadata": {
        "id": "1BVlsGxeiDyU"
      },
      "outputs": [],
      "source": [
        "# Example\n",
        "\n",
        "# let's make the sunset hours in military time.\n",
        "\n",
        "dc_sunset[0,:]+=12\n",
        "\n",
        "print(dc_sunset)"
      ]
    },
    {
      "cell_type": "code",
      "execution_count": null,
      "metadata": {
        "id": "7AuwlSHHiDyU"
      },
      "outputs": [],
      "source": [
        "# Example\n",
        "# Now we can calculate the total number of hours after midnight it is\n",
        "# for sunrise and the sunset using the sum function.\n",
        "\n",
        "\n",
        "dc_sunrise_hrs = np.sum(dc_sunrise,0)\n",
        "dc_sunset_hrs = np.sum(dc_sunset,0)\n",
        "\n",
        "print(dc_sunrise_hrs)\n",
        "print(dc_sunset_hrs)\n"
      ]
    },
    {
      "cell_type": "markdown",
      "metadata": {
        "id": "0WrXNs7DiDyU"
      },
      "source": [
        "The `np.sum` command has multiple possible inputs. Here we inputed:\n",
        "* The array we wanted to sum\n",
        "* The direction we wanted to sum across (in this case, we wanted to add the rows so we put 0)"
      ]
    },
    {
      "cell_type": "code",
      "execution_count": null,
      "metadata": {
        "id": "EKC9LDEmiDyU"
      },
      "outputs": [],
      "source": [
        "# Example\n",
        "# Find the number of hours of daylight\n",
        "\n",
        "dc_daylight = dc_sunset_hrs - dc_sunrise_hrs\n",
        "dc_daylight"
      ]
    },
    {
      "cell_type": "code",
      "execution_count": null,
      "metadata": {
        "id": "8xoafRiTiDyU"
      },
      "outputs": [],
      "source": [
        "# Example\n",
        "#Let's find the average (mean) number of hours of daylight per month for DC\n",
        "\n",
        "dc_mean_daylight = np.mean(dc_daylight)\n",
        "print('mean: ', dc_mean_daylight, 'hours')\n",
        "\n",
        "#Let's also find the range of hours of daylight for DC\n",
        "dc_range = np.max(dc_daylight) - np.min(dc_daylight)\n",
        "print('range: ', dc_range, 'hours')"
      ]
    },
    {
      "cell_type": "markdown",
      "metadata": {
        "id": "w72yX5a7iDyU"
      },
      "source": [
        "We also have sunrise and sunset data for 5 other cities:   Berlin, Germany; Canberra, Australia; Beijing, China; Helsinki, Finland; and Manilla, Philippines. The other arrays are named `berlin_sunrise, berlin_sunset, canberra_sunrise, canberra_sunset, beijing_sunrise, beijing_sunset, helsinki_sunrise, helsinki_sunset, manila_sunrise, manila_sunset`\n",
        "\n",
        "(Note that all arrays already contain float values so you do not need to convert the types)\n",
        "\n",
        "Have each person at your table pick a different city and use the cells below to figure out the average number of hours of daylight in each city so you can compare."
      ]
    },
    {
      "cell_type": "code",
      "execution_count": null,
      "metadata": {
        "id": "2-yx1nQMiDyU"
      },
      "outputs": [],
      "source": []
    },
    {
      "cell_type": "code",
      "execution_count": null,
      "metadata": {
        "id": "IRLXTeNMiDyU"
      },
      "outputs": [],
      "source": []
    },
    {
      "cell_type": "code",
      "execution_count": null,
      "metadata": {
        "id": "1qEBYVahiDyU"
      },
      "outputs": [],
      "source": []
    },
    {
      "cell_type": "code",
      "execution_count": null,
      "metadata": {
        "id": "k-DzvncbiDyU"
      },
      "outputs": [],
      "source": []
    },
    {
      "cell_type": "code",
      "execution_count": null,
      "metadata": {
        "id": "khfPN5GtiDyU"
      },
      "outputs": [],
      "source": []
    },
    {
      "cell_type": "markdown",
      "metadata": {
        "id": "_fAhe0iciDyU"
      },
      "source": [
        "Which city had the most hours of daylight?\n",
        "type your answer here:\n",
        "...\n",
        "\n",
        "Which city has the biggest range in hours of daylight?\n",
        "type your answer here:\n",
        "...\n",
        "\n",
        "What conclusions can you draw from this?\n",
        "..."
      ]
    },
    {
      "cell_type": "markdown",
      "metadata": {
        "id": "l74xd70jiDyU"
      },
      "source": [
        "### Finding the Elevation of a Hiking Path<a name='subsection2'></a>"
      ]
    },
    {
      "cell_type": "markdown",
      "metadata": {
        "id": "TU3aMUyHiDyU"
      },
      "source": [
        "You and your friends have decided to go on a hike. We have already imported the array called `contour`, which contains the information for a contour map giving the elevations of the area, and a list called `hiking_path`, which contains the pixels representing the path you and your friends will take. See the plot below:"
      ]
    },
    {
      "cell_type": "code",
      "execution_count": null,
      "metadata": {
        "id": "LNDPCXhniDyV"
      },
      "outputs": [],
      "source": [
        "# You haven't learned how to plot yet, so we did it for you.\n",
        "\n",
        "plot_path = np.zeros(contour.shape)\n",
        "for ii in range(len(hiking_path)):\n",
        "    plot_path[hiking_path[ii]] = 1\n",
        "\n",
        "fig, ax = plt.subplots(1,2, dpi=300)\n",
        "im1 = ax[0].imshow(contour,cmap=plt.cm.viridis, alpha=.9, vmin = 1400, interpolation='bilinear')\n",
        "ax[0].set_title('contour')\n",
        "ax[0].axis('off')\n",
        "fig.colorbar(im1, orientation='vertical', fraction=0.03)\n",
        "\n",
        "im2 = ax[1].imshow(plot_path, cmap=plt.cm.gray, interpolation='nearest')\n",
        "ax[1].set_title('hiking path')\n",
        "ax[1].axis('off')\n",
        "\n",
        "plt.show()\n"
      ]
    },
    {
      "cell_type": "markdown",
      "metadata": {
        "id": "WXn7xkuEiDyV"
      },
      "source": [
        "Looking at the plot, what color represents high elevation areas? How do you know?"
      ]
    },
    {
      "cell_type": "markdown",
      "metadata": {
        "id": "pkn85WHJiDyV"
      },
      "source": [
        "We can use `contour` and `hiking_path` to find the elevation for each step of the path. For example, if we wanted to find the elevation (in feet) of the first part, we would use the code in the next cell."
      ]
    },
    {
      "cell_type": "code",
      "execution_count": null,
      "metadata": {
        "id": "Llg7Fr-yiDyV"
      },
      "outputs": [],
      "source": [
        "# EXAMPLE\n",
        "contour[hiking_path[0]]"
      ]
    },
    {
      "cell_type": "code",
      "execution_count": null,
      "metadata": {
        "id": "f_yiJb1aiDyV"
      },
      "outputs": [],
      "source": [
        "# EXERCISE\n",
        "# Use what you know about numpy arrays and loops to figure out\n",
        "# the maximum change in altitude on the hike ( The maximum minus the minimum elevations.)\n",
        "\n",
        "# Create an array of 0's for now that has the same number of rows as the list hiking_path and 1 column\n",
        "# Hint: Which built-in Python function gives you the length of a list?\n",
        "elevations = np.zeros((...,...))\n",
        "\n",
        "# You have to loop through each item in the hiking_path list.\n",
        "# Store the elevation of each point on the hiking_path in the elevations array\n",
        "for x in ... :\n",
        "    elevations[x]= ...\n",
        "\n",
        "max_change = ...\n",
        "\n",
        "print(max_change)"
      ]
    },
    {
      "cell_type": "markdown",
      "metadata": {
        "id": "xeWwiOawiDyV"
      },
      "source": [
        "---\n",
        "Notebook developed by: Kseniya Usovich, Baishakhi Bose, Alisa Bettale, Laurel Hales, Arianna Formenti, Evan Neill"
      ]
    }
  ],
  "metadata": {
    "anaconda-cloud": {},
    "colab": {
      "provenance": []
    },
    "kernelspec": {
      "display_name": ".venv",
      "language": "python",
      "name": "python3"
    },
    "language_info": {
      "codemirror_mode": {
        "name": "ipython",
        "version": 3
      },
      "file_extension": ".py",
      "mimetype": "text/x-python",
      "name": "python",
      "nbconvert_exporter": "python",
      "pygments_lexer": "ipython3",
      "version": "3.11.1"
    },
    "vscode": {
      "interpreter": {
        "hash": "1de2c9b99b67c74942ae62ba9f4273989cfcd06b191aeb61677ac908252bed7d"
      }
    }
  },
  "nbformat": 4,
  "nbformat_minor": 0
}
