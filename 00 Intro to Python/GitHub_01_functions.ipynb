{
  "cells": [
    {
      "cell_type": "markdown",
      "id": "e030dffa",
      "metadata": {
        "id": "e030dffa"
      },
      "source": [
        "\n",
        "------\n",
        "\n",
        "# Functions\n",
        "\n",
        "\n",
        "### Table of Contents\n",
        "\n",
        "\n",
        "1 - [Built-in Functions](#section1)<br>\n",
        "\n",
        "2 - [Defining Functions](#section2)<br>\n",
        "\n",
        "3 - [Importing Libraries](#section3)<br>\n",
        "\n",
        "\n"
      ]
    },
    {
      "cell_type": "markdown",
      "id": "a244e8a0",
      "metadata": {
        "id": "a244e8a0"
      },
      "source": [
        "Before we start this notebook, similar to our previous notebook, we will have to run some code at the beginning to make sure everything is set up correctly. Please run the cells below."
      ]
    },
    {
      "cell_type": "code",
      "execution_count": null,
      "id": "68d2e98e",
      "metadata": {
        "id": "68d2e98e"
      },
      "outputs": [],
      "source": [
        "# RUN THIS CELL;\n",
        "\n",
        "###DO NOT MODIFY###\n",
        "\n",
        "# Initialize Otter\n",
        "import otter\n",
        "grader = otter.Notebook(tests_dir=\"tests/01_intro_to_python\")"
      ]
    },
    {
      "cell_type": "markdown",
      "id": "300c2995",
      "metadata": {
        "id": "300c2995"
      },
      "source": [
        "---\n",
        "# Built-in Functions<a name='section1'></a>"
      ]
    },
    {
      "cell_type": "markdown",
      "id": "15530caa",
      "metadata": {
        "id": "15530caa"
      },
      "source": [
        "A function is like a command. You specify inputs and it performs a specific task. They are useful when you are doing the same thing repeatedly, that way you don't have to write the same code lots of times. Python does not have a lot of built-in (aka available by default) functions and methods, but it does have some. We will go over a few useful functions and methods that will be good for you to know.\n",
        "\n",
        "If something is a function, it will appear in a different color. For example, on Google Colab it will be a light brown color."
      ]
    },
    {
      "cell_type": "code",
      "execution_count": null,
      "id": "0baa9755",
      "metadata": {
        "id": "0baa9755"
      },
      "outputs": [],
      "source": [
        "# EXAMPLE\n",
        "\n",
        "a = -4\n",
        "print(abs(a))"
      ]
    },
    {
      "cell_type": "code",
      "execution_count": null,
      "id": "b3238646",
      "metadata": {
        "id": "b3238646"
      },
      "outputs": [],
      "source": [
        "# EXAMPLE\n",
        "\n",
        "max(2, 5, 9, 7)"
      ]
    },
    {
      "cell_type": "code",
      "execution_count": null,
      "id": "0cb876d3",
      "metadata": {
        "id": "0cb876d3"
      },
      "outputs": [],
      "source": [
        "# EXAMPLE\n",
        "\n",
        "min(3, 7)"
      ]
    },
    {
      "cell_type": "markdown",
      "id": "1a024484",
      "metadata": {
        "id": "1a024484"
      },
      "source": [
        "Another built-in function you will most likely use in your coding a lot, is  **len(   )**. It is used to learn about the length of different objects."
      ]
    },
    {
      "cell_type": "markdown",
      "id": "c1008728",
      "metadata": {
        "id": "c1008728"
      },
      "source": [
        "### <center>  * * * Good Coding Practice Moment * * * <center>\n",
        "#### Even the pros use Google\n",
        "\n",
        "If you can't remember how to use a function, you want to find a new function, or you just aren't sure how to code something, Google is a great place to start. Someone else has likely had the same question before and posted on a website. It may take some time to learn how to understand coding blogs and websites, but then you can find the answers you need, just like the rest of us, on Google.\n",
        "\n",
        "![](https://drive.google.com/uc?export=view&id=1T1EcaSYcTtfwYa-rYKMMb6A3IG8G2Avq)\n",
        "\n",
        "### <center> * * * * * * * * * * * * * * * * * * * * * * * * * * * * <center>"
      ]
    },
    {
      "cell_type": "code",
      "execution_count": null,
      "id": "716835fa",
      "metadata": {
        "id": "716835fa"
      },
      "outputs": [],
      "source": [
        "# EXAMPLE\n",
        "\n",
        "len(\"dog\")"
      ]
    },
    {
      "cell_type": "markdown",
      "id": "f926646e",
      "metadata": {
        "deletable": false,
        "editable": false,
        "id": "f926646e"
      },
      "source": [
        "**QUESTION 1**\n",
        "\n",
        "What do you think the following code will output? Put the value where the ellipses are in the cell below, and have the grader check your answer. Try not to copy paste the code into another cell until you have tried a couple of attempts.\n",
        "\n",
        "`len(\" dog \")`"
      ]
    },
    {
      "cell_type": "code",
      "execution_count": null,
      "id": "7e2e5e30",
      "metadata": {
        "id": "7e2e5e30",
        "tags": [
          "otter_answer_cell"
        ]
      },
      "outputs": [],
      "source": [
        "dogstr_len = ...\n",
        "dogstr_len"
      ]
    },
    {
      "cell_type": "code",
      "execution_count": null,
      "id": "00fe4b9a",
      "metadata": {
        "deletable": false,
        "editable": false,
        "id": "00fe4b9a"
      },
      "outputs": [],
      "source": [
        "grader.check(\"q1\")"
      ]
    },
    {
      "cell_type": "markdown",
      "id": "2b98939b",
      "metadata": {
        "id": "2b98939b"
      },
      "source": [
        "In the example below, we will use a built-in **method**. There's no big difference between a function and a method, except for the syntax.\n",
        "\n",
        "Functions (not only the built-in ones) are usually used in the form of\n",
        "\n",
        "`function(argument 1, argument n)`\n",
        "\n",
        "![](https://drive.google.com/uc?export=view&id=1L6hj2fLmEpj0embY5GXc8GoXXG79QHF1)\n"
      ]
    },
    {
      "cell_type": "markdown",
      "id": "8dc48bbc",
      "metadata": {
        "id": "8dc48bbc"
      },
      "source": [
        "Unlike functions, methods are tied to variables (technically to objects or classes) and they are invoked at the end of the considered variable as\n",
        "\n",
        "`variable.method()`\n",
        "\n",
        "![](https://drive.google.com/uc?export=view&id=1Y7icRo1pgkisLNUIrZR-YXtnyPRU3bD-)"
      ]
    },
    {
      "cell_type": "markdown",
      "id": "3a98e90b",
      "metadata": {
        "id": "3a98e90b"
      },
      "source": [
        "### <center>  * * * Good Coding Practice Moment * * * <center>\n",
        "#### Google really is super helpful.\n",
        "\n",
        "If you can't remember if something is a function or a method, you can always google it. We've all done it before. You can also try both ways and see which one works.\n",
        "\n",
        "### <center> * * * * * * * * * * * * * * * * * * * * * * * * * * * * <center>"
      ]
    },
    {
      "cell_type": "code",
      "execution_count": null,
      "id": "377be661",
      "metadata": {
        "id": "377be661"
      },
      "outputs": [],
      "source": [
        "# EXAMPLE\n",
        "\n",
        "hello = \"Hello World\"\n",
        "\n",
        "print(hello.upper())\n",
        "print(hello)"
      ]
    },
    {
      "cell_type": "markdown",
      "id": "c3a2a56a",
      "metadata": {
        "id": "c3a2a56a"
      },
      "source": [
        "Have you noticed that the variable **hello** didn't change? Can you think why is that?"
      ]
    },
    {
      "cell_type": "code",
      "execution_count": null,
      "id": "5da4eec9",
      "metadata": {
        "id": "5da4eec9"
      },
      "outputs": [],
      "source": [
        "# EXAMPLE\n",
        "\n",
        "hello = \"Hello World\"\n",
        "print(hello.lower())\n",
        "print(hello)"
      ]
    },
    {
      "cell_type": "markdown",
      "id": "aa86d6d3",
      "metadata": {
        "id": "aa86d6d3"
      },
      "source": [
        "**QUESTION 2**\n",
        "\n",
        "In the cell below, create a variable **phrase** which tells us what school you go to. Then change all the letters to upper-cased letters using a string method."
      ]
    },
    {
      "cell_type": "code",
      "execution_count": null,
      "id": "05cddf66",
      "metadata": {
        "id": "05cddf66",
        "tags": [
          "otter_answer_cell"
        ]
      },
      "outputs": [],
      "source": [
        "# EXERCISE\n",
        "\n",
        "phrase = ...\n",
        "upper_phrase = ...\n",
        "\n",
        "# DO NOT MODIFY\n",
        "upper_phrase = upper_phrase + \" is the Best!\"\n",
        "print(upper_phrase)"
      ]
    },
    {
      "cell_type": "code",
      "execution_count": null,
      "id": "5da16e36",
      "metadata": {
        "deletable": false,
        "editable": false,
        "id": "5da16e36"
      },
      "outputs": [],
      "source": [
        "grader.check(\"q2\")"
      ]
    },
    {
      "cell_type": "markdown",
      "id": "b680f1a4",
      "metadata": {
        "id": "b680f1a4"
      },
      "source": [
        "### <center>  * * * Good Coding Practice Moment * * * <center>\n",
        "#### There's probably a function for that.\n",
        "\n",
        "There are a lot of functions out there. Whether you are trying to figure out how to sort a bunch of numbers, generate a random number, or find a specific character in a long string, someone else has probably already written a function that does that. Later we will go through how to access whole libraries of functions so you can use them.\n",
        "\n",
        "### <center> * * * * * * * * * * * * * * * * * * * * * * * * * * * * <center>"
      ]
    },
    {
      "cell_type": "markdown",
      "id": "ea96a022",
      "metadata": {
        "id": "ea96a022"
      },
      "source": [
        "---\n",
        "# Defining Functions<a name='section2'></a>"
      ]
    },
    {
      "cell_type": "markdown",
      "id": "2be1ba63",
      "metadata": {
        "id": "2be1ba63"
      },
      "source": [
        "A function is a block code that you can reuse to perform a specific action. In the next cell, we will be defining a simple one-line function that takes one argument."
      ]
    },
    {
      "cell_type": "code",
      "execution_count": null,
      "id": "3471fa2b",
      "metadata": {
        "id": "3471fa2b"
      },
      "outputs": [],
      "source": [
        "# EXAMPLE\n",
        "\n",
        "def degrees_FtoK(F):\n",
        "    \"\"\"\n",
        "    This function converts temperatures measured in\n",
        "    degrees Fahrenheit to Kelvin.\n",
        "    Inputs:\n",
        "        F - temperature measured in degrees Fahrenheit\n",
        "    Outputs:\n",
        "        K - temperature in Kelvin.\n",
        "    \"\"\"\n",
        "    K =(F + 459.67) * 5/9\n",
        "    return K"
      ]
    },
    {
      "cell_type": "markdown",
      "id": "7a9b4f34-3b08-4750-b3f3-e228e67207bc",
      "metadata": {
        "id": "7a9b4f34-3b08-4750-b3f3-e228e67207bc"
      },
      "source": [
        "The portion of code within the `\"\"\"` is called a `docstring` and can help you figure out what a function does using `help`:"
      ]
    },
    {
      "cell_type": "code",
      "execution_count": null,
      "id": "41e2dd0f-94aa-479d-83f2-8ea76c3b4987",
      "metadata": {
        "id": "41e2dd0f-94aa-479d-83f2-8ea76c3b4987"
      },
      "outputs": [],
      "source": [
        "help(degrees_FtoK)"
      ]
    },
    {
      "cell_type": "markdown",
      "id": "23bd7289",
      "metadata": {
        "id": "23bd7289"
      },
      "source": [
        "Here's how to use the function:"
      ]
    },
    {
      "cell_type": "code",
      "execution_count": null,
      "id": "b2b1435f",
      "metadata": {
        "id": "b2b1435f"
      },
      "outputs": [],
      "source": [
        "#EXAMPLE\n",
        "\n",
        "# Convert 81 degrees F to Kelvin\n",
        "temp = degrees_FtoK(81)\n",
        "print(temp)"
      ]
    },
    {
      "cell_type": "markdown",
      "id": "41e6aa93",
      "metadata": {
        "id": "41e6aa93"
      },
      "source": [
        "**QUESTION 3**\n",
        "\n",
        "Use the `degrees_FtoK` function to find convert the following temperatures from Fahrenheit to Kelvin. -459.67&#8457;, 32&#8457;, and 98.6&#8457;"
      ]
    },
    {
      "cell_type": "code",
      "execution_count": null,
      "id": "09f594f8",
      "metadata": {
        "id": "09f594f8",
        "tags": [
          "otter_answer_cell"
        ]
      },
      "outputs": [],
      "source": [
        "# Exercise\n",
        "# Convert -459.67 F to K\n",
        "temp1 = ...\n",
        "# Convert 32 F to K\n",
        "temp2 = ...\n",
        "# Convert 98.6 F to K\n",
        "temp3 = ...\n",
        "\n",
        "print(temp1)\n",
        "print(temp2)\n",
        "print(temp3)"
      ]
    },
    {
      "cell_type": "code",
      "execution_count": null,
      "id": "e05f69b3",
      "metadata": {
        "deletable": false,
        "editable": false,
        "id": "e05f69b3"
      },
      "outputs": [],
      "source": [
        "grader.check(\"q3\")"
      ]
    },
    {
      "cell_type": "markdown",
      "id": "249cecd3",
      "metadata": {
        "id": "249cecd3"
      },
      "source": [
        "Functions can perform multiple calculations and use more than one argument, they can even return more than one thing, or nothing at all. They can incorporate lots of things including other functions inside your function - aka nested functions (we won't be going over nested functions in this workshop, but feel free to look them up).\n",
        "\n",
        "You can have multiple inputs, for example to calculate the area of a rectangle."
      ]
    },
    {
      "cell_type": "code",
      "execution_count": null,
      "id": "cf47ae10",
      "metadata": {
        "id": "cf47ae10"
      },
      "outputs": [],
      "source": [
        "# EXAMPLE\n",
        "def area(width, height):\n",
        "    area = width*height\n",
        "    return area\n",
        "\n",
        "area(2,4)"
      ]
    },
    {
      "cell_type": "markdown",
      "id": "be2f8272-0ada-4cba-bfdd-39e2e5813bdb",
      "metadata": {
        "id": "be2f8272-0ada-4cba-bfdd-39e2e5813bdb"
      },
      "source": [
        "You can also have multiple outputs, for example to calculate"
      ]
    },
    {
      "cell_type": "code",
      "execution_count": null,
      "id": "b6bebd6d-5d09-4776-b2bb-c044e6746642",
      "metadata": {
        "id": "b6bebd6d-5d09-4776-b2bb-c044e6746642"
      },
      "outputs": [],
      "source": [
        "# EXAMPLE\n",
        "def binary_operations(num1, num2):\n",
        "    sum   = num1 + num2\n",
        "    diff  = num1 - num2\n",
        "    mult  = num1 * num2\n",
        "    div   = num1 / num2\n",
        "    exp   = num1**num2\n",
        "    mod   = num1 % num2\n",
        "    floor = num1 // num2\n",
        "\n",
        "    return sum, diff, mult, div, exp, mod, floor\n",
        "\n",
        "binary_operations(10,7)"
      ]
    },
    {
      "cell_type": "markdown",
      "id": "629b4106",
      "metadata": {
        "id": "629b4106"
      },
      "source": [
        "**Discussion Question: When would I want to use a function?**"
      ]
    },
    {
      "cell_type": "markdown",
      "id": "4c8377f7",
      "metadata": {
        "id": "4c8377f7"
      },
      "source": [
        "### <center>  * * * Good Coding Practice Moment * * * </center>\n",
        "#### How to define a function:\n",
        "\n",
        "![](https://drive.google.com/uc?export=view&id=1Rd9b99HraBN5lRxDSHJunhxnl2Gebb4S)\n",
        "    \n",
        "1. `def` is how you tell the computer you want to define a function.\n",
        "2. The name of the function - This is how you will call the function.\n",
        "3. The inputs to your function (if you have more than one, separate with commas)\n",
        "4. If you don't put a colon here, it will cause an error\n",
        "5. It is good coding practice to include a `docstring` (the text between `\"\"\"`) which can help you figure out what a function does by calling it using `help()`. It's helpful to include a list of inputs and outputs.\n",
        "6. Notice that everything inside the function is indented. Anything that isn't indented won't be included in the function. Your editor usually indents for you automatically.\n",
        "7. If you want to output a value, put return and then the names of the variables you wish to return, separated by commas if there are more than one.\n",
        "\n",
        "### <center> * * * * * * * * * * * * * * * * * * * * * * * * * * * * <center>"
      ]
    },
    {
      "cell_type": "code",
      "execution_count": null,
      "id": "cc88f09c",
      "metadata": {
        "id": "cc88f09c"
      },
      "outputs": [],
      "source": [
        "# EXAMPLE\n",
        "# Create a function that finds the x-intercepts for a parabola\n",
        "\n",
        "def quadraticFormula(a, b, c):\n",
        "    \"\"\"\n",
        "    Finds the x-intercepts for the parabola a*x**2 + b*x + c\n",
        "    Inputs:\n",
        "    a, b, c - the coefficients for the parabola as listed above.\n",
        "    Outputs:\n",
        "    x1, x2 - the x-intercepts for the parabola above\n",
        "    \"\"\"\n",
        "    x1 = (-b - (b**2-4*a*c)**(1/2))/(2*a)\n",
        "    x2 = (-b + (b**2-4*a*c)**(1/2))/(2*a)\n",
        "    return x1, x2\n",
        "\n",
        "\n",
        "#Below we are testing the function we just created\n",
        "x1, x2 = quadraticFormula(1, 1, -6)\n",
        "\n",
        "print('x intercept 1 =', x1)\n",
        "print('x intercept 2 =', x2)\n"
      ]
    },
    {
      "cell_type": "markdown",
      "id": "3bf4311a",
      "metadata": {
        "id": "3bf4311a"
      },
      "source": [
        "**QUESTION 4**\n",
        "\n",
        "In the cell below use the **quadraticFormula** function to find the x-intercepts of $2x^2 - 4x - 6$"
      ]
    },
    {
      "cell_type": "code",
      "execution_count": null,
      "id": "3a0ceca9",
      "metadata": {
        "id": "3a0ceca9",
        "tags": [
          "otter_answer_cell"
        ]
      },
      "outputs": [],
      "source": [
        "# EXERCISE\n",
        "\n",
        "x1, x2 = ...\n",
        "\n",
        "\n",
        "print('x intercept 1 =', x1)\n",
        "print('x intercept 2 =', x2)"
      ]
    },
    {
      "cell_type": "code",
      "execution_count": null,
      "id": "9f321341",
      "metadata": {
        "deletable": false,
        "editable": false,
        "id": "9f321341"
      },
      "outputs": [],
      "source": [
        "grader.check(\"q4\")"
      ]
    },
    {
      "cell_type": "markdown",
      "id": "7c96bdac",
      "metadata": {
        "deletable": false,
        "editable": false,
        "id": "7c96bdac"
      },
      "source": [
        "**QUESTION 5**\n",
        "\n",
        "In the cell below use the quadraticFormula function to find the x-intercepts of $-5x^2 + 8x + 4$"
      ]
    },
    {
      "cell_type": "code",
      "execution_count": null,
      "id": "641c71a0",
      "metadata": {
        "id": "641c71a0",
        "tags": [
          "otter_answer_cell"
        ]
      },
      "outputs": [],
      "source": [
        "# EXERCISE\n",
        "\n",
        "x1, x2 = ...\n",
        "\n",
        "print('x intercept 1 =', x1)\n",
        "print('x intercept 2 =', x2)"
      ]
    },
    {
      "cell_type": "code",
      "execution_count": null,
      "id": "c79e365a",
      "metadata": {
        "deletable": false,
        "editable": false,
        "id": "c79e365a"
      },
      "outputs": [],
      "source": [
        "grader.check(\"q5\")"
      ]
    },
    {
      "cell_type": "markdown",
      "id": "2daef6e9",
      "metadata": {
        "id": "2daef6e9"
      },
      "source": [
        "Be careful when defining variables within functions. They are **local** variables and can only be accessible within the function - if you try to use them outside of the function, you will get an error. **Global** variables are those that are defined outside of the function. They can be used throughout the program.\n",
        "\n",
        "In the example below, what variable is global? Local?"
      ]
    },
    {
      "cell_type": "code",
      "execution_count": null,
      "id": "acedf95d",
      "metadata": {
        "id": "acedf95d"
      },
      "outputs": [],
      "source": [
        "# EXAMPLE\n",
        "\n",
        "g = 9.8 #acceleration due to gravity\n",
        "\n",
        "def findWeight(mass):\n",
        "    fg = mass*g\n",
        "    return fg\n",
        "\n",
        "weight = findWeight(10)\n",
        "weight\n"
      ]
    },
    {
      "cell_type": "markdown",
      "id": "38c8d8cd",
      "metadata": {
        "id": "38c8d8cd"
      },
      "source": [
        "It is also possible to define a method, but we won't be going over that this summer. If you are interested in learning more, try reading about object oriented programming and python classes."
      ]
    },
    {
      "cell_type": "markdown",
      "id": "531cadb3",
      "metadata": {
        "id": "531cadb3"
      },
      "source": [
        "---\n",
        "\n",
        "# Importing Libraries <a name='section3'></a>"
      ]
    },
    {
      "cell_type": "markdown",
      "id": "6ba8646a",
      "metadata": {
        "id": "6ba8646a"
      },
      "source": [
        "In order to do more with Python, we have to import libraries. Libraries contain functions and variables that you can use in your code.\n",
        "\n",
        "For example, using the tools you have now, how would you get $\\pi$ using Python? Recite it from memory? That is not very convient."
      ]
    },
    {
      "cell_type": "code",
      "execution_count": null,
      "id": "a7f33de7",
      "metadata": {
        "id": "a7f33de7"
      },
      "outputs": [],
      "source": [
        "# EXAMPLE\n",
        "\n",
        "import math\n",
        "\n",
        "math.pi"
      ]
    },
    {
      "cell_type": "markdown",
      "id": "5f6ee8e2",
      "metadata": {
        "id": "5f6ee8e2"
      },
      "source": [
        "**QUESTION 6**\n",
        "\n",
        "Write a function that calculates a circle's area by using the math library."
      ]
    },
    {
      "cell_type": "code",
      "execution_count": null,
      "id": "06f9987f",
      "metadata": {
        "id": "06f9987f"
      },
      "outputs": [],
      "source": [
        "def circleArea(r):\n",
        "    \"\"\"\n",
        "    Calculates a circle's area given radius r and using math.pi from Python's math library\n",
        "    Inputs:\n",
        "    r - radius of circle\n",
        "    Outputs:\n",
        "    area - area of circle\n",
        "    \"\"\"\n",
        "\n",
        "    area = ...\n",
        "\n",
        "    return area\n",
        "\n",
        "# Sanity Check: Does your function do what is intended?\n",
        "b = circleArea(3)\n",
        "b"
      ]
    },
    {
      "cell_type": "markdown",
      "id": "2d128429",
      "metadata": {
        "id": "2d128429"
      },
      "source": [
        "Do you notice anything different between this output using `math.pi`, and if we use an appoximation of $\\pi$ like below?"
      ]
    },
    {
      "cell_type": "code",
      "execution_count": null,
      "id": "dfc991ad",
      "metadata": {
        "id": "dfc991ad"
      },
      "outputs": [],
      "source": [
        "c = 3.14*3**2\n",
        "c"
      ]
    },
    {
      "cell_type": "markdown",
      "id": "6346aad9",
      "metadata": {
        "id": "6346aad9"
      },
      "source": [
        "You can look at interesting functions/variables that you have when you import the [math library](https://docs.python.org/3/library/math.html#)!\n",
        "\n",
        "Is there a function that seems cool? Test it out in the cell below!"
      ]
    },
    {
      "cell_type": "code",
      "execution_count": null,
      "id": "6ec84be3",
      "metadata": {
        "id": "6ec84be3"
      },
      "outputs": [],
      "source": [
        "# Our Example: What does copysign do? Open the link in the cell above to check your understanding!\n",
        "print(math.copysign(7, -100))\n",
        "print(math.copysign(-1, 1.2))"
      ]
    },
    {
      "cell_type": "code",
      "execution_count": null,
      "id": "359fd2d7",
      "metadata": {
        "id": "359fd2d7"
      },
      "outputs": [],
      "source": [
        "# Test out a function\n",
        "print(...)"
      ]
    },
    {
      "cell_type": "markdown",
      "id": "FmeLvYmchFsy",
      "metadata": {
        "id": "FmeLvYmchFsy"
      },
      "source": [
        "---\n",
        "Notebook developed by: Kseniya Usovich, Rachel McCarty, Baishakhi Bose, Alisa Bettale, Laurel Hales, Lawrence Chen, Arianna Formenti, Evan Neill"
      ]
    }
  ],
  "metadata": {
    "colab": {
      "provenance": []
    },
    "kernelspec": {
      "display_name": ".venv",
      "language": "python",
      "name": "python3"
    },
    "language_info": {
      "codemirror_mode": {
        "name": "ipython",
        "version": 3
      },
      "file_extension": ".py",
      "mimetype": "text/x-python",
      "name": "python",
      "nbconvert_exporter": "python",
      "pygments_lexer": "ipython3",
      "version": "3.11.1"
    },
    "vscode": {
      "interpreter": {
        "hash": "1de2c9b99b67c74942ae62ba9f4273989cfcd06b191aeb61677ac908252bed7d"
      }
    }
  },
  "nbformat": 4,
  "nbformat_minor": 5
}
