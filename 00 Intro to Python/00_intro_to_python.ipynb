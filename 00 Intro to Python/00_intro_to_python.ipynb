{
 "cells": [
  {
   "cell_type": "markdown",
   "id": "desperate-intranet",
   "metadata": {
    "id": "desperate-intranet"
   },
   "source": [
    "\n",
    "--------\n",
    "# Intro to Python: Data Types & Variables\n",
    "\n",
    "\n",
    "\n",
    "### Table of Contents\n",
    "\n",
    "1 - [Jupyter Notebook](#section1)<br>\n",
    "\n",
    "&nbsp;&nbsp;&nbsp;&nbsp;&nbsp;&nbsp; 1.1 - [Comments](#subsection1)<br>\n",
    "\n",
    "&nbsp;&nbsp;&nbsp;&nbsp;&nbsp;&nbsp; 1.2 - [Adding and Deleting Cells](#subsection2)<br>\n",
    "\n",
    "2 - [Basics](#section2)<br>\n",
    "\n",
    "&nbsp;&nbsp;&nbsp;&nbsp;&nbsp;&nbsp; 2.1 - [Python for simple arithmetic](#subsection3)<br>\n",
    "\n",
    "&nbsp;&nbsp;&nbsp;&nbsp;&nbsp;&nbsp; 2.2 - [Python for textual data ](#subsection4)<br>\n",
    "\n",
    "&nbsp;&nbsp;&nbsp;&nbsp;&nbsp;&nbsp; 2.3 - [Variables](#subsection5)<br>\n",
    "\n",
    "3 - [Challenge: Start Coding Your Game](#section3)\n",
    "\n",
    "4 - [Exit Ticket](#section4)\n"
   ]
  },
  {
   "cell_type": "markdown",
   "id": "obvious-vermont",
   "metadata": {
    "id": "obvious-vermont"
   },
   "source": [
    "---\n",
    "## The Jupyter Notebook <a id='section1'></a>"
   ]
  },
  {
   "cell_type": "markdown",
   "id": "radical-triple",
   "metadata": {
    "id": "radical-triple"
   },
   "source": [
    "Notebooks is a document-like platform that contains text, code, visualizations, and more.\n",
    "\n",
    "A notebook is composed of rectangular sections called cells. Cells are used to break things up into bits of text, and bits of code. There are 2 kinds of cells: __markdown__ and __code__. You can select any cell by clicking it once.\n",
    "\n",
    "__1)__ A markdown cell, such as this one, contains text. Markdown cells contains plain text and you can format this text in many different ways! (This will not be covered in this workshop)\n",
    "  \n",
    "  * To edit Markdown cells:\n",
    "       * Left click twice on the markdown cell, make your changes, and run your cell again! \n",
    "\n",
    "Look at the icons on the menu above. \n",
    "First icon (an **old floppy disk**) is to save your notebook. The **+** icon is for adding a new cell. Then, there are the **cut, copy, and paste** buttons. The arrows are to move your current cell **up** or **down**. Then you have a button to **\"run\"** a code cell, the **square icon** means \"stop\" and the **swirly arrow** is to \"restart\" your notebook (if the computation is stuck, for example). Next to that, you have the **cell-type selector**: Code or Markdown (or others that you can ignore for now).\n",
    "\n",
    "_Notice this cell type is selected as Markdown._\n",
    "\n",
    "__2)__ A code cell contains code in Python, a programming language that we will be using for the remainder of this workshop. \n",
    "A code cell will show you an input mark, like this:\n",
    "\n",
    "In [ ]:\n",
    "Once you execute the code, it will add a number id to the input cell, and produce an output marked like this:\n",
    "Out [1]:\n",
    "\n",
    "* To run code, \n",
    "    * press shift + enter or\n",
    "    * click the Run button in the toolbar at the top of the screen.\n",
    "    * If a code cell is running, you will see an asterisk (*) appear in the square brackets to the left of the cell. Once the cell has finished running, a number will replace the asterisk and any output from the code will appear under the cell. This is represented by a number. \n",
    "    \n"
   ]
  },
  {
   "cell_type": "code",
   "execution_count": null,
   "id": "toxic-district",
   "metadata": {
    "id": "toxic-district",
    "outputId": "40d143c3-531e-4727-d578-4f05ed9657a6",
    "scrolled": true
   },
   "outputs": [],
   "source": [
    "# THIS IS A COMMENT: RUN THIS CELL\n",
    "\n",
    "print(\"Hello World!\")  # The print function displays the contents within the quotation marks \"\"on the screen"
   ]
  },
  {
   "cell_type": "markdown",
   "id": "8927c2a5",
   "metadata": {},
   "source": [
    "Now that you know how to run a cell, please run the cell below. It is just needed to set-up things for later exercises. Don't worry, you will learn what the code means in later lessons!"
   ]
  },
  {
   "cell_type": "code",
   "execution_count": null,
   "id": "b08e99f9",
   "metadata": {},
   "outputs": [],
   "source": [
    "# RUN THIS CELL;\n",
    "\n",
    "###DO NOT MODIFY###\n",
    "import numpy as np\n",
    "from matplotlib import pyplot as plt\n",
    "from jupyter_utils import *\n",
    "%matplotlib inline"
   ]
  },
  {
   "cell_type": "markdown",
   "id": "negative-component",
   "metadata": {
    "id": "negative-component"
   },
   "source": [
    "---\n",
    "## Basics  <a id='section2'></a>\n",
    "\n",
    "* Data Types or Object: You can group data into two main types, __numerical__ and __textual__. In this section you will learn about the two different types of numerical information that it is there, namely, float and integer data.  \n",
    "\n",
    "* Arithmetic Operations: You can test-drive a code cell by writing some arithmetic operations; Python operators are:\n",
    "\n",
    "*+     -     *     /     **     %     // \n",
    "\n",
    "The ‘+’ operator is used to perform addition. Two operands can be added using the ‘+’ operator.\n",
    "\n",
    "Similarly, there's subtraction (-), multiplication ('*') and division ('/'). The last three operators are exponent (raise to the power of), modulo which divides and returns remainder of ('%') and floor division ('//').\n",
    "\n"
   ]
  },
  {
   "cell_type": "markdown",
   "id": "selective-commodity",
   "metadata": {
    "id": "selective-commodity"
   },
   "source": [
    "### 2.1 Python can be use to compute simple __arithmetic__  <a id='subsection3'></a>\n",
    "\n"
   ]
  },
  {
   "cell_type": "code",
   "execution_count": null,
   "id": "retired-brunswick",
   "metadata": {
    "colab": {
     "base_uri": "https://localhost:8080/"
    },
    "executionInfo": {
     "elapsed": 5,
     "status": "ok",
     "timestamp": 1647537374497,
     "user": {
      "displayName": "Alisa Bettale",
      "photoUrl": "https://lh3.googleusercontent.com/a-/AOh14GhTfNC486jkLx63Z2Yg4zxmviVRFalLaPPCVO8U=s64",
      "userId": "11758430359130760384"
     },
     "user_tz": 420
    },
    "id": "retired-brunswick",
    "outputId": "f8732d9c-16a4-4c88-8cc2-3b85950586c8"
   },
   "outputs": [],
   "source": [
    "# EXAMPLE\n",
    "\n",
    "5+2"
   ]
  },
  {
   "cell_type": "code",
   "execution_count": null,
   "id": "excited-confusion",
   "metadata": {
    "id": "excited-confusion"
   },
   "outputs": [],
   "source": [
    "5 + 2.0"
   ]
  },
  {
   "cell_type": "markdown",
   "id": "918f0cd0",
   "metadata": {},
   "source": [
    "Discuss: Why were the above two outputs are different?"
   ]
  },
  {
   "cell_type": "code",
   "execution_count": null,
   "id": "compatible-skirt",
   "metadata": {
    "id": "compatible-skirt"
   },
   "outputs": [],
   "source": [
    "4-2"
   ]
  },
  {
   "cell_type": "code",
   "execution_count": null,
   "id": "informative-florida",
   "metadata": {
    "id": "informative-florida"
   },
   "outputs": [],
   "source": [
    "4/2"
   ]
  },
  {
   "cell_type": "code",
   "execution_count": null,
   "id": "4614e163",
   "metadata": {
    "id": "informative-florida"
   },
   "outputs": [],
   "source": [
    "4*2"
   ]
  },
  {
   "cell_type": "code",
   "execution_count": null,
   "id": "d6a2153e",
   "metadata": {
    "id": "informative-florida"
   },
   "outputs": [],
   "source": [
    "4/3"
   ]
  },
  {
   "cell_type": "markdown",
   "id": "occasional-trail",
   "metadata": {
    "id": "occasional-trail"
   },
   "source": [
    "Two slashes (**//**) are used for floor division. The results of division operation are converted into the whole number (integer) by adjusting the number to the left in the number line using floor division (aka there won't be a floating, or Decimal, point)."
   ]
  },
  {
   "cell_type": "code",
   "execution_count": null,
   "id": "passive-mauritius",
   "metadata": {
    "id": "passive-mauritius"
   },
   "outputs": [],
   "source": [
    "4//3"
   ]
  },
  {
   "cell_type": "markdown",
   "id": "fd496ede",
   "metadata": {},
   "source": [
    "Notice how the use of // rounds the output to 1 and how using the division operator ('/') returns a floating value with decimal points) "
   ]
  },
  {
   "cell_type": "code",
   "execution_count": null,
   "id": "subjective-spectrum",
   "metadata": {
    "id": "subjective-spectrum"
   },
   "outputs": [],
   "source": [
    "5*3"
   ]
  },
  {
   "cell_type": "markdown",
   "id": "loaded-westminster",
   "metadata": {
    "id": "loaded-westminster"
   },
   "source": [
    "When using two stars, we exponentiate the numbers. Meaning, we take the number on the left to the power of the number to the right. "
   ]
  },
  {
   "cell_type": "code",
   "execution_count": null,
   "id": "blank-discipline",
   "metadata": {
    "id": "blank-discipline"
   },
   "outputs": [],
   "source": [
    "5**3"
   ]
  },
  {
   "cell_type": "code",
   "execution_count": null,
   "id": "elegant-infection",
   "metadata": {
    "id": "elegant-infection"
   },
   "outputs": [],
   "source": [
    "(1+2) * 2"
   ]
  },
  {
   "cell_type": "code",
   "execution_count": null,
   "id": "10029234",
   "metadata": {
    "id": "elegant-infection"
   },
   "outputs": [],
   "source": [
    "(1+2) ** 2"
   ]
  },
  {
   "cell_type": "markdown",
   "id": "1f27e5e1",
   "metadata": {
    "id": "loaded-westminster"
   },
   "source": [
    "The modulus operator ‘%’  is used to find out the remainder of the division when the left operand is divided by the right operand. "
   ]
  },
  {
   "cell_type": "code",
   "execution_count": null,
   "id": "96a2111e",
   "metadata": {
    "id": "elegant-infection"
   },
   "outputs": [],
   "source": [
    "4 % 2"
   ]
  },
  {
   "cell_type": "markdown",
   "id": "other-canyon",
   "metadata": {
    "id": "other-canyon"
   },
   "source": [
    "### Challenge"
   ]
  },
  {
   "cell_type": "markdown",
   "id": "55a865a5",
   "metadata": {
    "id": "later-spending"
   },
   "source": [
    "Find the volume of a few different spheres. Find the volume if the radius is: 5, 48, 2.73, and 3."
   ]
  },
  {
   "cell_type": "code",
   "execution_count": null,
   "id": "attempted-phoenix",
   "metadata": {
    "id": "attempted-phoenix"
   },
   "outputs": [],
   "source": [
    "# EXERCISE: radius = 5\n",
    "..."
   ]
  },
  {
   "cell_type": "code",
   "execution_count": null,
   "id": "b6cc98aa",
   "metadata": {},
   "outputs": [],
   "source": [
    "# EXERCISE: radius = 48\n",
    ".."
   ]
  },
  {
   "cell_type": "code",
   "execution_count": null,
   "id": "1e93fa50",
   "metadata": {},
   "outputs": [],
   "source": [
    "# EXERCISE: radius = 2.73\n",
    "..."
   ]
  },
  {
   "cell_type": "code",
   "execution_count": null,
   "id": "8448b31d",
   "metadata": {},
   "outputs": [],
   "source": [
    "# EXERCISE: radius = 3\n",
    "..."
   ]
  },
  {
   "cell_type": "markdown",
   "id": "accurate-tension",
   "metadata": {
    "id": "accurate-tension"
   },
   "source": [
    "### 2.2 Python can be use on textual data <a id='subsection4'></a>\n",
    "\n",
    "* Textual data are called strings \n",
    "* Strings are defined by the quotation marks (either \"double\"  or 'single').\n",
    "\n",
    "\n"
   ]
  },
  {
   "cell_type": "code",
   "execution_count": null,
   "id": "facial-childhood",
   "metadata": {
    "id": "facial-childhood"
   },
   "outputs": [],
   "source": [
    "# EXAMPLE\n",
    "\n",
    "'Berkeley Lab'"
   ]
  },
  {
   "cell_type": "code",
   "execution_count": null,
   "id": "excited-point",
   "metadata": {
    "id": "excited-point"
   },
   "outputs": [],
   "source": [
    "\"Berkeley Lab\""
   ]
  },
  {
   "cell_type": "markdown",
   "id": "dirty-interpretation",
   "metadata": {
    "id": "dirty-interpretation"
   },
   "source": [
    "Be careful, because some of the textual information might already contain the single (more common) or double (less common) quotation marks inside. Like so:"
   ]
  },
  {
   "cell_type": "code",
   "execution_count": null,
   "id": "rolled-recipient",
   "metadata": {
    "id": "rolled-recipient"
   },
   "outputs": [],
   "source": [
    "# EXAMPLE\n",
    "\n",
    "'Zachary's'"
   ]
  },
  {
   "cell_type": "markdown",
   "id": "according-sacrifice",
   "metadata": {
    "id": "according-sacrifice"
   },
   "source": [
    "If we were to use single quotation marks on the outside, it would give us an error like the one above. To fix this, we want to use double quotations outside, or simply put a backslash before the quotation mark, so the computer will read it as part of the string instead of a part of the code itself."
   ]
  },
  {
   "cell_type": "code",
   "execution_count": null,
   "id": "better-powder",
   "metadata": {
    "id": "better-powder"
   },
   "outputs": [],
   "source": [
    "# EXAMPLE\n",
    "\n",
    "\"Zachary's\""
   ]
  },
  {
   "cell_type": "code",
   "execution_count": null,
   "id": "typical-measure",
   "metadata": {
    "id": "typical-measure"
   },
   "outputs": [],
   "source": [
    "# EXAMPLE\n",
    "\n",
    "'Zachary\\'s'"
   ]
  },
  {
   "cell_type": "markdown",
   "id": "jewish-senior",
   "metadata": {
    "id": "jewish-senior"
   },
   "source": [
    "Everything inside that quotation marks will be read as a textual information. Compare the outputs in the cell below."
   ]
  },
  {
   "cell_type": "code",
   "execution_count": null,
   "id": "tracked-klein",
   "metadata": {
    "id": "tracked-klein"
   },
   "outputs": [],
   "source": [
    "# EXAMPLE\n",
    "\"2+3\""
   ]
  },
  {
   "cell_type": "code",
   "execution_count": null,
   "id": "d1f2c68e",
   "metadata": {
    "id": "tracked-klein"
   },
   "outputs": [],
   "source": [
    "# EXAMPLE\n",
    "2+3"
   ]
  },
  {
   "cell_type": "code",
   "execution_count": null,
   "id": "273de8d9",
   "metadata": {},
   "outputs": [],
   "source": [
    "# EXAMPLE\n",
    "\"2\"+\"3\""
   ]
  },
  {
   "cell_type": "markdown",
   "id": "south-particle",
   "metadata": {
    "id": "south-particle"
   },
   "source": [
    "Add 2 strings together (with a **+**) to see what happens!"
   ]
  },
  {
   "cell_type": "code",
   "execution_count": null,
   "id": "nearby-frost",
   "metadata": {
    "id": "nearby-frost"
   },
   "outputs": [],
   "source": [
    "# EXERCISE\n",
    "\n",
    "'hello' + 'world'"
   ]
  },
  {
   "cell_type": "markdown",
   "id": "working-bloom",
   "metadata": {
    "id": "working-bloom"
   },
   "source": [
    "Multiply a string by a number to see what happens!"
   ]
  },
  {
   "cell_type": "code",
   "execution_count": null,
   "id": "fancy-green",
   "metadata": {
    "id": "fancy-green"
   },
   "outputs": [],
   "source": [
    "# EXERCISE\n",
    "'hello' * 3\n"
   ]
  },
  {
   "cell_type": "markdown",
   "id": "handled-quebec",
   "metadata": {
    "id": "handled-quebec"
   },
   "source": [
    "In Python, there is something called \"casting.\" Casting is the process of converting a variable from one type to the other. For achieving this in Python, the casting functions are in place. The casting functions take responsibility for the conversion of the variables from their actual type to the other format. \n",
    "\n",
    "For example: To convert to an integer to a string, write \"str()\", and inside the parenthesis, write the variable you want to cast as a string. To convert a float to an integer, do the same thing but write \"int()\""
   ]
  },
  {
   "cell_type": "code",
   "execution_count": null,
   "id": "distant-luxembourg",
   "metadata": {
    "id": "distant-luxembourg"
   },
   "outputs": [],
   "source": [
    "# EXAMPLE\n",
    "\n",
    "str(5)"
   ]
  },
  {
   "cell_type": "code",
   "execution_count": null,
   "id": "9ef1db2a",
   "metadata": {
    "id": "distant-luxembourg"
   },
   "outputs": [],
   "source": [
    "# EXAMPLE\n",
    "\n",
    "int(5.00)"
   ]
  },
  {
   "cell_type": "markdown",
   "id": "c6291755",
   "metadata": {},
   "source": [
    "Try converting the string \"12\" to an integer below:"
   ]
  },
  {
   "cell_type": "code",
   "execution_count": null,
   "id": "7fcd31e6",
   "metadata": {
    "id": "encouraging-vacation"
   },
   "outputs": [],
   "source": [
    "# EXERCISE\n",
    "\n"
   ]
  },
  {
   "cell_type": "markdown",
   "id": "a61b64a7",
   "metadata": {},
   "source": [
    "What do you think might happen is you tried converting the string \"hello\" to an integer? let's try it!"
   ]
  },
  {
   "cell_type": "code",
   "execution_count": null,
   "id": "432d12c0",
   "metadata": {},
   "outputs": [],
   "source": [
    "#EXERCISE \n"
   ]
  },
  {
   "cell_type": "markdown",
   "id": "beautiful-progressive",
   "metadata": {
    "id": "beautiful-progressive"
   },
   "source": [
    "### 2.3 Variables <a id='subsection5'></a>\n",
    "\n",
    "\n",
    "We can think of a variable as a container or a storage box that allows us to save various types of information/objects we plan to use later. Defining a variable consists of two components: a name it will be called by and information/object you store under that name. One variable can hold one type of information. \n",
    "\n",
    "Python variables are of four different types: Integer, Long Integer, Float, and String. \n",
    "Integers are used to define numeric values; \n",
    "Long Integers are used for defining integers with bigger lengths than a normal Integer. \n",
    "Floats are used for defining decimal values.\n",
    "Strings are used for defining characters.\n",
    "\n",
    "* We assign a variable using **=** \n",
    "\n",
    "Python has the ability to determine the type of the variable just based on the type of value being stored in it."
   ]
  },
  {
   "cell_type": "code",
   "execution_count": null,
   "id": "harmful-observer",
   "metadata": {
    "id": "harmful-observer"
   },
   "outputs": [],
   "source": [
    "# EXAMPLE\n",
    "\n",
    "var = \"whatever\"\n",
    "var"
   ]
  },
  {
   "cell_type": "markdown",
   "id": "9f1e61e7",
   "metadata": {
    "id": "binding-station"
   },
   "source": [
    "Question: What type of variable is used in the above example? Let us check."
   ]
  },
  {
   "cell_type": "code",
   "execution_count": null,
   "id": "c74874cf",
   "metadata": {
    "id": "tracked-klein"
   },
   "outputs": [],
   "source": [
    "# EXAMPLE\n",
    "type(var)"
   ]
  },
  {
   "cell_type": "markdown",
   "id": "binding-station",
   "metadata": {
    "id": "binding-station"
   },
   "source": [
    "In the cell below create a variable \"name\" that will save your full name in it."
   ]
  },
  {
   "cell_type": "code",
   "execution_count": null,
   "id": "casual-complex",
   "metadata": {
    "id": "casual-complex"
   },
   "outputs": [],
   "source": [
    "# EXERCISE\n",
    "\n",
    "name  = ...\n",
    "name"
   ]
  },
  {
   "cell_type": "code",
   "execution_count": null,
   "id": "47071b46",
   "metadata": {
    "id": "harmful-observer"
   },
   "outputs": [],
   "source": [
    "# EXAMPLE\n",
    "\n",
    "V1 = 10\n",
    "print(V1)\n",
    "V2 = int(\"111111111111111111111\")\n",
    "print(V2)\n",
    "V3 = 3.14\n",
    "print(V3)\n",
    "V4 = \"Numbers\"\n",
    "print(V4)"
   ]
  },
  {
   "cell_type": "markdown",
   "id": "7d3a0e82",
   "metadata": {
    "id": "unknown-questionnaire"
   },
   "source": [
    "The above code consists of four variables named V1, V2, V3 and V4; one holds an integer value, the other holds a long integer value, the next one holds a float value, and the last one holds a string value. The print statements print the value stored in each variable used in the code block."
   ]
  },
  {
   "cell_type": "code",
   "execution_count": null,
   "id": "ef8baa19",
   "metadata": {
    "id": "harmful-observer"
   },
   "outputs": [],
   "source": [
    "# EXAMPLE\n",
    "\n",
    "V1 = 10\n",
    "print(v1)\n"
   ]
  },
  {
   "cell_type": "markdown",
   "id": "c2b2b1e4",
   "metadata": {
    "id": "unknown-questionnaire"
   },
   "source": [
    "Why did the above example code not work? What did you learn about variable name assigning from the previous example?"
   ]
  },
  {
   "cell_type": "markdown",
   "id": "50e5edb2",
   "metadata": {},
   "source": [
    "### <center>  * * * Good Coding Practice Moment * * * <center>\n",
    "#### Choosing a good name for your variables\n",
    "\n",
    "It is important to give variables names that describe what they do. \n",
    "`var` is not a good name for a variable because it doesn't tell you anything about what the variable is, but `name` is a much better name for a variable. \n",
    "\n",
    "* Variable names usually start with a lowercase letter \n",
    "* If you want to use a multi-word variable name, use an underscore ( \\_ ) between the words, or capitalize the the first letter of the _second word_ (and the third, fourth...)\n",
    "* For example: `first_name` and `last_name` or `firstName` and `lastName` (It doesn't matter which you choose, as long as you are consistant)\n",
    "\n",
    "### <center> * * * * * * * * * * * * * * * * * * * * * * * * * * * * <center>"
   ]
  },
  {
   "cell_type": "code",
   "execution_count": null,
   "id": "19abc4bf",
   "metadata": {},
   "outputs": [],
   "source": [
    "# Did you read the text above? If not, take a minute to read it\n",
    "..."
   ]
  },
  {
   "cell_type": "markdown",
   "id": "listed-combining",
   "metadata": {
    "id": "listed-combining"
   },
   "source": [
    "Variables can be used for any Data Type or Data Structure (which we will learn about tomorrow). Numbers that you plan to reuse can be saved under a variable as well."
   ]
  },
  {
   "cell_type": "code",
   "execution_count": null,
   "id": "martial-magic",
   "metadata": {
    "id": "martial-magic"
   },
   "outputs": [],
   "source": [
    "# EXAMPLE\n",
    "\n",
    "g = 9.8 # acceleration due to gravity (m/s/s)\n",
    "g"
   ]
  },
  {
   "cell_type": "markdown",
   "id": "f108858f",
   "metadata": {},
   "source": [
    "### <center> * * * Good Coding Practice Moment * * * <center>\n",
    "#### Describe your variables the first time you use them\n",
    "Even if you choose good names for your variables, sometimes you still forget what they mean, for that reason it is often a good idea when you first difine a variable to include a comment describing the variable. like in the example above I like to also specify units if applicable. \n",
    "\n",
    "### <center> * * * * * * * * * * * * * * * * * * * * * * * * * * * * <center>"
   ]
  },
  {
   "cell_type": "code",
   "execution_count": null,
   "id": "be81fdf4",
   "metadata": {},
   "outputs": [],
   "source": [
    "# Did you read the text above? If not, take a minute to read it"
   ]
  },
  {
   "cell_type": "markdown",
   "id": "eefbe5fd",
   "metadata": {},
   "source": [
    "You can do arithmetic with variables:"
   ]
  },
  {
   "cell_type": "code",
   "execution_count": null,
   "id": "c7ba7d00",
   "metadata": {},
   "outputs": [],
   "source": [
    "# EXAMPLE \n",
    "\n",
    "mass = 77 # mass in kg\n",
    "\n",
    "acceleration = g * mass\n",
    "\n",
    "print(acceleration)"
   ]
  },
  {
   "cell_type": "markdown",
   "id": "030724af",
   "metadata": {},
   "source": [
    "Given the following values for area and width of a rectangle below, what is the value of the length? "
   ]
  },
  {
   "cell_type": "code",
   "execution_count": null,
   "id": "c5426fa0",
   "metadata": {},
   "outputs": [],
   "source": [
    "# EXERCISE\n",
    "area = 15\n",
    "width = 3\n",
    "\n",
    "length = ...\n",
    "\n",
    "print(length)"
   ]
  },
  {
   "cell_type": "markdown",
   "id": "db5392c8",
   "metadata": {},
   "source": [
    "Given the values of velocity and time below, what is the distance traveled? *(Hint: Remember that velocity = distance / time)*"
   ]
  },
  {
   "cell_type": "code",
   "execution_count": null,
   "id": "a7453eaa",
   "metadata": {},
   "outputs": [],
   "source": [
    "# EXERCISE\n",
    "velocity = 65 #mph\n",
    "time = 45 # time in minutes \n",
    "\n",
    "time = ... # time in hours\n",
    "distance = ...  #distance traveled. \n",
    "\n",
    "print(distance)"
   ]
  },
  {
   "cell_type": "markdown",
   "id": "ac14761b",
   "metadata": {},
   "source": [
    "---\n",
    "## Challenge: Start Coding Your Game <a id='section3'></a>"
   ]
  },
  {
   "cell_type": "markdown",
   "id": "6414330d",
   "metadata": {},
   "source": [
    "Let's say that you want to code a game, so you start with a board like this. \n",
    "\n",
    "<img src=\"images/board.png\">\n",
    "\n",
    "First things first, you will have to put your player on the board. You can do this by specifying a value between 0 and 19 for the x position (pos_x), and the y position (pos_y) on the board. The starting point is pos_x = 4 and pos_y = 2"
   ]
  },
  {
   "cell_type": "code",
   "execution_count": null,
   "id": "de323082",
   "metadata": {},
   "outputs": [],
   "source": [
    "# EXERCISE\n",
    "\n",
    "# Define the variables pos_x and pos_y so that your player starts at the\n",
    "# beginning of the maze, the point (4,2)\n",
    "\n",
    "... # The x position of my player on the board\n",
    "... # The y position of my player on the board\n",
    "\n",
    "\n",
    "# Don't modify the code below. \n",
    "show_player(path,[pos_y, pos_x], show_direc=False)"
   ]
  },
  {
   "cell_type": "markdown",
   "id": "unknown-questionnaire",
   "metadata": {
    "id": "unknown-questionnaire"
   },
   "source": [
    "Variables that have numbers (either integers or floats) can be used in calculations just like regular numbers."
   ]
  },
  {
   "cell_type": "code",
   "execution_count": null,
   "id": "behind-adult",
   "metadata": {
    "id": "behind-adult"
   },
   "outputs": [],
   "source": [
    "# EXAMPLE\n",
    "\n",
    "(pos_x+5)*3\n"
   ]
  },
  {
   "cell_type": "code",
   "execution_count": null,
   "id": "8aaca796",
   "metadata": {},
   "outputs": [],
   "source": [
    "# Example\n",
    "pos_x"
   ]
  },
  {
   "cell_type": "markdown",
   "id": "b158a3c7",
   "metadata": {},
   "source": [
    "Why didn't the value of pos_x change? If you want to change the value, you need to reassign, the value.  \n",
    "\n",
    "For example, let's move our player forward 4 spaces and up 1 space. "
   ]
  },
  {
   "cell_type": "code",
   "execution_count": null,
   "id": "68d1e9c2",
   "metadata": {},
   "outputs": [],
   "source": [
    "# EXAMPLE\n",
    "\n",
    "pos_x = pos_x + 4\n",
    "pos_y = pos_y + 1\n",
    "\n",
    "# Don't modify the code below\n",
    "show_player(path, [pos_y, pos_x], show_direc=False)"
   ]
  },
  {
   "cell_type": "markdown",
   "id": "endless-continent",
   "metadata": {
    "id": "endless-continent"
   },
   "source": [
    "#### Run the previous cell again, what happens?\n",
    "\n",
    "Why didn't you end up at the same place as last time?  If you wanted undo the last move and try something else, what would you have to do? \n",
    "\n",
    "\n"
   ]
  },
  {
   "cell_type": "markdown",
   "id": "df35b906",
   "metadata": {
    "id": "endless-continent"
   },
   "source": [
    "\n",
    "\n",
    "\n",
    "#### In the cell below, \n",
    "move your player up 2 spaces, and to the left 3 spaces. Make sure to use arithmatic and don't just assign new values."
   ]
  },
  {
   "cell_type": "code",
   "execution_count": null,
   "id": "sophisticated-bracket",
   "metadata": {
    "id": "sophisticated-bracket"
   },
   "outputs": [],
   "source": [
    "# EXERCISE\n",
    "\n",
    "pos_x = ...\n",
    "pos_y = ...\n",
    "\n",
    "# Don't modify the code below\n",
    "show_player(path, [pos_y, pos_x], show_direc=False)"
   ]
  },
  {
   "cell_type": "markdown",
   "id": "e0a0722f",
   "metadata": {
    "id": "endless-continent"
   },
   "source": [
    "This time move your player to the right 6 spaces and down 2 spaces:"
   ]
  },
  {
   "cell_type": "code",
   "execution_count": null,
   "id": "3ca120e2",
   "metadata": {
    "id": "sophisticated-bracket"
   },
   "outputs": [],
   "source": [
    "# EXERCISE\n",
    "\n",
    "pos_x = ...\n",
    "pos_y = ...\n",
    "\n",
    "# Don't modify the code below\n",
    "show_player(path, [pos_y, pos_x], show_direc=False)"
   ]
  },
  {
   "cell_type": "markdown",
   "id": "30c1ce69",
   "metadata": {},
   "source": [
    "What should we do if we want the player to start over at the beginning again? "
   ]
  },
  {
   "cell_type": "markdown",
   "id": "fe08f96b",
   "metadata": {},
   "source": [
    "### <center> * * * Good Coding Practice moment * * * <center>\n",
    "\n",
    "#### Avoid magic numbers\n",
    "It is good coding practice to give make a variable for every number you use. \n",
    "* When you use numbers in your code without giving them an explanation and a name, they are sometimes called \"magic numbers\"\n",
    "* Not doing so can make it difficult for others to understand your code and difficult for you if you decide to change that value later and you have to search through all of your code to make sure that you change every single instance. \n",
    "\n",
    "\n",
    "### <center> * * * * * * * * * * * * * * * * * * * * * * * * * * * * <center>"
   ]
  },
  {
   "cell_type": "code",
   "execution_count": null,
   "id": "f223c850",
   "metadata": {},
   "outputs": [],
   "source": [
    "# Did you read the text above? If not take a minute to read it"
   ]
  },
  {
   "cell_type": "markdown",
   "id": "4b242c3e",
   "metadata": {},
   "source": [
    "Be a good coder by creating new variables start_x and start_y for the starting position (4,2)."
   ]
  },
  {
   "cell_type": "code",
   "execution_count": null,
   "id": "62eaf1b9",
   "metadata": {},
   "outputs": [],
   "source": [
    "#EXERCISE\n",
    "start_x = ...\n",
    "start_y = ...\n"
   ]
  },
  {
   "cell_type": "markdown",
   "id": "e7630031",
   "metadata": {},
   "source": [
    "To check if we did it right, in the box below, use your new variables to reset pos_x and pos_y back to their starting positions using the variables you just defined. "
   ]
  },
  {
   "cell_type": "code",
   "execution_count": null,
   "id": "a8de1093",
   "metadata": {},
   "outputs": [],
   "source": [
    "#EXERCISE \n",
    "pos_x = ...\n",
    "pos_y = ...\n",
    "\n",
    "\n",
    "#Don't modify the code below\n",
    "show_player(path,[pos_y,pos_x], show_direc=False)"
   ]
  },
  {
   "cell_type": "markdown",
   "id": "35c3ca94",
   "metadata": {
    "id": "endless-continent"
   },
   "source": [
    "What if we need to know what direction the player is facing?\n",
    "\n",
    "\n",
    "\n",
    "One solution is to have some variables that specify a direction. \n",
    "* `dir_x`  specifies the x direction\n",
    "    * `dir_x = 0` - the player is facing up or down\n",
    "    * `dir_x = 1` - the player is facing to the right\n",
    "    * `dir_x = -1` - the player facing to the left\n",
    "* `dir_y` specifies the y direction \n",
    "    * `dir_y = 0` - the player is facing to the left or right\n",
    "    * `dir_y = 1` - the player is facing up\n",
    "    * `dir_y = -1` - the player is facing down\n",
    "    \n",
    "We can even change how our player looks so that we can tell what direction they are facing. (The player is to the right here)\n",
    "\n",
    "<img src=\"images/show_direc.png\">\n",
    "\n",
    "Let's do a couple examples:"
   ]
  },
  {
   "cell_type": "code",
   "execution_count": null,
   "id": "aeacfb58",
   "metadata": {},
   "outputs": [],
   "source": [
    "#Player is facing to the right\n",
    "dir_x = 1 # the x component of the direction the player is facing\n",
    "dir_y = 0 # the y component of the direction the player is facing \n",
    "\n",
    "\n",
    "# Do not modify the code below\n",
    "show_player(path, [pos_y,pos_x], direc=[dir_y, dir_x])"
   ]
  },
  {
   "cell_type": "code",
   "execution_count": null,
   "id": "551d708c",
   "metadata": {},
   "outputs": [],
   "source": [
    "#Player is facing down\n",
    "dir_x = 0 # the x component of the direction the player is facing\n",
    "dir_y = -1 # the y component of the direction the player is facing \n",
    "\n",
    "\n",
    "# Do not modify the code below\n",
    "show_player(path, [pos_y,pos_x], direc=[dir_y, dir_x])"
   ]
  },
  {
   "cell_type": "markdown",
   "id": "021f35b1",
   "metadata": {},
   "source": [
    "Now we will get the player to move. The code below does the following:\n",
    "\n",
    "1. Specify values for dir_x and dir_y so that the player is facing to the right.\n",
    "2. Use variables dir_x and dir_y to write new values for pos_x and pos_y, moving the player 6 spaces in the direction specified (in this case to the right).\n",
    "\n",
    "How do we move the player? You can use the direction variables to calculate new position variables after a given number of steps. No matter what the values are you can always use the following formulas:\n",
    "\n",
    "**`pos_x = pos_x + direc_x*number_of_steps`**\n",
    "\n",
    "**`pos_y = pos_y + direc_y*number_of_steps`**"
   ]
  },
  {
   "cell_type": "code",
   "execution_count": null,
   "id": "7c240119",
   "metadata": {
    "id": "sophisticated-bracket"
   },
   "outputs": [],
   "source": [
    "# EXAMPLE\n",
    "dir_x = 1 # the x component of the direction the player is facing\n",
    "dir_y = 0 # the y component of the direction the player is facing \n",
    "\n",
    "pos_x = pos_x + 6*dir_x # moving player num_steps in the (dir_x, dir_y) direction\n",
    "pos_y = pos_y + 6*dir_y # moving player 6 steps in the (dir_x, dir_y) direction\n",
    "\n",
    "# Do not modify the code below\n",
    "show_player(path, [pos_y,pos_x], direc=[dir_y, dir_x])"
   ]
  },
  {
   "cell_type": "code",
   "execution_count": null,
   "id": "006ae80e",
   "metadata": {},
   "outputs": [],
   "source": [
    "# EXERCISE \n",
    "# Change the direction so the player is facing up\n",
    "\n",
    "dir_x = ...\n",
    "dir_y = ...\n",
    "\n",
    "# Do not modify the code below\n",
    "show_player(path, [pos_y,pos_x], direc=[dir_y, dir_x])\n"
   ]
  },
  {
   "cell_type": "code",
   "execution_count": null,
   "id": "0b9f6edc",
   "metadata": {},
   "outputs": [],
   "source": [
    "#EXERCISE \n",
    "# Use the same method as shown above to move the player 12 places forward\n",
    "\n",
    "pos_x = ...\n",
    "\n",
    "pos_y = ...\n",
    "\n",
    "\n",
    "# Do not modify the code below\n",
    "show_player(path, [pos_y,pos_x], direc=[dir_y, dir_x])\n"
   ]
  },
  {
   "cell_type": "markdown",
   "id": "fef82f62",
   "metadata": {},
   "source": [
    "---\n",
    "## Exit Ticket<a id='section4'></a>"
   ]
  },
  {
   "cell_type": "markdown",
   "id": "d86df2cd",
   "metadata": {},
   "source": [
    "When you are done with the notebook, use this link to access the Exit Ticket:\n",
    "\n",
    "https://forms.gle/uUsJSqwwdbDnQSkx6"
   ]
  },
  {
   "cell_type": "markdown",
   "id": "tough-adolescent",
   "metadata": {
    "id": "tough-adolescent"
   },
   "source": [
    "---\n",
    "\n",
    "Notebook developed by: Kseniya Usovich, Rachel McCarty, Baishakhi Bose, Alisa Bettale, Laurel Hales"
   ]
  }
 ],
 "metadata": {
  "colab": {
   "name": "Day-1.ipynb",
   "provenance": []
  },
  "kernelspec": {
   "display_name": "Python 3",
   "language": "python",
   "name": "python3"
  },
  "language_info": {
   "codemirror_mode": {
    "name": "ipython",
    "version": 3
   },
   "file_extension": ".py",
   "mimetype": "text/x-python",
   "name": "python",
   "nbconvert_exporter": "python",
   "pygments_lexer": "ipython3",
   "version": "3.8.8"
  }
 },
 "nbformat": 4,
 "nbformat_minor": 5
}
