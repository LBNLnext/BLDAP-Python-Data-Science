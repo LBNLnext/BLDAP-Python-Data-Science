{
 "cells": [
  {
   "cell_type": "markdown",
   "metadata": {
    "id": "QULY5UK0RNyg"
   },
   "source": [
    "\n",
    "------\n",
    "\n",
    "# Loops\n",
    "\n",
    "\n",
    "\n",
    "\n",
    "\n",
    "### Table of Contents\n",
    "\n",
    "1 - [For Loops](#section1) <br>\n",
    "\n",
    "2 - [While Loops](#section2)<br>\n",
    "\n",
    "3 - [Challenge: Using Loops in the Game](#section3)<br>\n",
    "\n",
    "4 - [Extra Challenge: Plinko](#section4)<br>\n"
   ]
  },
  {
   "cell_type": "code",
   "execution_count": 11,
   "metadata": {},
   "outputs": [],
   "source": [
    "# RUN THIS CELL;\n",
    "\n",
    "###DO NOT MODIFY###\n",
    "import math\n",
    "import numpy as np\n",
    "from matplotlib import pyplot as plt\n",
    "from jupyter_utils import *\n",
    "import time\n",
    "import random\n",
    "\n",
    "%matplotlib inline"
   ]
  },
  {
   "cell_type": "markdown",
   "metadata": {
    "id": "Ifx4P63qRNyt"
   },
   "source": [
    "What are loops useful for? \n",
    "- Sometimes we want to perform some operation on a list but doing it on each element individually can be very tedious!\n",
    "- A loop goes through a collection of data types and **executes** some state statement **for each value** in that collection of data. \n",
    "- Examples of data types are: list, array, characters string, dictionary, and other collections"
   ]
  },
  {
   "cell_type": "markdown",
   "metadata": {
    "id": "Tf8bisbsRNyt"
   },
   "source": [
    "---\n",
    "## For  Loops <a id='section1'></a>"
   ]
  },
  {
   "cell_type": "markdown",
   "metadata": {
    "id": "gsLwtD8BRNyu"
   },
   "source": [
    "Syntax: \n",
    "\n",
    "**for** var **in** iterable:\n",
    "\n",
    "    statement \n",
    "    statement \n",
    "\n",
    "    \n",
    "* var - it takes items from iterable one by one. \n",
    "* iterable - it's a collection of objects.\n",
    "* indentation - loop body MUST be indented.\n",
    "* loop body - first two statements \n"
   ]
  },
  {
   "cell_type": "code",
   "execution_count": 12,
   "metadata": {
    "id": "hZB-q1-kRNyu"
   },
   "outputs": [
    {
     "name": "stdout",
     "output_type": "stream",
     "text": [
      "H\n",
      "e\n",
      "l\n",
      "l\n",
      "o\n"
     ]
    }
   ],
   "source": [
    "# EXAMPLE \n",
    "\n",
    "greeting = 'Hello'\n",
    "\n",
    "# to print each letter in greeting without using loop \n",
    "\n",
    "print(greeting[0])\n",
    "print(greeting[1])\n",
    "print(greeting[2])\n",
    "print(greeting[3])\n",
    "print(greeting[4])"
   ]
  },
  {
   "cell_type": "code",
   "execution_count": 13,
   "metadata": {
    "id": "hZB-q1-kRNyu"
   },
   "outputs": [
    {
     "name": "stdout",
     "output_type": "stream",
     "text": [
      "H\n",
      "e\n",
      "l\n",
      "l\n",
      "o\n"
     ]
    }
   ],
   "source": [
    "# EXAMPLE \n",
    "\n",
    "greeting = 'Hello'\n",
    "\n",
    "# here we are using the for loop\n",
    "\n",
    "for letter in greeting:\n",
    "    print(letter)"
   ]
  },
  {
   "cell_type": "markdown",
   "metadata": {
    "id": "gsLwtD8BRNyu"
   },
   "source": [
    "The for loop helps us write the code in a simpler way with less code we can iterate over. This minimizes confusion, reduces lines of code, and runs faster."
   ]
  },
  {
   "cell_type": "code",
   "execution_count": 14,
   "metadata": {
    "id": "hZB-q1-kRNyu"
   },
   "outputs": [
    {
     "name": "stdout",
     "output_type": "stream",
     "text": [
      "x is  1\n",
      "x**2 is  1\n",
      "x is  2\n",
      "x**2 is  4\n",
      "x is  3\n",
      "x**2 is  9\n"
     ]
    }
   ],
   "source": [
    "# EXAMPLE \n",
    "\n",
    "# square each value in the list \n",
    "\n",
    "for x in [1,2,3]:\n",
    "    print(\"x is \", x)\n",
    "    print(\"x**2 is \", x**2)\n",
    "    "
   ]
  },
  {
   "cell_type": "code",
   "execution_count": 15,
   "metadata": {
    "id": "Ooy2XzM-RNyu"
   },
   "outputs": [
    {
     "name": "stdout",
     "output_type": "stream",
     "text": [
      "1\n",
      "2.0\n",
      "hi!\n"
     ]
    }
   ],
   "source": [
    "# EXAMPLE \n",
    "\n",
    "# print each item in the list. \n",
    "# recall that the elements in the list do not have to have the same type \n",
    "\n",
    "for i in [1, 2.0, \"hi!\"]:\n",
    "    print(i)"
   ]
  },
  {
   "cell_type": "markdown",
   "metadata": {
    "id": "S74nDZMJRNyu"
   },
   "source": [
    "Create a for-loop that multiplies every number in the list by 3 (and outputs it on every step)."
   ]
  },
  {
   "cell_type": "code",
   "execution_count": 16,
   "metadata": {
    "id": "ECWZ6WCKRNyu"
   },
   "outputs": [
    {
     "name": "stdout",
     "output_type": "stream",
     "text": [
      "3\n",
      "15\n",
      "21\n",
      "0\n"
     ]
    }
   ],
   "source": [
    "# EXERCISE \n",
    "\n",
    "numbers = [1, 5, 7, 0]\n",
    "\n",
    "for i in numbers:\n",
    "    print (i * 3)"
   ]
  },
  {
   "cell_type": "markdown",
   "metadata": {},
   "source": [
    "For loops can use range functions instead of a pre-defined list:"
   ]
  },
  {
   "cell_type": "code",
   "execution_count": 17,
   "metadata": {},
   "outputs": [
    {
     "name": "stdout",
     "output_type": "stream",
     "text": [
      "[0, 1, 2, 3, 4]\n"
     ]
    }
   ],
   "source": [
    "# EXAMPLE\n",
    "print(list(range(5)))"
   ]
  },
  {
   "cell_type": "code",
   "execution_count": 18,
   "metadata": {
    "id": "aneieb1xRNyu"
   },
   "outputs": [
    {
     "name": "stdout",
     "output_type": "stream",
     "text": [
      "0\n",
      "1\n",
      "2\n",
      "3\n",
      "4\n"
     ]
    }
   ],
   "source": [
    "# EXAMPLE \n",
    "for i in range(5):\n",
    "    print(i)"
   ]
  },
  {
   "cell_type": "code",
   "execution_count": 19,
   "metadata": {
    "id": "ECWZ6WCKRNyu"
   },
   "outputs": [
    {
     "name": "stdout",
     "output_type": "stream",
     "text": [
      "0\n",
      "1\n",
      "2\n",
      "3\n"
     ]
    }
   ],
   "source": [
    "# EXAMPLE\n",
    "# Let's look at the difference between using range and a list \n",
    "\n",
    "numbers = [1, 5, 7, 0]\n",
    "\n",
    "for i in range(len(numbers)):\n",
    "    print (i)\n",
    "    \n",
    "# This version loops the numbers 0 - m\n",
    "# where m is the length of the list numbers.\n",
    "\n",
    "# This can be helpful when you need to know which time through \n",
    "# the loop you are, for example if you using the elements of a \n",
    "# list one at at time. "
   ]
  },
  {
   "cell_type": "code",
   "execution_count": 20,
   "metadata": {},
   "outputs": [
    {
     "name": "stdout",
     "output_type": "stream",
     "text": [
      "1\n",
      "5\n",
      "7\n",
      "0\n"
     ]
    }
   ],
   "source": [
    "#EXAMPLE\n",
    "\n",
    "for j in numbers:\n",
    "    print(j)\n",
    "    \n",
    "# This version loops through the values of the list numbers"
   ]
  },
  {
   "cell_type": "code",
   "execution_count": 21,
   "metadata": {},
   "outputs": [
    {
     "name": "stdout",
     "output_type": "stream",
     "text": [
      "i is  0  and j is  1\n",
      "i is  1  and j is  5\n",
      "i is  2  and j is  7\n",
      "i is  3  and j is  0\n"
     ]
    }
   ],
   "source": [
    "# EXAMPLE\n",
    "\n",
    "#Sometimes you need both of these options, then you can use the enumerate function. \n",
    "\n",
    "for i, j in enumerate(numbers):\n",
    "    print( 'i is ', i, ' and j is ', j)"
   ]
  },
  {
   "cell_type": "code",
   "execution_count": 22,
   "metadata": {},
   "outputs": [
    {
     "name": "stdout",
     "output_type": "stream",
     "text": [
      "2\n",
      "3\n",
      "4\n",
      "5\n",
      "6\n",
      "7\n"
     ]
    }
   ],
   "source": [
    "#EXERCISE\n",
    "\n",
    "#Print numbers 2 through 8\n",
    "\n",
    "for i in range(2,8):\n",
    "    print(i)"
   ]
  },
  {
   "cell_type": "code",
   "execution_count": 23,
   "metadata": {},
   "outputs": [
    {
     "name": "stdout",
     "output_type": "stream",
     "text": [
      "2\n",
      "4\n",
      "6\n",
      "8\n"
     ]
    }
   ],
   "source": [
    "#EXERCISE\n",
    "\n",
    "#Print ONLY even numbers between 2 and 8, inclusively\n",
    "\n",
    "for i in range(2,9,2):\n",
    "    print(i)"
   ]
  },
  {
   "cell_type": "code",
   "execution_count": 24,
   "metadata": {
    "id": "IVAztdsGRNyu"
   },
   "outputs": [
    {
     "name": "stdout",
     "output_type": "stream",
     "text": [
      "3.141592653589793\n",
      "28.274333882308138\n",
      "78.53981633974483\n",
      "153.93804002589985\n",
      "254.46900494077323\n"
     ]
    }
   ],
   "source": [
    "# EXAMPLE \n",
    "\n",
    "# calculate the area for circles with different radius\n",
    "\n",
    "radiuses = [1, 3, 5, 7, 9]\n",
    "\n",
    "for radius in radiuses: \n",
    "    area = math.pi*radius**2\n",
    "    print(area)"
   ]
  },
  {
   "cell_type": "code",
   "execution_count": 25,
   "metadata": {
    "id": "IVAztdsGRNyu"
   },
   "outputs": [
    {
     "name": "stdout",
     "output_type": "stream",
     "text": [
      "4.1887902047863905\n",
      "113.09733552923254\n",
      "523.5987755982989\n",
      "1436.7550402417319\n",
      "3053.6280592892786\n"
     ]
    }
   ],
   "source": [
    "# EXERCISE\n",
    "\n",
    "# calculate the volume of spheres with different radius by modifying the above code \n",
    "\n",
    "radiuses = [1, 3, 5, 7, 9]\n",
    "\n",
    "for radius in radiuses: \n",
    "    V = 4/3*math.pi*radius**3\n",
    "    print(V)"
   ]
  },
  {
   "cell_type": "code",
   "execution_count": 26,
   "metadata": {
    "id": "IVAztdsGRNyu"
   },
   "outputs": [
    {
     "name": "stdout",
     "output_type": "stream",
     "text": [
      "pink is my favorite color\n"
     ]
    }
   ],
   "source": [
    "# EXAMPLE \n",
    "# Let us see an example that uses our knowledge of lists, conditional statements, and loops\n",
    "\n",
    "# print the colors stored in an array\n",
    "color = [\"green\", \"pink\", \"red\"]\n",
    "for c in color:\n",
    "    if c == \"pink\":\n",
    "        print (c + \" is my favorite color\")\n",
    "    \n",
    "    "
   ]
  },
  {
   "cell_type": "markdown",
   "metadata": {},
   "source": [
    "Why did the color **red** not print? "
   ]
  },
  {
   "cell_type": "code",
   "execution_count": 27,
   "metadata": {
    "id": "z9lvPz9dRNyv"
   },
   "outputs": [
    {
     "name": "stdout",
     "output_type": "stream",
     "text": [
      "green\n",
      "red\n"
     ]
    }
   ],
   "source": [
    "# EXERCISE (HINT: you can check for a letter in a string using the command in (\"g\" in green) = True )\n",
    "\n",
    "#Print only colors that have the letter 'e'\n",
    "color = [\"green\", \"pink\", \"red\"]\n",
    "for c in color:\n",
    "    if 'e' in c:\n",
    "        print(c)\n",
    "        \n",
    "        "
   ]
  },
  {
   "cell_type": "code",
   "execution_count": 28,
   "metadata": {},
   "outputs": [
    {
     "name": "stdout",
     "output_type": "stream",
     "text": [
      "[0.0, 195.1, 380.4, 555.9, 721.6, 877.5, 1023.6, 1159.9, 1286.4, 1403.1, 1510.0, 1607.1, 1694.4, 1771.9, 1839.6, 1897.5, 1945.6, 1983.8999999999999, 2012.3999999999999, 2031.1, 2039.9999999999998, 2039.1, 2028.3999999999996, 2007.8999999999996, 1977.6, 1937.5, 1887.6, 1827.8999999999996, 1758.3999999999996, 1679.0999999999995, 1590.0, 1491.0999999999995, 1382.3999999999996, 1263.8999999999996, 1135.5999999999995, 997.5, 849.5999999999995, 691.8999999999996, 524.3999999999996, 347.09999999999945, 159.9999999999991]\n"
     ]
    }
   ],
   "source": [
    "# EXAMPLE\n",
    "# Say you want to model the path of a bullet shot into the air, \n",
    "# You can figure that out using the formula x_n = x_0 + v*t + a/2 *t^2.\n",
    "\n",
    "#First we create a list for the times:\n",
    "ts = list(range(41)) # t has the values 0 - 21. \n",
    "\n",
    "# We need to initialize a list so that we have somewhere to store the values. \n",
    "xs = [] \n",
    "\n",
    "x_0 = 0\n",
    "v = 200\n",
    "a = -9.8\n",
    "\n",
    "for t in ts: \n",
    "    xs += [x_0 + v*t + a/2*t**2]\n",
    "    \n",
    "#print(ts)    \n",
    "print(xs)"
   ]
  },
  {
   "cell_type": "code",
   "execution_count": 31,
   "metadata": {},
   "outputs": [
    {
     "data": {
      "image/png": "[encoded data removed]",
      "text/plain": [
       "<Figure size 432x288 with 1 Axes>"
      ]
     },
     "metadata": {
      "needs_background": "light"
     },
     "output_type": "display_data"
    }
   ],
   "source": [
    "# you haven't learned how to plot things yet, but here is what a plot would look like\n",
    "\n",
    "plt.plot(ts, xs)\n",
    "plt.xlabel('x (m)')\n",
    "plt.ylabel('t (s)');"
   ]
  },
  {
   "cell_type": "markdown",
   "metadata": {},
   "source": [
    "#### Using for loops to find averages"
   ]
  },
  {
   "cell_type": "markdown",
   "metadata": {},
   "source": [
    "We know that if we have a list of values we can using built in functions. But it can use a lot of memory to save large lists of values - so instead, we can use for loops to both calculate the average without having to save every single value."
   ]
  },
  {
   "cell_type": "code",
   "execution_count": 32,
   "metadata": {},
   "outputs": [
    {
     "name": "stdout",
     "output_type": "stream",
     "text": [
      "2.8\n"
     ]
    }
   ],
   "source": [
    "# EXAMPLE - using built in functions \n",
    "\n",
    "numbers = [0,1,3,4,7,4,0,3,5,1]\n",
    "\n",
    "mean1 = sum(numbers)/len(numbers)\n",
    "print(mean1)\n"
   ]
  },
  {
   "cell_type": "code",
   "execution_count": 33,
   "metadata": {},
   "outputs": [
    {
     "name": "stdout",
     "output_type": "stream",
     "text": [
      "cumulative sum:  0\n",
      "cumulative sum:  1\n",
      "cumulative sum:  4\n",
      "cumulative sum:  8\n",
      "cumulative sum:  15\n",
      "cumulative sum:  19\n",
      "cumulative sum:  19\n",
      "cumulative sum:  22\n",
      "cumulative sum:  27\n",
      "cumulative sum:  28\n",
      "mean is  2.8\n"
     ]
    }
   ],
   "source": [
    "# Using for loops\n",
    "\n",
    "sum2 = 0 # You have to initialize the value as zero, we will add stuff to it in the loop\n",
    "for i in numbers:\n",
    "    sum2 += i\n",
    "    print('cumulative sum: ', sum2)\n",
    "    \n",
    "mean2 =sum2/len(numbers)\n",
    "print('mean is ', mean2)\n",
    "\n",
    "# Using this method you only need to save one value, sum2 and you update it on every iteration"
   ]
  },
  {
   "cell_type": "markdown",
   "metadata": {
    "id": "PvTQ8Ld8RNyv"
   },
   "source": [
    "---\n",
    "## While Loops  <a id='section2'></a>"
   ]
  },
  {
   "cell_type": "markdown",
   "metadata": {
    "id": "qZgpDrTmRNyv"
   },
   "source": [
    "Syntax:\n",
    "\n",
    "**while** condition: \n",
    "\n",
    "    statement \n",
    "    statement\n",
    "\n",
    "    \n",
    "* condition - any expression that evaluates to true or false (so, our conditionals!)\n",
    "* loop body - first and second statements. It is excludes as long as the condition is true. \n",
    "* else clause - it is executed if the condition becomes false \n",
    "* indentation - loop body must be indented. "
   ]
  },
  {
   "cell_type": "code",
   "execution_count": 34,
   "metadata": {
    "id": "9hKmvAfKRNyw"
   },
   "outputs": [
    {
     "name": "stdout",
     "output_type": "stream",
     "text": [
      "10\n",
      "8\n",
      "6\n",
      "4\n",
      "2\n"
     ]
    }
   ],
   "source": [
    "# EXAMPLE\n",
    "\n",
    "# Iterate until x becomes 0 \n",
    "\n",
    "x = 10\n",
    "while x > 0:\n",
    "    print(x)\n",
    "    x = x-2\n",
    "    \n",
    "    "
   ]
  },
  {
   "cell_type": "code",
   "execution_count": 35,
   "metadata": {
    "id": "zeKFGPDrRNyw"
   },
   "outputs": [
    {
     "name": "stdout",
     "output_type": "stream",
     "text": [
      "10\n",
      "9\n",
      "8\n",
      "7\n",
      "6\n",
      "5\n",
      "4\n",
      "3\n",
      "2\n",
      "1\n",
      "Done with my countdown!\n"
     ]
    }
   ],
   "source": [
    "# EXAMPLE\n",
    "\n",
    "x = 10\n",
    "while x > 0:\n",
    "    print(x)\n",
    "    x = x - 1\n",
    "else:\n",
    "    print('Done with my countdown!')"
   ]
  },
  {
   "cell_type": "code",
   "execution_count": 36,
   "metadata": {
    "id": "4AbFHb5ZRNyw"
   },
   "outputs": [
    {
     "name": "stdout",
     "output_type": "stream",
     "text": [
      "the sum : 15\n"
     ]
    }
   ],
   "source": [
    "#EXAMPLE\n",
    "\n",
    "#Add the first 5 natural numbers using the while loop.\n",
    "\n",
    "n = 5  # upper limit\n",
    "sum = 0 #initialize the variable for sum\n",
    "i = 1\n",
    "while i <= n:\n",
    "    sum = sum + i\n",
    "    i += 1     #increment the counter\n",
    "# print the sum\n",
    "print(\"the sum :\",  sum)"
   ]
  },
  {
   "cell_type": "code",
   "execution_count": 37,
   "metadata": {},
   "outputs": [
    {
     "name": "stdout",
     "output_type": "stream",
     "text": [
      "2\n",
      "4\n",
      "6\n",
      "8\n"
     ]
    }
   ],
   "source": [
    "#EXERCISE\n",
    "\n",
    "#Create a while loop that multiplies the first 5 numbers by 2\n",
    "\n",
    "n = 5\n",
    "i = 1\n",
    "while i<5:\n",
    "    print(i*2)\n",
    "    i += 1"
   ]
  },
  {
   "cell_type": "code",
   "execution_count": 62,
   "metadata": {},
   "outputs": [
    {
     "name": "stdout",
     "output_type": "stream",
     "text": [
      "4\n",
      "16\n",
      "36\n",
      "64\n"
     ]
    }
   ],
   "source": [
    "# EXERCISE\n",
    "\n",
    "# Create a while loop that prints the square of the first 4 even numbers\n",
    "# Hint use the modulus (%) operator to see if it's even\n",
    "\n",
    "x = 1 \n",
    "while x < 10:\n",
    "    if x%2 == 0:\n",
    "        print(x**2)\n",
    "    \n",
    "    x += 1"
   ]
  },
  {
   "cell_type": "markdown",
   "metadata": {},
   "source": [
    "For the below exercise, print each letter of a word of your choice.\n",
    "\n",
    "*Hint: Remember that each letter of a string can be accessed with index (similar to a list):*"
   ]
  },
  {
   "cell_type": "code",
   "execution_count": 67,
   "metadata": {},
   "outputs": [
    {
     "name": "stdout",
     "output_type": "stream",
     "text": [
      "c\n",
      "a\n",
      "t\n"
     ]
    }
   ],
   "source": [
    "example_word = \"cat\"\n",
    "\n",
    "print(example_word[0])\n",
    "print(example_word[1])\n",
    "print(example_word[2])"
   ]
  },
  {
   "cell_type": "code",
   "execution_count": 68,
   "metadata": {},
   "outputs": [
    {
     "name": "stdout",
     "output_type": "stream",
     "text": [
      "y\n",
      "o\n",
      "u\n",
      "r\n",
      "_\n",
      "c\n",
      "h\n",
      "o\n",
      "i\n",
      "c\n",
      "e\n"
     ]
    }
   ],
   "source": [
    "#EXERCISE\n",
    "\n",
    "#Print each letter of a word of your choice\n",
    "\n",
    "word = \"your_choice\"\n",
    "\n",
    "x = 0\n",
    "while x < len(word): #Hint: What built-in Python function gives you the length of a string?\n",
    "    print(word[x])\n",
    "    \n",
    "    x += 1"
   ]
  },
  {
   "cell_type": "markdown",
   "metadata": {},
   "source": [
    "---\n",
    "## Using Loops in the Game <a id='section3'></a>"
   ]
  },
  {
   "cell_type": "markdown",
   "metadata": {},
   "source": [
    "#### For loops and the game\n",
    "Our player is currently at point (10,1) \n",
    "<img src = \"images/Start_of_loops.png\">\n",
    "\n",
    "Our player can move forward 8 steps. Use a loop and the function `step(position, direction)` to move our player forward"
   ]
  },
  {
   "cell_type": "code",
   "execution_count": 22,
   "metadata": {},
   "outputs": [
    {
     "data": {
      "image/png": "[encoded data removed]",
      "text/plain": [
       "<Figure size 432x288 with 1 Axes>"
      ]
     },
     "metadata": {
      "needs_background": "light"
     },
     "output_type": "display_data"
    },
    {
     "data": {
      "image/png": "[encoded data removed]",
      "text/plain": [
       "<Figure size 432x288 with 1 Axes>"
      ]
     },
     "metadata": {
      "needs_background": "light"
     },
     "output_type": "display_data"
    },
    {
     "data": {
      "image/png": "[encoded data removed]",
      "text/plain": [
       "<Figure size 432x288 with 1 Axes>"
      ]
     },
     "metadata": {
      "needs_background": "light"
     },
     "output_type": "display_data"
    },
    {
     "data": {
      "image/png": "[encoded data removed]",
      "text/plain": [
       "<Figure size 432x288 with 1 Axes>"
      ]
     },
     "metadata": {
      "needs_background": "light"
     },
     "output_type": "display_data"
    },
    {
     "data": {
      "image/png": "[encoded data removed]",
      "text/plain": [
       "<Figure size 432x288 with 1 Axes>"
      ]
     },
     "metadata": {
      "needs_background": "light"
     },
     "output_type": "display_data"
    },
    {
     "data": {
      "image/png": "[encoded data removed]",
      "text/plain": [
       "<Figure size 432x288 with 1 Axes>"
      ]
     },
     "metadata": {
      "needs_background": "light"
     },
     "output_type": "display_data"
    },
    {
     "data": {
      "image/png": "[encoded data removed]",
      "text/plain": [
       "<Figure size 432x288 with 1 Axes>"
      ]
     },
     "metadata": {
      "needs_background": "light"
     },
     "output_type": "display_data"
    },
    {
     "data": {
      "image/png": "[encoded data removed]",
      "text/plain": [
       "<Figure size 432x288 with 1 Axes>"
      ]
     },
     "metadata": {
      "needs_background": "light"
     },
     "output_type": "display_data"
    }
   ],
   "source": [
    "# EXAMPLE\n",
    "position = [10,1]\n",
    "direction = [1,0]\n",
    "\n",
    "for s in range(8):\n",
    "    position = step(position, direction)\n",
    "    \n",
    "    # Do not modify the code below\n",
    "    show_player_2(path, position, direc=direction, show_direc=True) #Display current position\n",
    "    plt.show()\n",
    "    "
   ]
  },
  {
   "cell_type": "markdown",
   "metadata": {},
   "source": [
    "**While loops and the game**\n",
    "\n",
    "We'll once again starting at (10,1). \n",
    "<img src=\"images/Start_of_loops.png\">\n",
    "Suppose we don't know how many steps we can take. \n",
    "We can use a while loop to move as many steps as possible. You can check if a move will work by using the function \n",
    "`checkMove(position)` . Let's remind ourselves of the `checkMove` function works.\n"
   ]
  },
  {
   "cell_type": "code",
   "execution_count": 39,
   "metadata": {},
   "outputs": [
    {
     "data": {
      "text/plain": [
       "True"
      ]
     },
     "execution_count": 39,
     "metadata": {},
     "output_type": "execute_result"
    }
   ],
   "source": [
    "# if we move forward to (11,1), checkMove should return a true \n",
    "checkMove(11,1)\n",
    "\n"
   ]
  },
  {
   "cell_type": "code",
   "execution_count": 40,
   "metadata": {},
   "outputs": [
    {
     "data": {
      "text/plain": [
       "False"
      ]
     },
     "execution_count": 40,
     "metadata": {},
     "output_type": "execute_result"
    }
   ],
   "source": [
    "# the point (3,8) isn't on the path, so checkMove should return a false\n",
    "checkMove(3,8)"
   ]
  },
  {
   "cell_type": "code",
   "execution_count": 54,
   "metadata": {},
   "outputs": [
    {
     "data": {
      "image/png": "[encoded data removed]",
      "text/plain": [
       "<Figure size 432x288 with 1 Axes>"
      ]
     },
     "metadata": {
      "needs_background": "light"
     },
     "output_type": "display_data"
    },
    {
     "data": {
      "image/png": "[encoded data removed]",
      "text/plain": [
       "<Figure size 432x288 with 1 Axes>"
      ]
     },
     "metadata": {
      "needs_background": "light"
     },
     "output_type": "display_data"
    },
    {
     "data": {
      "image/png": "[encoded data removed]",
      "text/plain": [
       "<Figure size 432x288 with 1 Axes>"
      ]
     },
     "metadata": {
      "needs_background": "light"
     },
     "output_type": "display_data"
    },
    {
     "data": {
      "image/png": "[encoded data removed]",
      "text/plain": [
       "<Figure size 432x288 with 1 Axes>"
      ]
     },
     "metadata": {
      "needs_background": "light"
     },
     "output_type": "display_data"
    },
    {
     "data": {
      "image/png": "[encoded data removed]",
      "text/plain": [
       "<Figure size 432x288 with 1 Axes>"
      ]
     },
     "metadata": {
      "needs_background": "light"
     },
     "output_type": "display_data"
    },
    {
     "data": {
      "image/png": "[encoded data removed]",
      "text/plain": [
       "<Figure size 432x288 with 1 Axes>"
      ]
     },
     "metadata": {
      "needs_background": "light"
     },
     "output_type": "display_data"
    },
    {
     "data": {
      "image/png": "[encoded data removed]",
      "text/plain": [
       "<Figure size 432x288 with 1 Axes>"
      ]
     },
     "metadata": {
      "needs_background": "light"
     },
     "output_type": "display_data"
    },
    {
     "data": {
      "image/png": "[encoded data removed]",
      "text/plain": [
       "<Figure size 432x288 with 1 Axes>"
      ]
     },
     "metadata": {
      "needs_background": "light"
     },
     "output_type": "display_data"
    }
   ],
   "source": [
    "# EXERCISE\n",
    "pos_x = 10\n",
    "pos_y = 1\n",
    "dir_x = 1\n",
    "dir_y = 0\n",
    "\n",
    "\n",
    "test_x, test_y = steps(1, pos_x, pos_y, dir_x, dir_y) # you need this because you \n",
    "#want to test where your player would be if they were to step forward. \n",
    "\n",
    "while checkMove(test_x, test_y) :\n",
    "    pos_x = test_x # move to the position you tested last time\n",
    "    pos_y = test_y\n",
    "    \n",
    "    test_x, test_y = steps(1, pos_x, pos_y, dir_x, dir_y) # where would the next step take you?\n",
    "    \n",
    "    show_player(path,[pos_y, pos_x], [dir_y, dir_x], show_direc=True) #Display current position\n",
    "    plt.show()"
   ]
  },
  {
   "cell_type": "markdown",
   "metadata": {},
   "source": [
    "### Challenge Exercise\n",
    "\n",
    "Using the move function from the previous notebook write a loop that takes your player from the start (4,2) to the end (16, 13). \n",
    "\n",
    "We've already imported the function. It makes the best next move and is used as follows: \n",
    "`pos_x_new, pos_y_new, dir_x_new, dir_y_new = move(pos_x, pos_y, dir_x, dir_y)` \n"
   ]
  },
  {
   "cell_type": "code",
   "execution_count": 47,
   "metadata": {},
   "outputs": [],
   "source": [
    "# move function\n",
    "def move(pos_x, pos_y, dir_x, dir_y):\n",
    "     \n",
    "    if checkSteps(1, pos_x,pos_y, dir_x, dir_y): # check to see if the player can move one step forward       \n",
    "        pos_x_new, pos_y_new = steps(1, pos_x,pos_y, dir_x, dir_y) # what would the new position be\n",
    "        dir_x_new = dir_x # the direction doesn't change so the new direction values are the same. \n",
    "        dir_y_new = dir_y\n",
    "    \n",
    "    elif checkTurnR(pos_x, pos_y, dir_x, dir_y): # the player turns right and takes a step. \n",
    "        dir_x_new, dir_y_new = turnRight(dir_x, dir_y)\n",
    "        pos_x_new, pos_y_new = steps(1, pos_x, pos_y, dir_x_new, dir_y_new)\n",
    "    \n",
    "    elif checkTurnL(pos_x, pos_y, dir_x, dir_y): # The player turns left and takes a step.\n",
    "        dir_x_new, dir_y_new = turnLeft(dir_x, dir_y)\n",
    "        pos_x_new, pos_y_new = steps(1, pos_x, pos_y, dir_x_new, dir_y_new)\n",
    "    \n",
    "    else:\n",
    "        pos_x_new, pos_y_new = jump(pos_x, pos_y, dir_x, dir_y) #find the new position if the player jumps forward.\n",
    "        dir_x_new = dir_x\n",
    "        dir_y_new = dir_y \n",
    "        \n",
    "    return pos_x_new, pos_y_new, dir_x_new, dir_y_new # return the new position and direction values\n",
    "    \n",
    "\n"
   ]
  },
  {
   "cell_type": "code",
   "execution_count": 51,
   "metadata": {},
   "outputs": [
    {
     "data": {
      "image/png": "[encoded data removed]",
      "text/plain": [
       "<Figure size 432x288 with 1 Axes>"
      ]
     },
     "metadata": {
      "needs_background": "light"
     },
     "output_type": "display_data"
    }
   ],
   "source": [
    "#Let's put the player at the starting position\n",
    "\n",
    "pos_x = 4\n",
    "pos_y = 2\n",
    "dir_x = 1\n",
    "dir_y = 0\n",
    "\n",
    "show_player(path,[pos_y, pos_x], [dir_y, dir_x], show_direc=True) #Display current position"
   ]
  },
  {
   "cell_type": "code",
   "execution_count": 52,
   "metadata": {},
   "outputs": [
    {
     "data": {
      "image/png": "[encoded data removed]",
      "text/plain": [
       "<Figure size 432x288 with 1 Axes>"
      ]
     },
     "metadata": {
      "needs_background": "light"
     },
     "output_type": "display_data"
    }
   ],
   "source": [
    "#Now use a while loop and the move function to move the player to the end (16, 13)!\n",
    "\n",
    "while (pos_x!=16 or pos_y!=13):\n",
    "    pos_x, pos_y, dir_x, dir_y = move(pos_x, pos_y, dir_x, dir_y)\n",
    "    \n",
    "show_player(path,[pos_y, pos_x], [dir_y, dir_x], show_direc=True) #Display current position"
   ]
  },
  {
   "cell_type": "markdown",
   "metadata": {},
   "source": [
    "Did you reach the end? "
   ]
  },
  {
   "cell_type": "markdown",
   "metadata": {},
   "source": [
    "---\n",
    "## Extra Challenge: Plinko <a id='section4'></a>"
   ]
  },
  {
   "cell_type": "markdown",
   "metadata": {},
   "source": [
    "Have you ever played Plinko? \n",
    "<img src=\"images/plinko.jpeg\">\n",
    "\n",
    "As a table you are going to make your own virtual plinko game. Before you start typing code, plan how you are going to code this\n",
    "\n",
    "* This Pliko board has 9 columns.\n",
    "\n",
    "* Because the columns are zig-zagged, as it falls, for each row, the ball has a 50% chance of moving up or down half a column. \n",
    "* There are 15 rows. (There will have to be at least one loop)\n",
    "  \n",
    "* How will you figure out a way of modeling the 50% chance of motion? \n",
    "    * HINT: if you generate a random number using random.random() there is a 50% chance it will be less than 1/2. \n",
    "    * You will probably need a conditional statement for this part. \n",
    "\n",
    "* Don't forget that balls in columns 0 or 9 can only move one way (there will have to be a conditional statement)"
   ]
  },
  {
   "cell_type": "markdown",
   "metadata": {},
   "source": [
    "It is a good idea to code each part seperately before making the final function that does everything. \n",
    "\n",
    "Use the cells below to experiment and figure out things and then fill in the blanks in the function below\n"
   ]
  },
  {
   "cell_type": "code",
   "execution_count": 55,
   "metadata": {},
   "outputs": [
    {
     "data": {
      "text/plain": [
       "0.4960366629914611"
      ]
     },
     "execution_count": 55,
     "metadata": {},
     "output_type": "execute_result"
    }
   ],
   "source": [
    "random.random()"
   ]
  },
  {
   "cell_type": "code",
   "execution_count": null,
   "metadata": {},
   "outputs": [],
   "source": []
  },
  {
   "cell_type": "code",
   "execution_count": null,
   "metadata": {},
   "outputs": [],
   "source": []
  },
  {
   "cell_type": "code",
   "execution_count": 56,
   "metadata": {},
   "outputs": [],
   "source": [
    "def plinko(col_start):\n",
    "    #this function will output the ending column. \n",
    "    #inputs: start: the column you drop the ball into (0-8)\n",
    "    #outputs: the final column (0-8)\n",
    "    \n",
    "    col = col_start\n",
    "    \n",
    "    for row in range(14):\n",
    "         \n",
    "        # make sure that if the ball is in column 0 it always moves up 1/2 \n",
    "        # and if the ball is in column 9 it always moves down 1/2.\n",
    "        # otherwise it randomly falls to one side or the other\n",
    "        if col ==0:\n",
    "            col = 1/2\n",
    "        elif col ==8:\n",
    "            col = 7.5\n",
    "        else:\n",
    "            test = random.random()\n",
    "            if test<1/2:\n",
    "                col -=1/2\n",
    "            else:\n",
    "                col +=1/2\n",
    "   \n",
    "    return col"
   ]
  },
  {
   "cell_type": "code",
   "execution_count": 58,
   "metadata": {},
   "outputs": [
    {
     "data": {
      "text/plain": [
       "2.0"
      ]
     },
     "execution_count": 58,
     "metadata": {},
     "output_type": "execute_result"
    }
   ],
   "source": [
    "# Let's test out our Plinko game. \n",
    "plinko(4)"
   ]
  },
  {
   "cell_type": "code",
   "execution_count": 61,
   "metadata": {},
   "outputs": [
    {
     "name": "stdout",
     "output_type": "stream",
     "text": [
      "4.09\n"
     ]
    }
   ],
   "source": [
    "# EXERCISE\n",
    "# Use a for loop and your plinko function to run 100 games \n",
    "# Start each game in column 4\n",
    "# Calculate the mean of its ending column\n",
    "\n",
    "sum_p = 0\n",
    "\n",
    "for i in range(100):\n",
    "    sum_p += plinko(4)\n",
    "    \n",
    "mean_p = sum_p/100\n",
    "\n",
    "print(mean_p)"
   ]
  },
  {
   "cell_type": "code",
   "execution_count": 60,
   "metadata": {},
   "outputs": [
    {
     "name": "stdout",
     "output_type": "stream",
     "text": [
      "1.45\n"
     ]
    }
   ],
   "source": [
    "# EXERCISE\n",
    "# Do the same thing but above, but with a different starting point. \n",
    "# How did it change the mean? \n",
    "\n",
    "sum_p = 0\n",
    "\n",
    "for i in range(100):\n",
    "    sum_p += plinko(0)\n",
    "    \n",
    "mean_p = sum_p/100\n",
    "\n",
    "print(mean_p)"
   ]
  },
  {
   "cell_type": "markdown",
   "metadata": {
    "id": "93DUvTqMRNy1"
   },
   "source": [
    "---\n",
    "Notebook developed by: Kseniya Usovich, Rachel McCarty, Baishakhi Bose, Alisa Bettale, Laurel Hales\n"
   ]
  }
 ],
 "metadata": {
  "anaconda-cloud": {},
  "colab": {
   "name": "Day-3.ipynb",
   "provenance": []
  },
  "kernelspec": {
   "display_name": "Python 3",
   "language": "python",
   "name": "python3"
  },
  "language_info": {
   "codemirror_mode": {
    "name": "ipython",
    "version": 3
   },
   "file_extension": ".py",
   "mimetype": "text/x-python",
   "name": "python",
   "nbconvert_exporter": "python",
   "pygments_lexer": "ipython3",
   "version": "3.8.8"
  }
 },
 "nbformat": 4,
 "nbformat_minor": 1
}
