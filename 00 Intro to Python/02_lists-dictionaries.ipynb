{
 "cells": [
  {
   "cell_type": "markdown",
   "id": "e030dffa",
   "metadata": {},
   "source": [
    "\n",
    "------\n",
    "\n",
    "# Lists, Dictionaries\n",
    "\n",
    "\n",
    "### Table of Contents\n",
    "\n",
    "\n",
    "1 - [Lists](#section1)<br>\n",
    "\n",
    "&nbsp;&nbsp;&nbsp;&nbsp;&nbsp;&nbsp; 1.1 - [List Iteration and Slicing `[ : ]`](#subsection1)<br>\n",
    "\n",
    "&nbsp;&nbsp;&nbsp;&nbsp;&nbsp;&nbsp; 1.2 - [Adding Elements](#subsection2)<br>\n",
    "\n",
    "&nbsp;&nbsp;&nbsp;&nbsp;&nbsp;&nbsp; 1.3 - [Deleting Elements](#subsection3)<br>\n",
    "\n",
    "&nbsp;&nbsp;&nbsp;&nbsp;&nbsp;&nbsp; 1.4 - [Length of a list](#subsection4)<br>\n",
    "\n",
    "&nbsp;&nbsp;&nbsp;&nbsp;&nbsp;&nbsp; 1.5 - [Operations on a list](#subsection5)<br>\n",
    "\n",
    "2 - [Dictionaries](#section2)<br> \n",
    "\n",
    "3 - [Challenge: Storing Directions for Our Game](#section3)<br>\n",
    "\n",
    "4 - [Exit Ticket](#section4)<br>"
   ]
  },
  {
   "cell_type": "code",
   "execution_count": null,
   "id": "1787f370",
   "metadata": {},
   "outputs": [],
   "source": [
    "# RUN THIS CELL;\n",
    "\n",
    "###DO NOT MODIFY###\n",
    "import numpy as np\n",
    "from matplotlib import pyplot as plt\n",
    "from jupyter_utils import *\n",
    "%matplotlib inline"
   ]
  },
  {
   "cell_type": "markdown",
   "id": "0d4b1b16",
   "metadata": {},
   "source": [
    "---\n",
    "## Lists<a id='section1'></a>"
   ]
  },
  {
   "cell_type": "markdown",
   "id": "e5ffb0b8",
   "metadata": {},
   "source": [
    "List is a data structure that allows you to save multiple objects. In comparison with strings, lists can contain different data types/objects. Strings can only store textual data."
   ]
  },
  {
   "cell_type": "code",
   "execution_count": null,
   "id": "61eeea21",
   "metadata": {},
   "outputs": [],
   "source": [
    "# EXAMPLE\n",
    "\n",
    "new_lst = [2, \"name\", 3, \"berkeley\"]\n",
    "new_lst"
   ]
  },
  {
   "cell_type": "code",
   "execution_count": null,
   "id": "dbd8d502",
   "metadata": {},
   "outputs": [],
   "source": [
    "# here's how you can create an empty list\n",
    "\n",
    "empty_lst = []\n",
    "empty_lst"
   ]
  },
  {
   "cell_type": "markdown",
   "id": "55bf26b0",
   "metadata": {},
   "source": [
    "Discussion: Why would you want to have an empty list? "
   ]
  },
  {
   "cell_type": "markdown",
   "id": "6a769c69",
   "metadata": {},
   "source": [
    "Don't ever call your list \"list\". This is a reserved name for a function in Python. It is easy to tell (in Jupyter Notebooks) whether something is a function/method. When you enter it, it will be in green in your code cell."
   ]
  },
  {
   "cell_type": "code",
   "execution_count": null,
   "id": "39c992e3",
   "metadata": {
    "scrolled": true
   },
   "outputs": [],
   "source": [
    "list"
   ]
  },
  {
   "cell_type": "markdown",
   "id": "f0c39875",
   "metadata": {},
   "source": [
    "Let's see how we can use this function on a string. Save your name in the variable \"name\" first."
   ]
  },
  {
   "cell_type": "code",
   "execution_count": null,
   "id": "0a428afe",
   "metadata": {},
   "outputs": [],
   "source": [
    "# EXERCISE\n",
    "\n",
    "name = \"My Name\"\n",
    "\n",
    "list(name)"
   ]
  },
  {
   "cell_type": "markdown",
   "id": "87cfd973",
   "metadata": {},
   "source": [
    "Discuss: Looking at the above example, what do you think the `list` function is doing?"
   ]
  },
  {
   "cell_type": "markdown",
   "id": "9d029661",
   "metadata": {},
   "source": [
    "Every value that is stored in the list has its \"address\", also known as its index position. By using the index position, we can get any particular value from the list. \n",
    "\n",
    "All index value starts from 0. Python reads the list from left to right in default. If we want to call a value stored in a specific index position, we have to specify the index position with the variable name."
   ]
  },
  {
   "cell_type": "code",
   "execution_count": null,
   "id": "77b6fb3c",
   "metadata": {},
   "outputs": [],
   "source": [
    "# EXAMPLE\n",
    "\n",
    "teamColors = [\"Purple\", \"Blue\", \"Green\", \"Yellow\"]\n",
    "teamColors"
   ]
  },
  {
   "cell_type": "code",
   "execution_count": null,
   "id": "e9beb806",
   "metadata": {},
   "outputs": [],
   "source": [
    "teamColors[0]"
   ]
  },
  {
   "cell_type": "code",
   "execution_count": null,
   "id": "0787d6fb",
   "metadata": {},
   "outputs": [],
   "source": [
    "# EXERCISE\n",
    "\n",
    "#Grab \"Green\" from the teamColors list\n",
    "\n",
    "teamColors[...]"
   ]
  },
  {
   "cell_type": "code",
   "execution_count": null,
   "id": "9faaee37",
   "metadata": {},
   "outputs": [],
   "source": [
    "# EXERCISE\n",
    "\n",
    "#Grab \"Yellow\" from the teamColors list\n",
    "\n",
    "..."
   ]
  },
  {
   "cell_type": "markdown",
   "id": "2344eefe",
   "metadata": {},
   "source": [
    "Another way we can use lists, is to store data that belongs together, For example instead of having a variable `pos_x` and another `pos_y`, we can save them in a single list `position = [pos_y, pos_x]`"
   ]
  },
  {
   "cell_type": "code",
   "execution_count": null,
   "id": "1c9e0fd4",
   "metadata": {},
   "outputs": [],
   "source": [
    "# EXAMPLE\n",
    "\n",
    "pos_x = 0\n",
    "pos_y = 1\n",
    "\n",
    "position = [pos_x, pos_y]\n",
    "position"
   ]
  },
  {
   "cell_type": "markdown",
   "id": "70b97fce",
   "metadata": {},
   "source": [
    "### 1.1 List Iteration and Slicing `[ : ]`<a id='subsection1'></a>"
   ]
  },
  {
   "cell_type": "code",
   "execution_count": null,
   "id": "2cdb1fec",
   "metadata": {},
   "outputs": [],
   "source": [
    "# Let's make a list of all of the BLDAP apprentices. \n",
    "\n",
    "apprentices = ['Alejandro', 'Ananda', 'Angela', 'Christopher', 'Eric', \\\n",
    "               'Eric', 'Evelynn', 'Fernando', 'Gregory', 'Jason', 'Katherine', \\\n",
    "               'Klade', 'Naod', 'Pawandeep', 'Riley', 'Ryan', 'Sophie',\\\n",
    "              'Tammy', 'Timothy', 'Vivian', 'Vivian', 'Zena']\n",
    "print(apprentices)"
   ]
  },
  {
   "cell_type": "markdown",
   "id": "e56fe901",
   "metadata": {},
   "source": [
    "To iterate through the list, you can use square brackets with an index of an object you are interested in. Like so:"
   ]
  },
  {
   "cell_type": "code",
   "execution_count": null,
   "id": "61db5b36",
   "metadata": {},
   "outputs": [],
   "source": [
    "# remember that Python, like many programming languages, starts counting from 0.\n",
    "\n",
    "apprentices[3]"
   ]
  },
  {
   "cell_type": "markdown",
   "id": "483ee228",
   "metadata": {},
   "source": [
    "Notice also that each component of the list separated by a comma is a single object. So the list inside of the list will be a single object. If you want to iterate through a list inside of the list, you will need to use the square brackets twice. Like we did here:"
   ]
  },
  {
   "cell_type": "code",
   "execution_count": null,
   "id": "bfac9c09",
   "metadata": {},
   "outputs": [],
   "source": [
    "# EXAMPLE\n",
    "\n",
    "apprentices[3][0]"
   ]
  },
  {
   "cell_type": "markdown",
   "id": "01d1f0e9",
   "metadata": {},
   "source": [
    "You can also replace the objects in the list for example, if we want to replace replace people's full names with their nicknames:"
   ]
  },
  {
   "cell_type": "code",
   "execution_count": null,
   "id": "9a544b02",
   "metadata": {},
   "outputs": [],
   "source": [
    "# EXAMPLE\n",
    "\n",
    "apprentices[0] = \"Alejo\"\n",
    "\n",
    "apprentices"
   ]
  },
  {
   "cell_type": "code",
   "execution_count": null,
   "id": "22c759e2",
   "metadata": {},
   "outputs": [],
   "source": [
    "# EXAMPLE\n",
    "\n",
    "apprentices[3] = \"Chris\"\n",
    "\n",
    "apprentices"
   ]
  },
  {
   "cell_type": "code",
   "execution_count": null,
   "id": "5aaceee4",
   "metadata": {},
   "outputs": [],
   "source": [
    "# EXERCISE\n",
    "# Replace \"Riley\" with his nickname \"Nicho\"\n",
    "apprentices[...] = ...\n",
    "apprentices"
   ]
  },
  {
   "cell_type": "code",
   "execution_count": null,
   "id": "5159814d",
   "metadata": {},
   "outputs": [],
   "source": [
    "# EXERCISE\n",
    "# Replace \"Timothy\" with his nickname \"TJ\"\n",
    "...\n",
    "apprentices"
   ]
  },
  {
   "cell_type": "markdown",
   "id": "1afd55f1",
   "metadata": {},
   "source": [
    "To get more than one element from you list, use the syntax: `list[start:stop]`\n",
    "\n",
    "Remember that you will get elements up to index stop-1\n",
    "\n",
    "\n",
    "To demonstrate this it is helpful to use a list of numbers."
   ]
  },
  {
   "cell_type": "code",
   "execution_count": null,
   "id": "576d394f",
   "metadata": {},
   "outputs": [],
   "source": [
    "# EXAMPLE\n",
    "\n",
    "myList = [0,1,2,3,4,5,6,7,8,9,10]\n",
    "print(myList)\n",
    "\n",
    "myList[0:2]"
   ]
  },
  {
   "cell_type": "markdown",
   "id": "abba37da",
   "metadata": {},
   "source": [
    "It works the same with a list a strings. "
   ]
  },
  {
   "cell_type": "code",
   "execution_count": null,
   "id": "fc5744d4",
   "metadata": {},
   "outputs": [],
   "source": [
    "# EXAMPLE\n",
    "\n",
    "apprentices[0:2]"
   ]
  },
  {
   "cell_type": "markdown",
   "id": "92191394",
   "metadata": {},
   "source": [
    "You can also slice with steps - list[start:stop:step]\n",
    "\n",
    "Again, you will get elements up to index stop-1"
   ]
  },
  {
   "cell_type": "code",
   "execution_count": null,
   "id": "f4dbbbe8",
   "metadata": {},
   "outputs": [],
   "source": [
    "# EXAMPLE\n",
    "print(myList)\n",
    "myList[0:8:2]"
   ]
  },
  {
   "cell_type": "code",
   "execution_count": null,
   "id": "8da33d26",
   "metadata": {},
   "outputs": [],
   "source": [
    "# EXAMPLE\n",
    "\n",
    "myList[0:7:2]"
   ]
  },
  {
   "cell_type": "markdown",
   "id": "14f3b997",
   "metadata": {},
   "source": [
    "Why do the two examples above produce produce the same result? Enter your thoughts here in this cell. \n",
    "\n",
    "\n",
    "..."
   ]
  },
  {
   "cell_type": "markdown",
   "id": "1ccbaf49",
   "metadata": {},
   "source": [
    "Think about what you expect the following example to produce before you run the next cell. "
   ]
  },
  {
   "cell_type": "code",
   "execution_count": null,
   "id": "c5100a70",
   "metadata": {},
   "outputs": [],
   "source": [
    "# EXAMPLE\n",
    "\n",
    "myList[2:11:4]"
   ]
  },
  {
   "cell_type": "markdown",
   "id": "8ccc31a2",
   "metadata": {},
   "source": [
    "Before you run the next cell, predict it's result and write it here.\n",
    "\n",
    "..."
   ]
  },
  {
   "cell_type": "code",
   "execution_count": null,
   "id": "14d6e19f",
   "metadata": {},
   "outputs": [],
   "source": [
    "apprentices[3:10:3]"
   ]
  },
  {
   "cell_type": "code",
   "execution_count": null,
   "id": "b86e8904",
   "metadata": {},
   "outputs": [],
   "source": [
    "# EXERCISE\n",
    "# Use slicing to output all the even values in myList\n",
    "\n",
    "myList[...]"
   ]
  },
  {
   "cell_type": "code",
   "execution_count": null,
   "id": "15843b04",
   "metadata": {},
   "outputs": [],
   "source": [
    "# EXERCISE\n",
    "# Use slicing to output all the odd values in myList\n",
    "\n",
    "myList[...]"
   ]
  },
  {
   "cell_type": "code",
   "execution_count": null,
   "id": "14096bca",
   "metadata": {},
   "outputs": [],
   "source": [
    "# EXERCISE\n",
    "# Use slicing to output the following values: [2, 5, 8]\n",
    "\n",
    "myList[...]"
   ]
  },
  {
   "cell_type": "code",
   "execution_count": null,
   "id": "59b860ab",
   "metadata": {},
   "outputs": [],
   "source": [
    "# EXERCISE\n",
    "# Use slicing to output the following values: [1, 5, 9]\n",
    "\n",
    "myList[...]"
   ]
  },
  {
   "cell_type": "code",
   "execution_count": null,
   "id": "00246435",
   "metadata": {},
   "outputs": [],
   "source": [
    "# EXERCISE\n",
    "# Use slicing to output only the Apprentices who's names start with E. \n",
    "\n",
    "apprentices[...]"
   ]
  },
  {
   "cell_type": "markdown",
   "id": "827cfbe8",
   "metadata": {},
   "source": [
    "**Challenge:**\n",
    "\n",
    "Use slicing to divide everyone into 4 teams, as if they had been counted off: The first person in the first team, the second person in the second team, and so forth.\n"
   ]
  },
  {
   "cell_type": "code",
   "execution_count": null,
   "id": "fff246a6",
   "metadata": {},
   "outputs": [],
   "source": [
    "#Challenge Exercise\n",
    "\n",
    "team1 = apprentices[...]\n",
    "team2 = ...\n",
    "team3 = ...\n",
    "team4 = ...\n",
    "\n",
    "print(\"Team 1:\", team1)\n",
    "print(\"Team 2:\", team2)\n",
    "print(\"Team 3:\", team3)\n",
    "print(\"Team 4:\", team4)"
   ]
  },
  {
   "cell_type": "markdown",
   "id": "177ec22d",
   "metadata": {},
   "source": [
    "### 1.2 Adding Elements<a id='subsection2'></a>"
   ]
  },
  {
   "cell_type": "markdown",
   "id": "22f10292",
   "metadata": {},
   "source": [
    "To add elements to a list, we can use a few functions. The ones we will show you today are built-in functions **insert** and **append**.\n",
    "\n",
    "The append function is used to add value to the existing list. Just use the append keyword and add the name. The new value will be added at the **end** of the list."
   ]
  },
  {
   "cell_type": "code",
   "execution_count": null,
   "id": "b75028b3",
   "metadata": {},
   "outputs": [],
   "source": [
    "# EXAMPLE\n",
    "\n",
    "# to add an element to the end of the list, we can use \"append\", \n",
    "# for example, we can add our new student, Noemi\n",
    "\n",
    "apprentices.append(\"Noemi\")\n",
    "apprentices"
   ]
  },
  {
   "cell_type": "markdown",
   "id": "de394594",
   "metadata": {},
   "source": [
    "We use the **insert** function to insert the value into the list. The insert function allows us to insert the value at a **specific index position**. Be careful when using insert function, you actually need to specify the position at which you are inserting an element.\n",
    "\n",
    "The element that exists at the specified index will shift to the next index. All the elements after that index will increment by 1 as well.\n",
    "\n",
    "In the below example, let's add Noemi to our class roster. She should be in spot 13 (in alphabetical order)"
   ]
  },
  {
   "cell_type": "code",
   "execution_count": null,
   "id": "6da9a426",
   "metadata": {},
   "outputs": [],
   "source": [
    "# EXAMPLE\n",
    "\n",
    "apprentices.insert(13, \"Noemi\")\n",
    "apprentices"
   ]
  },
  {
   "cell_type": "markdown",
   "id": "0991f1b4",
   "metadata": {},
   "source": [
    "In the cell below, add the imaginary student, Casper, to Spot 4. "
   ]
  },
  {
   "cell_type": "code",
   "execution_count": null,
   "id": "2c6dc634",
   "metadata": {},
   "outputs": [],
   "source": [
    "# EXERCISE\n",
    "apprentices.insert(...)\n",
    "apprentices"
   ]
  },
  {
   "cell_type": "markdown",
   "id": "c53aa226",
   "metadata": {},
   "source": [
    "Methods **insert** and **append** are not the only ways to add elements to a list. Another way to add elements to lists is using **+=** signs. The way you can think about it is **+** adds an element and **=** reassigns the variable."
   ]
  },
  {
   "cell_type": "code",
   "execution_count": null,
   "id": "ff2307fa",
   "metadata": {},
   "outputs": [],
   "source": [
    "# EXAMPLE\n",
    "\n",
    "veg = [\"zucchini\", \"cucumber\"]\n",
    "\n",
    "veg+= [\"potato\"]\n",
    "veg"
   ]
  },
  {
   "cell_type": "markdown",
   "id": "52e1f352",
   "metadata": {},
   "source": [
    "### <center>  * * * Good Coding Practice Moment * * * <center>\n",
    "#### What is += ?\n",
    "\n",
    "When you want to write an equation that modifies a variable but doesn't change it's name you can combine operators as follows\n",
    "    \n",
    "          a = a+2          is the same as             a += 2\n",
    "          b = b-2          is the same as             b -= 3\n",
    "          c = c*4          is the same as             c *= 4\n",
    "          d = d/5          is the same as             d /= 5\n",
    "    \n",
    "\n",
    "### <center> * * * * * * * * * * * * * * * * * * * * * * * * * * * * <center>"
   ]
  },
  {
   "cell_type": "markdown",
   "id": "fd2f6b42",
   "metadata": {},
   "source": [
    "The important thing to remember is that **+=** can only work with elements of the same type. If you want to add somthing to a list, the element must be in the form of a list as well. Let's see what would happen if we will try to add a non-list element to a list."
   ]
  },
  {
   "cell_type": "code",
   "execution_count": null,
   "id": "0845f856",
   "metadata": {},
   "outputs": [],
   "source": [
    "veg += \"bell pepper\"\n",
    "veg"
   ]
  },
  {
   "cell_type": "markdown",
   "id": "7d0a3f7a",
   "metadata": {},
   "source": [
    "Now practice adding Spongebob to the list of `apprentices` using += signs. Remember that Spongebob must be added as a form of a list!"
   ]
  },
  {
   "cell_type": "code",
   "execution_count": null,
   "id": "6045b6fa",
   "metadata": {},
   "outputs": [],
   "source": [
    "# EXERCISE\n",
    "\n",
    "\n",
    "apprentices += ...\n",
    "apprentices"
   ]
  },
  {
   "cell_type": "markdown",
   "id": "574e748e",
   "metadata": {},
   "source": [
    "### 1.3 Deleting Elements<a id='subsection3'></a>"
   ]
  },
  {
   "cell_type": "markdown",
   "id": "38d6b4d5",
   "metadata": {},
   "source": [
    "Python has three built-in functions and methods for deleting elements from a list."
   ]
  },
  {
   "cell_type": "markdown",
   "id": "2c3909d0",
   "metadata": {},
   "source": [
    "Method **del** works with indices and allows for the deletion of parts of the list through slicing."
   ]
  },
  {
   "cell_type": "code",
   "execution_count": null,
   "id": "ddfa917f",
   "metadata": {},
   "outputs": [],
   "source": [
    "# EXAMPLE \n",
    "\n",
    "random_list = ['Zoom', 1, 7, 9, \"Python\", \"Berkeley\",\"Python\"]\n",
    "print(random_list)\n",
    "\n",
    "del random_list[0:2]\n",
    "\n",
    "random_list"
   ]
  },
  {
   "cell_type": "markdown",
   "id": "962f5e94",
   "metadata": {},
   "source": [
    "Make sure that you specify which elements you want to delete or it will delete the entire list."
   ]
  },
  {
   "cell_type": "code",
   "execution_count": null,
   "id": "2b530a81",
   "metadata": {},
   "outputs": [],
   "source": [
    "del random_list\n",
    "random_list"
   ]
  },
  {
   "cell_type": "markdown",
   "id": "08345dd7",
   "metadata": {},
   "source": [
    "Method **.pop(  )** works with indices. It is the last symbol/character/object by default, but you can add a specific index."
   ]
  },
  {
   "cell_type": "code",
   "execution_count": null,
   "id": "26c5a2ac",
   "metadata": {},
   "outputs": [],
   "source": [
    "# EXAMPLE \n",
    "random_list = ['Zoom', 1, 7, 9, \"Python\", \"Berkeley\",\"Python\"]\n",
    "\n",
    "random_list.pop()"
   ]
  },
  {
   "cell_type": "code",
   "execution_count": null,
   "id": "4dc30e6c",
   "metadata": {},
   "outputs": [],
   "source": [
    "# EXAMPLE \n",
    "\n",
    "random_list.pop(0)"
   ]
  },
  {
   "cell_type": "markdown",
   "id": "4aa96b0a",
   "metadata": {},
   "source": [
    "Notice that **.pop(  )** outputs the thing it removed from the list. Can you think of a reason why this would be useful? "
   ]
  },
  {
   "cell_type": "code",
   "execution_count": null,
   "id": "ec3bae5d",
   "metadata": {},
   "outputs": [],
   "source": [
    "# EXAMPLE \n",
    "\n",
    "state = [\"California\", \"is\", \"on the\", \"West Coast\"]\n",
    "print(state)\n",
    "last = state.pop()\n",
    "print(state)\n",
    "print(last)"
   ]
  },
  {
   "cell_type": "markdown",
   "id": "2ac8b2f0",
   "metadata": {},
   "source": [
    "Another method you can use for lists is **.remove()**. This method uses the exact values (case matters too)."
   ]
  },
  {
   "cell_type": "code",
   "execution_count": null,
   "id": "dfd024b8",
   "metadata": {},
   "outputs": [],
   "source": [
    "# EXAMPLE \n",
    "\n",
    "random_list.remove(\"Python\")\n",
    "random_list"
   ]
  },
  {
   "cell_type": "markdown",
   "id": "e2e18979",
   "metadata": {},
   "source": [
    "(Note that this method removes all the instances of \"Python\")"
   ]
  },
  {
   "cell_type": "markdown",
   "id": "f1f1a257",
   "metadata": {},
   "source": [
    "Now we will go back to our `apprentices` list and practice removing elements using the methods we just learned above! "
   ]
  },
  {
   "cell_type": "markdown",
   "id": "5ce0074c",
   "metadata": {},
   "source": [
    "1. Use the **delete** function to remove Noemi and Spongebob from the end of the list\n",
    "\n",
    "*Hint: If you want to specify the last item in the list, you can use [-1].\n",
    "Similarly the second to last element is specified by [-2]*"
   ]
  },
  {
   "cell_type": "code",
   "execution_count": null,
   "id": "aa1a67b2",
   "metadata": {},
   "outputs": [],
   "source": [
    "# EXERCISE\n",
    "apprentices = ['Alejo','Ananda','Angela','Chris','Casper','Eric','Eric','Evelyn','Fernando','Gregory','Jason','Katherine','Klade','Naod','Noemi','Pawandeep','Nicho','Ryan','Sophie','Tammy','TJ','Vivian','Vivian','Zena','Noemi','SpongeBob']\n",
    "\n",
    "#del function\n",
    "del(...)\n",
    "del(...)\n",
    "\n",
    "print(apprentices)"
   ]
  },
  {
   "cell_type": "markdown",
   "id": "f6c1b1e5",
   "metadata": {},
   "source": [
    "2. Use the pop method to remove Casper from spot 4"
   ]
  },
  {
   "cell_type": "code",
   "execution_count": null,
   "id": "8d93b3b5",
   "metadata": {},
   "outputs": [],
   "source": [
    "# EXERCISE\n",
    "\n",
    "#pop method\n",
    "apprentices...\n",
    "\n",
    "print(apprentices)"
   ]
  },
  {
   "cell_type": "markdown",
   "id": "5e0fb798",
   "metadata": {},
   "source": [
    "3. Use the remove method to remove Nicho and then use the method of your choice to add Nicho back in to Spot 13"
   ]
  },
  {
   "cell_type": "code",
   "execution_count": null,
   "id": "5c1026f5",
   "metadata": {},
   "outputs": [],
   "source": [
    "# EXERCISE\n",
    "\n",
    "#remove method\n",
    "apprentices...\n",
    "...\n",
    "\n",
    "print(apprentices)"
   ]
  },
  {
   "cell_type": "code",
   "execution_count": null,
   "id": "c3522d93",
   "metadata": {},
   "outputs": [],
   "source": [
    "# Challenge Excercise \n",
    "# Remember your teams from an earlier chalange?\n",
    "team1 = ['Alejo', 'Eric', 'Gregory', 'Naod', 'Sophie', 'Vivian']\n",
    "team2 = ['Ananda', 'Eric', 'Jason', 'Pawandeep', 'Tammy', 'Zena']\n",
    "team3 = ['Angela', 'Evelyn', 'Katherine', 'Nicho', 'TJ']\n",
    "team4 = ['Chris', 'Fernando', 'Klade', 'Ryan', 'Vivian','Noemi']\n",
    "\n",
    "\n",
    "# Lets say that Angela can't make it one day. \n",
    "# Remove Angela from Team 3, then remove Sophie from Team 1 and add her to Team 1. \n",
    "# Optional: See if you can do all of that in one line of code. \n",
    "\n",
    "...\n",
    "\n",
    "print('Team 1:', team1)\n",
    "print('Team 3:', team3)\n"
   ]
  },
  {
   "cell_type": "markdown",
   "id": "3be28d24",
   "metadata": {},
   "source": [
    "### 1.4 Length of a list<a id='subsection4'></a>"
   ]
  },
  {
   "cell_type": "markdown",
   "id": "f97ff254",
   "metadata": {},
   "source": [
    "Built-in function **len(   )** can also be used to figure out the length of a list - in other words, the total count of elements in a list."
   ]
  },
  {
   "cell_type": "code",
   "execution_count": null,
   "id": "186bc995",
   "metadata": {},
   "outputs": [],
   "source": [
    "# EXAMPLE \n",
    "# Before running this cell, think what the output will be.\n",
    "\n",
    "teamColors = [\"Red\", \"Blue\", \"Yellow\", \"Green\"]\n",
    "len(teamColors)"
   ]
  },
  {
   "cell_type": "markdown",
   "id": "805f95ab",
   "metadata": {},
   "source": [
    "When used with lists, it counts only the \"outer\" objects. Meaning, if there are lists inside of your list, no matter however many objects each of them has, the len(  ) will count the whole list as a single object."
   ]
  },
  {
   "cell_type": "code",
   "execution_count": null,
   "id": "df0f012c",
   "metadata": {},
   "outputs": [],
   "source": [
    "listOfLists = [[1,2,3,4],[4,5,6]]\n",
    "\n",
    "# Before running this cell, can you guess the output it will give you?\n",
    "\n",
    "len(listOfLists)"
   ]
  },
  {
   "cell_type": "code",
   "execution_count": null,
   "id": "785b279b",
   "metadata": {},
   "outputs": [],
   "source": [
    "len(listOfLists[0])"
   ]
  },
  {
   "cell_type": "markdown",
   "id": "80124332",
   "metadata": {},
   "source": [
    "### 1.5 Operations on a list<a id='subsection5'></a>"
   ]
  },
  {
   "cell_type": "code",
   "execution_count": null,
   "id": "53fb64d7",
   "metadata": {},
   "outputs": [],
   "source": [
    "# EXAMPLE\n",
    "\n",
    "my_numbers = [1, 2, 3, 4, 5]\n",
    "\n",
    "my_numbers + 2"
   ]
  },
  {
   "cell_type": "markdown",
   "id": "9d479d0a",
   "metadata": {},
   "source": [
    "As you can see above, Lists do not support \"+\" as a addition, rather the \"+\" operator combines, or **concatenates** multiple lists. In order to concatenate, or glue elements together, they must the same data type or data structure. "
   ]
  },
  {
   "cell_type": "code",
   "execution_count": null,
   "id": "03bf29d6",
   "metadata": {},
   "outputs": [],
   "source": [
    "my_numbers + [2]"
   ]
  },
  {
   "cell_type": "code",
   "execution_count": null,
   "id": "43ff18e6",
   "metadata": {},
   "outputs": [],
   "source": [
    "list_one = [1, 2, 3]\n",
    "list_two = [4, 5, 6]\n",
    "list_three = list_one + list_two\n",
    "list_three"
   ]
  },
  {
   "cell_type": "markdown",
   "id": "d95793f3",
   "metadata": {},
   "source": [
    "Can you guess the output of the next cell?"
   ]
  },
  {
   "cell_type": "code",
   "execution_count": null,
   "id": "7cd67c29",
   "metadata": {},
   "outputs": [],
   "source": [
    "# EXAMPLE\n",
    "\n",
    "my_numbers * 2"
   ]
  },
  {
   "cell_type": "markdown",
   "id": "cace9461",
   "metadata": {},
   "source": [
    "---\n",
    "## Dictionaries <a id='section2'></a>"
   ]
  },
  {
   "cell_type": "markdown",
   "id": "1de9d074",
   "metadata": {},
   "source": [
    "Dictionaries are used to store data values in **key:value** pairs. A dictionary is a collection which is ordered, changeable, and do not allow duplicates. Dictionaries are very useful when you are working with a lot of data with similar categories. "
   ]
  },
  {
   "cell_type": "code",
   "execution_count": null,
   "id": "60fc314b",
   "metadata": {},
   "outputs": [],
   "source": [
    "# EXAMPLE\n",
    "\n",
    "# A dictionary with various attributes for player 1\n",
    "\n",
    "player1 = {\n",
    "    \"name\": \"myName\",\n",
    "    \"position\" : [0,1],\n",
    "    \"direc\" : [1,0],\n",
    "    \"placeInLine\" : 3,\n",
    "    \"team\" : \"Red\"\n",
    "}\n",
    "\n",
    "player1"
   ]
  },
  {
   "cell_type": "markdown",
   "id": "74aba7c2",
   "metadata": {},
   "source": [
    "You can use the key name to retrieve values:"
   ]
  },
  {
   "cell_type": "code",
   "execution_count": null,
   "id": "fce3b620",
   "metadata": {},
   "outputs": [],
   "source": [
    "player1[\"team\"]"
   ]
  },
  {
   "cell_type": "markdown",
   "id": "4fb6ce1f",
   "metadata": {},
   "source": [
    "Another method is using the get() function:"
   ]
  },
  {
   "cell_type": "code",
   "execution_count": null,
   "id": "e030d860",
   "metadata": {},
   "outputs": [],
   "source": [
    "player1.get(\"position\")"
   ]
  },
  {
   "cell_type": "markdown",
   "id": "dd61e8c2",
   "metadata": {},
   "source": [
    "Duplicates are **not** allowed in dictionaries. This means that if you have a duplicate key, the value will be overwritten:"
   ]
  },
  {
   "cell_type": "code",
   "execution_count": null,
   "id": "962e2931",
   "metadata": {},
   "outputs": [],
   "source": [
    "player1 = {\n",
    "    \"name\": \"myName\",\n",
    "    \"position\" : [0,1],\n",
    "    \"direc\" : [1,0],\n",
    "    \"num_balls_moved\" : 3,\n",
    "    \"team\" : \"Red\",\n",
    "    \"team\" : \"Blue\"\n",
    "}\n",
    "\n",
    "player1"
   ]
  },
  {
   "cell_type": "markdown",
   "id": "a643aa2a",
   "metadata": {},
   "source": [
    "Values in a dictionary can be of any type! (You can also use integers and floats for keys instead of strings)"
   ]
  },
  {
   "cell_type": "markdown",
   "id": "8f6c8091",
   "metadata": {},
   "source": [
    "Do you have to rewrite the whole dictionary each time to update it? No! You can change, add, and delete values:"
   ]
  },
  {
   "cell_type": "code",
   "execution_count": null,
   "id": "4dc51492",
   "metadata": {},
   "outputs": [],
   "source": [
    "# the player completes a round and adds a ball to their team's bucket.\n",
    "# We'd better update the `num_balls_moved` variable for that player\n",
    "player1[\"num_balls_moved\"] += 1\n",
    "\n",
    "player1"
   ]
  },
  {
   "cell_type": "code",
   "execution_count": null,
   "id": "0e073989",
   "metadata": {},
   "outputs": [],
   "source": [
    "#Similarly we can add a key:value pair\n",
    "\n",
    "player1[\"place_in_line\"] = 3 \n",
    "\n",
    "player1"
   ]
  },
  {
   "cell_type": "code",
   "execution_count": null,
   "id": "61335f90",
   "metadata": {},
   "outputs": [],
   "source": [
    "#Deleting is similar to lists - use pop() or del\n",
    "\n",
    "player1.pop(\"place_in_line\")\n",
    "del player1[\"name\"]\n",
    "\n",
    "player1"
   ]
  },
  {
   "cell_type": "code",
   "execution_count": null,
   "id": "e8f2ca82",
   "metadata": {},
   "outputs": [],
   "source": [
    "#And we can empty the whole dictionary using clear!\n",
    "\n",
    "player1.clear()\n",
    "player1"
   ]
  },
  {
   "cell_type": "markdown",
   "id": "f02c4f61",
   "metadata": {},
   "source": [
    "---\n",
    "## Challenge: Storing Directions for Our Game <a id='section3'></a>"
   ]
  },
  {
   "cell_type": "markdown",
   "id": "659b824e",
   "metadata": {},
   "source": [
    "You want to share the maze path you are using, but you can't send pictures. \n",
    "Create a dictionary called `mazePath`, where the integer keys is the path in terms of the directions you would have to travel for the rest of first 7 steps.\n",
    "<img src=\"images/board.png\">\n",
    "\n",
    "\n",
    "After creating the dictionary, add several more steps."
   ]
  },
  {
   "cell_type": "code",
   "execution_count": null,
   "id": "f5903552",
   "metadata": {},
   "outputs": [],
   "source": [
    "mazePath = {\n",
    "    0:...,\n",
    "    1:...,\n",
    "    2:...,\n",
    "    ...,\n",
    "    ...,\n",
    "    ...,\n",
    "    ...,\n",
    "}\n",
    "\n",
    "mazePath[7] = ...\n",
    "...\n",
    "\n",
    "mazePath"
   ]
  },
  {
   "cell_type": "markdown",
   "id": "4abb0738",
   "metadata": {},
   "source": [
    "Now complete the following tasks:\n",
    "\n",
    "* Ask a group member to choose a step to change. Replace that value with another one.\n",
    "* Delete step 6. "
   ]
  },
  {
   "cell_type": "code",
   "execution_count": null,
   "id": "b0beace6",
   "metadata": {},
   "outputs": [],
   "source": [
    "...\n",
    "...\n",
    "\n",
    "mazePath"
   ]
  },
  {
   "cell_type": "markdown",
   "id": "0f1170b6",
   "metadata": {},
   "source": [
    "---\n",
    "## Exit Ticket <a id='section4'></a>"
   ]
  },
  {
   "cell_type": "markdown",
   "id": "b6098dc2",
   "metadata": {},
   "source": [
    "Use the following link to access the Exit Ticket for this notebook:\n",
    "https://forms.gle/8RadQBEokwr9aVpKA"
   ]
  },
  {
   "cell_type": "markdown",
   "id": "fd81a98e",
   "metadata": {},
   "source": [
    "---\n",
    "Notebook developed by: Kseniya Usovich, Rachel McCarty, Baishakhi Bose, Alisa Bettale, Laurel Hales"
   ]
  }
 ],
 "metadata": {
  "kernelspec": {
   "display_name": "Python 3",
   "language": "python",
   "name": "python3"
  },
  "language_info": {
   "codemirror_mode": {
    "name": "ipython",
    "version": 3
   },
   "file_extension": ".py",
   "mimetype": "text/x-python",
   "name": "python",
   "nbconvert_exporter": "python",
   "pygments_lexer": "ipython3",
   "version": "3.8.8"
  }
 },
 "nbformat": 4,
 "nbformat_minor": 5
}
