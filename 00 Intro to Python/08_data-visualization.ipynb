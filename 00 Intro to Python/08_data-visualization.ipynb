{
 "cells": [
  {
   "cell_type": "markdown",
   "metadata": {},
   "source": [
    "----\n",
    "\n",
    "# Data Visualization\n",
    "\n",
    "----\n",
    "\n",
    "### Table of Contents\n",
    "\n",
    "1 - [Matplotlib](#section1)<br>\n",
    "\n",
    "&nbsp;&nbsp;&nbsp;&nbsp;&nbsp;&nbsp; 1.1 - [Line Plots](#subsection1)<br>\n",
    "\n",
    "&nbsp;&nbsp;&nbsp;&nbsp;&nbsp;&nbsp; 1.2 - [Scatter Plots](#subsection2)<br>\n",
    "\n",
    "&nbsp;&nbsp;&nbsp;&nbsp;&nbsp;&nbsp; 1.3 - [Bar Plots](#subsection3)<br>\n",
    "\n",
    "&nbsp;&nbsp;&nbsp;&nbsp;&nbsp;&nbsp; 1.4 - [Histograms](#subsection4)<br>\n",
    "\n",
    "2 - [Working with Data: Supernova](#section2)<br>\n",
    "\n",
    "3 - [Working with Data: Energy](#section3)<br>\n",
    "\n",
    "&nbsp;&nbsp;&nbsp;&nbsp;&nbsp;&nbsp; 3.1 - [Pie Charts](#subsection5)<br>\n",
    "\n",
    "&nbsp;&nbsp;&nbsp;&nbsp;&nbsp;&nbsp; 3.2 - [Bar Charts](#subsection6)<br>\n",
    "\n",
    "&nbsp;&nbsp;&nbsp;&nbsp;&nbsp;&nbsp; 3.3 - [Line Charts](#subsection7)<br>\n",
    "\n",
    "&nbsp;&nbsp;&nbsp;&nbsp;&nbsp;&nbsp; 3.4 - [Stacked Bar Charts](#subsection8)<br>\n",
    "\n",
    "&nbsp;&nbsp;&nbsp;&nbsp;&nbsp;&nbsp; 3.5 - [Stacked Area Charts](#subsection9)<br>\n",
    "\n",
    "4 - [Exit Ticket](#section4)<br>\n",
    "\n"
   ]
  },
  {
   "cell_type": "markdown",
   "metadata": {},
   "source": [
    "## Matplotlib <a id='section1'></a>"
   ]
  },
  {
   "cell_type": "markdown",
   "metadata": {},
   "source": [
    "We'll create visualizations in Python using a popular Python package called matplotlib. Let's import matplotlib along with several other Python libraries that we will be using:"
   ]
  },
  {
   "cell_type": "code",
   "execution_count": null,
   "metadata": {},
   "outputs": [],
   "source": [
    "import math\n",
    "import numpy as np\n",
    "import pandas as pd\n",
    "import matplotlib as mpl\n",
    "import matplotlib.pyplot as plt"
   ]
  },
  {
   "cell_type": "markdown",
   "metadata": {},
   "source": [
    "To plot something, we need data! To begin, we will use very simple arrays. Let's try plotting just two points, (x1, y1) = (1,1); (x2, y2) = (5,5)"
   ]
  },
  {
   "cell_type": "code",
   "execution_count": null,
   "metadata": {},
   "outputs": [],
   "source": [
    "# EXAMPLE\n",
    "\n",
    "xpoints = np.array([1,5])\n",
    "ypoints = np.array([1,5])\n",
    "\n",
    "plt.plot(xpoints, ypoints);"
   ]
  },
  {
   "cell_type": "markdown",
   "metadata": {},
   "source": [
    "**Quick note**: Use a semicolon `;` at the end of the last line in a Jupyter notebook cell to suppress the notebooks from printing the return value of the last line. Try removing the semicolon in the above cell and see how the output changes."
   ]
  },
  {
   "cell_type": "markdown",
   "metadata": {},
   "source": [
    "You can use the keyword argument `marker` to specify each point:"
   ]
  },
  {
   "cell_type": "code",
   "execution_count": null,
   "metadata": {},
   "outputs": [],
   "source": [
    "# EXAMPLE\n",
    "\n",
    "plt.plot(xpoints, ypoints, marker='o');"
   ]
  },
  {
   "cell_type": "markdown",
   "metadata": {},
   "source": [
    "There are other markers that you can find in [matplotlib's documentation page](https://matplotlib.org/stable/api/markers_api.html).\n",
    "\n",
    "Choose a marker from the documentation page and try it out below!"
   ]
  },
  {
   "cell_type": "code",
   "execution_count": null,
   "metadata": {},
   "outputs": [],
   "source": [
    "# EXERCISE - Try plotting with a marker of your choice:\n",
    "\n",
    "plt.plot(xpoints, ypoints, marker=...);"
   ]
  },
  {
   "cell_type": "markdown",
   "metadata": {},
   "source": [
    "Without the marker keyword, you can plot without a connecting line:"
   ]
  },
  {
   "cell_type": "code",
   "execution_count": null,
   "metadata": {},
   "outputs": [],
   "source": [
    "# EXAMPLE\n",
    "\n",
    "plt.plot(xpoints, ypoints, '^');"
   ]
  },
  {
   "cell_type": "markdown",
   "metadata": {},
   "source": [
    "### 1.1 Line Plots <a id='subsection1'></a>"
   ]
  },
  {
   "cell_type": "markdown",
   "metadata": {},
   "source": [
    "We've actually created line plots above, but let's go further. Any good plot needs to have a title, x and y axis labels:"
   ]
  },
  {
   "cell_type": "code",
   "execution_count": null,
   "metadata": {},
   "outputs": [],
   "source": [
    "# EXAMPLE\n",
    "\n",
    "time = np.array([0, 5, 10, 15, 20])\n",
    "distance = np.array([0, 12.5, 50, 112.5, 200])\n",
    "\n",
    "plt.title('Distance over Time')\n",
    "plt.xlabel('Time (s)')\n",
    "plt.ylabel('Distance (m)')\n",
    "plt.plot(time, distance);"
   ]
  },
  {
   "cell_type": "code",
   "execution_count": null,
   "metadata": {},
   "outputs": [],
   "source": [
    "# EXAMPLE - even more customization with colors and linewidth\n",
    "\n",
    "time = np.array([0, 5, 10, 15, 20])\n",
    "distance = np.array([0, 12.5, 50, 112.5, 200])\n",
    "\n",
    "plt.title('Distance over Time')\n",
    "plt.xlabel('Time (s)')\n",
    "plt.ylabel('Distance (m)')\n",
    "plt.plot(time, distance, linewidth='5', color='darkmagenta');"
   ]
  },
  {
   "cell_type": "markdown",
   "metadata": {},
   "source": [
    "You can find a table of colors [here](https://www.w3schools.com/colors/colors_names.asp). Note that you can use either the color names like above or the hexademical value (for example the hexadecimal value for Dark Magenta is #8B008B)."
   ]
  },
  {
   "cell_type": "markdown",
   "metadata": {},
   "source": [
    "### 1.2 Scatter Plots <a id='subsection2'></a>"
   ]
  },
  {
   "cell_type": "markdown",
   "metadata": {},
   "source": [
    "Scatter plots are useful when you are looking for a relationship between two variables.\n",
    "\n",
    "We can use the `scatter()` function to draw a scatter plot:"
   ]
  },
  {
   "cell_type": "code",
   "execution_count": null,
   "metadata": {},
   "outputs": [],
   "source": [
    "# EXAMPLE\n",
    "\n",
    "plt.title('Distance over Time')\n",
    "plt.xlabel('Time (s)')\n",
    "plt.ylabel('Distance (m)')\n",
    "plt.scatter(time, distance);"
   ]
  },
  {
   "cell_type": "code",
   "execution_count": null,
   "metadata": {},
   "outputs": [],
   "source": [
    "# EXAMPLE - Two data sets\n",
    "\n",
    "time2 = np.array([0, 5, 10, 15, 20])\n",
    "distance2 = np.array([0, 50, 100, 150, 200])\n",
    "\n",
    "plt.title('Distance over Time')\n",
    "plt.xlabel('Time (s)')\n",
    "plt.ylabel('Distance (m)')\n",
    "plt.scatter(time, distance, color='red'); #Similar to before you can change the color\n",
    "plt.scatter(time2, distance2, color='blue');"
   ]
  },
  {
   "cell_type": "markdown",
   "metadata": {},
   "source": [
    "For the exercise below, you are given data points for average temperature (in Fahrenheit) and average humidity (in %) for Berkeley over 12 months (data from [Climate-Data.org](https://en.climate-data.org/north-america/united-states-of-america/california/berkeley-1266/). Make a two scatter plots - one for each data set. Don't forget the plot title and axes labels."
   ]
  },
  {
   "cell_type": "code",
   "execution_count": null,
   "metadata": {},
   "outputs": [],
   "source": [
    "#Data sets for the exercise\n",
    "\n",
    "months = np.array([\"Jan\", \"Feb\", \"Mar\", \"Apr\", \"May\", \"Jun\", \"Jul\", \"Aug\", \"Sep\", \"Oct\", \"Nov\", \"Dec\"])\n",
    "temperature = np.array([48.1, 49.9, 52.7, 55.3, 59.5, 63.9, 64.6, 64.9, 65, 61.3, 54, 48.6])\n",
    "humidity = np.array([77, 78, 74, 66, 62, 60, 65, 66, 62, 63, 72, 76])"
   ]
  },
  {
   "cell_type": "code",
   "execution_count": null,
   "metadata": {},
   "outputs": [],
   "source": [
    "# EXERCISE - Create a scatter plot for Berkeley's average temperature data\n",
    "\n",
    "plt.title('Berkeley\\'s Average Temperature Over a Year')\n",
    "plt.xlabel(...)\n",
    "plt.ylabel('Temperature (Fahrenheit)')\n",
    "plt.scatter(...); "
   ]
  },
  {
   "cell_type": "code",
   "execution_count": null,
   "metadata": {},
   "outputs": [],
   "source": [
    "# EXERCISE - Create a scatter plot for Berkeley's average humidity data\n",
    "\n",
    "plt.title(...)\n",
    "plt.xlabel(...)\n",
    "plt.ylabel(...)\n",
    "plt.scatter(...); "
   ]
  },
  {
   "cell_type": "markdown",
   "metadata": {},
   "source": [
    "### 1.3 Bar Plots <a id='subsection3'></a>"
   ]
  },
  {
   "cell_type": "markdown",
   "metadata": {},
   "source": [
    "Bar plots represent categorical data with rectangular bars (vertical or horizontal) that are proportional to the values they represent."
   ]
  },
  {
   "cell_type": "code",
   "execution_count": null,
   "metadata": {},
   "outputs": [],
   "source": [
    "# EXAMPLE\n",
    "\n",
    "courses = np.array([\"C\", \"C++\", \"Fortran\", \"Java\", \"MATLAB\", \"Python\"])\n",
    "students = np.array([10, 20, 5, 30, 30, 50])\n",
    "\n",
    "plt.title('Number of students enrolled in coding classes')\n",
    "plt.xlabel('Coding Courses')\n",
    "plt.ylabel('Number of Students')\n",
    "plt.bar(courses, students);"
   ]
  },
  {
   "cell_type": "code",
   "execution_count": null,
   "metadata": {},
   "outputs": [],
   "source": [
    "#EXAMPLE - same data but horizontal\n",
    "\n",
    "plt.title('Number of students enrolled in coding classes')\n",
    "plt.xlabel('Coding Courses')\n",
    "plt.ylabel('Number of Students')\n",
    "plt.barh(courses, students);"
   ]
  },
  {
   "cell_type": "markdown",
   "metadata": {},
   "source": [
    "### 1.4 Histograms <a id='subsection4'></a>"
   ]
  },
  {
   "cell_type": "markdown",
   "metadata": {},
   "source": [
    "A histogram is a common data distribution chart that is used to show the frequency with which specific values, or values within ranges, occur in a set of data.\n",
    "\n",
    "The horizontal axis of a histogram displays the number range and the vertical axis represents the amount of data (frequency) that is present in each range."
   ]
  },
  {
   "cell_type": "code",
   "execution_count": null,
   "metadata": {},
   "outputs": [],
   "source": [
    "# EXAMPLE\n",
    "\n",
    "hoursSlept = np.array([3, 4, 5, 5, 5, 6, 6, 7, 7, 7, 7, 7, 8, 8, 8, 8, 9, 10, 10, 11, 12])\n",
    "\n",
    "plt.title('Number of Hours Slept for A Class of 11th Graders')\n",
    "plt.xlabel('Number of Hours')\n",
    "plt.ylabel('Frequency')\n",
    "plt.hist(hoursSlept);"
   ]
  },
  {
   "cell_type": "markdown",
   "metadata": {},
   "source": [
    "Make the histogram again, but this time with a bin size of 5. We can do this by adding `bins = 5` inside of the histogram command after the dataset.\n",
    "\n",
    "Make sure to include the title and axis labels. "
   ]
  },
  {
   "cell_type": "code",
   "execution_count": null,
   "metadata": {},
   "outputs": [],
   "source": [
    "#EXERCISE\n",
    "\n",
    "plt....\n",
    "plt....\n",
    "plt....\n",
    "plt.hist(hoursSlept, ...);"
   ]
  },
  {
   "cell_type": "markdown",
   "metadata": {},
   "source": [
    "What do you notice when we reduce the number of bins to 5?\n",
    "\n",
    "There is no \"right\" way to display a histogram, but it's important to keep in mind that some bin counts convey more information than others. For example, reducing the bin size even further to 2, we can see that we don't get a good grasp on the distribution of hours slept:"
   ]
  },
  {
   "cell_type": "code",
   "execution_count": null,
   "metadata": {},
   "outputs": [],
   "source": [
    "#EXERCISE\n",
    "\n",
    "plt.title('Number of Hours Slept for A Class of 11th Graders')\n",
    "plt.xlabel('Number of Hours')\n",
    "plt.ylabel('Frequency')\n",
    "plt.hist(hoursSlept, ...);"
   ]
  },
  {
   "cell_type": "markdown",
   "metadata": {},
   "source": [
    "Lets play around with this a little more. In order to do this, we need to generate some data. We can do this using the command `np.random.normal()` (this will generate normally distributed data)\n",
    "Use Google to figure out how to use this command. "
   ]
  },
  {
   "cell_type": "code",
   "execution_count": null,
   "metadata": {},
   "outputs": [],
   "source": [
    "# EXERCISE - \n",
    "# Use np.random.rand to generate a normally distributed dataset with 100000 values.\n",
    "\n",
    "x = ...\n",
    "plt.hist(x);"
   ]
  },
  {
   "cell_type": "code",
   "execution_count": null,
   "metadata": {},
   "outputs": [],
   "source": [
    "# play around with the bin size for this histogram with random numbers.\n",
    "# Which bin size do you prefer?\n",
    "\n",
    "plt.hist(x, ...);"
   ]
  },
  {
   "cell_type": "markdown",
   "metadata": {},
   "source": [
    "## Working with Data: Supernova <a id='section2'></a>"
   ]
  },
  {
   "cell_type": "markdown",
   "metadata": {},
   "source": [
    "Now let's try working with real data! For this example we will use the data of the brightness of a supernova (an exploding star), SN 1998aq. By plotting the brightness of the supernova over time, we can obtain light curves.\n",
    "\n",
    "Light curves of one type of supernova, type Ia, were significant in leading them to be used as \"standard candles\" - used to accurately measure distances in the universe. By looking at how fast they brighten and fade through light curves, astronomers can calculate distances. This was significant in the discovery of dark energy, the mysterious energy that is causing the accelerating expansion of the universe. Dr. Saul Perlmutter, astrophysicist at Berkeley Lab, was one of the winners of the 2011 Nobel Prize in Physics for this discovery.\n",
    "\n",
    "*If you're curious to know more, here are some resources you can check out on your own time. [This quick video on type Ia supernovae](https://www.youtube.com/watch?v=jlqnKu82UxU) is a good starting point. For a more advanced overview article, check out ['Supernovae, Dark Energy, and the Universe'](https://supernova.lbl.gov/PDFs/PhysicsTodayArticle.pdf) written by Dr. Saul Perlmutter.*\n",
    "\n"
   ]
  },
  {
   "cell_type": "markdown",
   "metadata": {},
   "source": [
    "<img src = \"images/riessetal2005fig3.jpg\">\n",
    "\n",
    "*Above figure and data from [Riess et al. 2005, ApJ 627, 579](https://ui.adsabs.harvard.edu/abs/2005ApJ...627..579R/abstract)*"
   ]
  },
  {
   "cell_type": "markdown",
   "metadata": {},
   "source": [
    "We will use pandas to help us read in the data. The csv file happens to be tab-delimited (values are separated by tabs instead of commas), so we need to specify `sep=\\t`. We will also skip the first 3 rows."
   ]
  },
  {
   "cell_type": "code",
   "execution_count": null,
   "metadata": {},
   "outputs": [],
   "source": [
    "sn = pd.read_csv('data/sn1998aq_UBVRI.tsv', sep='\\t', skiprows=3)\n",
    "sn.head()"
   ]
  },
  {
   "cell_type": "markdown",
   "metadata": {},
   "source": [
    "What are we looking at?\n",
    "* JD - 2450000 is the Julian Date - 2450000. Astronomers simply count days (instead of dealing with months, years, leap years, etc.) and often use the Julian Date (if you are interested to learn more, [see here](https://www.aavso.org/about-jd)).\n",
    "* U, B, V, R, I - Magnitudes (brightness) of the supernova measured in different filters. Although a bit counterintuitive, the smaller the magnitude, the brighter the supernova. Filters are used to look at specific colors in observational astronomy: U stands for ultraviolet, B for blue, V for visible, R for red, and I for infrared.\n",
    "* Uerr, Berr, Verr, Rerr, Ierr - the uncertainty associated with each magnitude measurement."
   ]
  },
  {
   "cell_type": "markdown",
   "metadata": {},
   "source": [
    "A common problem that you will come across when analyzing data is **missing** data. In the below cell, see how many null values we have in this data set.\n",
    "\n",
    "\n",
    "*HINT: Look at your previous pandas notebooks if you don't remember how to do this.*"
   ]
  },
  {
   "cell_type": "code",
   "execution_count": null,
   "metadata": {},
   "outputs": [],
   "source": [
    "sn...."
   ]
  },
  {
   "cell_type": "markdown",
   "metadata": {},
   "source": [
    "Phew! Seems like we got a data set with no missing values!"
   ]
  },
  {
   "cell_type": "markdown",
   "metadata": {},
   "source": [
    "Create plots for data from each filter (you can ignore the uncertainty values for now). The goal of your plots is to show how the magnitude (brightness) of the supernova changes over time. You can use one plot, but make sure to differentiate between different magnitude filters using the `color` argument (see for example 1.1 Line Plots and 1.2 Scatter Plots).\n",
    "\n",
    "Before starting to code, discuss with your group what type of plot will make the most sense for this data. \n",
    "**Check in with your instructor before moving on!**"
   ]
  },
  {
   "cell_type": "code",
   "execution_count": null,
   "metadata": {},
   "outputs": [],
   "source": [
    "#First we need to grab our columns of data so we can plot them separately.\n",
    "#Remember we don't need the uncertainty values for now\n",
    "\n",
    "days = sn['JD-2450000']\n",
    "magU = sn['U']\n",
    "magB = sn[...]\n",
    "magV = ...\n",
    "magR = ...\n",
    "magI = ..."
   ]
  },
  {
   "cell_type": "code",
   "execution_count": null,
   "metadata": {},
   "outputs": [],
   "source": [
    "#Now it's time to plot\n",
    "\n",
    "#Code to invert the y-axis so it starts at magnitude 17 and goes until magnitude 11.\n",
    "#This is needed as the brighter the supernova, the smaller the magnitude.\n",
    "plt.ylim(17,11)\n",
    "\n",
    "# Your code below. Don't forget to add a title and label your axes.\n",
    "plt.title(...)\n",
    "plt.xlabel(...)\n",
    "plt.ylabel(...)\n",
    "plt.scatter(...)\n",
    "plt.scatter(...)\n",
    "plt.scatter(...)\n",
    "plt.scatter(...)\n",
    "plt.scatter(...);"
   ]
  },
  {
   "cell_type": "markdown",
   "metadata": {},
   "source": [
    "If you did it correctly, your plot should look like this. \n",
    "\n",
    "<img src = \"images/data_visualization_fig.png\">"
   ]
  },
  {
   "cell_type": "markdown",
   "metadata": {},
   "source": [
    "### Bonus - Error Bars"
   ]
  },
  {
   "cell_type": "markdown",
   "metadata": {},
   "source": [
    "The data set had columns for uncertainties for the magnitude measurements. Matplotlib can also create plots with error bars through the `plt.errorbar()` function. Try using Google to find out more about how this command works. \n",
    "\n",
    "Note that we zoomed in towards the rise of the light curve as the error bars are quite small."
   ]
  },
  {
   "cell_type": "code",
   "execution_count": null,
   "metadata": {},
   "outputs": [],
   "source": [
    "#Similar to reading in magnitude values, now let's read in uncertaintiy values\n",
    "magUerr = sn['Uerr']\n",
    "magBerr = ...\n",
    "magVerr = ...\n",
    "magRerr = ...\n",
    "magIerr = ..."
   ]
  },
  {
   "cell_type": "code",
   "execution_count": null,
   "metadata": {},
   "outputs": [],
   "source": [
    "#You can change these values to see more/less of the graph\n",
    "plt.ylim(14, 12)\n",
    "plt.xlim(920,930)\n",
    "\n",
    "plt.... #title\n",
    "plt.... #y-axis label\n",
    "plt.... #x-axis label\n",
    "plt.errorbar..."
   ]
  },
  {
   "cell_type": "markdown",
   "metadata": {},
   "source": [
    "If done correctly, your plot should look something like \n",
    "<img src = \"images/data_visualization_fig2.png\">"
   ]
  },
  {
   "cell_type": "markdown",
   "metadata": {},
   "source": [
    "## Working with Data: Energy <a id='section3'></a>"
   ]
  },
  {
   "cell_type": "markdown",
   "metadata": {},
   "source": [
    "We will learn to plot some interesting energy sector related data. Most of this data is from US Energy Information Administration (EIA). EIA was established in 1977 driven by the energy crisis of the 1970s. But they have energy related data from much before that period. They have formalized data collection efforts for energy sector and we use that data extensively in our research."
   ]
  },
  {
   "cell_type": "markdown",
   "metadata": {},
   "source": [
    "### 3.1 Pie charts <a id='subsection5'></a>"
   ]
  },
  {
   "cell_type": "markdown",
   "metadata": {},
   "source": [
    "Let's say you want to visualize how much of energy was consumed in each sector last year. The EIA summarizes this data using British thermal units (Btu). 1 Btu is approximately equal to 1055 Joules. In 2020, the total energy consumed in the United States was about 93 Quadrillion Btu (Quad Btu, in short). \n",
    "\n",
    "Quick fact: 1 Quadrillion = 10^15. That's 1 followed by 15 zeros!"
   ]
  },
  {
   "cell_type": "code",
   "execution_count": null,
   "metadata": {},
   "outputs": [],
   "source": [
    "# EXAMPLE\n",
    "tot_energy=pd.read_csv('data/total_consumption_2020.csv')\n",
    "tot_energy"
   ]
  },
  {
   "cell_type": "markdown",
   "metadata": {},
   "source": [
    "To create a pie chart, we will use the `pie()` function from matplotlib. We will pass in the Consumption column from our data set and use the Sector column as our labels. The `startangle` keyword allows us to place the start of the pie chart 90 degrees counterclockwise from the x-axis (you can experiment by changing the `startangle` back to its default value of 0 degrees and seeing how different the pie chart will look). "
   ]
  },
  {
   "cell_type": "code",
   "execution_count": null,
   "metadata": {
    "scrolled": false
   },
   "outputs": [],
   "source": [
    "plt.pie(tot_energy['Consumption'], labels=tot_energy['Sector'], startangle=90);"
   ]
  },
  {
   "cell_type": "markdown",
   "metadata": {},
   "source": [
    "What are some things you notice? Which type of energy consumption makes up the most of total energy consumption? The least?"
   ]
  },
  {
   "cell_type": "markdown",
   "metadata": {},
   "source": [
    "*Write your answers here by editing this textbox.*\n",
    "\n"
   ]
  },
  {
   "cell_type": "markdown",
   "metadata": {},
   "source": [
    "**Exercise:** Create the same pie chart for the California data and compare the fractions. Data is present in a csv file called `total_consumption_ca_2020.csv` located in the `data` folder."
   ]
  },
  {
   "cell_type": "code",
   "execution_count": null,
   "metadata": {},
   "outputs": [],
   "source": [
    "#First read in the data file using pandas\n",
    "ca_energy = pd.read_csv('...')\n",
    "ca_energy"
   ]
  },
  {
   "cell_type": "code",
   "execution_count": null,
   "metadata": {},
   "outputs": [],
   "source": [
    "#Create your pie chart below\n",
    "#Remember to use the Consumption column for the data and the Sector column for the labels\n",
    "\n",
    "plt.pie(ca_energy[...], labels=ca_energy[...], startangle=90);"
   ]
  },
  {
   "cell_type": "markdown",
   "metadata": {},
   "source": [
    "How does California's energy consumption compare to the total energy consumption?"
   ]
  },
  {
   "cell_type": "markdown",
   "metadata": {},
   "source": [
    "*Write your observations here by editing this textbox.*"
   ]
  },
  {
   "cell_type": "markdown",
   "metadata": {},
   "source": [
    "### 3.2 Bar Charts <a id='subsection6'></a>"
   ]
  },
  {
   "cell_type": "markdown",
   "metadata": {},
   "source": [
    "Let us try to plot the US total consumption data using bar charts."
   ]
  },
  {
   "cell_type": "code",
   "execution_count": null,
   "metadata": {},
   "outputs": [],
   "source": [
    "# EXAMPLE\n",
    "plt.ylabel('Energy consumption in Trillion Btu')\n",
    "plt.bar(tot_energy['Sector'], tot_energy['Consumption']);"
   ]
  },
  {
   "cell_type": "markdown",
   "metadata": {},
   "source": [
    "If we sort this data in ascending or descending order, it is easier to compare. Go back to Notebook 07 (Pandas Dataframes) and use your good friend Google to see how to sort by values, then create a bar chart that shows the sector with highest consumption on the left - in other words, the data is presented in descending order. If you did it correctly, your bar chart should look like this:\n",
    "\n",
    "<img src = \"images/data_visualization_fig3.png\" width=\"400\">"
   ]
  },
  {
   "cell_type": "code",
   "execution_count": null,
   "metadata": {
    "scrolled": true
   },
   "outputs": [],
   "source": [
    "#First sort the values by Consumption\n",
    "tot_energy_sort = tot_energy...\n",
    "tot_energy_sort"
   ]
  },
  {
   "cell_type": "code",
   "execution_count": null,
   "metadata": {},
   "outputs": [],
   "source": [
    "#Now create a bar chart with the sorted values\n",
    "\n",
    "plt.ylabel('...') #Don't forget to label your y-axis\n",
    "plt.bar(..., ...);"
   ]
  },
  {
   "cell_type": "code",
   "execution_count": null,
   "metadata": {},
   "outputs": [],
   "source": [
    "#Bonus - use the same sorted data but make it horizontal\n",
    "#Hint - look at the earlier section on Bar charts in this notebook\n",
    "\n",
    "plt.ylabel('...') #Don't forget to label your y-axis\n",
    "plt...."
   ]
  },
  {
   "cell_type": "markdown",
   "metadata": {},
   "source": [
    "### 3.3 Line Charts <a id='subsection7'></a>"
   ]
  },
  {
   "cell_type": "markdown",
   "metadata": {},
   "source": [
    "Line charts are generally useful to depict continuous data (e.g., time series data). As an example, if we want to plot the total energy consumption from 2000 to 2021, then line chart would be a good option as it helps us understand how a value changes from one year to the next. Let us plot this data and see."
   ]
  },
  {
   "cell_type": "code",
   "execution_count": null,
   "metadata": {},
   "outputs": [],
   "source": [
    "#First read in the data\n",
    "energy_00_21 = pd.read_csv('data/consumption_2000_2021.csv')\n",
    "energy_00_21.head()"
   ]
  },
  {
   "cell_type": "code",
   "execution_count": null,
   "metadata": {},
   "outputs": [],
   "source": [
    "#Now time to plot - don't forget labelled axes!\n",
    "plt.xlabel('Year')\n",
    "plt.ylabel('Energy consumption in Trillion Btu')\n",
    "plt.plot(energy_00_21['Year'], energy_00_21['Consumption'], linewidth=2, color='blue');"
   ]
  },
  {
   "cell_type": "markdown",
   "metadata": {},
   "source": [
    "What are some things you notice? When did total energy consumption decrease? Can you think why?"
   ]
  },
  {
   "cell_type": "markdown",
   "metadata": {},
   "source": [
    "*Write your answers here by editing this textbox.*"
   ]
  },
  {
   "cell_type": "markdown",
   "metadata": {},
   "source": [
    "**Exercise:** Let's plot the data again but this time make it so that the y-axis spans a range of 30,000 trillion Btu to 105,000 trillion Btu. Similar to what we did with the supernova data in the previous section, we will use the `ylim` function."
   ]
  },
  {
   "cell_type": "code",
   "execution_count": null,
   "metadata": {
    "scrolled": true
   },
   "outputs": [],
   "source": [
    "#EXERCISE\n",
    "\n",
    "#First use plt.ylim() to set the y-axis to go from 30000 to 105000 trillion Btu\n",
    "plt.ylim(...)\n",
    "\n",
    "#Now create the line plot - don't forget labelled axes!\n",
    "plt.xlabel('...')\n",
    "plt.ylabel('...')\n",
    "plt.plot(..., ..., linewidth=2, color='blue');"
   ]
  },
  {
   "cell_type": "markdown",
   "metadata": {},
   "source": [
    "In the first plot, it appeared as if there are huge spikes (up and down) from one year to the next. But notice that the lower limit on y-axis is set to about 93,000 and upper limit is a little over 100,000 Trillion Btu and so, the yearly variation is amplified. \n",
    "\n",
    "In the second plot, we see a more muted effect of the same data by setting the bottom value to a much smaller number.\n",
    "\n",
    "Which plot gives a more accurate picture in the trend in energy consumption? Why? Discuss with your group and write what your group came up in the textbox below:"
   ]
  },
  {
   "cell_type": "markdown",
   "metadata": {},
   "source": [
    "*Write your answers here by editing this textbox.*"
   ]
  },
  {
   "cell_type": "markdown",
   "metadata": {},
   "source": [
    "**Exercise:** Let's visualize data over a larger range of years, from 1950 to 2021. The data file is called `consumption_1950_2021.csv` (located in the data folder). Try to figure out on your own the best values to set the y-axis range (you can look back to notebooks 06 and 07 to see if any pandas functions can help you out...)"
   ]
  },
  {
   "cell_type": "code",
   "execution_count": null,
   "metadata": {},
   "outputs": [],
   "source": [
    "#Use pandas to read in the data\n",
    "energy_50_21 = pd....\n",
    "energy_50_21.head()"
   ]
  },
  {
   "cell_type": "code",
   "execution_count": null,
   "metadata": {},
   "outputs": [],
   "source": [
    "#How will you figure out what values to use the y-axis range?\n",
    "\n"
   ]
  },
  {
   "cell_type": "code",
   "execution_count": null,
   "metadata": {},
   "outputs": [],
   "source": [
    "#Now let's plot the data! Let's add a title and axis labels\n",
    "\n",
    "#Use plt.ylim() to set the y-axis range\n",
    "plt.ylim(...)\n",
    "\n",
    "plt.title('...')\n",
    "plt.xlabel('...')\n",
    "plt.ylabel('...')\n",
    "plt.plot(..., ..., linewidth=2, color='red');"
   ]
  },
  {
   "cell_type": "markdown",
   "metadata": {},
   "source": [
    "What are some things you notice? What are some things you wonder?"
   ]
  },
  {
   "cell_type": "markdown",
   "metadata": {},
   "source": [
    "*Write your answers here by editing this textbox.*"
   ]
  },
  {
   "cell_type": "markdown",
   "metadata": {},
   "source": [
    "### 3.4 Stacked Bar Charts <a id='subsection8'></a>"
   ]
  },
  {
   "cell_type": "markdown",
   "metadata": {},
   "source": [
    "The next type of visualization is called stacked bar charts. If each datapoint comprises of several components that make up the total, this type of graph is useful to visualize those components as fractions of the total. We will use EIA's Residential Energy Consumption Survey (RECS) data from 2015 to create this graph. RECS is a periodic survey conducted by the EIA which provides several details about household energy consumption. Similarly, EIA also conducts surveys for commercial buildings (Commercial Building Energy Consumption Survey or CBECS) and for manufacturing sector (Manufacturing Energy Consumption Survey or MECS) as well.\n",
    "\n",
    "Among other things, RECS contains information regarding the average values of end-use consumption across the various regions within the United States (North-east, South, Midwest and West). RECS considers space heating, water heating, air conditioners and refrigerators as the main end-uses in a household and the remaining are combined together in category called \"other\". "
   ]
  },
  {
   "cell_type": "code",
   "execution_count": null,
   "metadata": {},
   "outputs": [],
   "source": [
    "#EXAMPLE - Read in RECS data from 2015\n",
    "\n",
    "recs_15 = pd.read_csv('data/recs_enduse_2015.csv')\n",
    "recs_15"
   ]
  },
  {
   "cell_type": "code",
   "execution_count": null,
   "metadata": {},
   "outputs": [],
   "source": [
    "#First let's get the data by grabbing columns\n",
    "x = recs_15['Region']\n",
    "y1 = recs_15['Space heating']\n",
    "y2 = recs_15['Water heating']\n",
    "y3 = recs_15['Air Conditioning']\n",
    "y4 = recs_15['Refrigerators']\n",
    "y5 = recs_15['Others']"
   ]
  },
  {
   "cell_type": "code",
   "execution_count": null,
   "metadata": {},
   "outputs": [],
   "source": [
    "#Let's make our stacked bar chart\n",
    "#The keyword bottom allows us to stack each data\n",
    "\n",
    "#Plotting Space heating consumption data at the bottom\n",
    "plt.bar(x, y1, label=recs_15.columns[1]) #recs_15.columns[1] outputs 'Space heating'\n",
    "\n",
    "#Stacking Water heating consumption data on top\n",
    "plt.bar(x, y2, bottom=y1,label=recs_15.columns[2])\n",
    "\n",
    "#Stacking Air conditioning consumption data on top\n",
    "plt.bar(x, y3, bottom=y1+y2, label=recs_15.columns[3])\n",
    "\n",
    "#Stacking Refrigerators consumption data on top\n",
    "plt.bar(x, y4, bottom=y1+y2+y3, label=recs_15.columns[4])\n",
    "\n",
    "#Stacking Others consumption data on the very top\n",
    "plt.bar(x, y5, bottom=y1+y2+y3+y4, label=recs_15.columns[5])\n",
    "\n",
    "#Adding the y-axis label and a legend\n",
    "plt.ylabel('Energy consumption in Million Btu')\n",
    "plt.legend();"
   ]
  },
  {
   "cell_type": "markdown",
   "metadata": {},
   "source": [
    "As we can see, stacking the components one above the other gives us an idea about how much each end-use contributes to the total energy consumption. From the above plot, we see that space heating is pretty much the biggest fraction of the total energy consumption, at least in the North-east and Midwest regions."
   ]
  },
  {
   "cell_type": "markdown",
   "metadata": {},
   "source": [
    "**Exercise:** Let's go back to the California total consumption data from 2020 (see section 3.1) and make a stacked bar chart."
   ]
  },
  {
   "cell_type": "code",
   "execution_count": null,
   "metadata": {},
   "outputs": [],
   "source": [
    "ca_energy"
   ]
  },
  {
   "cell_type": "code",
   "execution_count": null,
   "metadata": {},
   "outputs": [],
   "source": [
    "#EXERCISE - First we will get the data\n",
    "#Hint - All data is in the column 'Consumption'. First grab that column then grab each sector's value using its index\n",
    "x = 'California'\n",
    "y1 = ca_energy['...'][...] #Residential\n",
    "y2 = ca_energy['...'][...] #Commercial\n",
    "y3 = ca_energy['...'][...] #Industrial\n",
    "y4 = ca_energy['...'][...] #Transportation"
   ]
  },
  {
   "cell_type": "code",
   "execution_count": null,
   "metadata": {
    "scrolled": true
   },
   "outputs": [],
   "source": [
    "#EXERCISE - Create a stacked bar chart similar to the example above\n",
    "plt.bar(..., ..., label='Residential')\n",
    "plt.bar(..., ..., bottom=..., label='Commercial')\n",
    "plt.bar(..., ..., bottom=..., label='Industrial')\n",
    "plt.bar(..., ..., bottom=..., label='Transportation')\n",
    "\n",
    "plt.ylabel('...')\n",
    "plt.legend();"
   ]
  },
  {
   "cell_type": "markdown",
   "metadata": {},
   "source": [
    "### 3.5 Stacked Area Charts <a id='subsection9'></a>"
   ]
  },
  {
   "cell_type": "markdown",
   "metadata": {},
   "source": [
    "Stacked area charts are similar to stacked bar charts. In the above example, while stacked bar charts are a good option to visualize a single year's data, stacked area charts are useful to see the trends in these components over several years. As an example, let us take a look at how the sector-wise energy consumption has evolved in the state of California from 1970 to 2020."
   ]
  },
  {
   "cell_type": "code",
   "execution_count": null,
   "metadata": {},
   "outputs": [],
   "source": [
    "# EXAMPLE - Read in the data\n",
    "ca_00_20 = pd.read_csv('data/ca_consumption_1970_2020.csv')\n",
    "ca_00_20.head()"
   ]
  },
  {
   "cell_type": "code",
   "execution_count": null,
   "metadata": {},
   "outputs": [],
   "source": [
    "#Grab columns of data\n",
    "x = ca_00_20['Year']\n",
    "y1 = ca_00_20['Residential']\n",
    "y2 = ca_00_20['Commercial']\n",
    "y3 = ca_00_20['Industrial']\n",
    "y4 = ca_00_20['Transportation']"
   ]
  },
  {
   "cell_type": "code",
   "execution_count": null,
   "metadata": {},
   "outputs": [],
   "source": [
    "# We will make this plot slightly bigger than default to notice the yearly variations\n",
    "plt.figure(figsize=(12,6))\n",
    "\n",
    "#Plot the data using the stackplot function\n",
    "plt.stackplot(x , y1, y2, y3, y4, labels=['Residential', 'Commercial', 'Industrial', 'Transportation'])\n",
    "\n",
    "#Axis labels and legend\n",
    "plt.ylabel('Energy consumption in Billion Btu')\n",
    "plt.xlabel('Year')\n",
    "plt.legend(loc='upper left'); #Specify the location so that the trend is shown clearly"
   ]
  },
  {
   "cell_type": "markdown",
   "metadata": {},
   "source": [
    "In this, we can clearly see that the energy consumption in the transportation sector has steadily increased over the years. If you observe closely, you will also notice an increase in the commercial sector as well."
   ]
  },
  {
   "cell_type": "markdown",
   "metadata": {},
   "source": [
    "**Exercise:** Try to create a similar graph for the renewable generation capacity projection data. Every year, EIA releases Annual Energy Outlook (AEO) where they assess long-term energy trends based on certain assumptions and methodologies. This is meant to give us an idea of what may happen in the future given these assumptions. One of the datasets released as a part of this study is the growth of renewable generation of electricity. Think of this as the growth in the electricity generation (in units of Billion kWh) contributed by the renewables.\n",
    "\n",
    "The data is available in the file named `ren_generation_2020_2050.csv` located in the data folder."
   ]
  },
  {
   "cell_type": "code",
   "execution_count": null,
   "metadata": {},
   "outputs": [],
   "source": [
    "#Read in the data using pandas\n",
    "ren_20_50 = pd....\n",
    "ren_20_50.head()"
   ]
  },
  {
   "cell_type": "code",
   "execution_count": null,
   "metadata": {},
   "outputs": [],
   "source": [
    "#Grab columns of data\n",
    "x = ren_20_50['Year']\n",
    "y1 = ren_20_50['Hydropower']\n",
    "y2 = ren_20_50['...']\n",
    "y3 = ren_20_50['...']\n",
    "y4 = ren_20_50['...']\n",
    "y5 = ...\n",
    "y6 = ...\n",
    "y7 = ...\n",
    "y8 = ..."
   ]
  },
  {
   "cell_type": "code",
   "execution_count": null,
   "metadata": {},
   "outputs": [],
   "source": [
    "#We will again make the figure size slightly bigger to better see trends\n",
    "plt.figure(figsize=(15,8))\n",
    "\n",
    "#Use the stackplot function to plot data\n",
    "plt.stackplot(......, \n",
    "labels = ['Hydropower', ......])\n",
    "\n",
    "#Don't forget axis labels and the legend. \n",
    "#You may need to specify the location of the legend using the loc keyword\n",
    "plt.ylabel('...')\n",
    "plt.xlabel('...')\n",
    "plt.legend(...);"
   ]
  },
  {
   "cell_type": "markdown",
   "metadata": {},
   "source": [
    "What are some largest contributors of renewables? \n",
    "Looking into the future, which type of renewable energy source is going to grow the largest?\n",
    "What are some other renewable energy sources showing a growing trend? How about those that appear flat?"
   ]
  },
  {
   "cell_type": "markdown",
   "metadata": {},
   "source": [
    "*Write your answers here by editing this textbox.*"
   ]
  },
  {
   "cell_type": "markdown",
   "metadata": {},
   "source": [
    "## Exit Ticket <a id='section4'></a>"
   ]
  },
  {
   "cell_type": "markdown",
   "metadata": {},
   "source": [
    "Use the following link to access the Exit Ticket for this notebook: https://forms.gle/m55n3EuM55oJ16zs7"
   ]
  },
  {
   "cell_type": "markdown",
   "metadata": {},
   "source": [
    "## Exploring Python data visualization further..."
   ]
  },
  {
   "cell_type": "markdown",
   "metadata": {},
   "source": [
    "We've only looked at matplotlib (and not even fully explored all its features!) Another popular data visualization library is [seaborn](https://seaborn.pydata.org/). There is also [Plotly](https://plot.ly/python/) and [Bokeh](http://bokeh.pydata.org/en/latest/) which can create interactive visualizations."
   ]
  },
  {
   "cell_type": "markdown",
   "metadata": {},
   "source": [
    "---\n",
    "Notebook developed by: Alisa Bettale, Laurel Hales"
   ]
  }
 ],
 "metadata": {
  "hide_input": false,
  "kernelspec": {
   "display_name": "Python 3",
   "language": "python",
   "name": "python3"
  },
  "language_info": {
   "codemirror_mode": {
    "name": "ipython",
    "version": 3
   },
   "file_extension": ".py",
   "mimetype": "text/x-python",
   "name": "python",
   "nbconvert_exporter": "python",
   "pygments_lexer": "ipython3",
   "version": "3.8.8"
  },
  "toc": {
   "base_numbering": 1,
   "nav_menu": {},
   "number_sections": false,
   "sideBar": true,
   "skip_h1_title": false,
   "title_cell": "Table of Contents",
   "title_sidebar": "Contents",
   "toc_cell": false,
   "toc_position": {
    "height": "calc(100% - 180px)",
    "left": "10px",
    "top": "150px",
    "width": "384px"
   },
   "toc_section_display": true,
   "toc_window_display": false
  },
  "varInspector": {
   "cols": {
    "lenName": 16,
    "lenType": 16,
    "lenVar": 40
   },
   "kernels_config": {
    "python": {
     "delete_cmd_postfix": "",
     "delete_cmd_prefix": "del ",
     "library": "var_list.py",
     "varRefreshCmd": "print(var_dic_list())"
    },
    "r": {
     "delete_cmd_postfix": ") ",
     "delete_cmd_prefix": "rm(",
     "library": "var_list.r",
     "varRefreshCmd": "cat(var_dic_list()) "
    }
   },
   "types_to_exclude": [
    "module",
    "function",
    "builtin_function_or_method",
    "instance",
    "_Feature"
   ],
   "window_display": false
  }
 },
 "nbformat": 4,
 "nbformat_minor": 4
}
