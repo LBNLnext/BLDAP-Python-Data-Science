{
 "cells": [
  {
   "cell_type": "markdown",
   "id": "e030dffa",
   "metadata": {},
   "source": [
    "\n",
    "------\n",
    "\n",
    "# Functions\n",
    "\n",
    "\n",
    "### Table of Contents\n",
    "\n",
    "\n",
    "1 - [Built-in Functions](#section1)<br>\n",
    "\n",
    "2 - [Defining Functions](#section2)<br>\n",
    "\n",
    "3 - [Importing Libraries](#section3)<br> \n",
    "\n",
    "4 - [Challenge: Applying Functions to Our Game](#section4)<br>"
   ]
  },
  {
   "cell_type": "code",
   "execution_count": 1,
   "id": "1787f370",
   "metadata": {},
   "outputs": [],
   "source": [
    "# RUN THIS CELL;\n",
    "\n",
    "###DO NOT MODIFY###\n",
    "import numpy as np\n",
    "from matplotlib import pyplot as plt\n",
    "from jupyter_utils import *\n",
    "%matplotlib inline"
   ]
  },
  {
   "cell_type": "markdown",
   "id": "300c2995",
   "metadata": {},
   "source": [
    "---\n",
    "# Built-in Functions<a id='section1'></a>"
   ]
  },
  {
   "cell_type": "markdown",
   "id": "15530caa",
   "metadata": {},
   "source": [
    "A function is like a command. You specify inputs and it performs a specific task. They are useful when you are doing the same thing repeatedly, that way you don't have to write the same code lots of times. Python does not have a lot of built-in (aka available by default) functions and methods, but it does have some. We will go over a few useful functions and methods that will be good for you to know. \n",
    "\n",
    "If something is a function, it will appear in green color. "
   ]
  },
  {
   "cell_type": "code",
   "execution_count": 4,
   "id": "0baa9755",
   "metadata": {},
   "outputs": [
    {
     "name": "stdout",
     "output_type": "stream",
     "text": [
      "4\n"
     ]
    }
   ],
   "source": [
    "# EXAMPLE \n",
    "\n",
    "a = -4\n",
    "print(abs(a))"
   ]
  },
  {
   "cell_type": "code",
   "execution_count": 2,
   "id": "b3238646",
   "metadata": {},
   "outputs": [
    {
     "data": {
      "text/plain": [
       "9"
      ]
     },
     "execution_count": 2,
     "metadata": {},
     "output_type": "execute_result"
    }
   ],
   "source": [
    "# EXAMPLE \n",
    "\n",
    "max(2, 5, 9, 7)"
   ]
  },
  {
   "cell_type": "code",
   "execution_count": 3,
   "id": "0cb876d3",
   "metadata": {},
   "outputs": [
    {
     "data": {
      "text/plain": [
       "3"
      ]
     },
     "execution_count": 3,
     "metadata": {},
     "output_type": "execute_result"
    }
   ],
   "source": [
    "# EXAMPLE \n",
    "\n",
    "min(3, 7)"
   ]
  },
  {
   "cell_type": "markdown",
   "id": "1a024484",
   "metadata": {},
   "source": [
    "Another built-in function you will most likely use in your coding a lot, is  **len(   )**. It is used to learn about the length of different objects. "
   ]
  },
  {
   "cell_type": "markdown",
   "id": "c1008728",
   "metadata": {},
   "source": [
    "### <center>  * * * Good Coding Practice Moment * * * <center>\n",
    "#### Even the pros use Google \n",
    "\n",
    "If you can't remember how to use a function, you want to find a new function, or you just aren't sure how to code something, Google is a great place to start. Someone else has likely had the same question before and posted on a website. It may take some time to learn how to understand coding blogs and websites, but then you can find the answers you need, just like the rest of us, on Google. \n",
    "\n",
    "### <center> * * * * * * * * * * * * * * * * * * * * * * * * * * * * <center>"
   ]
  },
  {
   "cell_type": "code",
   "execution_count": 21,
   "id": "716835fa",
   "metadata": {},
   "outputs": [
    {
     "data": {
      "text/plain": [
       "3"
      ]
     },
     "execution_count": 21,
     "metadata": {},
     "output_type": "execute_result"
    }
   ],
   "source": [
    "# EXAMPLE\n",
    "\n",
    "len(\"dog\")"
   ]
  },
  {
   "cell_type": "code",
   "execution_count": 22,
   "id": "02f37331",
   "metadata": {},
   "outputs": [
    {
     "data": {
      "text/plain": [
       "4"
      ]
     },
     "execution_count": 22,
     "metadata": {},
     "output_type": "execute_result"
    }
   ],
   "source": [
    "# EXERCISE\n",
    "\n",
    "# what do you think this cell will output?\n",
    "\n",
    "\n",
    "len(\"dog \")"
   ]
  },
  {
   "cell_type": "markdown",
   "id": "2b98939b",
   "metadata": {},
   "source": [
    "In the example below, we will use a built-in **method**. There's no big difference between the a function and a method except for the syntax.\n",
    "\n",
    "Functions (not only the built-in ones) are usually used in the form of\n",
    "\n",
    "`function(argument 1, argument n)`\n",
    "\n",
    "<img src='images/function.png'>\n",
    "\n"
   ]
  },
  {
   "cell_type": "markdown",
   "id": "8dc48bbc",
   "metadata": {},
   "source": [
    "Unlike functions, methods are usually added at the end of the variable.\n",
    "\n",
    "`variable.method()`\n",
    "<img src ='images/method.png'>\n",
    "\n"
   ]
  },
  {
   "cell_type": "markdown",
   "id": "3a98e90b",
   "metadata": {},
   "source": [
    "### <center>  * * * Good Coding Practice Moment * * * <center>\n",
    "#### Google really is super helpful. \n",
    "\n",
    "If you can't remember if something is a function or a method, you can always google it. We've all done it before. You can also try both ways and see which one works. \n",
    "\n",
    "### <center> * * * * * * * * * * * * * * * * * * * * * * * * * * * * <center>"
   ]
  },
  {
   "cell_type": "code",
   "execution_count": 5,
   "id": "377be661",
   "metadata": {},
   "outputs": [
    {
     "name": "stdout",
     "output_type": "stream",
     "text": [
      "HELLO WORLD\n",
      "Hello World\n"
     ]
    }
   ],
   "source": [
    "# EXAMPLE \n",
    "\n",
    "hello = \"Hello World\"\n",
    "\n",
    "print(hello.upper())\n",
    "print(hello)"
   ]
  },
  {
   "cell_type": "markdown",
   "id": "c3a2a56a",
   "metadata": {},
   "source": [
    "Have you noticed that the variable **hello** didn't change? Can you think why is that? "
   ]
  },
  {
   "cell_type": "code",
   "execution_count": 6,
   "id": "5da4eec9",
   "metadata": {},
   "outputs": [
    {
     "name": "stdout",
     "output_type": "stream",
     "text": [
      "hello world\n",
      "Hello World\n"
     ]
    }
   ],
   "source": [
    "# EXAMPLE \n",
    "\n",
    "hello = \"Hello World\"\n",
    "print(hello.lower())\n",
    "print(hello)"
   ]
  },
  {
   "cell_type": "markdown",
   "id": "48db735b",
   "metadata": {},
   "source": [
    "In the cell below, create a variable **phrase** which tells us what school you go to. Then change all the letters to upper-cased letters."
   ]
  },
  {
   "cell_type": "code",
   "execution_count": 7,
   "id": "05cddf66",
   "metadata": {},
   "outputs": [
    {
     "name": "stdout",
     "output_type": "stream",
     "text": [
      "I GO TO ... HIGH SCHOOL\n"
     ]
    }
   ],
   "source": [
    "# EXERCISE \n",
    "\n",
    "\n",
    "phrase = \"I go to ... High School\"\n",
    "phrase = phrase.upper()\n",
    "\n",
    "print(phrase)"
   ]
  },
  {
   "cell_type": "markdown",
   "id": "b680f1a4",
   "metadata": {},
   "source": [
    "### <center>  * * * Good Coding Practice Moment * * * <center>\n",
    "#### There's probably a function for that. \n",
    "\n",
    "There are a lot of functions out there. Whether you are trying to figure out how to sort a bunch of numbers, generate a random number, or find a specific character in a long string, someone else has probably already written a function that does that. Later we will go through how to access whole libraries of functions so you can use them. \n",
    "\n",
    "### <center> * * * * * * * * * * * * * * * * * * * * * * * * * * * * <center>"
   ]
  },
  {
   "cell_type": "markdown",
   "id": "ea96a022",
   "metadata": {},
   "source": [
    "---\n",
    "# Defining Functions<a id='section2'></a>"
   ]
  },
  {
   "cell_type": "markdown",
   "id": "2be1ba63",
   "metadata": {},
   "source": [
    "A function is a block code that you can reuse to perform a specific action. In the next cell, we will be defining a simple one-line function that takes one argument."
   ]
  },
  {
   "cell_type": "code",
   "execution_count": 8,
   "id": "3471fa2b",
   "metadata": {},
   "outputs": [],
   "source": [
    "# EXAMPLE\n",
    "\n",
    "def degrees_FtoK(F):\n",
    "    # This function converts temperatures measured in \n",
    "    #degrees Fahrenheit to Kelvin. \n",
    "    #Inputs: \n",
    "        # F - temperature measured in degrees Fahrenheit\n",
    "    #Outputs:\n",
    "        # K - temperature in Kelvin.\n",
    "        \n",
    "    K =(F +459.67)*5/9\n",
    "    return K\n",
    "\n"
   ]
  },
  {
   "cell_type": "markdown",
   "id": "23bd7289",
   "metadata": {},
   "source": [
    "Here's how to use the function:"
   ]
  },
  {
   "cell_type": "code",
   "execution_count": 9,
   "id": "b2b1435f",
   "metadata": {},
   "outputs": [],
   "source": [
    "#EXAMPLE\n",
    "\n",
    "# Convert 81 degrees F to Kelvin \n",
    "temp = degrees_FtoK(81)\n"
   ]
  },
  {
   "cell_type": "markdown",
   "id": "3b1951ae",
   "metadata": {},
   "source": [
    "Use the `degrees_FtoK` function to find convert the following temperatures from Fahrenheit to Kelvin. -459.67&#8457;, 32&#8457;, and 98.6&#8457;"
   ]
  },
  {
   "cell_type": "code",
   "execution_count": 10,
   "id": "09f594f8",
   "metadata": {},
   "outputs": [
    {
     "name": "stdout",
     "output_type": "stream",
     "text": [
      "0.0\n",
      "273.15\n",
      "310.15\n"
     ]
    }
   ],
   "source": [
    "# Exercise\n",
    "temp1 = degrees_FtoK(-459.67)\n",
    "temp2 = degrees_FtoK(32)\n",
    "temp3 = degrees_FtoK(98.6)\n",
    "\n",
    "print(temp1)\n",
    "print(temp2)\n",
    "print(temp3)"
   ]
  },
  {
   "cell_type": "markdown",
   "id": "249cecd3",
   "metadata": {},
   "source": [
    "You can have multiple inputs and multiple outputs."
   ]
  },
  {
   "cell_type": "code",
   "execution_count": 11,
   "id": "cf47ae10",
   "metadata": {},
   "outputs": [
    {
     "data": {
      "text/plain": [
       "8"
      ]
     },
     "execution_count": 11,
     "metadata": {},
     "output_type": "execute_result"
    }
   ],
   "source": [
    "# EXAMPLE\n",
    "def area(width, height):\n",
    "    area = width*height\n",
    "    return area\n",
    "\n",
    "area(2,4)"
   ]
  },
  {
   "cell_type": "markdown",
   "id": "629b4106",
   "metadata": {},
   "source": [
    "Functions can perform multiple calculations and use more than one argument, they can even return more than one thing, or nothing at all. They can incorporate lots of things including other functions inside of your function - aka nested functions (we won't be going over nested functions in this workshop, but feel free to look them up).\n",
    "\n",
    "**Discussion Question: When would I want to use a function?**"
   ]
  },
  {
   "attachments": {},
   "cell_type": "markdown",
   "id": "4c8377f7",
   "metadata": {},
   "source": [
    "### <center>  * * * Good Coding Practice Moment * * * </center>\n",
    "#### How to define a function:\n",
    "    \n",
    "<img src = \"images/explain_functions.png\">\n",
    "    \n",
    "1. `def` is how you tell the computer you want to define a function.\n",
    "2. The title of the function - This is how you will call the function.\n",
    "3. The inputs to your function (if you have more than one, separate with commas)\n",
    "4. If you don't put a colon here, it will cause an error\n",
    "5. It is good coding practice to include a comment that describes what the function is trying to do, I like to include a list of inputs and outputs as well in case I forget what the variables mean. \n",
    "6. Notice that everything inside the function is indented. Anything that isn't indented won't be included in the function. Your editor usually does the indent for you automatically. \n",
    "7. If you want to output a value, put return and then the names of the variables you wish to return (separated by commas if there are more than one.\n",
    "\n",
    "### <center> * * * * * * * * * * * * * * * * * * * * * * * * * * * * <center>"
   ]
  },
  {
   "cell_type": "code",
   "execution_count": 13,
   "id": "cc88f09c",
   "metadata": {},
   "outputs": [
    {
     "name": "stdout",
     "output_type": "stream",
     "text": [
      "x1 = -3.0\n",
      "x2 = 2.0\n"
     ]
    }
   ],
   "source": [
    "# EXAMPLE\n",
    "# Create a function that finds the x-intercepts for a parabola\n",
    "\n",
    "def quadraticFormula(a, b, c):\n",
    "    # finds the x-intercepts for the parabola a*x**2 + b*x + c \n",
    "    # Inputs: \n",
    "        # a, b, c - the coefficients for the parabola as listed above.\n",
    "    # Outputs: \n",
    "        # x1, x2 - the x-intercepts for the parabola above\n",
    "    x1 = (-b - (b**2-4*a*c)**(1/2))/(2*a)\n",
    "    x2 = (-b + (b**2-4*a*c)**(1/2))/(2*a)\n",
    "    return x1, x2\n",
    "\n",
    "\n",
    "#Below we are testing the function we just created\n",
    "x1, x2 = quadraticFormula (1, 1, -6)\n",
    "print('x1 =', x1)\n",
    "print('x2 =', x2)\n"
   ]
  },
  {
   "cell_type": "markdown",
   "id": "970d7ff7",
   "metadata": {},
   "source": [
    "In the cell below use the quadraticFormula function to find the x-intercepts of $2x^2 - 4x - 6$ "
   ]
  },
  {
   "cell_type": "code",
   "execution_count": 14,
   "id": "3a0ceca9",
   "metadata": {},
   "outputs": [
    {
     "name": "stdout",
     "output_type": "stream",
     "text": [
      "x1 = -1.0\n",
      "x2 = 3.0\n"
     ]
    }
   ],
   "source": [
    "# EXERCISE\n",
    "\n",
    "x1, x2 = quadraticFormula(2, -4, -6)\n",
    "\n",
    "print('x1 =', x1)\n",
    "print('x2 =', x2)"
   ]
  },
  {
   "cell_type": "markdown",
   "id": "7c96bdac",
   "metadata": {},
   "source": [
    "In the cell below use the quadraticFormula function to find the x-intercepts of $-5x^2 + 8x + 4$ "
   ]
  },
  {
   "cell_type": "code",
   "execution_count": 15,
   "id": "641c71a0",
   "metadata": {},
   "outputs": [
    {
     "name": "stdout",
     "output_type": "stream",
     "text": [
      "x1 = 2.0\n",
      "x2 = -0.4\n"
     ]
    }
   ],
   "source": [
    "# EXERCISE\n",
    "\n",
    "x1, x2 = quadraticFormula(-5, 8, 4)\n",
    "\n",
    "print('x1 =', x1)\n",
    "print('x2 =', x2)"
   ]
  },
  {
   "cell_type": "markdown",
   "id": "2daef6e9",
   "metadata": {},
   "source": [
    "Be careful when defining variables within functions. They are **local** variables and can only be accessible within the function - if you try to use them outside of the function, you will get an error. **Global** variables are those that are defined outside of the function. They can be used throughout the program.\n",
    "\n",
    "In the example below, what variable is global? Local?"
   ]
  },
  {
   "cell_type": "code",
   "execution_count": 16,
   "id": "acedf95d",
   "metadata": {},
   "outputs": [
    {
     "data": {
      "text/plain": [
       "98.0"
      ]
     },
     "execution_count": 16,
     "metadata": {},
     "output_type": "execute_result"
    }
   ],
   "source": [
    "# EXAMPLE\n",
    "\n",
    "g = 9.8 #acceleration due to gravity\n",
    "\n",
    "def findWeight(mass):\n",
    "    fg = mass*g\n",
    "    return fg\n",
    "    \n",
    "weight = findWeight(10)\n",
    "weight\n"
   ]
  },
  {
   "cell_type": "markdown",
   "id": "38c8d8cd",
   "metadata": {},
   "source": [
    "It is also possible to define a method, but we won't be going over that this summer. If you are interested in learning more, try reading about object oriented programming and python classes."
   ]
  },
  {
   "cell_type": "markdown",
   "id": "531cadb3",
   "metadata": {},
   "source": [
    "---\n",
    "\n",
    "# Importing Libraries <a id='section3'></a>"
   ]
  },
  {
   "cell_type": "markdown",
   "id": "6ba8646a",
   "metadata": {},
   "source": [
    "In order to do more with Python, we have to import libraries. Libraries contain functions and variables that you can use in your code.\n",
    "\n",
    "For example, using the tools you have now, how would you get pi using Python? Recite it from memory? That is not very convient."
   ]
  },
  {
   "cell_type": "code",
   "execution_count": 16,
   "id": "a7f33de7",
   "metadata": {},
   "outputs": [
    {
     "data": {
      "text/plain": [
       "3.141592653589793"
      ]
     },
     "execution_count": 16,
     "metadata": {},
     "output_type": "execute_result"
    }
   ],
   "source": [
    "# EXAMPLE \n",
    "\n",
    "import math\n",
    "\n",
    "math.pi"
   ]
  },
  {
   "cell_type": "code",
   "execution_count": 29,
   "id": "06f9987f",
   "metadata": {},
   "outputs": [
    {
     "data": {
      "text/plain": [
       "12.566370614359172"
      ]
     },
     "execution_count": 29,
     "metadata": {},
     "output_type": "execute_result"
    }
   ],
   "source": [
    "#EXERCISE\n",
    "#Write a function that calculates a circle's area and uses math.pi\n",
    "\n",
    "def circleArea(r):\n",
    "    \n",
    "    #Calculates a circle's area given radius r and using math.pi from Python's math library\n",
    "    # Inputs: \n",
    "        # r - radius of circle\n",
    "    # Outputs: \n",
    "        # area - area of circle\n",
    "  \n",
    "    area = math.pi*r**2\n",
    "\n",
    "    return area\n",
    "\n",
    "b = circleArea(2)\n",
    "b"
   ]
  },
  {
   "cell_type": "markdown",
   "id": "2d128429",
   "metadata": {},
   "source": [
    "Do you notice anything different between this output using math.pi, and if we use an appoximation of pi like below?"
   ]
  },
  {
   "cell_type": "code",
   "execution_count": 18,
   "id": "dfc991ad",
   "metadata": {},
   "outputs": [
    {
     "data": {
      "text/plain": [
       "12.56"
      ]
     },
     "execution_count": 18,
     "metadata": {},
     "output_type": "execute_result"
    }
   ],
   "source": [
    "c = 3.14*2**2\n",
    "c"
   ]
  },
  {
   "cell_type": "markdown",
   "id": "6346aad9",
   "metadata": {},
   "source": [
    "You can look at interesting functions/variables that you have when you import the [math library](https://docs.python.org/3/library/math.html#)!"
   ]
  },
  {
   "cell_type": "markdown",
   "id": "0d4b1b16",
   "metadata": {},
   "source": [
    "---\n",
    "# Challenge: Applying Functions to Our Game<a id='section4'></a>"
   ]
  },
  {
   "cell_type": "markdown",
   "id": "66addf63",
   "metadata": {},
   "source": [
    "Your player is currently located at pos_x = 8, pos_y = 3 and facing to the right: dir_x = 1, dir_y = 0. Recall the following for direction variables:\n",
    "\n",
    "* `dir_x`  specifies the x direction\n",
    "    * `dir_x = 0` - the player is facing up or down\n",
    "    * `dir_x = 1` - the player is facing to the right\n",
    "    * `dir_x = -1` - the player facing to the left\n",
    "* `dir_y` specifies the y direction \n",
    "    * `dir_y = 0` - the player is facing to the left or right\n",
    "    * `dir_y = 1` - the player is facing up\n",
    "    * `dir_y = -1` - the player is facing down\n",
    "\n",
    "\n",
    "Let's make some functions to move your player around. \n",
    "\n",
    "<img src = 'images/before_turn.png'>\n",
    "    \n",
    "The player needs to turn right next. We have provided a function called `turnRight` to perform this operation. \n",
    "The cell below shows how to use the `turnRight` command. "
   ]
  },
  {
   "cell_type": "code",
   "execution_count": 30,
   "id": "f60dbcfe",
   "metadata": {},
   "outputs": [
    {
     "data": {
      "image/png": "[encoded data removed]",
      "text/plain": [
       "<Figure size 432x288 with 1 Axes>"
      ]
     },
     "metadata": {
      "needs_background": "light"
     },
     "output_type": "display_data"
    }
   ],
   "source": [
    "#EXAMPLE\n",
    "\n",
    "# Define the starting point\n",
    "pos_x = 8\n",
    "pos_y = 3\n",
    "dir_x = 1\n",
    "dir_y = 0\n",
    "\n",
    "#Use the turnRight function to update the player's direction variables\n",
    "dir_x, dir_y = turnRight(dir_x, dir_y)\n",
    "\n",
    "# Do not modify the code below\n",
    "show_player(path,[pos_y,pos_x], direc=[dir_y, dir_x]) #Display current position"
   ]
  },
  {
   "cell_type": "markdown",
   "id": "374f6c2e",
   "metadata": {},
   "source": [
    "In the following cell, make your player turn Right two more times. If you do it correctly, it should look like \n",
    "\n",
    "<img src='images/after_turns.png'>"
   ]
  },
  {
   "cell_type": "code",
   "execution_count": 33,
   "id": "cc9638c6",
   "metadata": {},
   "outputs": [
    {
     "data": {
      "image/png": "[encoded data removed]",
      "text/plain": [
       "<Figure size 432x288 with 1 Axes>"
      ]
     },
     "metadata": {
      "needs_background": "light"
     },
     "output_type": "display_data"
    }
   ],
   "source": [
    "#EXERCISE \n",
    "dir_x, dir_y = turnRight(dir_x, dir_y)\n",
    "dir_x, dir_y = turnRight(dir_x, dir_y)\n",
    "\n",
    "\n",
    "# Do not modify the code below\n",
    "show_player(path,[pos_y,pos_x], direc=[dir_y, dir_x]) #Display current position"
   ]
  },
  {
   "cell_type": "markdown",
   "id": "c51dfecf",
   "metadata": {},
   "source": [
    "In the previous notebook we learned that we could move forward a certain number of steps using the following formulas: \n",
    "\n",
    "**`pos_x = pos_x + dir_x*number_of_steps`**\n",
    "\n",
    "**`pos_y = pos_y + dir_y*number_of_steps`**\n",
    "\n",
    "\n",
    "Use the cell below to use those formulas to make a function that moves the player forward by a number of steps (n)."
   ]
  },
  {
   "cell_type": "code",
   "execution_count": 22,
   "id": "3f140eb6",
   "metadata": {},
   "outputs": [],
   "source": [
    "def steps(n, pos_x, pos_y, dir_x, dir_y):\n",
    "    #move the player forward from n steps in dir_x and dir_y starting from pos_x and pos_y.\n",
    "    #Inputs:\n",
    "        # n - the number of steps forward\n",
    "        # pos_x, pos_y - the starting position\n",
    "        # dir_x, dir_y - the direction of motion. \n",
    "    \n",
    "    pos_x_new = pos_x + n*dir_x\n",
    "    pos_y_new = pos_y + n*dir_y\n",
    "    \n",
    "    return pos_x_new, pos_y_new\n"
   ]
  },
  {
   "cell_type": "markdown",
   "id": "83eab4d6",
   "metadata": {},
   "source": [
    "Now let's test your function, if you did it correctly, out you should end up with your player in this position.\n",
    "\n",
    "<img src = 'images/after_steps.png'>"
   ]
  },
  {
   "cell_type": "code",
   "execution_count": 23,
   "id": "36f2f9e2",
   "metadata": {},
   "outputs": [
    {
     "data": {
      "image/png": "[encoded data removed]",
      "text/plain": [
       "<Figure size 432x288 with 1 Axes>"
      ]
     },
     "metadata": {
      "needs_background": "light"
     },
     "output_type": "display_data"
    }
   ],
   "source": [
    "pos_x = 4\n",
    "pos_y = 2\n",
    "dir_x = 1\n",
    "dir_y = 0\n",
    "\n",
    "pos_x, pos_y = steps(1, pos_x, pos_y, dir_x, dir_y)\n",
    "\n",
    "# Do not modify the code below\n",
    "show_player(path,[pos_y,pos_x], direc=[dir_y, dir_x], show_direc=True) #Display current position"
   ]
  },
  {
   "cell_type": "markdown",
   "id": "7d8c2757",
   "metadata": {},
   "source": [
    "Now the player needs to turn left. As you know, turning left is the same as turning right three times. Instead of using the `turnRight` function three times, write a new `turnLeft` function (You can do it in just one line, or on three different lines, it doesn't matter)."
   ]
  },
  {
   "cell_type": "code",
   "execution_count": 24,
   "id": "4612b187",
   "metadata": {},
   "outputs": [
    {
     "data": {
      "image/png": "[encoded data removed]",
      "text/plain": [
       "<Figure size 432x288 with 1 Axes>"
      ]
     },
     "metadata": {
      "needs_background": "light"
     },
     "output_type": "display_data"
    }
   ],
   "source": [
    "def turnLeft(dir_x, dir_y):\n",
    "    #move the player forward from n steps in dir_x and dir_y starting from pos_x and pos_y.\n",
    "    #Inputs:\n",
    "        # dir_x, dir_y - the direction of motion.\n",
    "        \n",
    "    dir_x1, dir_y1 = turnRight(dir_x, dir_y)\n",
    "    dir_x2, dir_y2 = turnRight(dir_x1, dir_y1)\n",
    "    dir_x3, dir_y3 = turnRight(dir_x2, dir_y2)\n",
    "    \n",
    "    return dir_x3, dir_y3\n",
    "\n",
    "\n",
    "dir_x, dir_y = turnLeft(dir_x, dir_y)\n",
    "\n",
    "# Do not modify the code below\n",
    "show_player(path,[pos_y,pos_x], direc=[dir_y, dir_x], show_direc=True) #Display current position\n"
   ]
  },
  {
   "cell_type": "markdown",
   "id": "37ec7c67",
   "metadata": {},
   "source": [
    "Now let's create a function that takes in the players position variables and their direction variables, jumps over the blank space.\n",
    "\n",
    "We will place the player at pos_x = 12, pos_y = 9 and facing the direction: dir_x = 1, dir_y = 0.\n",
    "\n",
    "<img src='images/ready2jump.png'>\n",
    "\n",
    "Write the function `jump` below. *(Hint: To jump over a blank space, how many steps forward does the player need to move?)*"
   ]
  },
  {
   "cell_type": "code",
   "execution_count": 28,
   "id": "e2294b4f",
   "metadata": {},
   "outputs": [
    {
     "data": {
      "image/png": "[encoded data removed]",
      "text/plain": [
       "<Figure size 432x288 with 1 Axes>"
      ]
     },
     "metadata": {
      "needs_background": "light"
     },
     "output_type": "display_data"
    }
   ],
   "source": [
    "# EXERCISE\n",
    "\n",
    "def jump(pos_x,pos_y,dir_x,dir_y):\n",
    "    # This function moves the player from pos_x, and pos_x across \n",
    "    # a blank space in the direction specified by dir_x and dir_y\n",
    "    # Inputs\n",
    "        # pos_x - the starting x position of the player\n",
    "        # pos_y - the starting y position of the player\n",
    "        # dir_x - the x component direction of the jump\n",
    "        # dir_y - the y component direction of the jump\n",
    "        \n",
    "    pos_x = pos_x + 2*dir_x\n",
    "    pos_y = pos_y + 2*dir_y\n",
    "    \n",
    "    return pos_x, pos_y\n",
    "\n",
    "\n",
    "#Let's test your function below!\n",
    "pos_x = 12\n",
    "pos_y = 9\n",
    "dir_x = 1\n",
    "dir_y = 0\n",
    "\n",
    "pos_x, pos_y = jump(pos_x,pos_y,dir_x,dir_y)\n",
    "\n",
    "\n",
    "# Do not modify the code below\n",
    "show_player(path,[pos_y,pos_x], direc=[dir_y, dir_x], show_direc=True) #Display current position"
   ]
  },
  {
   "cell_type": "markdown",
   "id": "fd81a98e",
   "metadata": {},
   "source": [
    "---\n",
    "Notebook developed by: Kseniya Usovich, Rachel McCarty, Baishakhi Bose, Alisa Bettale, Laurel Hales"
   ]
  }
 ],
 "metadata": {
  "kernelspec": {
   "display_name": "Python 3",
   "language": "python",
   "name": "python3"
  },
  "language_info": {
   "codemirror_mode": {
    "name": "ipython",
    "version": 3
   },
   "file_extension": ".py",
   "mimetype": "text/x-python",
   "name": "python",
   "nbconvert_exporter": "python",
   "pygments_lexer": "ipython3",
   "version": "3.8.8"
  }
 },
 "nbformat": 4,
 "nbformat_minor": 5
}
