{
  "cells": [
    {
      "cell_type": "markdown",
      "metadata": {
        "id": "QULY5UK0RNyg"
      },
      "source": [
        "\n",
        "------\n",
        "\n",
        "# Conditionals\n",
        "\n",
        "\n",
        "\n",
        "\n",
        "\n",
        "### Table of Contents\n",
        "\n",
        "\n",
        "1 - [Booleans and Comparison Operators](#section1)<br>\n",
        "\n",
        "2 - [Conditional Statements](#section2)<br>\n",
        "\n",
        "\n",
        "\n"
      ]
    },
    {
      "cell_type": "markdown",
      "metadata": {
        "id": "75xOg3R7uxza"
      },
      "source": [
        "Before we start this notebook, similar to previous notebooks, we will have to run some code at the beginning to make sure everything is set up correctly. Please run the cells below."
      ]
    },
    {
      "cell_type": "code",
      "execution_count": null,
      "metadata": {
        "id": "MSFBi4Icuxzb"
      },
      "outputs": [],
      "source": [
        "# RUN THIS CELL;\n",
        "\n",
        "###DO NOT MODIFY###\n",
        "\n",
        "# Initialize Otter\n",
        "import otter\n",
        "grader = otter.Notebook(tests_dir=\"tests/03_intro_to_python\")"
      ]
    },
    {
      "cell_type": "code",
      "execution_count": null,
      "metadata": {
        "id": "gfqxQ8XWuxzc"
      },
      "outputs": [],
      "source": [
        "# RUN THIS CELL;\n",
        "\n",
        "###DO NOT MODIFY###\n",
        "from jupyter_utils import *"
      ]
    },
    {
      "cell_type": "markdown",
      "metadata": {
        "id": "0hXQSpRPRNym"
      },
      "source": [
        "We often need to execute a specific code based on a condition. It's a form of decision-making: we execute a piece of code is certain conditions are met, we execute another piece of code (could be nothing) otherwise."
      ]
    },
    {
      "cell_type": "markdown",
      "metadata": {
        "id": "WeJWV9wpuxzd"
      },
      "source": [
        "# Booleans and Comparison Operators <a name='section1'></a>"
      ]
    },
    {
      "cell_type": "markdown",
      "metadata": {
        "id": "bL5TFQ4uuxzd"
      },
      "source": [
        "Booleans are variables that can only take **True** or **False** values. They represent the \"truth\" values in a logical expression, and can help us answer questions that require a binary responses (either yes or no) whenever a given condition is or is not met."
      ]
    },
    {
      "cell_type": "code",
      "execution_count": null,
      "metadata": {
        "id": "kQbZoU5SRNym"
      },
      "outputs": [],
      "source": [
        "# EXAMPLE\n",
        "\n",
        "test1 = test_var < -1\n",
        "\n",
        "print(test1)"
      ]
    },
    {
      "cell_type": "code",
      "execution_count": null,
      "metadata": {
        "id": "6xhQO34CRNyn"
      },
      "outputs": [],
      "source": [
        "# EXAMPLE\n",
        "\n",
        "test2 = test_var > 5\n",
        "\n",
        "print(test2)"
      ]
    },
    {
      "cell_type": "markdown",
      "metadata": {
        "id": "5fm6mFlMuxze"
      },
      "source": [
        "Sometimes we want more than one expression then we can use `and` and `or`\n"
      ]
    },
    {
      "cell_type": "code",
      "execution_count": null,
      "metadata": {
        "id": "Lq7SG3heuxze"
      },
      "outputs": [],
      "source": [
        "# Example\n",
        "# Based on what we know, is -1< test_var <5 ?\n",
        "\n",
        "# Here's how to test that in one line\n",
        "\n",
        "test3 = -1<test_var and test_var<5\n",
        "print(test3)"
      ]
    },
    {
      "cell_type": "code",
      "execution_count": null,
      "metadata": {
        "id": "5XvuPsThuxze"
      },
      "outputs": [],
      "source": [
        "# Example\n",
        "# It's time we found out what value test_var has.\n",
        "\n",
        "test_var == 0"
      ]
    },
    {
      "cell_type": "markdown",
      "metadata": {
        "id": "vJbAg-ePuxze"
      },
      "source": [
        "Use `and` if you want both conditions to be true.\n",
        "\n",
        "\n",
        "Use `or` if you want at least condition to be true."
      ]
    },
    {
      "cell_type": "code",
      "execution_count": null,
      "metadata": {
        "id": "wxAzllp6uxze"
      },
      "outputs": [],
      "source": [
        "# Example\n",
        "\n",
        "x <- 5 or x < 5"
      ]
    },
    {
      "cell_type": "code",
      "execution_count": null,
      "metadata": {
        "id": "vfM965vyuxzf"
      },
      "outputs": [],
      "source": [
        "# Example\n",
        "x <- 5 and x < 5"
      ]
    },
    {
      "cell_type": "markdown",
      "metadata": {
        "id": "5S_o1z8nuxzf"
      },
      "source": [
        "Why do the two cells above give different results? What is the difference in the questions we are asking?"
      ]
    },
    {
      "cell_type": "markdown",
      "metadata": {
        "id": "o-YgKBgwRNyp"
      },
      "source": [
        "Here is a list of **comparison operators**\n",
        "\n",
        "|Operator| Meaning|\n",
        "|--------|---------|\n",
        "|< | less than |\n",
        "|<= | less than or equal to|\n",
        "|> | greater than |\n",
        "|>= | greater than or equal to|\n",
        "|!= | not equal to|\n",
        "|== | equal to|\n",
        "\n",
        "Be careful when using the equal to operator **==**.\n",
        "\n",
        "Recall that **=** is used to assign a value to a variable."
      ]
    },
    {
      "cell_type": "markdown",
      "metadata": {
        "id": "zAdrV2V-RNyp"
      },
      "source": [
        "Let us try some exercises:\n",
        "\n",
        "For these exercises you will be using comparison operators to find the value of `mystery_number`"
      ]
    },
    {
      "cell_type": "markdown",
      "metadata": {
        "id": "cmMJbjzCRNyq"
      },
      "source": [
        "**Exercise 1:**  Is `mystery_number` less than 8?"
      ]
    },
    {
      "cell_type": "code",
      "execution_count": null,
      "metadata": {
        "id": "2FCcGQVuRNyq"
      },
      "outputs": [],
      "source": [
        "# EXAMPLE\n",
        "mystery_number < 8"
      ]
    },
    {
      "cell_type": "markdown",
      "metadata": {
        "id": "hAAi1rSURNyq"
      },
      "source": [
        "**Exercise 2:**  Is `mystery_number` greater than or equal to two?"
      ]
    },
    {
      "cell_type": "code",
      "execution_count": null,
      "metadata": {
        "id": "kqrlVFe-RNyq"
      },
      "outputs": [],
      "source": [
        "# YOUR CODE\n",
        "..."
      ]
    },
    {
      "cell_type": "markdown",
      "metadata": {
        "id": "5FsxzPtURNyr"
      },
      "source": [
        "**Exercise 3:**  Is `mystery_number` plus two equal to eight?"
      ]
    },
    {
      "cell_type": "code",
      "execution_count": null,
      "metadata": {
        "id": "oJXKCZS7RNyr"
      },
      "outputs": [],
      "source": [
        "# YOUR CODE\n",
        "..."
      ]
    },
    {
      "cell_type": "markdown",
      "metadata": {
        "id": "5o9-Jc16uxzg"
      },
      "source": [
        "**Exercise 4:**  Is `mystery_number` even?\n",
        "\n",
        "*Hint: if a number, n, is even, then it is divisible by 2, so `n%2 == 0`*"
      ]
    },
    {
      "cell_type": "code",
      "execution_count": null,
      "metadata": {
        "id": "p3pbwkrQuxzg"
      },
      "outputs": [],
      "source": [
        "# YOUR CODE\n",
        "..."
      ]
    },
    {
      "cell_type": "markdown",
      "metadata": {
        "id": "R1wEBN-4uxzg"
      },
      "source": [
        "**Exercise 4:**  Make and check a guess for the value of `mystery_number`?"
      ]
    },
    {
      "cell_type": "code",
      "execution_count": null,
      "metadata": {
        "id": "xwAT1Yh5uxzg"
      },
      "outputs": [],
      "source": [
        "..."
      ]
    },
    {
      "cell_type": "markdown",
      "metadata": {
        "id": "MMzLgI1yuxzg"
      },
      "source": [
        "In the cells below come up with your own tests to identify `mystery_number_b`. See if you can do it in 5 guesses or less."
      ]
    },
    {
      "cell_type": "code",
      "execution_count": null,
      "metadata": {
        "id": "tOYKr3IGuxzg"
      },
      "outputs": [],
      "source": []
    },
    {
      "cell_type": "code",
      "execution_count": null,
      "metadata": {
        "id": "CGQMxAGGuxzh"
      },
      "outputs": [],
      "source": []
    },
    {
      "cell_type": "code",
      "execution_count": null,
      "metadata": {
        "id": "zWEYfuatuxzh"
      },
      "outputs": [],
      "source": []
    },
    {
      "cell_type": "code",
      "execution_count": null,
      "metadata": {
        "id": "25QrvHvEuxzh"
      },
      "outputs": [],
      "source": []
    },
    {
      "cell_type": "code",
      "execution_count": null,
      "metadata": {
        "id": "o3YgUGe8uxzh"
      },
      "outputs": [],
      "source": []
    },
    {
      "cell_type": "markdown",
      "metadata": {
        "id": "fdtMJz6ruxzh"
      },
      "source": [
        "# Conditional Statements <a name='section2'></a>"
      ]
    },
    {
      "cell_type": "markdown",
      "metadata": {
        "id": "SvsE0onSuxzh"
      },
      "source": [
        "A conditional statement is where what the code does depends on some condition. Think of them like giant flow charts, where what you do next depends on the answer to a question.\n",
        "\n",
        "![](https://drive.google.com/uc?export=view&id=1chdKpSqyR3xljLeNJdjsishs1rHwTlmy)\n",
        "\n",
        "Image from https://welldonestuff.com/inconsequential-dilemmas-funny-flow-charts"
      ]
    },
    {
      "cell_type": "markdown",
      "metadata": {
        "id": "g2gr7esVRNys"
      },
      "source": [
        "A conditional statement has the following form:\n",
        "\n",
        "`if <condition>:\n",
        "    <do_something>\n",
        "elif <condition>:\n",
        "    <do_something>\n",
        "else:\n",
        "     <do_something>`\n",
        "        "
      ]
    },
    {
      "cell_type": "code",
      "execution_count": null,
      "metadata": {
        "id": "oeTD90nuRNys"
      },
      "outputs": [],
      "source": [
        "# EXAMPLE\n",
        "\n",
        "if 5 < 6:\n",
        "    print(\"True. 5 is less than 6!\")\n",
        "else:\n",
        "    print(\"False. What is math?\")"
      ]
    },
    {
      "cell_type": "markdown",
      "metadata": {
        "id": "ZPBpXU_lRNys"
      },
      "source": [
        "**How do conditional statements work?**\n",
        "* First, it evaluated the header expression (which is the `if` statement). If the statement is `True`, then it executes the first suite otherwise, it checks the condition of the `elif`, and so on.\n",
        "* It will only execute the suite (do_something) of the `else` clause, if the conditions of the `if` and `elif` are false (not met).\n",
        "\n",
        "\n",
        "**Some notes about conditional statements:**\n",
        "* You can have as many `elif` expressions as you want, but you can only have one `if` and one `else` statement.\n",
        "* `else` always comes at the end.\n",
        "* You do not always need an `else`.\n",
        "* When you execute a conditional statement, you must ALWAYS consider the order of you statements."
      ]
    },
    {
      "cell_type": "markdown",
      "metadata": {
        "id": "tv-SGaPSuxzl"
      },
      "source": [
        "Let's say I want to write code that outputs a sentence for how many bananas I want to buy."
      ]
    },
    {
      "cell_type": "code",
      "execution_count": null,
      "metadata": {
        "id": "leYW-Wetuxzl"
      },
      "outputs": [],
      "source": [
        "# Example\n",
        "\n",
        "n_bananas = 5\n",
        "\n",
        "statement = \"I want to buy \" + str(n_bananas) + ' banana.'\n",
        "print(statement)\n",
        "\n",
        "\n",
        "# Does it still sound right if I have 5 bananas?"
      ]
    },
    {
      "cell_type": "code",
      "execution_count": null,
      "metadata": {
        "id": "CIsxfpp7uxzm"
      },
      "outputs": [],
      "source": [
        "n_banana = -2\n",
        "statement = \"I want to buy \" + str(n_banana) + ' banana'\n",
        "\n",
        "if n_banana == 1:\n",
        "    statement += '.'\n",
        "else:\n",
        "    statement += 's.'\n",
        "\n",
        "print(statement)\n",
        "\n",
        "# what if some joker puts in a negative number of bananas?"
      ]
    },
    {
      "cell_type": "code",
      "execution_count": null,
      "metadata": {
        "id": "ughLvVvYuxzm"
      },
      "outputs": [],
      "source": [
        "n_banana = 0 # try to change this number\n",
        "\n",
        "statement = \"I want to buy \" + str(n_banana) + ' banana'\n",
        "\n",
        "if n_banana < 0:\n",
        "    statement = \"That's silly, I can't buy \" + str(n_banana) + ' bananas.'\n",
        "elif n_banana == 0:\n",
        "    statement = \"I don't want to buy any bananas.\"\n",
        "elif n_banana == 1:\n",
        "    statement +='.'\n",
        "else:\n",
        "    statement += 's.'\n",
        "\n",
        "print(statement)"
      ]
    },
    {
      "cell_type": "markdown",
      "metadata": {
        "id": "XnSIqWgguxzm"
      },
      "source": [
        "Nested conditional statements are when you have conditional statements inside other conditional statements."
      ]
    },
    {
      "cell_type": "code",
      "execution_count": null,
      "metadata": {
        "id": "WVFjdq6Nuxzm"
      },
      "outputs": [],
      "source": [
        "#what if the store only has 10 bananas?\n",
        "\n",
        "n_banana = 15\n",
        "max_bananas = 10\n",
        "\n",
        "statement = \"I want to buy \" + str(n_banana) + ' banana'\n",
        "\n",
        "if n_banana < 0:\n",
        "    statement = \"That's silly, I can't buy \" + str(n_banana) + ' bananas.'\n",
        "elif n_banana == 0:\n",
        "    statement = \"I don't want to buy any bananas.\"\n",
        "elif n_banana <= max_bananas:\n",
        "    if n_banana == 1:\n",
        "        statement +='.'\n",
        "    else:\n",
        "        statement += 's.'\n",
        "else:\n",
        "    statement += 's, but the store only has '+str(max_bananas)+'.'\n",
        "\n",
        "print(statement)"
      ]
    },
    {
      "cell_type": "code",
      "execution_count": null,
      "metadata": {
        "id": "T8Rklp6Duxzn"
      },
      "outputs": [],
      "source": [
        "# EXAMPLE\n",
        "\n",
        "var1 = 200\n",
        "var2 = 200\n",
        "\n",
        "if var2 > var1:\n",
        "    print(\"var2 is greater than var1\")\n",
        "else:\n",
        "    print(\"var2 is less than var1\")"
      ]
    },
    {
      "cell_type": "markdown",
      "metadata": {
        "id": "TLoe_cPHuxzn"
      },
      "source": [
        "Note in the above example, since the condition in the if statement was not met, the else statement is executed. How will you modify the above code to print \"var 1 is equal to var 2\"?"
      ]
    },
    {
      "cell_type": "code",
      "execution_count": null,
      "metadata": {
        "id": "1xiAxvX6uxzn"
      },
      "outputs": [],
      "source": [
        "# EXERCISE\n",
        "\n",
        "var1 = 200\n",
        "var2 = 200\n",
        "\n",
        "if var2 > var1:\n",
        "    print(\"var2 is greater than var1\")\n",
        "elif ...:\n",
        "    ...\n",
        "else:\n",
        "    print(\"var2 is less than var1\")"
      ]
    },
    {
      "cell_type": "markdown",
      "metadata": {
        "id": "b183JcqWuxzn"
      },
      "source": [
        "Before running the example below, guess what the output will be.\n",
        "\n",
        "What might the output be if you change the value of fizzbuzz to 9? 20? 32? Try it out!"
      ]
    },
    {
      "cell_type": "code",
      "execution_count": null,
      "metadata": {
        "id": "VcbbTX_sRNyt"
      },
      "outputs": [],
      "source": [
        "# EXAMPLE\n",
        "\n",
        "fizzbuzz = 15\n",
        "if fizzbuzz % 3 == 0 and fizzbuzz % 5 == 0:\n",
        "    print(\"fizzbuzz\")\n",
        "elif fizzbuzz % 3 == 0:\n",
        "    print(\"fizz\")\n",
        "elif fizzbuzz % 5 == 0:\n",
        "    print(\"buzz\")"
      ]
    },
    {
      "cell_type": "markdown",
      "metadata": {
        "id": "vu9tfAmBuxzn"
      },
      "source": [
        "If you tried fizzbuzz = 32, you should have seen that the code did not provide any output. This is because all conditionals were evaluated to be false and all print statements were skipped.\n",
        "\n",
        "Edit the above code so that it prints \"fizzbuzz-dud\" if fizzbuzz is not divisible by 3 or 5."
      ]
    },
    {
      "cell_type": "code",
      "execution_count": null,
      "metadata": {
        "id": "dYZOVFbyuxzo"
      },
      "outputs": [],
      "source": [
        "# EXERCISE\n",
        "\n",
        "fizzbuzz = 32\n",
        "if fizzbuzz % 3 == 0 and fizzbuzz % 5 == 0:\n",
        "    print(\"fizzbuzz\")\n",
        "elif fizzbuzz % 3 == 0:\n",
        "    print(\"fizz\")\n",
        "elif fizzbuzz % 5 == 0:\n",
        "    print(\"buzz\")\n",
        "...:\n",
        "    ..."
      ]
    },
    {
      "cell_type": "markdown",
      "metadata": {
        "id": "-HojxS6Guxzo"
      },
      "source": [
        "#### Pay Attention to the indents\n",
        "Anything that doesn't have an indent isn't part of the conditional statement."
      ]
    },
    {
      "cell_type": "code",
      "execution_count": null,
      "metadata": {
        "id": "ODN-DQmNRNyt"
      },
      "outputs": [],
      "source": [
        "# EXAMPLE\n",
        "\n",
        "var1 = 1\n",
        "var2 = 2\n",
        "if var2 > var1:\n",
        "    var2 = 0\n",
        "print(\"var1 is \"+str(var1))\n",
        "print(\"var2 is \"+str(var2))\n",
        "print(\"var2 is equal to var1\")\n"
      ]
    },
    {
      "cell_type": "markdown",
      "metadata": {
        "id": "l265XMr6uxzo"
      },
      "source": [
        "The print statements in the above example are not within the scope of the conditional statement (they aren't indented). As such, it gets executed regardless of whether the condition is met or not.\n",
        "\n",
        "What is the final value of var2 after running the entire code?"
      ]
    },
    {
      "cell_type": "markdown",
      "metadata": {
        "id": "5gyqyXmFuxzo"
      },
      "source": [
        "In the cell below, the variable `team` is assigned to a string that specifies a team. If team is equal to \"49ers\", print \"Go Niners\", if not print \"Not my team\"."
      ]
    },
    {
      "cell_type": "code",
      "execution_count": null,
      "metadata": {
        "id": "wxKhJgqcuxzo"
      },
      "outputs": [],
      "source": [
        "# EXERCISE\n",
        "\n",
        "# If team is equal to \"49ers\", print \"Go Niners\", if not print \"Not my team\".\n",
        "if ...:\n",
        "    ...\n",
        "else:\n",
        "    ...\n",
        "\n",
        "print(team)"
      ]
    },
    {
      "cell_type": "markdown",
      "metadata": {
        "id": "_4NAp_DLuxzp"
      },
      "source": [
        "Try it again with the variable `team2`. If team2 is equal to \"49ers\", print \"Go Niners\", if not print \"Not my team\"."
      ]
    },
    {
      "cell_type": "code",
      "execution_count": null,
      "metadata": {
        "id": "oP91ifNOuxzp"
      },
      "outputs": [],
      "source": [
        "# EXERCISE\n",
        "\n",
        "# If team2 is equal to \"49ers\", print \"Go Niners\", if not print \"Not my team\".\n",
        "if ...:\n",
        "    ...\n",
        "else:\n",
        "    ...\n",
        "\n",
        "print(team2)"
      ]
    },
    {
      "cell_type": "markdown",
      "metadata": {
        "id": "6xpbFLwVuxzp"
      },
      "source": [
        "Did you get the responses you expected?"
      ]
    },
    {
      "cell_type": "markdown",
      "metadata": {
        "id": "0ejo7ZSERNy0"
      },
      "source": [
        "**Conditional Statements in Functions**\n",
        "\n",
        "In the cell below, we are going to define a function that will multiply the two numbers you give it only if they are not equal to each other."
      ]
    },
    {
      "cell_type": "code",
      "execution_count": null,
      "metadata": {
        "id": "Gp--59GLRNy0"
      },
      "outputs": [],
      "source": [
        "# EXAMPLE\n",
        "\n",
        "def mult_not_eq(x, y):\n",
        "\n",
        "    # If the first number is not equal to the second\n",
        "    if x!=y:\n",
        "        # I will return their product\n",
        "        return x*y\n",
        "    else:\n",
        "        print(\"Use the square function instead\")"
      ]
    },
    {
      "cell_type": "markdown",
      "metadata": {
        "id": "6dbxoflGuxzp"
      },
      "source": [
        "Now that we have written the function, we can use the function."
      ]
    },
    {
      "cell_type": "code",
      "execution_count": null,
      "metadata": {
        "id": "5CyFxFdvuxzp"
      },
      "outputs": [],
      "source": [
        "mult_not_eq(5, 5)"
      ]
    },
    {
      "cell_type": "markdown",
      "metadata": {
        "id": "1qQ_NdoRRNy0"
      },
      "source": [
        "Now it's time for you to define a function. Create a function that will add up two numbers, but only if they are not equals. If the numbers are equal, return \"x and y are equal use multiplication by 2\"."
      ]
    },
    {
      "cell_type": "code",
      "execution_count": null,
      "metadata": {
        "id": "oOKNPps-3m1K"
      },
      "outputs": [],
      "source": [
        "def sum_not_equals(x, y):\n",
        "    if ...:\n",
        "        return ...\n",
        "    else:\n",
        "        return ..."
      ]
    },
    {
      "cell_type": "code",
      "execution_count": null,
      "metadata": {
        "deletable": false,
        "editable": false,
        "id": "WQOG9Pu7uxzq"
      },
      "outputs": [],
      "source": [
        "# Does this return what you think it should?\n",
        "sum_not_equals(1, 5)"
      ]
    },
    {
      "cell_type": "code",
      "execution_count": null,
      "metadata": {
        "id": "T217axlXdZnN"
      },
      "outputs": [],
      "source": [
        "sum_not_equals(7,7)"
      ]
    },
    {
      "cell_type": "code",
      "execution_count": null,
      "metadata": {
        "id": "iHG_oJzKdsX6"
      },
      "outputs": [],
      "source": [
        "sum_not_equals(11, 101)"
      ]
    },
    {
      "cell_type": "code",
      "execution_count": null,
      "metadata": {
        "deletable": false,
        "editable": false,
        "id": "78WcrZ5v3m1L"
      },
      "outputs": [],
      "source": [
        "grader.check(\"q1\")"
      ]
    },
    {
      "cell_type": "markdown",
      "metadata": {
        "id": "NA-xJdQJuxzq"
      },
      "source": [
        "You can also have functions that return a boolean, and then use that function in a conditional statement. You'll see that in the challenge notebook."
      ]
    },
    {
      "cell_type": "markdown",
      "metadata": {
        "id": "lqaHLeUBhma5"
      },
      "source": [
        "---\n",
        "Notebook developed by: Kseniya Usovich, Rachel McCarty, Baishakhi Bose, Alisa Bettale, Laurel Hales, Lawrence Chen, Arianna Formenti, Sage Miller, Evan Neill"
      ]
    }
  ],
  "metadata": {
    "anaconda-cloud": {},
    "colab": {
      "provenance": []
    },
    "kernelspec": {
      "display_name": ".venv",
      "language": "python",
      "name": "python3"
    },
    "language_info": {
      "codemirror_mode": {
        "name": "ipython",
        "version": 3
      },
      "file_extension": ".py",
      "mimetype": "text/x-python",
      "name": "python",
      "nbconvert_exporter": "python",
      "pygments_lexer": "ipython3",
      "version": "3.11.1"
    },
    "vscode": {
      "interpreter": {
        "hash": "1de2c9b99b67c74942ae62ba9f4273989cfcd06b191aeb61677ac908252bed7d"
      }
    }
  },
  "nbformat": 4,
  "nbformat_minor": 0
}
