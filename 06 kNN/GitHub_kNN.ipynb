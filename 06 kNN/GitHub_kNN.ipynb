{
  "cells": [
    {
      "cell_type": "markdown",
      "metadata": {
        "id": "rYKxKFSasVkH"
      },
      "source": [
        "# k‑Nearest Neighbors (kNN)\n",
        "\n",
        "In this notebook, you'll work through two parts:\n",
        "\n",
        "1. Use a small dataset to implement and test the k‑Nearest Neighbors algorithm.\n",
        "2. Apply kNN to a new scenario (animal classification) and experiment with different values of k.\n",
        "\n",
        "Read the instructions in each cell carefully and complete the code where indicated."
      ]
    },
    {
      "cell_type": "markdown",
      "metadata": {
        "id": "wpWc5gqgsVkJ"
      },
      "source": [
        "## Part 1: Exploration with a Small Dataset\n",
        "\n",
        "In this section, you'll:\n",
        "- Define a function to calculate the Euclidean distance.\n",
        "- Create a small dataset (height, weight, and class).\n",
        "- Define a test point and visualize the dataset.\n",
        "- Compute distances and classify the test point using majority voting."
      ]
    },
    {
      "cell_type": "markdown",
      "source": [
        "**Step 1:** First, we will need to import numpy.\n",
        "\n",
        "**Step 2:** Let's define our Euclidean distance function. Fill in the missing code as indicated with ellipsis (...)."
      ],
      "metadata": {
        "id": "MUwOhbuGu3TC"
      }
    },
    {
      "cell_type": "code",
      "execution_count": null,
      "metadata": {
        "id": "bdsiXEfWsVkK"
      },
      "outputs": [],
      "source": [
        "# TODO: Step 1: Define the Euclidean distance function\n",
        "# Complete the function so that it returns the Euclidean distance between two points\n",
        "import ... as ..\n",
        "\n",
        "def euclidean_distance(point1, point2):\n",
        "    # HINT: Use the formula sqrt((x2 - x1)^2 + (y2 - y1)^2)\n",
        "    # Replace the following line with your code if desired:\n",
        "    return ...((...[...] - ...[...])**2 + (...[...] - ...[...])**2)\n",
        "\n",
        "# Test your function (optional)\n",
        "print(euclidean_distance([0, 0], [3, 4]))  # Expected output: 5.0"
      ]
    },
    {
      "cell_type": "markdown",
      "metadata": {
        "id": "zw_HfSeisVkL"
      },
      "source": [
        "### Creating the Dataset\n",
        "Next, create a small dataset. Each data point has two features (height and weight) and a class label (e.g., 'A' or 'B').\n",
        "\n",
        "**Step 3:** Add at least 2 more data points to your data set. Try to come up with a pattern for what is classified as 'A' and what is classified as 'B'. For the following 2 data points continue that pattern. Feel free to add more data points if you'd like."
      ]
    },
    {
      "cell_type": "code",
      "execution_count": null,
      "metadata": {
        "id": "2NeutLOKsVkL"
      },
      "outputs": [],
      "source": [
        "# TODO: Step 2: Create your dataset\n",
        "data_points = [\n",
        "    [160, 60, 'A'],\n",
        "    [165, 55, 'A'],\n",
        "    [170, 75, 'B'],\n",
        "    [175, 80, 'B'],\n",
        "    [..., ..., ...],\n",
        "    [..., ..., ...]\n",
        "]\n",
        "\n",
        "# Feel free to modify or add more data points if you'd like."
      ]
    },
    {
      "cell_type": "markdown",
      "metadata": {
        "id": "xGZgmb5usVkM"
      },
      "source": [
        "### Defining the Test Point and Visualization\n",
        "Now, define a new test point that you want to classify, and then visualize the dataset using matplotlib."
      ]
    },
    {
      "cell_type": "code",
      "execution_count": null,
      "metadata": {
        "id": "wfxrT5M_sVkM"
      },
      "outputs": [],
      "source": [
        "# TODO: Step 4: Define a test point\n",
        "test_point = [..., ...]\n",
        "\n",
        "# TODO: Step 5: Visualize the dataset\n",
        "import matplotlib.pyplot as plt\n",
        "\n",
        "heights = [point[...] for point in data_points]\n",
        "weights = [point[...] for point in data_points]\n",
        "classes = [point[...] for point in data_points]\n",
        "\n",
        "plt.figure(figsize=(6,4))\n",
        "plt.scatter(heights, weights, c=['red' if c == 'A' else 'blue' for c in classes], marker='o')\n",
        "plt....(...) #Define your x-axis label (height)\n",
        "plt....(...) #Define your y-axis label (weight)\n",
        "plt....(...) #Define your title for the plot\n",
        "\n",
        "# Mark the test point on the plot (optional)\n",
        "plt.scatter(test_point[...], test_point[...], c='green', marker='*', s=200, label='Test Point')\n",
        "plt.legend()\n",
        "plt.show()"
      ]
    },
    {
      "cell_type": "markdown",
      "metadata": {
        "id": "DmjiXSNXsVkN"
      },
      "source": [
        "### Computing Distances and Classifying the Test Point\n",
        "Now compute the distance from the test point to each data point, sort the distances, choose a value for **k** (for example, 3), and then perform majority voting to predict the class."
      ]
    },
    {
      "cell_type": "code",
      "execution_count": null,
      "metadata": {
        "id": "_3wTaU-4sVkN"
      },
      "outputs": [],
      "source": [
        "# TODO: Step 6: Compute distances from the test point to each data point\n",
        "distances = []\n",
        "for point in data_points:\n",
        "    dist = ...(..., ...)  # You will want to use the features height and weight not the class label for your point variable\n",
        "    distances.append((..., ...)) #Append the distance from the test point to the data point as the first variable and the class label of the point as your second variable\n",
        "\n",
        "# Sort distances in ascending order\n",
        "distances.sort(key=lambda x: x[0])\n",
        "print(\"Distances (sorted):\", distances)\n",
        "\n",
        "# TODO: Step 7: Choose a value for k (e.g., k = 3) and classify the test point\n",
        "k = ...\n",
        "nearest_neighbors = distances[:k]\n",
        "\n",
        "neighbor_classes = [neighbor[1] for neighbor in nearest_neighbors]\n",
        "predicted_class = max(set(neighbor_classes), key=neighbor_classes.count)\n",
        "print(f\"Predicted class for test point {test_point} with k={k}: {predicted_class}\")"
      ]
    },
    {
      "cell_type": "markdown",
      "metadata": {
        "id": "fyFIfax-sVkO"
      },
      "source": [
        "## Part 2: Applying kNN to a New Scenario\n",
        "\n",
        "In this section, you'll use kNN to classify animals as either **Herbivore** or **Carnivore** based on their weight and height.\n",
        "\n",
        "You will:\n",
        "- Create a new dataset of animals.\n",
        "- Define a new test animal.\n",
        "- Visualize the new dataset.\n",
        "- Compute distances and classify the test animal using different values of **k**."
      ]
    },
    {
      "cell_type": "code",
      "execution_count": null,
      "metadata": {
        "id": "lhg7vhumsVkO"
      },
      "outputs": [],
      "source": [
        "# TODO: Step 1: Create a new dataset for animals. Fill in the rest of animal_data.\n",
        "# Look up the weight and height of different Herbivores and Carnivores online.\n",
        "# Each data point is in the form: [weight (kg), height (cm), class]\n",
        "animal_data = [\n",
        "    [6000, 300, 'Herbivore'],   # Elephant\n",
        "    [190, 120, 'Carnivore'],    # Lion\n",
        "    [..., ..., ...],\n",
        "    [..., ..., ...],\n",
        "    [..., ..., ...],\n",
        "    [..., ..., ...]\n",
        "]"
      ]
    },
    {
      "cell_type": "code",
      "execution_count": null,
      "metadata": {
        "id": "x22Z_BYMsVkO"
      },
      "outputs": [],
      "source": [
        "# TODO: Step 2: Define a new test animal\n",
        "test_animal = [..., ...]  # [weight, height]"
      ]
    },
    {
      "cell_type": "code",
      "execution_count": null,
      "metadata": {
        "id": "1Pno1ETtsVkP"
      },
      "outputs": [],
      "source": [
        "# TODO: Step 3: Visualize the animal dataset\n",
        "weights = [...[...] for animal in animal_data]\n",
        "heights = [...[...] for animal in animal_data]\n",
        "classes = [...[...] for animal in animal_data]\n",
        "\n",
        "# We will use different colors for each class: green for Herbivore, orange for Carnivore\n",
        "colors = ['green' if c == 'Herbivore' else 'orange' for c in classes]\n",
        "\n",
        "plt.figure(figsize=(6,4))\n",
        "plt.scatter(weights, heights, c=colors, marker='s')\n",
        "plt....(...) #Define your x-axis label (weight)\n",
        "plt....(...) #Define your y-axis label (height)\n",
        "plt....(...) #Define your title for the plot\n",
        "plt.show()"
      ]
    },
    {
      "cell_type": "code",
      "execution_count": null,
      "metadata": {
        "id": "bfYCejRCsVkP"
      },
      "outputs": [],
      "source": [
        "# TODO: Step 4: Compute distances for the new dataset\n",
        "animal_distances = ...\n",
        "for animal in animal_data:\n",
        "    dist = ...\n",
        "    animal_distances.append((..., ...)) #Append the distance from the test animal to the animal data point as the first varaible and the class label of the animal as your second variable\n",
        "\n",
        "animal_distances.sort(key=lambda x: x[0])\n",
        "print(\"Animal Distances (sorted):\", animal_distances)"
      ]
    },
    {
      "cell_type": "code",
      "execution_count": null,
      "metadata": {
        "id": "79uHKXfysVkP"
      },
      "outputs": [],
      "source": [
        "# TODO: Step 5: Classify the test animal using different k values\n",
        "def classify(test_point, data, k):\n",
        "    distances = []\n",
        "    for item in data:\n",
        "        d = euclidean_distance(test_point, item[:2])\n",
        "        distances.append((d, item[2]))\n",
        "    distances.sort(key=lambda x: x[0])\n",
        "    nearest = distances[:k]\n",
        "    classes = [neighbor[1] for neighbor in nearest]\n",
        "    return max(set(classes), key=classes.count)\n",
        "\n",
        "for k in [..., ..., ...]: #choose 3 different k values\n",
        "    prediction = classify(test_animal, animal_data, k)\n",
        "    print(f\"Predicted class for test animal {test_animal} with k={k}: {prediction}\")"
      ]
    },
    {
      "cell_type": "markdown",
      "metadata": {
        "id": "ZH0Uo90JsVkQ"
      },
      "source": [
        "### Reflection\n",
        "\n",
        "You have implemented and experimented with the k‑Nearest Neighbors algorithm on two datasets. Reflect on how changing the value of **k** affects the prediction."
      ]
    },
    {
      "cell_type": "markdown",
      "source": [
        "Notebook built with OpenAI o3 Mini High for the 1000 Scientist AI Jam\n",
        "\n",
        "Additional edits by: Sage Miller"
      ],
      "metadata": {
        "id": "6KwWsbl_W6Lr"
      }
    }
  ],
  "metadata": {
    "kernelspec": {
      "display_name": "Python [conda env:base] *",
      "language": "python",
      "name": "conda-base-py"
    },
    "language_info": {
      "codemirror_mode": {
        "name": "ipython",
        "version": 3
      },
      "file_extension": ".py",
      "mimetype": "text/x-python",
      "name": "python",
      "nbconvert_exporter": "python",
      "pygments_lexer": "ipython3",
      "version": "3.12.7"
    },
    "colab": {
      "provenance": []
    }
  },
  "nbformat": 4,
  "nbformat_minor": 0
}