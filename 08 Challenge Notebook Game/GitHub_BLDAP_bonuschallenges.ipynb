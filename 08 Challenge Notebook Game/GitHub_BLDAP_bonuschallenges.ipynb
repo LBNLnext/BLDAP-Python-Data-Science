{
  "cells": [
    {
      "cell_type": "markdown",
      "metadata": {
        "id": "Uk_KjVHVFBEI"
      },
      "source": [
        "\n",
        "--------\n",
        "# Challenge: Code Your Own Game!\n",
        "\n",
        "\n",
        "### Table of Contents\n",
        "\n",
        "1 - [Start Coing Your Game](#section1)<br>\n",
        "\n",
        "2 - [Applying Functions to Our Game](#section2)<br>\n",
        "\n",
        "3 - [Storing Directions for Our Game](#section3)<br>\n",
        "\n",
        "4 - [Using Conditionals to See If The Play Can Move](#section4)<br>\n",
        "\n",
        "5 - [Using Loops In The Game](#section5)<br>\n",
        "\n",
        "6 - [Extra Challenge: Plinko](#section6)<br>"
      ]
    },
    {
      "cell_type": "code",
      "execution_count": null,
      "metadata": {
        "id": "eawRIZiyD1W3"
      },
      "outputs": [],
      "source": [
        "# Run this first!\n",
        "from jupyter_utils import *"
      ]
    },
    {
      "cell_type": "markdown",
      "metadata": {
        "id": "ac14761b"
      },
      "source": [
        "---\n",
        "#1 -Start Coding Your Game <a name='section1'></a>"
      ]
    },
    {
      "cell_type": "markdown",
      "metadata": {
        "id": "qdbATrD1E7Yq"
      },
      "source": [
        "*Make sure you finish notebook 00 (Intro to Python) before starting this challenge.*"
      ]
    },
    {
      "cell_type": "markdown",
      "metadata": {
        "id": "6414330d"
      },
      "source": [
        "Let's say that you want to code a game, so you start with a board like this.\n",
        "\n",
        "![](https://drive.google.com/uc?export=view&id=1xPqvip1EafvzI3janEXWrJuZtyzkIcLY)"
      ]
    },
    {
      "cell_type": "markdown",
      "metadata": {
        "id": "5e7563e5"
      },
      "source": [
        "First things first, you will have to put your player on the board. You can do this by specifying a value between 0 and 19 for the x position (pos_x), and the y position (pos_y) on the board. The starting point is pos_x = 4 and pos_y = 2"
      ]
    },
    {
      "cell_type": "code",
      "execution_count": null,
      "metadata": {
        "id": "de323082"
      },
      "outputs": [],
      "source": [
        "# EXERCISE\n",
        "\n",
        "# Define the variables pos_x and pos_y so that your player starts at the\n",
        "# beginning of the maze, the point (4,2)\n",
        "\n",
        "... # The x position of my player on the board\n",
        "... # The y position of my player on the board\n",
        "\n",
        "\n",
        "# Don't modify the code below.\n",
        "show_player(path,[pos_y, pos_x], show_direc=False)"
      ]
    },
    {
      "cell_type": "markdown",
      "metadata": {
        "id": "unknown-questionnaire"
      },
      "source": [
        "Variables that have numbers (either integers or floats) can be used in calculations just like regular numbers."
      ]
    },
    {
      "cell_type": "code",
      "execution_count": null,
      "metadata": {
        "id": "behind-adult"
      },
      "outputs": [],
      "source": [
        "# EXAMPLE\n",
        "\n",
        "(pos_x+5)*3\n"
      ]
    },
    {
      "cell_type": "code",
      "execution_count": null,
      "metadata": {
        "id": "8aaca796"
      },
      "outputs": [],
      "source": [
        "# Example\n",
        "pos_x"
      ]
    },
    {
      "cell_type": "markdown",
      "metadata": {
        "id": "b158a3c7"
      },
      "source": [
        "Why didn't the value of pos_x change? If you want to change the value, you need to reassign, the value.  \n",
        "\n",
        "For example, let's move our player forward 4 spaces and up 1 space."
      ]
    },
    {
      "cell_type": "code",
      "execution_count": null,
      "metadata": {
        "id": "68d1e9c2"
      },
      "outputs": [],
      "source": [
        "# EXAMPLE\n",
        "\n",
        "pos_x = pos_x + 4\n",
        "pos_y = pos_y + 1\n",
        "\n",
        "# Don't modify the code below\n",
        "show_player(path, [pos_y, pos_x], show_direc=False)"
      ]
    },
    {
      "cell_type": "markdown",
      "metadata": {
        "id": "endless-continent"
      },
      "source": [
        "**Run the previous cell again, what happens?**\n",
        "\n",
        "Why didn't you end up at the same place as last time?  If you wanted undo the last move and try something else, what would you have to do?\n",
        "\n",
        "\n"
      ]
    },
    {
      "cell_type": "markdown",
      "metadata": {
        "id": "df35b906"
      },
      "source": [
        "In the cell below, move your player up 2 spaces, and to the left 3 spaces. Make sure to use arithmatic and don't just assign new values."
      ]
    },
    {
      "cell_type": "code",
      "execution_count": null,
      "metadata": {
        "id": "sophisticated-bracket"
      },
      "outputs": [],
      "source": [
        "# EXERCISE\n",
        "\n",
        "pos_x = ...\n",
        "pos_y = ...\n",
        "\n",
        "# Don't modify the code below\n",
        "show_player(path, [pos_y, pos_x], show_direc=False)"
      ]
    },
    {
      "cell_type": "markdown",
      "metadata": {
        "id": "e0a0722f"
      },
      "source": [
        "This time move your player to the right 6 spaces and down 2 spaces:"
      ]
    },
    {
      "cell_type": "code",
      "execution_count": null,
      "metadata": {
        "id": "3ca120e2"
      },
      "outputs": [],
      "source": [
        "# EXERCISE\n",
        "\n",
        "pos_x = ...\n",
        "pos_y = ...\n",
        "\n",
        "# Don't modify the code below\n",
        "show_player(path, [pos_y, pos_x], show_direc=False)"
      ]
    },
    {
      "cell_type": "markdown",
      "metadata": {
        "id": "30c1ce69"
      },
      "source": [
        "What should we do if we want the player to start over at the beginning again?"
      ]
    },
    {
      "cell_type": "markdown",
      "metadata": {
        "id": "fe08f96b"
      },
      "source": [
        "<center> * * * * * * * * * * * * * * * * * * * * * * * * * * * * </center>\n",
        "\n",
        "### Good Coding Practice Moment\n",
        "\n",
        "**Avoid magic numbers**\n",
        "\n",
        "It is good coding practice to define a variable for every number you use.\n",
        "* When you use numbers in your code without giving them an explanation and a name, they are sometimes called \"magic numbers\"\n",
        "* Not doing so can make it difficult for others to understand your code and difficult for you if you decide to change that value later and you have to search through all of your code to make sure that you change every single instance.\n",
        "\n",
        "\n",
        "<center> * * * * * * * * * * * * * * * * * * * * * * * * * * * * </center>"
      ]
    },
    {
      "cell_type": "code",
      "execution_count": null,
      "metadata": {
        "id": "f223c850"
      },
      "outputs": [],
      "source": [
        "# Did you read the text above? If not take a minute to read it"
      ]
    },
    {
      "cell_type": "markdown",
      "metadata": {
        "id": "4b242c3e"
      },
      "source": [
        "Be a good coder by creating new variables start_x and start_y for the starting position (4,2)."
      ]
    },
    {
      "cell_type": "code",
      "execution_count": null,
      "metadata": {
        "id": "62eaf1b9"
      },
      "outputs": [],
      "source": [
        "#EXERCISE\n",
        "start_x = ...\n",
        "start_y = ...\n"
      ]
    },
    {
      "cell_type": "markdown",
      "metadata": {
        "id": "e7630031"
      },
      "source": [
        "To check if we did it right, in the box below, use your new variables to reset pos_x and pos_y back to their starting positions using the variables you just defined."
      ]
    },
    {
      "cell_type": "code",
      "execution_count": null,
      "metadata": {
        "id": "a8de1093"
      },
      "outputs": [],
      "source": [
        "#EXERCISE\n",
        "pos_x = ...\n",
        "pos_y = ...\n",
        "\n",
        "\n",
        "#Don't modify the code below\n",
        "show_player(path,[pos_y,pos_x], show_direc=False)"
      ]
    },
    {
      "cell_type": "markdown",
      "metadata": {
        "id": "35c3ca94"
      },
      "source": [
        "What if we need to know what direction the player is facing?\n",
        "\n",
        "\n",
        "\n",
        "One solution is to have some variables that specify a direction.\n",
        "* `dir_x`  specifies the x direction\n",
        "    * `dir_x = 0` - the player is facing up or down\n",
        "    * `dir_x = 1` - the player is facing to the right\n",
        "    * `dir_x = -1` - the player facing to the left\n",
        "* `dir_y` specifies the y direction\n",
        "    * `dir_y = 0` - the player is facing to the left or right\n",
        "    * `dir_y = 1` - the player is facing up\n",
        "    * `dir_y = -1` - the player is facing down\n",
        "    \n",
        "We can even change how our player looks so that we can tell what direction they are facing. (The player is to the right here)\n",
        "\n",
        "![](https://drive.google.com/uc?export=view&id=11wzIXzuh0mx18WgYC33i8Uq7bHR627Ky)\n",
        "\n",
        "Let's do a couple examples:"
      ]
    },
    {
      "cell_type": "code",
      "execution_count": null,
      "metadata": {
        "id": "aeacfb58"
      },
      "outputs": [],
      "source": [
        "#Player is facing to the right\n",
        "dir_x = 1 # the x component of the direction the player is facing\n",
        "dir_y = 0 # the y component of the direction the player is facing\n",
        "\n",
        "\n",
        "# Do not modify the code below\n",
        "show_player(path, [pos_y,pos_x], direc=[dir_y, dir_x])"
      ]
    },
    {
      "cell_type": "code",
      "execution_count": null,
      "metadata": {
        "id": "551d708c"
      },
      "outputs": [],
      "source": [
        "#Player is facing down\n",
        "dir_x = 0 # the x component of the direction the player is facing\n",
        "dir_y = -1 # the y component of the direction the player is facing\n",
        "\n",
        "\n",
        "# Do not modify the code below\n",
        "show_player(path, [pos_y,pos_x], direc=[dir_y, dir_x])"
      ]
    },
    {
      "cell_type": "markdown",
      "metadata": {
        "id": "021f35b1"
      },
      "source": [
        "Now we will get the player to move. The code below does the following:\n",
        "\n",
        "1. Specify values for dir_x and dir_y so that the player is facing to the right.\n",
        "2. Use variables dir_x and dir_y to write new values for pos_x and pos_y, moving the player 6 spaces in the direction specified (in this case to the right).\n",
        "\n",
        "How do we move the player? You can use the direction variables to calculate new position variables after a given number of steps. No matter what the values are you can always use the following formulas:\n",
        "\n",
        "**`pos_x = pos_x + direc_x*number_of_steps`**\n",
        "\n",
        "**`pos_y = pos_y + direc_y*number_of_steps`**"
      ]
    },
    {
      "cell_type": "code",
      "execution_count": null,
      "metadata": {
        "id": "7c240119"
      },
      "outputs": [],
      "source": [
        "# EXAMPLE\n",
        "dir_x = 1 # the x component of the direction the player is facing\n",
        "dir_y = 0 # the y component of the direction the player is facing\n",
        "\n",
        "pos_x = pos_x + 6*dir_x # moving player num_steps in the (dir_x, dir_y) direction\n",
        "pos_y = pos_y + 6*dir_y # moving player 6 steps in the (dir_x, dir_y) direction\n",
        "\n",
        "# Do not modify the code below\n",
        "show_player(path, [pos_y,pos_x], direc=[dir_y, dir_x])"
      ]
    },
    {
      "cell_type": "code",
      "execution_count": null,
      "metadata": {
        "id": "006ae80e"
      },
      "outputs": [],
      "source": [
        "# EXERCISE\n",
        "# Change the direction so the player is facing up\n",
        "\n",
        "dir_x = ...\n",
        "dir_y = ...\n",
        "\n",
        "# Do not modify the code below\n",
        "show_player(path, [pos_y,pos_x], direc=[dir_y, dir_x])\n"
      ]
    },
    {
      "cell_type": "code",
      "execution_count": null,
      "metadata": {
        "id": "0b9f6edc"
      },
      "outputs": [],
      "source": [
        "#EXERCISE\n",
        "# Use the same method as shown above to move the player 12 places forward\n",
        "\n",
        "pos_x = ...\n",
        "\n",
        "pos_y = ...\n",
        "\n",
        "\n",
        "# Do not modify the code below\n",
        "show_player(path, [pos_y,pos_x], direc=[dir_y, dir_x])\n"
      ]
    },
    {
      "cell_type": "markdown",
      "metadata": {
        "id": "0d4b1b16"
      },
      "source": [
        "---\n",
        "# 2- - Applying Functions to Our Game<a name='section2'></a>"
      ]
    },
    {
      "cell_type": "markdown",
      "metadata": {
        "id": "TsCGzmGoEIn5"
      },
      "source": [
        "*Make sure you finish notebook 01 (Functions) before starting this challenge.*"
      ]
    },
    {
      "cell_type": "markdown",
      "metadata": {
        "id": "66addf63"
      },
      "source": [
        "Your player is currently located at pos_x = 8, pos_y = 3 and facing to the right: dir_x = 1, dir_y = 0. Recall the following for direction variables:\n",
        "\n",
        "* `dir_x`  specifies the x direction\n",
        "    * `dir_x = 0` - the player is facing up or down\n",
        "    * `dir_x = 1` - the player is facing to the right\n",
        "    * `dir_x = -1` - the player facing to the left\n",
        "* `dir_y` specifies the y direction\n",
        "    * `dir_y = 0` - the player is facing to the left or right\n",
        "    * `dir_y = 1` - the player is facing up\n",
        "    * `dir_y = -1` - the player is facing down\n",
        "\n",
        "\n",
        "Let's make some functions to move your player around.\n",
        "\n",
        "![](https://drive.google.com/uc?export=view&id=1F9zcIQCyZ91N8gcFm37V-GV6FXql8PKE)\n",
        "\n",
        "The player needs to turn right next. We have provided a function called `turnRight` to perform this operation.\n",
        "The cell below shows how to use the `turnRight` command."
      ]
    },
    {
      "cell_type": "code",
      "execution_count": null,
      "metadata": {
        "id": "f60dbcfe"
      },
      "outputs": [],
      "source": [
        "#EXAMPLE\n",
        "\n",
        "# Define the starting point\n",
        "pos_x = 8\n",
        "pos_y = 3\n",
        "dir_x = 1\n",
        "dir_y = 0\n",
        "\n",
        "#Use the turnRight function to update the player's direction variables\n",
        "dir_x, dir_y = turnRight(dir_x, dir_y)\n",
        "\n",
        "# Do not modify the code below\n",
        "show_player(path,[pos_y,pos_x], direc=[dir_y, dir_x]) #Display current position"
      ]
    },
    {
      "cell_type": "markdown",
      "metadata": {
        "id": "374f6c2e"
      },
      "source": [
        "In the following cell, make your player turn Right two more times. If you do it correctly, it should look like\n",
        "\n",
        "![](https://drive.google.com/uc?export=view&id=1FZlVzu0FcagvJk0yMMTG7eC1iUPymZ5P)"
      ]
    },
    {
      "cell_type": "code",
      "execution_count": null,
      "metadata": {
        "id": "cc9638c6"
      },
      "outputs": [],
      "source": [
        "#EXERCISE\n",
        "\n",
        "#Turn right once...\n",
        "dir_x, dir_y = ...\n",
        "\n",
        "#Then turn right once more\n",
        "dir_x, dir_y = ...\n",
        "\n",
        "\n",
        "# Do not modify the code below\n",
        "show_player(path,[pos_y,pos_x], direc=[dir_y, dir_x]) #Display current position"
      ]
    },
    {
      "cell_type": "markdown",
      "metadata": {
        "id": "c51dfecf"
      },
      "source": [
        "In the previous notebook we learned that we could move forward a certain number of steps using the following formulas:\n",
        "\n",
        "**`pos_x = pos_x + dir_x*number_of_steps`**\n",
        "\n",
        "**`pos_y = pos_y + dir_y*number_of_steps`**\n",
        "\n",
        "\n",
        "Use the cell below to use those formulas to make a function that moves the player forward by a number of steps (n)."
      ]
    },
    {
      "cell_type": "code",
      "execution_count": null,
      "metadata": {
        "id": "3f140eb6"
      },
      "outputs": [],
      "source": [
        "def steps(n, pos_x, pos_y, dir_x, dir_y):\n",
        "    #move the player forward from n steps in dir_x and dir_y starting from pos_x and pos_y.\n",
        "    #Inputs:\n",
        "        # n - the number of steps forward\n",
        "        # pos_x, pos_y - the starting position\n",
        "        # dir_x, dir_y - the direction of motion.\n",
        "\n",
        "    pos_x_new = ...\n",
        "    pos_y_new = ...\n",
        "\n",
        "    return pos_x_new, pos_y_new\n"
      ]
    },
    {
      "cell_type": "markdown",
      "metadata": {
        "id": "83eab4d6"
      },
      "source": [
        "Now let's test your function, if you did it correctly, out you should end up with your player in this position.\n",
        "\n",
        "![](https://drive.google.com/uc?export=view&id=1CeTYeieju28lhjpyv2LcaR_KU6Mvbo1V)"
      ]
    },
    {
      "cell_type": "code",
      "execution_count": null,
      "metadata": {
        "id": "36f2f9e2"
      },
      "outputs": [],
      "source": [
        "pos_x = 4\n",
        "pos_y = 2\n",
        "dir_x = 1\n",
        "dir_y = 0\n",
        "\n",
        "pos_x, pos_y = steps(1, pos_x, pos_y, dir_x, dir_y)\n",
        "\n",
        "# Do not modify the code below\n",
        "show_player(path,[pos_y,pos_x], direc=[dir_y, dir_x], show_direc=True) #Display current position"
      ]
    },
    {
      "cell_type": "markdown",
      "metadata": {
        "id": "7d8c2757"
      },
      "source": [
        "Now the player needs to turn left. As you know, turning left is the same as turning right three times. Instead of using the `turnRight` function three times, write a new `turnLeft` function (You can do it in just one line, or on three different lines, it doesn't matter)."
      ]
    },
    {
      "cell_type": "code",
      "execution_count": null,
      "metadata": {
        "id": "4612b187"
      },
      "outputs": [],
      "source": [
        "def turnLeft(dir_x, dir_y):\n",
        "    #move the player forward from n steps in dir_x and dir_y starting from pos_x and pos_y.\n",
        "    #Inputs:\n",
        "        # dir_x, dir_y - the direction of motion.\n",
        "\n",
        "    dir_x1, dir_y1 = ...\n",
        "    dir_x2, dir_y2 = ...\n",
        "    ...\n",
        "\n",
        "    return dir_x3, dir_y3\n",
        "\n",
        "\n",
        "dir_x, dir_y = turnLeft(dir_x, dir_y)\n",
        "\n",
        "# Do not modify the code below\n",
        "show_player(path,[pos_y,pos_x], direc=[dir_y, dir_x], show_direc=True) #Display current position\n"
      ]
    },
    {
      "cell_type": "markdown",
      "metadata": {
        "id": "37ec7c67"
      },
      "source": [
        "Now let's create a function that takes in the players position variables and their direction variables, jumps over the blank space.\n",
        "\n",
        "We will place the player at pos_x = 12, pos_y = 9 and facing the direction: dir_x = 1, dir_y = 0.\n",
        "\n",
        "![](https://drive.google.com/uc?export=view&id=1O8zHFlDh51bt85dEhGEHD06YPyTLfpWJ)\n",
        "\n",
        "Write the function `jump` below. *(Hint: To jump over a blank space, how many steps forward does the player need to move?)*"
      ]
    },
    {
      "cell_type": "code",
      "execution_count": null,
      "metadata": {
        "id": "e2294b4f"
      },
      "outputs": [],
      "source": [
        "# EXERCISE\n",
        "\n",
        "def jump(...):\n",
        "    # This function moves the player from pos_x, and pos_x across\n",
        "    # a blank space in the direction specified by dir_x and dir_y\n",
        "    # Inputs\n",
        "        # pos_x - the starting x position of the player\n",
        "        # pos_y - the starting y position of the player\n",
        "        # dir_x - the x component direction of the jump\n",
        "        # dir_y - the y component direction of the jump\n",
        "\n",
        "    ...\n",
        "    ...\n",
        "\n",
        "    return ...\n",
        "\n",
        "\n",
        "#Let's test your function below!\n",
        "pos_x = 12\n",
        "pos_y = 9\n",
        "dir_x = 1\n",
        "dir_y = 0\n",
        "\n",
        "pos_x, pos_y = jump(pos_x,pos_y,dir_x,dir_y)\n",
        "\n",
        "\n",
        "# Do not modify the code below\n",
        "show_player(path,[pos_y,pos_x], direc=[dir_y, dir_x], show_direc=True) #Display current position"
      ]
    },
    {
      "cell_type": "markdown",
      "metadata": {
        "id": "f02c4f61"
      },
      "source": [
        "---\n",
        "#3 - Storing Directions for Our Game <a name='section3'></a>"
      ]
    },
    {
      "cell_type": "markdown",
      "metadata": {
        "id": "Q6NPhdcMFxtE"
      },
      "source": [
        "*Make sure you finish notebook 02 (Lists & Dictionaries) before starting this challenge.*"
      ]
    },
    {
      "cell_type": "markdown",
      "metadata": {
        "id": "659b824e"
      },
      "source": [
        "You want to share the maze path you are using, but you can't send pictures.\n",
        "Create a dictionary called `mazePath`, where the integer keys is the path in terms of the directions you would have to travel for the rest of first 7 steps.\n",
        "\n",
        "![](https://drive.google.com/uc?export=view&id=1xPqvip1EafvzI3janEXWrJuZtyzkIcLY)\n",
        "\n",
        "After creating the dictionary, add several more steps."
      ]
    },
    {
      "cell_type": "code",
      "execution_count": null,
      "metadata": {
        "id": "f5903552"
      },
      "outputs": [],
      "source": [
        "mazePath = {\n",
        "    0:...,\n",
        "    1:...,\n",
        "    2:...,\n",
        "    ...,\n",
        "    ...,\n",
        "    ...,\n",
        "    ...,\n",
        "}\n",
        "\n",
        "mazePath[7] = ...\n",
        "...\n",
        "\n",
        "mazePath"
      ]
    },
    {
      "cell_type": "markdown",
      "metadata": {
        "id": "4abb0738"
      },
      "source": [
        "Now complete the following tasks:\n",
        "\n",
        "* Ask a group member to choose a step to change. Replace that value with another one.\n",
        "* Delete step 6."
      ]
    },
    {
      "cell_type": "code",
      "execution_count": null,
      "metadata": {
        "id": "b0beace6"
      },
      "outputs": [],
      "source": [
        "...\n",
        "...\n",
        "\n",
        "mazePath"
      ]
    },
    {
      "cell_type": "markdown",
      "metadata": {
        "id": "_LmsR2WRuxzr"
      },
      "source": [
        "# 4 - Using Conditionals to See If The Player Can Move <a name='section4'></a>"
      ]
    },
    {
      "cell_type": "markdown",
      "metadata": {
        "id": "cKMUgT4LF2WA"
      },
      "source": [
        "*Make sure you finish notebook 03 (Conditionals) before starting this challenge.*"
      ]
    },
    {
      "cell_type": "code",
      "execution_count": null,
      "metadata": {
        "id": "lKHhBa3buxzr"
      },
      "outputs": [],
      "source": [
        "pos_x = 4\n",
        "pos_y = 2\n",
        "dir_x = 1\n",
        "dir_y = 0"
      ]
    },
    {
      "cell_type": "markdown",
      "metadata": {
        "id": "DA-1zi7auxzr"
      },
      "source": [
        "Our player is starting at the beginning (4,2)\n",
        "\n",
        "![](https://drive.google.com/uc?export=view&id=11wzIXzuh0mx18WgYC33i8Uq7bHR627Ky)\n",
        "\n",
        "You can use the following functions:\n",
        "* `checkMove(pos_x_test, pos_y_test)` - returns True if (pos_x_test, pos_y_test) is a possible location.\n",
        "* `steps(n, pos_x, pos_y, dir_x, dir_y)` - returns a pos_x_new and pos_y_new after taking n steps forward.\n",
        "* `turnRight(dir_x, dir_y)` - returns a direc_x_new and direc_y_new giving the new direction after turning right.\n",
        "* `turnLeft(dir_x, dir_y)` - returns a direc_x_new and direc_y_new giving the new direction after turning left.\n",
        "* `jump(pos_x, pos_y, dir_x, dir_y)` - returns a pos_x_new and pos_y_new after jumping forward."
      ]
    },
    {
      "cell_type": "markdown",
      "metadata": {
        "id": "BP69jChXuxzr"
      },
      "source": [
        "Let's practice using the `checkMove` function:"
      ]
    },
    {
      "cell_type": "code",
      "execution_count": null,
      "metadata": {
        "id": "YFJ602KQuxzr"
      },
      "outputs": [],
      "source": [
        "# Example\n",
        "\n",
        "# Let's see if it is possible to move 2 steps forward.\n",
        "# First we need to calcuate where that would put us, so we are going to find a test x_pos and y_pos\n",
        "\n",
        "test_x, test_y = steps(2, pos_x, pos_y, dir_x, dir_y)\n",
        "\n",
        "# Now we are going to see if that move will work\n",
        "checkMove(test_x, test_y)"
      ]
    },
    {
      "cell_type": "markdown",
      "metadata": {
        "id": "zoU0kHVcuxzr"
      },
      "source": [
        "The function returned a False? What do you think that means? Look at the image above, would the player stay on the path if they moved 2 steps forward? What about one step forward?"
      ]
    },
    {
      "cell_type": "code",
      "execution_count": null,
      "metadata": {
        "id": "q2FEe5dFuxzs"
      },
      "outputs": [],
      "source": [
        "#Exercise\n",
        "#calculate where the player will be after 1 step forward\n",
        "test_x, test_y = steps(..., pos_x, pos_y, dir_x, dir_y)\n",
        "\n",
        "# Now check to see if that move will work.\n",
        "checkMove(test_x, test_y)"
      ]
    },
    {
      "cell_type": "code",
      "execution_count": null,
      "metadata": {
        "id": "jmljPs9Duxzs"
      },
      "outputs": [],
      "source": [
        "print('x position:', pos_x)\n",
        "print('y position:', pos_y)\n",
        "\n",
        "# Do not modify the code below\n",
        "show_player(path,[pos_y,pos_x], direc=[dir_y, dir_x], show_direc=True) #Display current position"
      ]
    },
    {
      "cell_type": "markdown",
      "metadata": {
        "id": "Lb3uiTV4uxzs"
      },
      "source": [
        "Notice that the player hasn't actually moved. The `checkMove` function doesn't change the value of pos_x and pos_y - it just checks to see if a new position is still on the path.\n",
        "\n",
        "\n",
        "Because the `checkMove` function returns a boolean, we can use it in a conditional statement:"
      ]
    },
    {
      "cell_type": "code",
      "execution_count": null,
      "metadata": {
        "id": "7tY2NfWLuxzt"
      },
      "outputs": [],
      "source": [
        "# Example\n",
        "\n",
        "#make a forward step if possible.\n",
        "\n",
        "# Find out what the position would be after one step forward\n",
        "test_x, test_y = steps(..., ..., ..., ..., ...)\n",
        "\n",
        "# Use the test position to check if the player can make the move.\n",
        "# Make the move if it can, if not print out \"don't make that move\"\n",
        "if checkMove(test_x, test_y):\n",
        "    pos_x, pos_y= steps(...)\n",
        "\n",
        "else:\n",
        "    print(\"don't make that move\")\n",
        "\n",
        "\n",
        "    # Do not modify the code below\n",
        "show_player(path,[pos_y,pos_x], direc=[dir_y, dir_x], show_direc=True) #Display current position"
      ]
    },
    {
      "cell_type": "code",
      "execution_count": null,
      "metadata": {
        "id": "PYKa82kpuxzt"
      },
      "outputs": [],
      "source": [
        "#Example\n",
        "# We can see from the picture that we need to make a left turn next\n",
        "# Let's write a conditional statement to do that.\n",
        "\n",
        "# Find the new direction after turning left\n",
        "dir_x_test, dir_y_test = turnLeft(dir_x, dir_y)\n",
        "\n",
        "# Find the position after turning left and making one step\n",
        "pos_x_test, pos_y_test = steps(1, pos_x, pos_y, dir_x_test, dir_y_test)\n",
        "\n",
        "if checkMove(pos_x_test, pos_y_test):\n",
        "    # if it's okay, make the move\n",
        "    pos_x = pos_x_test\n",
        "    pos_y = pos_y_test\n",
        "    dir_x = dir_x_test\n",
        "    dir_y = dir_y_test\n",
        "else:\n",
        "    print(\"don't make that move\")\n",
        "\n",
        "\n",
        "\n",
        "# Do not modify the code below\n",
        "show_player(path,[pos_y,pos_x], direc=[dir_y, dir_x] ) #Display current position"
      ]
    },
    {
      "cell_type": "markdown",
      "metadata": {
        "id": "SopA9EL4uxzt"
      },
      "source": [
        "As a group write conditional statements that check the following:\n",
        "* If it is possible to turn right and if so, make that step\n",
        "* If it is possible to turn left and if so, make that step\n",
        "* If it is possible to jump"
      ]
    },
    {
      "cell_type": "code",
      "execution_count": null,
      "metadata": {
        "id": "yvgxxJYNuxzt"
      },
      "outputs": [],
      "source": [
        "#Example - Check to see if a right turn is possible, if it is, make that step\n",
        "\n",
        "#Find the new direction after turning right\n",
        "dir_x_test, dir_y_test = turnRight(dir_x, dir_y)\n",
        "\n",
        "#Find the position after turning right and taking 1 step\n",
        "pos_x_test, pos_y_test = steps(1, pos_x, pos_y, dir_x_test, dir_y_test)\n",
        "\n",
        "#Use conditional statements to check if the player can make the move\n",
        "#If the player can make the move, update its direction and position\n",
        "if checkMove(pos_x_test, pos_y_test):\n",
        "    dir_x, dir_y = turnRight(dir_x, dir_y)\n",
        "    pos_x, pos_y = steps(1, pos_x, pos_y, dir_x, dir_y)\n",
        "\n",
        "else:\n",
        "    print(\"don't make that move\")\n",
        "\n",
        "show_player(path,[pos_y,pos_x], direc=[dir_y, dir_x], show_direc=True) #Display current position"
      ]
    },
    {
      "cell_type": "code",
      "execution_count": null,
      "metadata": {
        "id": "-3rS3fkPuxzt"
      },
      "outputs": [],
      "source": [
        "#Exercise - Check to see if a LEFT turn is possible, if it is, make that step\n",
        "\n",
        "#Find the new direction after turning left\n",
        "dir_x_test, dir_y_test = turnLeft(...)\n",
        "\n",
        "#Find the position after turning left and taking 1 step\n",
        "pos_x_test, pos_y_test = steps(...)\n",
        "\n",
        "#Use conditional statements to check if the player can make the move\n",
        "#If the player can make the move, update its direction and position\n",
        "if checkMove(pos_x_test, pos_y_test):\n",
        "\n",
        "    dir_x, dir_y = ...\n",
        "    pos_x, pos_y = ...\n",
        "\n",
        "else:\n",
        "    print(\"don't make that move\")\n",
        "\n",
        "show_player(path,[pos_y,pos_x], direc=[dir_y, dir_x], show_direc=True) #Display current position"
      ]
    },
    {
      "cell_type": "code",
      "execution_count": null,
      "metadata": {
        "id": "qKgh8uY0uxzu"
      },
      "outputs": [],
      "source": [
        "#Exercise - Check to see if a jump is possible, if it is, make that move\n",
        "\n",
        "pos_x_test, pos_y_test = jump(...)\n",
        "\n",
        "if checkMove(pos_x_test, pos_y_test):\n",
        "\n",
        "    pos_x, pos_y = jump(...)\n",
        "\n",
        "else:\n",
        "    print(\"don't make that move\")\n",
        "\n",
        "show_player(path,[pos_y,pos_x], direc=[dir_y, dir_x], show_direc=True) #Display current position"
      ]
    },
    {
      "cell_type": "markdown",
      "metadata": {
        "id": "x8eifdDnuxzv"
      },
      "source": [
        "Let's make some functions that use these conditional statements.\n",
        "\n",
        "First let's make a function that checks if it is possible to make one step."
      ]
    },
    {
      "cell_type": "code",
      "execution_count": null,
      "metadata": {
        "id": "VgTDh0yiuxzv"
      },
      "outputs": [],
      "source": [
        "# Example\n",
        "def checkSteps(n, pos_x, pos_y, dir_x, dir_y):\n",
        "\n",
        "    pos_x_test, pos_y_test = steps(n, pos_x, pos_y, dir_x, dir_y)\n",
        "\n",
        "    if checkMove(pos_x_test, pos_y_test):\n",
        "        return True\n",
        "    else:\n",
        "        return False"
      ]
    },
    {
      "cell_type": "code",
      "execution_count": null,
      "metadata": {
        "id": "ZUG8UF9Vuxzw"
      },
      "outputs": [],
      "source": [
        "show_player(path,[pos_y,pos_x], direc=[dir_y, dir_x], show_direc=True) #Display current position\n",
        "\n",
        "checkSteps(1, pos_x, pos_y, dir_x, dir_y)"
      ]
    },
    {
      "cell_type": "markdown",
      "metadata": {
        "id": "rpe9GYjjuxzw"
      },
      "source": [
        "**Exercise:** Do the same thing but checking if turning right is a good idea."
      ]
    },
    {
      "cell_type": "code",
      "execution_count": null,
      "metadata": {
        "id": "6G0Us0b8uxzw"
      },
      "outputs": [],
      "source": [
        "def checkTurnR(pos_x, pos_y, dir_x, dir_y):\n",
        "\n",
        "    dir_x_test, dir_y_test = turnRight(...)\n",
        "    pos_x_test, pos_y_test = steps(...)\n",
        "\n",
        "    if checkMove(pos_x_test, pos_y_test):\n",
        "        return True\n",
        "    else:\n",
        "        return False\n"
      ]
    },
    {
      "cell_type": "code",
      "execution_count": null,
      "metadata": {
        "id": "SYNYozH5uxzw"
      },
      "outputs": [],
      "source": [
        "show_player(path,[pos_y,pos_x], direc=[dir_y, dir_x], show_direc=True) #Display current position\n",
        "\n",
        "checkTurnR(pos_x, pos_y, dir_x, dir_y)"
      ]
    },
    {
      "cell_type": "markdown",
      "metadata": {
        "id": "TsJlJcBRuxzw"
      },
      "source": [
        "Now do the same thing with `checkTurnL` and `checkJump`"
      ]
    },
    {
      "cell_type": "code",
      "execution_count": null,
      "metadata": {
        "id": "VbgkVVJzuxzw"
      },
      "outputs": [],
      "source": [
        "def checkTurnL(pos_x, pos_y, dir_x, dir_y):\n",
        "\n",
        "    dir_x_test, dir_y_test = turnLeft(...)\n",
        "    pos_x_test, pos_y_test = steps(...)\n",
        "\n",
        "    if checkMove(pos_x_test, pos_y_test):\n",
        "        return True\n",
        "    else:\n",
        "        return False\n"
      ]
    },
    {
      "cell_type": "code",
      "execution_count": null,
      "metadata": {
        "id": "iuD1VAX-uxzx"
      },
      "outputs": [],
      "source": [
        "show_player(path,[pos_y,pos_x], direc=[dir_y, dir_x], show_direc=True) #Display current position\n",
        "\n",
        "checkTurnL(pos_x, pos_y, dir_x, dir_y)"
      ]
    },
    {
      "cell_type": "code",
      "execution_count": null,
      "metadata": {
        "id": "1iGJvN1luxzx"
      },
      "outputs": [],
      "source": [
        "def checkJump(pos_x, pos_y, dir_x, dir_y):\n",
        "    pos_x_test, pos_y_test = jump(...)\n",
        "\n",
        "    if checkMove(pos_x_test, pos_y_test):\n",
        "        return True\n",
        "    else:\n",
        "        return False"
      ]
    },
    {
      "cell_type": "code",
      "execution_count": null,
      "metadata": {
        "id": "KOlcViAruxzy"
      },
      "outputs": [],
      "source": [
        "show_player(path,[pos_y,pos_x], direc=[dir_y, dir_x], show_direc=True) #Display current position\n",
        "\n",
        "checkTurnL(pos_x, pos_y, dir_x, dir_y)"
      ]
    },
    {
      "cell_type": "markdown",
      "metadata": {
        "id": "H33oe-rhuxzy"
      },
      "source": [
        "**EXTRA CHALLENGE:** Write a function `move`, that has inputs pos_x, pos_y, dir_x, dir_y and then outputs pos_x_new, pos_y_new, dir_x_new, dir_y_new of the player after the best move.\n"
      ]
    },
    {
      "cell_type": "code",
      "execution_count": null,
      "metadata": {
        "id": "8ucRVyTyuxzy"
      },
      "outputs": [],
      "source": [
        "def move(pos_x, pos_y, dir_x, dir_y):\n",
        "\n",
        "    if checkSteps(1, pos_x,pos_y, dir_x, dir_y): # check to see if the player can move one step forward\n",
        "        pos_x_new, pos_y_new = steps(...)\n",
        "        dir_x_new = dir_x # the direction doesn't change so the new direction values are the same.\n",
        "        dir_y_new = dir_y\n",
        "\n",
        "    elif checkTurnR(pos_x, pos_y, dir_x, dir_y): # the player turns right and takes a step.\n",
        "        dir_x_new, dir_y_new = ... # find new direction\n",
        "        pos_x_new, pos_y_new = ... # find new position\n",
        "\n",
        "    elif checkTurnL(pos_x, pos_y, dir_x, dir_y): # The player turns left and takes a step\n",
        "        ...\n",
        "        ...\n",
        "\n",
        "    else: # The player jumps forward.\n",
        "        ... # find the new position if the player jumps forwards\n",
        "        dir_x_new = dir_x # the direction doesn't change so the new direction values are the same\n",
        "        dir_y_new = dir_y\n",
        "\n",
        "    return pos_x_new, pos_y_new, dir_x_new, dir_y_new # return the new position and direction values\n",
        "\n"
      ]
    },
    {
      "cell_type": "code",
      "execution_count": null,
      "metadata": {
        "id": "_dR2uRBJuxzy"
      },
      "outputs": [],
      "source": [
        "# Let's test it out\n",
        "\n",
        "pos_x, pos_y, dir_x, dir_y = move(pos_x, pos_y, dir_x, dir_y)\n",
        "\n",
        "print(pos_x, pos_y, dir_x, dir_y)\n",
        "\n",
        "show_player(path,[pos_y,pos_x], direc=[dir_y, dir_x], show_direc=True) #Display current position"
      ]
    },
    {
      "cell_type": "markdown",
      "metadata": {
        "id": "O4PLYSNYkbqV"
      },
      "source": [
        "---\n",
        "# 5 - Using Loops in the Game <a name='section5'></a>"
      ]
    },
    {
      "cell_type": "markdown",
      "metadata": {
        "id": "eB1rVzQuLg-J"
      },
      "source": [
        "*Make sure you finish notebook 04 (Loops) before starting this challenge.*"
      ]
    },
    {
      "cell_type": "markdown",
      "metadata": {
        "id": "JXA2k1vhkbqV"
      },
      "source": [
        "#### For loops and the game\n",
        "Our player is currently at point (10,1)\n",
        "![](https://drive.google.com/uc?export=view&id=1jl9jhxeQxwk9Oq65JxyNhgKEX9QOKyJ_)\n",
        "\n",
        "Our player can move forward 8 steps. Use a loop and the function `step(position, direction)` to move our player forward"
      ]
    },
    {
      "cell_type": "code",
      "execution_count": null,
      "metadata": {
        "id": "Mar3MIVwkbqV"
      },
      "outputs": [],
      "source": [
        "# EXAMPLE\n",
        "position = [10,1]\n",
        "direction = [1,0]\n",
        "\n",
        "for s in ...:\n",
        "    position = step(position, direction)\n",
        "\n",
        "    # Do not modify the code below\n",
        "    show_player_2(path, position, direc=direction, show_direc=True) #Display current position\n",
        "    plt.show()\n"
      ]
    },
    {
      "cell_type": "markdown",
      "metadata": {
        "id": "qejvbpqdkbqW"
      },
      "source": [
        "####While loops and the game\n",
        "\n",
        "We'll once again starting at (10,1).\n",
        "![](https://drive.google.com/uc?export=view&id=1jl9jhxeQxwk9Oq65JxyNhgKEX9QOKyJ_)\n",
        "\n",
        "Suppose we don't know how many steps we can take.\n",
        "We can use a while loop to move as many steps as possible. You can check if a move will work by using the function\n",
        "`checkMove(position)` . Let's remind ourselves of the `checkMove` function works.\n"
      ]
    },
    {
      "cell_type": "code",
      "execution_count": null,
      "metadata": {
        "id": "RrNThJYSkbqW"
      },
      "outputs": [],
      "source": [
        "# if we move forward to (11,1), checkMove should return a true\n",
        "checkMove(11,1)"
      ]
    },
    {
      "cell_type": "code",
      "execution_count": null,
      "metadata": {
        "id": "SlqzFLRbkbqW"
      },
      "outputs": [],
      "source": [
        "# the point (3,8) isn't on the path, so checkMove should return a false\n",
        "checkMove(3,8)"
      ]
    },
    {
      "cell_type": "code",
      "execution_count": null,
      "metadata": {
        "id": "gxK5nrB1kbqW"
      },
      "outputs": [],
      "source": [
        "# EXERCISE\n",
        "pos_x = 10\n",
        "pos_y = 1\n",
        "dir_x = 1\n",
        "dir_y = 0\n",
        "\n",
        "\n",
        "test_x, test_y = steps(1, pos_x, pos_y, dir_x, dir_y) # you need this because you\n",
        "#want to test where your player would be if they were to step forward.\n",
        "\n",
        "while checkMove(...) :\n",
        "    pos_x = ... # move to the position you tested last time\n",
        "    pos_y = ...\n",
        "\n",
        "    test_x, test_y = steps(1, pos_x, pos_y, dir_x, dir_y) # where would the next step take you?\n",
        "\n",
        "    show_player(path,[pos_y, pos_x], [dir_y, dir_x], show_direc=True) #Display current position\n",
        "    plt.show()"
      ]
    },
    {
      "cell_type": "markdown",
      "metadata": {
        "id": "5ghY5XfrkbqW"
      },
      "source": [
        "### Challenge Exercise\n",
        "\n",
        "Using the move function from the previous section (4 - Using Conditionals...) write a loop that takes your player from the start (4,2) to the end (16, 13).\n",
        "\n",
        "Recall that the move function makes the best next move and is used as follows:\n",
        "`pos_x_new, pos_y_new, dir_x_new, dir_y_new = move(pos_x, pos_y, dir_x, dir_y)`\n"
      ]
    },
    {
      "cell_type": "code",
      "execution_count": null,
      "metadata": {
        "id": "Z3PATHu6kbqW"
      },
      "outputs": [],
      "source": [
        "#Let's put the player at the starting position\n",
        "\n",
        "pos_x = 4\n",
        "pos_y = 2\n",
        "dir_x = 1\n",
        "dir_y = 0\n",
        "\n",
        "show_player(path,[pos_y, pos_x], [dir_y, dir_x], show_direc=True) #Display current position"
      ]
    },
    {
      "cell_type": "code",
      "execution_count": null,
      "metadata": {
        "id": "ORjFyl5skbqX"
      },
      "outputs": [],
      "source": [
        "#Now use a while loop and the move function to move the player to the end (16,13)!\n",
        "\n",
        "while (... or ...):\n",
        "    ...\n",
        "\n",
        "show_player(path,[pos_y, pos_x], [dir_y, dir_x], show_direc=True) #Display current position"
      ]
    },
    {
      "cell_type": "markdown",
      "metadata": {
        "id": "1K6N0LFokbqX"
      },
      "source": [
        "Did you reach the end?"
      ]
    },
    {
      "cell_type": "markdown",
      "metadata": {
        "id": "GIhfGAonkbqX"
      },
      "source": [
        "---\n",
        "#6 - Extra Challenge: Plinko <a name='section6'></a>"
      ]
    },
    {
      "cell_type": "markdown",
      "metadata": {
        "id": "jImkY_GOkbqX"
      },
      "source": [
        "Have you ever played Plinko?\n",
        "![](https://drive.google.com/uc?export=view&id=1XQiZgU4qtbIo4sXVSrwY2EsFpE7OossT)\n",
        "\n",
        "As a table you are going to make your own virtual plinko game. Before you start typing code, plan how you are going to code this\n",
        "\n",
        "* This Pliko board has 9 columns.\n",
        "\n",
        "* Because the columns are zig-zagged, as it falls, for each row, the ball has a 50% chance of moving up or down half a column.\n",
        "* There are 15 rows. (There will have to be at least one loop)\n",
        "  \n",
        "* How will you figure out a way of modeling the 50% chance of motion?\n",
        "    * HINT: if you generate a random number using random.random() there is a 50% chance it will be less than 1/2.\n",
        "    * You will probably need a conditional statement for this part.\n",
        "\n",
        "* Don't forget that balls in columns 0 or 9 can only move one way (there will have to be a conditional statement)"
      ]
    },
    {
      "cell_type": "markdown",
      "metadata": {
        "id": "5CJVQwGBkbqX"
      },
      "source": [
        "It is a good idea to code each part seperately before making the final function that does everything.\n",
        "\n",
        "Use the cells below to experiment and figure out things and then fill in the blanks in the function below\n"
      ]
    },
    {
      "cell_type": "code",
      "execution_count": null,
      "metadata": {
        "id": "WObM_cQvkbqX"
      },
      "outputs": [],
      "source": [
        "random.random()"
      ]
    },
    {
      "cell_type": "code",
      "execution_count": null,
      "metadata": {
        "id": "iA_ahcG9kbqY"
      },
      "outputs": [],
      "source": []
    },
    {
      "cell_type": "code",
      "execution_count": null,
      "metadata": {
        "id": "J2Nc6FiJkbqY"
      },
      "outputs": [],
      "source": []
    },
    {
      "cell_type": "code",
      "execution_count": null,
      "metadata": {
        "id": "ew7rAj9kkbqY"
      },
      "outputs": [],
      "source": [
        "def plinko(col_start):\n",
        "    #this function will output the ending column.\n",
        "    #inputs: start: the column you drop the ball into (0-8)\n",
        "    #outputs: the final column (0-8)\n",
        "\n",
        "    col = col_start\n",
        "\n",
        "    for ...: #Loop through the rows\n",
        "\n",
        "        # make sure that if the ball is in column 0 it always moves up 1/2\n",
        "\n",
        "        if ...:\n",
        "            ...\n",
        "\n",
        "        # and if the ball is in column 9 it always moves down 1/2.\n",
        "        elif ...:\n",
        "            ...\n",
        "\n",
        "        # otherwise it randomly falls to one side or the other\n",
        "        else:\n",
        "            ... # generate random number\n",
        "            if ...: # random number is less than 1/2\n",
        "                ...\n",
        "            else:\n",
        "                ...\n",
        "\n",
        "    return col"
      ]
    },
    {
      "cell_type": "code",
      "execution_count": null,
      "metadata": {
        "id": "zmJK3_xJkbqY"
      },
      "outputs": [],
      "source": [
        "# Let's test out our Plinko game.\n",
        "plinko(4)"
      ]
    },
    {
      "cell_type": "code",
      "execution_count": null,
      "metadata": {
        "id": "xggho_1LkbqY"
      },
      "outputs": [],
      "source": [
        "# EXERCISE\n",
        "# Use a for loop and your plinko function to run 100 games\n",
        "# Start each game in column 4\n",
        "# Calculate the mean of its ending column\n",
        "\n",
        "sum_p = 0\n",
        "\n",
        "for ...:\n",
        "    sum_p += ...\n",
        "\n",
        "mean_p = ...\n",
        "\n",
        "print(mean_p)"
      ]
    },
    {
      "cell_type": "code",
      "execution_count": null,
      "metadata": {
        "id": "KKC260jskbqY"
      },
      "outputs": [],
      "source": [
        "# EXERCISE\n",
        "# Do the same thing but above, but with a different starting point.\n",
        "# How did it change the mean?\n",
        "\n",
        "...\n",
        "\n",
        "print(mean_p)"
      ]
    },
    {
      "cell_type": "markdown",
      "metadata": {
        "id": "tough-adolescent"
      },
      "source": [
        "---\n",
        "\n",
        "Notebook developed by: Laurel Hales, Alisa Bettale, Lawrence Chen, Sage Miller"
      ]
    }
  ],
  "metadata": {
    "colab": {
      "provenance": []
    },
    "kernelspec": {
      "display_name": ".venv",
      "language": "python",
      "name": "python3"
    },
    "language_info": {
      "codemirror_mode": {
        "name": "ipython",
        "version": 3
      },
      "file_extension": ".py",
      "mimetype": "text/x-python",
      "name": "python",
      "nbconvert_exporter": "python",
      "pygments_lexer": "ipython3",
      "version": "3.11.1"
    },
    "vscode": {
      "interpreter": {
        "hash": "1de2c9b99b67c74942ae62ba9f4273989cfcd06b191aeb61677ac908252bed7d"
      }
    }
  },
  "nbformat": 4,
  "nbformat_minor": 0
}
