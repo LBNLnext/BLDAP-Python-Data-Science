{
  "cells": [
    {
      "cell_type": "markdown",
      "metadata": {
        "id": "KVkcZATI4E1O"
      },
      "source": [
        "# Design a Phone with the Materials Project\n",
        "\n",
        "Today, you will leverage the properties computed by the [Materials Project](https://materialsproject.org) to design a mobile phone.\n",
        "\n",
        "## The Materials Project dataset\n",
        "\n",
        "The Materials Project is an organization based at Lawrence Berkeley National Laboratory that aims to calculate the properties of all known materials. With this knowledge, we can accelerate the discovery of new materials without having to perform any experiments. All our calculations are performed on supercomputers, allowing our computations, data, and algorithms to run at unparalleled speed.\n",
        "\n",
        "The dataset you will be exploring has been compiled from the Materials Project database of calculated material properties. It only includes crystalline materials (think diamond, metals, metal oxides such as rust, etc) and not amorphous materials (such as rubber, plastics, or glass). In the database you will be exploring, we have only included the properties that are useful for choosing mobile phone components:\n",
        "\n",
        "- `material_id`: This is the identification number of the material. You can use this to search the material on the Materials Project website. For example, you can see more information about the first material in the dataset (mp-770629) by going to the following url: https://materialsproject.org/materials/mp-770629\n",
        "- `formula`: The chemical formula indicating the number and type of elements in the material.\n",
        "- `cost`: The cost of the raw elements in the material in \\$/kg.\n",
        "- `scarcity`: How scarce the raw elements are. Larger numbers indicate that the elements will be harder to find and occur less frequently in the earths crust.\n",
        "- `density`: The density of the material in g/cm<sup>3</sup>.\n",
        "- `conductivity`: The conductivity of the material. Larger numbers indicate the material is more conductive.\n",
        "- `transparency`: The transparency of the material. Larger numbers indicate the material is more transparent.\n",
        "- `hardness`: The hardness of the material. Larger numbers indicate stronger materials.\n",
        "- `voltage`: The maximum obtainable voltage if the material is used in a battery.\n",
        "- `capacitance`: The maximum obtainable capacitance if the material is used in a battery.\n",
        "\n",
        "To start with, let's load the dataset as a Pandas `DataFrame`."
      ]
    },
    {
      "cell_type": "code",
      "execution_count": null,
      "metadata": {
        "id": "HXbkfrpU4E1P"
      },
      "outputs": [],
      "source": [
        "import pandas as pd\n",
        "\n",
        "material_data = pd.read_csv(\"https://raw.githubusercontent.com/utf/mp-bldap/master/resources/materials_project_dataset.csv\")"
      ]
    },
    {
      "cell_type": "markdown",
      "metadata": {
        "id": "zBePR9sI_-ut"
      },
      "source": [
        "### Manipulating and examining pandas `DataFrame` objects"
      ]
    },
    {
      "cell_type": "markdown",
      "metadata": {
        "id": "Qz0HciMQ_-ut"
      },
      "source": [
        "You can think of `DataFrame` objects as a type of \"spreadsheet\" object in Python. DataFrames have several useful methods you can use to explore and clean the data, some of which we'll explore below.\n",
        "\n",
        "#### Inspecting the dataset\n",
        "\n",
        "The `head()` function prints a summary of the first few rows of a data set. You can scroll across to see more columns. From this, it is easy to see the types of data available in in the dataset. Some values are `NaN` which means 'not a number' to indicate missing data. Missing data might mean that we have not calculated that property yet, for example."
      ]
    },
    {
      "cell_type": "code",
      "execution_count": null,
      "metadata": {
        "id": "FdJWZ3oM_-uu"
      },
      "outputs": [],
      "source": [
        "material_data.head()"
      ]
    },
    {
      "cell_type": "code",
      "execution_count": null,
      "metadata": {
        "id": "lWIUQD5ylCGn"
      },
      "outputs": [],
      "source": [
        "material_data[material_data['formula'] == 'Al']"
      ]
    },
    {
      "cell_type": "markdown",
      "metadata": {
        "id": "DNPwVzct_-ux"
      },
      "source": [
        "You can immediately see that not all properties are available for every material. For example, the hardness, voltage, and capacitance values are empty (set to `NaN` which means 'not a number') for the first 5 materials shown above.\n",
        "\n",
        "Sometimes, if a dataset is very large, you will be unable to see all the available columns. Instead, you can see the full list of columns using the `columns` attribute:"
      ]
    },
    {
      "cell_type": "code",
      "execution_count": null,
      "metadata": {
        "id": "SswIz6Yl_-ux"
      },
      "outputs": [],
      "source": [
        "material_data.columns"
      ]
    },
    {
      "cell_type": "markdown",
      "metadata": {
        "id": "-SEfbOe9_-u0"
      },
      "source": [
        "#### Indexing the dataset"
      ]
    },
    {
      "cell_type": "markdown",
      "metadata": {
        "id": "h9LTmbZC_-u0"
      },
      "source": [
        "We can access a particular column of `DataFrame` by indexing the object using the column name. For example:"
      ]
    },
    {
      "cell_type": "code",
      "execution_count": null,
      "metadata": {
        "id": "GRwLb5Ki_-u1",
        "scrolled": true
      },
      "outputs": [],
      "source": [
        "material_data[\"formula\"]"
      ]
    },
    {
      "cell_type": "markdown",
      "metadata": {
        "id": "3boAFmdy_-u3"
      },
      "source": [
        "Alternatively, we can access a particular row of a `Dataframe` using the `iloc` attribute."
      ]
    },
    {
      "cell_type": "code",
      "execution_count": null,
      "metadata": {
        "id": "gydE7BpL_-u3"
      },
      "outputs": [],
      "source": [
        "material_data.iloc[100]"
      ]
    },
    {
      "cell_type": "markdown",
      "metadata": {
        "id": "mLQ2_dHQ_-u6"
      },
      "source": [
        "#### Filtering the dataset"
      ]
    },
    {
      "cell_type": "markdown",
      "metadata": {
        "id": "gvFKrqi9_-u6"
      },
      "source": [
        "Pandas `DataFrame` objects make it very easy to filter the data based on a specific column. We can use the typical Python comparison operators (==, >, >=, <, etc) to filter numerical values. For example, let's find all entries where the cell density is greater than 5. We do this by filtering on the `density` column.\n",
        "\n",
        "Note that we first produce a series of `True` and `False` depending on the comparison. We can then use this filter to index the `DataFrame`."
      ]
    },
    {
      "cell_type": "code",
      "execution_count": null,
      "metadata": {
        "id": "tgYXsVgA_-u7",
        "scrolled": true
      },
      "outputs": [],
      "source": [
        "density_filter = material_data[\"density\"] > 5\n",
        "material_data[density_filter]"
      ]
    },
    {
      "cell_type": "markdown",
      "metadata": {
        "id": "UTtzBmjE4E1c"
      },
      "source": [
        "## Task 1: Data cleaning\n",
        "\n",
        "The first thing you should do with any dataset is make sure the data is formatted correctly and makes sense. If you start with garbage data, whatever analysis you perform is likely to produce garbage results. Even the Materials Project isn't immune to malformed or nonsensical data now and again.\n",
        "\n",
        "Pandas `DataFrame`'s include a function called `describe()` that helps determine statistics for the various numerical/categorical columns in the data. You should use the `describe()` function to get a feel for the dataset. Look at the min and max values for each of the columns. Do you see anything strange?"
      ]
    },
    {
      "cell_type": "code",
      "execution_count": null,
      "metadata": {
        "id": "yeB6hvJ9_-u9"
      },
      "outputs": [],
      "source": [
        "# EXERCISE\n",
        "\n",
        "material_data...."
      ]
    },
    {
      "cell_type": "markdown",
      "metadata": {
        "id": "uKmVvNbV_-u_"
      },
      "source": [
        "If you noticed anything strange about the `\"density\"` column, well done. The density of a material is its mass per volume, therefore it doesn't make sense to have negative density — as a side note, negative density materials would allow us to [create wormholes through space and time](https://en.wikipedia.org/wiki/Negative_energy) but that is beyond the scope of this tutorial.\n",
        "\n",
        "We can look into this discrepancy in more detail by plotting a histogram (distribution plot) of the density values. To do this, run the `plot.hist()` command on the `\"density\"` column. Create a histogram with 50 bins by using the `bins=` argument. Do you notice anything odd about the distribution?"
      ]
    },
    {
      "cell_type": "code",
      "execution_count": null,
      "metadata": {
        "id": "id9xBXIN_-vA"
      },
      "outputs": [],
      "source": [
        "# EXERCISE\n",
        "\n",
        "material_data[\"...\"].plot.hist(...)"
      ]
    },
    {
      "cell_type": "markdown",
      "metadata": {
        "id": "mrNRd3Tk_-vB"
      },
      "source": [
        "That peak at around -10 indicates a signficant amount of the density data has been entered into the database incorrectly. We should remove all these outliers before doing any further analysis. To do this, we will overwrite the `material_data` variable with a dataframe containing materials with positive densities only."
      ]
    },
    {
      "cell_type": "code",
      "execution_count": null,
      "metadata": {
        "id": "ruFT760X_-vC"
      },
      "outputs": [],
      "source": [
        "# EXERCISE\n",
        "\n",
        "material_data = material_data[material_data[\"...\"] > ...]"
      ]
    },
    {
      "cell_type": "markdown",
      "metadata": {
        "id": "woVuGiDT_-vE"
      },
      "source": [
        "Let's check to make sure all negative density values were removed by running `describe()` again."
      ]
    },
    {
      "cell_type": "code",
      "execution_count": null,
      "metadata": {
        "id": "P4JmgtrD_-vE"
      },
      "outputs": [],
      "source": [
        "material_data.describe()"
      ]
    },
    {
      "cell_type": "markdown",
      "metadata": {
        "id": "GtyMtKJQ4E1h"
      },
      "source": [
        "## The Challenge: Designing a Mobile Phone\n",
        "\n",
        "A mobile phone is constructed of multiple components. Each component has different material property requirements, summarised in the graphic below.\n",
        "\n",
        "<br>\n",
        "<img src=\"https://raw.githubusercontent.com/utf/mp-bldap/master/resources/phone-01.png\" width=800px>\n",
        "\n",
        "In addition to these requirements, all materials should also be:\n",
        "- As cheap as possible (i.e., low cost).\n",
        "- As available as possible (i.e., low scarcity).\n",
        "- As light as possible (i.e., low density).\n",
        "\n",
        "Your task in this session will be to choose materials that satisfy the above requirements. Your choices will then be assessed to determine if they will make a good mobile phone.\n",
        "\n",
        "The mobile phone manufacturers we are using have a hard limit on the scarcity of the materials they use. **You must make sure that the materials you choose are in the bottom 50 % of the scarcity of all materials.**"
      ]
    },
    {
      "cell_type": "markdown",
      "metadata": {
        "id": "oUXIur-B4E1l"
      },
      "source": [
        "## Task 2: Calculating the cost per volume of material\n",
        "\n",
        "In our dataset, the cost for each material is given per unit mass (in \\\\$/kg). However, when building a mobile phone, we generally know the volume of material we will need, not the mass. You should therefore add a new column to the dataset containing the cost per unit volume (in \\\\$/cm<sup>3</sup>).\n",
        "\n",
        "To calculate the cost per volume, you will need to use the density (in g/cm<sup>3</sup>). The equation is:\n",
        "\n",
        "$$\n",
        "\\text{cost per volume} = \\text{cost per mass} \\times \\text{density}\n",
        "$$\n",
        "\n",
        "*BUT you will need to first convert the density to kg/cm<sup>3</sup>*.\n",
        "\n",
        "**Aim**: Create a new column called `volume_cost` that contains the cost per volume in $/cm<sup>3</sup>.\n",
        "\n",
        "*Hints*:\n",
        "\n",
        "In Pandas, you can add a new column by giving it a name and assigning it the value of a mathematical operation *using other column names as variables*. For example, to make a new column \"A times B\" that contains the product of columns 'A' and 'B', you could write\n",
        "\n",
        "```python\n",
        "material_data[\"A times B\"] = material_data[\"A\"] * material_data[\"B\"]\n",
        "```"
      ]
    },
    {
      "cell_type": "code",
      "execution_count": null,
      "metadata": {
        "id": "5zDgrkmb4E1l"
      },
      "outputs": [],
      "source": [
        "# EXERCISE\n",
        "\n",
        "material_data[\"volume_cost\"] = material_data[\"...\"] * material_data[\"...\"] / 1000"
      ]
    },
    {
      "cell_type": "markdown",
      "metadata": {
        "id": "b7F6F1HL_-vJ"
      },
      "source": [
        "You can check that the new column was added correctly buy calling the `head()` function on the dataframe."
      ]
    },
    {
      "cell_type": "code",
      "execution_count": null,
      "metadata": {
        "id": "k_f09sIJ_-vJ"
      },
      "outputs": [],
      "source": [
        "material_data.head()"
      ]
    },
    {
      "cell_type": "markdown",
      "metadata": {
        "id": "aVKgtNJQ4E1n"
      },
      "source": [
        "## Task 3: Choosing a protective casing material\n",
        "\n",
        "How many times have you dropped your mobile phone? Did the screen crack? Imagine if the back of your phone was made of glass... it would be much more prone to breaking. Now you can understand the importance of having a hard and durable material to make up the protective back casing.\n",
        "\n",
        "You need to decide what material you will use for the back of your phone. It needs to be hard but also cheap because you will use a lot of it. It should also have low elemental scarcity.\n",
        "\n",
        "**The protective casing will use 5 cm<sup>3</sup> of material.**\n",
        "\n",
        "Requirements:\n",
        "- Hardness: high (greater than 200)\n",
        "- Total cost: low (less than $ 0.05)\n",
        "- Scarcity: low (in the bottom 50% of all materials)\n",
        "\n",
        "**Aim**: Choose a material for the back of your phone. You should assign the `material_id` of your chosen material to the `back_material` variable.\n",
        "\n",
        "\n",
        "*Hints*:\n",
        "You can chain filters together using `&` (and) and `|` (or). For example,\n",
        "```python\n",
        "(material_data[\"density\"] > 10) & (material_data[\"density\"] < 20)\n",
        "```\n",
        "checks whether the density falls between 10 and 20, whereas\n",
        "```python\n",
        "(material_data[\"density\"] < 10) | (material_data[\"density\"] > 20)\n",
        "```\n",
        "checks whether the density falls outside the 10-20 range. **The brackets around the different clauses are required**.\n",
        "\n",
        "The above lines will return a Series of `True` and `False` values for the rows that match or don't match the filter. To get a dataframe with the rows you want, you should index your dataframe with the filter. I.e.\n",
        "```python\n",
        "density_filter = (material_data[\"density\"] > 10) & (material_data[\"density\"] < 20)\n",
        "material_data[density_filter]\n",
        "```"
      ]
    },
    {
      "cell_type": "code",
      "execution_count": null,
      "metadata": {
        "id": "QdggZzFN4E1o"
      },
      "outputs": [],
      "source": [
        "# EXERCISE - Fill in numbers below that meet the hardness, cost, and scarcity requirements above:\n",
        "\n",
        "hardness_filter = (\n",
        "    (material_data[\"hardness\"] > ...)\n",
        "    & (material_data[\"volume_cost\"] * 5 < ...) # Why are we multiplying volume cost by 5?\n",
        "    & (material_data[\"scarcity\"] < ...) # HINT: You can find the scarcity at 50% when you ran the describe() function earlier\n",
        ")\n",
        "\n",
        "# Let's see what we get when we apply the filter, sorting by density (low to high)\n",
        "material_data[hardness_filter].sort_values(\"density\")"
      ]
    },
    {
      "cell_type": "markdown",
      "metadata": {
        "id": "5xvkqbuO4E1q"
      },
      "source": [
        "Once you have decided on a protective casing material. Fill in the cell below with the material_id of the material of your choice."
      ]
    },
    {
      "cell_type": "code",
      "execution_count": null,
      "metadata": {
        "id": "uyBffFKm4E1q"
      },
      "outputs": [],
      "source": [
        "# Complete task below by replacing mp_xxxxx\n",
        "\n",
        "back_material = \"mp-xxxxxx\""
      ]
    },
    {
      "cell_type": "markdown",
      "metadata": {
        "id": "ENk27FPo4E1s"
      },
      "source": [
        "## Task 4: Choosing a battery material\n",
        "\n",
        "The discovery of lithium-ion batteries is one of the greatest scientific achievements of the last 50 years and was recently recognised by 2019 Nobel Prize in Chemistry.\n",
        "\n",
        "You need to choose a battery material for your phone using the battery properties calculated by the Materials Project. It should have a high voltage and large capactiance so that your customers can continue browsing TikTok as long as possible. Like all other materials in your phone, it should also be cheap and have low elemental scarcity.\n",
        "\n",
        "**The battery will use 3 cm<sup>3</sup> of material.**\n",
        "\n",
        "Requirements:\n",
        "- Capacitance: high (greater than 320)\n",
        "- Voltage: high (greater than 3.0)\n",
        "- Total cost: low (less than $ 0.1)\n",
        "- Scarcity: low (in the bottom 50% of all materials)\n",
        "\n",
        "**Aim**: Choose a material for the battery of your phone. You should assign the `material_id` of your chosen material to the `battery_material` variable."
      ]
    },
    {
      "cell_type": "code",
      "execution_count": null,
      "metadata": {
        "id": "MahHFtZ-4E1s"
      },
      "outputs": [],
      "source": [
        "# EXERCISE - Fill in numbers below that meet the capacitance, voltage, cost, and scarcity requirements above:\n",
        "\n",
        "battery_filter = (\n",
        "    (material_data[\"capacitance\"] > ...)\n",
        "    & (material_data[\"voltage\"] > ...)\n",
        "    & (material_data[\"volume_cost\"] * 3 < ...) # Why are we multiplying volume cost by 3?\n",
        "    & (material_data[\"scarcity\"] < ...) # HINT: You can find the scarcity at 50% when you ran the describe() function earlier\n",
        ")\n",
        "\n",
        "material_data[battery_filter].sort_values(\"density\")"
      ]
    },
    {
      "cell_type": "markdown",
      "metadata": {
        "id": "FvV6aopX4E1u"
      },
      "source": [
        "Once you have decided on a battery material. Fill in the cell below with the material_id of the material of your choice."
      ]
    },
    {
      "cell_type": "code",
      "execution_count": null,
      "metadata": {
        "id": "EjjCVyxm4E1u"
      },
      "outputs": [],
      "source": [
        "# Complete task below by replacing mp_xxxxx\n",
        "\n",
        "battery_material = \"mp-xxxxx\""
      ]
    },
    {
      "cell_type": "markdown",
      "metadata": {
        "id": "kvMFQdVd4E1w"
      },
      "source": [
        "## Task 5: Choosing a conductive transparent coating\n",
        "\n",
        "You might not notice it but the screen of every phone is covered in a remarkable material. Like a metal, this material is highly conductive so it can register the precise position of your finger; however, unlike a metal it is completely transparent and allows you to see the screen underneath. These materials are called \"transparent conductors\" and have also been used in windshields of fighter jets and supermarket freezer windows to stop them frosting up.\n",
        "\n",
        "You need to choose a transparent conducting material for your phone using the properties calculated by the Materials Project. It should have a high transparency and large conductivity. Like all other materials in your phone, it should also be cheap and have low elemental scarcity.\n",
        "\n",
        "**The transparent coating will use 1 cm<sup>3</sup> of material.**\n",
        "\n",
        "Requirements:\n",
        "- Transparency: high (greater than 0.8)\n",
        "- Conductivity: high (greater than 80)\n",
        "- Total cost: low (less than \\$ 1)\n",
        "- Scarcity: low (in the bottom 50% of all materials)\n",
        "\n",
        "**Aim**: Choose a transparent coating for your phone. You should assign the `material_id` of your chosen material to the `transparent_material` variable."
      ]
    },
    {
      "cell_type": "code",
      "execution_count": null,
      "metadata": {
        "id": "4aOstcBj4E1w"
      },
      "outputs": [],
      "source": [
        "# EXERCISE - Fill in numbers below that meet the transparency, conductivity, cost, and scarcity requirements above:\n",
        "\n",
        "transparent_filter = (\n",
        "    (material_data[\"transparency\"] > ...)\n",
        "    & (material_data[\"conductivity\"] > ...)\n",
        "    & (material_data[\"volume_cost\"] * 1 < ...)\n",
        "    & (material_data[\"scarcity\"] < ...)\n",
        ")\n",
        "\n",
        "material_data[transparent_filter].sort_values(\"density\")"
      ]
    },
    {
      "cell_type": "markdown",
      "metadata": {
        "id": "Uz3mLY7d4E1y"
      },
      "source": [
        "Once you have decided on a transparent coating material. Fill in the cell below with the material_id of the material of your choice."
      ]
    },
    {
      "cell_type": "code",
      "execution_count": null,
      "metadata": {
        "id": "OwH1FYa-4E1y"
      },
      "outputs": [],
      "source": [
        "# Complete task below by replacing mp_xxxxx\n",
        "\n",
        "transparent_material = \"mp-13032\""
      ]
    },
    {
      "cell_type": "markdown",
      "metadata": {
        "id": "JrASjl--4E10"
      },
      "source": [
        "## Task 6: Will your phone make it to market?\n",
        "\n",
        "We have designed an advanced algorithm to determine whether your phone will be commercially successful. Run the cell below to evaluate your phone..."
      ]
    },
    {
      "cell_type": "code",
      "execution_count": null,
      "metadata": {
        "id": "dp60lwkd4E12"
      },
      "outputs": [],
      "source": [
        "import pandas as pd\n",
        "import numpy as np\n",
        "\n",
        "ref_material_data = pd.read_csv(\"https://raw.githubusercontent.com/utf/mp-bldap/master/resources/materials_project_dataset.csv\")\n",
        "max_scarcity = ref_material_data.describe().loc[\"50%\"][\"scarcity\"]\n",
        "back_criteria = {\"hardness\": 200, \"amount\": 5, \"total_cost\": 0.05, \"high_weight\": 15}\n",
        "battery_criteria = {\"capacitance\": 320, \"voltage\": 3.0, \"amount\": 3, \"total_cost\": 0.1, \"high_weight\": 12}\n",
        "transparent_criteria = {\"transparency\": 0.8, \"conductivity\": 80, \"amount\": 1, \"total_cost\": 1, \"high_weight\": 12}\n",
        "\n",
        "\n",
        "def evaluate_material(material_id, amount, total_cost, high_weight, **kwargs):\n",
        "    data = dict(material_data[material_data[\"material_id\"] == material_id].iloc[0])\n",
        "    warnings = []\n",
        "    score = 1\n",
        "\n",
        "    for prop, limit in kwargs.items():\n",
        "        if np.isnan(data[prop]):\n",
        "            warnings.append(\"The {} hasn't been calculated for this material\".format(prop))\n",
        "            score -= 0.3\n",
        "        elif data[prop] < limit:\n",
        "            warnings.append(\"The {} is less than {}\".format(prop, limit))\n",
        "            score -= 0.2\n",
        "\n",
        "    if data[\"scarcity\"] > max_scarcity:\n",
        "        warnings.append(\"The scarcity is in the top 50% of all materials\")\n",
        "        score -= 0.2\n",
        "\n",
        "    if data[\"density\"] * data[\"cost\"] * amount / 1000 > total_cost:\n",
        "        warnings.append(\"The total cost is more than {:.2f}$\".format(total_cost))\n",
        "        score -= 0.2\n",
        "\n",
        "    if data[\"density\"] * amount > high_weight:\n",
        "        warnings.append(\"The total weight is quite high\")\n",
        "\n",
        "    score *= 0.5 + 0.5 * min(1, high_weight / (data[\"density\"] * amount))\n",
        "    return score, warnings\n",
        "\n",
        "def print_component(name, score, warnings):\n",
        "    print(\"{} Material:\".format(name))\n",
        "    if len(warnings) > 0:\n",
        "        print(\"  - Issues:\")\n",
        "        print(\"\\n\".join([\"      o \" + w for w in warnings]))\n",
        "    else:\n",
        "        print(\"  - No issues!\")\n",
        "    print(\"  - Score: {:.0f}/100\\n\\n\".format(score * 100))\n",
        "\n",
        "def print_message(total_sold):\n",
        "    messages = {\n",
        "        (0, 50000): \"Darn, this phone flopped almost as much as the Windows phone. Better luck next time.\",\n",
        "        (50000, 1000000): \"Not an amazing success, not a complete failure. You narrowly avoid going backrupt in the process.\",\n",
        "        (1000000, 300000000): \"Impressive! This is as popular as the Nokia 3310. Who remembers that phone? ... Just me? Ok.\",\n",
        "        (300000000, np.inf): \"Wow, this phone was a hit. Apple, watch out!\"\n",
        "    }\n",
        "    for (min_p, max_p), message in messages.items():\n",
        "        if min_p < total_sold <= max_p:\n",
        "            print(\"\\n\" + message)\n",
        "\n",
        "def evaluate_mobile_device():\n",
        "    components = {\"back\": back_material,\n",
        "                  \"battery\": battery_material,\n",
        "                  \"transparent\": transparent_material}\n",
        "\n",
        "    for name, material in components.items():\n",
        "        if not any(material_data[\"material_id\"].str.contains(material)):\n",
        "            print(\"Opps, it looks like your {} material is not a valid material_id.\".format(name))\n",
        "            return\n",
        "\n",
        "    back_score, back_warnings = evaluate_material(back_material, **back_criteria)\n",
        "    battery_score, battery_warnings = evaluate_material(battery_material, **battery_criteria)\n",
        "    transparent_score, transparent_warnings = evaluate_material(transparent_material, **transparent_criteria)\n",
        "\n",
        "    total_score = (back_score + battery_score + transparent_score) / 3\n",
        "    noise = np.random.random() * 0.5 + 0.5\n",
        "    phones_sold = noise * 1.5 ** (total_score * 50)\n",
        "\n",
        "    print_component(\"Back\", back_score, back_warnings)\n",
        "    print_component(\"Battery\", battery_score, battery_warnings)\n",
        "    print_component(\"Transparent Coating\", transparent_score, transparent_warnings)\n",
        "\n",
        "    print(\"\\nTotal score: {:.0f} / 100\".format(total_score * 100))\n",
        "    print(\"Total phones sold: {:,.0f}\".format(phones_sold))\n",
        "    print_message(phones_sold)\n",
        "\n",
        "\n",
        "evaluate_mobile_device()"
      ]
    },
    {
      "cell_type": "markdown",
      "metadata": {
        "id": "0NioB9YnDFV_"
      },
      "source": [
        "Notebook developed by: Alex Ganose, Ryan Kingsbury, Jianli Cheng, Alisa Bettale"
      ]
    }
  ],
  "metadata": {
    "colab": {
      "provenance": []
    },
    "kernelspec": {
      "display_name": ".venv",
      "language": "python",
      "name": "python3"
    },
    "language_info": {
      "codemirror_mode": {
        "name": "ipython",
        "version": 3
      },
      "file_extension": ".py",
      "mimetype": "text/x-python",
      "name": "python",
      "nbconvert_exporter": "python",
      "pygments_lexer": "ipython3",
      "version": "3.11.1"
    },
    "vscode": {
      "interpreter": {
        "hash": "1de2c9b99b67c74942ae62ba9f4273989cfcd06b191aeb61677ac908252bed7d"
      }
    }
  },
  "nbformat": 4,
  "nbformat_minor": 0
}
