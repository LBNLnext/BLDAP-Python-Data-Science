{
  "cells": [
    {
      "cell_type": "markdown",
      "metadata": {
        "id": "KVkcZATI4E1O"
      },
      "source": [
        "# Materials Discovery Using Machine Learning\n",
        "\n",
        "In the previous Cell Phone Design Challenge, you may have noticed that not all properties (conductivity, voltage, hardness, etc.) have been computed for every material in our dataset from the [Materials Project](https://materialsproject.org).\n",
        "\n",
        "In this notebook, we will train a machine learning model to predict the hardness of a material based only on its density. You will then fill in the missing hardness data and look for promising materials using your predicted data."
      ]
    },
    {
      "cell_type": "markdown",
      "metadata": {
        "id": "6LRnHvxqG3v9"
      },
      "source": [
        "### Table of Contents\n",
        "\n",
        "1 - [EDA and Review](#section1)<br>\n",
        "\n",
        "2 - [Training Our Machine Learning Model](#section2)<br>\n",
        "\n",
        "&nbsp;&nbsp;&nbsp;&nbsp;&nbsp;&nbsp; 2.1 - [Preprocess Your Data](#subsection1)<br>\n",
        "\n",
        "&nbsp;&nbsp;&nbsp;&nbsp;&nbsp;&nbsp; 2.2 - [Specify A Model](#subsection2)<br>\n",
        "\n",
        "&nbsp;&nbsp;&nbsp;&nbsp;&nbsp;&nbsp; 2.3 - [Train the Model](#subsection3)<br>\n",
        "\n",
        "&nbsp;&nbsp;&nbsp;&nbsp;&nbsp;&nbsp; 2.4 - [Evaluate the Model](#subsection4)<br>\n",
        "\n",
        "3 - [Predicting the Hardness of Novel Materials](#section3)<br>\n",
        "\n",
        "4 - [Bonus: Testing Different Models](#section4)<br>"
      ]
    },
    {
      "cell_type": "markdown",
      "metadata": {
        "id": "3tpxyEFqG3v-"
      },
      "source": [
        "## 1. EDA and Review<a name='section1'></a>"
      ]
    },
    {
      "cell_type": "markdown",
      "metadata": {
        "id": "duI-Uj7UG3v-"
      },
      "source": [
        "Before we get started, let's remind ourselves what our dataset looks like by doing some EDA (Exploratory Data Analysis). Recall that the properties are as follows:\n",
        "\n",
        "- `material_id`: This is the identification number of the material. You can use this to search the material on the Materials Project website. For example, you can see more information about the first material in the dataset (mp-770629) by going to the following url: https://materialsproject.org/materials/mp-770629\n",
        "- `formula`: The chemical formula indicating the number and type of elements in the material.\n",
        "- `cost`: The cost of the raw elements in the material in \\$/kg.\n",
        "- `scarcity`: How scarce the raw elements are. Larger numbers indicate that the elements will be harder to find and occur less frequently in the earths crust.\n",
        "- `density`: The density of the material in g/cm<sup>3</sup>.\n",
        "- `conductivity`: The conductivity of the material. Larger numbers indicate the material is more conductive.\n",
        "- `transparency`: The transparency of the material. Larger numbers indicate the material is more transparent.\n",
        "- `hardness`: The hardness of the material. Larger numbers indicate stronger materials.\n",
        "- `voltage`: The maximum obtainable voltage if the material is used in a battery.\n",
        "- `capacitance`: The maximum obtainable capacitance if the material is used in a battery.\n",
        "\n",
        "\n",
        "We will first import libraries we need for this notebook, load the dataset as a Pandas Dataframe, and quickly clean the data:"
      ]
    },
    {
      "cell_type": "code",
      "execution_count": null,
      "metadata": {
        "colab": {
          "base_uri": "https://localhost:8080/",
          "height": 206
        },
        "id": "HXbkfrpU4E1P",
        "outputId": "0dfd35fd-02b4-4229-e1d0-792683f65bf2"
      },
      "outputs": [],
      "source": [
        "import numpy as np\n",
        "import pandas as pd\n",
        "\n",
        "material_data = pd.read_csv(\"https://raw.githubusercontent.com/utf/mp-bldap/master/resources/materials_project_dataset.csv\")\n",
        "\n",
        "#Remove the negative densities (this was explained in the previous notebook)\n",
        "material_data = material_data[material_data[\"density\"] > 0]\n",
        "\n",
        "#Examine the dataset using the head() function\n",
        "material_data.head()"
      ]
    },
    {
      "cell_type": "markdown",
      "metadata": {
        "id": "81MGL_K1G3wB"
      },
      "source": [
        "In the three cells below, use some functions (other than `head()`) on the dataframe `material_data` to do some **Exploratory Data Analysis** to explore the data:"
      ]
    },
    {
      "cell_type": "code",
      "execution_count": null,
      "metadata": {
        "id": "BJ2SZvTOG3wB"
      },
      "outputs": [],
      "source": [
        "#Exploratory Data Analysis 1\n",
        "\n",
        "#This can be tail, info, columns, describe, mean, median, mode, etc.\n",
        "\n",
        "material_data...."
      ]
    },
    {
      "cell_type": "code",
      "execution_count": null,
      "metadata": {
        "id": "-qebkpFjG3wB"
      },
      "outputs": [],
      "source": [
        "#Exploratory Data Analysis 2\n",
        "\n",
        "..."
      ]
    },
    {
      "cell_type": "code",
      "execution_count": null,
      "metadata": {
        "id": "ocaRCB2_G3wC"
      },
      "outputs": [],
      "source": [
        "#Exploratory Data Analysis 3\n",
        "\n",
        "..."
      ]
    },
    {
      "cell_type": "markdown",
      "metadata": {
        "id": "azNlDwakG3wC"
      },
      "source": [
        "### Review: Filtering Data\n",
        "\n",
        "In the previous notebook, we filtered data based on specific columns.\n",
        "\n",
        "In the following cells, grab the columns specified. *(Feel free to look back at the previous notebook to see what code to use!)*"
      ]
    },
    {
      "cell_type": "code",
      "execution_count": null,
      "metadata": {
        "id": "JbPEd7aAG3wC"
      },
      "outputs": [],
      "source": [
        "#Grab the cost column:\n",
        "\n",
        "material_data[...]"
      ]
    },
    {
      "cell_type": "code",
      "execution_count": null,
      "metadata": {
        "id": "mRAc8DEnG3wC"
      },
      "outputs": [],
      "source": [
        "#Grab the density column:\n",
        "\n"
      ]
    },
    {
      "cell_type": "code",
      "execution_count": null,
      "metadata": {
        "id": "akWs8RJVG3wD"
      },
      "outputs": [],
      "source": [
        "#Grab a column of your choice (other than cost, density):\n",
        "\n"
      ]
    },
    {
      "cell_type": "markdown",
      "metadata": {
        "id": "NVeWbdnBG3wD"
      },
      "source": [
        "In the following cells create filters based on the requirements given. *(Feel free to look back at the previous notebook to see what code to use!)*"
      ]
    },
    {
      "cell_type": "code",
      "execution_count": null,
      "metadata": {
        "id": "FawQFt8LG3wD"
      },
      "outputs": [],
      "source": [
        "#Find materials with a high value of conductivity (greater than 80) by creating a filter\n",
        "\n",
        "conductivity_filter = material_data[\"...\"] > ...\n",
        "\n",
        "material_data[conductivity_filter]"
      ]
    },
    {
      "cell_type": "code",
      "execution_count": null,
      "metadata": {
        "id": "366gvta4G3wD"
      },
      "outputs": [],
      "source": [
        "#Find materials with a high value of hardness (greater than 200) by creating a filter\n",
        "\n",
        "hardness_filter = ...\n",
        "\n",
        "material_data[hardness_filter]"
      ]
    },
    {
      "cell_type": "markdown",
      "metadata": {
        "id": "9nrBg-NV_-vW"
      },
      "source": [
        "## 2. Training Our Machine Learning Model <a name='section2'></a>"
      ]
    },
    {
      "cell_type": "markdown",
      "metadata": {
        "id": "PHvmEZ3lG3wE"
      },
      "source": [
        "Our goal is to train a machine learning model to predict the **hardness** of a material based only on its **density**. We will then fill in the missing hardness data and look for promising materials using your predicted data."
      ]
    },
    {
      "cell_type": "markdown",
      "metadata": {
        "id": "V-u0JLLqG3wE"
      },
      "source": [
        "### 2.1 Preprocess Your Data<a name='subsection1'></a>"
      ]
    },
    {
      "cell_type": "markdown",
      "metadata": {
        "id": "MN76NPkMG3wE"
      },
      "source": [
        "To start with, we have to prepare our training data. We need to filter our dataframe to only include the materials for which the hardness has already been calculated. In other words, the hardness column does not contain `NaN`.\n",
        "\n",
        "You can achieve this using the pandas `isna` function. For example, try running the following cell below:"
      ]
    },
    {
      "cell_type": "code",
      "execution_count": null,
      "metadata": {
        "id": "Sc5wYcrRG3wE"
      },
      "outputs": [],
      "source": [
        "pd.isna(material_data[\"voltage\"])"
      ]
    },
    {
      "cell_type": "markdown",
      "metadata": {
        "id": "CUf7GPTfG3wE"
      },
      "source": [
        "You can see the code returned a Series of True and False corresponding to whether the \"voltage\" column is `NaN`.\n",
        "\n",
        "However, we are looking for materials which are NOT `NaN`. We can invert a filter by using `~`. Try running the following cell:"
      ]
    },
    {
      "cell_type": "code",
      "execution_count": null,
      "metadata": {
        "id": "-8NE1oezG3wE"
      },
      "outputs": [],
      "source": [
        "~pd.isna(material_data[\"voltage\"])"
      ]
    },
    {
      "cell_type": "markdown",
      "metadata": {
        "id": "9l2DqFFaG3wE"
      },
      "source": [
        "Finally, remember we need to index our dataframe using the filter to get the final results:"
      ]
    },
    {
      "cell_type": "code",
      "execution_count": null,
      "metadata": {
        "id": "3xfOmDarG3wE"
      },
      "outputs": [],
      "source": [
        "voltage_filter = ~pd.isna(material_data[\"voltage\"])\n",
        "material_data_voltage = material_data[voltage_filter]\n",
        "\n",
        "material_data_voltage"
      ]
    },
    {
      "cell_type": "markdown",
      "metadata": {
        "id": "U2-ndcn4G3wE"
      },
      "source": [
        "Below, create the filter `hardness_filter`, which similar to the `voltage_filter` from the example above, includes only rows where the hardness is NOT `NaN`:"
      ]
    },
    {
      "cell_type": "code",
      "execution_count": null,
      "metadata": {
        "id": "Mj-zPoacG3wF"
      },
      "outputs": [],
      "source": [
        "# EXERCISE\n",
        "\n",
        "hardness_filter = ~pd.isna(...)"
      ]
    },
    {
      "cell_type": "markdown",
      "metadata": {
        "id": "HM47OPBaG3wF"
      },
      "source": [
        "Below, use the `hardness_filter` to create a dataset `material_data_hardness` which includes only the materials for which the hardness data is available:"
      ]
    },
    {
      "cell_type": "code",
      "execution_count": null,
      "metadata": {
        "id": "wcL3E7_V_-vW"
      },
      "outputs": [],
      "source": [
        "# EXERCISE\n",
        "\n",
        "material_data_hardness = material_data[...]\n",
        "\n",
        "material_data_hardness"
      ]
    },
    {
      "cell_type": "markdown",
      "metadata": {
        "id": "sZUWSIo0_-vX"
      },
      "source": [
        "Next, we need to partition the data into two sets. The first is the training data called `X`, in this case containing the density for each material. The second set should contain the target property that we are trying to predict, called `y`. In this case our target property is the hardness of the materials."
      ]
    },
    {
      "cell_type": "code",
      "execution_count": null,
      "metadata": {
        "id": "-cb0s97B_-vY"
      },
      "outputs": [],
      "source": [
        "training_columns = [\"density\"]\n",
        "\n",
        "X = material_data_hardness[training_columns]\n",
        "y = material_data_hardness[\"hardness\"]"
      ]
    },
    {
      "cell_type": "markdown",
      "metadata": {
        "id": "036-zePRG3wF"
      },
      "source": [
        "### 2.2 Specify A Model <a name='subsection2'></a>"
      ]
    },
    {
      "cell_type": "markdown",
      "metadata": {
        "id": "FgoaHfYU_-vZ"
      },
      "source": [
        "We will need to specify a machine learning model to help us with predicting the hardness of materials. For this we will be using the `scikit-learn` library which implements a variety of different machine learning models and other analysis tools. A good \"starting\" model is the random forest model. As we are dealing with **regression** in machine learning, we will specifically be using the **Random Forest Regressor** model. (You can learn more about random forest models from the [scikit-learn user guide](https://scikit-learn.org/stable/modules/ensemble.html#forest))."
      ]
    },
    {
      "cell_type": "code",
      "execution_count": null,
      "metadata": {
        "id": "h75c3r67_-vZ"
      },
      "outputs": [],
      "source": [
        "from sklearn.ensemble import RandomForestRegressor\n",
        "\n",
        "rf = RandomForestRegressor()"
      ]
    },
    {
      "cell_type": "markdown",
      "metadata": {
        "id": "UQrQQdLVG3wF"
      },
      "source": [
        "### 2.3 Train the Model <a name='subsection3'></a>"
      ]
    },
    {
      "cell_type": "markdown",
      "metadata": {
        "id": "1nB5Gtx1_-va"
      },
      "source": [
        "Now we are ready to train our machine learning model. We can now train our model to use the input features (`X`) to predict the target property (`y`). This is achieved using the `fit()` function."
      ]
    },
    {
      "cell_type": "code",
      "execution_count": null,
      "metadata": {
        "colab": {
          "base_uri": "https://localhost:8080/"
        },
        "id": "JJe4LYoa_-va",
        "outputId": "e940a39f-7632-46c6-ee62-7f5c89536ef7"
      },
      "outputs": [],
      "source": [
        "rf.fit(X, y)"
      ]
    },
    {
      "cell_type": "markdown",
      "metadata": {
        "id": "d4DC9NYi_-vb"
      },
      "source": [
        "That's it, you have just trained your first machine learning model!"
      ]
    },
    {
      "cell_type": "markdown",
      "metadata": {
        "id": "PHTMNvqDG3wG"
      },
      "source": [
        "### 2.4 Evaluate the Model <a name='subsection4'></a>"
      ]
    },
    {
      "cell_type": "markdown",
      "metadata": {
        "id": "1J0LXmtXG3wK"
      },
      "source": [
        "Next, we need to assess how the model is performing. To do this, we can ask the model to predict the target property for every entry in our original dataframe."
      ]
    },
    {
      "cell_type": "code",
      "execution_count": null,
      "metadata": {
        "id": "saiSqRCd_-vb"
      },
      "outputs": [],
      "source": [
        "y_pred = rf.predict(X)"
      ]
    },
    {
      "cell_type": "markdown",
      "metadata": {
        "id": "fT7LyMG5_-vc"
      },
      "source": [
        "The `y_pred` variable now contains the predicted hardness for our training set of materials. We can see how the model is performing by calculating the root mean squared error of our predictions. To do this, the scikit-learn library provides a `mean_squared_error()` function to calculate the mean squared error. We then take the square-root of this to obtain our final performance metric."
      ]
    },
    {
      "cell_type": "code",
      "execution_count": null,
      "metadata": {
        "id": "Aq4fMPUs_-vd"
      },
      "outputs": [],
      "source": [
        "from sklearn.metrics import mean_squared_error\n",
        "\n",
        "rmse = np.sqrt(mean_squared_error(y, y_pred))\n",
        "\n",
        "print('root mean squared error: {:.2f}'.format(rmse))"
      ]
    },
    {
      "cell_type": "markdown",
      "metadata": {
        "id": "nZ2D1YKB_-ve"
      },
      "source": [
        "Does this value seem high to you? How does it compare to the average hardness value of the data set?\n",
        "\n",
        "Alternatively, we can plot the actual hardness values against the values predicted by our model. In the plot the below, each point has been colored by the density of the original material."
      ]
    },
    {
      "cell_type": "code",
      "execution_count": null,
      "metadata": {
        "id": "ok_RlF1X_-ve"
      },
      "outputs": [],
      "source": [
        "import matplotlib.pyplot as plt\n",
        "import seaborn as sns\n",
        "sns.set()\n",
        "sns.set_context(\"notebook\")\n",
        "\n",
        "fig, ax = plt.subplots(dpi=100)\n",
        "sc = ax.scatter(y, y_pred, c=X.values[:, 0])\n",
        "ax.plot([-10, 650], [-10, 650], ls=\"--\", c=\"white\")\n",
        "ax.set(xlabel=\"Hardness Calc. (GPa)\", ylabel=\"Hardness Pred. (GPa)\", xlim=(0, 600), ylim=(0, 600))\n",
        "plt.colorbar(sc, label=\"Density (g/cm$^{-3}$)\")\n",
        "plt.show()"
      ]
    },
    {
      "cell_type": "markdown",
      "metadata": {
        "id": "3Evk4DKr_-vf"
      },
      "source": [
        "As you can see, the model performs reasonably well! If the model showed perfect performance then all the points would line up along the dashed white line."
      ]
    },
    {
      "cell_type": "markdown",
      "metadata": {
        "id": "zdEgCvKAG3wK"
      },
      "source": [
        "# 3. Predicting the Hardness of Novel Materials <a name='section3'></a>"
      ]
    },
    {
      "cell_type": "markdown",
      "metadata": {
        "id": "L2QC2n6tG3wL"
      },
      "source": [
        "We have trained our machine learning model so now let's return to our task: predicting the hardness of materials based only on its density.\n",
        "\n",
        "We will use the `predict` function of the model to predict the hardness of *all* materials in our original dataset, not just those for which training data was available.\n",
        "\n",
        "In the cell below, we will create a new column called \"hardness_predicted\" that contains the hardness predicted by our machine learning model."
      ]
    },
    {
      "cell_type": "code",
      "execution_count": null,
      "metadata": {
        "id": "LUXmfpWl_-vf"
      },
      "outputs": [],
      "source": [
        "material_data[\"hardness_predicted\"] = rf.predict(material_data[training_columns])"
      ]
    },
    {
      "cell_type": "markdown",
      "metadata": {
        "id": "uwM32K36_-vg"
      },
      "source": [
        "Let's check to make sure the dataframe contains the new column."
      ]
    },
    {
      "cell_type": "code",
      "execution_count": null,
      "metadata": {
        "colab": {
          "base_uri": "https://localhost:8080/",
          "height": 206
        },
        "id": "XWhS5UeJ_-vg",
        "outputId": "123b5c0a-37ff-406c-a824-5b27564a6a5c"
      },
      "outputs": [],
      "source": [
        "material_data.head()"
      ]
    },
    {
      "cell_type": "markdown",
      "metadata": {
        "id": "f9qN3MyG_-vh"
      },
      "source": [
        "### Discovering new materials using predicted data\n",
        "\n",
        "We can now look for new protective casing materials using the predicted data.\n",
        "\n",
        "**Aim**: Find the hardest material for which we didn't previously have a hardness value. Does this seem like a good choice of protective casing?\n",
        "\n",
        "\n",
        "*Hint*:\n",
        "First filter the dataframe to find materials where the hardness column is `NaN` (i.e., using `pd.isna` as we did earlier). You can then find the maximum value of the filtered dataframe using `sort_values(\"hardness_predicted\")`"
      ]
    },
    {
      "cell_type": "code",
      "execution_count": null,
      "metadata": {
        "colab": {
          "base_uri": "https://localhost:8080/",
          "height": 741
        },
        "id": "uCsVFFTD_-vh",
        "outputId": "d485af50-ec31-4dd7-a355-21bb5c73aeb9"
      },
      "outputs": [],
      "source": [
        "# Complete task below:\n",
        "\n",
        "material_data[pd.isna(...['...'])].sort_values('...')"
      ]
    },
    {
      "cell_type": "markdown",
      "metadata": {
        "id": "uJEdWan1G3wL"
      },
      "source": [
        "# 4. Bonus: Testing Different Models<a name='section4'></a>"
      ]
    },
    {
      "cell_type": "markdown",
      "metadata": {
        "id": "20nL5YcwG3wL"
      },
      "source": [
        "It is good practice to trial multiple models to see which performs best for your machine learning problem.\n",
        "\n",
        "The `scikit-learn` library has an [online user guide](https://scikit-learn.org/stable/user_guide.html) documenting all the different models and how to use them in code. For example, the random forest regressor model we used in this notebook can be found under section 1.11.2.\n",
        "\n",
        "For this bonus activity try out the **Ordinary Least Squares model**. Did it perform better or worse than the Random Forest Regressor model we used earlier?\n",
        "\n",
        "***Hint:*** *Be careful on reading in the user guide how to import the model. For the Random Forest Regressor, we called `from sklearn.ensemble import RandomForestRegressor` but for other models this will look different.*"
      ]
    },
    {
      "cell_type": "code",
      "execution_count": null,
      "metadata": {
        "id": "9oB4tTe5G3wL"
      },
      "outputs": [],
      "source": [
        "# 1. Preprocess the data:\n",
        "\n",
        "material_data_hardness = material_data[~pd.isna(material_data[\"hardness\"])]\n",
        "\n",
        "training_columns = [\"density\"]\n",
        "\n",
        "X = material_data_hardness[training_columns]\n",
        "y = material_data_hardness[\"hardness\"]"
      ]
    },
    {
      "cell_type": "code",
      "execution_count": null,
      "metadata": {
        "id": "nthY13VVG3wM"
      },
      "outputs": [],
      "source": [
        "# 2. Specify your model:\n",
        "\n",
        "from ... import ..."
      ]
    },
    {
      "cell_type": "code",
      "execution_count": null,
      "metadata": {
        "id": "0tr-VSz1G3wM"
      },
      "outputs": [],
      "source": [
        "# 3. Train your model:\n",
        "\n"
      ]
    },
    {
      "cell_type": "code",
      "execution_count": null,
      "metadata": {
        "id": "ptoPyu8kG3wM"
      },
      "outputs": [],
      "source": [
        "# 4. Evaluate your model\n",
        "\n",
        "new_y_pred = ...\n",
        "\n",
        "# You can calculate RMSE and/or plot. Copy code from earlier in the notebook.\n"
      ]
    },
    {
      "cell_type": "markdown",
      "metadata": {
        "id": "eahNqhbOG3wM"
      },
      "source": [
        "Notebook developed by: Alex Ganose, Ryan Kingsbury, Jianli Cheng, Alisa Bettale"
      ]
    }
  ],
  "metadata": {
    "colab": {
      "provenance": []
    },
    "kernelspec": {
      "display_name": ".venv",
      "language": "python",
      "name": "python3"
    },
    "language_info": {
      "codemirror_mode": {
        "name": "ipython",
        "version": 3
      },
      "file_extension": ".py",
      "mimetype": "text/x-python",
      "name": "python",
      "nbconvert_exporter": "python",
      "pygments_lexer": "ipython3",
      "version": "3.11.1"
    },
    "vscode": {
      "interpreter": {
        "hash": "1de2c9b99b67c74942ae62ba9f4273989cfcd06b191aeb61677ac908252bed7d"
      }
    }
  },
  "nbformat": 4,
  "nbformat_minor": 0
}
