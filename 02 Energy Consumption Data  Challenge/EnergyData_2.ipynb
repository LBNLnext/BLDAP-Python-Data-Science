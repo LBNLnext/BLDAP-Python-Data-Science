{
 "cells": [
  {
   "cell_type": "markdown",
   "metadata": {},
   "source": [
    "\n",
    "\n",
    "\n",
    "\n",
    "# Energy Consumption Data Notebook 2: Data Analysis on the Cleaned Dataset\n",
    "\n",
    "\n",
    "---"
   ]
  },
  {
   "cell_type": "markdown",
   "metadata": {},
   "source": [
    "### Goals For This Notebook:\n",
    "\n",
    "1 - Import our merged weather and power dataset.<br>\n",
    "\n",
    "2 - Use the operation **GroupBy** to group data by time and month.<br>\n",
    "\n",
    "3 - Create bar plots to examine which months uses the most energy and why.<br>\n",
    "\n",
    "---\n",
    "\n",
    "### Table of Contents\n",
    "\n",
    "1 - [Import Data](#section1)<br>\n",
    "\n",
    "2 - [GroupBy](#section2)<br>\n",
    "\n",
    "3 - [Data Visualization - Which Months Uses the Most Energy?](#section3)<br>\n",
    "\n",
    "---"
   ]
  },
  {
   "cell_type": "markdown",
   "metadata": {},
   "source": [
    "In this notebook, we will work with our merged weather and power dataset from Energy Consumption Data Notebook 1. We will group data by using an operation called GroupBy to categorize data by time and month. Finally, we will create our first data visualizations, so we can see during which months most energy was consumed and try to find out why.\n",
    "\n",
    "Let's first get started by importing the libraries we need:"
   ]
  },
  {
   "cell_type": "code",
   "execution_count": null,
   "metadata": {},
   "outputs": [],
   "source": [
    "import pandas as pd\n",
    "import matplotlib.pyplot as plt\n",
    "import numpy as np"
   ]
  },
  {
   "cell_type": "markdown",
   "metadata": {},
   "source": [
    "## 1. Import Data <a id='section1'></a>"
   ]
  },
  {
   "cell_type": "markdown",
   "metadata": {},
   "source": [
    "Let's import the data from last notebook - recall that we saved it in the file `weather_and_power.csv` in the *data* folder."
   ]
  },
  {
   "cell_type": "code",
   "execution_count": null,
   "metadata": {},
   "outputs": [],
   "source": [
    "# EXERCISE\n",
    "\n",
    "#Import it below!\n",
    "weather_and_power = pd....(\"...\")\n",
    "weather_and_power.head()"
   ]
  },
  {
   "cell_type": "markdown",
   "metadata": {},
   "source": [
    "When we imported the table, we get a weird column called \"Unnamed: 0\". It does not have any important information, so we do not need it.\n",
    "\n",
    "Look back at your Energy Consumption Data Notebook 1 and remove the column."
   ]
  },
  {
   "cell_type": "code",
   "execution_count": null,
   "metadata": {},
   "outputs": [],
   "source": [
    "# EXERCISE - Remove the column \"Unnamed: 0\"\n",
    "\n",
    "# Your code here\n",
    "\n",
    "weather_and_power.head()"
   ]
  },
  {
   "cell_type": "markdown",
   "metadata": {},
   "source": [
    "Let's quickly get a feel for the data by using the `describe()` function on our dataframe:"
   ]
  },
  {
   "cell_type": "code",
   "execution_count": null,
   "metadata": {},
   "outputs": [],
   "source": [
    "# EXERCISE\n",
    "\n",
    "..."
   ]
  },
  {
   "cell_type": "markdown",
   "metadata": {},
   "source": [
    "## 2. GroupBy <a id='section2'></a>"
   ]
  },
  {
   "cell_type": "markdown",
   "metadata": {},
   "source": [
    "When we used the function `describe()` above, we got useful statistics on each column, such as the mean. However, this is the mean over *all* time. What if we wanted to look at the mean power consumption for a certain time to see if appliances use more energy at a certain time of day? Or what if we wanted to look at the mean power consumption for just a particular month?\n",
    "\n",
    "This is possible to do with the pandas library by using an operation called `groupby()`. `groupby()` allows you to group data in your choice of column(s), then apply a function (e.g. `sum()`, `mean()`, `count()`, etc.) to each group."
   ]
  },
  {
   "cell_type": "markdown",
   "metadata": {},
   "source": [
    "Let's do an example. We will group our weather and power dataset by `12-hr-time`. Pandas will take all data points taken at 12:00am, 12:15am, etc. and have them in separate groups. Then we will look at the column `outdoor air temperature (F)` and use the function `mean()` to find the mean outdoor air temperature for each time."
   ]
  },
  {
   "cell_type": "code",
   "execution_count": null,
   "metadata": {},
   "outputs": [],
   "source": [
    "#EXAMPLE\n",
    "\n",
    "weather_and_power.groupby(\"12-hr-time\")[\"outdoor air temperature (F)\"].mean()"
   ]
  },
  {
   "cell_type": "markdown",
   "metadata": {},
   "source": [
    "What did we get? We have the average temperature of all the data points taken at each 15-minute interval data was taken over the whole time period (4 months).\n",
    "\n",
    "But does the data make sense? We can use `sort_values()` to order the times from lowest average temperature to highest average temperature:"
   ]
  },
  {
   "cell_type": "code",
   "execution_count": null,
   "metadata": {
    "scrolled": true
   },
   "outputs": [],
   "source": [
    "#EXAMPLE\n",
    "\n",
    "weather_and_power.groupby(\"12-hr-time\")[\"outdoor air temperature (F)\"].mean().sort_values()"
   ]
  },
  {
   "cell_type": "markdown",
   "metadata": {},
   "source": [
    "You should see that the lowest average temperature was measured at 6:30am, while the highest average temperature was measured at 1:45pm. It makes sense as we find the coolest temperatures generally after cooling overnight and before the sun rises, and have the highest temperatures around mid-day. "
   ]
  },
  {
   "cell_type": "markdown",
   "metadata": {},
   "source": [
    "For the below exercise, try to find the mean outdoor air temperature for each month. See if your results make sense."
   ]
  },
  {
   "cell_type": "code",
   "execution_count": null,
   "metadata": {},
   "outputs": [],
   "source": [
    "#EXERCISE\n",
    "\n",
    "weather_and_power.groupby(\"...\")[\"...\"].mean()"
   ]
  },
  {
   "cell_type": "markdown",
   "metadata": {},
   "source": [
    "Another feature of `groupby()` is `.agg()`, which allows us to apply statistics to multiple columns. The example below finds the maximum air conditioning power for the west and east air conditioners, as well as the mean outdoor air temperature for each month."
   ]
  },
  {
   "cell_type": "code",
   "execution_count": null,
   "metadata": {
    "scrolled": true
   },
   "outputs": [],
   "source": [
    "#EXAMPLE\n",
    "\n",
    "weather_and_power.groupby(\"month\").agg({\"west air conditioning power consumption (Watts)\": np.max,\n",
    "                                        \"east air conditioning power consumption (Watts)\": np.max,\n",
    "                                       \"outdoor air temperature (F)\": np.mean})"
   ]
  },
  {
   "cell_type": "markdown",
   "metadata": {},
   "source": [
    "In the cell below, groupby the \"12-hr-time\" column, and find the mean of just the \"building total power consumption (Watts)\" and the \"outdoor air temperature (F)\"."
   ]
  },
  {
   "cell_type": "code",
   "execution_count": null,
   "metadata": {},
   "outputs": [],
   "source": [
    "# EXERCISE\n",
    "\n",
    "# Find the average building power consumption and average outdoor air temperature for every time in 12-hr-time column\n",
    "grouped = weather_and_power.groupby(\"...\").agg({\"...\": ...,\n",
    "                            \"...\": ...})\n",
    "\n",
    "grouped"
   ]
  },
  {
   "cell_type": "markdown",
   "metadata": {},
   "source": [
    "Which time has the greatest average building total power consumption? Which time has the lowest average outdoor air temperature?\n",
    "\n",
    "*Hint: You can apply `sort_values()` on the grouped dataframe you created above.*"
   ]
  },
  {
   "cell_type": "code",
   "execution_count": null,
   "metadata": {},
   "outputs": [],
   "source": [
    "#EXERCISE - Which time has the greatest average building total power consumption?\n",
    "\n",
    "grouped.sort_values(\"...\", ascending=False) #What does ascending=False do?"
   ]
  },
  {
   "cell_type": "code",
   "execution_count": null,
   "metadata": {},
   "outputs": [],
   "source": [
    "#EXERCISE - Which time has the lowest average outdoor air temperature?\n",
    "\n",
    "..."
   ]
  },
  {
   "cell_type": "markdown",
   "metadata": {},
   "source": [
    "## 3. Data Visualization - Which Months Uses the Most Energy?<a id='section3'></a>"
   ]
  },
  {
   "cell_type": "markdown",
   "metadata": {},
   "source": [
    "Now we will apply `groupby()` to answer the question: which months uses the most energy?\n",
    "\n",
    "**Discuss with your group - which column from the data is most appropriate to measure power consumption of the whole pilot site?** You might want to take a look at the dataframe again below:"
   ]
  },
  {
   "cell_type": "code",
   "execution_count": null,
   "metadata": {},
   "outputs": [],
   "source": [
    "#Use the function .head() on the dataframe to refresh your memory on the dataframe you are working with:\n",
    "\n",
    "weather_and_power.head()"
   ]
  },
  {
   "cell_type": "markdown",
   "metadata": {},
   "source": [
    "In the cell below, groupby \"month\" and find the average power consumption of the pilot site."
   ]
  },
  {
   "cell_type": "code",
   "execution_count": null,
   "metadata": {},
   "outputs": [],
   "source": [
    "# EXERCISE\n",
    "\n",
    "month_data_building = weather_and_power.groupby(\"...\")[\"...\"]....\n",
    "\n",
    "month_data_building"
   ]
  },
  {
   "cell_type": "markdown",
   "metadata": {},
   "source": [
    "Let's visualize this data! We will make a barchart of the table we just created.\n",
    "\n",
    "First, you may notice that `month_data_building` was returned as a series rather than a dataframe. This will cause some issues if we were to try to use matplotlib to create plots. Luckily, we just need to use the function `reset_index()` so the months aren't treated as the index anymore. We will save this new dataframe:"
   ]
  },
  {
   "cell_type": "code",
   "execution_count": null,
   "metadata": {},
   "outputs": [],
   "source": [
    "month_data_building_df = month_data_building.reset_index()\n",
    "month_data_building_df"
   ]
  },
  {
   "cell_type": "markdown",
   "metadata": {},
   "source": [
    "Now use matplotlib to create a bar plot to show how much power is consumed over different months:"
   ]
  },
  {
   "cell_type": "code",
   "execution_count": null,
   "metadata": {},
   "outputs": [],
   "source": [
    "x_data = month_data_building_df[\"...\"]\n",
    "y_data = month_data_building_df[\"...\"]\n",
    "\n",
    "plt.title(\"Average Total Power Consumption (Watts) For Each Month\")\n",
    "plt.xlabel(\"Month\")\n",
    "plt.ylabel(\"Average Total Power Consumption (Watts)\")\n",
    "plt.bar(x_data, y_data, tick_label=[\"January\", \"February\", \"March\", \"April\"]); \n",
    "\n",
    "#Note: If you are wondering why we are using the tick_label argument, try running the code without it!"
   ]
  },
  {
   "cell_type": "markdown",
   "metadata": {},
   "source": [
    "Which month has the most energy used? Which has the least energy used? What reasons do you think explain that?"
   ]
  },
  {
   "cell_type": "markdown",
   "metadata": {},
   "source": [
    "In the cell below, groupby \"month\" again and this time find the average outdoor temperature and make a bar chart that plots this. "
   ]
  },
  {
   "cell_type": "code",
   "execution_count": null,
   "metadata": {},
   "outputs": [],
   "source": [
    "# EXERCISE - Use groupby\n",
    "\n",
    "month_data_temp = weather_and_power...\n",
    "\n",
    "month_data_temp"
   ]
  },
  {
   "cell_type": "code",
   "execution_count": null,
   "metadata": {},
   "outputs": [],
   "source": [
    "#EXERCISE - Create a bar chart\n",
    "\n",
    "#Don't forget to use reset_index() first\n",
    "month_data_temp_df = month_data_temp....\n",
    "\n",
    "#Create your bar plot\n",
    "x_data = ...\n",
    "y_data = ...\n",
    "\n",
    "plt.title(\"...\")\n",
    "plt.xlabel(\"...\")\n",
    "plt.ylabel(\"...\")\n",
    "plt.bar(..., ..., tick_label=[\"January\", \"February\", \"March\", \"April\"]);"
   ]
  },
  {
   "cell_type": "markdown",
   "metadata": {},
   "source": [
    "Seeing this chart, does it make sense that February and March use the most energy? Why or why not?"
   ]
  },
  {
   "cell_type": "markdown",
   "metadata": {},
   "source": [
    "Notebook developed by: Rachel McCarty, Kseniya Usovich, Laurel Hales, Alisa Bettale"
   ]
  }
 ],
 "metadata": {
  "kernelspec": {
   "display_name": "Python 3",
   "language": "python",
   "name": "python3"
  },
  "language_info": {
   "codemirror_mode": {
    "name": "ipython",
    "version": 3
   },
   "file_extension": ".py",
   "mimetype": "text/x-python",
   "name": "python",
   "nbconvert_exporter": "python",
   "pygments_lexer": "ipython3",
   "version": "3.8.8"
  }
 },
 "nbformat": 4,
 "nbformat_minor": 4
}
