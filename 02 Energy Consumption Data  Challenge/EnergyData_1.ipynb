{
 "cells": [
  {
   "cell_type": "markdown",
   "metadata": {},
   "source": [
    "\n",
    "\n",
    "\n",
    "\n",
    "\n",
    "# Energy Consumption Data Notebook 1: Preparing Our Data For Analysis\n",
    "\n",
    "\n",
    "\n",
    "---"
   ]
  },
  {
   "cell_type": "markdown",
   "metadata": {},
   "source": [
    "### Goals For This Notebook:\n",
    "\n",
    "1 - Import weather and power data.<br>\n",
    "\n",
    "2 - Do some Exploratory Data Analysis to see what information the data contains.<br>\n",
    "\n",
    "3 - Rename, reorganize, and add columns so the data is easier to understand, including splitting timestamp data into separate date, month, and time columns.<br>\n",
    "\n",
    "4 - Merge the data to create one dataframe.<br>\n",
    "\n",
    "5 - Save our data into a new csv file.<br>\n",
    "\n",
    "---\n",
    "\n",
    "### Table of Contents\n",
    "\n",
    "1 - [Weather Data](#section1)<br>\n",
    "\n",
    "2 - [Power Data](#section2)<br>\n",
    "\n",
    "3 - [Merging Data](#section3)<br>\n",
    "\n",
    "4 - [Datetime](#section4)<br>\n",
    "\n",
    "5 - [Saving Data](#section5)<br>\n",
    "\n",
    "---"
   ]
  },
  {
   "cell_type": "markdown",
   "metadata": {},
   "source": [
    "In this notebook, you will get to know energy consumption data through Exploratory Data Analysis. In particular, you will be looking at two datasets: 1) Weather data collected during the study and 2) Power consumption data of various appliances at the pilot site. You will clean the weather and power consumption data sets and then merge the two datasets together for further data analysis in future notebooks.\n",
    "\n",
    "Let's first get started by importing the libraries we need:"
   ]
  },
  {
   "cell_type": "code",
   "execution_count": 0,
   "metadata": {},
   "outputs": [],
   "source": [
    "import pandas as pd\n",
    "import numpy as np"
   ]
  },
  {
   "cell_type": "markdown",
   "metadata": {},
   "source": [
    "## 1. Weather Data <a id='section1'></a>"
   ]
  },
  {
   "cell_type": "markdown",
   "metadata": {},
   "source": [
    "Import \"weather_data_2021.csv\" using `pd.read_csv()` and save it to the variable `weather` so that we can use it throughout the notebook. We must include the fact that the file is saved in the folder _data_, so the computer knows where to look for the csv file! We add the foldername before the filename and add a slash (/) between - e.g. 'data/results.csv'"
   ]
  },
  {
   "cell_type": "code",
   "execution_count": 0,
   "metadata": {},
   "outputs": [],
   "source": [
    "# EXERCISE\n",
    "\n",
    "weather = pd.read_csv(\"data/...\")"
   ]
  },
  {
   "cell_type": "markdown",
   "metadata": {},
   "source": [
    "Let's do some Exploratory Data Analysis! What do you think that the column \"Unnamed: 0\" represents? Do you think you know what any of the columns mean? How many rows and columns are there?\n",
    "\n",
    "Remember you can always refer to notebooks 06 and 07 from the intro to Python unit."
   ]
  },
  {
   "cell_type": "code",
   "execution_count": 0,
   "metadata": {},
   "outputs": [],
   "source": [
    "#Exploratory Data Analysis 1 - Try to see the first or last couple rows\n",
    "\n",
    "weather....()"
   ]
  },
  {
   "cell_type": "code",
   "execution_count": 0,
   "metadata": {},
   "outputs": [],
   "source": [
    "#Exploratory Data Analysis 2 - How many rows do we have?\n",
    "\n",
    "len(...)"
   ]
  },
  {
   "cell_type": "code",
   "execution_count": 0,
   "metadata": {},
   "outputs": [],
   "source": [
    "#Exploratory Data Analysis 3 - What columns do we have?\n",
    "\n",
    "weather...."
   ]
  },
  {
   "cell_type": "code",
   "execution_count": 0,
   "metadata": {},
   "outputs": [],
   "source": [
    "#Exploratory Data Analysis 4 - Your choice!\n",
    "\n"
   ]
  },
  {
   "cell_type": "markdown",
   "metadata": {},
   "source": [
    "Looking at the table, some of the columns are hard to understand. Lets rename some of the columns in the table. \n",
    "\n",
    "We can rename columns by: `dataframe.rename(columns = {\"current column name\": \"new column name\", ....})`\n",
    "\n",
    "In the cell below, we will rename `Unnamed: 0` into `Timestamp`\n",
    "\n",
    "Follow the same pattern to rename `oat` to `outdoor air temperature (F)` and `solar` as `solar irradiance on PV panels (watts/m^2)`"
   ]
  },
  {
   "cell_type": "code",
   "execution_count": 0,
   "metadata": {},
   "outputs": [],
   "source": [
    "# EXERCISE - rename your columns!\n",
    "\n",
    "weather = weather.rename(columns = {\"Unnamed: 0\": \"Timestamp\", \n",
    "                          \"oat\": \"...\",\n",
    "                         \"solar\": \"...\"})\n",
    "weather.head()"
   ]
  },
  {
   "cell_type": "markdown",
   "metadata": {},
   "source": [
    "The last thing we need to do is get rid of unnecessary information. If you look at the dataframe, `solar irradiance on PV panels (Watt per m^2)` and `sr` have the same information.\n",
    "\n",
    "Being a data scientist required you to look up code! Look up (on Google) how to delete columns in Pandas and delete the `sr` column. (There are multiple ways to do this!)\n",
    "\n",
    "***Make sure your group shows the instructor the method you found and that you successfully removed the `sr` column***"
   ]
  },
  {
   "cell_type": "code",
   "execution_count": 0,
   "metadata": {},
   "outputs": [],
   "source": [
    "# EXERCISE - Delete the sr column. Make sure to check with an instructor before moving on!\n",
    "\n",
    "#YOUR CODE HERE\n",
    "\n",
    "weather.head()"
   ]
  },
  {
   "cell_type": "markdown",
   "metadata": {},
   "source": [
    "In the cell below, find the number of null values in each of the columns in the weather dataframe.\n",
    "\n",
    "*Hint: Look at section 1.6 in 07 Pandas DataFrames Notebook*"
   ]
  },
  {
   "cell_type": "code",
   "execution_count": 0,
   "metadata": {},
   "outputs": [],
   "source": [
    "# EXERCISE - Find the count of null values\n",
    "weather....().sum()"
   ]
  },
  {
   "cell_type": "markdown",
   "metadata": {},
   "source": [
    "## 2. Power Data <a id='section2'></a>"
   ]
  },
  {
   "cell_type": "markdown",
   "metadata": {},
   "source": [
    "Import \"power_2021.csv\" and save it to the variable `power` so that we can use it throughout the notebook:"
   ]
  },
  {
   "cell_type": "code",
   "execution_count": 0,
   "metadata": {},
   "outputs": [],
   "source": [
    "# EXERCISE\n",
    "\n",
    "power = pd....(\"...\")"
   ]
  },
  {
   "cell_type": "markdown",
   "metadata": {},
   "source": [
    "Similar to weather data, do some Exploratory Data Analysis! What do you think that the column \"Unnamed: 0\" represents? Do you think you know what any of the columns mean? How many rows and columns are there?"
   ]
  },
  {
   "cell_type": "code",
   "execution_count": 0,
   "metadata": {},
   "outputs": [],
   "source": [
    "#Exploratory Data Analysis 1 - Try to see the first or last couple rows\n",
    "\n"
   ]
  },
  {
   "cell_type": "code",
   "execution_count": 0,
   "metadata": {},
   "outputs": [],
   "source": [
    "#Exploratory Data Analysis 2 - How many rows do we have?\n",
    "\n"
   ]
  },
  {
   "cell_type": "code",
   "execution_count": 0,
   "metadata": {},
   "outputs": [],
   "source": [
    "#Exploratory Data Analysis 3 - What columns do we have?\n",
    "\n"
   ]
  },
  {
   "cell_type": "code",
   "execution_count": 0,
   "metadata": {},
   "outputs": [],
   "source": [
    "#Exploratory Data Analysis 4 - Your choice, but try something you haven't used yet!\n",
    "\n"
   ]
  },
  {
   "cell_type": "markdown",
   "metadata": {},
   "source": [
    "Looking at the table, some of the columns are hard to understand. Lets rename some of the columns in the table. Do the same thing you did for the weather dataframe. \n",
    "\n",
    "In the cell below, rename `Unnamed: 0` to `Timestamp`.\n",
    "\n",
    "Rename `building` to `building total power consumption (watts)`\n",
    "\n",
    "Rename `freezer` to `freezer power consumption (watts)`\n",
    "\n",
    "Rename `ref_comp` to `refrigerator power consumption (watts)`\n",
    "\n",
    "Rename `ref_fan` to `refrigerator fan power consumption (watts)`\n",
    "\n",
    "Rename `hvac_west` to `west air conditioning power consumption (watts)`\n",
    "\n",
    "Rename `hvac_east` to `east air conditioning power consumption (watts)`"
   ]
  },
  {
   "cell_type": "code",
   "execution_count": 0,
   "metadata": {},
   "outputs": [],
   "source": [
    "# EXERCISE\n",
    "\n",
    "#rename your columns here\n",
    "power = power.rename(columns = {\"Unnamed: 0\": \"Timestamp\", \n",
    "                             \"building\": \"building total power consumption (Watts)\", \n",
    "                             \"freezer\": \"...\",\n",
    "                             \"ref_comp\": \"...\",\n",
    "                             \"ref_fan\": \"...\",\"\n",
    "                             \"...\": \"west air conditioning power consumption (Watts)\", \n",
    "                             \"...\": \"east air conditioning power consumption (Watts)\"\n",
    "                            })\n",
    "power.head()"
   ]
  },
  {
   "cell_type": "markdown",
   "metadata": {},
   "source": [
    "Similar to the weather data, find the total number of null values in the power dataframe."
   ]
  },
  {
   "cell_type": "code",
   "execution_count": 0,
   "metadata": {},
   "outputs": [],
   "source": [
    "# EXERCISE - Find the count of null data\n",
    "power...."
   ]
  },
  {
   "cell_type": "markdown",
   "metadata": {},
   "source": [
    "## 3. Merging Data <a id='section3'></a>"
   ]
  },
  {
   "cell_type": "markdown",
   "metadata": {},
   "source": [
    "In data science, we do not usually just use one dataframe. We often have multiple datasets that we want to use to analyze data. In order to do this, we need to **merge** (put together / join) the datasets together. To merge data, we need to find a column to merge on.\n",
    "\n",
    "The syntax for merging data tables is: \n",
    "\n",
    "`dataframe1.merge(dataframe2, on= \"column name that the two dataframes have in common\")`\n",
    "\n",
    "What column name do both the dataframes have in common? Keep that in mind for how you merge the table."
   ]
  },
  {
   "cell_type": "code",
   "execution_count": 0,
   "metadata": {},
   "outputs": [],
   "source": [
    "# EXERCISE - Merge the two dataframes together\n",
    "weather_and_power = weather.merge(..., on=\"...\")\n",
    "weather_and_power.head()"
   ]
  },
  {
   "cell_type": "markdown",
   "metadata": {},
   "source": [
    "Add a column in the weather_and_power dataframe called `total power consumption (Watts)` that is the **sum** of all the power consumption columns.  "
   ]
  },
  {
   "cell_type": "code",
   "execution_count": 0,
   "metadata": {},
   "outputs": [],
   "source": [
    "# EXERCISE - add your columns\n",
    "weather_and_power[\"total power consumption (Watts)\"] = (weather_and_power[\"building total power consumption (Watts)\"]+\n",
    "                                                 weather_and_power[\"freezer power consumption (Watts)\"]+ \n",
    "                                                 weather_and_power[\"refrigerator power consumption (Watts)\"]+\n",
    "                                                 weather_and_power[\"...\"]+\n",
    "                                                 weather_and_power[\"...\"]+\n",
    "                                                 weather_and_power[\"...\"])"
   ]
  },
  {
   "cell_type": "markdown",
   "metadata": {},
   "source": [
    "***Run the cell below and double check with an instructor that your `total power consumption` column's numbers are correct.***"
   ]
  },
  {
   "cell_type": "code",
   "execution_count": 0,
   "metadata": {},
   "outputs": [],
   "source": [
    "weather_and_power.head()"
   ]
  },
  {
   "cell_type": "markdown",
   "metadata": {},
   "source": [
    "## 4. Datetime <a id='section4'></a>"
   ]
  },
  {
   "cell_type": "markdown",
   "metadata": {},
   "source": [
    "In this section, we are going to want to look at how we can use datetime methods to clean up our datatable and make it a bit easier to understand."
   ]
  },
  {
   "cell_type": "code",
   "execution_count": 0,
   "metadata": {},
   "outputs": [],
   "source": [
    "# import the datetime module\n",
    "from datetime import datetime"
   ]
  },
  {
   "cell_type": "markdown",
   "metadata": {},
   "source": [
    "The values of the Timestamp column represent dates and times of when the data for each section of the building was collected. However, since the data type of the column is a `str()`, it will be harder to access information like the date and time to answer what day of the week most energy was used, what hour had the least energy consumption, etc. So first, we will need to convert it to a correct data type.\n"
   ]
  },
  {
   "cell_type": "code",
   "execution_count": 0,
   "metadata": {},
   "outputs": [],
   "source": [
    "weather_and_power[\"Better Timestamp\"] = pd.to_datetime(weather_and_power[\"Timestamp\"])"
   ]
  },
  {
   "cell_type": "code",
   "execution_count": 0,
   "metadata": {},
   "outputs": [],
   "source": [
    "# Run this cell to get the date, time, and month into seperate columns\n",
    "weather_and_power[\"date\"] = [d.date() for d in weather_and_power['Better Timestamp']]\n",
    "weather_and_power[\"time\"] = weather_and_power['Better Timestamp'].apply(lambda x: x.time())\n",
    "weather_and_power[\"month\"] = pd.DatetimeIndex(weather_and_power['date']).month\n",
    "\n",
    "\n",
    "#converting 24-hour clock time to 12-hour time\n",
    "def changeformat(time):\n",
    "    if time.hour > 12:\n",
    "        newtime = str(time.hour - 12) + (str(time))[2:5] + \"pm\"\n",
    "        return newtime\n",
    "    if time.hour == 12:\n",
    "        newtime = (str(time))[:5] + \"pm\"\n",
    "        return newtime\n",
    "    if time.hour == 0:\n",
    "        newtime = \"12\" + (str(time))[2:5] + \"am\"\n",
    "        return newtime\n",
    "    if type(time) != str:\n",
    "        newtime = (str(time))[:5] + \"am\"\n",
    "        return newtime\n",
    "    \n",
    "weather_and_power[\"12-hr-time\"] = weather_and_power[\"time\"].apply(changeformat)"
   ]
  },
  {
   "cell_type": "markdown",
   "metadata": {},
   "source": [
    "Let's see what our columns and dataframe look like now."
   ]
  },
  {
   "cell_type": "code",
   "execution_count": 0,
   "metadata": {},
   "outputs": [],
   "source": [
    "weather_and_power.columns"
   ]
  },
  {
   "cell_type": "code",
   "execution_count": 0,
   "metadata": {},
   "outputs": [],
   "source": [
    "weather_and_power.head()"
   ]
  },
  {
   "cell_type": "markdown",
   "metadata": {},
   "source": [
    "## 5. Saving Data <a id='section5'></a>"
   ]
  },
  {
   "cell_type": "markdown",
   "metadata": {},
   "source": [
    "Let's save our dataframe. Save it as \"weather_and_power.csv\"\n",
    "\n",
    "The syntax for saving a dataframe is `datatable.to_csv(\"name you want\")`. As we want to save it in our _data_ folder, we will add that before the name of the file.\n",
    "\n",
    "We will use this cleaned dataset in our next notebook."
   ]
  },
  {
   "cell_type": "code",
   "execution_count": 0,
   "metadata": {},
   "outputs": [],
   "source": [
    "# EXERCISE\n",
    "\n",
    "weather_and_power.to_csv(\"...\")"
   ]
  },
  {
   "cell_type": "markdown",
   "metadata": {},
   "source": [
    "Notebook developed by: Rachel McCarty, Kseniya Usovich, Alisa Bettale"
   ]
  }
 ],
 "metadata": {
  "kernelspec": {
   "display_name": "Python 3",
   "language": "python",
   "name": "python3"
  },
  "language_info": {
   "codemirror_mode": {
    "name": "ipython",
    "version": 3
   },
   "file_extension": ".py",
   "mimetype": "text/x-python",
   "name": "python",
   "nbconvert_exporter": "python",
   "pygments_lexer": "ipython3",
   "version": "3.8.8"
  }
 },
 "nbformat": 4,
 "nbformat_minor": 4
}
