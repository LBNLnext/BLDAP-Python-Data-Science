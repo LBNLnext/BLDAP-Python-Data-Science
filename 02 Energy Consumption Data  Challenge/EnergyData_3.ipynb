{
 "cells": [
  {
   "cell_type": "markdown",
   "metadata": {},
   "source": [
    "\n",
    "\n",
    "\n",
    "\n",
    "\n",
    "# Energy Consumption Data Notebook 3: Data Visualizations and Finding Trends in Data\n",
    "\n",
    "\n",
    "---"
   ]
  },
  {
   "cell_type": "markdown",
   "metadata": {},
   "source": [
    "### Goals For This Notebook:\n",
    "\n",
    "1 - Create scatter plots to visualize how energy consumption changes with certain factors.<br>\n",
    "\n",
    "2 - Create lines of best fit to see how strong the correlation between chosen variables are.<br>\n",
    "\n",
    "---\n",
    "\n",
    "### Table of Contents\n",
    "\n",
    "1 - [Creating Scatter Plots and Lines of Best Fit](#section1)<br>\n",
    "\n",
    "2 - [Which Appliance's Power Consumption Is Most Affected By Temperature?](#section2)<br>\n",
    "\n",
    "---"
   ]
  },
  {
   "cell_type": "markdown",
   "metadata": {},
   "source": [
    "In this notebook, we will continue to work with our merged weather and power dataset to create more data visualizations. We will create scatter plots, which allow us to examine the relationship between two variables. In particular, we want to see how factors such as outdoor air temperature affect the energy consumption of the building and various appliances.\n",
    "\n",
    "We will also create lines of best fit to visualize how strong the correlation between chosen variables are.\n",
    "\n",
    "Let's first get started by importing the libraries we need:"
   ]
  },
  {
   "cell_type": "code",
   "execution_count": null,
   "metadata": {},
   "outputs": [],
   "source": [
    "import pandas as pd\n",
    "import numpy as np\n",
    "import matplotlib.pyplot as plt\n",
    "%matplotlib inline"
   ]
  },
  {
   "cell_type": "markdown",
   "metadata": {},
   "source": [
    "## 1. Creating Scatter Plots and Lines of Best Fit <a id='section1'></a>"
   ]
  },
  {
   "cell_type": "markdown",
   "metadata": {},
   "source": [
    "Refer to Energy Consumption Data Notebook 2 for this exercise. Import the merged weather and power dataset saved in the file `weather_and_power.csv` (in the *data* folder) into a dataframe called `weather_and_power`. Then remove the column named `Unnamed: 0`."
   ]
  },
  {
   "cell_type": "code",
   "execution_count": null,
   "metadata": {},
   "outputs": [],
   "source": [
    "#EXERCISE - Import the data\n",
    "\n",
    "weather_and_power = ...\n",
    "weather_and_power.head()"
   ]
  },
  {
   "cell_type": "code",
   "execution_count": null,
   "metadata": {},
   "outputs": [],
   "source": [
    "#EXERCISE - Remove the column \"Unnamed: 0\"\n",
    "\n",
    "# Your code here\n",
    "\n",
    "weather_and_power.head()"
   ]
  },
  {
   "cell_type": "markdown",
   "metadata": {},
   "source": [
    "Let's review how to create a scatter plot using matplotlib. In the cell below, make a scatter plot that compares the total power consumption to the building total power consumption."
   ]
  },
  {
   "cell_type": "markdown",
   "metadata": {},
   "source": [
    "**Before you create the scatter plot, what sort of correlation do you expect? *(Positive, negative, or none?)* Why? Write your answer and reasoning below:**\n",
    "\n",
    "*Your answer here*"
   ]
  },
  {
   "cell_type": "code",
   "execution_count": null,
   "metadata": {},
   "outputs": [],
   "source": [
    "# EXERCISE\n",
    "\n",
    "x_data = weather_and_power[\"...\"]\n",
    "y_data = weather_and_power[\"...\"]\n",
    "\n",
    "plt.title('Comparing Total Power Consumption to the Building Total Power Consumption')\n",
    "plt.xlabel('Building Total Power Consumption (Watts)')\n",
    "plt.ylabel('Total Power Consumption (Watts)')\n",
    "plt.scatter(..., ...);"
   ]
  },
  {
   "cell_type": "markdown",
   "metadata": {},
   "source": [
    "Notice how when we do that, we seem to see almost a perfect positive correlation between total energy consumption and building total consumption (was this what you expected?). \n",
    "\n",
    "However, there are a few points with values of 0 that are making it harder to see the relationship.\n",
    "\n",
    "Let's drop the rows where total power consumption OR building total power consumption are zero. We will use boolean indexing (refer to notebook 07: pandas dataframes) to first find the rows that match this criteria and save it into a filter."
   ]
  },
  {
   "cell_type": "code",
   "execution_count": null,
   "metadata": {},
   "outputs": [],
   "source": [
    "# EXERCISE\n",
    "# Use boolean indexing to find rows where the total power consumption OR the building total power consumption are zero\n",
    "# We will save this into a filter \"zero_power_filter\"\n",
    "\n",
    "zero_power_filter = weather_and_power[(weather_and_power[\"...\"]==0) | \n",
    "                 (weather_and_power[\"...\"]==0)]"
   ]
  },
  {
   "cell_type": "markdown",
   "metadata": {},
   "source": [
    "Next step is to remove the rows. As we are working with rows, not columns as before, we will use the `drop()` function and feed it our filter. We must attach `.index` to our filter name so we tell the `drop()` function the index of the rows it needs to drop. We will also use the argument `inplace = True` so we drop the rows from the original dataframe instead of creating a new dataframe."
   ]
  },
  {
   "cell_type": "code",
   "execution_count": null,
   "metadata": {},
   "outputs": [],
   "source": [
    "# Run this cell to remove those rows!\n",
    "weather_and_power.drop(zero_power_filter.index, inplace = True)\n",
    "\n",
    "weather_and_power.head()"
   ]
  },
  {
   "cell_type": "markdown",
   "metadata": {},
   "source": [
    "Let's create the same scatter plot again, this time with our 0 values removed:"
   ]
  },
  {
   "cell_type": "code",
   "execution_count": null,
   "metadata": {},
   "outputs": [],
   "source": [
    "# EXERCISE\n",
    "\n",
    "x_data = weather_and_power[\"...\"]\n",
    "y_data = weather_and_power[\"...\"]\n",
    "\n",
    "plt.title('Comparing Total Power Consumption to the Building Total Power Consumption')\n",
    "plt.xlabel('Building Total Power Consumption (Watts)')\n",
    "plt.ylabel('Total Power Consumption (Watts)')\n",
    "plt.scatter(..., ...);"
   ]
  },
  {
   "cell_type": "markdown",
   "metadata": {},
   "source": [
    "In order to better visualize the correlation, let's add a line of best fit. However, before we do this, we need to remove all the null values from the data so our functions fo creating the line of best fit works.\n",
    "\n",
    "First, let's see if we have any null values (refer to notebook 07 pandas dataframes, section 1.6):"
   ]
  },
  {
   "cell_type": "code",
   "execution_count": null,
   "metadata": {},
   "outputs": [],
   "source": [
    "#EXERCISE - Check if there are any null values\n",
    "\n",
    "weather_and_power...."
   ]
  },
  {
   "cell_type": "markdown",
   "metadata": {},
   "source": [
    "There are plenty! We will use the function `.dropna()` which will remove all the rows that contain null values. Again, we will use the argument `inplace = True` so we drop the rows from the original dataframe instead of creating a new dataframe. Make sure to check if we successfully removed the null values:"
   ]
  },
  {
   "cell_type": "code",
   "execution_count": null,
   "metadata": {},
   "outputs": [],
   "source": [
    "weather_and_power.dropna(inplace=True)\n",
    "\n",
    "#EXERCISE - Check again to see if there are any null values left:\n",
    "weather_and_power...."
   ]
  },
  {
   "cell_type": "markdown",
   "metadata": {},
   "source": [
    "Now let's create our model using the function `polyfit()` from the numpy library. `polyfit()` takes in your x and y data values. We also put in the argument '1' to indicate we are working with a linear model.\n",
    "\n",
    "We will also use the function `poly1d()` from the numpy library. This allows us to visualize the best-fit line in the format we are familiar with, y = mx + b, where m is the slope and b is the y-intercept. `poly1d()` also allows us to easily plot it over our scatter plot from before."
   ]
  },
  {
   "cell_type": "code",
   "execution_count": null,
   "metadata": {},
   "outputs": [],
   "source": [
    "#We are still working with building total power consumption and total power consumption:\n",
    "x_data = weather_and_power[\"building total power consumption (Watts)\"]\n",
    "y_data = weather_and_power[\"total power consumption (Watts)\"]\n",
    "\n",
    "#Creating the model\n",
    "model = np.polyfit(x_data, y_data, 1)\n",
    "model_function = np.poly1d(model)\n",
    "print(model_function)"
   ]
  },
  {
   "cell_type": "markdown",
   "metadata": {},
   "source": [
    "Let's now look at our scatter plot and line of best fit together! In the cell below, copy and paste your code for creating the scatter plot. On the line below, create the line of best fit.\n",
    "\n",
    "When plotting the line of best fit, notice that you use the model function applied to the x data for your y values."
   ]
  },
  {
   "cell_type": "code",
   "execution_count": null,
   "metadata": {},
   "outputs": [],
   "source": [
    "# EXERCISE - Create your scatter plot with the line of best fit\n",
    "\n",
    "#Copy your code to create the scatter plot here:\n",
    "\n",
    "\n",
    "\n",
    "#Create the line of best fit\n",
    "plt.plot(x_data, model_function(x_data), 'red')\n",
    "\n",
    "#Create a legend\n",
    "plt.legend(['scatter', 'line of best fit']);"
   ]
  },
  {
   "cell_type": "markdown",
   "metadata": {},
   "source": [
    "With the line of best fit, it's even more clear that there is a clear, positive relationship between the total power consumption and building power consumption.\n",
    "\n",
    "However, we can quantify how good the line of best fit is by finding the R<sup>2</sup> (coefficient of determination) value. The closer R<sup>2</sup> is to 1, the better the fit.\n",
    "\n",
    "To do this, we'll use a new library, `scikit-learn` (which is actually the [machine learning library](https://scikit-learn.org/stable/) for Python!) There's a function that easily allows us to calculate R<sup>2</sup>, called `r2_score()`. The arguments it takes is our original y data values and the model's y data values:"
   ]
  },
  {
   "cell_type": "code",
   "execution_count": null,
   "metadata": {},
   "outputs": [],
   "source": [
    "from sklearn.metrics import r2_score\n",
    "\n",
    "r2_score(y_data, model_function(x_data))"
   ]
  },
  {
   "cell_type": "markdown",
   "metadata": {},
   "source": [
    "Now we are going to analyze a different relationship. We are going to look at total power consumption compared to the outdoor temperature. When do you think the most power is consumed? Keep in mind the only months we are looking at are January, February, March, and April."
   ]
  },
  {
   "cell_type": "markdown",
   "metadata": {},
   "source": [
    "**In this cell, write your hypothesis**\n",
    "\n",
    "*Your answer here*"
   ]
  },
  {
   "cell_type": "markdown",
   "metadata": {},
   "source": [
    "Let's test your hypothesis. First, create a scatter plot comparing outdoor air temperature to total power consumption. Put the temperature on the x-axis and total energy consumption on the y-axis.\n",
    "\n",
    "*Hint: You can always call .columns to refresh your memory on the name of the columns. Create a new code cell below if you would like to do that.*"
   ]
  },
  {
   "cell_type": "code",
   "execution_count": null,
   "metadata": {},
   "outputs": [],
   "source": [
    "# EXERCISE - Create a scatter plot comparing outdoor air temperature and total power consumption\n",
    "\n",
    "x_data = ...\n",
    "y_data = ...\n",
    "\n",
    "plt.title(...)\n",
    "plt.xlabel(...)\n",
    "plt.ylabel(...)\n",
    "plt.scatter(..., ...);"
   ]
  },
  {
   "cell_type": "markdown",
   "metadata": {},
   "source": [
    "Copy your code from before to create your linear model:"
   ]
  },
  {
   "cell_type": "code",
   "execution_count": null,
   "metadata": {},
   "outputs": [],
   "source": [
    "#EXERCISE - Create the best-fit line\n",
    "model = np.polyfit(..., ..., 1)\n",
    "model_function = np.poly1d(...)\n",
    "print(model_function)"
   ]
  },
  {
   "cell_type": "markdown",
   "metadata": {},
   "source": [
    "In the cell below, create a scatter plot with the line of best fit. Start by copying and pasting your earlier code."
   ]
  },
  {
   "cell_type": "code",
   "execution_count": null,
   "metadata": {},
   "outputs": [],
   "source": [
    "# EXERCISE - Create your scatter plot with the line of best fit\n",
    "\n",
    "#Copy your code to create the scatter plot here:\n",
    "\n",
    "\n",
    "\n",
    "#Create the line of best fit\n",
    "plt.plot(..., ..., 'red')\n",
    "\n",
    "#Create a legend\n",
    "plt.legend(['line of best fit', 'scatter']);"
   ]
  },
  {
   "cell_type": "markdown",
   "metadata": {},
   "source": [
    "Let's quantify how good the line of best fit is by finding the R<sup>2</sup> value. Remember, the closer R<sup>2</sup> is to 1, the better the fit."
   ]
  },
  {
   "cell_type": "code",
   "execution_count": null,
   "metadata": {},
   "outputs": [],
   "source": [
    "#EXERCISE - find R^2\n",
    "\n",
    "r2_score(..., ...)"
   ]
  },
  {
   "cell_type": "markdown",
   "metadata": {},
   "source": [
    "### Answer the following questions:"
   ]
  },
  {
   "cell_type": "markdown",
   "metadata": {},
   "source": [
    "Is there a positive, negative, or no correlation between the total power consumption and outdoor air temperature? How can you tell? Does this match your hypothesis?\n",
    "\n",
    "*Your answer here*"
   ]
  },
  {
   "cell_type": "markdown",
   "metadata": {},
   "source": [
    "How strong of a relationship is there between the total power consumption and the outdoor air temperature? How can you tell?\n",
    "\n",
    "*Your answer here*"
   ]
  },
  {
   "cell_type": "markdown",
   "metadata": {},
   "source": [
    "What are some suggestions to investigate further the correlation between the total power consumption and outdoor air temperature?\n",
    "\n",
    "*Your answer here*"
   ]
  },
  {
   "cell_type": "markdown",
   "metadata": {},
   "source": [
    "## 2. Which Appliance's Power Consumption Is Most Affected By Temperature?<a id='section2'>"
   ]
  },
  {
   "cell_type": "markdown",
   "metadata": {},
   "source": [
    "We have data for power consumption of five different appliances: freezer, refrigerator, refrigerator fan, west AC, and east AC.\n",
    "\n",
    "Let's investigate which appliance's power consumption is most affected by temperature. We will do this by creating a scatter plot including the line of best fit for each of the five appliances. We will also look at the R<sup>2</sup> value."
   ]
  },
  {
   "cell_type": "markdown",
   "metadata": {},
   "source": [
    "Before we start, let's make a hypothesis. **Of the five appliances, which do you think is most strongly correlated with the temperature? Why?**\n",
    "\n",
    "*Your answer here*"
   ]
  },
  {
   "cell_type": "code",
   "execution_count": null,
   "metadata": {},
   "outputs": [],
   "source": [
    "#Let's again remind ourselves of the names of the columns:\n",
    "weather_and_power.columns"
   ]
  },
  {
   "cell_type": "markdown",
   "metadata": {},
   "source": [
    "As will be plotting the power consumption of each of the appliances over the outdoor air temperature, the data on the x axis for all the plots will be outdoor air temperature. Let's go ahead and create the `x_data` variable that we will use in all our plots:"
   ]
  },
  {
   "cell_type": "code",
   "execution_count": null,
   "metadata": {},
   "outputs": [],
   "source": [
    "#EXERCISE - Have the variable x data be the outdoor air temperature column from the weather_and_power dataframe\n",
    "\n",
    "x_data = ..."
   ]
  },
  {
   "cell_type": "markdown",
   "metadata": {},
   "source": [
    "For each of the appliances below, do the following:\n",
    "1. Grab the appropriate column and save it in the y_data_*appliance name* variable\n",
    "2. Use `polyfit()` and `poly1d()` to create your linear model (best-fit line)\n",
    "3. Create a scatter plot with the best fit line\n",
    "4. Find R<sup>2</sup>\n",
    "\n",
    "Remember, to make your life easier, you can copy and paste code! Just make sure to rename variables, graph titles and labels appropriately."
   ]
  },
  {
   "cell_type": "markdown",
   "metadata": {},
   "source": [
    "### Freezer"
   ]
  },
  {
   "cell_type": "code",
   "execution_count": null,
   "metadata": {},
   "outputs": [],
   "source": [
    "#Grab the appropriate column and save it in y_data_freezer\n",
    "\n",
    "y_data_freezer = weather_and_power[\"...\"]"
   ]
  },
  {
   "cell_type": "code",
   "execution_count": null,
   "metadata": {},
   "outputs": [],
   "source": [
    "#Create the linear model\n",
    "model_freezer = np.polyfit(..., ..., 1)\n",
    "model_function_freezer = np.poly1d(...)\n",
    "print(model_function_freezer)"
   ]
  },
  {
   "cell_type": "code",
   "execution_count": null,
   "metadata": {},
   "outputs": [],
   "source": [
    "#Create the scatter plot with the best-fit line\n",
    "plt.title(\"...\")\n",
    "plt.ylabel(\"...\")\n",
    "plt.xlabel(\"...\")\n",
    "plt.scatter(..., ...)\n",
    "\n",
    "plt.plot(x_data,model_function_freezer(x_data), 'red')\n",
    "\n",
    "plt.legend(['line of best fit', 'scatter']);"
   ]
  },
  {
   "cell_type": "markdown",
   "metadata": {},
   "source": [
    "You might notice that your graph looks odd - there are some horizontal lines. These horizontal lines represent fan-only or compressor off mode, or regular \"off states\". If we want to find the correlation between the actual consumption and the outdoor air temperature, we will need to only use data when the freezer's power consumption is on."
   ]
  },
  {
   "cell_type": "markdown",
   "metadata": {},
   "source": [
    "To do that, let's create a filter where we only look at freezer power consumption data that is above 3400 Watts, then apply that filter to create a subset of x and y data that only fulfills the filter."
   ]
  },
  {
   "cell_type": "code",
   "execution_count": null,
   "metadata": {},
   "outputs": [],
   "source": [
    "#Create our filters\n",
    "freezer_filter = weather_and_power[\"...\"] > ...\n",
    "\n",
    "#Apply our filters\n",
    "x_data_freezer_on = weather_and_power[...][\"outdoor air temperature (F)\"]\n",
    "y_data_freezer_on = weather_and_power[freezer_filter][\"...\"]"
   ]
  },
  {
   "cell_type": "markdown",
   "metadata": {},
   "source": [
    "Now recreate your model and scatter plot - you can copy code from before, but just make sure you are using the right variables!"
   ]
  },
  {
   "cell_type": "code",
   "execution_count": null,
   "metadata": {},
   "outputs": [],
   "source": [
    "#Create the linear model\n",
    "model_freezer = np.polyfit(..., ..., 1)\n",
    "model_function_freezer = np.poly1d(model_freezer)\n",
    "print(model_function_freezer)"
   ]
  },
  {
   "cell_type": "code",
   "execution_count": null,
   "metadata": {},
   "outputs": [],
   "source": [
    "#Create the scatter plot with the best-fit line\n",
    "plt.title(\"...\")\n",
    "plt.ylabel(\"...\")\n",
    "plt.xlabel(\"...\")\n",
    "plt.scatter(..., ...)\n",
    "\n",
    "plt.plot(..., model_function_freezer(...), 'red')\n",
    "\n",
    "plt.legend(['line of best fit', 'scatter']);"
   ]
  },
  {
   "cell_type": "markdown",
   "metadata": {},
   "source": [
    "Now the scatter plot and linear model only uses the data when the freezer is on, and looks a bit more reasonable. Let's see what our R<sup>2</sup> returns:"
   ]
  },
  {
   "cell_type": "code",
   "execution_count": null,
   "metadata": {},
   "outputs": [],
   "source": [
    "#Find R^2\n",
    "\n",
    "r2_score(y_data_freezer_on, model_function_freezer(x_data_freezer_on))"
   ]
  },
  {
   "cell_type": "markdown",
   "metadata": {},
   "source": [
    "Feel free to experiment with the filter to see if you can get a better fit!"
   ]
  },
  {
   "cell_type": "markdown",
   "metadata": {},
   "source": [
    "### Refrigerator"
   ]
  },
  {
   "cell_type": "code",
   "execution_count": null,
   "metadata": {},
   "outputs": [],
   "source": [
    "#Grab the appropriate column and save it in y_data_refrigerator\n",
    "\n",
    "y_data_refrigerator = weather_and_power[\"...\"]"
   ]
  },
  {
   "cell_type": "code",
   "execution_count": null,
   "metadata": {},
   "outputs": [],
   "source": [
    "#Create the linear model\n",
    "model_refrigerator = np.polyfit(..., ..., 1)\n",
    "model_function_refrigerator = np.poly1d(...)\n",
    "print(model_function_refrigerator)"
   ]
  },
  {
   "cell_type": "code",
   "execution_count": null,
   "metadata": {},
   "outputs": [],
   "source": [
    "#Create the scatter plot with the best-fit line\n",
    "plt.title(\"...\")\n",
    "plt.ylabel(\"...\")\n",
    "plt.xlabel(\"...\")\n",
    "plt.scatter(..., ...)\n",
    "\n",
    "plt.plot(..., ..., 'red')\n",
    "\n",
    "plt.legend(['line of best fit', 'scatter']);"
   ]
  },
  {
   "cell_type": "markdown",
   "metadata": {},
   "source": [
    "Similar to the freezer, create a filter that ignores the \"off values\" and then recreate the linear model and scatter plot. You may need to experiment with your filter to find the right cutting point for data."
   ]
  },
  {
   "cell_type": "code",
   "execution_count": null,
   "metadata": {},
   "outputs": [],
   "source": [
    "#Create our filters\n",
    "refrigerator_filter = ...\n",
    "\n",
    "#Apply our filters\n",
    "x_data_refrigerator_on = weather_and_power[...][\"...\"]\n",
    "y_data_refrigerator_on = weather_and_power[...][\"...\"]"
   ]
  },
  {
   "cell_type": "code",
   "execution_count": null,
   "metadata": {},
   "outputs": [],
   "source": [
    "#Re-create the linear model\n",
    "model_refrigerator = np.polyfit(..., ..., 1)\n",
    "model_function_refrigerator = np.poly1d(...)\n",
    "print(model_function_refrigerator)"
   ]
  },
  {
   "cell_type": "code",
   "execution_count": null,
   "metadata": {},
   "outputs": [],
   "source": [
    "#Re-create the scatter plot with the best-fit line\n",
    "plt.title(\"...\")\n",
    "plt.ylabel(\"...\")\n",
    "plt.xlabel(\"...\")\n",
    "plt.scatter(..., ...)\n",
    "\n",
    "plt.plot(..., ..., 'red')\n",
    "\n",
    "plt.legend(['line of best fit', 'scatter']);"
   ]
  },
  {
   "cell_type": "code",
   "execution_count": null,
   "metadata": {},
   "outputs": [],
   "source": [
    "#Find R^2\n",
    "\n",
    "r2_score(..., model_function_refrigerator(...))"
   ]
  },
  {
   "cell_type": "markdown",
   "metadata": {},
   "source": [
    "### Refrigerator Fan"
   ]
  },
  {
   "cell_type": "code",
   "execution_count": null,
   "metadata": {},
   "outputs": [],
   "source": [
    "#Grab the appropriate column and save it in y_data_refrigerator_fan\n",
    "\n",
    "y_data_refrigerator_fan = ..."
   ]
  },
  {
   "cell_type": "code",
   "execution_count": null,
   "metadata": {},
   "outputs": [],
   "source": [
    "#Create the linear model\n",
    "model_refrigerator_fan = np.polyfit(..., ..., 1)\n",
    "model_function_refrigerator_fan = np.poly1d(...)\n",
    "print(model_function_refrigerator_fan)"
   ]
  },
  {
   "cell_type": "code",
   "execution_count": null,
   "metadata": {},
   "outputs": [],
   "source": [
    "#Create the scatter plot with the best-fit line\n",
    "plt.title(\"...\")\n",
    "plt.ylabel(\"...\")\n",
    "plt.xlabel(\"...\")\n",
    "plt.scatter(..., ...)\n",
    "\n",
    "plt.plot(..., ..., 'red')\n",
    "\n",
    "plt.legend(['line of best fit', 'scatter']);"
   ]
  },
  {
   "cell_type": "markdown",
   "metadata": {},
   "source": [
    "This time, you might notice that there are three clusters of data close together that almost seems to form horizontal lines. You should create a filter, but it will be interesting to experiment which data cluster to focus on."
   ]
  },
  {
   "cell_type": "code",
   "execution_count": null,
   "metadata": {},
   "outputs": [],
   "source": [
    "#Create our filter\n",
    "refrigerator_fan_filter = ...\n",
    "\n",
    "#Apply our filter\n",
    "x_data_refrigerator_fan_on = weather_and_power[...][\"...\"]\n",
    "y_data_refrigerator_fan_on = weather_and_power[...][\"...\"]"
   ]
  },
  {
   "cell_type": "code",
   "execution_count": null,
   "metadata": {},
   "outputs": [],
   "source": [
    "#Re-create the linear model\n",
    "model_refrigerator_fan = np.polyfit(..., ..., 1)\n",
    "model_function_refrigerator_fan = np.poly1d(...)\n",
    "print(model_function_refrigerator_fan)"
   ]
  },
  {
   "cell_type": "code",
   "execution_count": null,
   "metadata": {},
   "outputs": [],
   "source": [
    "#Re-create the scatter plot with the best-fit line\n",
    "plt.title(\"...\")\n",
    "plt.ylabel(\"...\")\n",
    "plt.xlabel(\"...\")\n",
    "plt.scatter(..., ...)\n",
    "\n",
    "plt.plot(..., ..., 'red')\n",
    "\n",
    "plt.legend(['line of best fit', 'scatter']);"
   ]
  },
  {
   "cell_type": "code",
   "execution_count": null,
   "metadata": {},
   "outputs": [],
   "source": [
    "#Find R^2\n",
    "\n",
    "r2_score(..., ...)"
   ]
  },
  {
   "cell_type": "markdown",
   "metadata": {},
   "source": [
    "### West Air Conditioning"
   ]
  },
  {
   "cell_type": "code",
   "execution_count": null,
   "metadata": {},
   "outputs": [],
   "source": [
    "#Grab the appropriate column and save it in y_data_west_ac\n",
    "\n",
    "y_data_west_ac = ..."
   ]
  },
  {
   "cell_type": "code",
   "execution_count": null,
   "metadata": {
    "scrolled": true
   },
   "outputs": [],
   "source": [
    "#Create the linear model\n",
    "model_west_ac = np.polyfit(..., ..., 1)\n",
    "model_function_west_ac = np.poly1d(...)\n",
    "print(model_function_west_ac)"
   ]
  },
  {
   "cell_type": "code",
   "execution_count": null,
   "metadata": {},
   "outputs": [],
   "source": [
    "#Create the scatter plot with the best-fit line\n",
    "plt.title(\"...\")\n",
    "plt.ylabel(\"...\")\n",
    "plt.xlabel(\"...\")\n",
    "plt.scatter(..., ...)\n",
    "\n",
    "plt.plot(..., ..., 'red')\n",
    "\n",
    "plt.legend(['line of best fit', 'scatter']);"
   ]
  },
  {
   "cell_type": "markdown",
   "metadata": {},
   "source": [
    "The west air conditioning system has three different modes of operation: fan-only, 1-stage, 2-stage. Fan-only is when the compressor is off and there is just ventilation happening, 1-stage is the first stage of cooling and 2-stage is what turns on when 1-stage isn't sufficient for cooling.\n",
    "\n",
    "Try to filter out your data to just focus on 2-stage. Note that there are some interesting data points around 6000W - according to resesarchers who conducted this study, these are anomalies and should be ignored for now."
   ]
  },
  {
   "cell_type": "code",
   "execution_count": null,
   "metadata": {},
   "outputs": [],
   "source": [
    "#Create our filters\n",
    "west_ac_filter = (weather_and_power[\"...\"] < ...) & (weather_and_power[\"...\"] > ...)\n",
    "\n",
    "#Apply our filters\n",
    "x_data_west_ac_on = weather_and_power[...][\"...\"]\n",
    "y_data_west_ac_on = weather_and_power[...][\"...\"]"
   ]
  },
  {
   "cell_type": "code",
   "execution_count": null,
   "metadata": {},
   "outputs": [],
   "source": [
    "#Re-create the linear model\n",
    "model_west_ac = np.polyfit(..., ..., 1)\n",
    "model_function_west_ac = np.poly1d(...)\n",
    "print(model_function_west_ac)"
   ]
  },
  {
   "cell_type": "code",
   "execution_count": null,
   "metadata": {},
   "outputs": [],
   "source": [
    "#Re-create the scatter plot with the best-fit line\n",
    "plt.title(\"...\")\n",
    "plt.ylabel(\"...\")\n",
    "plt.xlabel(\"...\")\n",
    "plt.scatter(..., ...)\n",
    "\n",
    "plt.plot(..., ..., 'red')\n",
    "\n",
    "plt.legend(['line of best fit', 'scatter']);"
   ]
  },
  {
   "cell_type": "code",
   "execution_count": null,
   "metadata": {},
   "outputs": [],
   "source": [
    "#Find R^2\n",
    "\n",
    "r2_score(..., ...)"
   ]
  },
  {
   "cell_type": "markdown",
   "metadata": {},
   "source": [
    "### East Air Conditioning"
   ]
  },
  {
   "cell_type": "code",
   "execution_count": null,
   "metadata": {},
   "outputs": [],
   "source": [
    "#Grab the appropriate column and save it in y_data_east_ac\n",
    "\n",
    "y_data_east_ac = ..."
   ]
  },
  {
   "cell_type": "code",
   "execution_count": null,
   "metadata": {
    "scrolled": true
   },
   "outputs": [],
   "source": [
    "#Create the linear model\n",
    "model_east_ac = ...\n",
    "model_function_east_ac = ...\n",
    "print(model_function_east_ac)"
   ]
  },
  {
   "cell_type": "code",
   "execution_count": null,
   "metadata": {},
   "outputs": [],
   "source": [
    "#Create the scatter plot with the best-fit line\n",
    "\n",
    "#Your code here\n",
    "\n",
    "\n",
    "plt.legend(['line of best fit', 'scatter']);"
   ]
  },
  {
   "cell_type": "markdown",
   "metadata": {},
   "source": [
    "The east air conditioning system also has three different modes of operation (fan-only, 1-stage, 2-stage) like the west air conditioning system; however, it turns out that the east air conditioning system was constantly running and never in fan-only mode. The scatter plot shows data points for 1-stage and 2-stage.\n",
    "\n",
    "Try to filter out your data to just focus on 2-stage."
   ]
  },
  {
   "cell_type": "code",
   "execution_count": null,
   "metadata": {},
   "outputs": [],
   "source": [
    "#Create our filters\n",
    "east_ac_filter = ...\n",
    "\n",
    "#Apply our filters\n",
    "x_data_east_ac_on = ...\n",
    "y_data_east_ac_on = ..."
   ]
  },
  {
   "cell_type": "code",
   "execution_count": null,
   "metadata": {},
   "outputs": [],
   "source": [
    "#Re-create the linear model\n",
    "model_east_ac = ...\n",
    "model_function_east_ac = ...\n",
    "print(model_function_east_ac)"
   ]
  },
  {
   "cell_type": "code",
   "execution_count": null,
   "metadata": {},
   "outputs": [],
   "source": [
    "#Re-create the scatter plot with the best-fit line\n",
    "\n",
    "#Your code here\n",
    "\n",
    "plt.legend(['line of best fit', 'scatter']);"
   ]
  },
  {
   "cell_type": "code",
   "execution_count": null,
   "metadata": {},
   "outputs": [],
   "source": [
    "#Find R^2\n",
    "\n",
    "#Your code here"
   ]
  },
  {
   "cell_type": "markdown",
   "metadata": {},
   "source": [
    "### Putting it all together"
   ]
  },
  {
   "cell_type": "markdown",
   "metadata": {},
   "source": [
    "Revisit your hypothesis. Was your hypothesis correct/incorrect? How can you tell? Make sure to use the scatter plots with your linear models and the R<sup>2</sup> value as evidence in your answer.\n",
    "\n",
    "*Type your answer here*"
   ]
  },
  {
   "cell_type": "markdown",
   "metadata": {},
   "source": [
    "Notebook developed by: Rachel McCarty, Kseniya Usovich, Laurel Hales, Alisa Bettale"
   ]
  }
 ],
 "metadata": {
  "kernelspec": {
   "display_name": "Python 3",
   "language": "python",
   "name": "python3"
  },
  "language_info": {
   "codemirror_mode": {
    "name": "ipython",
    "version": 3
   },
   "file_extension": ".py",
   "mimetype": "text/x-python",
   "name": "python",
   "nbconvert_exporter": "python",
   "pygments_lexer": "ipython3",
   "version": "3.8.8"
  }
 },
 "nbformat": 4,
 "nbformat_minor": 4
}
