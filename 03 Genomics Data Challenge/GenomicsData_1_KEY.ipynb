{
 "cells": [
  {
   "cell_type": "markdown",
   "metadata": {},
   "source": [
    "# Genomics Data Notebook 1: Preparing Our Data for Analysis\n",
    "\n",
    "\n",
    "\n",
    "---"
   ]
  },
  {
   "cell_type": "markdown",
   "metadata": {},
   "source": [
    "### Goals For This Notebook:\n",
    "\n",
    "1 - Load the algae RNA sequencing data and perform some Exploratory Data Analysis.<br>\n",
    "\n",
    "2 - Clean the data.<br>\n",
    "\n",
    "3 - Save our data into a new csv file.<br>\n",
    "\n",
    "---\n",
    "\n",
    "### Table of Contents\n",
    "\n",
    "1 - [Loading the Data](#section1)<br>\n",
    "\n",
    "&nbsp;&nbsp;&nbsp;&nbsp;&nbsp;&nbsp; 1.1 - [What are the dimensions of our data?](#subsection1)<br>\n",
    "\n",
    "&nbsp;&nbsp;&nbsp;&nbsp;&nbsp;&nbsp; 1.2 - [What is tracking ID?](#subsection2)<br>\n",
    "\n",
    "&nbsp;&nbsp;&nbsp;&nbsp;&nbsp;&nbsp; 1.3 - [What are our other columns?](#subsection3)<br>\n",
    "\n",
    "2 - [Understanding and Cleaning the Data](#section2)<br>\n",
    "\n",
    "&nbsp;&nbsp;&nbsp;&nbsp;&nbsp;&nbsp; 2.1 - [Making More Readable Column Names](#subsection4)<br>\n",
    "\n",
    "&nbsp;&nbsp;&nbsp;&nbsp;&nbsp;&nbsp; 2.2 - [Understanding the Data Values](#subsection5)<br>\n",
    "\n",
    "---"
   ]
  },
  {
   "cell_type": "markdown",
   "metadata": {},
   "source": [
    "<img src=\"images/algae.png\" align=\"left\">"
   ]
  },
  {
   "cell_type": "markdown",
   "metadata": {
    "id": "lcIbCJiRWbLF"
   },
   "source": [
    "For the genomics data notebooks, we will be working with RNA sequencing data from an experiment measuring gene expression in the algae _Chromochloris zofingiensis_.\n",
    "    \n",
    "This algae is important for a couple of reasons:  \n",
    "1. It stores large amounts of energy from the sun, which can then be turned into biofuel.\n",
    "2. It produces molecules that are beneficial for human health, like antioxidants.\n",
    "\n",
    "Recently, scientists performed an experiment to figure out which genes were most important for these functions. You can read more about the experiment [here](https://www.pnas.org/content/114/21/E4296). Specifically pay attention to the section titled \"High Light-Induced Gene Expression\" (under Results and Discussion), where scientists looked at which genes were 'turned on' (i.e. increased their expression levels) when _C. zofingiensis_ samples were exposed to stronger light."
   ]
  },
  {
   "cell_type": "markdown",
   "metadata": {
    "id": "sB69sxcOSh4o"
   },
   "source": [
    "**Question 1** Why would it be helpful for scientists to know which genes were expressed when the algae was exposed to high light?"
   ]
  },
  {
   "cell_type": "markdown",
   "metadata": {
    "id": "b3n8X_KngGtm"
   },
   "source": [
    "*Your answer here*"
   ]
  },
  {
   "cell_type": "markdown",
   "metadata": {},
   "source": [
    "In this notebook, you will get to know the genomics dataset through Exploratory Data Analysis. You will also clean the dataset and then perform further data analysis in future notebooks.\n",
    "\n",
    "Let's first get started by importing the libraries we need:"
   ]
  },
  {
   "cell_type": "code",
   "execution_count": 4,
   "metadata": {},
   "outputs": [],
   "source": [
    "import numpy as np\n",
    "import pandas as pd\n",
    "import matplotlib.pyplot as plt"
   ]
  },
  {
   "cell_type": "markdown",
   "metadata": {
    "id": "C79USuF-z85R"
   },
   "source": [
    "## 1. Loading the Data<a id='section1'></a>"
   ]
  },
  {
   "cell_type": "markdown",
   "metadata": {
    "id": "OW4dY5Heg8YO"
   },
   "source": [
    "Now we want to import \"rnaseq_raw_counts.txt\" to the variable name `rna_data`. We must include the fact that the file is saved in the folder _data_, so the computer knows where to look for the csv file! We add the foldername before the filename and add a slash (/) between - e.g. 'data/results.csv'\n",
    "\n",
    "Before importing it, take a look at \"rnaseq_raw_counts.txt\". Notice that each value is separated by tabs instead of commas. **This means we want to use the argument `sep='\\t'` in the `pd.read_csv()` function call.** The argument tells the computer that the file's values are separated by tabs instead of commas."
   ]
  },
  {
   "cell_type": "code",
   "execution_count": 5,
   "metadata": {
    "id": "Hqbh-eJUhdfL"
   },
   "outputs": [],
   "source": [
    "# EXERCISE\n",
    "\n",
    "rna_data = pd.read_csv(\"data/rnaseq_raw_counts.txt\", sep=\"\\t\")"
   ]
  },
  {
   "cell_type": "markdown",
   "metadata": {},
   "source": [
    "### 1.1 What are the dimensions of our data?<a id='subsection1'></a>"
   ]
  },
  {
   "cell_type": "markdown",
   "metadata": {},
   "source": [
    "Great! Now let's learn more about our data set.\n",
    "\n",
    "Find out how many rows and columns there are in our `rna_data` table.\n",
    "\n",
    "**Hint:** You can use the `len()` function. For columns, you will need an extra step and use the `len()` function after you use `.columns` on your dataframe. Alternatively, you can use `.shape` - look up on Google how to use the `.shape` function."
   ]
  },
  {
   "cell_type": "code",
   "execution_count": 6,
   "metadata": {
    "scrolled": true
   },
   "outputs": [
    {
     "name": "stdout",
     "output_type": "stream",
     "text": [
      "# of rows: 15369\n",
      "# of columns: 45\n"
     ]
    }
   ],
   "source": [
    "# EXERCISE\n",
    "\n",
    "num_rows = len(rna_data) # OR rna_data.shape[0]\n",
    "num_columns = len(rna_data.columns) # OR rna_data.shape[1]\n",
    "\n",
    "print(\"# of rows: \" + str(num_rows))\n",
    "print(\"# of columns: \" + str(num_columns))"
   ]
  },
  {
   "cell_type": "markdown",
   "metadata": {},
   "source": [
    "That's a lot of data! Let's take a quick peek at the data table and see what we are working with. Notice that we cannot see every single column name; instead there is a \"column\" with ellipses (...) instead."
   ]
  },
  {
   "cell_type": "code",
   "execution_count": 7,
   "metadata": {
    "scrolled": true
   },
   "outputs": [
    {
     "data": {
      "text/html": [
       "<div>\n",
       "<style scoped>\n",
       "    .dataframe tbody tr th:only-of-type {\n",
       "        vertical-align: middle;\n",
       "    }\n",
       "\n",
       "    .dataframe tbody tr th {\n",
       "        vertical-align: top;\n",
       "    }\n",
       "\n",
       "    .dataframe thead th {\n",
       "        text-align: right;\n",
       "    }\n",
       "</style>\n",
       "<table border=\"1\" class=\"dataframe\">\n",
       "  <thead>\n",
       "    <tr style=\"text-align: right;\">\n",
       "      <th></th>\n",
       "      <th>tracking_id</th>\n",
       "      <th>HL.0.5h0</th>\n",
       "      <th>HL.0.5h1</th>\n",
       "      <th>HL.0.5h2</th>\n",
       "      <th>HL.0.5h3</th>\n",
       "      <th>HL.12h0</th>\n",
       "      <th>HL.12h1</th>\n",
       "      <th>HL.12h2</th>\n",
       "      <th>HL.12h3</th>\n",
       "      <th>HL.1h0</th>\n",
       "      <th>...</th>\n",
       "      <th>ML.1h2</th>\n",
       "      <th>ML.1h3</th>\n",
       "      <th>ML.3h0</th>\n",
       "      <th>ML.3h1</th>\n",
       "      <th>ML.3h2</th>\n",
       "      <th>ML.3h3</th>\n",
       "      <th>ML.6h0</th>\n",
       "      <th>ML.6h1</th>\n",
       "      <th>ML.6h2</th>\n",
       "      <th>ML.6h3</th>\n",
       "    </tr>\n",
       "  </thead>\n",
       "  <tbody>\n",
       "    <tr>\n",
       "      <th>0</th>\n",
       "      <td>Cz01g00020</td>\n",
       "      <td>657</td>\n",
       "      <td>534</td>\n",
       "      <td>710</td>\n",
       "      <td>501</td>\n",
       "      <td>332</td>\n",
       "      <td>348</td>\n",
       "      <td>300</td>\n",
       "      <td>413</td>\n",
       "      <td>316</td>\n",
       "      <td>...</td>\n",
       "      <td>590</td>\n",
       "      <td>667</td>\n",
       "      <td>460</td>\n",
       "      <td>463</td>\n",
       "      <td>524</td>\n",
       "      <td>458</td>\n",
       "      <td>296</td>\n",
       "      <td>285</td>\n",
       "      <td>272</td>\n",
       "      <td>110</td>\n",
       "    </tr>\n",
       "    <tr>\n",
       "      <th>1</th>\n",
       "      <td>Cz01g00030</td>\n",
       "      <td>255</td>\n",
       "      <td>303</td>\n",
       "      <td>257</td>\n",
       "      <td>244</td>\n",
       "      <td>154</td>\n",
       "      <td>140</td>\n",
       "      <td>147</td>\n",
       "      <td>144</td>\n",
       "      <td>210</td>\n",
       "      <td>...</td>\n",
       "      <td>224</td>\n",
       "      <td>302</td>\n",
       "      <td>199</td>\n",
       "      <td>243</td>\n",
       "      <td>215</td>\n",
       "      <td>235</td>\n",
       "      <td>182</td>\n",
       "      <td>184</td>\n",
       "      <td>160</td>\n",
       "      <td>47</td>\n",
       "    </tr>\n",
       "    <tr>\n",
       "      <th>2</th>\n",
       "      <td>Cz01g00040</td>\n",
       "      <td>90</td>\n",
       "      <td>71</td>\n",
       "      <td>94</td>\n",
       "      <td>87</td>\n",
       "      <td>149</td>\n",
       "      <td>204</td>\n",
       "      <td>150</td>\n",
       "      <td>220</td>\n",
       "      <td>36</td>\n",
       "      <td>...</td>\n",
       "      <td>81</td>\n",
       "      <td>67</td>\n",
       "      <td>81</td>\n",
       "      <td>78</td>\n",
       "      <td>84</td>\n",
       "      <td>89</td>\n",
       "      <td>129</td>\n",
       "      <td>98</td>\n",
       "      <td>115</td>\n",
       "      <td>57</td>\n",
       "    </tr>\n",
       "    <tr>\n",
       "      <th>3</th>\n",
       "      <td>Cz01g00050</td>\n",
       "      <td>49</td>\n",
       "      <td>46</td>\n",
       "      <td>73</td>\n",
       "      <td>42</td>\n",
       "      <td>134</td>\n",
       "      <td>169</td>\n",
       "      <td>145</td>\n",
       "      <td>155</td>\n",
       "      <td>23</td>\n",
       "      <td>...</td>\n",
       "      <td>53</td>\n",
       "      <td>65</td>\n",
       "      <td>69</td>\n",
       "      <td>63</td>\n",
       "      <td>67</td>\n",
       "      <td>61</td>\n",
       "      <td>99</td>\n",
       "      <td>86</td>\n",
       "      <td>69</td>\n",
       "      <td>38</td>\n",
       "    </tr>\n",
       "    <tr>\n",
       "      <th>4</th>\n",
       "      <td>Cz01g00060</td>\n",
       "      <td>36</td>\n",
       "      <td>33</td>\n",
       "      <td>51</td>\n",
       "      <td>39</td>\n",
       "      <td>46</td>\n",
       "      <td>52</td>\n",
       "      <td>38</td>\n",
       "      <td>44</td>\n",
       "      <td>20</td>\n",
       "      <td>...</td>\n",
       "      <td>37</td>\n",
       "      <td>54</td>\n",
       "      <td>31</td>\n",
       "      <td>20</td>\n",
       "      <td>31</td>\n",
       "      <td>22</td>\n",
       "      <td>47</td>\n",
       "      <td>38</td>\n",
       "      <td>29</td>\n",
       "      <td>19</td>\n",
       "    </tr>\n",
       "  </tbody>\n",
       "</table>\n",
       "<p>5 rows × 45 columns</p>\n",
       "</div>"
      ],
      "text/plain": [
       "  tracking_id  HL.0.5h0  HL.0.5h1  HL.0.5h2  HL.0.5h3  HL.12h0  HL.12h1  \\\n",
       "0  Cz01g00020       657       534       710       501      332      348   \n",
       "1  Cz01g00030       255       303       257       244      154      140   \n",
       "2  Cz01g00040        90        71        94        87      149      204   \n",
       "3  Cz01g00050        49        46        73        42      134      169   \n",
       "4  Cz01g00060        36        33        51        39       46       52   \n",
       "\n",
       "   HL.12h2  HL.12h3  HL.1h0  ...  ML.1h2  ML.1h3  ML.3h0  ML.3h1  ML.3h2  \\\n",
       "0      300      413     316  ...     590     667     460     463     524   \n",
       "1      147      144     210  ...     224     302     199     243     215   \n",
       "2      150      220      36  ...      81      67      81      78      84   \n",
       "3      145      155      23  ...      53      65      69      63      67   \n",
       "4       38       44      20  ...      37      54      31      20      31   \n",
       "\n",
       "   ML.3h3  ML.6h0  ML.6h1  ML.6h2  ML.6h3  \n",
       "0     458     296     285     272     110  \n",
       "1     235     182     184     160      47  \n",
       "2      89     129      98     115      57  \n",
       "3      61      99      86      69      38  \n",
       "4      22      47      38      29      19  \n",
       "\n",
       "[5 rows x 45 columns]"
      ]
     },
     "execution_count": 7,
     "metadata": {},
     "output_type": "execute_result"
    }
   ],
   "source": [
    "rna_data.head()"
   ]
  },
  {
   "cell_type": "markdown",
   "metadata": {},
   "source": [
    "### 2. What is `tracking_id`? <a id='subsection2'></a>"
   ]
  },
  {
   "cell_type": "markdown",
   "metadata": {},
   "source": [
    "The column `tracking_id` refers to the id of a specific gene we are tracking. Each one is in the form 'Cz##g#####'.\n",
    "\n",
    "- 'Cz' means that the gene is from the algae species _Chromochloris zofingiensis_.\n",
    "- '##g' (the next two digits + 'g') tell us which chromosome the gene is on.\n",
    "- '#####' (the last few digits) are a randomly assigned ID number."
   ]
  },
  {
   "cell_type": "markdown",
   "metadata": {},
   "source": [
    "Let's check if each gene ID is unique. Look back at notebook 07 (pandas dataframes) to remind yourself what function we can use to find the number of unique tracking IDs."
   ]
  },
  {
   "cell_type": "code",
   "execution_count": 8,
   "metadata": {},
   "outputs": [
    {
     "data": {
      "text/plain": [
       "15369"
      ]
     },
     "execution_count": 8,
     "metadata": {},
     "output_type": "execute_result"
    }
   ],
   "source": [
    "# EXERCISE\n",
    "\n",
    "rna_data[\"tracking_id\"].nunique()"
   ]
  },
  {
   "cell_type": "markdown",
   "metadata": {},
   "source": [
    "**Question 2** Compare the number of unique IDs to the number of rows. Notice that they are the same number. What does that mean?"
   ]
  },
  {
   "cell_type": "markdown",
   "metadata": {},
   "source": [
    "**KEY: Each row is unique in this dataset.**"
   ]
  },
  {
   "cell_type": "markdown",
   "metadata": {},
   "source": [
    "### 3. What are our other columns? <a id='subsection3'></a>"
   ]
  },
  {
   "cell_type": "markdown",
   "metadata": {},
   "source": [
    "Now that we have explored the first column, let's take a look at the remaining columns. In the cell below, print out the names of all of the columns."
   ]
  },
  {
   "cell_type": "code",
   "execution_count": 9,
   "metadata": {},
   "outputs": [
    {
     "data": {
      "text/plain": [
       "Index(['tracking_id', 'HL.0.5h0', 'HL.0.5h1', 'HL.0.5h2', 'HL.0.5h3',\n",
       "       'HL.12h0', 'HL.12h1', 'HL.12h2', 'HL.12h3', 'HL.1h0', 'HL.1h1',\n",
       "       'HL.1h2', 'HL.1h3', 'HL.3h0', 'HL.3h1', 'HL.3h2', 'HL.3h3', 'HL.6h0',\n",
       "       'HL.6h1', 'HL.6h2', 'HL.6h3', 'ML.0.5h0', 'ML.0.5h1', 'ML.0.5h2',\n",
       "       'ML.0.5h3', 'ML.0h0', 'ML.0h1', 'ML.0h2', 'ML.0h3', 'ML.12h0',\n",
       "       'ML.12h1', 'ML.12h2', 'ML.12h3', 'ML.1h0', 'ML.1h1', 'ML.1h2', 'ML.1h3',\n",
       "       'ML.3h0', 'ML.3h1', 'ML.3h2', 'ML.3h3', 'ML.6h0', 'ML.6h1', 'ML.6h2',\n",
       "       'ML.6h3'],\n",
       "      dtype='object')"
      ]
     },
     "execution_count": 9,
     "metadata": {},
     "output_type": "execute_result"
    }
   ],
   "source": [
    "# EXERCISE\n",
    "\n",
    "rna_data.columns"
   ]
  },
  {
   "cell_type": "markdown",
   "metadata": {},
   "source": [
    "**Question 3** Take a look at all of the column names other than the `tracking_id` column. What is similar about all of the names? What is different? Do you have any guesses about what these might mean?"
   ]
  },
  {
   "cell_type": "markdown",
   "metadata": {},
   "source": [
    "**KEY: Two groups - HL and ML (high light / medium light). There's also some similar numbers before h, which could stand for \"hours\"**"
   ]
  },
  {
   "cell_type": "markdown",
   "metadata": {},
   "source": [
    "## 2. Understanding and Cleaning the Data <a id='section2'></a>"
   ]
  },
  {
   "cell_type": "markdown",
   "metadata": {},
   "source": [
    "Now that we have an idea of what our columns look like, we can make our table easier to work with through data cleaning. Here are some of our main goals for cleaning the data:\n",
    "- Creating a table index that is useful\n",
    "- Changing column labels to be more readable\n",
    "- Finding and addressing null values"
   ]
  },
  {
   "cell_type": "markdown",
   "metadata": {},
   "source": [
    "Let's start with the first objective. Earlier, we found out that each `tracking_id` is unique, so we can make `tracking_id` our table index. This makes it easier to find data associated with a specific gene.\n",
    "\n",
    "Be a data scientist and do some online research to find out how to use the pandas function `set_index()`, then use it in the cell below:"
   ]
  },
  {
   "cell_type": "code",
   "execution_count": 10,
   "metadata": {
    "scrolled": true
   },
   "outputs": [
    {
     "data": {
      "text/html": [
       "<div>\n",
       "<style scoped>\n",
       "    .dataframe tbody tr th:only-of-type {\n",
       "        vertical-align: middle;\n",
       "    }\n",
       "\n",
       "    .dataframe tbody tr th {\n",
       "        vertical-align: top;\n",
       "    }\n",
       "\n",
       "    .dataframe thead th {\n",
       "        text-align: right;\n",
       "    }\n",
       "</style>\n",
       "<table border=\"1\" class=\"dataframe\">\n",
       "  <thead>\n",
       "    <tr style=\"text-align: right;\">\n",
       "      <th></th>\n",
       "      <th>HL.0.5h0</th>\n",
       "      <th>HL.0.5h1</th>\n",
       "      <th>HL.0.5h2</th>\n",
       "      <th>HL.0.5h3</th>\n",
       "      <th>HL.12h0</th>\n",
       "      <th>HL.12h1</th>\n",
       "      <th>HL.12h2</th>\n",
       "      <th>HL.12h3</th>\n",
       "      <th>HL.1h0</th>\n",
       "      <th>HL.1h1</th>\n",
       "      <th>...</th>\n",
       "      <th>ML.1h2</th>\n",
       "      <th>ML.1h3</th>\n",
       "      <th>ML.3h0</th>\n",
       "      <th>ML.3h1</th>\n",
       "      <th>ML.3h2</th>\n",
       "      <th>ML.3h3</th>\n",
       "      <th>ML.6h0</th>\n",
       "      <th>ML.6h1</th>\n",
       "      <th>ML.6h2</th>\n",
       "      <th>ML.6h3</th>\n",
       "    </tr>\n",
       "    <tr>\n",
       "      <th>tracking_id</th>\n",
       "      <th></th>\n",
       "      <th></th>\n",
       "      <th></th>\n",
       "      <th></th>\n",
       "      <th></th>\n",
       "      <th></th>\n",
       "      <th></th>\n",
       "      <th></th>\n",
       "      <th></th>\n",
       "      <th></th>\n",
       "      <th></th>\n",
       "      <th></th>\n",
       "      <th></th>\n",
       "      <th></th>\n",
       "      <th></th>\n",
       "      <th></th>\n",
       "      <th></th>\n",
       "      <th></th>\n",
       "      <th></th>\n",
       "      <th></th>\n",
       "      <th></th>\n",
       "    </tr>\n",
       "  </thead>\n",
       "  <tbody>\n",
       "    <tr>\n",
       "      <th>Cz01g00020</th>\n",
       "      <td>657</td>\n",
       "      <td>534</td>\n",
       "      <td>710</td>\n",
       "      <td>501</td>\n",
       "      <td>332</td>\n",
       "      <td>348</td>\n",
       "      <td>300</td>\n",
       "      <td>413</td>\n",
       "      <td>316</td>\n",
       "      <td>394</td>\n",
       "      <td>...</td>\n",
       "      <td>590</td>\n",
       "      <td>667</td>\n",
       "      <td>460</td>\n",
       "      <td>463</td>\n",
       "      <td>524</td>\n",
       "      <td>458</td>\n",
       "      <td>296</td>\n",
       "      <td>285</td>\n",
       "      <td>272</td>\n",
       "      <td>110</td>\n",
       "    </tr>\n",
       "    <tr>\n",
       "      <th>Cz01g00030</th>\n",
       "      <td>255</td>\n",
       "      <td>303</td>\n",
       "      <td>257</td>\n",
       "      <td>244</td>\n",
       "      <td>154</td>\n",
       "      <td>140</td>\n",
       "      <td>147</td>\n",
       "      <td>144</td>\n",
       "      <td>210</td>\n",
       "      <td>201</td>\n",
       "      <td>...</td>\n",
       "      <td>224</td>\n",
       "      <td>302</td>\n",
       "      <td>199</td>\n",
       "      <td>243</td>\n",
       "      <td>215</td>\n",
       "      <td>235</td>\n",
       "      <td>182</td>\n",
       "      <td>184</td>\n",
       "      <td>160</td>\n",
       "      <td>47</td>\n",
       "    </tr>\n",
       "    <tr>\n",
       "      <th>Cz01g00040</th>\n",
       "      <td>90</td>\n",
       "      <td>71</td>\n",
       "      <td>94</td>\n",
       "      <td>87</td>\n",
       "      <td>149</td>\n",
       "      <td>204</td>\n",
       "      <td>150</td>\n",
       "      <td>220</td>\n",
       "      <td>36</td>\n",
       "      <td>56</td>\n",
       "      <td>...</td>\n",
       "      <td>81</td>\n",
       "      <td>67</td>\n",
       "      <td>81</td>\n",
       "      <td>78</td>\n",
       "      <td>84</td>\n",
       "      <td>89</td>\n",
       "      <td>129</td>\n",
       "      <td>98</td>\n",
       "      <td>115</td>\n",
       "      <td>57</td>\n",
       "    </tr>\n",
       "    <tr>\n",
       "      <th>Cz01g00050</th>\n",
       "      <td>49</td>\n",
       "      <td>46</td>\n",
       "      <td>73</td>\n",
       "      <td>42</td>\n",
       "      <td>134</td>\n",
       "      <td>169</td>\n",
       "      <td>145</td>\n",
       "      <td>155</td>\n",
       "      <td>23</td>\n",
       "      <td>21</td>\n",
       "      <td>...</td>\n",
       "      <td>53</td>\n",
       "      <td>65</td>\n",
       "      <td>69</td>\n",
       "      <td>63</td>\n",
       "      <td>67</td>\n",
       "      <td>61</td>\n",
       "      <td>99</td>\n",
       "      <td>86</td>\n",
       "      <td>69</td>\n",
       "      <td>38</td>\n",
       "    </tr>\n",
       "    <tr>\n",
       "      <th>Cz01g00060</th>\n",
       "      <td>36</td>\n",
       "      <td>33</td>\n",
       "      <td>51</td>\n",
       "      <td>39</td>\n",
       "      <td>46</td>\n",
       "      <td>52</td>\n",
       "      <td>38</td>\n",
       "      <td>44</td>\n",
       "      <td>20</td>\n",
       "      <td>26</td>\n",
       "      <td>...</td>\n",
       "      <td>37</td>\n",
       "      <td>54</td>\n",
       "      <td>31</td>\n",
       "      <td>20</td>\n",
       "      <td>31</td>\n",
       "      <td>22</td>\n",
       "      <td>47</td>\n",
       "      <td>38</td>\n",
       "      <td>29</td>\n",
       "      <td>19</td>\n",
       "    </tr>\n",
       "  </tbody>\n",
       "</table>\n",
       "<p>5 rows × 44 columns</p>\n",
       "</div>"
      ],
      "text/plain": [
       "             HL.0.5h0  HL.0.5h1  HL.0.5h2  HL.0.5h3  HL.12h0  HL.12h1  \\\n",
       "tracking_id                                                             \n",
       "Cz01g00020        657       534       710       501      332      348   \n",
       "Cz01g00030        255       303       257       244      154      140   \n",
       "Cz01g00040         90        71        94        87      149      204   \n",
       "Cz01g00050         49        46        73        42      134      169   \n",
       "Cz01g00060         36        33        51        39       46       52   \n",
       "\n",
       "             HL.12h2  HL.12h3  HL.1h0  HL.1h1  ...  ML.1h2  ML.1h3  ML.3h0  \\\n",
       "tracking_id                                    ...                           \n",
       "Cz01g00020       300      413     316     394  ...     590     667     460   \n",
       "Cz01g00030       147      144     210     201  ...     224     302     199   \n",
       "Cz01g00040       150      220      36      56  ...      81      67      81   \n",
       "Cz01g00050       145      155      23      21  ...      53      65      69   \n",
       "Cz01g00060        38       44      20      26  ...      37      54      31   \n",
       "\n",
       "             ML.3h1  ML.3h2  ML.3h3  ML.6h0  ML.6h1  ML.6h2  ML.6h3  \n",
       "tracking_id                                                          \n",
       "Cz01g00020      463     524     458     296     285     272     110  \n",
       "Cz01g00030      243     215     235     182     184     160      47  \n",
       "Cz01g00040       78      84      89     129      98     115      57  \n",
       "Cz01g00050       63      67      61      99      86      69      38  \n",
       "Cz01g00060       20      31      22      47      38      29      19  \n",
       "\n",
       "[5 rows x 44 columns]"
      ]
     },
     "execution_count": 10,
     "metadata": {},
     "output_type": "execute_result"
    }
   ],
   "source": [
    "# EXERCISE\n",
    "\n",
    "rna_data = rna_data.set_index(\"tracking_id\")\n",
    "\n",
    "rna_data.head()"
   ]
  },
  {
   "cell_type": "markdown",
   "metadata": {},
   "source": [
    "### 2.1 Making More Readable Column Names <a id='subsection4'></a>"
   ]
  },
  {
   "cell_type": "markdown",
   "metadata": {},
   "source": [
    "Well done! Now let's talk about the other columns.\n",
    "\n",
    "You may have noticed earlier that they follow a structure.\n",
    "- 'HL' or 'ML' refers to whether the algae grew in 'high light' or 'medium light' respectively.\n",
    "- '##h' tells us how many hours the algae was exposed to the light before a sample was collected.\n",
    "    - For HL, the range of times is [0.5, 12, 1, 3, 6].\n",
    "    - For ML, the range of times is [0.5, 0, 12, 1, 3, 6].\n",
    "- '#' (the last digit) is an indicator of what replication of the sample it is.\n",
    "    - Each experiment has 4 replications labeled 0, 1, 2, or 3.\n",
    "\n",
    "The column `HL.0.5h0` can be read as \"high light for 0.5 hours -- sample 0\"."
   ]
  },
  {
   "cell_type": "markdown",
   "metadata": {},
   "source": [
    "This format is hard to read with the period after 'HL'/'ML' and the 'h' denoting that the time is in hours. Let's change the column names so that it is easier for us to read. We have provided new column names for you to use in the following format.\n",
    "- '##' (the first few digits) tell us the number of hours of light exposure.\n",
    "- 'HL' or 'ML' denotes the light intensity.\n",
    "- '-#' gives us the replication number.\n",
    "\n",
    "The column `0.5HL-0` can be read as \"0.5 hours of high light for sample 0\"."
   ]
  },
  {
   "cell_type": "markdown",
   "metadata": {},
   "source": [
    "_Quick Note:_ This format is better in terms of readability, but it might not be best for future coding uses and analyses! In data science, we sometimes have to compromise between readability and practicality. In this case, we want you to understand the data well, so we chose to emphasize readibility over practicality."
   ]
  },
  {
   "cell_type": "code",
   "execution_count": 11,
   "metadata": {},
   "outputs": [],
   "source": [
    "rna_new_columns = ['0.5HL-0', '0.5HL-1', '0.5HL-2', '0.5HL-3',\n",
    "        '12HL-0', '12HL-1', '12HL-2', '12HL-3', \n",
    "        '1HL-0', '1HL-1', '1HL-2', '1HL-3', \n",
    "        '3HL-0', '3HL-1', '3HL-2', '3HL-3', \n",
    "        '6HL-0', '6HL-1', '6HL-2', '6HL-3',\n",
    "\n",
    "        '0.5ML-0', '0.5ML-1', '0.5ML-2','0.5ML-3', \n",
    "        '0ML-0', '0ML-1', '0ML-2', '0ML-3', \n",
    "        '12ML-0', '12ML-1', '12ML-2', '12ML-3', \n",
    "        '1ML-0', '1ML-1', '1ML-2', '1ML-3',\n",
    "        '3ML-0', '3ML-1', '3ML-2', '3ML-3', \n",
    "        '6ML-0', '6ML-1', '6ML-2', '6ML-3']"
   ]
  },
  {
   "cell_type": "markdown",
   "metadata": {},
   "source": [
    "Relabel the columns of `rna_data` to the given labels in `rna_new_columns`."
   ]
  },
  {
   "cell_type": "code",
   "execution_count": 12,
   "metadata": {},
   "outputs": [
    {
     "data": {
      "text/html": [
       "<div>\n",
       "<style scoped>\n",
       "    .dataframe tbody tr th:only-of-type {\n",
       "        vertical-align: middle;\n",
       "    }\n",
       "\n",
       "    .dataframe tbody tr th {\n",
       "        vertical-align: top;\n",
       "    }\n",
       "\n",
       "    .dataframe thead th {\n",
       "        text-align: right;\n",
       "    }\n",
       "</style>\n",
       "<table border=\"1\" class=\"dataframe\">\n",
       "  <thead>\n",
       "    <tr style=\"text-align: right;\">\n",
       "      <th></th>\n",
       "      <th>0.5HL-0</th>\n",
       "      <th>0.5HL-1</th>\n",
       "      <th>0.5HL-2</th>\n",
       "      <th>0.5HL-3</th>\n",
       "      <th>12HL-0</th>\n",
       "      <th>12HL-1</th>\n",
       "      <th>12HL-2</th>\n",
       "      <th>12HL-3</th>\n",
       "      <th>1HL-0</th>\n",
       "      <th>1HL-1</th>\n",
       "      <th>...</th>\n",
       "      <th>1ML-2</th>\n",
       "      <th>1ML-3</th>\n",
       "      <th>3ML-0</th>\n",
       "      <th>3ML-1</th>\n",
       "      <th>3ML-2</th>\n",
       "      <th>3ML-3</th>\n",
       "      <th>6ML-0</th>\n",
       "      <th>6ML-1</th>\n",
       "      <th>6ML-2</th>\n",
       "      <th>6ML-3</th>\n",
       "    </tr>\n",
       "    <tr>\n",
       "      <th>tracking_id</th>\n",
       "      <th></th>\n",
       "      <th></th>\n",
       "      <th></th>\n",
       "      <th></th>\n",
       "      <th></th>\n",
       "      <th></th>\n",
       "      <th></th>\n",
       "      <th></th>\n",
       "      <th></th>\n",
       "      <th></th>\n",
       "      <th></th>\n",
       "      <th></th>\n",
       "      <th></th>\n",
       "      <th></th>\n",
       "      <th></th>\n",
       "      <th></th>\n",
       "      <th></th>\n",
       "      <th></th>\n",
       "      <th></th>\n",
       "      <th></th>\n",
       "      <th></th>\n",
       "    </tr>\n",
       "  </thead>\n",
       "  <tbody>\n",
       "    <tr>\n",
       "      <th>Cz01g00020</th>\n",
       "      <td>657</td>\n",
       "      <td>534</td>\n",
       "      <td>710</td>\n",
       "      <td>501</td>\n",
       "      <td>332</td>\n",
       "      <td>348</td>\n",
       "      <td>300</td>\n",
       "      <td>413</td>\n",
       "      <td>316</td>\n",
       "      <td>394</td>\n",
       "      <td>...</td>\n",
       "      <td>590</td>\n",
       "      <td>667</td>\n",
       "      <td>460</td>\n",
       "      <td>463</td>\n",
       "      <td>524</td>\n",
       "      <td>458</td>\n",
       "      <td>296</td>\n",
       "      <td>285</td>\n",
       "      <td>272</td>\n",
       "      <td>110</td>\n",
       "    </tr>\n",
       "    <tr>\n",
       "      <th>Cz01g00030</th>\n",
       "      <td>255</td>\n",
       "      <td>303</td>\n",
       "      <td>257</td>\n",
       "      <td>244</td>\n",
       "      <td>154</td>\n",
       "      <td>140</td>\n",
       "      <td>147</td>\n",
       "      <td>144</td>\n",
       "      <td>210</td>\n",
       "      <td>201</td>\n",
       "      <td>...</td>\n",
       "      <td>224</td>\n",
       "      <td>302</td>\n",
       "      <td>199</td>\n",
       "      <td>243</td>\n",
       "      <td>215</td>\n",
       "      <td>235</td>\n",
       "      <td>182</td>\n",
       "      <td>184</td>\n",
       "      <td>160</td>\n",
       "      <td>47</td>\n",
       "    </tr>\n",
       "    <tr>\n",
       "      <th>Cz01g00040</th>\n",
       "      <td>90</td>\n",
       "      <td>71</td>\n",
       "      <td>94</td>\n",
       "      <td>87</td>\n",
       "      <td>149</td>\n",
       "      <td>204</td>\n",
       "      <td>150</td>\n",
       "      <td>220</td>\n",
       "      <td>36</td>\n",
       "      <td>56</td>\n",
       "      <td>...</td>\n",
       "      <td>81</td>\n",
       "      <td>67</td>\n",
       "      <td>81</td>\n",
       "      <td>78</td>\n",
       "      <td>84</td>\n",
       "      <td>89</td>\n",
       "      <td>129</td>\n",
       "      <td>98</td>\n",
       "      <td>115</td>\n",
       "      <td>57</td>\n",
       "    </tr>\n",
       "    <tr>\n",
       "      <th>Cz01g00050</th>\n",
       "      <td>49</td>\n",
       "      <td>46</td>\n",
       "      <td>73</td>\n",
       "      <td>42</td>\n",
       "      <td>134</td>\n",
       "      <td>169</td>\n",
       "      <td>145</td>\n",
       "      <td>155</td>\n",
       "      <td>23</td>\n",
       "      <td>21</td>\n",
       "      <td>...</td>\n",
       "      <td>53</td>\n",
       "      <td>65</td>\n",
       "      <td>69</td>\n",
       "      <td>63</td>\n",
       "      <td>67</td>\n",
       "      <td>61</td>\n",
       "      <td>99</td>\n",
       "      <td>86</td>\n",
       "      <td>69</td>\n",
       "      <td>38</td>\n",
       "    </tr>\n",
       "    <tr>\n",
       "      <th>Cz01g00060</th>\n",
       "      <td>36</td>\n",
       "      <td>33</td>\n",
       "      <td>51</td>\n",
       "      <td>39</td>\n",
       "      <td>46</td>\n",
       "      <td>52</td>\n",
       "      <td>38</td>\n",
       "      <td>44</td>\n",
       "      <td>20</td>\n",
       "      <td>26</td>\n",
       "      <td>...</td>\n",
       "      <td>37</td>\n",
       "      <td>54</td>\n",
       "      <td>31</td>\n",
       "      <td>20</td>\n",
       "      <td>31</td>\n",
       "      <td>22</td>\n",
       "      <td>47</td>\n",
       "      <td>38</td>\n",
       "      <td>29</td>\n",
       "      <td>19</td>\n",
       "    </tr>\n",
       "  </tbody>\n",
       "</table>\n",
       "<p>5 rows × 44 columns</p>\n",
       "</div>"
      ],
      "text/plain": [
       "             0.5HL-0  0.5HL-1  0.5HL-2  0.5HL-3  12HL-0  12HL-1  12HL-2  \\\n",
       "tracking_id                                                               \n",
       "Cz01g00020       657      534      710      501     332     348     300   \n",
       "Cz01g00030       255      303      257      244     154     140     147   \n",
       "Cz01g00040        90       71       94       87     149     204     150   \n",
       "Cz01g00050        49       46       73       42     134     169     145   \n",
       "Cz01g00060        36       33       51       39      46      52      38   \n",
       "\n",
       "             12HL-3  1HL-0  1HL-1  ...  1ML-2  1ML-3  3ML-0  3ML-1  3ML-2  \\\n",
       "tracking_id                        ...                                      \n",
       "Cz01g00020      413    316    394  ...    590    667    460    463    524   \n",
       "Cz01g00030      144    210    201  ...    224    302    199    243    215   \n",
       "Cz01g00040      220     36     56  ...     81     67     81     78     84   \n",
       "Cz01g00050      155     23     21  ...     53     65     69     63     67   \n",
       "Cz01g00060       44     20     26  ...     37     54     31     20     31   \n",
       "\n",
       "             3ML-3  6ML-0  6ML-1  6ML-2  6ML-3  \n",
       "tracking_id                                     \n",
       "Cz01g00020     458    296    285    272    110  \n",
       "Cz01g00030     235    182    184    160     47  \n",
       "Cz01g00040      89    129     98    115     57  \n",
       "Cz01g00050      61     99     86     69     38  \n",
       "Cz01g00060      22     47     38     29     19  \n",
       "\n",
       "[5 rows x 44 columns]"
      ]
     },
     "execution_count": 12,
     "metadata": {},
     "output_type": "execute_result"
    }
   ],
   "source": [
    "# EXERCISE\n",
    "\n",
    "rna_data.columns = rna_new_columns\n",
    "\n",
    "rna_data.head()"
   ]
  },
  {
   "cell_type": "markdown",
   "metadata": {},
   "source": [
    "### 2.2 Understanding the Data Values <a id='subsection5'></a>"
   ]
  },
  {
   "cell_type": "markdown",
   "metadata": {},
   "source": [
    "To get a better understanding of the data we are working with, take a look at the data in the first 10 rows and first 10 columns. Use `iloc` to do this (you can look back at notebook 07 to remind yourself how iloc works)."
   ]
  },
  {
   "cell_type": "code",
   "execution_count": 13,
   "metadata": {},
   "outputs": [
    {
     "data": {
      "text/html": [
       "<div>\n",
       "<style scoped>\n",
       "    .dataframe tbody tr th:only-of-type {\n",
       "        vertical-align: middle;\n",
       "    }\n",
       "\n",
       "    .dataframe tbody tr th {\n",
       "        vertical-align: top;\n",
       "    }\n",
       "\n",
       "    .dataframe thead th {\n",
       "        text-align: right;\n",
       "    }\n",
       "</style>\n",
       "<table border=\"1\" class=\"dataframe\">\n",
       "  <thead>\n",
       "    <tr style=\"text-align: right;\">\n",
       "      <th></th>\n",
       "      <th>0.5HL-0</th>\n",
       "      <th>0.5HL-1</th>\n",
       "      <th>0.5HL-2</th>\n",
       "      <th>0.5HL-3</th>\n",
       "      <th>12HL-0</th>\n",
       "      <th>12HL-1</th>\n",
       "      <th>12HL-2</th>\n",
       "      <th>12HL-3</th>\n",
       "      <th>1HL-0</th>\n",
       "      <th>1HL-1</th>\n",
       "    </tr>\n",
       "    <tr>\n",
       "      <th>tracking_id</th>\n",
       "      <th></th>\n",
       "      <th></th>\n",
       "      <th></th>\n",
       "      <th></th>\n",
       "      <th></th>\n",
       "      <th></th>\n",
       "      <th></th>\n",
       "      <th></th>\n",
       "      <th></th>\n",
       "      <th></th>\n",
       "    </tr>\n",
       "  </thead>\n",
       "  <tbody>\n",
       "    <tr>\n",
       "      <th>Cz01g00020</th>\n",
       "      <td>657</td>\n",
       "      <td>534</td>\n",
       "      <td>710</td>\n",
       "      <td>501</td>\n",
       "      <td>332</td>\n",
       "      <td>348</td>\n",
       "      <td>300</td>\n",
       "      <td>413</td>\n",
       "      <td>316</td>\n",
       "      <td>394</td>\n",
       "    </tr>\n",
       "    <tr>\n",
       "      <th>Cz01g00030</th>\n",
       "      <td>255</td>\n",
       "      <td>303</td>\n",
       "      <td>257</td>\n",
       "      <td>244</td>\n",
       "      <td>154</td>\n",
       "      <td>140</td>\n",
       "      <td>147</td>\n",
       "      <td>144</td>\n",
       "      <td>210</td>\n",
       "      <td>201</td>\n",
       "    </tr>\n",
       "    <tr>\n",
       "      <th>Cz01g00040</th>\n",
       "      <td>90</td>\n",
       "      <td>71</td>\n",
       "      <td>94</td>\n",
       "      <td>87</td>\n",
       "      <td>149</td>\n",
       "      <td>204</td>\n",
       "      <td>150</td>\n",
       "      <td>220</td>\n",
       "      <td>36</td>\n",
       "      <td>56</td>\n",
       "    </tr>\n",
       "    <tr>\n",
       "      <th>Cz01g00050</th>\n",
       "      <td>49</td>\n",
       "      <td>46</td>\n",
       "      <td>73</td>\n",
       "      <td>42</td>\n",
       "      <td>134</td>\n",
       "      <td>169</td>\n",
       "      <td>145</td>\n",
       "      <td>155</td>\n",
       "      <td>23</td>\n",
       "      <td>21</td>\n",
       "    </tr>\n",
       "    <tr>\n",
       "      <th>Cz01g00060</th>\n",
       "      <td>36</td>\n",
       "      <td>33</td>\n",
       "      <td>51</td>\n",
       "      <td>39</td>\n",
       "      <td>46</td>\n",
       "      <td>52</td>\n",
       "      <td>38</td>\n",
       "      <td>44</td>\n",
       "      <td>20</td>\n",
       "      <td>26</td>\n",
       "    </tr>\n",
       "    <tr>\n",
       "      <th>Cz01g00070</th>\n",
       "      <td>155</td>\n",
       "      <td>114</td>\n",
       "      <td>180</td>\n",
       "      <td>139</td>\n",
       "      <td>93</td>\n",
       "      <td>95</td>\n",
       "      <td>71</td>\n",
       "      <td>119</td>\n",
       "      <td>62</td>\n",
       "      <td>80</td>\n",
       "    </tr>\n",
       "    <tr>\n",
       "      <th>Cz01g00080</th>\n",
       "      <td>336</td>\n",
       "      <td>307</td>\n",
       "      <td>360</td>\n",
       "      <td>378</td>\n",
       "      <td>301</td>\n",
       "      <td>332</td>\n",
       "      <td>240</td>\n",
       "      <td>318</td>\n",
       "      <td>232</td>\n",
       "      <td>275</td>\n",
       "    </tr>\n",
       "    <tr>\n",
       "      <th>Cz01g00090</th>\n",
       "      <td>206</td>\n",
       "      <td>189</td>\n",
       "      <td>231</td>\n",
       "      <td>134</td>\n",
       "      <td>76</td>\n",
       "      <td>80</td>\n",
       "      <td>56</td>\n",
       "      <td>62</td>\n",
       "      <td>100</td>\n",
       "      <td>155</td>\n",
       "    </tr>\n",
       "    <tr>\n",
       "      <th>Cz01g00100</th>\n",
       "      <td>1827</td>\n",
       "      <td>1527</td>\n",
       "      <td>1932</td>\n",
       "      <td>1689</td>\n",
       "      <td>780</td>\n",
       "      <td>969</td>\n",
       "      <td>735</td>\n",
       "      <td>1003</td>\n",
       "      <td>695</td>\n",
       "      <td>1004</td>\n",
       "    </tr>\n",
       "    <tr>\n",
       "      <th>Cz01g00110</th>\n",
       "      <td>265</td>\n",
       "      <td>242</td>\n",
       "      <td>306</td>\n",
       "      <td>245</td>\n",
       "      <td>340</td>\n",
       "      <td>508</td>\n",
       "      <td>331</td>\n",
       "      <td>472</td>\n",
       "      <td>132</td>\n",
       "      <td>201</td>\n",
       "    </tr>\n",
       "  </tbody>\n",
       "</table>\n",
       "</div>"
      ],
      "text/plain": [
       "             0.5HL-0  0.5HL-1  0.5HL-2  0.5HL-3  12HL-0  12HL-1  12HL-2  \\\n",
       "tracking_id                                                               \n",
       "Cz01g00020       657      534      710      501     332     348     300   \n",
       "Cz01g00030       255      303      257      244     154     140     147   \n",
       "Cz01g00040        90       71       94       87     149     204     150   \n",
       "Cz01g00050        49       46       73       42     134     169     145   \n",
       "Cz01g00060        36       33       51       39      46      52      38   \n",
       "Cz01g00070       155      114      180      139      93      95      71   \n",
       "Cz01g00080       336      307      360      378     301     332     240   \n",
       "Cz01g00090       206      189      231      134      76      80      56   \n",
       "Cz01g00100      1827     1527     1932     1689     780     969     735   \n",
       "Cz01g00110       265      242      306      245     340     508     331   \n",
       "\n",
       "             12HL-3  1HL-0  1HL-1  \n",
       "tracking_id                        \n",
       "Cz01g00020      413    316    394  \n",
       "Cz01g00030      144    210    201  \n",
       "Cz01g00040      220     36     56  \n",
       "Cz01g00050      155     23     21  \n",
       "Cz01g00060       44     20     26  \n",
       "Cz01g00070      119     62     80  \n",
       "Cz01g00080      318    232    275  \n",
       "Cz01g00090       62    100    155  \n",
       "Cz01g00100     1003    695   1004  \n",
       "Cz01g00110      472    132    201  "
      ]
     },
     "execution_count": 13,
     "metadata": {},
     "output_type": "execute_result"
    }
   ],
   "source": [
    "# EXERCISE\n",
    "\n",
    "rna_data.iloc[0:10, 0:10]"
   ]
  },
  {
   "cell_type": "markdown",
   "metadata": {},
   "source": [
    "**Question 4** We have a full understanding of our data table's labels, so let's now consider what the values in the table represent. What data type(s) are the values in the table? What do you think they might represent?"
   ]
  },
  {
   "cell_type": "markdown",
   "metadata": {},
   "source": [
    "**KEY: Numerical data. Number of RNA reads for each gene.**"
   ]
  },
  {
   "cell_type": "markdown",
   "metadata": {},
   "source": [
    "Check if there is any missing data in the following cell (look back at notebook 07). Based on your answer above, think about whether this would affect our data analysis later."
   ]
  },
  {
   "cell_type": "code",
   "execution_count": 14,
   "metadata": {},
   "outputs": [
    {
     "data": {
      "text/plain": [
       "0.5HL-0    0\n",
       "0.5HL-1    0\n",
       "0.5HL-2    0\n",
       "0.5HL-3    0\n",
       "12HL-0     0\n",
       "12HL-1     0\n",
       "12HL-2     0\n",
       "12HL-3     0\n",
       "1HL-0      0\n",
       "1HL-1      0\n",
       "1HL-2      0\n",
       "1HL-3      0\n",
       "3HL-0      0\n",
       "3HL-1      0\n",
       "3HL-2      0\n",
       "3HL-3      0\n",
       "6HL-0      0\n",
       "6HL-1      0\n",
       "6HL-2      0\n",
       "6HL-3      0\n",
       "0.5ML-0    0\n",
       "0.5ML-1    0\n",
       "0.5ML-2    0\n",
       "0.5ML-3    0\n",
       "0ML-0      0\n",
       "0ML-1      0\n",
       "0ML-2      0\n",
       "0ML-3      0\n",
       "12ML-0     0\n",
       "12ML-1     0\n",
       "12ML-2     0\n",
       "12ML-3     0\n",
       "1ML-0      0\n",
       "1ML-1      0\n",
       "1ML-2      0\n",
       "1ML-3      0\n",
       "3ML-0      0\n",
       "3ML-1      0\n",
       "3ML-2      0\n",
       "3ML-3      0\n",
       "6ML-0      0\n",
       "6ML-1      0\n",
       "6ML-2      0\n",
       "6ML-3      0\n",
       "dtype: int64"
      ]
     },
     "execution_count": 14,
     "metadata": {},
     "output_type": "execute_result"
    }
   ],
   "source": [
    "# EXERCISE\n",
    "\n",
    "rna_data.isnull().sum()"
   ]
  },
  {
   "cell_type": "markdown",
   "metadata": {},
   "source": [
    "It's a good thing we have no missing data! It seems like all of our data values are numbers, so let's see what range of values are under our `0.5HL-0` column. \n",
    "\n",
    "Find the minimum value, maximum value, and mean in the `0.5HL-0` column (again notebook 07 can give you helpful reminders on what functions to use)."
   ]
  },
  {
   "cell_type": "code",
   "execution_count": 15,
   "metadata": {},
   "outputs": [
    {
     "name": "stdout",
     "output_type": "stream",
     "text": [
      "Minimum 0.5HL-0 value: 0\n",
      "Maximum 0.5HL-0 value: 923998\n",
      "Mean 0.5HL-0 value: 458.6757759125512\n"
     ]
    }
   ],
   "source": [
    "#EXERCISE\n",
    "\n",
    "min_val_1 = rna_data[\"0.5HL-0\"].min() \n",
    "max_val_1 = rna_data[\"0.5HL-0\"].max() \n",
    "mean_val_1 = rna_data[\"0.5HL-0\"].mean() \n",
    "\n",
    "print(\"Minimum 0.5HL-0 value: \" + str(min_val_1))\n",
    "print(\"Maximum 0.5HL-0 value: \" + str(max_val_1))\n",
    "print(\"Mean 0.5HL-0 value: \" + str(mean_val_1))"
   ]
  },
  {
   "cell_type": "markdown",
   "metadata": {},
   "source": [
    "It seems like there is a large range of numbers under this column. Choose another column and check if it has a range of values that is just as large as `0.5HL-0`. Feel free to try multiple different columns."
   ]
  },
  {
   "cell_type": "code",
   "execution_count": 16,
   "metadata": {},
   "outputs": [
    {
     "name": "stdout",
     "output_type": "stream",
     "text": [
      "Minimum value: 0\n",
      "Maximum value: 772184\n",
      "Mean value: 373.1059275164292\n"
     ]
    }
   ],
   "source": [
    "#EXERCISE\n",
    "\n",
    "min_val_2 = rna_data[\"0.5ML-0\"].min() \n",
    "max_val_2 = rna_data[\"0.5ML-0\"].max() \n",
    "mean_val_2 = rna_data[\"0.5ML-0\"].mean()\n",
    "\n",
    "print(\"Minimum value: \" + str(min_val_2))\n",
    "print(\"Maximum value: \" + str(max_val_2))\n",
    "print(\"Mean value: \" + str(mean_val_2))"
   ]
  },
  {
   "cell_type": "markdown",
   "metadata": {},
   "source": [
    "Why are the range of values so broad for most columns? \n",
    "\n",
    "The values in our data table represent the number of \"turned on\" genes under the given light conditions. Some genes may turn on more under lower light conditions while others may turn on more under higher light conditions. We might also see that some genes may turn on more after longer light exposure than they will under shorter light exposure.\n",
    "\n",
    "In order to analyze, this however, we need to be able to look at numbers that range from 0 to the hundreds of thousands! We will address this issue in the next notebook. \n",
    "\n",
    "Let's save our progress by using the `.to_csv()` function to save the dataframe `rna_data`, to \"rna_data_cleaned.csv\". Don't forget to specify to save it in the *data* folder."
   ]
  },
  {
   "cell_type": "code",
   "execution_count": 17,
   "metadata": {},
   "outputs": [],
   "source": [
    "# EXERCISE\n",
    "\n",
    "rna_data.to_csv(\"data/rna_data_cleaned.csv\")"
   ]
  },
  {
   "cell_type": "markdown",
   "metadata": {},
   "source": [
    "Notebook developed by: Ciara Acosta, Sharon Greenblum, Alisa Bettale"
   ]
  }
 ],
 "metadata": {
  "colab": {
   "collapsed_sections": [],
   "name": "Copy of RNAseq_tutorial_python.ipynb",
   "provenance": []
  },
  "kernelspec": {
   "display_name": "Python 3",
   "language": "python",
   "name": "python3"
  },
  "language_info": {
   "codemirror_mode": {
    "name": "ipython",
    "version": 3
   },
   "file_extension": ".py",
   "mimetype": "text/x-python",
   "name": "python",
   "nbconvert_exporter": "python",
   "pygments_lexer": "ipython3",
   "version": "3.8.8"
  }
 },
 "nbformat": 4,
 "nbformat_minor": 1
}
