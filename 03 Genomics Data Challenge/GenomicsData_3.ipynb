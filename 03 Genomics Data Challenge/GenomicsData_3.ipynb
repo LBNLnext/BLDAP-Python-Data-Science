{
 "cells": [
  {
   "cell_type": "markdown",
   "metadata": {},
   "source": [
    "# Genomics Data Notebook 3: Visualizing Our Data\n",
    "\n",
    "\n",
    "---"
   ]
  },
  {
   "cell_type": "markdown",
   "metadata": {},
   "source": [
    "### Goal For This Notebook:\n",
    "\n",
    "1 - Visualize the relationship between light exposure time and reads<br>\n",
    "\n",
    "2 - Visualize the relationship between high and medium light<br>\n",
    "\n",
    "3 - Draw conclusions from data visualizations<br>\n",
    "\n",
    "---\n",
    "\n",
    "### Table of Contents\n",
    "\n",
    "1 - [Separating Our Data Tables](#section1)<br>\n",
    "\n",
    "2 - [The Relationship between Light Exposure Time and Reads](#section2)<br>\n",
    "\n",
    "3 - [The Relationship between High and Medium Light](#section3)<br>\n",
    "\n",
    "4 - [Conclusions](#section4)<br>\n",
    "\n",
    "---"
   ]
  },
  {
   "cell_type": "markdown",
   "metadata": {},
   "source": [
    "<img src=\"images/algae.png\" align=\"left\">"
   ]
  },
  {
   "cell_type": "markdown",
   "metadata": {},
   "source": [
    "For the final genomics data notebook, we will create visualizations of our data. In the previous notebooks, we have made our data more readable, normalized by read depth (.ie. by columns), and normalized by gene length (i.e. by row). The first of these steps made our data easier to read and therefore interpret. The last two accounted for the different scales of read depths under different conditions/samples and the various sequence lengths that different genes produce.\n",
    "\n",
    "Let's import our libraries and our data from the file `rna_normalized.csv` located in the data folder. Make sure that the dataframe's values are normalized (are in proportions)."
   ]
  },
  {
   "cell_type": "code",
   "execution_count": null,
   "metadata": {},
   "outputs": [],
   "source": [
    "import pandas as pd\n",
    "import matplotlib.pyplot as plt\n",
    "import numpy as np"
   ]
  },
  {
   "cell_type": "code",
   "execution_count": null,
   "metadata": {},
   "outputs": [],
   "source": [
    "# EXERCISE\n",
    "\n",
    "rna_data = pd.read_csv(\"...\", index_col=0)\n",
    "\n",
    "rna_data.head()"
   ]
  },
  {
   "cell_type": "markdown",
   "metadata": {},
   "source": [
    "## 1. Separating Our Data Tables<a id ='section1'>"
   ]
  },
  {
   "cell_type": "markdown",
   "metadata": {},
   "source": [
    "In order to create visualizations that represent our data well, it might be easier to separate our data into two tables -- one with the data under high light conditions and another with the data under medium light conditions.\n",
    "\n",
    "Create separate tables for high light and medium light. To do this, type out the column labels that we would like to use in the ellipses (...). Also, be sure to put them in order of hours of light exposure and to keep only the conditions whose hours are found in both high light and medium light.\n",
    "\n",
    "As a reference, we have printed out all the column labels."
   ]
  },
  {
   "cell_type": "code",
   "execution_count": null,
   "metadata": {},
   "outputs": [],
   "source": [
    "rna_data.columns"
   ]
  },
  {
   "cell_type": "code",
   "execution_count": null,
   "metadata": {},
   "outputs": [],
   "source": [
    "# EXERCISE\n",
    "\n",
    "rna_HL = rna_data[['...', '...', '...', '...', \n",
    "        '...', '...', '...', '...', \n",
    "        '...', '...', '...', '...', \n",
    "        '...', '...', '...', '...',\n",
    "        '...', '...', '...', '...']]\n",
    "\n",
    "rna_ML = rna_data[[...]]"
   ]
  },
  {
   "cell_type": "markdown",
   "metadata": {},
   "source": [
    "Now we can visualize our data more effectively. Let's first look at how reads change as light exposure times increase."
   ]
  },
  {
   "cell_type": "markdown",
   "metadata": {},
   "source": [
    "## 2. The Relationship between Light Exposure Time and Reads<a id='section2'>"
   ]
  },
  {
   "cell_type": "markdown",
   "metadata": {},
   "source": [
    "Before we look at the relationship between light exposure time and reads, we need to consider what we should visualize! We could have light exposure times on the x-axis and reads on the y-axis, but what would our datapoints be?\n",
    "\n",
    "We have reads for thousands of genes under various light exposure times, so let's just stick with looking at one. Like the previous two notebooks, we can look at gene `Cz01g00040`.\n",
    "\n",
    "- Assign `light_times` to the light exposure times that are in both `rna_HL` and `rna_ML`.\n",
    "    - There should be replications of the same time since we have 4 samples of each light exposure period.\n",
    "- Assign `rna_HL_gene` to the data associated with `Cz01g00040` under high light exposures. Use `loc` to grab the appropriate row.\n",
    "- Assign `rna_ML_gene` to the data associated with `Cz01g00040` under medium light exposures. Use `loc` to grab the appropriate row."
   ]
  },
  {
   "cell_type": "code",
   "execution_count": null,
   "metadata": {},
   "outputs": [],
   "source": [
    "# EXERCISE\n",
    "\n",
    "light_times = [0.5, 0.5, 0.5, 0.5, ...]\n",
    "\n",
    "rna_HL_gene = rna_HL.loc[\"...\", :]\n",
    "rna_ML_gene = rna_ML.loc[...]"
   ]
  },
  {
   "cell_type": "markdown",
   "metadata": {},
   "source": [
    "The following cell generates a visualization that compares light exposure times to reads. It does not differentiate between the two different light intensities, but it is still a helpful intermediate step in analyzing our data."
   ]
  },
  {
   "cell_type": "code",
   "execution_count": null,
   "metadata": {},
   "outputs": [],
   "source": [
    "# EXAMPLE\n",
    "\n",
    "light_times_twice = light_times + light_times\n",
    "rna_gene = pd.concat([rna_HL_gene, rna_ML_gene])\n",
    "\n",
    "plt.scatter(light_times_twice, rna_gene)\n",
    "plt.title(\"Light Times vs. Reads\")\n",
    "plt.xlabel(\"Light Times (hr)\")\n",
    "plt.ylabel(\"Reads\");"
   ]
  },
  {
   "cell_type": "markdown",
   "metadata": {},
   "source": [
    "***Checkpoint:*** *If you did it correctly, your plot should look like this:*\n",
    "<img src = \"images/genomics3_output1.png\" width=\"400\">"
   ]
  },
  {
   "cell_type": "markdown",
   "metadata": {},
   "source": [
    "**Question 1** What relationship or patterns do you see? What do you think this means?"
   ]
  },
  {
   "cell_type": "markdown",
   "metadata": {},
   "source": [
    "**Key: Although the ranges vary for each light time, overall there seems to be a relationship that the higher the light time, the higher the reads.**"
   ]
  },
  {
   "cell_type": "markdown",
   "metadata": {},
   "source": [
    "Now that you have seen an example on how to create a scatter plot, it's your turn to create a scatter plot that visualizes the relationship between light exposure times and reads while separating the high light data from the medium light data.\n",
    "\n",
    "To do so, use `light_times`, `rna_HL_gene`, and `rna_ML_gene`."
   ]
  },
  {
   "cell_type": "code",
   "execution_count": null,
   "metadata": {},
   "outputs": [],
   "source": [
    "# EXERCISE\n",
    "\n",
    "plt.scatter(..., ...) #Plot rna_HL_gene\n",
    "plt.scatter(..., ...) #Plot rna_ML_gene\n",
    "plt.title(\"Light Times vs. Reads\")\n",
    "plt.xlabel(\"Light Times (hr)\")\n",
    "plt.ylabel(\"Reads\")\n",
    "plt.legend(['High Light', 'Medium Light']);"
   ]
  },
  {
   "cell_type": "markdown",
   "metadata": {},
   "source": [
    "***Checkpoint:*** *If you did it correctly, your plot should look like this:*\n",
    "<img src = \"images/genomics3_output2.png\" width=\"400\">"
   ]
  },
  {
   "cell_type": "markdown",
   "metadata": {},
   "source": [
    "**Question 2** Here you can see the difference between high light datapoints and medium light datapoints. Do you notice a different pattern between the two? What is different?"
   ]
  },
  {
   "cell_type": "markdown",
   "metadata": {},
   "source": [
    "**Key: Similar pattern overall. However, for the medium light, the 12-hour light time data is not as high for high light.**"
   ]
  },
  {
   "cell_type": "markdown",
   "metadata": {},
   "source": [
    "Let's create linear models for our high light data and medium light data. We will use the function `polyfit()` from the numpy library. `polyfit()` takes in your x and y data values. We also put in the argument '1' to indicate we are working with a linear model.\n",
    "\n",
    "We will also use the function `poly1d()` from the numpy library. This allows us to visualize the best-fit line in the format we are familiar with, y = mx + b, where m is the slope and b is the y-intercept. `poly1d()` also allows us to easily plot it over our scatter plot from before.\n",
    "\n",
    "Let's first start by creating the models:"
   ]
  },
  {
   "cell_type": "code",
   "execution_count": null,
   "metadata": {},
   "outputs": [],
   "source": [
    "# EXERCISE\n",
    "\n",
    "model_HL = np.polyfit(light_times, rna_HL_gene, 1)\n",
    "model_function_HL = np.poly1d(model_HL)\n",
    "\n",
    "model_ML = np.polyfit(..., ..., 1)\n",
    "model_function_ML = np.poly1d(model_ML)\n",
    "\n",
    "print(f\"Linear function for high light data points: {model_function_HL}\")\n",
    "print(f\"Linear function for medium light data points: {model_function_ML}\")"
   ]
  },
  {
   "cell_type": "markdown",
   "metadata": {},
   "source": [
    "Let's now look at our scatter plot and line of best fit together! In the cell below, copy and paste your code for creating the scatter plot. On the line below, create the line of best fit.\n",
    "\n",
    "When plotting the line of best fit, notice that you use the model function applied to the x data for your y values."
   ]
  },
  {
   "cell_type": "code",
   "execution_count": null,
   "metadata": {},
   "outputs": [],
   "source": [
    "# EXERCISE - Create your scatter plot with the line of best fit\n",
    "\n",
    "# Copy your code to create the scatter plot here:\n",
    "\n",
    "\n",
    "# Create lines of best fit\n",
    "\n",
    "plt.plot(light_times, model_function_HL(light_times))\n",
    "plt.plot(..., ...)\n",
    "\n",
    "# Create a legend\n",
    "plt.legend(['High Light', 'Medium Light']);"
   ]
  },
  {
   "cell_type": "markdown",
   "metadata": {},
   "source": [
    "***Checkpoint:*** *If you did it correctly, your plot should look like this:*\n",
    "<img src = \"images/genomics3_output3.png\" width=\"400\">"
   ]
  },
  {
   "cell_type": "markdown",
   "metadata": {},
   "source": [
    "We can see that the reads for gene `Cz01g00040` increase as the number of hours under light exposure increases. This denotes a positive correlation between the two. However, we notice that reads for the gene under high light increase more rapidly with time than reads for the gene under medium light.\n",
    "\n",
    "Recall from energy data notebook 3 that we can quantify how good the line of best fit is by finding the R<sup>2</sup> (coefficient of determination) value. The closer R<sup>2</sup> is to 1, the better the fit. Let's find it using the function `r2_score()` from the `scikit-learn` library:"
   ]
  },
  {
   "cell_type": "code",
   "execution_count": null,
   "metadata": {},
   "outputs": [],
   "source": [
    "from sklearn.metrics import r2_score\n",
    "\n",
    "r2_HL = r2_score(rna_HL_gene, model_function_HL(light_times))\n",
    "r2_ML = r2_score(rna_ML_gene, model_function_ML(light_times))\n",
    "\n",
    "print(f\"R2 for high light linear model: {r2_HL}\")\n",
    "print(f\"R2 for medium light linear model: {r2_ML}\")"
   ]
  },
  {
   "cell_type": "markdown",
   "metadata": {},
   "source": [
    "Looking at your values for R<sup>2</sup>, do you think you the linear models are a good fit?"
   ]
  },
  {
   "cell_type": "markdown",
   "metadata": {},
   "source": [
    "## 3. The Relationship between High and Medium Light<a id ='section3'>"
   ]
  },
  {
   "cell_type": "markdown",
   "metadata": {},
   "source": [
    "In this section, let's look at the relationship between high light and medium light.\n",
    "\n",
    "First, let's create a plot with `rna_HL_gene` on the x-axis and `rna_ML_gene` on the y-axis."
   ]
  },
  {
   "cell_type": "code",
   "execution_count": null,
   "metadata": {},
   "outputs": [],
   "source": [
    "# EXERCISE\n",
    "\n",
    "plt.scatter(...)\n",
    "plt.title(\"High Light Reads vs. Medium Light Reads for Cz01g00040\")\n",
    "plt.xlabel(\"High Light Reads\")\n",
    "plt.ylabel(\"Medium Light Reads\");"
   ]
  },
  {
   "cell_type": "markdown",
   "metadata": {},
   "source": [
    "***Checkpoint:*** *If you did it correctly, your plot should look like this:*\n",
    "<img src = \"images/genomics3_output4.png\" width=\"400\">"
   ]
  },
  {
   "cell_type": "markdown",
   "metadata": {},
   "source": [
    "**Question 3** What relationship or patterns do you see? What does this mean?"
   ]
  },
  {
   "cell_type": "markdown",
   "metadata": {},
   "source": [
    "**Key: Seems to be a positive correlation overall**"
   ]
  },
  {
   "cell_type": "markdown",
   "metadata": {},
   "source": [
    "This scatter plot gives us some new information, but let's divide the datapoints into different colors representing the different light exposure times. Follow the format below.\n",
    "\n",
    "- `orange`: datapoints that were measured after **0.5 Hours** of light exposure\n",
    "    - These should be the first 4 rows `rna_HL_gene` and `rna_ML_gene` because there are 4 replications of 0.5HL and 4 replications of 0.5ML! Use slicing to take the *first 4 rows of a list* (you can look back at notebook 02 to see how to slice lists)\n",
    "- `yellow`: datapoints that were measured after **1 Hour** of light exposure\n",
    "    - These should be the *next* 4 rows of `rna_HL_gene` and `rna_ML_gene`.\n",
    "- `green`: datapoints that were measured after **3 Hours** of light exposure\n",
    "- `blue`: datapoints that were measured after **6 Hours** of light exposure\n",
    "- `purple`: datapoints that were measured after **12 Hours** of light exposure"
   ]
  },
  {
   "cell_type": "code",
   "execution_count": null,
   "metadata": {},
   "outputs": [],
   "source": [
    "# EXERCISE\n",
    "\n",
    "orange = plt.scatter(rna_HL_gene[...], rna_ML_gene[...], c=\"orange\")\n",
    "yellow = plt.scatter(rna_HL_gene[...], rna_ML_gene[...], c=\"yellow\")\n",
    "green = plt.scatter(rna_HL_gene[...], rna_ML_gene[...], c=\"green\")\n",
    "blue = plt.scatter(rna_HL_gene[...], rna_ML_gene[...], c=\"blue\")\n",
    "purple = plt.scatter(rna_HL_gene[...], rna_ML_gene[...], c=\"purple\")\n",
    "\n",
    "dots = [orange, yellow, green, blue, purple]\n",
    "labels = [\"0.5 Hours\", \"1 Hour\", \"3 Hours\", \"6 Hours\", \"12 Hours\"]\n",
    "\n",
    "plt.title(\"High Light Reads vs. Medium Light Reads for Cz01g00040\")\n",
    "plt.xlabel(\"High Light Reads\")\n",
    "plt.ylabel(\"Medium Light Reads\")\n",
    "plt.legend(dots, labels, loc=\"center right\", bbox_to_anchor=(1.5, 1));"
   ]
  },
  {
   "cell_type": "markdown",
   "metadata": {},
   "source": [
    "**Question 4** What are some observations you can make about this visualization? Are you surprised about the results or have you seen this relationship before?"
   ]
  },
  {
   "cell_type": "markdown",
   "metadata": {},
   "source": [
    "**Key: Similar pattern to prevoius graph, but now we can see that with longer light times, the higher the reads for both high light and medium light.**"
   ]
  },
  {
   "cell_type": "markdown",
   "metadata": {},
   "source": [
    "Below is a visualization found in the original scientific publication. You do not need to understand it completely, but we do want you to notice some interesting features of it. Although our axes are different, notice that there are similarities between our figure and the publication figure."
   ]
  },
  {
   "cell_type": "markdown",
   "metadata": {},
   "source": [
    "<img src=\"images/pca.png\" width=\"450\" align=\"left\">"
   ]
  },
  {
   "cell_type": "markdown",
   "metadata": {},
   "source": [
    "**Question 5** What similarities can you draw between our visualization and the original publication's visualization? List at least two things."
   ]
  },
  {
   "cell_type": "markdown",
   "metadata": {},
   "source": [
    "_Your answer here_"
   ]
  },
  {
   "cell_type": "markdown",
   "metadata": {},
   "source": [
    "## 4. Conclusions<a id ='section4'>"
   ]
  },
  {
   "cell_type": "markdown",
   "metadata": {},
   "source": [
    "Refer back to the two figures we created. The first one compared light exposure times to read values under different light intensities for the gene `Cz01g00040`. The second visualization once again looked at the gene `Cz01g00040`, but this time, it looked at the relationship between the two light intensities grouped by different light exposure times."
   ]
  },
  {
   "cell_type": "markdown",
   "metadata": {},
   "source": [
    "**Question 1** Now that you have seen two visualizations of the same data, what relationship(s) are you confident in?"
   ]
  },
  {
   "cell_type": "markdown",
   "metadata": {},
   "source": [
    "_Your answer here_"
   ]
  },
  {
   "cell_type": "markdown",
   "metadata": {},
   "source": [
    "**Question 2** What other data would you have liked to include if you were conducting this experiment? Would you have taken into account oxygen levels, temperature, etc?"
   ]
  },
  {
   "cell_type": "markdown",
   "metadata": {},
   "source": [
    "_Your answer here_"
   ]
  },
  {
   "cell_type": "markdown",
   "metadata": {},
   "source": [
    "**Question 3** Do you think you would have seen the same results if we had analyzed a gene other than `Cz01g00040`? Why or why not? If you have time, feel free to copy-and-paste the code with a different gene name to see whether the relationships stand for another gene."
   ]
  },
  {
   "cell_type": "markdown",
   "metadata": {},
   "source": [
    "_Your answer here_"
   ]
  },
  {
   "cell_type": "markdown",
   "metadata": {},
   "source": [
    "Notebook developed by: Sharon Greenblum, Ciara Acosta, Kseniya Usovich, Alisa Bettale"
   ]
  }
 ],
 "metadata": {
  "colab": {
   "collapsed_sections": [],
   "name": "Copy of RNAseq_tutorial_python.ipynb",
   "provenance": []
  },
  "kernelspec": {
   "display_name": "Python 3",
   "language": "python",
   "name": "python3"
  },
  "language_info": {
   "codemirror_mode": {
    "name": "ipython",
    "version": 3
   },
   "file_extension": ".py",
   "mimetype": "text/x-python",
   "name": "python",
   "nbconvert_exporter": "python",
   "pygments_lexer": "ipython3",
   "version": "3.8.8"
  }
 },
 "nbformat": 4,
 "nbformat_minor": 1
}
