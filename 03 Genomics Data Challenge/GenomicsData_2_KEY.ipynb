{
 "cells": [
  {
   "cell_type": "markdown",
   "metadata": {},
   "source": [
    "# Genomics Data Notebook 2: Normalizing Our Data\n",
    "\n",
    "\n",
    "\n",
    "---"
   ]
  },
  {
   "cell_type": "markdown",
   "metadata": {},
   "source": [
    "### Goal For This Notebook:\n",
    "\n",
    "1 - Normalize the data so we can better compare the data, by using a relative scale instead of directly comparing them.<br>\n",
    "\n",
    "---\n",
    "\n",
    "### Table of Contents\n",
    "\n",
    "1 - [What Is Normalization?](#section1)<br>\n",
    "\n",
    "2 - [Normalization by Read Depth](#section2)<br>\n",
    "\n",
    "3 - [Checking the Effect of Normalization](#section3)<br>\n",
    "\n",
    "4 - [Transposing Data](#section4)<br>\n",
    "\n",
    "5 - [Nomalization by Gene Length](#section5)\n",
    "\n",
    "---"
   ]
  },
  {
   "cell_type": "markdown",
   "metadata": {},
   "source": [
    "<img src=\"images/algae.png\" align=\"left\">"
   ]
  },
  {
   "cell_type": "markdown",
   "metadata": {},
   "source": [
    "In this notebook, we will look at our cleaned data from the previous notebook and then normalize the data. Normalization allows us to compare our data on a relative scale instead of directly comparing them. This will allow us to visualize data easier for the next notebook and help us find relationships in the data.\n",
    "\n",
    "Normalization is a new topic so this notebook will break it down into steps. But first, as always, let us import the needed libraries:"
   ]
  },
  {
   "cell_type": "code",
   "execution_count": 5,
   "metadata": {},
   "outputs": [],
   "source": [
    "import numpy as np\n",
    "import pandas as pd\n",
    "import matplotlib.pyplot as plt"
   ]
  },
  {
   "cell_type": "markdown",
   "metadata": {},
   "source": [
    "Load yesterday's cleaned table into `rna_data`. Recall that we saved yesterday's work into a file called \"rna_data_cleaned.csv\" in the *data* folder. Double check that `rna_data` is what it looked like yesterday.\n",
    "\n",
    "*The `index_col=0` argument allows us to set the first column as the index of the dataframe. If you are curious, you can try running the code without the argument and see the difference.*"
   ]
  },
  {
   "cell_type": "code",
   "execution_count": 6,
   "metadata": {
    "scrolled": true
   },
   "outputs": [
    {
     "data": {
      "text/html": [
       "<div>\n",
       "<style scoped>\n",
       "    .dataframe tbody tr th:only-of-type {\n",
       "        vertical-align: middle;\n",
       "    }\n",
       "\n",
       "    .dataframe tbody tr th {\n",
       "        vertical-align: top;\n",
       "    }\n",
       "\n",
       "    .dataframe thead th {\n",
       "        text-align: right;\n",
       "    }\n",
       "</style>\n",
       "<table border=\"1\" class=\"dataframe\">\n",
       "  <thead>\n",
       "    <tr style=\"text-align: right;\">\n",
       "      <th></th>\n",
       "      <th>0.5HL-0</th>\n",
       "      <th>0.5HL-1</th>\n",
       "      <th>0.5HL-2</th>\n",
       "      <th>0.5HL-3</th>\n",
       "      <th>12HL-0</th>\n",
       "      <th>12HL-1</th>\n",
       "      <th>12HL-2</th>\n",
       "      <th>12HL-3</th>\n",
       "      <th>1HL-0</th>\n",
       "      <th>1HL-1</th>\n",
       "      <th>...</th>\n",
       "      <th>1ML-2</th>\n",
       "      <th>1ML-3</th>\n",
       "      <th>3ML-0</th>\n",
       "      <th>3ML-1</th>\n",
       "      <th>3ML-2</th>\n",
       "      <th>3ML-3</th>\n",
       "      <th>6ML-0</th>\n",
       "      <th>6ML-1</th>\n",
       "      <th>6ML-2</th>\n",
       "      <th>6ML-3</th>\n",
       "    </tr>\n",
       "    <tr>\n",
       "      <th>tracking_id</th>\n",
       "      <th></th>\n",
       "      <th></th>\n",
       "      <th></th>\n",
       "      <th></th>\n",
       "      <th></th>\n",
       "      <th></th>\n",
       "      <th></th>\n",
       "      <th></th>\n",
       "      <th></th>\n",
       "      <th></th>\n",
       "      <th></th>\n",
       "      <th></th>\n",
       "      <th></th>\n",
       "      <th></th>\n",
       "      <th></th>\n",
       "      <th></th>\n",
       "      <th></th>\n",
       "      <th></th>\n",
       "      <th></th>\n",
       "      <th></th>\n",
       "      <th></th>\n",
       "    </tr>\n",
       "  </thead>\n",
       "  <tbody>\n",
       "    <tr>\n",
       "      <th>Cz01g00020</th>\n",
       "      <td>657</td>\n",
       "      <td>534</td>\n",
       "      <td>710</td>\n",
       "      <td>501</td>\n",
       "      <td>332</td>\n",
       "      <td>348</td>\n",
       "      <td>300</td>\n",
       "      <td>413</td>\n",
       "      <td>316</td>\n",
       "      <td>394</td>\n",
       "      <td>...</td>\n",
       "      <td>590</td>\n",
       "      <td>667</td>\n",
       "      <td>460</td>\n",
       "      <td>463</td>\n",
       "      <td>524</td>\n",
       "      <td>458</td>\n",
       "      <td>296</td>\n",
       "      <td>285</td>\n",
       "      <td>272</td>\n",
       "      <td>110</td>\n",
       "    </tr>\n",
       "    <tr>\n",
       "      <th>Cz01g00030</th>\n",
       "      <td>255</td>\n",
       "      <td>303</td>\n",
       "      <td>257</td>\n",
       "      <td>244</td>\n",
       "      <td>154</td>\n",
       "      <td>140</td>\n",
       "      <td>147</td>\n",
       "      <td>144</td>\n",
       "      <td>210</td>\n",
       "      <td>201</td>\n",
       "      <td>...</td>\n",
       "      <td>224</td>\n",
       "      <td>302</td>\n",
       "      <td>199</td>\n",
       "      <td>243</td>\n",
       "      <td>215</td>\n",
       "      <td>235</td>\n",
       "      <td>182</td>\n",
       "      <td>184</td>\n",
       "      <td>160</td>\n",
       "      <td>47</td>\n",
       "    </tr>\n",
       "    <tr>\n",
       "      <th>Cz01g00040</th>\n",
       "      <td>90</td>\n",
       "      <td>71</td>\n",
       "      <td>94</td>\n",
       "      <td>87</td>\n",
       "      <td>149</td>\n",
       "      <td>204</td>\n",
       "      <td>150</td>\n",
       "      <td>220</td>\n",
       "      <td>36</td>\n",
       "      <td>56</td>\n",
       "      <td>...</td>\n",
       "      <td>81</td>\n",
       "      <td>67</td>\n",
       "      <td>81</td>\n",
       "      <td>78</td>\n",
       "      <td>84</td>\n",
       "      <td>89</td>\n",
       "      <td>129</td>\n",
       "      <td>98</td>\n",
       "      <td>115</td>\n",
       "      <td>57</td>\n",
       "    </tr>\n",
       "    <tr>\n",
       "      <th>Cz01g00050</th>\n",
       "      <td>49</td>\n",
       "      <td>46</td>\n",
       "      <td>73</td>\n",
       "      <td>42</td>\n",
       "      <td>134</td>\n",
       "      <td>169</td>\n",
       "      <td>145</td>\n",
       "      <td>155</td>\n",
       "      <td>23</td>\n",
       "      <td>21</td>\n",
       "      <td>...</td>\n",
       "      <td>53</td>\n",
       "      <td>65</td>\n",
       "      <td>69</td>\n",
       "      <td>63</td>\n",
       "      <td>67</td>\n",
       "      <td>61</td>\n",
       "      <td>99</td>\n",
       "      <td>86</td>\n",
       "      <td>69</td>\n",
       "      <td>38</td>\n",
       "    </tr>\n",
       "    <tr>\n",
       "      <th>Cz01g00060</th>\n",
       "      <td>36</td>\n",
       "      <td>33</td>\n",
       "      <td>51</td>\n",
       "      <td>39</td>\n",
       "      <td>46</td>\n",
       "      <td>52</td>\n",
       "      <td>38</td>\n",
       "      <td>44</td>\n",
       "      <td>20</td>\n",
       "      <td>26</td>\n",
       "      <td>...</td>\n",
       "      <td>37</td>\n",
       "      <td>54</td>\n",
       "      <td>31</td>\n",
       "      <td>20</td>\n",
       "      <td>31</td>\n",
       "      <td>22</td>\n",
       "      <td>47</td>\n",
       "      <td>38</td>\n",
       "      <td>29</td>\n",
       "      <td>19</td>\n",
       "    </tr>\n",
       "  </tbody>\n",
       "</table>\n",
       "<p>5 rows × 44 columns</p>\n",
       "</div>"
      ],
      "text/plain": [
       "             0.5HL-0  0.5HL-1  0.5HL-2  0.5HL-3  12HL-0  12HL-1  12HL-2  \\\n",
       "tracking_id                                                               \n",
       "Cz01g00020       657      534      710      501     332     348     300   \n",
       "Cz01g00030       255      303      257      244     154     140     147   \n",
       "Cz01g00040        90       71       94       87     149     204     150   \n",
       "Cz01g00050        49       46       73       42     134     169     145   \n",
       "Cz01g00060        36       33       51       39      46      52      38   \n",
       "\n",
       "             12HL-3  1HL-0  1HL-1  ...  1ML-2  1ML-3  3ML-0  3ML-1  3ML-2  \\\n",
       "tracking_id                        ...                                      \n",
       "Cz01g00020      413    316    394  ...    590    667    460    463    524   \n",
       "Cz01g00030      144    210    201  ...    224    302    199    243    215   \n",
       "Cz01g00040      220     36     56  ...     81     67     81     78     84   \n",
       "Cz01g00050      155     23     21  ...     53     65     69     63     67   \n",
       "Cz01g00060       44     20     26  ...     37     54     31     20     31   \n",
       "\n",
       "             3ML-3  6ML-0  6ML-1  6ML-2  6ML-3  \n",
       "tracking_id                                     \n",
       "Cz01g00020     458    296    285    272    110  \n",
       "Cz01g00030     235    182    184    160     47  \n",
       "Cz01g00040      89    129     98    115     57  \n",
       "Cz01g00050      61     99     86     69     38  \n",
       "Cz01g00060      22     47     38     29     19  \n",
       "\n",
       "[5 rows x 44 columns]"
      ]
     },
     "execution_count": 6,
     "metadata": {},
     "output_type": "execute_result"
    }
   ],
   "source": [
    "# EXERCISE\n",
    "\n",
    "rna_data = pd.read_csv(\"data/rna_data_cleaned.csv\", index_col=0)\n",
    "\n",
    "rna_data.head()"
   ]
  },
  {
   "cell_type": "markdown",
   "metadata": {},
   "source": [
    "## 1. What Is Normalization?<a id='section1'>"
   ]
  },
  {
   "cell_type": "markdown",
   "metadata": {},
   "source": [
    "Previously, we noted that the values in a single column ranged from 0 to the hundreds of thousands. Since it is hard to look at numbers in this wide of a range, we want to \"normalize\" the data. Normalizing data means that we adjust the scale of our data by comparing our numbers on a relative scale instead of directly comparing them. This helps with data that takes on a large range of numbers, and it eliminates the issue of comparing categories that are on different scales."
   ]
  },
  {
   "cell_type": "markdown",
   "metadata": {},
   "source": [
    "For example, let's say we have two classes, Class 1 and Class 2, with class sizes of 10 and 1,000 respectively. If 10 students from each class earn a perfect score on a test, we can tell that there is a significant difference between Class 1 and Class 2's performances. However, both classes had the same number of perfect test scores when we look at the raw numbers. In order to better portray this, we want to work with relative numbers.\n",
    "\n",
    "Let's see how this would look with the data table `classes`."
   ]
  },
  {
   "cell_type": "code",
   "execution_count": 7,
   "metadata": {
    "scrolled": true
   },
   "outputs": [
    {
     "data": {
      "text/html": [
       "<div>\n",
       "<style scoped>\n",
       "    .dataframe tbody tr th:only-of-type {\n",
       "        vertical-align: middle;\n",
       "    }\n",
       "\n",
       "    .dataframe tbody tr th {\n",
       "        vertical-align: top;\n",
       "    }\n",
       "\n",
       "    .dataframe thead th {\n",
       "        text-align: right;\n",
       "    }\n",
       "</style>\n",
       "<table border=\"1\" class=\"dataframe\">\n",
       "  <thead>\n",
       "    <tr style=\"text-align: right;\">\n",
       "      <th></th>\n",
       "      <th>Class 1</th>\n",
       "      <th>Class 2</th>\n",
       "    </tr>\n",
       "    <tr>\n",
       "      <th>Grade</th>\n",
       "      <th></th>\n",
       "      <th></th>\n",
       "    </tr>\n",
       "  </thead>\n",
       "  <tbody>\n",
       "    <tr>\n",
       "      <th>A</th>\n",
       "      <td>10</td>\n",
       "      <td>10</td>\n",
       "    </tr>\n",
       "    <tr>\n",
       "      <th>B</th>\n",
       "      <td>0</td>\n",
       "      <td>900</td>\n",
       "    </tr>\n",
       "    <tr>\n",
       "      <th>C</th>\n",
       "      <td>0</td>\n",
       "      <td>90</td>\n",
       "    </tr>\n",
       "  </tbody>\n",
       "</table>\n",
       "</div>"
      ],
      "text/plain": [
       "       Class 1  Class 2\n",
       "Grade                  \n",
       "A           10       10\n",
       "B            0      900\n",
       "C            0       90"
      ]
     },
     "execution_count": 7,
     "metadata": {},
     "output_type": "execute_result"
    }
   ],
   "source": [
    "# EXAMPLE\n",
    "\n",
    "classes = pd.DataFrame([[\"A\", 10, 10], [\"B\", 0, 900], [\"C\", 0, 90]], \n",
    "                       columns=[\"Grade\", \"Class 1\", \"Class 2\"])\n",
    "classes = classes.set_index(\"Grade\")\n",
    "classes"
   ]
  },
  {
   "cell_type": "markdown",
   "metadata": {},
   "source": [
    "If we were to only look at the data associated with \"A\" grades, we would not know that Class 1 is performing better than Class 2. Instead, we see that both classes had the same number of scores."
   ]
  },
  {
   "cell_type": "code",
   "execution_count": 8,
   "metadata": {},
   "outputs": [
    {
     "data": {
      "text/plain": [
       "Class 1    10\n",
       "Class 2    10\n",
       "Name: A, dtype: int64"
      ]
     },
     "execution_count": 8,
     "metadata": {},
     "output_type": "execute_result"
    }
   ],
   "source": [
    "# EXAMPLE\n",
    "\n",
    "classes.loc[\"A\"]"
   ]
  },
  {
   "cell_type": "markdown",
   "metadata": {},
   "source": [
    "In order to normalize the data, we could divide our `Class 1` data by the total number of students in `Class 1` and our `Class 2` data by the total number of students in `Class 2`. This tells us what **proportion** of students received a perfect score instead of what **number** of students did."
   ]
  },
  {
   "cell_type": "code",
   "execution_count": 9,
   "metadata": {},
   "outputs": [
    {
     "name": "stdout",
     "output_type": "stream",
     "text": [
      "# of students in Class 1: 10\n",
      "# of students in Class 2: 1000\n"
     ]
    },
    {
     "data": {
      "text/html": [
       "<div>\n",
       "<style scoped>\n",
       "    .dataframe tbody tr th:only-of-type {\n",
       "        vertical-align: middle;\n",
       "    }\n",
       "\n",
       "    .dataframe tbody tr th {\n",
       "        vertical-align: top;\n",
       "    }\n",
       "\n",
       "    .dataframe thead th {\n",
       "        text-align: right;\n",
       "    }\n",
       "</style>\n",
       "<table border=\"1\" class=\"dataframe\">\n",
       "  <thead>\n",
       "    <tr style=\"text-align: right;\">\n",
       "      <th></th>\n",
       "      <th>Class 1</th>\n",
       "      <th>Class 2</th>\n",
       "    </tr>\n",
       "    <tr>\n",
       "      <th>Grade</th>\n",
       "      <th></th>\n",
       "      <th></th>\n",
       "    </tr>\n",
       "  </thead>\n",
       "  <tbody>\n",
       "    <tr>\n",
       "      <th>A</th>\n",
       "      <td>1.0</td>\n",
       "      <td>0.01</td>\n",
       "    </tr>\n",
       "    <tr>\n",
       "      <th>B</th>\n",
       "      <td>0.0</td>\n",
       "      <td>0.90</td>\n",
       "    </tr>\n",
       "    <tr>\n",
       "      <th>C</th>\n",
       "      <td>0.0</td>\n",
       "      <td>0.09</td>\n",
       "    </tr>\n",
       "  </tbody>\n",
       "</table>\n",
       "</div>"
      ],
      "text/plain": [
       "       Class 1  Class 2\n",
       "Grade                  \n",
       "A          1.0     0.01\n",
       "B          0.0     0.90\n",
       "C          0.0     0.09"
      ]
     },
     "execution_count": 9,
     "metadata": {},
     "output_type": "execute_result"
    }
   ],
   "source": [
    "# EXAMPLE\n",
    "\n",
    "num_students_1 = sum(classes.iloc[:, 0]) #taking the sum of column 0, Class 1\n",
    "num_students_2 = sum(classes.iloc[:, 1]) #taking the sum of column 1, Class 2\n",
    "\n",
    "classes[\"Class 1\"] = classes[\"Class 1\"]/num_students_1 #Divide Class 1 data by the total number of students in Class 1\n",
    "classes[\"Class 2\"] = classes[\"Class 2\"]/num_students_2 #Divide Class 2 data by the total number of students in Class 2\n",
    "\n",
    "print(\"# of students in Class 1: \" + str(num_students_1))\n",
    "print(\"# of students in Class 2: \" + str(num_students_2))\n",
    "\n",
    "classes"
   ]
  },
  {
   "cell_type": "markdown",
   "metadata": {},
   "source": [
    "Now, if we only look at the data associated with \"A\" grades, we can see the difference between Class 1 scores and Class 2 scores."
   ]
  },
  {
   "cell_type": "code",
   "execution_count": 10,
   "metadata": {},
   "outputs": [
    {
     "data": {
      "text/plain": [
       "Class 1    1.00\n",
       "Class 2    0.01\n",
       "Name: A, dtype: float64"
      ]
     },
     "execution_count": 10,
     "metadata": {},
     "output_type": "execute_result"
    }
   ],
   "source": [
    "# EXAMPLE\n",
    "\n",
    "classes.loc[\"A\"]"
   ]
  },
  {
   "cell_type": "markdown",
   "metadata": {
    "id": "MM7NkyidYRx-"
   },
   "source": [
    "## 2. Normalization By Read Depth <a id='section2'>"
   ]
  },
  {
   "cell_type": "markdown",
   "metadata": {},
   "source": [
    "Let's apply this logic to our genomics data. Here, our columns are experiment conditions, and our rows are specific genes. It is possible that a condition has the fewest counts for all genes because the sample actually \"turns on\" fewer genes than other conditions, but it is also possible that the condition had fewer counts overall. In order to analyze this, we need to find out how many counts were obtained across all genes under a specific condition.\n",
    "\n",
    "Let's define what we will be working with.\n",
    "- **reads:** the # of genes that \"turned on\" (ie. the values in our data)\n",
    "- **read depth:** the total # of reads across *all* genes under a specific condition"
   ]
  },
  {
   "cell_type": "markdown",
   "metadata": {},
   "source": [
    "**Consider this oversimplification of our `rna_data` table.** For fictional gene Cz1, we see that high light (HL) conditions produce more reads than medium light (ML) conditions. However, when compared to other genes, we notice that the relative reads are larger under the `ML` condition than under the `HL` condition."
   ]
  },
  {
   "cell_type": "code",
   "execution_count": 11,
   "metadata": {},
   "outputs": [
    {
     "data": {
      "text/html": [
       "<div>\n",
       "<style scoped>\n",
       "    .dataframe tbody tr th:only-of-type {\n",
       "        vertical-align: middle;\n",
       "    }\n",
       "\n",
       "    .dataframe tbody tr th {\n",
       "        vertical-align: top;\n",
       "    }\n",
       "\n",
       "    .dataframe thead th {\n",
       "        text-align: right;\n",
       "    }\n",
       "</style>\n",
       "<table border=\"1\" class=\"dataframe\">\n",
       "  <thead>\n",
       "    <tr style=\"text-align: right;\">\n",
       "      <th></th>\n",
       "      <th>HL</th>\n",
       "      <th>ML</th>\n",
       "    </tr>\n",
       "    <tr>\n",
       "      <th>Gene</th>\n",
       "      <th></th>\n",
       "      <th></th>\n",
       "    </tr>\n",
       "  </thead>\n",
       "  <tbody>\n",
       "    <tr>\n",
       "      <th>Cz1</th>\n",
       "      <td>50</td>\n",
       "      <td>20</td>\n",
       "    </tr>\n",
       "    <tr>\n",
       "      <th>Cz2</th>\n",
       "      <td>100</td>\n",
       "      <td>1</td>\n",
       "    </tr>\n",
       "    <tr>\n",
       "      <th>Cz3</th>\n",
       "      <td>100</td>\n",
       "      <td>1</td>\n",
       "    </tr>\n",
       "  </tbody>\n",
       "</table>\n",
       "</div>"
      ],
      "text/plain": [
       "       HL  ML\n",
       "Gene         \n",
       "Cz1    50  20\n",
       "Cz2   100   1\n",
       "Cz3   100   1"
      ]
     },
     "execution_count": 11,
     "metadata": {},
     "output_type": "execute_result"
    }
   ],
   "source": [
    "# EXAMPLE\n",
    "\n",
    "simple_rna = pd.DataFrame([[\"Cz1\", 50, 20], [\"Cz2\", 100, 1], [\"Cz3\", 100, 1]], \n",
    "                       columns=[\"Gene\", \"HL\", \"ML\"])\n",
    "simple_rna = simple_rna.set_index(\"Gene\")\n",
    "simple_rna"
   ]
  },
  {
   "cell_type": "markdown",
   "metadata": {},
   "source": [
    "Let's write some code that calculates the read depths of all experiment conditions/samples.\n",
    "\n",
    "- Create an empty list of read depths called `read_depths`.\n",
    "- Create a for loop (see notebook 04) that goes through each experiment condition (i.e. each sample):\n",
    "    - Calculate the read depth by finding the total number of reads across all genes in one column. Store it in the variable `one_read_depth`.\n",
    "    - Add the variable `one_read_depth` to our list, `read_depths`.\n",
    "    \n",
    "Looking back at the classes example earlier, this is synonymous to calculating all of our class sizes."
   ]
  },
  {
   "cell_type": "code",
   "execution_count": 12,
   "metadata": {
    "colab": {
     "base_uri": "https://localhost:8080/",
     "height": 54
    },
    "id": "fFgRp0wLaaIk",
    "outputId": "1c85e556-f250-4f94-bf0f-ff127b7e3ca0"
   },
   "outputs": [
    {
     "name": "stdout",
     "output_type": "stream",
     "text": [
      "These are the read depths of all samples:\n",
      "[7049388, 7703469, 7610909, 6755036, 4854744, 5191732, 4239524, 5599366, 5635954, 5263859, 6532152, 4913977, 5978414, 5288713, 4910881, 5371061, 3808098, 1320667, 2260677, 4224192, 5734265, 5314042, 5720182, 5275529, 5453292, 867058, 7349108, 5271695, 5876465, 6314524, 5414810, 5750348, 5450678, 6811563, 6368474, 7878534, 5353554, 5119009, 4798766, 5427228, 5607847, 5056234, 4724507, 2027099]\n"
     ]
    }
   ],
   "source": [
    "# EXERCISE\n",
    "\n",
    "read_depths = []\n",
    "num_samples = len(rna_data.columns)\n",
    "\n",
    "for i in range(num_samples):\n",
    "    one_read_depth = sum(rna_data.iloc[:, i])\n",
    "    read_depths.append(one_read_depth)\n",
    "\n",
    "print(\"These are the read depths of all samples:\")\n",
    "print(read_depths)"
   ]
  },
  {
   "cell_type": "markdown",
   "metadata": {
    "id": "nCnGao-t6OaP"
   },
   "source": [
    "Now make a scatter plot (see notebook 08) that shows the range of read depths across all samples. \n",
    "\n",
    "We want the x-axis to be the different samples (i.e. the column labels) and the y-axis to be the read depths corresponding to those samples."
   ]
  },
  {
   "cell_type": "code",
   "execution_count": 13,
   "metadata": {
    "colab": {
     "base_uri": "https://localhost:8080/",
     "height": 290
    },
    "id": "KhEG8hy76VDk",
    "outputId": "5a9bf0f9-7ea7-4588-a39d-8a3b7c27192f",
    "scrolled": true
   },
   "outputs": [
    {
     "data": {
      "image/png": "[encoded data removed]",
      "text/plain": [
       "<Figure size 432x288 with 1 Axes>"
      ]
     },
     "metadata": {
      "needs_background": "light"
     },
     "output_type": "display_data"
    }
   ],
   "source": [
    "# EXERCISE\n",
    "\n",
    "x_data = rna_data.columns\n",
    "y_data = read_depths\n",
    "\n",
    "plt.scatter(x_data, y_data)\n",
    "plt.title(\"Samples vs. Read Depth\")\n",
    "plt.xlabel(\"Samples\")\n",
    "plt.ylabel(\"Read Depth\")\n",
    "plt.xticks(rotation=90);"
   ]
  },
  {
   "cell_type": "markdown",
   "metadata": {},
   "source": [
    "Through this visualization, you can see that the read depth differs by a large amount under different conditions and samples. This is like how our class sizes differed, so it is a good thing that we have decided to normalize our data!"
   ]
  },
  {
   "cell_type": "markdown",
   "metadata": {},
   "source": [
    "Now let's create a function (see notebook 01) that normalizes the data in our `rna_data` table. Write some code that calculates relative reads based on read depths. \n",
    "\n",
    "For reference, we have provided the normalization of our example dataframe `simple_rna` by read depth below. You can see that to normalize our data, we divide the dataframe by the list `simple_read_depths`, which contain the read depths (the total # of gene counts) for each column."
   ]
  },
  {
   "cell_type": "code",
   "execution_count": 14,
   "metadata": {},
   "outputs": [
    {
     "data": {
      "text/html": [
       "<div>\n",
       "<style scoped>\n",
       "    .dataframe tbody tr th:only-of-type {\n",
       "        vertical-align: middle;\n",
       "    }\n",
       "\n",
       "    .dataframe tbody tr th {\n",
       "        vertical-align: top;\n",
       "    }\n",
       "\n",
       "    .dataframe thead th {\n",
       "        text-align: right;\n",
       "    }\n",
       "</style>\n",
       "<table border=\"1\" class=\"dataframe\">\n",
       "  <thead>\n",
       "    <tr style=\"text-align: right;\">\n",
       "      <th></th>\n",
       "      <th>HL</th>\n",
       "      <th>ML</th>\n",
       "    </tr>\n",
       "    <tr>\n",
       "      <th>Gene</th>\n",
       "      <th></th>\n",
       "      <th></th>\n",
       "    </tr>\n",
       "  </thead>\n",
       "  <tbody>\n",
       "    <tr>\n",
       "      <th>Cz1</th>\n",
       "      <td>0.2</td>\n",
       "      <td>0.909091</td>\n",
       "    </tr>\n",
       "    <tr>\n",
       "      <th>Cz2</th>\n",
       "      <td>0.4</td>\n",
       "      <td>0.045455</td>\n",
       "    </tr>\n",
       "    <tr>\n",
       "      <th>Cz3</th>\n",
       "      <td>0.4</td>\n",
       "      <td>0.045455</td>\n",
       "    </tr>\n",
       "  </tbody>\n",
       "</table>\n",
       "</div>"
      ],
      "text/plain": [
       "       HL        ML\n",
       "Gene               \n",
       "Cz1   0.2  0.909091\n",
       "Cz2   0.4  0.045455\n",
       "Cz3   0.4  0.045455"
      ]
     },
     "execution_count": 14,
     "metadata": {},
     "output_type": "execute_result"
    }
   ],
   "source": [
    "# EXAMPLE\n",
    "\n",
    "simple_read_depths = [250, 22]\n",
    "\n",
    "simple_rna_by_read_depth = simple_rna / simple_read_depths\n",
    "simple_rna_by_read_depth"
   ]
  },
  {
   "cell_type": "code",
   "execution_count": 15,
   "metadata": {},
   "outputs": [],
   "source": [
    "# EXERCISE\n",
    "\n",
    "def normalizeByReadDepth(data, read_depth_list):\n",
    "    return data / read_depth_list"
   ]
  },
  {
   "cell_type": "markdown",
   "metadata": {},
   "source": [
    "Now that we have a function that normalizes by read depth (the total # of gene counts), we can normalize `rna_data` by read depth. Recall that we calculated the read depths of all experiment conditions/samples and stored it in a list called `read_depths`. Now, use `rna_data` and `read_depths` with our new function to get a normalized data table:"
   ]
  },
  {
   "cell_type": "code",
   "execution_count": 16,
   "metadata": {
    "scrolled": true
   },
   "outputs": [
    {
     "data": {
      "text/html": [
       "<div>\n",
       "<style scoped>\n",
       "    .dataframe tbody tr th:only-of-type {\n",
       "        vertical-align: middle;\n",
       "    }\n",
       "\n",
       "    .dataframe tbody tr th {\n",
       "        vertical-align: top;\n",
       "    }\n",
       "\n",
       "    .dataframe thead th {\n",
       "        text-align: right;\n",
       "    }\n",
       "</style>\n",
       "<table border=\"1\" class=\"dataframe\">\n",
       "  <thead>\n",
       "    <tr style=\"text-align: right;\">\n",
       "      <th></th>\n",
       "      <th>0.5HL-0</th>\n",
       "      <th>0.5HL-1</th>\n",
       "      <th>0.5HL-2</th>\n",
       "      <th>0.5HL-3</th>\n",
       "      <th>12HL-0</th>\n",
       "      <th>12HL-1</th>\n",
       "      <th>12HL-2</th>\n",
       "      <th>12HL-3</th>\n",
       "      <th>1HL-0</th>\n",
       "      <th>1HL-1</th>\n",
       "      <th>...</th>\n",
       "      <th>1ML-2</th>\n",
       "      <th>1ML-3</th>\n",
       "      <th>3ML-0</th>\n",
       "      <th>3ML-1</th>\n",
       "      <th>3ML-2</th>\n",
       "      <th>3ML-3</th>\n",
       "      <th>6ML-0</th>\n",
       "      <th>6ML-1</th>\n",
       "      <th>6ML-2</th>\n",
       "      <th>6ML-3</th>\n",
       "    </tr>\n",
       "    <tr>\n",
       "      <th>tracking_id</th>\n",
       "      <th></th>\n",
       "      <th></th>\n",
       "      <th></th>\n",
       "      <th></th>\n",
       "      <th></th>\n",
       "      <th></th>\n",
       "      <th></th>\n",
       "      <th></th>\n",
       "      <th></th>\n",
       "      <th></th>\n",
       "      <th></th>\n",
       "      <th></th>\n",
       "      <th></th>\n",
       "      <th></th>\n",
       "      <th></th>\n",
       "      <th></th>\n",
       "      <th></th>\n",
       "      <th></th>\n",
       "      <th></th>\n",
       "      <th></th>\n",
       "      <th></th>\n",
       "    </tr>\n",
       "  </thead>\n",
       "  <tbody>\n",
       "    <tr>\n",
       "      <th>Cz01g00020</th>\n",
       "      <td>0.000093</td>\n",
       "      <td>0.000069</td>\n",
       "      <td>0.000093</td>\n",
       "      <td>0.000074</td>\n",
       "      <td>0.000068</td>\n",
       "      <td>0.000067</td>\n",
       "      <td>0.000071</td>\n",
       "      <td>0.000074</td>\n",
       "      <td>0.000056</td>\n",
       "      <td>0.000075</td>\n",
       "      <td>...</td>\n",
       "      <td>0.000093</td>\n",
       "      <td>0.000085</td>\n",
       "      <td>0.000086</td>\n",
       "      <td>0.000090</td>\n",
       "      <td>0.000109</td>\n",
       "      <td>0.000084</td>\n",
       "      <td>0.000053</td>\n",
       "      <td>0.000056</td>\n",
       "      <td>0.000058</td>\n",
       "      <td>0.000054</td>\n",
       "    </tr>\n",
       "    <tr>\n",
       "      <th>Cz01g00030</th>\n",
       "      <td>0.000036</td>\n",
       "      <td>0.000039</td>\n",
       "      <td>0.000034</td>\n",
       "      <td>0.000036</td>\n",
       "      <td>0.000032</td>\n",
       "      <td>0.000027</td>\n",
       "      <td>0.000035</td>\n",
       "      <td>0.000026</td>\n",
       "      <td>0.000037</td>\n",
       "      <td>0.000038</td>\n",
       "      <td>...</td>\n",
       "      <td>0.000035</td>\n",
       "      <td>0.000038</td>\n",
       "      <td>0.000037</td>\n",
       "      <td>0.000047</td>\n",
       "      <td>0.000045</td>\n",
       "      <td>0.000043</td>\n",
       "      <td>0.000032</td>\n",
       "      <td>0.000036</td>\n",
       "      <td>0.000034</td>\n",
       "      <td>0.000023</td>\n",
       "    </tr>\n",
       "    <tr>\n",
       "      <th>Cz01g00040</th>\n",
       "      <td>0.000013</td>\n",
       "      <td>0.000009</td>\n",
       "      <td>0.000012</td>\n",
       "      <td>0.000013</td>\n",
       "      <td>0.000031</td>\n",
       "      <td>0.000039</td>\n",
       "      <td>0.000035</td>\n",
       "      <td>0.000039</td>\n",
       "      <td>0.000006</td>\n",
       "      <td>0.000011</td>\n",
       "      <td>...</td>\n",
       "      <td>0.000013</td>\n",
       "      <td>0.000009</td>\n",
       "      <td>0.000015</td>\n",
       "      <td>0.000015</td>\n",
       "      <td>0.000018</td>\n",
       "      <td>0.000016</td>\n",
       "      <td>0.000023</td>\n",
       "      <td>0.000019</td>\n",
       "      <td>0.000024</td>\n",
       "      <td>0.000028</td>\n",
       "    </tr>\n",
       "    <tr>\n",
       "      <th>Cz01g00050</th>\n",
       "      <td>0.000007</td>\n",
       "      <td>0.000006</td>\n",
       "      <td>0.000010</td>\n",
       "      <td>0.000006</td>\n",
       "      <td>0.000028</td>\n",
       "      <td>0.000033</td>\n",
       "      <td>0.000034</td>\n",
       "      <td>0.000028</td>\n",
       "      <td>0.000004</td>\n",
       "      <td>0.000004</td>\n",
       "      <td>...</td>\n",
       "      <td>0.000008</td>\n",
       "      <td>0.000008</td>\n",
       "      <td>0.000013</td>\n",
       "      <td>0.000012</td>\n",
       "      <td>0.000014</td>\n",
       "      <td>0.000011</td>\n",
       "      <td>0.000018</td>\n",
       "      <td>0.000017</td>\n",
       "      <td>0.000015</td>\n",
       "      <td>0.000019</td>\n",
       "    </tr>\n",
       "    <tr>\n",
       "      <th>Cz01g00060</th>\n",
       "      <td>0.000005</td>\n",
       "      <td>0.000004</td>\n",
       "      <td>0.000007</td>\n",
       "      <td>0.000006</td>\n",
       "      <td>0.000009</td>\n",
       "      <td>0.000010</td>\n",
       "      <td>0.000009</td>\n",
       "      <td>0.000008</td>\n",
       "      <td>0.000004</td>\n",
       "      <td>0.000005</td>\n",
       "      <td>...</td>\n",
       "      <td>0.000006</td>\n",
       "      <td>0.000007</td>\n",
       "      <td>0.000006</td>\n",
       "      <td>0.000004</td>\n",
       "      <td>0.000006</td>\n",
       "      <td>0.000004</td>\n",
       "      <td>0.000008</td>\n",
       "      <td>0.000008</td>\n",
       "      <td>0.000006</td>\n",
       "      <td>0.000009</td>\n",
       "    </tr>\n",
       "  </tbody>\n",
       "</table>\n",
       "<p>5 rows × 44 columns</p>\n",
       "</div>"
      ],
      "text/plain": [
       "              0.5HL-0   0.5HL-1   0.5HL-2   0.5HL-3    12HL-0    12HL-1  \\\n",
       "tracking_id                                                               \n",
       "Cz01g00020   0.000093  0.000069  0.000093  0.000074  0.000068  0.000067   \n",
       "Cz01g00030   0.000036  0.000039  0.000034  0.000036  0.000032  0.000027   \n",
       "Cz01g00040   0.000013  0.000009  0.000012  0.000013  0.000031  0.000039   \n",
       "Cz01g00050   0.000007  0.000006  0.000010  0.000006  0.000028  0.000033   \n",
       "Cz01g00060   0.000005  0.000004  0.000007  0.000006  0.000009  0.000010   \n",
       "\n",
       "               12HL-2    12HL-3     1HL-0     1HL-1  ...     1ML-2     1ML-3  \\\n",
       "tracking_id                                          ...                       \n",
       "Cz01g00020   0.000071  0.000074  0.000056  0.000075  ...  0.000093  0.000085   \n",
       "Cz01g00030   0.000035  0.000026  0.000037  0.000038  ...  0.000035  0.000038   \n",
       "Cz01g00040   0.000035  0.000039  0.000006  0.000011  ...  0.000013  0.000009   \n",
       "Cz01g00050   0.000034  0.000028  0.000004  0.000004  ...  0.000008  0.000008   \n",
       "Cz01g00060   0.000009  0.000008  0.000004  0.000005  ...  0.000006  0.000007   \n",
       "\n",
       "                3ML-0     3ML-1     3ML-2     3ML-3     6ML-0     6ML-1  \\\n",
       "tracking_id                                                               \n",
       "Cz01g00020   0.000086  0.000090  0.000109  0.000084  0.000053  0.000056   \n",
       "Cz01g00030   0.000037  0.000047  0.000045  0.000043  0.000032  0.000036   \n",
       "Cz01g00040   0.000015  0.000015  0.000018  0.000016  0.000023  0.000019   \n",
       "Cz01g00050   0.000013  0.000012  0.000014  0.000011  0.000018  0.000017   \n",
       "Cz01g00060   0.000006  0.000004  0.000006  0.000004  0.000008  0.000008   \n",
       "\n",
       "                6ML-2     6ML-3  \n",
       "tracking_id                      \n",
       "Cz01g00020   0.000058  0.000054  \n",
       "Cz01g00030   0.000034  0.000023  \n",
       "Cz01g00040   0.000024  0.000028  \n",
       "Cz01g00050   0.000015  0.000019  \n",
       "Cz01g00060   0.000006  0.000009  \n",
       "\n",
       "[5 rows x 44 columns]"
      ]
     },
     "execution_count": 16,
     "metadata": {},
     "output_type": "execute_result"
    }
   ],
   "source": [
    "# EXERCISE\n",
    "\n",
    "rna_by_read_depth = normalizeByReadDepth(rna_data, read_depths)\n",
    "\n",
    "rna_by_read_depth.head()"
   ]
  },
  {
   "cell_type": "markdown",
   "metadata": {},
   "source": [
    "Because each value is a proportion, the values under each column should each sum up to 1. Let's verify that."
   ]
  },
  {
   "cell_type": "code",
   "execution_count": 17,
   "metadata": {},
   "outputs": [
    {
     "name": "stdout",
     "output_type": "stream",
     "text": [
      "These are sums of all columns:\n",
      "[1.0, 1.0, 1.0, 1.0, 1.0, 1.0, 1.0, 1.0, 1.0, 1.0, 1.0, 1.0, 1.0, 1.0, 1.0, 1.0, 1.0, 1.0, 1.0, 1.0, 1.0, 1.0, 1.0, 1.0, 1.0, 1.0, 1.0, 1.0, 1.0, 1.0, 1.0, 1.0, 1.0, 1.0, 1.0, 1.0, 1.0, 1.0, 1.0, 1.0, 1.0, 1.0, 1.0, 1.0]\n"
     ]
    }
   ],
   "source": [
    "column_totals = []\n",
    "\n",
    "for i in range(num_samples): \n",
    "    one_column_total = np.round(sum(rna_by_read_depth.iloc[:, i])) \n",
    "    column_totals.append(one_column_total)\n",
    "\n",
    "print(\"These are sums of all columns:\")\n",
    "print(column_totals)"
   ]
  },
  {
   "cell_type": "markdown",
   "metadata": {},
   "source": [
    "Let's visualize our column totals once again. Previously, our column totals were our read depths, because they were the sum of all reads under a certain condition/sample. Now, our data is in relative reads (i.e. proportions), so our column totals should all be lined up at 1."
   ]
  },
  {
   "cell_type": "code",
   "execution_count": 18,
   "metadata": {},
   "outputs": [
    {
     "data": {
      "image/png": "[encoded data removed]",
      "text/plain": [
       "<Figure size 432x288 with 1 Axes>"
      ]
     },
     "metadata": {
      "needs_background": "light"
     },
     "output_type": "display_data"
    }
   ],
   "source": [
    "x_data = rna_data.columns\n",
    "y_data = column_totals\n",
    "\n",
    "plt.scatter(x_data, y_data)\n",
    "plt.title(\"Samples vs. Column Total\")\n",
    "plt.xlabel(\"Samples\")\n",
    "plt.ylabel(\"Column Total\")\n",
    "plt.xticks(rotation=90);"
   ]
  },
  {
   "cell_type": "markdown",
   "metadata": {},
   "source": [
    "Now, our various conditions/samples are all on the same \"scale\", so it will be easier to compare between different light conditions and samples.\n",
    "\n",
    "To verify this, let's compare the data for gene `Cz01g00040` before and after normalizating by read depth."
   ]
  },
  {
   "cell_type": "markdown",
   "metadata": {},
   "source": [
    "## 3. Checking the Effect of Normalization<a id='section3'>"
   ]
  },
  {
   "cell_type": "markdown",
   "metadata": {},
   "source": [
    "Create a plot that shows reads for only gene `Cz01g00040` in the dataframe `rna_data`. Each row corresponds to a specific gene, so you will need to access the `Cz01g00040` row in the table (hint: use `loc` - see notebook 07). \n",
    "\n",
    "Going back to our classes example, this visualization would be similar to plotting the raw grade counts for the `classes` data (i.e. it will not show the relative differences)."
   ]
  },
  {
   "cell_type": "code",
   "execution_count": 19,
   "metadata": {},
   "outputs": [
    {
     "data": {
      "image/png": "[encoded data removed]",
      "text/plain": [
       "<Figure size 432x288 with 1 Axes>"
      ]
     },
     "metadata": {
      "needs_background": "light"
     },
     "output_type": "display_data"
    }
   ],
   "source": [
    "# EXERCISE\n",
    "\n",
    "x_data = rna_data.columns\n",
    "y_data = rna_data.loc['Cz01g00040', :]\n",
    "\n",
    "plt.scatter(x_data, y_data)\n",
    "plt.title(\"Samples vs. CZ01g00040 Reads\")\n",
    "plt.xlabel(\"Samples\")\n",
    "plt.ylabel(\"CZ01g00040 Reads\")\n",
    "plt.xticks(rotation=90);"
   ]
  },
  {
   "cell_type": "markdown",
   "metadata": {},
   "source": [
    "**Question 1** What is the scale of `Cz01g00040` reads? How much larger is the highest read compared to the lowest read? Is there a pattern or trend in the visualization?"
   ]
  },
  {
   "cell_type": "markdown",
   "metadata": {},
   "source": [
    "**Key: Scale is from approximately 0 to close to 250. There doesn't seem to be a clear rend, but data seems to fluctuate up and down going from sample to sample.**"
   ]
  },
  {
   "cell_type": "markdown",
   "metadata": {},
   "source": [
    "Now let's look at the normalized reads for gene `Cz01g00040` in the normalized dataframe `rna_by_read_depth`. Once again, `Cz01g00040` is a row in our table whose data you need to access using `loc`. This visualization shows the normalized reads of this gene, so it accounts for the total number of reads each condition produced."
   ]
  },
  {
   "cell_type": "code",
   "execution_count": 20,
   "metadata": {},
   "outputs": [
    {
     "data": {
      "image/png": "[encoded data removed]",
      "text/plain": [
       "<Figure size 432x288 with 1 Axes>"
      ]
     },
     "metadata": {
      "needs_background": "light"
     },
     "output_type": "display_data"
    }
   ],
   "source": [
    "# EXERCISE\n",
    "\n",
    "x_data = rna_data.columns\n",
    "y_data = rna_by_read_depth.loc['Cz01g00040', :]\n",
    "\n",
    "plt.scatter(x_data, y_data)\n",
    "plt.title(\"Samples vs. Normalized CZ01g00040 Reads\")\n",
    "plt.xlabel(\"Samples\")\n",
    "plt.ylabel(\"Normalized CZ01g00040 Reads\")\n",
    "plt.xticks(rotation=90);"
   ]
  },
  {
   "cell_type": "markdown",
   "metadata": {},
   "source": [
    "**Question 2** What is the scale of normalized `Cz01g00040` reads? How much larger is the highest read compared to the lowest read? Is there a pattern or trend in the visualization? Did it change from the previous visualization?"
   ]
  },
  {
   "cell_type": "markdown",
   "metadata": {},
   "source": [
    "**Key: Scale is from 0 to around 4e-5 = 0.00004. There seems to be a clearer pattern than previously.**"
   ]
  },
  {
   "cell_type": "markdown",
   "metadata": {},
   "source": [
    "Recall that we have normalized the data such that the table's values represent the reads (or gene counts) relative to the total reads (or read depth) based on the corresponding experiment conditions and sample number. As an example, we saw how gene `Cz01g00040`'s data pattern became more clear after normalization.\n",
    "\n",
    "Even though this made our data easier to analyze, we can still do more normalization to aide the interpretation of our data."
   ]
  },
  {
   "cell_type": "markdown",
   "metadata": {},
   "source": [
    "When we normalized by read depth, we normalized by column. More specifically, we took the totals of each column and represented each data value as a proportion of each total. In order to improve our analysis, we can also do normalization by row."
   ]
  },
  {
   "cell_type": "markdown",
   "metadata": {},
   "source": [
    "**Question 3** What does each row represent? What characteristics do genes have? What do you think we could do normalization by?"
   ]
  },
  {
   "cell_type": "markdown",
   "metadata": {},
   "source": [
    "**Key: Each row represents the specific gene. One characteristic of genes is length - we could try normalizing by length.**"
   ]
  },
  {
   "cell_type": "markdown",
   "metadata": {},
   "source": [
    "## 4. Transposing Data<a id='section4'>"
   ]
  },
  {
   "cell_type": "markdown",
   "metadata": {},
   "source": [
    "Before we can normalize by row, we need to go over the concept of transposing data. Recall that normalizing by column consisted of dividing our columns by the sum of each column. We did this by dividing the dataframe by a list that contained the column sums. \n",
    "\n",
    "Unfortunately, computers can only divide columns by arrays/lists and cannot divide rows by arrays/lists. In order to account for this, we can transpose our data -- flip our data table such that the rows are columns and the columns are rows. After normalizing our columns, we can transpose our data again, so that our columns are back to being rows."
   ]
  },
  {
   "cell_type": "markdown",
   "metadata": {},
   "source": [
    "<img src=\"images/transpose.png\" width=\"500\">\n",
    "\n",
    "*Image credit: w3resource*"
   ]
  },
  {
   "cell_type": "markdown",
   "metadata": {},
   "source": [
    "Let's first take a look at the `classes` data table that we worked with previously. "
   ]
  },
  {
   "cell_type": "code",
   "execution_count": 21,
   "metadata": {},
   "outputs": [
    {
     "data": {
      "text/html": [
       "<div>\n",
       "<style scoped>\n",
       "    .dataframe tbody tr th:only-of-type {\n",
       "        vertical-align: middle;\n",
       "    }\n",
       "\n",
       "    .dataframe tbody tr th {\n",
       "        vertical-align: top;\n",
       "    }\n",
       "\n",
       "    .dataframe thead th {\n",
       "        text-align: right;\n",
       "    }\n",
       "</style>\n",
       "<table border=\"1\" class=\"dataframe\">\n",
       "  <thead>\n",
       "    <tr style=\"text-align: right;\">\n",
       "      <th></th>\n",
       "      <th>Class 1</th>\n",
       "      <th>Class 2</th>\n",
       "    </tr>\n",
       "    <tr>\n",
       "      <th>Grade</th>\n",
       "      <th></th>\n",
       "      <th></th>\n",
       "    </tr>\n",
       "  </thead>\n",
       "  <tbody>\n",
       "    <tr>\n",
       "      <th>A</th>\n",
       "      <td>10</td>\n",
       "      <td>10</td>\n",
       "    </tr>\n",
       "    <tr>\n",
       "      <th>B</th>\n",
       "      <td>0</td>\n",
       "      <td>900</td>\n",
       "    </tr>\n",
       "    <tr>\n",
       "      <th>C</th>\n",
       "      <td>0</td>\n",
       "      <td>90</td>\n",
       "    </tr>\n",
       "  </tbody>\n",
       "</table>\n",
       "</div>"
      ],
      "text/plain": [
       "       Class 1  Class 2\n",
       "Grade                  \n",
       "A           10       10\n",
       "B            0      900\n",
       "C            0       90"
      ]
     },
     "execution_count": 21,
     "metadata": {},
     "output_type": "execute_result"
    }
   ],
   "source": [
    "# EXAMPLE\n",
    "\n",
    "classes = pd.DataFrame([[\"A\", 10, 10], [\"B\", 0, 900], [\"C\", 0, 90]], \n",
    "                       columns=[\"Grade\", \"Class 1\", \"Class 2\"])\n",
    "classes = classes.set_index(\"Grade\")\n",
    "classes"
   ]
  },
  {
   "cell_type": "markdown",
   "metadata": {},
   "source": [
    "Try using the function `np.transpose()` so that the `classes` table has the following structure.\n",
    "- Columns: \"Grade\", \"A\", \"B\", \"C\"\n",
    "- Rows: \"Class 1\", \"Class 2\""
   ]
  },
  {
   "cell_type": "code",
   "execution_count": 22,
   "metadata": {},
   "outputs": [
    {
     "data": {
      "text/html": [
       "<div>\n",
       "<style scoped>\n",
       "    .dataframe tbody tr th:only-of-type {\n",
       "        vertical-align: middle;\n",
       "    }\n",
       "\n",
       "    .dataframe tbody tr th {\n",
       "        vertical-align: top;\n",
       "    }\n",
       "\n",
       "    .dataframe thead th {\n",
       "        text-align: right;\n",
       "    }\n",
       "</style>\n",
       "<table border=\"1\" class=\"dataframe\">\n",
       "  <thead>\n",
       "    <tr style=\"text-align: right;\">\n",
       "      <th>Grade</th>\n",
       "      <th>A</th>\n",
       "      <th>B</th>\n",
       "      <th>C</th>\n",
       "    </tr>\n",
       "  </thead>\n",
       "  <tbody>\n",
       "    <tr>\n",
       "      <th>Class 1</th>\n",
       "      <td>10</td>\n",
       "      <td>0</td>\n",
       "      <td>0</td>\n",
       "    </tr>\n",
       "    <tr>\n",
       "      <th>Class 2</th>\n",
       "      <td>10</td>\n",
       "      <td>900</td>\n",
       "      <td>90</td>\n",
       "    </tr>\n",
       "  </tbody>\n",
       "</table>\n",
       "</div>"
      ],
      "text/plain": [
       "Grade     A    B   C\n",
       "Class 1  10    0   0\n",
       "Class 2  10  900  90"
      ]
     },
     "execution_count": 22,
     "metadata": {},
     "output_type": "execute_result"
    }
   ],
   "source": [
    "classes_by_grade = np.transpose(classes)\n",
    "classes_by_grade"
   ]
  },
  {
   "cell_type": "markdown",
   "metadata": {},
   "source": [
    "Now we can perform normalization just like before. To do this, divide the transposed dataframe by the totals for each grade (A, B, C).\n",
    "\n",
    "Note that these values should *not* be the same as the normalized values from [section 1](#section1)"
   ]
  },
  {
   "cell_type": "code",
   "execution_count": 23,
   "metadata": {},
   "outputs": [
    {
     "data": {
      "text/html": [
       "<div>\n",
       "<style scoped>\n",
       "    .dataframe tbody tr th:only-of-type {\n",
       "        vertical-align: middle;\n",
       "    }\n",
       "\n",
       "    .dataframe tbody tr th {\n",
       "        vertical-align: top;\n",
       "    }\n",
       "\n",
       "    .dataframe thead th {\n",
       "        text-align: right;\n",
       "    }\n",
       "</style>\n",
       "<table border=\"1\" class=\"dataframe\">\n",
       "  <thead>\n",
       "    <tr style=\"text-align: right;\">\n",
       "      <th>Grade</th>\n",
       "      <th>A</th>\n",
       "      <th>B</th>\n",
       "      <th>C</th>\n",
       "    </tr>\n",
       "  </thead>\n",
       "  <tbody>\n",
       "    <tr>\n",
       "      <th>Class 1</th>\n",
       "      <td>0.5</td>\n",
       "      <td>0.0</td>\n",
       "      <td>0.0</td>\n",
       "    </tr>\n",
       "    <tr>\n",
       "      <th>Class 2</th>\n",
       "      <td>0.5</td>\n",
       "      <td>1.0</td>\n",
       "      <td>1.0</td>\n",
       "    </tr>\n",
       "  </tbody>\n",
       "</table>\n",
       "</div>"
      ],
      "text/plain": [
       "Grade      A    B    C\n",
       "Class 1  0.5  0.0  0.0\n",
       "Class 2  0.5  1.0  1.0"
      ]
     },
     "execution_count": 23,
     "metadata": {},
     "output_type": "execute_result"
    }
   ],
   "source": [
    "# EXERCISE\n",
    "\n",
    "grade_totals = [20, 900, 90]\n",
    "\n",
    "classes_by_grade_shares = classes_by_grade / grade_totals\n",
    "classes_by_grade_shares"
   ]
  },
  {
   "cell_type": "markdown",
   "metadata": {},
   "source": [
    "Now we will apply `np.transpose()` once again and update our `classes` dataframe:"
   ]
  },
  {
   "cell_type": "code",
   "execution_count": 24,
   "metadata": {},
   "outputs": [
    {
     "data": {
      "text/html": [
       "<div>\n",
       "<style scoped>\n",
       "    .dataframe tbody tr th:only-of-type {\n",
       "        vertical-align: middle;\n",
       "    }\n",
       "\n",
       "    .dataframe tbody tr th {\n",
       "        vertical-align: top;\n",
       "    }\n",
       "\n",
       "    .dataframe thead th {\n",
       "        text-align: right;\n",
       "    }\n",
       "</style>\n",
       "<table border=\"1\" class=\"dataframe\">\n",
       "  <thead>\n",
       "    <tr style=\"text-align: right;\">\n",
       "      <th></th>\n",
       "      <th>Class 1</th>\n",
       "      <th>Class 2</th>\n",
       "    </tr>\n",
       "    <tr>\n",
       "      <th>Grade</th>\n",
       "      <th></th>\n",
       "      <th></th>\n",
       "    </tr>\n",
       "  </thead>\n",
       "  <tbody>\n",
       "    <tr>\n",
       "      <th>A</th>\n",
       "      <td>0.5</td>\n",
       "      <td>0.5</td>\n",
       "    </tr>\n",
       "    <tr>\n",
       "      <th>B</th>\n",
       "      <td>0.0</td>\n",
       "      <td>1.0</td>\n",
       "    </tr>\n",
       "    <tr>\n",
       "      <th>C</th>\n",
       "      <td>0.0</td>\n",
       "      <td>1.0</td>\n",
       "    </tr>\n",
       "  </tbody>\n",
       "</table>\n",
       "</div>"
      ],
      "text/plain": [
       "       Class 1  Class 2\n",
       "Grade                  \n",
       "A          0.5      0.5\n",
       "B          0.0      1.0\n",
       "C          0.0      1.0"
      ]
     },
     "execution_count": 24,
     "metadata": {},
     "output_type": "execute_result"
    }
   ],
   "source": [
    "classes = np.transpose(classes_by_grade_shares)\n",
    "\n",
    "classes"
   ]
  },
  {
   "cell_type": "markdown",
   "metadata": {},
   "source": [
    "Altogether, the whole process (denoted below) normalizes our original table, `classes`, by row.\n",
    "\n",
    "1. Transpose the table so that the rows are columns and the columns are rows.\n",
    "2. Do column division by an array/list.\n",
    "3. Transpose the table again so that the structure is the same as the original table."
   ]
  },
  {
   "cell_type": "markdown",
   "metadata": {},
   "source": [
    "## 5. Normalization by Gene Length <a id='section5'>"
   ]
  },
  {
   "cell_type": "markdown",
   "metadata": {},
   "source": [
    "Now you know how to apply normalization by row. Let's think about *what* we want to normalize by. Each row represents a specific gene, so it might be worthwhile to consider the length of a gene. Different genes have different lengths, so let's check out the lengths of our genes."
   ]
  },
  {
   "cell_type": "markdown",
   "metadata": {},
   "source": [
    "In the cell below, load the information we have on each gene via the \"gene_info.info\" file (located in the data folder). Like the original `rna_data` table, this file is separated by tabs instead of commas. Indicate this in your function call with the argument `sep=...`.\n",
    "\n",
    "*Hint*: if you forgot what to put in the ellipses (...), check what you did in the first genomics notebook!"
   ]
  },
  {
   "cell_type": "code",
   "execution_count": 25,
   "metadata": {},
   "outputs": [
    {
     "data": {
      "text/html": [
       "<div>\n",
       "<style scoped>\n",
       "    .dataframe tbody tr th:only-of-type {\n",
       "        vertical-align: middle;\n",
       "    }\n",
       "\n",
       "    .dataframe tbody tr th {\n",
       "        vertical-align: top;\n",
       "    }\n",
       "\n",
       "    .dataframe thead th {\n",
       "        text-align: right;\n",
       "    }\n",
       "</style>\n",
       "<table border=\"1\" class=\"dataframe\">\n",
       "  <thead>\n",
       "    <tr style=\"text-align: right;\">\n",
       "      <th></th>\n",
       "      <th>chrom</th>\n",
       "      <th>start</th>\n",
       "      <th>stop</th>\n",
       "      <th>length</th>\n",
       "    </tr>\n",
       "    <tr>\n",
       "      <th>geneID</th>\n",
       "      <th></th>\n",
       "      <th></th>\n",
       "      <th></th>\n",
       "      <th></th>\n",
       "    </tr>\n",
       "  </thead>\n",
       "  <tbody>\n",
       "    <tr>\n",
       "      <th>Cz01g00020</th>\n",
       "      <td>chr01</td>\n",
       "      <td>1227</td>\n",
       "      <td>6754</td>\n",
       "      <td>5527</td>\n",
       "    </tr>\n",
       "    <tr>\n",
       "      <th>Cz01g00030</th>\n",
       "      <td>chr01</td>\n",
       "      <td>8009</td>\n",
       "      <td>9332</td>\n",
       "      <td>1323</td>\n",
       "    </tr>\n",
       "    <tr>\n",
       "      <th>Cz01g00040</th>\n",
       "      <td>chr01</td>\n",
       "      <td>11759</td>\n",
       "      <td>17522</td>\n",
       "      <td>5763</td>\n",
       "    </tr>\n",
       "    <tr>\n",
       "      <th>Cz01g00050</th>\n",
       "      <td>chr01</td>\n",
       "      <td>17768</td>\n",
       "      <td>23386</td>\n",
       "      <td>5618</td>\n",
       "    </tr>\n",
       "    <tr>\n",
       "      <th>Cz01g00060</th>\n",
       "      <td>chr01</td>\n",
       "      <td>24364</td>\n",
       "      <td>25508</td>\n",
       "      <td>1144</td>\n",
       "    </tr>\n",
       "  </tbody>\n",
       "</table>\n",
       "</div>"
      ],
      "text/plain": [
       "            chrom  start   stop  length\n",
       "geneID                                 \n",
       "Cz01g00020  chr01   1227   6754    5527\n",
       "Cz01g00030  chr01   8009   9332    1323\n",
       "Cz01g00040  chr01  11759  17522    5763\n",
       "Cz01g00050  chr01  17768  23386    5618\n",
       "Cz01g00060  chr01  24364  25508    1144"
      ]
     },
     "execution_count": 25,
     "metadata": {},
     "output_type": "execute_result"
    }
   ],
   "source": [
    "# EXERCISE\n",
    "\n",
    "gene_info = pd.read_csv('data/gene_info.info', sep='\\t', index_col=0)\n",
    "\n",
    "gene_info.head()"
   ]
  },
  {
   "cell_type": "markdown",
   "metadata": {},
   "source": [
    "This data table gives us a lot of interesting information! First, our index is `geneID`, which seems similar to our `tracking_id` column in `rna_data`. The column `chrom` tells us what chromosome the gene can be found on, and the columns `start` and `stop` tell us where the gene begins and ends on that chromosome. Finally, `length` refers to how long that specific gene is.\n",
    "\n",
    "The last column would be the most useful to us for row normalization. Genes that are of longer lengths may produce more reads than those of shorter lengths, so we need to take that into account. Let's normalize the dataframe `rna_by_read_depth` by each row's gene length."
   ]
  },
  {
   "cell_type": "markdown",
   "metadata": {},
   "source": [
    "First though we have to check whether or not the gene IDs of `gene_info` are in the same order as the gene IDs in `rna_by_read_depth`. Do this in the next cell and keep in mind that the gene IDs of both data tables are the table indices.\n",
    "\n",
    "1. Get the indices of both tables (by using `.index`) and assign them them to `gene_info_ids` and `rna_data_ids`.\n",
    "2. Compare the gene ID arrays using a boolean statement.\n",
    "3. Count how many indices match up.\n",
    "    - Recall that 'True' = 1 and 'False' = 0. You can use the `sum()` function.\n",
    "4. Verify that the number of matching gene IDs is the number of genes in the `rna_by_read_depth` table."
   ]
  },
  {
   "cell_type": "code",
   "execution_count": 26,
   "metadata": {},
   "outputs": [
    {
     "name": "stdout",
     "output_type": "stream",
     "text": [
      "The gene IDs are in the same order as the tracking IDs: True\n"
     ]
    }
   ],
   "source": [
    "# EXERCISE\n",
    "\n",
    "gene_info_ids = gene_info.index\n",
    "rna_data_ids = rna_by_read_depth.index\n",
    "\n",
    "matches = (gene_info_ids == rna_data_ids)\n",
    "num_matches = sum(matches)\n",
    "\n",
    "rna_data_num_rows = len(rna_by_read_depth)\n",
    "same_order = (num_matches == rna_data_num_rows)\n",
    "\n",
    "print(\"The gene IDs are in the same order as the tracking IDs: \" + str(same_order))"
   ]
  },
  {
   "cell_type": "markdown",
   "metadata": {},
   "source": [
    "Based on the above statement, we can see that the gene ID columns are in the same order for `gene_info` and `rna_by_read_depth`. This means we can take the `length` information from `gene_info` with full confidence that it will be in the same order as the corresponding genes in `rna_data`. \n",
    "\n",
    "Let's store that in the variable `gene_lengths` in the next cell:"
   ]
  },
  {
   "cell_type": "code",
   "execution_count": 27,
   "metadata": {},
   "outputs": [],
   "source": [
    "# EXERCISE\n",
    "\n",
    "gene_lengths = gene_info[\"length\"]"
   ]
  },
  {
   "cell_type": "markdown",
   "metadata": {},
   "source": [
    "Let's take a quick peek at the gene lengths of the first 100 genes!"
   ]
  },
  {
   "cell_type": "code",
   "execution_count": 28,
   "metadata": {},
   "outputs": [
    {
     "data": {
      "image/png": "[encoded data removed]",
      "text/plain": [
       "<Figure size 432x288 with 1 Axes>"
      ]
     },
     "metadata": {
      "needs_background": "light"
     },
     "output_type": "display_data"
    }
   ],
   "source": [
    "x_data = rna_by_read_depth.index[0:100]\n",
    "y_data = gene_lengths[0:100]\n",
    "\n",
    "plt.bar(x_data, y_data)\n",
    "plt.title(\"Genes vs. Gene Length\")\n",
    "plt.xlabel(\"Genes\")\n",
    "plt.ylabel(\"Length\");"
   ]
  },
  {
   "cell_type": "markdown",
   "metadata": {},
   "source": [
    "Wow! Gene lengths vary by a lot, and these are only the first 100 gene lengths! Once again, it is a good thing we have decided to normalize our data to account for this variability in gene lengths. \n",
    "\n",
    "Let's create a function to normalizes `rna_by_read_depth` by rows. Looking back at [section 4](#section4), recall the steps are as follows:\n",
    "1. Transpose the table so that the rows are columns and the columns are rows.\n",
    "2. Do column division by an array/list.\n",
    "3. Transpose the table again so that the structure is the same as the original table."
   ]
  },
  {
   "cell_type": "code",
   "execution_count": 29,
   "metadata": {
    "id": "MGPREFlrfU2I"
   },
   "outputs": [],
   "source": [
    "# EXERCISE\n",
    "\n",
    "def normalizeByGene(data, gene_length_list):\n",
    "    transposed_data = np.transpose(data)\n",
    "    transposed_data_normalized = transposed_data / gene_length_list\n",
    "    return np.transpose(transposed_data_normalized)\n",
    "    \n",
    "    #An one line solution is possible too!\n",
    "    #return np.transpose(np.transpose(data)/gene_length_list)"
   ]
  },
  {
   "cell_type": "markdown",
   "metadata": {},
   "source": [
    "Well done! We now have a function that normalizes by row and an array of values that we would like to normalize by. In the next cell, let's normalize `rna_by_read_depth` by `gene_lengths`. \n",
    "\n",
    "You might notice that the numbers are incredibly small. Recall that these values are gene reads as proportions of their gene lengths as well as gene reads as proportions of all samples' total reads. "
   ]
  },
  {
   "cell_type": "code",
   "execution_count": 30,
   "metadata": {},
   "outputs": [
    {
     "data": {
      "text/html": [
       "<div>\n",
       "<style scoped>\n",
       "    .dataframe tbody tr th:only-of-type {\n",
       "        vertical-align: middle;\n",
       "    }\n",
       "\n",
       "    .dataframe tbody tr th {\n",
       "        vertical-align: top;\n",
       "    }\n",
       "\n",
       "    .dataframe thead th {\n",
       "        text-align: right;\n",
       "    }\n",
       "</style>\n",
       "<table border=\"1\" class=\"dataframe\">\n",
       "  <thead>\n",
       "    <tr style=\"text-align: right;\">\n",
       "      <th></th>\n",
       "      <th>0.5HL-0</th>\n",
       "      <th>0.5HL-1</th>\n",
       "      <th>0.5HL-2</th>\n",
       "      <th>0.5HL-3</th>\n",
       "      <th>12HL-0</th>\n",
       "      <th>12HL-1</th>\n",
       "      <th>12HL-2</th>\n",
       "      <th>12HL-3</th>\n",
       "      <th>1HL-0</th>\n",
       "      <th>1HL-1</th>\n",
       "      <th>...</th>\n",
       "      <th>1ML-2</th>\n",
       "      <th>1ML-3</th>\n",
       "      <th>3ML-0</th>\n",
       "      <th>3ML-1</th>\n",
       "      <th>3ML-2</th>\n",
       "      <th>3ML-3</th>\n",
       "      <th>6ML-0</th>\n",
       "      <th>6ML-1</th>\n",
       "      <th>6ML-2</th>\n",
       "      <th>6ML-3</th>\n",
       "    </tr>\n",
       "    <tr>\n",
       "      <th>tracking_id</th>\n",
       "      <th></th>\n",
       "      <th></th>\n",
       "      <th></th>\n",
       "      <th></th>\n",
       "      <th></th>\n",
       "      <th></th>\n",
       "      <th></th>\n",
       "      <th></th>\n",
       "      <th></th>\n",
       "      <th></th>\n",
       "      <th></th>\n",
       "      <th></th>\n",
       "      <th></th>\n",
       "      <th></th>\n",
       "      <th></th>\n",
       "      <th></th>\n",
       "      <th></th>\n",
       "      <th></th>\n",
       "      <th></th>\n",
       "      <th></th>\n",
       "      <th></th>\n",
       "    </tr>\n",
       "  </thead>\n",
       "  <tbody>\n",
       "    <tr>\n",
       "      <th>Cz01g00020</th>\n",
       "      <td>1.686260e-08</td>\n",
       "      <td>1.254196e-08</td>\n",
       "      <td>1.687844e-08</td>\n",
       "      <td>1.341901e-08</td>\n",
       "      <td>1.237321e-08</td>\n",
       "      <td>1.212767e-08</td>\n",
       "      <td>1.280309e-08</td>\n",
       "      <td>1.334510e-08</td>\n",
       "      <td>1.014449e-08</td>\n",
       "      <td>1.354261e-08</td>\n",
       "      <td>...</td>\n",
       "      <td>1.676205e-08</td>\n",
       "      <td>1.531761e-08</td>\n",
       "      <td>1.554627e-08</td>\n",
       "      <td>1.636461e-08</td>\n",
       "      <td>1.975660e-08</td>\n",
       "      <td>1.526856e-08</td>\n",
       "      <td>9.550060e-09</td>\n",
       "      <td>1.019831e-08</td>\n",
       "      <td>1.041653e-08</td>\n",
       "      <td>9.818118e-09</td>\n",
       "    </tr>\n",
       "    <tr>\n",
       "      <th>Cz01g00030</th>\n",
       "      <td>2.734191e-08</td>\n",
       "      <td>2.973011e-08</td>\n",
       "      <td>2.552330e-08</td>\n",
       "      <td>2.730249e-08</td>\n",
       "      <td>2.397698e-08</td>\n",
       "      <td>2.038243e-08</td>\n",
       "      <td>2.620839e-08</td>\n",
       "      <td>1.943855e-08</td>\n",
       "      <td>2.816385e-08</td>\n",
       "      <td>2.886237e-08</td>\n",
       "      <td>...</td>\n",
       "      <td>2.658599e-08</td>\n",
       "      <td>2.897355e-08</td>\n",
       "      <td>2.809642e-08</td>\n",
       "      <td>3.588067e-08</td>\n",
       "      <td>3.386484e-08</td>\n",
       "      <td>3.272879e-08</td>\n",
       "      <td>2.453101e-08</td>\n",
       "      <td>2.750621e-08</td>\n",
       "      <td>2.559786e-08</td>\n",
       "      <td>1.752520e-08</td>\n",
       "    </tr>\n",
       "    <tr>\n",
       "      <th>Cz01g00040</th>\n",
       "      <td>2.215351e-09</td>\n",
       "      <td>1.599276e-09</td>\n",
       "      <td>2.143101e-09</td>\n",
       "      <td>2.234822e-09</td>\n",
       "      <td>5.325634e-09</td>\n",
       "      <td>6.818193e-09</td>\n",
       "      <td>6.139395e-09</td>\n",
       "      <td>6.817658e-09</td>\n",
       "      <td>1.108374e-09</td>\n",
       "      <td>1.846015e-09</td>\n",
       "      <td>...</td>\n",
       "      <td>2.206993e-09</td>\n",
       "      <td>1.475641e-09</td>\n",
       "      <td>2.625392e-09</td>\n",
       "      <td>2.643992e-09</td>\n",
       "      <td>3.037394e-09</td>\n",
       "      <td>2.845531e-09</td>\n",
       "      <td>3.991581e-09</td>\n",
       "      <td>3.363181e-09</td>\n",
       "      <td>4.223697e-09</td>\n",
       "      <td>4.879230e-09</td>\n",
       "    </tr>\n",
       "    <tr>\n",
       "      <th>Cz01g00050</th>\n",
       "      <td>1.237266e-09</td>\n",
       "      <td>1.062894e-09</td>\n",
       "      <td>1.707279e-09</td>\n",
       "      <td>1.106725e-09</td>\n",
       "      <td>4.913113e-09</td>\n",
       "      <td>5.794190e-09</td>\n",
       "      <td>6.087923e-09</td>\n",
       "      <td>4.927324e-09</td>\n",
       "      <td>7.264047e-10</td>\n",
       "      <td>7.101226e-10</td>\n",
       "      <td>...</td>\n",
       "      <td>1.481354e-09</td>\n",
       "      <td>1.468541e-09</td>\n",
       "      <td>2.294168e-09</td>\n",
       "      <td>2.190650e-09</td>\n",
       "      <td>2.485212e-09</td>\n",
       "      <td>2.000645e-09</td>\n",
       "      <td>3.142370e-09</td>\n",
       "      <td>3.027538e-09</td>\n",
       "      <td>2.599626e-09</td>\n",
       "      <td>3.336775e-09</td>\n",
       "    </tr>\n",
       "    <tr>\n",
       "      <th>Cz01g00060</th>\n",
       "      <td>4.464009e-09</td>\n",
       "      <td>3.744567e-09</td>\n",
       "      <td>5.857437e-09</td>\n",
       "      <td>5.046740e-09</td>\n",
       "      <td>8.282577e-09</td>\n",
       "      <td>8.755179e-09</td>\n",
       "      <td>7.835027e-09</td>\n",
       "      <td>6.868910e-09</td>\n",
       "      <td>3.101962e-09</td>\n",
       "      <td>4.317607e-09</td>\n",
       "      <td>...</td>\n",
       "      <td>5.078557e-09</td>\n",
       "      <td>5.991317e-09</td>\n",
       "      <td>5.061666e-09</td>\n",
       "      <td>3.415215e-09</td>\n",
       "      <td>5.646848e-09</td>\n",
       "      <td>3.543387e-09</td>\n",
       "      <td>7.326148e-09</td>\n",
       "      <td>6.569471e-09</td>\n",
       "      <td>5.365565e-09</td>\n",
       "      <td>8.193182e-09</td>\n",
       "    </tr>\n",
       "  </tbody>\n",
       "</table>\n",
       "<p>5 rows × 44 columns</p>\n",
       "</div>"
      ],
      "text/plain": [
       "                  0.5HL-0       0.5HL-1       0.5HL-2       0.5HL-3  \\\n",
       "tracking_id                                                           \n",
       "Cz01g00020   1.686260e-08  1.254196e-08  1.687844e-08  1.341901e-08   \n",
       "Cz01g00030   2.734191e-08  2.973011e-08  2.552330e-08  2.730249e-08   \n",
       "Cz01g00040   2.215351e-09  1.599276e-09  2.143101e-09  2.234822e-09   \n",
       "Cz01g00050   1.237266e-09  1.062894e-09  1.707279e-09  1.106725e-09   \n",
       "Cz01g00060   4.464009e-09  3.744567e-09  5.857437e-09  5.046740e-09   \n",
       "\n",
       "                   12HL-0        12HL-1        12HL-2        12HL-3  \\\n",
       "tracking_id                                                           \n",
       "Cz01g00020   1.237321e-08  1.212767e-08  1.280309e-08  1.334510e-08   \n",
       "Cz01g00030   2.397698e-08  2.038243e-08  2.620839e-08  1.943855e-08   \n",
       "Cz01g00040   5.325634e-09  6.818193e-09  6.139395e-09  6.817658e-09   \n",
       "Cz01g00050   4.913113e-09  5.794190e-09  6.087923e-09  4.927324e-09   \n",
       "Cz01g00060   8.282577e-09  8.755179e-09  7.835027e-09  6.868910e-09   \n",
       "\n",
       "                    1HL-0         1HL-1  ...         1ML-2         1ML-3  \\\n",
       "tracking_id                              ...                               \n",
       "Cz01g00020   1.014449e-08  1.354261e-08  ...  1.676205e-08  1.531761e-08   \n",
       "Cz01g00030   2.816385e-08  2.886237e-08  ...  2.658599e-08  2.897355e-08   \n",
       "Cz01g00040   1.108374e-09  1.846015e-09  ...  2.206993e-09  1.475641e-09   \n",
       "Cz01g00050   7.264047e-10  7.101226e-10  ...  1.481354e-09  1.468541e-09   \n",
       "Cz01g00060   3.101962e-09  4.317607e-09  ...  5.078557e-09  5.991317e-09   \n",
       "\n",
       "                    3ML-0         3ML-1         3ML-2         3ML-3  \\\n",
       "tracking_id                                                           \n",
       "Cz01g00020   1.554627e-08  1.636461e-08  1.975660e-08  1.526856e-08   \n",
       "Cz01g00030   2.809642e-08  3.588067e-08  3.386484e-08  3.272879e-08   \n",
       "Cz01g00040   2.625392e-09  2.643992e-09  3.037394e-09  2.845531e-09   \n",
       "Cz01g00050   2.294168e-09  2.190650e-09  2.485212e-09  2.000645e-09   \n",
       "Cz01g00060   5.061666e-09  3.415215e-09  5.646848e-09  3.543387e-09   \n",
       "\n",
       "                    6ML-0         6ML-1         6ML-2         6ML-3  \n",
       "tracking_id                                                          \n",
       "Cz01g00020   9.550060e-09  1.019831e-08  1.041653e-08  9.818118e-09  \n",
       "Cz01g00030   2.453101e-08  2.750621e-08  2.559786e-08  1.752520e-08  \n",
       "Cz01g00040   3.991581e-09  3.363181e-09  4.223697e-09  4.879230e-09  \n",
       "Cz01g00050   3.142370e-09  3.027538e-09  2.599626e-09  3.336775e-09  \n",
       "Cz01g00060   7.326148e-09  6.569471e-09  5.365565e-09  8.193182e-09  \n",
       "\n",
       "[5 rows x 44 columns]"
      ]
     },
     "execution_count": 30,
     "metadata": {},
     "output_type": "execute_result"
    }
   ],
   "source": [
    "# EXERCISE\n",
    "\n",
    "rna_by_gene_len = normalizeByGene(rna_by_read_depth, gene_lengths)\n",
    "rna_by_gene_len.head()"
   ]
  },
  {
   "cell_type": "markdown",
   "metadata": {},
   "source": [
    "### What effect did normalization have?"
   ]
  },
  {
   "cell_type": "markdown",
   "metadata": {},
   "source": [
    "Let's see how our data changed for gene `Cz01g00040` after normalizing the data by gene lengths."
   ]
  },
  {
   "cell_type": "markdown",
   "metadata": {},
   "source": [
    "Once again, let's create a plot that visualizes the normalized reads for `Cz01g00040` in `rna_by_read_depth`. Remember that `rna_by_read_depth` is our data normalized by read depths *only*."
   ]
  },
  {
   "cell_type": "code",
   "execution_count": 31,
   "metadata": {},
   "outputs": [
    {
     "data": {
      "image/png": "[encoded data removed]",
      "text/plain": [
       "<Figure size 432x288 with 1 Axes>"
      ]
     },
     "metadata": {
      "needs_background": "light"
     },
     "output_type": "display_data"
    }
   ],
   "source": [
    "x_data = rna_by_read_depth.columns\n",
    "y_data = rna_by_read_depth.loc[\"Cz01g00040\", :]\n",
    "\n",
    "plt.scatter(x_data, y_data)\n",
    "plt.title(\"Samples vs. Normalized CZ01g00040 (Read Depth)\")\n",
    "plt.xlabel(\"Samples\")\n",
    "plt.ylabel(\"Normalized CZ01g00040 Reads\")\n",
    "plt.xticks(rotation=90);"
   ]
  },
  {
   "cell_type": "markdown",
   "metadata": {},
   "source": [
    "In this next cell, you should visualize the normalized reads for `Cz01g00040` in `rna_by_gene_len`. This is the data from the previous visualization normalized by gene lengths. "
   ]
  },
  {
   "cell_type": "code",
   "execution_count": 32,
   "metadata": {},
   "outputs": [
    {
     "data": {
      "image/png": "[encoded data removed]",
      "text/plain": [
       "<Figure size 432x288 with 1 Axes>"
      ]
     },
     "metadata": {
      "needs_background": "light"
     },
     "output_type": "display_data"
    }
   ],
   "source": [
    "# EXERCISE\n",
    "\n",
    "x_data = rna_by_gene_len.columns\n",
    "y_data = rna_by_gene_len.loc[\"Cz01g00040\", :]\n",
    "\n",
    "plt.scatter(x_data, y_data)\n",
    "plt.title(\"Samples vs. Normalized CZ01g00040 (Read Depth, Gene Length)\")\n",
    "plt.xlabel(\"Samples\")\n",
    "plt.ylabel(\"Normalized CZ01g00040 Reads\")\n",
    "plt.xticks(rotation=90);"
   ]
  },
  {
   "cell_type": "markdown",
   "metadata": {},
   "source": [
    "**Question 1** How did the visualization change after the data was normalized by gene length? Did the pattern change? Did the scale of normalized `Cz01g00040` reads change? How much larger is the highest read compared to the lowest read?"
   ]
  },
  {
   "cell_type": "markdown",
   "metadata": {},
   "source": [
    "**Key: The pattern did not change, the scale did change. When the data was only normalized by read depth, the scale was from 0 to 4e-5, but when the data is normalized by read depth AND gene length, the scale is from 0 to 7e-9 (these are tiny numbers!)**"
   ]
  },
  {
   "cell_type": "markdown",
   "metadata": {},
   "source": [
    "**Question 2** The changes that occurred may not seem too drastic in the visualization. However, they are still important. Why might that be? *Hint: Look back at your genes vs. gene length graph*"
   ]
  },
  {
   "cell_type": "markdown",
   "metadata": {},
   "source": [
    "**Key: The variation in gene lengths (as seen in the genes vs. gene length graph) is still very high so it is still important to normalize.**"
   ]
  },
  {
   "cell_type": "markdown",
   "metadata": {},
   "source": [
    "To finish off this notebook, let's save our progress by using the `.to_csv()` function to save the dataframe `rna_by_gene_len`, as \"rna_normalized.csv\" in the data folder."
   ]
  },
  {
   "cell_type": "code",
   "execution_count": 33,
   "metadata": {},
   "outputs": [],
   "source": [
    "# EXERCISE\n",
    "\n",
    "rna_by_gene_len.to_csv(\"data/rna_normalized.csv\")"
   ]
  },
  {
   "cell_type": "markdown",
   "metadata": {},
   "source": [
    "Notebook developed by: Sharon Greenblum, Ciara Acosta, Kseniya Usovich, Alisa Bettale"
   ]
  }
 ],
 "metadata": {
  "colab": {
   "collapsed_sections": [],
   "name": "Copy of RNAseq_tutorial_python.ipynb",
   "provenance": []
  },
  "kernelspec": {
   "display_name": "Python 3",
   "language": "python",
   "name": "python3"
  },
  "language_info": {
   "codemirror_mode": {
    "name": "ipython",
    "version": 3
   },
   "file_extension": ".py",
   "mimetype": "text/x-python",
   "name": "python",
   "nbconvert_exporter": "python",
   "pygments_lexer": "ipython3",
   "version": "3.8.8"
  }
 },
 "nbformat": 4,
 "nbformat_minor": 1
}
