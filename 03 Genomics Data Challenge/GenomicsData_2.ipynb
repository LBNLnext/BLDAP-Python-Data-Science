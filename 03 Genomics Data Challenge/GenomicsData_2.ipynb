{
 "cells": [
  {
   "cell_type": "markdown",
   "metadata": {},
   "source": [
    "# Genomics Data Notebook 2: Normalizing Our Data\n",
    "\n",
    "\n",
    "\n",
    "---"
   ]
  },
  {
   "cell_type": "markdown",
   "metadata": {},
   "source": [
    "### Goal For This Notebook:\n",
    "\n",
    "1 - Normalize the data so we can better compare the data, by using a relative scale instead of directly comparing them.<br>\n",
    "\n",
    "---\n",
    "\n",
    "### Table of Contents\n",
    "\n",
    "1 - [What Is Normalization?](#section1)<br>\n",
    "\n",
    "2 - [Normalization by Read Depth](#section2)<br>\n",
    "\n",
    "3 - [Checking the Effect of Normalization](#section3)<br>\n",
    "\n",
    "4 - [Transposing Data](#section4)<br>\n",
    "\n",
    "5 - [Nomalization by Gene Length](#section5)\n",
    "\n",
    "---"
   ]
  },
  {
   "cell_type": "markdown",
   "metadata": {},
   "source": [
    "<img src=\"images/algae.png\" align=\"left\">"
   ]
  },
  {
   "cell_type": "markdown",
   "metadata": {},
   "source": [
    "In this notebook, we will look at our cleaned data from the previous notebook and then normalize the data. Normalization allows us to compare our data on a relative scale instead of directly comparing them. This will allow us to visualize data easier for the next notebook and help us find relationships in the data.\n",
    "\n",
    "Normalization is a new topic so this notebook will break it down into steps. But first, as always, let us import the needed libraries:"
   ]
  },
  {
   "cell_type": "code",
   "execution_count": null,
   "metadata": {},
   "outputs": [],
   "source": [
    "import numpy as np\n",
    "import pandas as pd\n",
    "import matplotlib.pyplot as plt"
   ]
  },
  {
   "cell_type": "markdown",
   "metadata": {},
   "source": [
    "Load yesterday's cleaned table into `rna_data`. Recall that we saved yesterday's work into a file called \"rna_data_cleaned.csv\" in the *data* folder. Double check that `rna_data` is what it looked like yesterday. Check with your peers that you all have the same output when running the cell below.\n",
    "\n",
    "*The `index_col=0` argument allows us to set the first column as the index of the dataframe. If you are curious, you can try running the code without the argument and see the difference.*"
   ]
  },
  {
   "cell_type": "code",
   "execution_count": null,
   "metadata": {
    "scrolled": true
   },
   "outputs": [],
   "source": [
    "# EXERCISE\n",
    "\n",
    "rna_data = pd.read_csv(\"...\", index_col=0)\n",
    "\n",
    "rna_data.head()"
   ]
  },
  {
   "cell_type": "markdown",
   "metadata": {},
   "source": [
    "## 1. What Is Normalization?<a id='section1'>"
   ]
  },
  {
   "cell_type": "markdown",
   "metadata": {},
   "source": [
    "Previously, we noted that the values in a single column ranged from 0 to the hundreds of thousands. Since it is hard to look at numbers in this wide of a range, we want to \"normalize\" the data. Normalizing data means that we adjust the scale of our data by comparing our numbers on a relative scale instead of directly comparing them. This helps with data that takes on a large range of numbers, and it eliminates the issue of comparing categories that are on different scales."
   ]
  },
  {
   "cell_type": "markdown",
   "metadata": {},
   "source": [
    "For example, let's say we have two classes, Class 1 and Class 2, with class sizes of 10 and 1,000 respectively. If 10 students from each class earn a perfect score on a test, we can tell that there is a significant difference between Class 1 and Class 2's performances. However, both classes had the same number of perfect test scores when we look at the raw numbers. In order to better portray this, we want to work with relative numbers.\n",
    "\n",
    "Let's see how this would look with the data table `classes`."
   ]
  },
  {
   "cell_type": "code",
   "execution_count": null,
   "metadata": {
    "scrolled": true
   },
   "outputs": [],
   "source": [
    "# EXAMPLE\n",
    "\n",
    "classes = pd.DataFrame([[\"A\", 10, 10], [\"B\", 0, 900], [\"C\", 0, 90]], \n",
    "                       columns=[\"Grade\", \"Class 1\", \"Class 2\"])\n",
    "classes = classes.set_index(\"Grade\")\n",
    "classes"
   ]
  },
  {
   "cell_type": "markdown",
   "metadata": {},
   "source": [
    "If we were to only look at the data associated with \"A\" grades, we would not know that Class 1 is performing better than Class 2. Instead, we see that both classes had the same number of scores."
   ]
  },
  {
   "cell_type": "code",
   "execution_count": null,
   "metadata": {},
   "outputs": [],
   "source": [
    "# EXAMPLE\n",
    "\n",
    "classes.loc[\"A\"]"
   ]
  },
  {
   "cell_type": "markdown",
   "metadata": {},
   "source": [
    "In order to normalize the data, we could divide our `Class 1` data by the total number of students in `Class 1` and our `Class 2` data by the total number of students in `Class 2`. This tells us what **proportion** of students received a perfect score instead of what **number** of students did."
   ]
  },
  {
   "cell_type": "code",
   "execution_count": null,
   "metadata": {},
   "outputs": [],
   "source": [
    "# EXAMPLE\n",
    "\n",
    "num_students_1 = sum(classes.iloc[:, 0]) #taking the sum of column 0, Class 1\n",
    "num_students_2 = sum(classes.iloc[:, 1]) #taking the sum of column 1, Class 2\n",
    "\n",
    "classes[\"Class 1\"] = classes[\"Class 1\"]/num_students_1 #Divide Class 1 data by the total number of students in Class 1\n",
    "classes[\"Class 2\"] = classes[\"Class 2\"]/num_students_2 #Divide Class 2 data by the total number of students in Class 2\n",
    "\n",
    "print(\"# of students in Class 1: \" + str(num_students_1))\n",
    "print(\"# of students in Class 2: \" + str(num_students_2))\n",
    "\n",
    "classes"
   ]
  },
  {
   "cell_type": "markdown",
   "metadata": {},
   "source": [
    "Now, if we only look at the data associated with \"A\" grades, we can see the difference between Class 1 scores and Class 2 scores."
   ]
  },
  {
   "cell_type": "code",
   "execution_count": null,
   "metadata": {},
   "outputs": [],
   "source": [
    "# EXAMPLE\n",
    "\n",
    "classes.loc[\"A\"]"
   ]
  },
  {
   "cell_type": "markdown",
   "metadata": {
    "id": "MM7NkyidYRx-"
   },
   "source": [
    "## 2. Normalization By Read Depth <a id='section2'>"
   ]
  },
  {
   "cell_type": "markdown",
   "metadata": {},
   "source": [
    "Let's apply this logic to our genomics data. Here, our columns are experiment conditions, and our rows are specific genes. It is possible that a condition has the fewest counts for all genes because the sample actually \"turns on\" fewer genes than other conditions, but it is also possible that the condition had fewer counts overall. In order to analyze this, we need to find out how many counts were obtained across all genes under a specific condition.\n",
    "\n",
    "Let's define what we will be working with.\n",
    "- **reads:** the # of genes that \"turned on\" (ie. the values in our data)\n",
    "- **read depth:** the total # of reads across *all* genes under a specific condition"
   ]
  },
  {
   "cell_type": "markdown",
   "metadata": {},
   "source": [
    "**Consider this oversimplification of our `rna_data` table.** For fictional gene Cz1, we see that high light (HL) conditions produce more reads than medium light (ML) conditions. However, when compared to other genes, we notice that the relative reads are larger under the `ML` condition than under the `HL` condition."
   ]
  },
  {
   "cell_type": "code",
   "execution_count": null,
   "metadata": {},
   "outputs": [],
   "source": [
    "# EXAMPLE\n",
    "\n",
    "simple_rna = pd.DataFrame([[\"Cz1\", 50, 20], [\"Cz2\", 100, 1], [\"Cz3\", 100, 1]], \n",
    "                       columns=[\"Gene\", \"HL\", \"ML\"])\n",
    "simple_rna = simple_rna.set_index(\"Gene\")\n",
    "simple_rna"
   ]
  },
  {
   "cell_type": "markdown",
   "metadata": {},
   "source": [
    "Let's write some code that calculates the read depths of all experiment conditions/samples.\n",
    "\n",
    "- Create an empty list of read depths called `read_depths`.\n",
    "- Create a for loop (see notebook 04) that goes through each experiment condition (i.e. each sample):\n",
    "    - Calculate the read depth by finding the total number of reads across all genes in one column. Store it in the variable `one_read_depth`.\n",
    "    - Add the variable `one_read_depth` to our list, `read_depths`.\n",
    "    \n",
    "Looking back at the classes example earlier, this is synonymous to calculating all of our class sizes."
   ]
  },
  {
   "cell_type": "code",
   "execution_count": null,
   "metadata": {
    "colab": {
     "base_uri": "https://localhost:8080/",
     "height": 54
    },
    "id": "fFgRp0wLaaIk",
    "outputId": "1c85e556-f250-4f94-bf0f-ff127b7e3ca0"
   },
   "outputs": [],
   "source": [
    "# EXERCISE\n",
    "\n",
    "read_depths = []\n",
    "num_samples = len(rna_data.columns)\n",
    "\n",
    "for i in range(...):\n",
    "    one_read_depth = ...\n",
    "    read_depths.append(...)\n",
    "\n",
    "print(\"These are the read depths of all samples:\")\n",
    "print(read_depths)"
   ]
  },
  {
   "cell_type": "markdown",
   "metadata": {
    "id": "nCnGao-t6OaP"
   },
   "source": [
    "Now make a scatter plot (see notebook 08) that shows the range of read depths across all samples. \n",
    "\n",
    "We want the x-axis to be the different samples (i.e. the column labels) and the y-axis to be the read depths corresponding to those samples."
   ]
  },
  {
   "cell_type": "code",
   "execution_count": null,
   "metadata": {
    "colab": {
     "base_uri": "https://localhost:8080/",
     "height": 290
    },
    "id": "KhEG8hy76VDk",
    "outputId": "5a9bf0f9-7ea7-4588-a39d-8a3b7c27192f",
    "scrolled": true
   },
   "outputs": [],
   "source": [
    "# EXERCISE\n",
    "\n",
    "x_data = ...\n",
    "y_data = ...\n",
    "\n",
    "plt.scatter(x_data, y_data)\n",
    "plt.title(\"Samples vs. Read Depth\")\n",
    "plt.xlabel(\"Samples\")\n",
    "plt.ylabel(\"Read Depth\")\n",
    "plt.xticks(rotation=90);"
   ]
  },
  {
   "cell_type": "markdown",
   "metadata": {},
   "source": [
    "***Checkpoint:*** *If you did it correctly, your plot should look like this:*\n",
    "<img src = \"images/genomics2_output1.png\" width=\"400\">"
   ]
  },
  {
   "cell_type": "markdown",
   "metadata": {},
   "source": [
    "Through this visualization, you can see that the read depth differs by a large amount under different conditions and samples. This is like how our class sizes differed, so it is a good thing that we have decided to normalize our data!"
   ]
  },
  {
   "cell_type": "markdown",
   "metadata": {},
   "source": [
    "Now let's create a function (see notebook 01) that normalizes the data in our `rna_data` table. Write some code that calculates relative reads based on read depths. \n",
    "\n",
    "For reference, we have provided the normalization of our example dataframe `simple_rna` by read depth below. You can see that to normalize our data, we divide the dataframe by the list `simple_read_depths`, which contain the read depths (the total # of gene counts) for each column."
   ]
  },
  {
   "cell_type": "code",
   "execution_count": null,
   "metadata": {},
   "outputs": [],
   "source": [
    "# EXAMPLE\n",
    "\n",
    "simple_read_depths = [250, 22]\n",
    "\n",
    "simple_rna_by_read_depth = simple_rna / simple_read_depths\n",
    "simple_rna_by_read_depth"
   ]
  },
  {
   "cell_type": "code",
   "execution_count": null,
   "metadata": {},
   "outputs": [],
   "source": [
    "# EXERCISE\n",
    "\n",
    "def normalizeByReadDepth(data, read_depth_list):\n",
    "    return ..."
   ]
  },
  {
   "cell_type": "markdown",
   "metadata": {},
   "source": [
    "Now that we have a function that normalizes by read depth (the total # of gene counts), we can normalize `rna_data` by read depth. Recall that we calculated the read depths of all experiment conditions/samples and stored it in a list called `read_depths`. Now, use `rna_data` and `read_depths` with our new function to get a normalized data table:"
   ]
  },
  {
   "cell_type": "code",
   "execution_count": null,
   "metadata": {
    "scrolled": true
   },
   "outputs": [],
   "source": [
    "# EXERCISE\n",
    "\n",
    "rna_by_read_depth = #Call your function here\n",
    "\n",
    "rna_by_read_depth.head()"
   ]
  },
  {
   "cell_type": "markdown",
   "metadata": {},
   "source": [
    "Because each value is a proportion, the values under each column should each sum up to 1. Let's verify that."
   ]
  },
  {
   "cell_type": "code",
   "execution_count": null,
   "metadata": {},
   "outputs": [],
   "source": [
    "column_totals = []\n",
    "\n",
    "for i in range(num_samples): \n",
    "    one_column_total = np.round(sum(rna_by_read_depth.iloc[:, i])) \n",
    "    column_totals.append(one_column_total)\n",
    "\n",
    "print(\"These are sums of all columns:\")\n",
    "print(column_totals)"
   ]
  },
  {
   "cell_type": "markdown",
   "metadata": {},
   "source": [
    "Let's visualize our column totals once again. Previously, our column totals were our read depths, because they were the sum of all reads under a certain condition/sample. Now, our data is in relative reads (i.e. proportions), so our column totals should all be lined up at 1."
   ]
  },
  {
   "cell_type": "code",
   "execution_count": null,
   "metadata": {},
   "outputs": [],
   "source": [
    "x_data = rna_data.columns\n",
    "y_data = column_totals\n",
    "\n",
    "plt.scatter(x_data, y_data)\n",
    "plt.title(\"Samples vs. Column Total\")\n",
    "plt.xlabel(\"Samples\")\n",
    "plt.ylabel(\"Column Total\")\n",
    "plt.xticks(rotation=90);"
   ]
  },
  {
   "cell_type": "markdown",
   "metadata": {},
   "source": [
    "***Checkpoint:*** *If you did it correctly, your plot should look like this:*\n",
    "<img src = \"images/genomics2_output2.png\" width=\"400\">"
   ]
  },
  {
   "cell_type": "markdown",
   "metadata": {},
   "source": [
    "Now, our various conditions/samples are all on the same \"scale\", so it will be easier to compare between different light conditions and samples.\n",
    "\n",
    "To verify this, let's compare the data for gene `Cz01g00040` before and after normalizating by read depth."
   ]
  },
  {
   "cell_type": "markdown",
   "metadata": {},
   "source": [
    "## 3. Checking the Effect of Normalization<a id='section3'>"
   ]
  },
  {
   "cell_type": "markdown",
   "metadata": {},
   "source": [
    "Create a plot that shows reads for only gene `Cz01g00040` in the dataframe `rna_data`. Each row corresponds to a specific gene, so you will need to access the `Cz01g00040` row in the table (hint: use `loc` - see notebook 07). \n",
    "\n",
    "Going back to our classes example, this visualization would be similar to plotting the raw grade counts for the `classes` data (i.e. it will not show the relative differences)."
   ]
  },
  {
   "cell_type": "code",
   "execution_count": null,
   "metadata": {},
   "outputs": [],
   "source": [
    "# EXERCISE\n",
    "\n",
    "x_data = ...\n",
    "y_data = ...\n",
    "\n",
    "plt.scatter(x_data, y_data)\n",
    "plt.title(\"Samples vs. CZ01g00040 Reads\")\n",
    "plt.xlabel(\"Samples\")\n",
    "plt.ylabel(\"CZ01g00040 Reads\")\n",
    "plt.xticks(rotation=90);"
   ]
  },
  {
   "cell_type": "markdown",
   "metadata": {},
   "source": [
    "**Question 1** What is the scale of `Cz01g00040` reads? How much larger is the highest read compared to the lowest read? Is there a pattern or trend in the visualization?"
   ]
  },
  {
   "cell_type": "markdown",
   "metadata": {},
   "source": [
    "*Your answer here*"
   ]
  },
  {
   "cell_type": "markdown",
   "metadata": {},
   "source": [
    "Now let's look at the normalized reads for gene `Cz01g00040` in the normalized dataframe `rna_by_read_depth`. Once again, `Cz01g00040` is a row in our table whose data you need to access using `loc`. This visualization shows the normalized reads of this gene, so it accounts for the total number of reads each condition produced."
   ]
  },
  {
   "cell_type": "code",
   "execution_count": null,
   "metadata": {},
   "outputs": [],
   "source": [
    "# EXERCISE\n",
    "\n",
    "x_data = ...\n",
    "y_data = ...\n",
    "\n",
    "plt.scatter(x_data, y_data)\n",
    "plt.title(\"Samples vs. Normalized CZ01g00040 Reads\")\n",
    "plt.xlabel(\"Samples\")\n",
    "plt.ylabel(\"Normalized CZ01g00040 Reads\")\n",
    "plt.xticks(rotation=90);"
   ]
  },
  {
   "cell_type": "markdown",
   "metadata": {},
   "source": [
    "**Question 2** What is the scale of normalized `Cz01g00040` reads? How much larger is the highest read compared to the lowest read? Is there a pattern or trend in the visualization? Did it change from the previous visualization?"
   ]
  },
  {
   "cell_type": "markdown",
   "metadata": {},
   "source": [
    "*Your answer here*"
   ]
  },
  {
   "cell_type": "markdown",
   "metadata": {},
   "source": [
    "Recall that we have normalized the data such that the table's values represent the reads (or gene counts) relative to the total reads (or read depth) based on the corresponding experiment conditions and sample number. As an example, we saw how gene `Cz01g00040`'s data pattern became more clear after normalization.\n",
    "\n",
    "Even though this made our data easier to analyze, we can still do more normalization to aide the interpretation of our data."
   ]
  },
  {
   "cell_type": "markdown",
   "metadata": {},
   "source": [
    "When we normalized by read depth, we normalized by column. More specifically, we took the totals of each column and represented each data value as a proportion of each total. In order to improve our analysis, we can also do normalization by row."
   ]
  },
  {
   "cell_type": "markdown",
   "metadata": {},
   "source": [
    "**Question 3** What does each row represent? What characteristics do genes have? What do you think we could do normalization by?"
   ]
  },
  {
   "cell_type": "markdown",
   "metadata": {},
   "source": [
    "*Your answer here*"
   ]
  },
  {
   "cell_type": "markdown",
   "metadata": {},
   "source": [
    "## 4. Transposing Data<a id='section4'>"
   ]
  },
  {
   "cell_type": "markdown",
   "metadata": {},
   "source": [
    "Before we can normalize by row, we need to go over the concept of transposing data. Recall that normalizing by column consisted of dividing our columns by the sum of each column. We did this by dividing the dataframe by a list that contained the column sums. \n",
    "\n",
    "Unfortunately, computers can only divide columns by arrays/lists and cannot divide rows by arrays/lists. In order to account for this, we can transpose our data -- flip our data table such that the rows are columns and the columns are rows. After normalizing our columns, we can transpose our data again, so that our columns are back to being rows."
   ]
  },
  {
   "cell_type": "markdown",
   "metadata": {},
   "source": [
    "<img src=\"images/transpose.png\" width=\"500\">\n",
    "\n",
    "*Image credit: w3resource*"
   ]
  },
  {
   "cell_type": "markdown",
   "metadata": {},
   "source": [
    "Let's first take a look at the `classes` data table that we worked with previously. "
   ]
  },
  {
   "cell_type": "code",
   "execution_count": null,
   "metadata": {},
   "outputs": [],
   "source": [
    "# EXAMPLE\n",
    "\n",
    "classes = pd.DataFrame([[\"A\", 10, 10], [\"B\", 0, 900], [\"C\", 0, 90]], \n",
    "                       columns=[\"Grade\", \"Class 1\", \"Class 2\"])\n",
    "classes = classes.set_index(\"Grade\")\n",
    "classes"
   ]
  },
  {
   "cell_type": "markdown",
   "metadata": {},
   "source": [
    "Try using the function `np.transpose()` so that the `classes` table has the following structure.\n",
    "- Columns: \"Grade\", \"A\", \"B\", \"C\"\n",
    "- Rows: \"Class 1\", \"Class 2\""
   ]
  },
  {
   "cell_type": "code",
   "execution_count": null,
   "metadata": {},
   "outputs": [],
   "source": [
    "classes_by_grade = np.transpose(classes)\n",
    "classes_by_grade"
   ]
  },
  {
   "cell_type": "markdown",
   "metadata": {},
   "source": [
    "Now we can perform normalization just like before. To do this, divide the transposed dataframe by the totals for each grade (A, B, C).\n",
    "\n",
    "Note that these values should *not* be the same as the normalized values from [section 1](#section1)"
   ]
  },
  {
   "cell_type": "code",
   "execution_count": null,
   "metadata": {},
   "outputs": [],
   "source": [
    "# EXERCISE\n",
    "\n",
    "grade_totals = [20, 900, 90]\n",
    "\n",
    "classes_by_grade_shares = classes_by_grade / grade_totals\n",
    "classes_by_grade_shares"
   ]
  },
  {
   "cell_type": "markdown",
   "metadata": {},
   "source": [
    "Now we will apply `np.transpose()` once again and update our `classes` dataframe:"
   ]
  },
  {
   "cell_type": "code",
   "execution_count": null,
   "metadata": {},
   "outputs": [],
   "source": [
    "classes = np.transpose(classes_by_grade_shares)\n",
    "\n",
    "classes"
   ]
  },
  {
   "cell_type": "markdown",
   "metadata": {},
   "source": [
    "Altogether, the whole process (denoted below) normalizes our original table, `classes`, by row.\n",
    "\n",
    "1. Transpose the table so that the rows are columns and the columns are rows.\n",
    "2. Do column division by an array/list.\n",
    "3. Transpose the table again so that the structure is the same as the original table."
   ]
  },
  {
   "cell_type": "markdown",
   "metadata": {},
   "source": [
    "## 5. Normalization by Gene Length <a id='section5'>"
   ]
  },
  {
   "cell_type": "markdown",
   "metadata": {},
   "source": [
    "Now you know how to apply normalization by row. Let's think about *what* we want to normalize by. Each row represents a specific gene, so it might be worthwhile to consider the length of a gene. Different genes have different lengths, so let's check out the lengths of our genes."
   ]
  },
  {
   "cell_type": "markdown",
   "metadata": {},
   "source": [
    "In the cell below, load the information we have on each gene via the \"gene_info.info\" file (located in the data folder). Like the original `rna_data` table, this file is separated by tabs instead of commas. Indicate this in your function call with the argument `sep=...`.\n",
    "\n",
    "*Hint*: if you forgot what to put in the ellipses (...), check what you did in the first genomics notebook!"
   ]
  },
  {
   "cell_type": "code",
   "execution_count": null,
   "metadata": {},
   "outputs": [],
   "source": [
    "# EXERCISE\n",
    "\n",
    "gene_info = pd.read_csv('...', sep=..., index_col=0)\n",
    "\n",
    "gene_info.head()"
   ]
  },
  {
   "cell_type": "markdown",
   "metadata": {},
   "source": [
    "***Checkpoint:*** Check with your peers that you all read in the \"gene_info.info\" file correctly by making sure that everyone has the same output from the above cell."
   ]
  },
  {
   "cell_type": "markdown",
   "metadata": {},
   "source": [
    "This data table gives us a lot of interesting information! First, our index is `geneID`, which seems similar to our `tracking_id` column in `rna_data`. The column `chrom` tells us what chromosome the gene can be found on, and the columns `start` and `stop` tell us where the gene begins and ends on that chromosome. Finally, `length` refers to how long that specific gene is.\n",
    "\n",
    "The last column would be the most useful to us for row normalization. Genes that are of longer lengths may produce more reads than those of shorter lengths, so we need to take that into account. Let's normalize the dataframe `rna_by_read_depth` by each row's gene length."
   ]
  },
  {
   "cell_type": "markdown",
   "metadata": {},
   "source": [
    "First though we have to check whether or not the gene IDs of `gene_info` are in the same order as the gene IDs in `rna_by_read_depth`. Do this in the next cell and keep in mind that the gene IDs of both data tables are the table indices.\n",
    "\n",
    "1. Get the indices of both tables (by using `.index`) and assign them them to `gene_info_ids` and `rna_data_ids`.\n",
    "2. Compare the gene ID arrays using a boolean statement.\n",
    "3. Count how many indices match up.\n",
    "    - Recall that 'True' = 1 and 'False' = 0. You can use the `sum()` function.\n",
    "4. Verify that the number of matching gene IDs is the number of genes in the `rna_by_read_depth` table."
   ]
  },
  {
   "cell_type": "code",
   "execution_count": null,
   "metadata": {},
   "outputs": [],
   "source": [
    "# EXERCISE\n",
    "\n",
    "gene_info_ids = gene_info....\n",
    "rna_data_ids = rna_by_read_depth....\n",
    "\n",
    "matches = (... == ...)\n",
    "num_matches = sum(...)\n",
    "\n",
    "rna_data_num_rows = len(...)\n",
    "same_order = (num_matches == rna_data_num_rows)\n",
    "\n",
    "print(\"The gene IDs are in the same order as the tracking IDs: \" + str(same_order))"
   ]
  },
  {
   "cell_type": "markdown",
   "metadata": {},
   "source": [
    "Based on the above statement, we can see that the gene ID columns are in the same order for `gene_info` and `rna_by_read_depth`. This means we can take the `length` information from `gene_info` with full confidence that it will be in the same order as the corresponding genes in `rna_data`. \n",
    "\n",
    "Let's store that in the variable `gene_lengths` in the next cell:"
   ]
  },
  {
   "cell_type": "code",
   "execution_count": null,
   "metadata": {},
   "outputs": [],
   "source": [
    "# EXERCISE\n",
    "\n",
    "gene_lengths = gene_info[\"...\"]"
   ]
  },
  {
   "cell_type": "markdown",
   "metadata": {},
   "source": [
    "Let's take a quick peek at the gene lengths of the first 100 genes!"
   ]
  },
  {
   "cell_type": "code",
   "execution_count": null,
   "metadata": {},
   "outputs": [],
   "source": [
    "x_data = rna_by_read_depth.index[0:100]\n",
    "y_data = gene_lengths[0:100]\n",
    "\n",
    "plt.bar(x_data, y_data)\n",
    "plt.title(\"Genes vs. Gene Length\")\n",
    "plt.xlabel(\"Genes\")\n",
    "plt.ylabel(\"Length\");"
   ]
  },
  {
   "cell_type": "markdown",
   "metadata": {},
   "source": [
    "Wow! Gene lengths vary by a lot, and these are only the first 100 gene lengths! Once again, it is a good thing we have decided to normalize our data to account for this variability in gene lengths. \n",
    "\n",
    "Let's create a function to normalizes `rna_by_read_depth` by rows. Looking back at [section 4](#section4), recall the steps are as follows:\n",
    "1. Transpose the table so that the rows are columns and the columns are rows.\n",
    "2. Do column division by an array/list.\n",
    "3. Transpose the table again so that the structure is the same as the original table."
   ]
  },
  {
   "cell_type": "code",
   "execution_count": null,
   "metadata": {
    "id": "MGPREFlrfU2I"
   },
   "outputs": [],
   "source": [
    "# EXERCISE\n",
    "\n",
    "def normalizeByGene(data, gene_length_list):\n",
    "    ...\n",
    "    return ..."
   ]
  },
  {
   "cell_type": "markdown",
   "metadata": {},
   "source": [
    "Well done! We now have a function that normalizes by row and an array of values that we would like to normalize by. In the next cell, let's normalize `rna_by_read_depth` by `gene_lengths`. \n",
    "\n",
    "You might notice that the numbers are incredibly small. Recall that these values are gene reads as proportions of their gene lengths as well as gene reads as proportions of all samples' total reads. "
   ]
  },
  {
   "cell_type": "code",
   "execution_count": null,
   "metadata": {},
   "outputs": [],
   "source": [
    "# EXERCISE\n",
    "\n",
    "rna_by_gene_len = normalizeByGene(..., ...)\n",
    "rna_by_gene_len.head()"
   ]
  },
  {
   "cell_type": "markdown",
   "metadata": {},
   "source": [
    "***Checkpoint:*** *Your output should look similar to the following:*\n",
    "<img src = \"images/genomics2_output3.png\">"
   ]
  },
  {
   "cell_type": "markdown",
   "metadata": {},
   "source": [
    "### What effect did normalization have?"
   ]
  },
  {
   "cell_type": "markdown",
   "metadata": {},
   "source": [
    "Let's see how our data changed for gene `Cz01g00040` after normalizing the data by gene lengths."
   ]
  },
  {
   "cell_type": "markdown",
   "metadata": {},
   "source": [
    "Once again, let's create a plot that visualizes the normalized reads for `Cz01g00040` in `rna_by_read_depth`. Remember that `rna_by_read_depth` is our data normalized by read depths *only*."
   ]
  },
  {
   "cell_type": "code",
   "execution_count": null,
   "metadata": {},
   "outputs": [],
   "source": [
    "x_data = rna_by_read_depth.columns\n",
    "y_data = rna_by_read_depth.loc[\"Cz01g00040\", :]\n",
    "\n",
    "plt.scatter(x_data, y_data)\n",
    "plt.title(\"Samples vs. Normalized CZ01g00040 (Read Depth)\")\n",
    "plt.xlabel(\"Samples\")\n",
    "plt.ylabel(\"Normalized CZ01g00040 Reads\")\n",
    "plt.xticks(rotation=90);"
   ]
  },
  {
   "cell_type": "markdown",
   "metadata": {},
   "source": [
    "In this next cell, you should visualize the normalized reads for `Cz01g00040` in `rna_by_gene_len`. This is the data from the previous visualization normalized by gene lengths. "
   ]
  },
  {
   "cell_type": "code",
   "execution_count": null,
   "metadata": {},
   "outputs": [],
   "source": [
    "# EXERCISE\n",
    "\n",
    "x_data = ...\n",
    "y_data = ...\n",
    "\n",
    "plt.scatter(x_data, y_data)\n",
    "plt.title(\"Samples vs. Normalized CZ01g00040 (Read Depth, Gene Length)\")\n",
    "plt.xlabel(\"Samples\")\n",
    "plt.ylabel(\"Normalized CZ01g00040 Reads\")\n",
    "plt.xticks(rotation=90);"
   ]
  },
  {
   "cell_type": "markdown",
   "metadata": {},
   "source": [
    "**Question 1** How did the visualization change after the data was normalized by gene length? Did the pattern change? Did the scale of normalized `Cz01g00040` reads change? How much larger is the highest read compared to the lowest read?"
   ]
  },
  {
   "cell_type": "markdown",
   "metadata": {},
   "source": [
    "*Your answer here*"
   ]
  },
  {
   "cell_type": "markdown",
   "metadata": {},
   "source": [
    "**Question 2** The changes that occurred may not seem too drastic in the visualization. However, they are still important. Why might that be? *Hint: Look back at your genes vs. gene length graph*"
   ]
  },
  {
   "cell_type": "markdown",
   "metadata": {},
   "source": [
    "*Your answer here*"
   ]
  },
  {
   "cell_type": "markdown",
   "metadata": {},
   "source": [
    "To finish off this notebook, let's save our progress by using the `.to_csv()` function to save the dataframe `rna_by_gene_len`, as \"rna_normalized.csv\" in the data folder."
   ]
  },
  {
   "cell_type": "code",
   "execution_count": null,
   "metadata": {},
   "outputs": [],
   "source": [
    "# EXERCISE\n",
    "\n",
    "rna_by_gene_len.to_csv(\"...\")"
   ]
  },
  {
   "cell_type": "markdown",
   "metadata": {},
   "source": [
    "Notebook developed by: Sharon Greenblum, Ciara Acosta, Kseniya Usovich, Alisa Bettale"
   ]
  }
 ],
 "metadata": {
  "colab": {
   "collapsed_sections": [],
   "name": "Copy of RNAseq_tutorial_python.ipynb",
   "provenance": []
  },
  "kernelspec": {
   "display_name": "Python 3",
   "language": "python",
   "name": "python3"
  },
  "language_info": {
   "codemirror_mode": {
    "name": "ipython",
    "version": 3
   },
   "file_extension": ".py",
   "mimetype": "text/x-python",
   "name": "python",
   "nbconvert_exporter": "python",
   "pygments_lexer": "ipython3",
   "version": "3.8.8"
  }
 },
 "nbformat": 4,
 "nbformat_minor": 1
}
